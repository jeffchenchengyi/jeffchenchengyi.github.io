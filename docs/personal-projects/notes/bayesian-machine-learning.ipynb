{
 "cells": [
  {
   "cell_type": "markdown",
   "id": "54837667",
   "metadata": {},
   "source": [
    "# Bayesian Machine Learning"
   ]
  },
  {
   "cell_type": "markdown",
   "id": "26707f8c",
   "metadata": {},
   "source": [
    "By: Chengyi (Jeff) Chen"
   ]
  },
  {
   "cell_type": "markdown",
   "id": "6d22a48a",
   "metadata": {},
   "source": [
    "---\n",
    "## Introduction"
   ]
  },
  {
   "cell_type": "markdown",
   "id": "db6d2b6b",
   "metadata": {},
   "source": [
    "The purpose of these sets of notes is to connect ideas crossing the realms of frequentist, bayesian statistics / machine learning vernacular. Starting from first principles, we ask: \"What are we even trying to do in machine learning?\" Before we distinguish between supervised, unsupervised, semi-supervised learning, here's the general ML setting:\n",
    "\n",
    "Given: A set of observed training data $D = \\{ \\mathbf{x}_1, \\mathbf{x}_2, \\mathbf{x}_3, \\ldots \\mathbf{x}_N \\}$ as independent samples generated from a true data distribution $f(\\mathbf{x})$"
   ]
  },
  {
   "cell_type": "markdown",
   "id": "4499ab57",
   "metadata": {},
   "source": [
    "---\n",
    "## MLE Vs. MAP Vs. Full Bayesian "
   ]
  },
  {
   "cell_type": "markdown",
   "id": "6369266f",
   "metadata": {},
   "source": []
  },
  {
   "cell_type": "markdown",
   "id": "4046f258",
   "metadata": {},
   "source": [
    "Objective:\n",
    "\n",
    "\\begin{align}\n",
    "    \n",
    "\\end{align}"
   ]
  },
  {
   "cell_type": "markdown",
   "id": "29125d5d",
   "metadata": {},
   "source": [
    "Specifically in [Pyro](https://pyro.ai/examples/mle_map.html), to get MLE estimates of $\\theta$, simply declare $\\theta$ as a fixed parameter using `.param` in the `model` and have an empty `guide` (variational distribution). To get MAP estimates instead, declare $\\theta$ just like a regular latent random variable by `.sample` in the `model`, but in the `guide`, declare $\\theta$ as being drawn from a dirac delta function."
   ]
  },
  {
   "cell_type": "markdown",
   "id": "3639b90e",
   "metadata": {},
   "source": [
    "### Parameter Learning / Inference"
   ]
  },
  {
   "cell_type": "markdown",
   "id": "d67097b1",
   "metadata": {},
   "source": [
    "Frequentist: Parameters are fixed\n",
    "\n",
    "Bayesian: Parameters are random variables"
   ]
  },
  {
   "cell_type": "markdown",
   "id": "c1e9214e",
   "metadata": {},
   "source": [
    "We often see \n",
    "\n",
    "https://stats.stackexchange.com/questions/74082/what-is-the-difference-in-bayesian-estimate-and-maximum-likelihood-estimate"
   ]
  },
  {
   "cell_type": "markdown",
   "id": "6938b529",
   "metadata": {},
   "source": [
    "### Parameter Uncertainty"
   ]
  },
  {
   "cell_type": "markdown",
   "id": "6c759aee",
   "metadata": {},
   "source": [
    "Frequentist: Uncertainty is estimated with confidence intervals\n",
    "\n",
    "Bayesian: Uncertainty is estimated with credible intervals"
   ]
  },
  {
   "cell_type": "markdown",
   "id": "3d723d87",
   "metadata": {},
   "source": [
    "### Prediction Intervals"
   ]
  },
  {
   "cell_type": "markdown",
   "id": "b055a0b2",
   "metadata": {},
   "source": [
    "---\n",
    "## Bibliography\n",
    "\n",
    "[1] Stat 231 Lecture 3: MLE, Bayes Learning, and Maximum Entropy - https://slideplayer.com/slide/9502040/"
   ]
  },
  {
   "cell_type": "code",
   "execution_count": null,
   "id": "3dd6e74a",
   "metadata": {},
   "outputs": [],
   "source": []
  }
 ],
 "metadata": {
  "kernelspec": {
   "display_name": "Python [conda env:ml]",
   "language": "python",
   "name": "conda-env-ml-py"
  },
  "language_info": {
   "codemirror_mode": {
    "name": "ipython",
    "version": 3
   },
   "file_extension": ".py",
   "mimetype": "text/x-python",
   "name": "python",
   "nbconvert_exporter": "python",
   "pygments_lexer": "ipython3",
   "version": "3.8.8"
  }
 },
 "nbformat": 4,
 "nbformat_minor": 5
}
