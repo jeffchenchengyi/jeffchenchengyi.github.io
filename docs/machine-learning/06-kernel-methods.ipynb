{
 "cells": [
  {
   "cell_type": "markdown",
   "id": "external-video",
   "metadata": {},
   "source": [
    "# 6. Kernel Methods [Empty]"
   ]
  },
  {
   "cell_type": "code",
   "execution_count": null,
   "id": "thermal-version",
   "metadata": {},
   "outputs": [],
   "source": [
    "%load_ext autotime\n",
    "%load_ext nb_black\n",
    "%matplotlib inline\n",
    "\n",
    "import os\n",
    "from collections import defaultdict\n",
    "import torch\n",
    "import numpy as np\n",
    "import pandas as pd\n",
    "import cvxpy as cp\n",
    "import scipy.stats\n",
    "from scipy import optimize\n",
    "from sympy import *\n",
    "from torch.distributions import constraints\n",
    "import matplotlib.pyplot as plt\n",
    "\n",
    "plt.rcParams[\"figure.dpi\"] = 300\n",
    "plt.rcParams[\"figure.figsize\"] = (16, 12)\n",
    "\n",
    "import pyro\n",
    "import pyro.distributions as dist\n",
    "from pyro import poutine\n",
    "from pyro.infer.autoguide import AutoDelta\n",
    "from pyro.optim import Adam\n",
    "from pyro.infer import SVI, TraceEnum_ELBO, config_enumerate, infer_discrete\n",
    "\n",
    "smoke_test = \"CI\" in os.environ\n",
    "assert pyro.__version__.startswith(\"1.5.1\")\n",
    "pyro.enable_validation(True)"
   ]
  },
  {
   "cell_type": "markdown",
   "id": "intermediate-master",
   "metadata": {},
   "source": [
    "---\n",
    "## 6.1. Dual Representations"
   ]
  },
  {
   "cell_type": "markdown",
   "id": "peripheral-difference",
   "metadata": {},
   "source": [
    "---\n",
    "## 6.2. Constructing Kernels"
   ]
  },
  {
   "cell_type": "markdown",
   "id": "otherwise-dryer",
   "metadata": {},
   "source": [
    "---\n",
    "## 6.3. Radial Basis Function Networks"
   ]
  },
  {
   "cell_type": "markdown",
   "id": "cardiac-memory",
   "metadata": {},
   "source": [
    "### 6.3.1 Nadaraya-Watson model"
   ]
  },
  {
   "cell_type": "markdown",
   "id": "current-rebate",
   "metadata": {},
   "source": [
    "---\n",
    "## 6.4. Gaussian Processes"
   ]
  },
  {
   "cell_type": "markdown",
   "id": "favorite-belief",
   "metadata": {},
   "source": [
    "### 6.4.1 Linear regression revisited"
   ]
  },
  {
   "cell_type": "markdown",
   "id": "palestinian-patent",
   "metadata": {},
   "source": [
    "### 6.4.2 Gaussian processes for regression"
   ]
  },
  {
   "cell_type": "markdown",
   "id": "precious-train",
   "metadata": {},
   "source": [
    "### 6.4.3 Learning the hyperparameters"
   ]
  },
  {
   "cell_type": "markdown",
   "id": "enabling-geography",
   "metadata": {},
   "source": [
    "### 6.4.4 Automatic relevance determination"
   ]
  },
  {
   "cell_type": "markdown",
   "id": "perceived-instrumentation",
   "metadata": {},
   "source": [
    "### 6.4.5 Gaussian processes for classification"
   ]
  },
  {
   "cell_type": "markdown",
   "id": "former-brass",
   "metadata": {},
   "source": [
    "### 6.4.6 Laplace approximation"
   ]
  },
  {
   "cell_type": "markdown",
   "id": "essential-adolescent",
   "metadata": {},
   "source": [
    "### 6.4.7 Connection to neural networks"
   ]
  }
 ],
 "metadata": {
  "kernelspec": {
   "display_name": "Python 3",
   "language": "python",
   "name": "python3"
  },
  "language_info": {
   "codemirror_mode": {
    "name": "ipython",
    "version": 3
   },
   "file_extension": ".py",
   "mimetype": "text/x-python",
   "name": "python",
   "nbconvert_exporter": "python",
   "pygments_lexer": "ipython3",
   "version": "3.8.5"
  },
  "latex_envs": {
   "LaTeX_envs_menu_present": true,
   "autoclose": false,
   "autocomplete": true,
   "bibliofile": "biblio.bib",
   "cite_by": "apalike",
   "current_citInitial": 1,
   "eqLabelWithNumbers": true,
   "eqNumInitial": 1,
   "hotkeys": {
    "equation": "Ctrl-E",
    "itemize": "Ctrl-I"
   },
   "labels_anchors": false,
   "latex_user_defs": false,
   "report_style_numbering": false,
   "user_envs_cfg": false
  }
 },
 "nbformat": 4,
 "nbformat_minor": 5
}
