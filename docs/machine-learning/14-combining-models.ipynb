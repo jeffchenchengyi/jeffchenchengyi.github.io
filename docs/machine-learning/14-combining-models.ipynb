{
 "cells": [
  {
   "cell_type": "markdown",
   "id": "external-video",
   "metadata": {},
   "source": [
    "# 14. Combining Models [Empty]"
   ]
  },
  {
   "cell_type": "code",
   "execution_count": null,
   "id": "thermal-version",
   "metadata": {},
   "outputs": [],
   "source": [
    "%load_ext autotime\n",
    "%load_ext nb_black\n",
    "%matplotlib inline\n",
    "\n",
    "import os\n",
    "from collections import defaultdict\n",
    "import torch\n",
    "import numpy as np\n",
    "import pandas as pd\n",
    "import cvxpy as cp\n",
    "import scipy.stats\n",
    "from scipy import optimize\n",
    "from sympy import *\n",
    "from torch.distributions import constraints\n",
    "import matplotlib.pyplot as plt\n",
    "\n",
    "plt.rcParams[\"figure.dpi\"] = 300\n",
    "plt.rcParams[\"figure.figsize\"] = (16, 12)\n",
    "\n",
    "import pyro\n",
    "import pyro.distributions as dist\n",
    "from pyro import poutine\n",
    "from pyro.infer.autoguide import AutoDelta\n",
    "from pyro.optim import Adam\n",
    "from pyro.infer import SVI, TraceEnum_ELBO, config_enumerate, infer_discrete\n",
    "\n",
    "smoke_test = \"CI\" in os.environ\n",
    "assert pyro.__version__.startswith(\"1.5.1\")\n",
    "pyro.enable_validation(True)"
   ]
  },
  {
   "cell_type": "markdown",
   "id": "dimensional-commonwealth",
   "metadata": {},
   "source": [
    "---\n",
    "## 14.1. Bayesian Model Averaging"
   ]
  },
  {
   "cell_type": "markdown",
   "id": "essential-kidney",
   "metadata": {},
   "source": [
    "---\n",
    "## 14.2. Committees"
   ]
  },
  {
   "cell_type": "markdown",
   "id": "exclusive-protection",
   "metadata": {},
   "source": [
    "---\n",
    "## 14.3. Boosting"
   ]
  },
  {
   "cell_type": "markdown",
   "id": "italian-anthropology",
   "metadata": {},
   "source": [
    "### 14.3.1 Minimizing exponential error"
   ]
  },
  {
   "cell_type": "markdown",
   "id": "express-gauge",
   "metadata": {},
   "source": [
    "### 14.3.2 Error functions for boosting"
   ]
  },
  {
   "cell_type": "markdown",
   "id": "cordless-perth",
   "metadata": {},
   "source": [
    "---\n",
    "## 14.4. Tree-based Models"
   ]
  },
  {
   "cell_type": "markdown",
   "id": "willing-pledge",
   "metadata": {},
   "source": [
    "---\n",
    "## 14.5. Conditional Mixture Models"
   ]
  },
  {
   "cell_type": "markdown",
   "id": "adult-evanescence",
   "metadata": {},
   "source": [
    "### 14.5.1 Mixtures of linear regression models"
   ]
  },
  {
   "cell_type": "markdown",
   "id": "competent-storm",
   "metadata": {},
   "source": [
    "### 14.5.2 Mixtures of logistic models"
   ]
  },
  {
   "cell_type": "markdown",
   "id": "billion-necklace",
   "metadata": {},
   "source": [
    "### 14.5.3 Mixtures of experts"
   ]
  }
 ],
 "metadata": {
  "kernelspec": {
   "display_name": "Python 3",
   "language": "python",
   "name": "python3"
  },
  "language_info": {
   "codemirror_mode": {
    "name": "ipython",
    "version": 3
   },
   "file_extension": ".py",
   "mimetype": "text/x-python",
   "name": "python",
   "nbconvert_exporter": "python",
   "pygments_lexer": "ipython3",
   "version": "3.8.5"
  },
  "latex_envs": {
   "LaTeX_envs_menu_present": true,
   "autoclose": false,
   "autocomplete": true,
   "bibliofile": "biblio.bib",
   "cite_by": "apalike",
   "current_citInitial": 1,
   "eqLabelWithNumbers": true,
   "eqNumInitial": 1,
   "hotkeys": {
    "equation": "Ctrl-E",
    "itemize": "Ctrl-I"
   },
   "labels_anchors": false,
   "latex_user_defs": false,
   "report_style_numbering": false,
   "user_envs_cfg": false
  }
 },
 "nbformat": 4,
 "nbformat_minor": 5
}
