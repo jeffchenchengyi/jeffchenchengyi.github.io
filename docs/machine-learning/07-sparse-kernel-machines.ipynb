{
 "cells": [
  {
   "cell_type": "markdown",
   "id": "external-video",
   "metadata": {},
   "source": [
    "# 7. Sparse Kernel Machines [Empty]"
   ]
  },
  {
   "cell_type": "code",
   "execution_count": null,
   "id": "thermal-version",
   "metadata": {},
   "outputs": [],
   "source": [
    "%load_ext autotime\n",
    "%load_ext nb_black\n",
    "%matplotlib inline\n",
    "\n",
    "import os\n",
    "from collections import defaultdict\n",
    "import torch\n",
    "import numpy as np\n",
    "import pandas as pd\n",
    "import cvxpy as cp\n",
    "import scipy.stats\n",
    "from scipy import optimize\n",
    "from sympy import *\n",
    "from torch.distributions import constraints\n",
    "import matplotlib.pyplot as plt\n",
    "\n",
    "plt.rcParams[\"figure.dpi\"] = 300\n",
    "plt.rcParams[\"figure.figsize\"] = (16, 12)\n",
    "\n",
    "import pyro\n",
    "import pyro.distributions as dist\n",
    "from pyro import poutine\n",
    "from pyro.infer.autoguide import AutoDelta\n",
    "from pyro.optim import Adam\n",
    "from pyro.infer import SVI, TraceEnum_ELBO, config_enumerate, infer_discrete\n",
    "\n",
    "smoke_test = \"CI\" in os.environ\n",
    "assert pyro.__version__.startswith(\"1.5.1\")\n",
    "pyro.enable_validation(True)"
   ]
  },
  {
   "cell_type": "markdown",
   "id": "subject-airline",
   "metadata": {},
   "source": [
    "---\n",
    "## 7.1. Maximum Margin Classifiers"
   ]
  },
  {
   "cell_type": "markdown",
   "id": "adult-airplane",
   "metadata": {},
   "source": [
    "### 7.1.1 Overlapping class distributions"
   ]
  },
  {
   "cell_type": "markdown",
   "id": "brief-blowing",
   "metadata": {},
   "source": [
    "### 7.1.2 Relation to logistic regression"
   ]
  },
  {
   "cell_type": "markdown",
   "id": "senior-catalog",
   "metadata": {},
   "source": [
    "### 7.1.3 Multiclass SVMs"
   ]
  },
  {
   "cell_type": "markdown",
   "id": "arbitrary-encoding",
   "metadata": {},
   "source": [
    "### 7.1.4 SVMs for regression"
   ]
  },
  {
   "cell_type": "markdown",
   "id": "hazardous-conditions",
   "metadata": {},
   "source": [
    "### 7.1.5 Computational learning theory"
   ]
  },
  {
   "cell_type": "markdown",
   "id": "strategic-hardware",
   "metadata": {},
   "source": [
    "---\n",
    "## 7.2. Relevance Vector Machines"
   ]
  },
  {
   "cell_type": "markdown",
   "id": "declared-tomorrow",
   "metadata": {},
   "source": [
    "### 7.2.1 RVM for regression"
   ]
  },
  {
   "cell_type": "markdown",
   "id": "planned-landscape",
   "metadata": {},
   "source": [
    "### 7.2.2 Analysis of sparsity"
   ]
  },
  {
   "cell_type": "markdown",
   "id": "animal-familiar",
   "metadata": {},
   "source": [
    "### 7.2.3 RVM for classification"
   ]
  }
 ],
 "metadata": {
  "kernelspec": {
   "display_name": "Python 3",
   "language": "python",
   "name": "python3"
  },
  "language_info": {
   "codemirror_mode": {
    "name": "ipython",
    "version": 3
   },
   "file_extension": ".py",
   "mimetype": "text/x-python",
   "name": "python",
   "nbconvert_exporter": "python",
   "pygments_lexer": "ipython3",
   "version": "3.8.5"
  },
  "latex_envs": {
   "LaTeX_envs_menu_present": true,
   "autoclose": false,
   "autocomplete": true,
   "bibliofile": "biblio.bib",
   "cite_by": "apalike",
   "current_citInitial": 1,
   "eqLabelWithNumbers": true,
   "eqNumInitial": 1,
   "hotkeys": {
    "equation": "Ctrl-E",
    "itemize": "Ctrl-I"
   },
   "labels_anchors": false,
   "latex_user_defs": false,
   "report_style_numbering": false,
   "user_envs_cfg": false
  }
 },
 "nbformat": 4,
 "nbformat_minor": 5
}
