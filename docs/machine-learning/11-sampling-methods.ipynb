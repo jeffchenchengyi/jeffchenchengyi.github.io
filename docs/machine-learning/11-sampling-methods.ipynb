{
 "cells": [
  {
   "cell_type": "markdown",
   "id": "external-video",
   "metadata": {},
   "source": [
    "# 11. Sampling Methods [Empty]"
   ]
  },
  {
   "cell_type": "code",
   "execution_count": null,
   "id": "thermal-version",
   "metadata": {},
   "outputs": [],
   "source": [
    "%load_ext autotime\n",
    "%load_ext nb_black\n",
    "%matplotlib inline\n",
    "\n",
    "import os\n",
    "from collections import defaultdict\n",
    "import torch\n",
    "import numpy as np\n",
    "import pandas as pd\n",
    "import cvxpy as cp\n",
    "import scipy.stats\n",
    "from scipy import optimize\n",
    "from sympy import *\n",
    "from torch.distributions import constraints\n",
    "import matplotlib.pyplot as plt\n",
    "\n",
    "plt.rcParams[\"figure.dpi\"] = 300\n",
    "plt.rcParams[\"figure.figsize\"] = (16, 12)\n",
    "\n",
    "import pyro\n",
    "import pyro.distributions as dist\n",
    "from pyro import poutine\n",
    "from pyro.infer.autoguide import AutoDelta\n",
    "from pyro.optim import Adam\n",
    "from pyro.infer import SVI, TraceEnum_ELBO, config_enumerate, infer_discrete\n",
    "\n",
    "smoke_test = \"CI\" in os.environ\n",
    "assert pyro.__version__.startswith(\"1.5.1\")\n",
    "pyro.enable_validation(True)"
   ]
  },
  {
   "cell_type": "markdown",
   "id": "taken-broad",
   "metadata": {},
   "source": [
    "---\n",
    "## 11.1. Basic Sampling Algorithms"
   ]
  },
  {
   "cell_type": "markdown",
   "id": "hired-accuracy",
   "metadata": {},
   "source": [
    "### 11.1.1 Standard distributions"
   ]
  },
  {
   "cell_type": "markdown",
   "id": "eight-display",
   "metadata": {},
   "source": [
    "### 11.1.2 Rejection sampling"
   ]
  },
  {
   "cell_type": "markdown",
   "id": "silent-surface",
   "metadata": {},
   "source": [
    "### 11.1.3 Adaptive rejection sampling"
   ]
  },
  {
   "cell_type": "markdown",
   "id": "historical-collect",
   "metadata": {},
   "source": [
    "### 11.1.4 Importance sampling"
   ]
  },
  {
   "cell_type": "markdown",
   "id": "accomplished-import",
   "metadata": {},
   "source": [
    "### 11.1.5 Sampling-importance-resampling"
   ]
  },
  {
   "cell_type": "markdown",
   "id": "innovative-breast",
   "metadata": {},
   "source": [
    "### 11.1.6 Sampling and the EM algorithm"
   ]
  },
  {
   "cell_type": "markdown",
   "id": "assigned-brooklyn",
   "metadata": {},
   "source": [
    "---\n",
    "## 11.2. Markov Chain Monte Carlo"
   ]
  },
  {
   "cell_type": "markdown",
   "id": "frozen-tomorrow",
   "metadata": {},
   "source": [
    "### 11.2.1 Markov Chains"
   ]
  },
  {
   "cell_type": "markdown",
   "id": "brief-worry",
   "metadata": {},
   "source": [
    "### 11.2.2 The Metropolis-Hastings algorithm"
   ]
  },
  {
   "cell_type": "markdown",
   "id": "respiratory-straight",
   "metadata": {},
   "source": [
    "---\n",
    "## 11.3. Gibbs Sampling"
   ]
  },
  {
   "cell_type": "markdown",
   "id": "preliminary-carter",
   "metadata": {},
   "source": [
    "---\n",
    "## 11.4. Slice Sampling"
   ]
  },
  {
   "cell_type": "markdown",
   "id": "tutorial-childhood",
   "metadata": {},
   "source": [
    "---\n",
    "## 11.5. The Hybrid Monte Carlo Algorithm"
   ]
  },
  {
   "cell_type": "markdown",
   "id": "criminal-insight",
   "metadata": {},
   "source": [
    "### 11.5.1 Dynamical Systems"
   ]
  },
  {
   "cell_type": "markdown",
   "id": "consolidated-edition",
   "metadata": {},
   "source": [
    "### 11.5.2 Hybrid Monte Carlo"
   ]
  },
  {
   "cell_type": "markdown",
   "id": "divided-wesley",
   "metadata": {},
   "source": [
    "---\n",
    "## 11.6. Estimating the Partition Function"
   ]
  }
 ],
 "metadata": {
  "kernelspec": {
   "display_name": "Python 3",
   "language": "python",
   "name": "python3"
  },
  "language_info": {
   "codemirror_mode": {
    "name": "ipython",
    "version": 3
   },
   "file_extension": ".py",
   "mimetype": "text/x-python",
   "name": "python",
   "nbconvert_exporter": "python",
   "pygments_lexer": "ipython3",
   "version": "3.8.5"
  },
  "latex_envs": {
   "LaTeX_envs_menu_present": true,
   "autoclose": false,
   "autocomplete": true,
   "bibliofile": "biblio.bib",
   "cite_by": "apalike",
   "current_citInitial": 1,
   "eqLabelWithNumbers": true,
   "eqNumInitial": 1,
   "hotkeys": {
    "equation": "Ctrl-E",
    "itemize": "Ctrl-I"
   },
   "labels_anchors": false,
   "latex_user_defs": false,
   "report_style_numbering": false,
   "user_envs_cfg": false
  }
 },
 "nbformat": 4,
 "nbformat_minor": 5
}
