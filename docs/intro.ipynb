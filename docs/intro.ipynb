{
 "cells": [
  {
   "cell_type": "markdown",
   "metadata": {},
   "source": [
    "# Chengyi (Jeff) Chen's Technical Blog / Portfolio"
   ]
  },
  {
   "cell_type": "markdown",
   "metadata": {},
   "source": [
    "```{figure} ./images/header.jpg\n",
    ":name: Chengyi (Jeff) Chen\n",
    "\n",
    "Hi, I'm Jeff and $\\Psi \\Phi$ (pronounced \"sci-fi\") is my technical blog dedicated to connecting seemingly disparate data science concepts.\n",
    "```"
   ]
  },
  {
   "cell_type": "markdown",
   "metadata": {},
   "source": [
    "## Contents"
   ]
  },
  {
   "cell_type": "markdown",
   "metadata": {},
   "source": [
    "### Technical Blog"
   ]
  },
  {
   "cell_type": "markdown",
   "metadata": {},
   "source": [
    "The first part of this site, \"Machine Learning\", seeks to summarize the majority of material from \"Pattern Recognition and Machine Learning\" by Christopher M. Bishop (best resource for learning probabilistic machine learning I can find) and add a few code snippets here and there that'll primarily serve to facilitate my own understanding of the material. The chapters only include skeletons of the topics inside the book right now because I'd recently just revamped my blog, which I'll aim to complete the actual summaries by the end of 2022. Other than the topics in the book, I'll also include a few additional topics I'm interested in such as Contextual Bandits, Genetic Algorithms, and domain-specific topics such as Natural Language Processing and Computer Vision. Overall, my interests lie within the realm of probabilistic machine learning, which all started when I tried to understand Variational Auto-Encoders. "
   ]
  },
  {
   "cell_type": "markdown",
   "metadata": {},
   "source": [
    "### Portfolio"
   ]
  },
  {
   "cell_type": "markdown",
   "metadata": {},
   "source": [
    "The second part of the blog, \"Featured Course Work & Extra-curriculars\" contains some of the important course work that I've enjoyed while completing my Bachelor's in Computer Science and Business Administration and Master's in Analytics from 2017 - 2021. If you're looking for more traditional optimization-related course work, it'll primarily be found inside ISE-530: Optimization Analytics, while some of the more quant-finance-focused course work wiL be found in ISE-537: Financial Analytics, though optimization problems and solutions exist in practically all the course-work I've featured in this blog."
   ]
  },
  {
   "cell_type": "markdown",
   "metadata": {},
   "source": [
    "```{admonition} Key lessons learnt\n",
    ":class: tip\n",
    "\n",
    "- Tree-based models are still the most common go-to solutions for most supervised learning data science problems due to their mass-scalability and high performance.\n",
    "\n",
    "- Deep learning is rarely used outside of niche problems like natural language processing / computer vision, or unless you can prove a significant improvement in performance, accounting for the extra work it'll take to deploy it properly.\n",
    "\n",
    "- Data Scientists that emerge out of using of data science MOOCs and online resources like datacamp, coursera, edx, udacity, udemy, - all of which I've tried - don't generally have great foundation in the math concepts behind machine learning, which isn't a problem when the problems encountered in the industry conform to the normal supervised / unsupervised learning techniques, so make sure you spend time trying to understand the math behind the technqiues you're using!\n",
    "\n",
    "- People that can translate research papers into actual code implementations are gods.\n",
    "```"
   ]
  }
 ],
 "metadata": {
  "kernelspec": {
   "display_name": "Python 3",
   "language": "python",
   "name": "python3"
  },
  "language_info": {
   "codemirror_mode": {
    "name": "ipython",
    "version": 3
   },
   "file_extension": ".py",
   "mimetype": "text/x-python",
   "name": "python",
   "nbconvert_exporter": "python",
   "pygments_lexer": "ipython3",
   "version": "3.8.5"
  },
  "latex_envs": {
   "LaTeX_envs_menu_present": true,
   "autoclose": false,
   "autocomplete": true,
   "bibliofile": "biblio.bib",
   "cite_by": "apalike",
   "current_citInitial": 1,
   "eqLabelWithNumbers": true,
   "eqNumInitial": 1,
   "hotkeys": {
    "equation": "Ctrl-E",
    "itemize": "Ctrl-I"
   },
   "labels_anchors": false,
   "latex_user_defs": false,
   "report_style_numbering": false,
   "user_envs_cfg": false
  }
 },
 "nbformat": 4,
 "nbformat_minor": 2
}
