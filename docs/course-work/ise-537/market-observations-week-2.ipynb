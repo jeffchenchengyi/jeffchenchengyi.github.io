{
 "cells": [
  {
   "cell_type": "markdown",
   "metadata": {},
   "source": [
    "# MO 2: The NASDAQ Whale\n",
    "\n",
    "By: Chengyi (Jeff) Chen"
   ]
  },
  {
   "cell_type": "markdown",
   "metadata": {},
   "source": [
    "Over the weekend, [The Financial Times ](https://www.ft.com/content/75587aa6-1f1f-4e9d-b334-3ff866753fa2) released a piece revealing that SoftBank Group has been buying up 4 billion dollars worth of shares of Apple, Amazon, Microsoft, Tesla and roughly the same amount of out of the money call options. This alone, implies that SoftBank believes that the current tech stock rally will continue on into the future. This move has been described by The Financial Times, Wall Street Journal, CNBC, and other sources to have a substantial contribution to the tech rally we have seen in the past month. From my understanding, the impact proceeds as follows: \n",
    "\n",
    "1. SoftBank purchases 4 billion dollars worth of out of the money (otm) call options\n",
    "\n",
    "2. The counterparty that sells SoftBank these call options in turn, take on a net delta negative position, so in order to delta hedge, they purchase shares of the underlying stock of the call options to reduce the negative delta position\n",
    "\n",
    "3. This in turn creates upward pressure for the underlying tech stock prices which turn the otm call options closer to in the money (itm)\n",
    "\n",
    "4. With an increase in the underlying stock price, and because SoftBank's otm calls have a positive gamma position, delta becomes even more positive\n",
    "\n",
    "5. Because SoftBank's call options have an increasingly positive delta position, the counterparty has to buy even more of the underlying stock to further hedge it's position closer to delta neutral\n",
    "\n",
    "6. This creates a [\"gamma feedback loop\"](https://www.zerohedge.com/markets/classic-feedback-loop-why-everyone-chasing-gamma-crash), repeating events 3 - 5 until the market corrects itself (Still unsure about how this happens - At what point in time will the counterparty decide to sell off the underlying stock / positive delta position investors decide to sell off)\n",
    "\n",
    "The extreme volatility in tech stocks started last Thursday when the markets were down, [attributed to \"profit-taking\"](https://www.marketwatch.com/story/dow-looks-set-to-pull-back-thursday-as-it-closes-in-on-record-ahead-of-jobless-claims-report-2020-09-03), while the Nasdaq tumble on Tuesday September 8th was fuelled by [doubts on whether the COVID-19 infections will resurge in the coming winter months and uncertainty about the US Elections and the US-China economic \"decoupling\"](https://edition.cnn.com/2020/09/08/investing/nasdaq-stock-market-today/index.html). The Nasdaq tumble led to a 10 billion dollar loss in SoftBank's market valuation. It appears to me that there could also be more players like SoftBank that are making dangerous bets on tech stocks through the use of options, without doing their fair share of due diligence on the underlying company - [\"(t)he whole strategy is just momentum buying\"](https://www.ft.com/content/53aa19bb-fc9a-46fd-aafd-4bc3669ab161). The doubt on how big an impact SoftBank had in the tech rally is also supported by this [Bloomberg article](https://www.bloomberg.com/news/articles/2020-09-07/nasdaq-whale-theory-for-tech-stock-surge-is-stirring-doubts), which argues that retail investors could also have contributed to the high volatility in tech stocks. \n",
    "\n",
    "This is only one possible explanation of the tech rally. Others include the [low interest rates from the FED, larger supply of M2, and the prospect of an end date for the pandemic](https://markets.businessinsider.com/news/stocks/stocks-market-outlook-record-highs-disconnect-sharp-economic-decline-why-2020-8-1029492559#). Moving forward, I believe that volatility should continue to rise, especially with Tesla's Battery Day coming up on September 22nd and Apple's Earnings Date in November 4th. Trading strategies could include buying bull call spreads for Tesla expiring just after September 22nd and bull call spreads for Apple expiring just after November 4th, also taking long positions in VXN and the VIX.\n",
    "\n",
    "Resources:\n",
    "- [projectoption's YouTube video: How SoftBank's Billion-Dollar Option Bets Helped Fuel the Stock Market Rally](https://www.youtube.com/watch?v=fm2cnP1ruag)"
   ]
  }
 ],
 "metadata": {
  "kernelspec": {
   "display_name": "Python 3",
   "language": "python",
   "name": "python3"
  },
  "language_info": {
   "codemirror_mode": {
    "name": "ipython",
    "version": 3
   },
   "file_extension": ".py",
   "mimetype": "text/x-python",
   "name": "python",
   "nbconvert_exporter": "python",
   "pygments_lexer": "ipython3",
   "version": "3.8.5"
  },
  "latex_envs": {
   "LaTeX_envs_menu_present": true,
   "autoclose": false,
   "autocomplete": true,
   "bibliofile": "biblio.bib",
   "cite_by": "apalike",
   "current_citInitial": 1,
   "eqLabelWithNumbers": true,
   "eqNumInitial": 1,
   "hotkeys": {
    "equation": "Ctrl-E",
    "itemize": "Ctrl-I"
   },
   "labels_anchors": false,
   "latex_user_defs": false,
   "report_style_numbering": false,
   "user_envs_cfg": false
  }
 },
 "nbformat": 4,
 "nbformat_minor": 4
}
