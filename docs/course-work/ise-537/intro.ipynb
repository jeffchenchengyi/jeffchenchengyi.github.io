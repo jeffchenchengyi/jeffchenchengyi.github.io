{
 "cells": [
  {
   "cell_type": "markdown",
   "id": "internal-retrieval",
   "metadata": {},
   "source": [
    "# ISE-537: Financial Analytics"
   ]
  },
  {
   "cell_type": "markdown",
   "id": "impressed-stockholm",
   "metadata": {},
   "source": [
    "I took the class back in Fall 2020. The course is an extremely good introduction to the world of quantitative finance and in particular, what a quantitative researcher would be doing at a quant fund. We went through the essential theories such as CAPM and its derivation, along with specific concepts such as constructing a pure factor based on Fama-Macbeth regressions, and touching on topics such as Black Litterman Bayesian Portfolio optimization which combines expert prior information into portfolio allocation. I enjoyed the class very much and it inspired me to look at possibilities of a career in quantitative finance instead of purely data science. Overall, great experience and an absolutely excellent Professor Kai Chen."
   ]
  }
 ],
 "metadata": {
  "kernelspec": {
   "display_name": "Python 3",
   "language": "python",
   "name": "python3"
  },
  "language_info": {
   "codemirror_mode": {
    "name": "ipython",
    "version": 3
   },
   "file_extension": ".py",
   "mimetype": "text/x-python",
   "name": "python",
   "nbconvert_exporter": "python",
   "pygments_lexer": "ipython3",
   "version": "3.8.5"
  },
  "latex_envs": {
   "LaTeX_envs_menu_present": true,
   "autoclose": false,
   "autocomplete": true,
   "bibliofile": "biblio.bib",
   "cite_by": "apalike",
   "current_citInitial": 1,
   "eqLabelWithNumbers": true,
   "eqNumInitial": 1,
   "hotkeys": {
    "equation": "Ctrl-E",
    "itemize": "Ctrl-I"
   },
   "labels_anchors": false,
   "latex_user_defs": false,
   "report_style_numbering": false,
   "user_envs_cfg": false
  }
 },
 "nbformat": 4,
 "nbformat_minor": 5
}
