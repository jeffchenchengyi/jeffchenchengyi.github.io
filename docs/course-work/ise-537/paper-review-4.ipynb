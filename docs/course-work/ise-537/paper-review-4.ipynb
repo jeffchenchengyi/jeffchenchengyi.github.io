{
 "cells": [
  {
   "cell_type": "markdown",
   "metadata": {},
   "source": [
    "# Paper Review 4: Size Matters, if You Control Your Junk\n",
    "\n",
    "Overall, the paper reveals that the quality minus junk factor is a confounder in explaining the inconsistent return premia across time and firms of using size factor. Controlling for quality increases the consistency of return premia and eliminates the abnormal returns we see from using size as a factor.\n",
    "\n",
    "By: Chengyi (Jeff) Chen\n",
    "\n",
    "### Table of Contents\n",
    "1. [Data and Preliminary Analysis: Reexamining the Size Anomaly](#1)\n",
    "2. [The Size Effect, Controlling for Junk: Addressing Seven Challenges](#2)\n",
    "3. [Cross-Sectional Interactions with Value and Momentum](#3)"
   ]
  },
  {
   "cell_type": "markdown",
   "metadata": {},
   "source": [
    "### Challenges to the size effect\n",
    "\n",
    "1. Many papers find that the size effect is simply not very significant, producing only a small abnormal return and Sharpe ratio, with marginal statistical significance\n",
    "\n",
    "2. Others have argued that the size effect has disappeared since the early 1980s when it was originally discovered and published (partly contributing to its overall weak effect)\n",
    "\n",
    "3. The size effect appears to be concentrated among only the smallest, microcap stocks.\n",
    "\n",
    "4. Most of the returns related to size seem to occur in January, particularly the first few trading days of the year, and are largely absent the rest of the year.\n",
    "\n",
    "5. Following the original argument of Ball (1978), Berk (1995a) argues that because size is typically measured by market capitalization (price times shares outstanding), which contains market prices, any misspecification in the asset pricing model is likely to show up in a cross-sectional relation between size and returns.\n",
    "\n",
    "6. A host of papers argue and show that size may just be a proxy for a liquidity effect.\n",
    "\n",
    "7. Size anomaly is weak and not very robust in international equity markets, and hence the size effect may possibly be the result of data mining.\n",
    "\n",
    "The paper shows that by controlling for quality, we get much more reliable size premiums."
   ]
  },
  {
   "cell_type": "markdown",
   "metadata": {},
   "source": [
    "---\n",
    "## 1. Data and Preliminary Analysis: Reexamining the Size Anomaly<a id=\"1\"></a>"
   ]
  },
  {
   "cell_type": "markdown",
   "metadata": {},
   "source": [
    "### A. Data\n",
    "\n",
    "<table style=\"width:100%\">\n",
    "    <tr>\n",
    "        <th style=\"text-align:center\">Factor</th>\n",
    "        <th style=\"text-align:center\">Description</th>\n",
    "    </tr>\n",
    "    <tr>\n",
    "        <td style=\"text-align:center\">Size: Small Minus Big</td>\n",
    "        <td style=\"text-align:center\">Equal-weighted average of the three small portfolios minus the equal-weighted average of the three large portfolios from <a href=\"http://mba.tuck.dartmouth.edu/pages/faculty/ken.french/Data_Library/six_portfolios.html\"> Ken French's webpage</a></td>\n",
    "    </tr>\n",
    "    <tr>\n",
    "        <td style=\"text-align:center\">Size: Value-weighted decile portfolios</td>\n",
    "        <td style=\"text-align:center\">Formed by ranking stocks every June by their market capitalization (price times shares outstanding) and forming deciles based on NYSE breakpoints, where the value-weighted average return of each decile is computed monthly from July to June of the following year</td>\n",
    "    </tr>\n",
    "    <tr>\n",
    "        <td style=\"text-align:center\">Value: HML</td>\n",
    "        <td style=\"text-align:center\">Equal-weighted average return of the two value portfolios minus the two growth portfolios from <a href=\"http://mba.tuck.dartmouth.edu/pages/faculty/ken.french/Data_Library/six_portfolios.html\"> Ken French's webpage</a></td>\n",
    "    </tr>\n",
    "    <tr>\n",
    "        <td style=\"text-align:center\">Market: RMRF</td>\n",
    "        <td style=\"text-align:center\">Value-weighted index of all CRSP-listed securities minus the one-month Treasury bill rate</td>\n",
    "    </tr>\n",
    "    <tr>\n",
    "        <td style=\"text-align:center\">Momentum: Up Minus Down</td>\n",
    "        <td style=\"text-align:center\">Equal-weighted average return of the two high prior ($t-12$ ~ $t-2$) return portfolios minus the two low prior return portfolios from <a href=\"https://mba.tuck.dartmouth.edu/pages/faculty/ken.french/Data_Library/det_mom_factor.html\"> Ken French's webpage</a></td>\n",
    "    </tr>\n",
    "    <tr>\n",
    "        <td style=\"text-align:center\">Short-term reversal: STREV</td>\n",
    "        <td style=\"text-align:center\">Equal-weighted average return of the two high prior ($t-1$) return portfolios minus the two low prior return portfolios from <a href=\"http://mba.tuck.dartmouth.edu/pages/faculty/ken.french/Data_Library/det_st_rev_factor.html\"> Ken French's webpage</a></td>\n",
    "    </tr>\n",
    "    <tr>\n",
    "        <td style=\"text-align:center\">Non-price based size portfolios</td>\n",
    "        <td style=\"text-align:center\">Using same methods as the size factors, formed five sets of non-price size portfolios based on book value of assets, book value of equity, sales, property, plant, and equipment (PPE), and number of employees</td>\n",
    "    </tr>\n",
    "    <tr>\n",
    "        <td style=\"text-align:center\">Quality minus junk: QMJ</td>\n",
    "        <td style=\"text-align:center\">\n",
    "            <ol> \n",
    "                <li>\n",
    "                    Partition stocks in each country into 2, Big and Small, using median NYSE Market equity as breakpoint for U.S. and 80th percentile of market equity for International stocks\n",
    "                </li>\n",
    "                <li>\n",
    "                    Further partition each size partition into 3 groups sorted on quality (similar to the Fama-french sorting)\n",
    "                </li>\n",
    "                <li>\n",
    "                    QMJ factor return is the avg return on the 2 high quality portfolios - avg return on the 2 low quality portfolios\n",
    "                </li>\n",
    "            </ol>\n",
    "        </td>\n",
    "    </tr>\n",
    "    <tr>\n",
    "        <td style=\"text-align:center\">Intra-industry portfolios</td>\n",
    "        <td style=\"text-align:center\">SMB portfolios within each of 30 industries</td>\n",
    "    </tr>\n",
    "    <tr>\n",
    "        <td style=\"text-align:center\">Liquidity: Ibbotson, Chen, Kim, and Hu (2013)</td>\n",
    "        <td style=\"text-align:center\">Decile portfolios based on liquidity levels using monthly turnover (number\n",
    "of shares traded divided by shares outstanding)</td>\n",
    "    </tr>\n",
    "    <tr>\n",
    "        <td style=\"text-align:center\">Liquidity: Amihud and Mendelson (1986)</td>\n",
    "        <td style=\"text-align:center\">Bid-ask spread as a percentage of share price following</td>\n",
    "    </tr>\n",
    "    <tr>\n",
    "        <td style=\"text-align:center\">Liquidity: Pastor and Stambaugh (2003)</td>\n",
    "        <td style=\"text-align:center\">Liquidity risk factor-mimicking portfolio</td>\n",
    "    </tr>\n",
    "    <tr>\n",
    "        <td style=\"text-align:center\">International data</td>\n",
    "        <td style=\"text-align:center\">Formed the above factors and portfolios for 23 other developed equity markets</td>\n",
    "    </tr>\n",
    "    <tr>\n",
    "        <td style=\"text-align:center\">Global portfolio</td>\n",
    "        <td style=\"text-align:center\">Long-short portfolios\n",
    "within each country and then compute a global factor by weighting each country’s long-short portfolio by the country’s total (lagged) market capitalization</td>\n",
    "    </tr>\n",
    "</table>"
   ]
  },
  {
   "cell_type": "markdown",
   "metadata": {},
   "source": [
    "### B. Reexamining the evidence on size alone\n",
    "\n",
    "Findings:\n",
    "\n",
    "1. Size effect is relatively weak compared to other anomalies such as value and momentum that each exhibit much stronger and more reliable return premia\n",
    "\n",
    "2. What reliable positive premium exists for size appears to solely reside in January and is absent the rest of the year\n",
    "\n",
    "3. The size effect seems to have disappeared in the 1980s and 1990s following its discovery, but also appears to have made a comeback in the last thirteen years\n",
    "\n",
    "4. Two biggest challenges to the robustness and interpretation of the size effect, where all of the returns to size seem to be coming from the most extreme small stocks in January."
   ]
  },
  {
   "cell_type": "markdown",
   "metadata": {},
   "source": [
    "---\n",
    "## 2. The Size Effect, Controlling for Junk: Addressing Seven Challenges<a id=\"2\"></a>"
   ]
  },
  {
   "cell_type": "markdown",
   "metadata": {},
   "source": [
    "### Challenge 1. The Size effect is not very significant\n",
    "\n",
    "\\begin{align}\n",
    "    SMB_t &= \\alpha + \\beta RMRF_{t} + \\beta_{-1} RMRF_{t-1} + hHML_{t} + mUMD_{t} + qQMJ_{t} + \\epsilon_t\n",
    "\\end{align}\n",
    "\n",
    "- SMB loads very significantly and negatively on QMJ, driving SMB’s alpha from 14 to 49 bps per month that is almost five standard errors from zero (t-stat = 4.89). \n",
    "\n",
    "- The addition of QMJ not only raises significantly the average return to size, but also increases the precision of the SMB premium as well since QMJ explains a substantial fraction of the variation in SMB’s returns. \n",
    "\n",
    "- The R-square rises from 15 to 37 percent with the inclusion of this one additional factor\n",
    "\n",
    "- Hedging SMB for exposure to junk significantly improves returns\n",
    "\n",
    "- For every single industry (of the 30), there is positive improvement in SMB’s returns after controlling for quality/junk, and for most industries the improvement is significant (with significance, of course, harder to achieve in a much smaller sample of firms within a single industry). "
   ]
  },
  {
   "cell_type": "markdown",
   "metadata": {},
   "source": [
    "### Challenge 2. Variation in the size premium over time\n",
    "\n",
    "Repeating the regressions over 3 subsample time periods:\n",
    "\n",
    "1. Golden Age (1957:07-1979:12)\n",
    "\n",
    "- Adding QMJ, however, makes the age \"more golden\" as it more than doubles the alpha to 57 bps with a t-stat of 4.00\n",
    "\n",
    "2. Embarrassment (1980:01-1999:12)\n",
    "\n",
    "-  Adding QMJ restores SMB’s positive alpha over this period to a robust and sizeable 50 bps (t-stat of 3.06), which is the same magnitude as SMB’s alpha over the golden age period\n",
    "\n",
    "3. Resurrection (2000:01-2012:12) \n",
    "\n",
    "- We see again positive SMB alphas with respect to the market, its lagged value, HML and UMD factors, but even larger alphas once we control for QMJ\n",
    "\n",
    "Full period regressions for SMB using each of the various four subcomponents of QMJ in place of the full QMJ factor:\n",
    "\n",
    "- Despite the vastly different measures, in each case the loading on quality is significantly negative and SMB’s alpha is significantly positive and more stable\n",
    "\n",
    "- Consistency in results indicate the relation between size and quality/junk is quite robust across different measures\n",
    "\n",
    "Summary:\n",
    "\n",
    "- The variation in the size premium over long stretches of time is almost completely explained by the performance of quality and junk. Thus, it is the returns to quality and junk, and not size, that have confounded previous results."
   ]
  },
  {
   "cell_type": "markdown",
   "metadata": {},
   "source": [
    "### Challenge 3. Is the size premium concentrated in extreme stocks?\n",
    "\n",
    "- There is no consistent relation between size and average returns across the deciles in terms of market or Fama and French-adjusted alphas. \n",
    "\n",
    "    - This is consistent with claims in the literature that the size effect is concentrated in the extremely small, microcap stocks and not nearly monotonic. \n",
    "    \n",
    "- However, when adding QMJ as a factor, not only is a very large difference in average returns between the smallest and largest size deciles observed, but, perhaps more interestingly, there is an almost perfect monotonic relationship between the size deciles and the alphas. \n",
    "\n",
    "- As we move from small to big stocks, the alphas steadily decline and eventually become negative for the largest stocks. Hence, controlling for quality/junk restores a monotonic relation between size and average returns that is absent otherwise. \n",
    "\n",
    "- As size increases we see proportionately more alpha when including QMJ\n",
    "\n",
    "    - Quality/junk exposure is indeed related to size in a monotonic way and controlling for quality/junk restores a tight linear relation between size and average returns\n",
    "\n",
    "- Size is found to be concentrated in the extremes or not monotonically related to average returns is cleared up by controlling for quality/junk."
   ]
  },
  {
   "cell_type": "markdown",
   "metadata": {},
   "source": [
    "### Challenge 4. Non-price based size measures\n",
    "\n",
    "- Controlling for quality/junk, the non-price size measures produce large return premia that are in fact larger than those based on market cap sorts.\n",
    "\n",
    "Across time:\n",
    "\n",
    "- Non-price based size premia are also very stable across the different subsamples once we control for QMJ, as evidenced by the results over the golden age, embarrassment, and resurrection periods. \n",
    "\n",
    "Across industries:\n",
    "\n",
    "- For every industry and non-price size measure, there is a more robust SMB premium once we control for QMJ."
   ]
  },
  {
   "cell_type": "markdown",
   "metadata": {},
   "source": [
    "### Challenge 5. Seasonality in Size: the January effect\n",
    "\n",
    "- QMJ is confounding the performance of size over February to December in the golden age and the embarrassment periods as well as the extreme returns in January\n",
    "\n",
    "    - A major reason the golden age for size exists is because of an enormous January return and failure to control for quality/junk. \n",
    "    \n",
    "    - QMJ also diminishes the size premium in January, where it is actually insignificant in the last two sub periods and insignificantly different from the returns in February to December over these sub periods.\n",
    "    \n",
    "- Controlling for quality/junk has the effect of smoothing the returns to size, establishing a clear and robust size premium that is no longer concentrated in January"
   ]
  },
  {
   "cell_type": "markdown",
   "metadata": {},
   "source": [
    "### Challenge 6. Illiquidity and the size effect\n",
    "\n",
    "- SMB premium does not appear to be very sensitive to these liquidity proxies, except perhaps in January, and produces a robust and stable return premium across all months outside of January when controlling for QMJ, even in the presence of these illiquidity and liquidity risk factors. "
   ]
  },
  {
   "cell_type": "markdown",
   "metadata": {},
   "source": [
    "### Challenge 7. International evidence\n",
    "\n",
    "- There is a positive increase in SMB alpha for 23 out of 24 countries once we control for QMJ (the exception being Ireland where the point estimate is very close to zero and statistically no different from zero)\n",
    "    \n",
    "    - Robust size premium internationally once we control for QMJ"
   ]
  },
  {
   "cell_type": "markdown",
   "metadata": {},
   "source": [
    "---\n",
    "## 3. Cross-Sectional Interactions with Value and Momentum<a id=\"3\"></a>"
   ]
  },
  {
   "cell_type": "markdown",
   "metadata": {},
   "source": [
    "### A. Size and junk\n",
    "\n",
    "- Controlling for size, there is a clear quality minus junk premium.\n",
    "\n",
    "    - Quality/junk and the size effect are not the same thing, though they are (negatively) related. "
   ]
  },
  {
   "cell_type": "markdown",
   "metadata": {},
   "source": [
    "### B. Size premium among value and momentum stocks\n",
    "\n",
    "- SMB provides the same premium across the value-growth spectrum when controlling for junk\n",
    "\n",
    "- Quality/junk can only explain a small part of the variation in size premia among momentum stocks. "
   ]
  },
  {
   "cell_type": "markdown",
   "metadata": {},
   "source": [
    "### C. Value and momentum premia among small and big stocks\n",
    "\n",
    "- Exposure to QMJ also explains why small stock value premia are larger than big stock value premia as adding QMJ to the regression completely eliminates the difference between value premia among small and large cap stocks.\n",
    "\n",
    "- Value is performing better among small stocks not because they are small, but because they are more exposed to junk.\n",
    "\n",
    "Summary:\n",
    "\n",
    "- Controlling for quality/junk helps explain fully the difference in size premia among value and growth stocks and the difference in value premia among small and large cap stocks.\n",
    "\n",
    "- But variation in the size premium for momentum winners and losers is only partially explained, and variation in the momentum premium across small and large cap stocks is barely explained by QMJ. \n",
    "\n",
    "- Hence, quality versus junk explains a lot of the interactions between size and other return premia, but does not capture everything."
   ]
  }
 ],
 "metadata": {
  "kernelspec": {
   "display_name": "Python 3",
   "language": "python",
   "name": "python3"
  },
  "language_info": {
   "codemirror_mode": {
    "name": "ipython",
    "version": 3
   },
   "file_extension": ".py",
   "mimetype": "text/x-python",
   "name": "python",
   "nbconvert_exporter": "python",
   "pygments_lexer": "ipython3",
   "version": "3.8.5"
  },
  "latex_envs": {
   "LaTeX_envs_menu_present": true,
   "autoclose": false,
   "autocomplete": true,
   "bibliofile": "biblio.bib",
   "cite_by": "apalike",
   "current_citInitial": 1,
   "eqLabelWithNumbers": true,
   "eqNumInitial": 1,
   "hotkeys": {
    "equation": "Ctrl-E",
    "itemize": "Ctrl-I"
   },
   "labels_anchors": false,
   "latex_user_defs": false,
   "report_style_numbering": false,
   "user_envs_cfg": false
  }
 },
 "nbformat": 4,
 "nbformat_minor": 4
}
