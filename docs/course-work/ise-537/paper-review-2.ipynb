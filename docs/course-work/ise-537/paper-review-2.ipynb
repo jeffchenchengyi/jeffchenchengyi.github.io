{
 "cells": [
  {
   "cell_type": "markdown",
   "metadata": {},
   "source": [
    "# Paper Review 2: Carry\n",
    "\n",
    "By: Chengyi (Jeff) Chen\n",
    "\n",
    "\\begin{align}\n",
    "    r_{t+1} &= \\underbrace{\\text{Carry} + \\mathbb{E}_t[\\text{Price Appreciation}]}_{\\mathbb{E}_t[r_{t+1}]: \\text{ Expected return in excess of }r_f} + \\text{Unexpected Price Shock} \n",
    "\\end{align}\n",
    "\n",
    "Overall, Carry is defined in the paper as the portion of expected return of an asset assuming that current prices and market predictions of prices over time do not move - yield curve being constant for fixed income, forward curve being constant. It has shown to have extremely good risk-adjusted returns, especially in portfolios when we allocate equal volatility contribution from each asset class, long the high carry securities and short the low carry securities within each asset class. Simply by longing the high carry securities and shorting the low carry securities within each asset class at each mopnth-end produces great returns for equities, fixed-income, and currencies, but a different signal Carry1-12, the 12 month moving average of Carry, performs better for highly seasonal asset classes such as commodities. Carry also has very low exposure to the market, though it is highly exposed to macro-economic conditions.\n",
    "\n",
    "### Table of Contents\n",
    "1. [What is Carry, How is it related to $\\mathbb{E}_t[r_{t+1}]$, and how do we measure it?](#1)\n",
    "2. [Data and returns of carry strategies globally across asset classes](#2)\n",
    "3. [Predictability of carry for returns, static and dynamic components of a carry trade, and relationship between carry and $\\mathbb{E}[\\text{Price Appreciation}]$](#3)\n",
    "4. [How does carry relates to global business cycle and liquidity risk](#4)"
   ]
  },
  {
   "cell_type": "markdown",
   "metadata": {},
   "source": [
    "---\n",
    "## 1. What is Carry, How is it related to $\\mathbb{E}_t[r_{t+1}]$, and how do we measure it?<a id=\"1\"></a>"
   ]
  },
  {
   "cell_type": "markdown",
   "metadata": {},
   "source": [
    "### A. What is Carry"
   ]
  },
  {
   "cell_type": "markdown",
   "metadata": {},
   "source": [
    "Definitions:\n",
    "\n",
    "\\begin{align}\n",
    "    S_t &= \\text{ Spot price of underlying security (e.g. how much AMZN is selling for @ time }t) \\\\ \n",
    "    F_t &= \\text{ Price of Futures contract that expires @ time }t + 1 \\\\\n",
    "    r_{t+1} &= \\frac{F_{t+1} - F_t}{F_t} \\text{ Return in excess of }r_f \\text{ by purchasing 1 futures contract that expires @ time }t+1 \\\\\n",
    "    C_t  &= \\frac{F_{t+1} - F_t}{F_t} \\\\\n",
    "    &= \\frac{S_{t+1} - F_t}{F_t} \\because \\text{ Spot price converges with Futures price at the expiry of the futures contract} \\\\\n",
    "    &= \\frac{S_{t} - F_t}{F_t} \\because \\text{ We assume constant spot prices} \\\\\n",
    "    &\\therefore \\text{ Carry is just the return in excess of }r_f  \\text{ if we assume spot prices stay constant.} \\\\ \n",
    "\\end{align}"
   ]
  },
  {
   "cell_type": "markdown",
   "metadata": {},
   "source": [
    "### B. How is it related to $\\mathbb{E}_t[r_{t+1}]$"
   ]
  },
  {
   "cell_type": "markdown",
   "metadata": {},
   "source": [
    "Decomposition of $r_{t+1}$:\n",
    "\n",
    "\\begin{align}\n",
    "    r_{t+1} &= \\underbrace{\\mathbb{E}_t[r_{t+1}]}_{\\text{Expected return in excess of }r_f} + \\underbrace{u_{t+1}}_{\\text{Unexpected price shock}} \\\\\n",
    "    &= \\underbrace{C_t}_{\\text{Carry}} + \\underbrace{\\mathbb{E}_t\\Big[\\frac{\\Delta S_{t+1}}{F_t}\\Big]}_{\\text{Expected price appreciation}} + u_{t+1} \\\\\n",
    "    &= C_t + \\mathbb{E}_t\\Big[\\frac{S_{t+1} - S_t}{F_t}\\Big] + u_{t+1} \\\\\n",
    "    &= C_t + \\mathbb{E}_t\\Big[\\frac{S_{t+1} - S_t}{F_t}\\Big] + \\frac{S_{t+1} - \\mathbb{E}_t[S_{t+1}]}{F_t} \\\\\n",
    "    &= \\frac{S_t - F_t}{F_t} + \\mathbb{E}_t\\Big[\\frac{S_{t+1} - S_t}{F_t}\\Big] + \\frac{S_{t+1} - \\mathbb{E}_t[S_{t+1}]}{F_t} \\\\\n",
    "    &= \\frac{S_t - F_t}{F_t} + \\frac{\\mathbb{E}_t[S_{t+1}] - S_t}{F_t} + \\frac{S_{t+1} - \\mathbb{E}_t[S_{t+1}]}{F_t} \\\\\n",
    "    &= \\frac{S_t - F_t + \\mathbb{E}_t[S_{t+1}] - S_t + S_{t+1} - \\mathbb{E}_t[S_{t+1}]}{F_t} \\\\\n",
    "    &= \\frac{S_{t+1} - F_t}{F_t} \\\\\n",
    "    &= \\frac{F_{t+1} - F_t}{F_t} \\because \\text{ Spot price converges with Futures price at the expiry of the futures contract} \\\\\n",
    "    &= r_{t+1} \\\\\n",
    "\\end{align}"
   ]
  },
  {
   "cell_type": "markdown",
   "metadata": {},
   "source": [
    "Notes:\n",
    "\n",
    "1. Carry $C_t$ is deterministic, while the Expected price appreciation $\\mathbb{E}_t\\Big[\\frac{\\Delta S_{t+1}}{F_t}\\Big]$ is subject to error based on the type of asset pricing model (CAPM, APT) used to estimate it\n",
    "\n",
    "2. Carry $C_t$ itself can also be used as a predictor for Expected price appreciation "
   ]
  },
  {
   "cell_type": "markdown",
   "metadata": {},
   "source": [
    "### C. How do we measure it?"
   ]
  },
  {
   "cell_type": "markdown",
   "metadata": {},
   "source": [
    "#### Currency Carry\n",
    "\n",
    "Theoretical no-arbitrage price of currency forward contract $F_t$ from spot exchange rate $S_t$\n",
    "\\begin{align}\n",
    "    \\hat{F_t} &= S_t\\frac{1+r^f_t}{1+r^{f*}_t} \\\\\n",
    "    r^f_t &= \\text{ Local interest-rate / Risk-free rate @ time }t \\\\ \n",
    "    r^{f*}_t &= \\text{ Foreign interest-rate / Risk-free rate @ time }t \\\\ \n",
    "\\end{align}\n",
    "\n",
    "Currency Carry is defined as the scaled interest-rate spread (interest rate in excess of the  local risk-free rate:\n",
    "\\begin{align}\n",
    "    C_t &= \\frac{S_t - F_t}{F_t} \\\\\n",
    "    &= \\underbrace{(r^{f*}_t - r^f_t)}_{\\text{Interest rate spread}}\\underbrace{\\frac{1}{1+r^f_t}}_{\\text{Scaling Factor}} \\\\\n",
    "\\end{align}\n",
    "\n",
    "- The scaling factor of $(1+r^f_t)^{-1}$ indicates that we're buying $(1+r^f_t)^{-1}$ units of local currency today / 1 unit of foreign currency in the future."
   ]
  },
  {
   "cell_type": "markdown",
   "metadata": {},
   "source": [
    "#### Global Equity Carry\n",
    "\n",
    "Theoretical no-arbitrage price of futures contract of equity \n",
    "\n",
    "\\begin{align}\n",
    "    \\hat{F_t} &= S_t(1+r^f_t) - \\mathbb{E}^Q_t[D_{t+1}] \\\\\n",
    "    r^f_t &= \\text{ Local interest-rate / Risk-free rate @ time }t \\\\ \n",
    "    \\mathbb{E}^Q_t[D_{t+1}] &= \\text{ Expected Dividend payment computed under risk-neutral measure } Q \\\\ \n",
    "\\end{align}\n",
    "\n",
    "Global Equity Carry is defined as the scaled expected dividend yield minus risk-free rate:\n",
    "\n",
    "\\begin{align}\n",
    "    C_t &= \\frac{S_t - F_t}{F_t} \\\\\n",
    "    &= \\underbrace{\\Big(\\frac{\\mathbb{E}^Q_t[D_{t+1}]}{S_t} - r^f_t\\Big)}_{\\text{Expected dividend yield minus risk-free rate}} \\underbrace{\\frac{S_t}{F_t}}_{\\text{Scaling Factor}} \\\\\n",
    "\\end{align}\n",
    "\n",
    "How Carry can also be a predictor of expected returns:\n",
    "\n",
    "Gordon Growth / Dividend Discount Model: \n",
    "\n",
    "\\begin{align}\n",
    "    S_t &= \\frac{\\mathbb{E}^Q_t[D_{t+1}]}{\\mathbb{E}_t[r_{t+1}] - g} \\\\\n",
    "    \\mathbb{E}_t[r_{t+1}] &= \\underbrace{\\Big[\\frac{\\mathbb{E}^Q_t[D_{t+1}]}{S_t}\\Big]}_{\\text{Expected dividend yield}} + \\underbrace{g}_{\\text{Constant dividend growth rate}} \\\\\n",
    "\\end{align}\n",
    "\n",
    "- Hence, seeing that the expected return of a stock is a function of the expected dividend yield and dividend growth rate, carry (a function of expected dividend yield) will be positively correlated to expected returns of a stock."
   ]
  },
  {
   "cell_type": "markdown",
   "metadata": {},
   "source": [
    "#### Commodity Carry\n",
    "\n",
    "Theoretical no-arbitrage price of commodity futures contract:\n",
    "\n",
    "\\begin{align}\n",
    "    F^{T_i}_t &= S_t (1 + (r^f_t - \\delta)T_i) \\\\\n",
    "    \\delta &= \\text{Convienience yield in excess of storage costs} \\\\ \n",
    "\\end{align}\n",
    "\n",
    "- Because Commodity spot markets are highly illiquid, we don't have much reliable data on spot prices, we compute the carry using the nearest to maturity futures price instead of the spot price\n",
    "    \n",
    "    - Our assumption on calculating Carry transforms from assuming futures price maturing in $T$ will converge to current spot price at maturity ($S_t = S_T$) to assuming futures price maturing in $T_2$ will converge to the nearest to maturity futures' price maturing in $T_1$, $T_2 > T_1$ instead ($F_{T_2} \\rightarrow F_{T_1}$ after $T_2 - T_1$ periods).\n",
    "    \n",
    "    - Essentially, it's assuming that the forward / futures curve remains constant.\n",
    "\n",
    "Commodity Carry is defined as the convienience yield of the commodity in excess of the risk-free rate $r_f$:\n",
    "\n",
    "\\begin{align}\n",
    "    C_t &= \\frac{S_t - F_t}{F_t} \\\\\n",
    "    &= \\frac{F^1_t - F^2_t}{F^2_t(T_2 - T_1)} \\because \\text{ Change in assumptions due to illiquid spot market}\\\\\n",
    "    &= \\underbrace{(\\delta - r^f_t)}_{\\text{Convenience yield of the commodity in excess of the risk-free rate}}\\frac{S_t}{F^2_t}\n",
    "\\end{align}"
   ]
  },
  {
   "cell_type": "markdown",
   "metadata": {},
   "source": [
    "#### Global Fixed Income Carry\n",
    "\n",
    "Instead of defining carry with the assumption that bond prices stay constant, our new assumption for carry is that the yield curve / term structure of interest rates of the bonds that we are considering stay constant:\n",
    "\n",
    "\\begin{align}\n",
    "    C_t &= \\frac{S_t - F_t}{F_t} \\\\\n",
    "    &= \\frac{\\frac{1}{(1+y^{9Y11M}_t)^{9+11/12}}}{\\frac{(1+r^f_t)}{(1+y^{10Y}_t)^{10}}} - 1 \\\\\n",
    "    &\\approx \\underbrace{y^{10Y} - r^f_t}_{\\text{Bond yield in excess of risk-free rate }r_f} \\underbrace{- ModD(y^{10Y}_t - y^{9Y11M}_t))}_{\\text{Roll down}} \\\\\n",
    "\\end{align}\n",
    "\n",
    "- When we keep the yield curve constant, the carry is the bond yield plus the \"roll down,\" which captures the price increase due to the fact that the bond rolls down the yield curve. As the bond rolls down the yield curve, the yield changes from $y^T_t$ to $y^{T −1}_t$ , resulting in a return which is minus the yield change times the modified duration."
   ]
  },
  {
   "cell_type": "markdown",
   "metadata": {},
   "source": [
    "#### Summary of Carry Measurements across Asset Classes\n",
    "\n",
    "\n",
    "<table style=\"width:100%\">\n",
    "  <tr>\n",
    "    <th style=\"text-align:center\">Asset Class</th>\n",
    "    <th style=\"text-align:center\">Carry</th>\n",
    "    <th style=\"text-align:center\">Formula</th>\n",
    "    <th style=\"text-align:center\">Scaling Factor</th>\n",
    "  </tr>\n",
    "  <tr>\n",
    "    <td style=\"text-align:center\">Currency</td>\n",
    "    <td style=\"text-align:center\">Interest rate spread</td>\n",
    "    <td style=\"text-align:center\">$r^{f*}_t - r^f_t$</td>\n",
    "    <td style=\"text-align:center\">$\\frac{1}{1+r^f_t}$</td>\n",
    "  </tr>\n",
    "  <tr>\n",
    "    <td style=\"text-align:center\">Equity</td>\n",
    "    <td style=\"text-align:center\">Expected dividend yield minus risk-free rate</td>\n",
    "    <td style=\"text-align:center\">$\\frac{\\mathbb{E}^Q_t[D_{t+1}]}{S_t} - r^f_t$</td>\n",
    "    <td style=\"text-align:center\">$\\frac{S_t}{F_t}$</td>\n",
    "  </tr>\n",
    "  <tr>\n",
    "    <td style=\"text-align:center\">Commodity</td>\n",
    "    <td style=\"text-align:center\">Convenience yield of the commodity in excess of the risk-free rate</td>\n",
    "    <td style=\"text-align:center\">$\\delta - r^f_t$</td>\n",
    "    <td style=\"text-align:center\">$\\frac{S_t}{F^2_t}$</td>\n",
    "  </tr>\n",
    "  <tr>\n",
    "    <td style=\"text-align:center\">Fixed Income</td>\n",
    "    <td style=\"text-align:center\">Bond yield in excess of risk-free rate plus percentage change in bond price as yield changes</td>\n",
    "    <td style=\"text-align:center\">$y^{10Y} - r^f_t - ModD(y^{10Y}_t - y^{9Y11M}_t))$</td>\n",
    "    <td style=\"text-align:center\">1</td>\n",
    "  </tr>\n",
    "</table>"
   ]
  },
  {
   "cell_type": "markdown",
   "metadata": {},
   "source": [
    "#### Carry Trade Strategy\n",
    "\n",
    "After calculating the carry for each security in our investable universe, we will sort the securities by their carry, longing the top percent of securities with the highest carry and shorting the ones at the bottom percentile of the lowest carry: \n",
    "\n",
    "\\begin{align}\n",
    "    C^{\\text{carry trade}}_t &= \\sum_{w^i_t > 0} w^i_tC^i_t - \\sum_{w^i_t < 0} \\vert w^i_t \\vert C^i_t \\\\\n",
    "    w^i_t &= \\underbrace{z_t\\Big(\\text{rank}(C^i_t) - \\frac{N_t + 1}{2}\\Big)}_{\\text{Normalized weight of the extreme carry securities we're trading such that the sum of long and short postions are 1 and -1}}\n",
    "\\end{align}"
   ]
  },
  {
   "cell_type": "markdown",
   "metadata": {},
   "source": [
    "---\n",
    "## 2. Data and returns of carry strategies globally across asset classes<a id=\"2\"></a>"
   ]
  },
  {
   "cell_type": "markdown",
   "metadata": {},
   "source": [
    "### A. 2 Types of Carry Signals\n",
    "\n",
    "1. Current Carry: Carry measured at each month-end and portfolio is rebalanced\n",
    "\n",
    "2. Carry1-12: MA of current carry over the past 12 month-ends (including most recent)  "
   ]
  },
  {
   "cell_type": "markdown",
   "metadata": {},
   "source": [
    "#### Why we need 2 types of Carry Signals\n",
    "\n",
    "- Carry1-12 accounts for seasonality especially across regions that have differing dividend calendars (affects equity asset class because we're using a dividend discount model on the stocks that confer dividends to calculate carry)\n",
    "\n",
    "Reason 1: Equity Seasonality of Dividends\n",
    "\n",
    "- Current Carry will long companies that are paying dividends in the period $t+1$, and also long equity indices of countries that are in dividend season\n",
    "\n",
    "- Carry1-12 will long companies / country equity indices as long as they produce high overall dividend yields\n",
    "\n",
    "Reason 2: Commodity Seasonality\n",
    "\n",
    "- Commodities like Oil have extremely noticeable seasonal patterns in the forward curve - periods of alternating contango and backwardation\n",
    "\n",
    "- Carry1-12 smooths these patterns and longs commodities that have overall high convienience yields."
   ]
  },
  {
   "cell_type": "markdown",
   "metadata": {},
   "source": [
    "### B. Findings\n",
    "\n",
    "- Carry strategies have overall significant risk-adjusted returns and outperform passive investment strategies in each asset class\n",
    "- Current carry portfolio performed better for equities, bonds, and currencies, while Carry1-12 performed better for commodities, probably due to the accounting for seasonality we mentioned.\n",
    "- Strong negative skewness in currency carry trades (mode of returns is higher than the mean and median, meaning there are more than normal number of returns that are higher than the mean / median return)\n",
    "- All carry portfolios show excess kurtosis (More than normal outlier returns)"
   ]
  },
  {
   "cell_type": "markdown",
   "metadata": {},
   "source": [
    "### C. Performance of Diversified Carry Trade Portfolio\n",
    "\n",
    "- After weighting each asset class by the inverse of its sample volatility (so that each carry strategy contributes an equal part of volatility) and combining the carry strategies into one **diversified** carry trade portfolio, the Sharpe ratio increased to 1.5, which is significantly higher than that of all the individual asset class current carry and carry1-12 strategies\n",
    "\n",
    "    - This suggests that carry strategies across asset classes are highly uncorrelated (Similar to how we diversified the portfolio using all markets in Value and Momentum \"everywhere\" paper because the returns are highly uncorrelated) and so diversification has large benefits"
   ]
  },
  {
   "cell_type": "markdown",
   "metadata": {},
   "source": [
    "### D. Risk-Adjusted Performance and Exposure to Other Factors\n",
    "\n",
    "- After regressing the Current Carry (CC) and Carry1-12 (C1-12) returns on different subsets of the factors below:\n",
    "    \n",
    "    - Passive Long (Market Exposure factor)\n",
    "    \n",
    "    - Value \"everywhere\" factors \n",
    "        \n",
    "        1. Global Individual Stocks: book-to-market ratio\n",
    "        \n",
    "        2. Global Equity Indices: previous month’s BE/ME ratio for the MSCI index of the country\n",
    "        \n",
    "        3. Currencies: negative of the 5-year return on the exchange rate, measured as the log of the average spot exchange rate from 4.5 to 5.5 years ago divided by the spot exchange rate today minus the log difference in the change in CPI in the foreign country relative to the U.S. over the same period (5-year change in purchasing power parity)\n",
    "        \n",
    "        4. Global Government Bonds: \n",
    "        \n",
    "            1. 5-year change in the yields of 10-year bonds as our value measure, which is similar to the negative of the past 5-year return\n",
    "            \n",
    "            2. Real bond yield (yield on 10-year bonds minus the 5-year forecast in inflation)\n",
    "            \n",
    "            3. Term spread (yield on 10-year bonds minus the short rate)\n",
    "            \n",
    "        5. Commodity Futures: log of the average spot price from 4.5 to 5.5 years ago, divided by the most recent spot price (the negative of the spot return over the last 5 years)\n",
    "        \n",
    "    - Momentum \"everywhere\" factors\n",
    "    \n",
    "        1. Global Individual Stocks: past 12-month cumulative raw return on the asset, skipped last month's return to avoid 1-month reversal in stock returns (An anomaly ∵ investor’s overreaction to the past information and a correction of that reaction after a short time horizon)\n",
    "        \n",
    "        2. Global Equity Indices: past 12-month cumulative raw return on the asset, skipped last month's return\n",
    "\n",
    "        3. Currencies: past 12-month cumulative raw return on the asset, skipped last month's return\n",
    "        \n",
    "        4. Global Government Bonds: past 12-month cumulative raw return on the asset, skipped last month's return\n",
    "        \n",
    "        5. Commodity Futures: past 12-month cumulative raw return on the asset, skipped last month's return\n",
    "        \n",
    "    - Time Series Momentum factor\n",
    "    \n",
    "    - Funding Liquity \n",
    "    \n",
    "    - Market Liquidity\n",
    "    \n",
    "The $\\beta_{\\text{Market}}$ (Passive Long) as seen in CAPM is largely statistically insignificant, indicating that carry returns for both current carry and carry1-12 have very low exposure to the market, and also, the $\\alpha$s are very high along with the Information Ratios which indicate high risk-adjusted returns."
   ]
  },
  {
   "cell_type": "markdown",
   "metadata": {},
   "source": [
    "---\n",
    "## 3. Predictability of carry for returns, static and dynamic components of a carry trade, and relationship between carry and $\\mathbb{E}[\\text{Price Appreciation}]$<a id=\"3\"></a>"
   ]
  },
  {
   "cell_type": "markdown",
   "metadata": {},
   "source": [
    "\\begin{align}\n",
    "    r^i_{t+1} &= a^i + b_t + cC^i_t + \\epsilon^i_{t+1} \\\\\n",
    "    a^i &= \\text{ Asset-specific intercept} \\\\\n",
    "    b_t &= \\text{ Time-specific intercept} \\\\\n",
    "    c &= \\text{ Coefficient of carry} \\\\ \n",
    "\\end{align}\n",
    "\n",
    "<table style=\"width:100%\">\n",
    "  <tr>\n",
    "    <th style=\"text-align:center\">$c$</th>\n",
    "    <th style=\"text-align:center\">Interpretation</th>\n",
    "    <th style=\"text-align:center\">Assets</th>\n",
    "  </tr>\n",
    "  <tr>\n",
    "    <td style=\"text-align:center\">$0$</td>\n",
    "    <td style=\"text-align:center\">Carry does not predict returns</td>\n",
    "    <td style=\"text-align:center\">-</td>\n",
    "  </tr>\n",
    "  <tr>\n",
    "    <td style=\"text-align:center\">$1$</td>\n",
    "    <td style=\"text-align:center\">Expected return moves one-for-one with carry</td>\n",
    "    <td style=\"text-align:center\">Currencies</td>\n",
    "  </tr>\n",
    "  <tr>\n",
    "    <td style=\"text-align:center\">$(0, 1)$</td>\n",
    "    <td style=\"text-align:center\">High carry is associated with a low expected price appreciation</td>\n",
    "    <td style=\"text-align:center\">Commodities</td>\n",
    "  </tr>\n",
    "  <tr>\n",
    "    <td style=\"text-align:center\">$(1, \\infty)$</td>\n",
    "    <td style=\"text-align:center\">High carry is associated with a high expected price appreciation</td>\n",
    "    <td style=\"text-align:center\">Equities and Fixed Income</td>\n",
    "  </tr>\n",
    "  <tr>\n",
    "    <td style=\"text-align:center\">$(-\\infty, 0)$</td>\n",
    "    <td style=\"text-align:center\">Price appreciation/depreciation more than offsets the effect of the carry</td>\n",
    "    <td style=\"text-align:center\">-</td>\n",
    "  </tr>\n",
    "</table>"
   ]
  },
  {
   "cell_type": "markdown",
   "metadata": {},
   "source": [
    "- After performing panel regression with asset-specific and time-specific effects, it was found that carry is a strong predictor of expected returns"
   ]
  },
  {
   "cell_type": "markdown",
   "metadata": {},
   "source": [
    "How long does Carry predict Passive long Returns?\n",
    "\n",
    "- Carry's predictive power for returns are only valid for a year before vanishing"
   ]
  },
  {
   "cell_type": "markdown",
   "metadata": {},
   "source": [
    "Does the Carry of the Carry Trade Predict Returns?\n",
    "\n",
    "- Carry of the carry trade does not predict the returns to the carry trade, except marginally in equities"
   ]
  },
  {
   "cell_type": "markdown",
   "metadata": {},
   "source": [
    "---\n",
    "## 4. How does carry relates to global business cycle and liquidity risk]<a id=\"4\"></a>"
   ]
  },
  {
   "cell_type": "markdown",
   "metadata": {},
   "source": [
    "Risk Exposure of Carry Strategies\n",
    "\n",
    "- Carry Strategies are highly susceptible to macro-economic risks\n",
    "\n",
    "- After defining Carry downturns as the maximum draw-down of the global carry strategy, we observe that for all strategies in **all asset classes**, carry returns for both the current carry and carry1-12 strategy are lower during periods of carry downturns"
   ]
  }
 ],
 "metadata": {
  "kernelspec": {
   "display_name": "Python 3",
   "language": "python",
   "name": "python3"
  },
  "language_info": {
   "codemirror_mode": {
    "name": "ipython",
    "version": 3
   },
   "file_extension": ".py",
   "mimetype": "text/x-python",
   "name": "python",
   "nbconvert_exporter": "python",
   "pygments_lexer": "ipython3",
   "version": "3.8.5"
  },
  "latex_envs": {
   "LaTeX_envs_menu_present": true,
   "autoclose": false,
   "autocomplete": true,
   "bibliofile": "biblio.bib",
   "cite_by": "apalike",
   "current_citInitial": 1,
   "eqLabelWithNumbers": true,
   "eqNumInitial": 1,
   "hotkeys": {
    "equation": "Ctrl-E",
    "itemize": "Ctrl-I"
   },
   "labels_anchors": false,
   "latex_user_defs": false,
   "report_style_numbering": false,
   "user_envs_cfg": false
  }
 },
 "nbformat": 4,
 "nbformat_minor": 4
}
