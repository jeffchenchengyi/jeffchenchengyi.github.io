{
 "cells": [
  {
   "cell_type": "markdown",
   "metadata": {},
   "source": [
    "# MO 1: TSLA Absurd P/E Ratio\n",
    "\n",
    "By: Chengyi (Jeff) Chen"
   ]
  },
  {
   "cell_type": "markdown",
   "metadata": {},
   "source": [
    "Tesla has been on the news lately for it's absurdly high P/E ratio of $\\approx$ [1,230 (TTM)](https://sg.finance.yahoo.com/quote/TSLA?p=TSLA&.tsrc=fin-srch), meaning that it'll take 1,230 years for Tesla to earn back its current stock price, assuming it performs similarly to the past 12 months ([being profitable for the past 4 quarters straight](https://www.marketwatch.com/story/tesla-reports-surprise-q2-profit-2020-07-22?mod=article_inline)). Many analysts believe that this P/E ratio is a clear sign of Tesla's overvaluation, suggesting that it is without a doubt, a bubble that will crash. Though I don't currently hold any opinions about Tesla, I was curious to understand why Tesla's future growth potential is so rosy in the eyes of investors in the first place. It appears that one of the biggest reasons for the optimism of investors is due to the possibility of [Tesla's own \"million-mile\" battery](https://www.forbes.com/sites/arielcohen/2020/12/30/teslas-new-lithium-ion-patent-brings-company-closer-to-promised-1-million-mile-battery/#3473583c33e3). \n",
    "\n",
    "To give some context, Tesla currently has partnerships with 3 battery suppliers: [Panasonic, China's Contemporary Amperex Technology Co. Ltd., or CATL, and LG Chem in South Korea](https://asia.nikkei.com/Business/Technology/Panasonic-to-supply-Tesla-Model-3-batteries-that-hold-more-juice#:~:text=OSAKA%20%2D%2D%20Panasonic%20will%20begin,part%20by%20using%20upgraded%20materials.). Tesla also requires 2 different types of batteries, one type for its Electric Vehicles and one type for its stationary energy storage products like the Powerwalls and Powerpacks. For this discussion, we're only interested in the Electric Vehicle battery. Panasonic has been supplying Tesla with its [\"2170\" lithium-ion cells, with the nickel-cobalt-aluminium (NCA) cathode chemistry, for Tesla’s Model 3 in 2017, while CATL has been supplying them with low-cost lithium iron phosphate (LFP) batteries that contain no cobalt](https://www.reuters.com/article/us-panasonic-tesla-exclusive/exclusive-panasonic-aims-to-boost-energy-density-in-tesla-batteries-by-20-executive-idUSKCN24V1GB#:~:text=Panasonic%20introduced%20the%20%E2%80%9C2170%E2%80%9D%20lithium,700%20watt%2Dhour%20per%20litre.). Though the NCA batteries provide a much better energy density (how much energy the battery can store) than the LFP batteries, it still uses [Cobalt, a metal that current battery chemistries rely on heavily](https://www.theverge.com/2018/6/21/17488626/elon-musk-cobalt-electric-vehicle-battery-science). Even though NCA batteries already use very little cobalt, Tesla's ultimate goal in batteries is to remove Cobalt completely because of it's the most expensive raw material used in batteries and also [mined under conditions that violate human rights](https://www.washingtonpost.com/graphics/business/batteries/congo-cobalt-mining-for-lithium-ion-battery/). There has been news that CATL, one of Tesla's main battery suppliers [is developing new EV battery with no nickel, cobalt](https://www.reuters.com/article/us-catl-batteries/chinas-catl-is-developing-new-ev-battery-with-no-nickel-cobalt-exec-says-idUSKCN25B0BA#:~:text=SHANGHAI%20(Reuters)%20%2D%20China's%20Contemporary,the%20batteries%20that%20power%20EVs). It is still unclear as to whether this battery will be the same battery that will be supplied to Tesla. Regardless of whether this will be the same battery supplied to Tesla, if it does exist in the future, with a lower cost relative to the current NCA or LFP batteries, this could mean a decrease in Tesla's cost of goods sold. Furthermore, the existence of such a battery could potentially have larger effects on the overall energy and cobalt industry. And if instead, Tesla is going to develop this battery itself, it will reduce costs even further, which could better justify its high P/E ratio. [Tesla's Battery day](https://www.caranddriver.com/news/a33799849/tesla-battery-day-september-22/#:~:text=Tesla's%20Battery%20Day%20event%20will,will%20be%20a%20live%20stream.) on September 22 will reveal more information about the reality of such a battery and provide better clarity about whether one of the biggest drivers of optimism in investors are actually justified or not. \n",
    "\n",
    "Because there could be a big (positive) move on September 22nd with regards to new information about Tesla's new battery, possible trading strategies could include buying some TSLA stock now, buying some ITM TSLA calls, buying some OTM TSLA puts. If it does turn out that cobalt can be completely eliminated, this would mean that the current estimates of [cobalt demand increasing 3 fold in the next decade because of the growth of electric vehicles](https://ec.europa.eu/jrc/en/news/cobalt-potential-bottleneck-transition-electric-mobility#:~:text=Cobalt%2C%20a%20critical%20raw%20material%20for%20electric%20transport&text=As%20the%20world's%20electric%20vehicle,outstripping%20supply%20already%20in%202020.) is an overestimate. This news could mean that the forward curve of Cobalt futures to move from contango to backwardation (This topic is still very new to me so I'm not exactly sure on what trading strategies could be applied here yet)."
   ]
  },
  {
   "cell_type": "markdown",
   "metadata": {},
   "source": [
    "- 5 to 1 stock split, historically all stocks that split will have a price increase"
   ]
  }
 ],
 "metadata": {
  "kernelspec": {
   "display_name": "Python 3",
   "language": "python",
   "name": "python3"
  },
  "language_info": {
   "codemirror_mode": {
    "name": "ipython",
    "version": 3
   },
   "file_extension": ".py",
   "mimetype": "text/x-python",
   "name": "python",
   "nbconvert_exporter": "python",
   "pygments_lexer": "ipython3",
   "version": "3.8.5"
  },
  "latex_envs": {
   "LaTeX_envs_menu_present": true,
   "autoclose": false,
   "autocomplete": true,
   "bibliofile": "biblio.bib",
   "cite_by": "apalike",
   "current_citInitial": 1,
   "eqLabelWithNumbers": true,
   "eqNumInitial": 1,
   "hotkeys": {
    "equation": "Ctrl-E",
    "itemize": "Ctrl-I"
   },
   "labels_anchors": false,
   "latex_user_defs": false,
   "report_style_numbering": false,
   "user_envs_cfg": false
  }
 },
 "nbformat": 4,
 "nbformat_minor": 4
}
