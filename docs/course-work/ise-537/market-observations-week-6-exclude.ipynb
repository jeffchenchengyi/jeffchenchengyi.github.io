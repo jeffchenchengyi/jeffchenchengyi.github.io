{
 "cells": [
  {
   "cell_type": "markdown",
   "metadata": {},
   "source": [
    "# Market Observations 2: The NASDAQ Whale\n",
    "\n",
    "By: Chengyi (Jeff) Chen"
   ]
  },
  {
   "cell_type": "markdown",
   "metadata": {},
   "source": [
    "Over the weekend, [The Financial Times ](https://www.ft.com/content/75587aa6-1f1f-4e9d-b334-3ff866753fa2) released a piece revealing that SoftBank Group has been buying up 4 billion dollars worth of shares of Apple, Amazon, Microsoft, Tesla and roughly the same amount of out of the money call options. This alone, implies that SoftBank believes that the current tech stock rally will continue on into the future. This move has been described by The Financial Times, Wall Street Journal, CNBC, and other sources to have a substantial contribution to the tech rally we have seen in the past month. From my understanding, the impact proceeds as follows: \n",
    "1. SoftBank purchases 4 billion dollars worth of out of the money (otm) call options\n",
    "2. The counterparty that sells SoftBank these call options in turn, take on a net delta negative position, so in order to delta hedge, they purchase shares of the underlying stock of the call options to reduce the negative delta position\n",
    "3. This in turn creates upward pressure for the underlying tech stock prices which turn the otm call options closer to in the money (itm)\n",
    "4. With an increase in the underlying stock price, and because SoftBank's otm calls have a positive gamma position, delta becomes even more positive\n",
    "5. Because SoftBank's call options have an increasingly positive delta position, the counterparty has to buy even more of the underlying stock to further hedge it's position closer to delta neutral\n",
    "6. This creates a [\"gamma feedback loop\"](https://www.zerohedge.com/markets/classic-feedback-loop-why-everyone-chasing-gamma-crash), repeating events 3 - 5 until the market corrects itself (Still unsure about how this happens - At what point in time will the counterparty decide to sell off the underlying stock / positive delta position investors decide to sell off)\n",
    "\n",
    "The extreme volatility in tech stocks started last Thursday when the markets were down, [attributed to \"profit-taking\"](https://www.marketwatch.com/story/dow-looks-set-to-pull-back-thursday-as-it-closes-in-on-record-ahead-of-jobless-claims-report-2020-09-03), while the Nasdaq tumble on Tuesday September 8th was fuelled by [doubts on whether the COVID-19 infections will resurge in the coming winter months and uncertainty about the US Elections and the US-China economic \"decoupling\"](https://edition.cnn.com/2020/09/08/investing/nasdaq-stock-market-today/index.html). The Nasdaq tumble led to a 10 billion dollar loss in SoftBank's market valuation. It appears to me that there could also be more players like SoftBank that are making dangerous bets on tech stocks through the use of options, without doing their fair share of due diligence on the underlying company - [\"(t)he whole strategy is just momentum buying\"](https://www.ft.com/content/53aa19bb-fc9a-46fd-aafd-4bc3669ab161). The doubt on how big an impact SoftBank had in the tech rally is also supported by this [Bloomberg article](https://www.bloomberg.com/news/articles/2020-09-07/nasdaq-whale-theory-for-tech-stock-surge-is-stirring-doubts), which argues that retail investors could also have contributed to the high volatility in tech stocks.\n",
    "\n",
    "Resources:\n",
    "- [projectoption's YouTube video: How SoftBank's Billion-Dollar Option Bets Helped Fuel the Stock Market Rally](https://www.youtube.com/watch?v=fm2cnP1ruag)"
   ]
  },
  {
   "cell_type": "code",
   "execution_count": 95,
   "metadata": {},
   "outputs": [
    {
     "name": "stdout",
     "output_type": "stream",
     "text": [
      "The nb_black extension is already loaded. To reload it, use:\n",
      "  %reload_ext nb_black\n",
      "The autotime extension is already loaded. To reload it, use:\n",
      "  %reload_ext autotime\n"
     ]
    },
    {
     "data": {
      "application/javascript": [
       "\n",
       "            setTimeout(function() {\n",
       "                var nbb_cell_id = 95;\n",
       "                var nbb_unformatted_code = \"%load_ext nb_black\\n%load_ext autotime\\n\\nimport matplotlib.pyplot as plt\\n\\nplt.rcParams[\\\"figure.dpi\\\"] = 300\\nplt.rcParams[\\\"figure.figsize\\\"] = (12, 8)\\n\\nimport pandas as pd\\nimport numpy as np\\nfrom datetime import datetime, date, timedelta\\nimport plotly.express as px\\n\\n\\ndef get_all_option_quotes(ticker: yf.ticker.Ticker, option_type=\\\"calls\\\"):\\n    \\\"\\\"\\\"Retrieves all available option data in a single pandas dataframe\\\"\\\"\\\"\\n    assert (option_type == \\\"calls\\\") | (option_type == \\\"puts\\\"), ValueError(\\n        \\\"'option_type' must be either 'puts' or 'calls'\\\"\\n    )\\n    all_option_quotes_df = None\\n    try:\\n        available_option_expiry_dates = ticker.options\\n        for option_expiry_date in available_option_expiry_dates:\\n            try:\\n                df = (\\n                    ticker.option_chain(option_expiry_date).calls\\n                    if option_type == \\\"calls\\\"\\n                    else ticker.option_chain(option_expiry_date).puts\\n                )\\n                df[\\\"option_expiry_date\\\"] = option_expiry_date\\n                if all_option_quotes_df is None:\\n                    all_option_quotes_df = df\\n                else:\\n                    all_option_quotes_df = pd.concat([all_option_quotes_df, df], axis=0)\\n            except:\\n                print(\\n                    f\\\"Option data for {ticker.ticker} on {option_expiry_date} is unavailable.\\\"\\n                )\\n        return all_option_quotes_df\\n    except:\\n        print(f\\\"Option data for {ticker.ticker} is unavailable.\\\")\\n        return None\";\n",
       "                var nbb_formatted_code = \"%load_ext nb_black\\n%load_ext autotime\\n\\nimport matplotlib.pyplot as plt\\n\\nplt.rcParams[\\\"figure.dpi\\\"] = 300\\nplt.rcParams[\\\"figure.figsize\\\"] = (12, 8)\\n\\nimport pandas as pd\\nimport numpy as np\\nfrom datetime import datetime, date, timedelta\\nimport plotly.express as px\\n\\n\\ndef get_all_option_quotes(ticker: yf.ticker.Ticker, option_type=\\\"calls\\\"):\\n    \\\"\\\"\\\"Retrieves all available option data in a single pandas dataframe\\\"\\\"\\\"\\n    assert (option_type == \\\"calls\\\") | (option_type == \\\"puts\\\"), ValueError(\\n        \\\"'option_type' must be either 'puts' or 'calls'\\\"\\n    )\\n    all_option_quotes_df = None\\n    try:\\n        available_option_expiry_dates = ticker.options\\n        for option_expiry_date in available_option_expiry_dates:\\n            try:\\n                df = (\\n                    ticker.option_chain(option_expiry_date).calls\\n                    if option_type == \\\"calls\\\"\\n                    else ticker.option_chain(option_expiry_date).puts\\n                )\\n                df[\\\"option_expiry_date\\\"] = option_expiry_date\\n                if all_option_quotes_df is None:\\n                    all_option_quotes_df = df\\n                else:\\n                    all_option_quotes_df = pd.concat([all_option_quotes_df, df], axis=0)\\n            except:\\n                print(\\n                    f\\\"Option data for {ticker.ticker} on {option_expiry_date} is unavailable.\\\"\\n                )\\n        return all_option_quotes_df\\n    except:\\n        print(f\\\"Option data for {ticker.ticker} is unavailable.\\\")\\n        return None\";\n",
       "                var nbb_cells = Jupyter.notebook.get_cells();\n",
       "                for (var i = 0; i < nbb_cells.length; ++i) {\n",
       "                    if (nbb_cells[i].input_prompt_number == nbb_cell_id) {\n",
       "                        if (nbb_cells[i].get_text() == nbb_unformatted_code) {\n",
       "                             nbb_cells[i].set_text(nbb_formatted_code);\n",
       "                        }\n",
       "                        break;\n",
       "                    }\n",
       "                }\n",
       "            }, 500);\n",
       "            "
      ],
      "text/plain": [
       "<IPython.core.display.Javascript object>"
      ]
     },
     "metadata": {},
     "output_type": "display_data"
    },
    {
     "name": "stdout",
     "output_type": "stream",
     "text": [
      "time: 36 ms\n"
     ]
    }
   ],
   "source": [
    "%load_ext nb_black\n",
    "%load_ext autotime\n",
    "\n",
    "import matplotlib.pyplot as plt\n",
    "\n",
    "plt.rcParams[\"figure.dpi\"] = 300\n",
    "plt.rcParams[\"figure.figsize\"] = (12, 8)\n",
    "\n",
    "import pandas as pd\n",
    "import numpy as np\n",
    "from datetime import datetime, date, timedelta\n",
    "import plotly.express as px\n",
    "\n",
    "\n",
    "def get_all_option_quotes(ticker: yf.ticker.Ticker, option_type=\"calls\"):\n",
    "    \"\"\"Retrieves all available option data in a single pandas dataframe\"\"\"\n",
    "    assert (option_type == \"calls\") | (option_type == \"puts\"), ValueError(\n",
    "        \"'option_type' must be either 'puts' or 'calls'\"\n",
    "    )\n",
    "    all_option_quotes_df = None\n",
    "    try:\n",
    "        available_option_expiry_dates = ticker.options\n",
    "        for option_expiry_date in available_option_expiry_dates:\n",
    "            try:\n",
    "                df = (\n",
    "                    ticker.option_chain(option_expiry_date).calls\n",
    "                    if option_type == \"calls\"\n",
    "                    else ticker.option_chain(option_expiry_date).puts\n",
    "                )\n",
    "                df[\"option_expiry_date\"] = option_expiry_date\n",
    "                if all_option_quotes_df is None:\n",
    "                    all_option_quotes_df = df\n",
    "                else:\n",
    "                    all_option_quotes_df = pd.concat([all_option_quotes_df, df], axis=0)\n",
    "            except:\n",
    "                print(\n",
    "                    f\"Option data for {ticker.ticker} on {option_expiry_date} is unavailable.\"\n",
    "                )\n",
    "        return all_option_quotes_df\n",
    "    except:\n",
    "        print(f\"Option data for {ticker.ticker} is unavailable.\")\n",
    "        return None"
   ]
  },
  {
   "cell_type": "code",
   "execution_count": 93,
   "metadata": {},
   "outputs": [
    {
     "data": {
      "application/javascript": [
       "\n",
       "            setTimeout(function() {\n",
       "                var nbb_cell_id = 93;\n",
       "                var nbb_unformatted_code = \"import yfinance as yf\\n\\ntickers = yf.Tickers(\\\"tsla fb vxn\\\").tickers\";\n",
       "                var nbb_formatted_code = \"import yfinance as yf\\n\\ntickers = yf.Tickers(\\\"tsla fb vxn\\\").tickers\";\n",
       "                var nbb_cells = Jupyter.notebook.get_cells();\n",
       "                for (var i = 0; i < nbb_cells.length; ++i) {\n",
       "                    if (nbb_cells[i].input_prompt_number == nbb_cell_id) {\n",
       "                        if (nbb_cells[i].get_text() == nbb_unformatted_code) {\n",
       "                             nbb_cells[i].set_text(nbb_formatted_code);\n",
       "                        }\n",
       "                        break;\n",
       "                    }\n",
       "                }\n",
       "            }, 500);\n",
       "            "
      ],
      "text/plain": [
       "<IPython.core.display.Javascript object>"
      ]
     },
     "metadata": {},
     "output_type": "display_data"
    },
    {
     "name": "stdout",
     "output_type": "stream",
     "text": [
      "time: 23.5 ms\n"
     ]
    }
   ],
   "source": [
    "import yfinance as yf\n",
    "\n",
    "tickers = yf.Tickers(\"tsla fb vxn\").tickers"
   ]
  },
  {
   "cell_type": "code",
   "execution_count": 86,
   "metadata": {},
   "outputs": [
    {
     "data": {
      "text/html": [
       "<div>\n",
       "<style scoped>\n",
       "    .dataframe tbody tr th:only-of-type {\n",
       "        vertical-align: middle;\n",
       "    }\n",
       "\n",
       "    .dataframe tbody tr th {\n",
       "        vertical-align: top;\n",
       "    }\n",
       "\n",
       "    .dataframe thead th {\n",
       "        text-align: right;\n",
       "    }\n",
       "</style>\n",
       "<table border=\"1\" class=\"dataframe\">\n",
       "  <thead>\n",
       "    <tr style=\"text-align: right;\">\n",
       "      <th></th>\n",
       "      <th>Open</th>\n",
       "      <th>High</th>\n",
       "      <th>Low</th>\n",
       "      <th>Close</th>\n",
       "      <th>Volume</th>\n",
       "      <th>Dividends</th>\n",
       "      <th>Stock Splits</th>\n",
       "    </tr>\n",
       "    <tr>\n",
       "      <th>Date</th>\n",
       "      <th></th>\n",
       "      <th></th>\n",
       "      <th></th>\n",
       "      <th></th>\n",
       "      <th></th>\n",
       "      <th></th>\n",
       "      <th></th>\n",
       "    </tr>\n",
       "  </thead>\n",
       "  <tbody>\n",
       "    <tr>\n",
       "      <th>2012-05-18</th>\n",
       "      <td>42.05</td>\n",
       "      <td>45.00</td>\n",
       "      <td>38.00</td>\n",
       "      <td>38.23</td>\n",
       "      <td>573576400</td>\n",
       "      <td>0</td>\n",
       "      <td>0</td>\n",
       "    </tr>\n",
       "    <tr>\n",
       "      <th>2012-05-21</th>\n",
       "      <td>36.53</td>\n",
       "      <td>36.66</td>\n",
       "      <td>33.00</td>\n",
       "      <td>34.03</td>\n",
       "      <td>168192700</td>\n",
       "      <td>0</td>\n",
       "      <td>0</td>\n",
       "    </tr>\n",
       "    <tr>\n",
       "      <th>2012-05-22</th>\n",
       "      <td>32.61</td>\n",
       "      <td>33.59</td>\n",
       "      <td>30.94</td>\n",
       "      <td>31.00</td>\n",
       "      <td>101786600</td>\n",
       "      <td>0</td>\n",
       "      <td>0</td>\n",
       "    </tr>\n",
       "    <tr>\n",
       "      <th>2012-05-23</th>\n",
       "      <td>31.37</td>\n",
       "      <td>32.50</td>\n",
       "      <td>31.36</td>\n",
       "      <td>32.00</td>\n",
       "      <td>73600000</td>\n",
       "      <td>0</td>\n",
       "      <td>0</td>\n",
       "    </tr>\n",
       "    <tr>\n",
       "      <th>2012-05-24</th>\n",
       "      <td>32.95</td>\n",
       "      <td>33.21</td>\n",
       "      <td>31.77</td>\n",
       "      <td>33.03</td>\n",
       "      <td>50237200</td>\n",
       "      <td>0</td>\n",
       "      <td>0</td>\n",
       "    </tr>\n",
       "    <tr>\n",
       "      <th>...</th>\n",
       "      <td>...</td>\n",
       "      <td>...</td>\n",
       "      <td>...</td>\n",
       "      <td>...</td>\n",
       "      <td>...</td>\n",
       "      <td>...</td>\n",
       "      <td>...</td>\n",
       "    </tr>\n",
       "    <tr>\n",
       "      <th>2020-09-02</th>\n",
       "      <td>298.88</td>\n",
       "      <td>303.60</td>\n",
       "      <td>293.05</td>\n",
       "      <td>302.50</td>\n",
       "      <td>24341400</td>\n",
       "      <td>0</td>\n",
       "      <td>0</td>\n",
       "    </tr>\n",
       "    <tr>\n",
       "      <th>2020-09-03</th>\n",
       "      <td>295.99</td>\n",
       "      <td>297.60</td>\n",
       "      <td>283.63</td>\n",
       "      <td>291.12</td>\n",
       "      <td>32294100</td>\n",
       "      <td>0</td>\n",
       "      <td>0</td>\n",
       "    </tr>\n",
       "    <tr>\n",
       "      <th>2020-09-04</th>\n",
       "      <td>287.25</td>\n",
       "      <td>289.00</td>\n",
       "      <td>271.14</td>\n",
       "      <td>282.73</td>\n",
       "      <td>30333700</td>\n",
       "      <td>0</td>\n",
       "      <td>0</td>\n",
       "    </tr>\n",
       "    <tr>\n",
       "      <th>2020-09-08</th>\n",
       "      <td>271.28</td>\n",
       "      <td>279.30</td>\n",
       "      <td>269.42</td>\n",
       "      <td>271.16</td>\n",
       "      <td>24864000</td>\n",
       "      <td>0</td>\n",
       "      <td>0</td>\n",
       "    </tr>\n",
       "    <tr>\n",
       "      <th>2020-09-09</th>\n",
       "      <td>275.77</td>\n",
       "      <td>278.48</td>\n",
       "      <td>271.35</td>\n",
       "      <td>273.72</td>\n",
       "      <td>22878000</td>\n",
       "      <td>0</td>\n",
       "      <td>0</td>\n",
       "    </tr>\n",
       "  </tbody>\n",
       "</table>\n",
       "<p>2091 rows × 7 columns</p>\n",
       "</div>"
      ],
      "text/plain": [
       "              Open    High     Low   Close     Volume  Dividends  Stock Splits\n",
       "Date                                                                          \n",
       "2012-05-18   42.05   45.00   38.00   38.23  573576400          0             0\n",
       "2012-05-21   36.53   36.66   33.00   34.03  168192700          0             0\n",
       "2012-05-22   32.61   33.59   30.94   31.00  101786600          0             0\n",
       "2012-05-23   31.37   32.50   31.36   32.00   73600000          0             0\n",
       "2012-05-24   32.95   33.21   31.77   33.03   50237200          0             0\n",
       "...            ...     ...     ...     ...        ...        ...           ...\n",
       "2020-09-02  298.88  303.60  293.05  302.50   24341400          0             0\n",
       "2020-09-03  295.99  297.60  283.63  291.12   32294100          0             0\n",
       "2020-09-04  287.25  289.00  271.14  282.73   30333700          0             0\n",
       "2020-09-08  271.28  279.30  269.42  271.16   24864000          0             0\n",
       "2020-09-09  275.77  278.48  271.35  273.72   22878000          0             0\n",
       "\n",
       "[2091 rows x 7 columns]"
      ]
     },
     "execution_count": 86,
     "metadata": {},
     "output_type": "execute_result"
    },
    {
     "data": {
      "application/javascript": [
       "\n",
       "            setTimeout(function() {\n",
       "                var nbb_cell_id = 86;\n",
       "                var nbb_unformatted_code = \"tickers.FB.history(period=\\\"max\\\", interval=\\\"1d\\\")\";\n",
       "                var nbb_formatted_code = \"tickers.FB.history(period=\\\"max\\\", interval=\\\"1d\\\")\";\n",
       "                var nbb_cells = Jupyter.notebook.get_cells();\n",
       "                for (var i = 0; i < nbb_cells.length; ++i) {\n",
       "                    if (nbb_cells[i].input_prompt_number == nbb_cell_id) {\n",
       "                        if (nbb_cells[i].get_text() == nbb_unformatted_code) {\n",
       "                             nbb_cells[i].set_text(nbb_formatted_code);\n",
       "                        }\n",
       "                        break;\n",
       "                    }\n",
       "                }\n",
       "            }, 500);\n",
       "            "
      ],
      "text/plain": [
       "<IPython.core.display.Javascript object>"
      ]
     },
     "metadata": {},
     "output_type": "display_data"
    },
    {
     "name": "stdout",
     "output_type": "stream",
     "text": [
      "time: 205 ms\n"
     ]
    }
   ],
   "source": [
    "tickers.FB.history(period=\"max\", interval=\"1d\")"
   ]
  },
  {
   "cell_type": "code",
   "execution_count": 96,
   "metadata": {},
   "outputs": [
    {
     "name": "stdout",
     "output_type": "stream",
     "text": [
      "Option data for VXN is unavailable.\n"
     ]
    },
    {
     "data": {
      "application/javascript": [
       "\n",
       "            setTimeout(function() {\n",
       "                var nbb_cell_id = 96;\n",
       "                var nbb_unformatted_code = \"df = get_all_option_quotes(ticker=tickers.VXN, option_type=\\\"calls\\\")\";\n",
       "                var nbb_formatted_code = \"df = get_all_option_quotes(ticker=tickers.VXN, option_type=\\\"calls\\\")\";\n",
       "                var nbb_cells = Jupyter.notebook.get_cells();\n",
       "                for (var i = 0; i < nbb_cells.length; ++i) {\n",
       "                    if (nbb_cells[i].input_prompt_number == nbb_cell_id) {\n",
       "                        if (nbb_cells[i].get_text() == nbb_unformatted_code) {\n",
       "                             nbb_cells[i].set_text(nbb_formatted_code);\n",
       "                        }\n",
       "                        break;\n",
       "                    }\n",
       "                }\n",
       "            }, 500);\n",
       "            "
      ],
      "text/plain": [
       "<IPython.core.display.Javascript object>"
      ]
     },
     "metadata": {},
     "output_type": "display_data"
    },
    {
     "name": "stdout",
     "output_type": "stream",
     "text": [
      "time: 53.2 ms\n"
     ]
    }
   ],
   "source": [
    "df = get_all_option_quotes(ticker=tickers.VXN, option_type=\"calls\")"
   ]
  },
  {
   "cell_type": "code",
   "execution_count": 79,
   "metadata": {},
   "outputs": [
    {
     "data": {
      "text/html": [
       "<div>\n",
       "<style scoped>\n",
       "    .dataframe tbody tr th:only-of-type {\n",
       "        vertical-align: middle;\n",
       "    }\n",
       "\n",
       "    .dataframe tbody tr th {\n",
       "        vertical-align: top;\n",
       "    }\n",
       "\n",
       "    .dataframe thead th {\n",
       "        text-align: right;\n",
       "    }\n",
       "</style>\n",
       "<table border=\"1\" class=\"dataframe\">\n",
       "  <thead>\n",
       "    <tr style=\"text-align: right;\">\n",
       "      <th></th>\n",
       "      <th>contractSymbol</th>\n",
       "      <th>lastTradeDate</th>\n",
       "      <th>strike</th>\n",
       "      <th>lastPrice</th>\n",
       "      <th>bid</th>\n",
       "      <th>ask</th>\n",
       "      <th>change</th>\n",
       "      <th>percentChange</th>\n",
       "      <th>volume</th>\n",
       "      <th>openInterest</th>\n",
       "      <th>impliedVolatility</th>\n",
       "      <th>inTheMoney</th>\n",
       "      <th>contractSize</th>\n",
       "      <th>currency</th>\n",
       "      <th>option_expiry_date</th>\n",
       "    </tr>\n",
       "  </thead>\n",
       "  <tbody>\n",
       "    <tr>\n",
       "      <th>0</th>\n",
       "      <td>FB200911C00130000</td>\n",
       "      <td>2020-09-08 13:56:17</td>\n",
       "      <td>130.0</td>\n",
       "      <td>145.80</td>\n",
       "      <td>0.0</td>\n",
       "      <td>0.0</td>\n",
       "      <td>0.0</td>\n",
       "      <td>0.0</td>\n",
       "      <td>11.0</td>\n",
       "      <td>0.0</td>\n",
       "      <td>0.000010</td>\n",
       "      <td>1.0</td>\n",
       "      <td>REGULAR</td>\n",
       "      <td>USD</td>\n",
       "      <td>2020-09-11</td>\n",
       "    </tr>\n",
       "    <tr>\n",
       "      <th>1</th>\n",
       "      <td>FB200911C00135000</td>\n",
       "      <td>2020-09-09 16:34:24</td>\n",
       "      <td>135.0</td>\n",
       "      <td>141.30</td>\n",
       "      <td>0.0</td>\n",
       "      <td>0.0</td>\n",
       "      <td>0.0</td>\n",
       "      <td>0.0</td>\n",
       "      <td>1.0</td>\n",
       "      <td>0.0</td>\n",
       "      <td>0.000010</td>\n",
       "      <td>1.0</td>\n",
       "      <td>REGULAR</td>\n",
       "      <td>USD</td>\n",
       "      <td>2020-09-11</td>\n",
       "    </tr>\n",
       "    <tr>\n",
       "      <th>2</th>\n",
       "      <td>FB200911C00140000</td>\n",
       "      <td>2020-09-08 18:44:08</td>\n",
       "      <td>140.0</td>\n",
       "      <td>132.70</td>\n",
       "      <td>0.0</td>\n",
       "      <td>0.0</td>\n",
       "      <td>0.0</td>\n",
       "      <td>0.0</td>\n",
       "      <td>36.0</td>\n",
       "      <td>0.0</td>\n",
       "      <td>0.000010</td>\n",
       "      <td>1.0</td>\n",
       "      <td>REGULAR</td>\n",
       "      <td>USD</td>\n",
       "      <td>2020-09-11</td>\n",
       "    </tr>\n",
       "    <tr>\n",
       "      <th>3</th>\n",
       "      <td>FB200911C00145000</td>\n",
       "      <td>2020-09-08 14:28:31</td>\n",
       "      <td>145.0</td>\n",
       "      <td>130.64</td>\n",
       "      <td>0.0</td>\n",
       "      <td>0.0</td>\n",
       "      <td>0.0</td>\n",
       "      <td>0.0</td>\n",
       "      <td>3.0</td>\n",
       "      <td>0.0</td>\n",
       "      <td>0.000010</td>\n",
       "      <td>1.0</td>\n",
       "      <td>REGULAR</td>\n",
       "      <td>USD</td>\n",
       "      <td>2020-09-11</td>\n",
       "    </tr>\n",
       "    <tr>\n",
       "      <th>4</th>\n",
       "      <td>FB200911C00150000</td>\n",
       "      <td>2020-09-02 14:20:27</td>\n",
       "      <td>150.0</td>\n",
       "      <td>147.30</td>\n",
       "      <td>0.0</td>\n",
       "      <td>0.0</td>\n",
       "      <td>0.0</td>\n",
       "      <td>0.0</td>\n",
       "      <td>2.0</td>\n",
       "      <td>0.0</td>\n",
       "      <td>0.000010</td>\n",
       "      <td>1.0</td>\n",
       "      <td>REGULAR</td>\n",
       "      <td>USD</td>\n",
       "      <td>2020-09-11</td>\n",
       "    </tr>\n",
       "    <tr>\n",
       "      <th>...</th>\n",
       "      <td>...</td>\n",
       "      <td>...</td>\n",
       "      <td>...</td>\n",
       "      <td>...</td>\n",
       "      <td>...</td>\n",
       "      <td>...</td>\n",
       "      <td>...</td>\n",
       "      <td>...</td>\n",
       "      <td>...</td>\n",
       "      <td>...</td>\n",
       "      <td>...</td>\n",
       "      <td>...</td>\n",
       "      <td>...</td>\n",
       "      <td>...</td>\n",
       "      <td>...</td>\n",
       "    </tr>\n",
       "    <tr>\n",
       "      <th>51</th>\n",
       "      <td>FB220916C00400000</td>\n",
       "      <td>2020-09-09 18:41:06</td>\n",
       "      <td>400.0</td>\n",
       "      <td>27.31</td>\n",
       "      <td>0.0</td>\n",
       "      <td>0.0</td>\n",
       "      <td>0.0</td>\n",
       "      <td>0.0</td>\n",
       "      <td>6.0</td>\n",
       "      <td>0.0</td>\n",
       "      <td>0.062509</td>\n",
       "      <td>0.0</td>\n",
       "      <td>REGULAR</td>\n",
       "      <td>USD</td>\n",
       "      <td>2022-09-16</td>\n",
       "    </tr>\n",
       "    <tr>\n",
       "      <th>52</th>\n",
       "      <td>FB220916C00410000</td>\n",
       "      <td>2020-09-08 18:21:13</td>\n",
       "      <td>410.0</td>\n",
       "      <td>25.50</td>\n",
       "      <td>0.0</td>\n",
       "      <td>0.0</td>\n",
       "      <td>0.0</td>\n",
       "      <td>0.0</td>\n",
       "      <td>8.0</td>\n",
       "      <td>0.0</td>\n",
       "      <td>0.062509</td>\n",
       "      <td>0.0</td>\n",
       "      <td>REGULAR</td>\n",
       "      <td>USD</td>\n",
       "      <td>2022-09-16</td>\n",
       "    </tr>\n",
       "    <tr>\n",
       "      <th>53</th>\n",
       "      <td>FB220916C00420000</td>\n",
       "      <td>2020-09-09 13:58:04</td>\n",
       "      <td>420.0</td>\n",
       "      <td>24.79</td>\n",
       "      <td>0.0</td>\n",
       "      <td>0.0</td>\n",
       "      <td>0.0</td>\n",
       "      <td>0.0</td>\n",
       "      <td>2.0</td>\n",
       "      <td>0.0</td>\n",
       "      <td>0.062509</td>\n",
       "      <td>0.0</td>\n",
       "      <td>REGULAR</td>\n",
       "      <td>USD</td>\n",
       "      <td>2022-09-16</td>\n",
       "    </tr>\n",
       "    <tr>\n",
       "      <th>54</th>\n",
       "      <td>FB220916C00430000</td>\n",
       "      <td>2020-09-08 16:08:06</td>\n",
       "      <td>430.0</td>\n",
       "      <td>24.18</td>\n",
       "      <td>0.0</td>\n",
       "      <td>0.0</td>\n",
       "      <td>0.0</td>\n",
       "      <td>0.0</td>\n",
       "      <td>2.0</td>\n",
       "      <td>0.0</td>\n",
       "      <td>0.062509</td>\n",
       "      <td>0.0</td>\n",
       "      <td>REGULAR</td>\n",
       "      <td>USD</td>\n",
       "      <td>2022-09-16</td>\n",
       "    </tr>\n",
       "    <tr>\n",
       "      <th>55</th>\n",
       "      <td>FB220916C00440000</td>\n",
       "      <td>2020-09-09 19:40:59</td>\n",
       "      <td>440.0</td>\n",
       "      <td>20.90</td>\n",
       "      <td>0.0</td>\n",
       "      <td>0.0</td>\n",
       "      <td>0.0</td>\n",
       "      <td>0.0</td>\n",
       "      <td>8.0</td>\n",
       "      <td>0.0</td>\n",
       "      <td>0.062509</td>\n",
       "      <td>0.0</td>\n",
       "      <td>REGULAR</td>\n",
       "      <td>USD</td>\n",
       "      <td>2022-09-16</td>\n",
       "    </tr>\n",
       "  </tbody>\n",
       "</table>\n",
       "<p>1138 rows × 15 columns</p>\n",
       "</div>"
      ],
      "text/plain": [
       "       contractSymbol       lastTradeDate  strike  lastPrice  bid  ask  \\\n",
       "0   FB200911C00130000 2020-09-08 13:56:17   130.0     145.80  0.0  0.0   \n",
       "1   FB200911C00135000 2020-09-09 16:34:24   135.0     141.30  0.0  0.0   \n",
       "2   FB200911C00140000 2020-09-08 18:44:08   140.0     132.70  0.0  0.0   \n",
       "3   FB200911C00145000 2020-09-08 14:28:31   145.0     130.64  0.0  0.0   \n",
       "4   FB200911C00150000 2020-09-02 14:20:27   150.0     147.30  0.0  0.0   \n",
       "..                ...                 ...     ...        ...  ...  ...   \n",
       "51  FB220916C00400000 2020-09-09 18:41:06   400.0      27.31  0.0  0.0   \n",
       "52  FB220916C00410000 2020-09-08 18:21:13   410.0      25.50  0.0  0.0   \n",
       "53  FB220916C00420000 2020-09-09 13:58:04   420.0      24.79  0.0  0.0   \n",
       "54  FB220916C00430000 2020-09-08 16:08:06   430.0      24.18  0.0  0.0   \n",
       "55  FB220916C00440000 2020-09-09 19:40:59   440.0      20.90  0.0  0.0   \n",
       "\n",
       "    change  percentChange  volume  openInterest  impliedVolatility  \\\n",
       "0      0.0            0.0    11.0           0.0           0.000010   \n",
       "1      0.0            0.0     1.0           0.0           0.000010   \n",
       "2      0.0            0.0    36.0           0.0           0.000010   \n",
       "3      0.0            0.0     3.0           0.0           0.000010   \n",
       "4      0.0            0.0     2.0           0.0           0.000010   \n",
       "..     ...            ...     ...           ...                ...   \n",
       "51     0.0            0.0     6.0           0.0           0.062509   \n",
       "52     0.0            0.0     8.0           0.0           0.062509   \n",
       "53     0.0            0.0     2.0           0.0           0.062509   \n",
       "54     0.0            0.0     2.0           0.0           0.062509   \n",
       "55     0.0            0.0     8.0           0.0           0.062509   \n",
       "\n",
       "    inTheMoney contractSize currency option_expiry_date  \n",
       "0          1.0      REGULAR      USD         2020-09-11  \n",
       "1          1.0      REGULAR      USD         2020-09-11  \n",
       "2          1.0      REGULAR      USD         2020-09-11  \n",
       "3          1.0      REGULAR      USD         2020-09-11  \n",
       "4          1.0      REGULAR      USD         2020-09-11  \n",
       "..         ...          ...      ...                ...  \n",
       "51         0.0      REGULAR      USD         2022-09-16  \n",
       "52         0.0      REGULAR      USD         2022-09-16  \n",
       "53         0.0      REGULAR      USD         2022-09-16  \n",
       "54         0.0      REGULAR      USD         2022-09-16  \n",
       "55         0.0      REGULAR      USD         2022-09-16  \n",
       "\n",
       "[1138 rows x 15 columns]"
      ]
     },
     "execution_count": 79,
     "metadata": {},
     "output_type": "execute_result"
    },
    {
     "data": {
      "application/javascript": [
       "\n",
       "            setTimeout(function() {\n",
       "                var nbb_cell_id = 79;\n",
       "                var nbb_unformatted_code = \"df\";\n",
       "                var nbb_formatted_code = \"df\";\n",
       "                var nbb_cells = Jupyter.notebook.get_cells();\n",
       "                for (var i = 0; i < nbb_cells.length; ++i) {\n",
       "                    if (nbb_cells[i].input_prompt_number == nbb_cell_id) {\n",
       "                        if (nbb_cells[i].get_text() == nbb_unformatted_code) {\n",
       "                             nbb_cells[i].set_text(nbb_formatted_code);\n",
       "                        }\n",
       "                        break;\n",
       "                    }\n",
       "                }\n",
       "            }, 500);\n",
       "            "
      ],
      "text/plain": [
       "<IPython.core.display.Javascript object>"
      ]
     },
     "metadata": {},
     "output_type": "display_data"
    },
    {
     "name": "stdout",
     "output_type": "stream",
     "text": [
      "time: 26.4 ms\n"
     ]
    }
   ],
   "source": [
    "df"
   ]
  },
  {
   "cell_type": "code",
   "execution_count": 45,
   "metadata": {},
   "outputs": [
    {
     "data": {
      "application/vnd.plotly.v1+json": {
       "config": {
        "plotlyServerURL": "https://plot.ly"
       },
       "data": [
        {
         "hoverlabel": {
          "namelength": 0
         },
         "hovertemplate": "lastTradeDate=%{x}<br>strike=%{y}",
         "legendgroup": "",
         "marker": {
          "color": "#636efa",
          "symbol": "circle"
         },
         "mode": "markers",
         "name": "",
         "showlegend": false,
         "type": "scatter",
         "x": [
          "2020-09-08T19:46:01",
          "2020-09-09T13:30:02",
          "2020-09-09T18:05:23",
          "2020-09-01T17:13:43",
          "2020-09-09T15:10:22",
          "2020-09-08T18:52:18",
          "2020-09-09T14:46:42",
          "2020-09-08T15:20:14",
          "2020-09-09T17:28:14",
          "2020-09-08T19:10:14",
          "2020-09-09T19:03:38",
          "2020-09-09T17:22:21",
          "2020-09-09T19:13:33",
          "2020-09-08T19:10:00",
          "2020-09-08T17:58:58",
          "2020-09-09T19:22:11",
          "2020-09-09T16:00:38",
          "2020-09-09T17:59:41",
          "2020-09-09T15:46:33",
          "2020-09-08T18:32:07",
          "2020-09-09T15:43:49",
          "2020-09-09T17:28:14",
          "2020-09-09T18:55:32",
          "2020-09-09T15:11:55",
          "2020-09-09T15:12:30",
          "2020-09-09T17:24:00",
          "2020-09-09T18:10:17",
          "2020-09-09T18:58:43",
          "2020-09-08T19:25:23",
          "2020-09-09T17:43:13",
          "2020-09-08T17:06:07",
          "2020-09-09T16:24:36",
          "2020-09-09T19:57:44",
          "2020-09-08T19:20:37",
          "2020-09-09T19:42:42",
          "2020-09-09T19:23:09",
          "2020-09-09T18:55:35",
          "2020-09-09T15:27:28",
          "2020-09-09T19:36:03",
          "2020-09-09T14:23:21",
          "2020-09-09T18:15:21",
          "2020-09-09T15:09:55",
          "2020-09-09T19:52:18",
          "2020-09-09T18:27:37",
          "2020-09-09T19:19:21",
          "2020-09-09T13:42:15",
          "2020-09-09T18:15:06",
          "2020-09-08T19:29:38",
          "2020-09-09T15:10:54",
          "2020-09-09T19:08:37",
          "2020-09-09T19:06:35",
          "2020-09-09T19:52:15",
          "2020-09-09T19:59:41",
          "2020-09-09T19:18:50",
          "2020-09-09T14:34:22",
          "2020-09-09T18:20:42",
          "2020-09-09T19:51:46",
          "2020-09-09T19:51:46",
          "2020-09-09T18:44:48",
          "2020-09-09T18:04:54",
          "2020-09-09T15:52:17",
          "2020-09-09T19:10:51",
          "2020-09-09T19:55:05",
          "2020-09-09T19:08:47",
          "2020-09-09T19:52:40",
          "2020-09-09T15:16:21",
          "2020-09-09T19:52:18",
          "2020-09-09T19:52:18",
          "2020-09-09T13:47:19",
          "2020-09-09T17:43:14",
          "2020-09-09T19:43:02",
          "2020-09-09T19:54:54",
          "2020-09-09T19:56:28",
          "2020-09-09T19:23:24",
          "2020-09-09T18:59:54",
          "2020-09-09T19:17:43",
          "2020-09-09T19:52:20",
          "2020-09-09T19:58:27",
          "2020-09-09T19:53:52",
          "2020-09-09T19:59:17",
          "2020-09-09T19:59:17",
          "2020-09-09T19:53:22",
          "2020-09-09T19:58:59",
          "2020-09-09T19:59:25",
          "2020-09-09T19:58:15",
          "2020-09-09T19:59:07",
          "2020-09-09T19:59:46",
          "2020-09-09T19:57:35",
          "2020-09-09T19:56:07",
          "2020-09-09T19:59:49",
          "2020-09-09T19:57:39",
          "2020-09-09T19:59:42",
          "2020-09-09T19:59:17",
          "2020-09-09T19:59:22",
          "2020-09-09T19:59:46",
          "2020-09-09T19:59:49",
          "2020-09-09T19:59:32",
          "2020-09-09T19:59:36",
          "2020-09-09T19:59:59",
          "2020-09-09T19:59:56",
          "2020-09-09T19:59:58",
          "2020-09-09T19:59:59",
          "2020-09-09T19:59:59",
          "2020-09-09T19:59:24",
          "2020-09-09T19:59:46",
          "2020-09-09T19:59:08",
          "2020-09-09T19:58:10",
          "2020-09-09T19:59:49",
          "2020-09-09T19:59:25",
          "2020-09-09T19:59:30",
          "2020-09-09T19:59:55",
          "2020-09-09T19:59:19",
          "2020-09-09T19:59:56",
          "2020-09-09T19:59:11",
          "2020-09-09T19:59:46",
          "2020-09-09T19:59:55",
          "2020-09-09T19:59:43",
          "2020-09-09T19:59:56",
          "2020-09-09T19:57:24",
          "2020-09-09T19:58:44",
          "2020-09-09T19:58:40",
          "2020-09-09T19:59:59",
          "2020-09-09T19:59:59",
          "2020-09-09T19:59:59",
          "2020-09-09T19:59:56",
          "2020-09-09T19:58:43",
          "2020-09-09T19:59:00",
          "2020-09-09T19:59:19",
          "2020-09-09T19:57:19",
          "2020-09-09T19:59:24",
          "2020-09-09T19:58:51",
          "2020-09-09T19:57:53",
          "2020-09-09T19:59:46",
          "2020-09-09T19:59:50",
          "2020-09-09T19:59:02",
          "2020-09-09T19:59:59",
          "2020-09-09T19:59:28",
          "2020-09-09T19:57:13",
          "2020-09-09T19:55:24",
          "2020-09-09T19:59:08",
          "2020-09-09T19:59:13",
          "2020-09-09T19:58:51",
          "2020-09-09T19:59:56",
          "2020-09-09T19:59:42",
          "2020-09-09T19:54:31",
          "2020-09-09T19:57:52",
          "2020-09-09T19:57:52",
          "2020-09-09T19:59:54",
          "2020-09-09T19:58:31",
          "2020-09-09T19:57:23",
          "2020-09-09T19:58:46",
          "2020-09-09T19:47:12",
          "2020-09-09T19:59:47",
          "2020-09-09T19:52:44",
          "2020-09-09T19:59:55",
          "2020-09-09T19:57:03",
          "2020-09-09T19:53:21",
          "2020-09-09T19:59:25",
          "2020-09-09T19:57:14",
          "2020-09-09T19:59:02",
          "2020-09-09T19:53:58",
          "2020-09-09T19:33:54",
          "2020-09-09T19:59:36",
          "2020-09-09T19:55:38",
          "2020-09-09T19:59:45",
          "2020-09-09T19:57:13",
          "2020-09-09T19:58:36",
          "2020-09-09T19:58:13",
          "2020-09-09T19:55:25",
          "2020-09-09T19:58:57",
          "2020-09-09T19:59:45",
          "2020-09-09T19:59:55",
          "2020-09-09T19:59:28",
          "2020-09-09T19:58:30",
          "2020-09-09T19:59:44",
          "2020-09-09T19:57:14",
          "2020-09-09T19:56:06",
          "2020-09-09T19:57:37",
          "2020-09-09T19:54:59",
          "2020-09-09T19:56:22",
          "2020-09-09T19:59:46",
          "2020-09-09T19:58:37",
          "2020-09-09T19:59:44",
          "2020-09-09T19:01:42",
          "2020-09-09T19:59:30",
          "2020-09-09T19:34:12",
          "2020-09-09T19:58:03",
          "2020-09-09T19:51:17",
          "2020-09-09T19:48:12",
          "2020-09-09T19:49:26",
          "2020-09-09T19:59:42",
          "2020-09-09T19:58:41",
          "2020-09-09T19:57:39",
          "2020-09-09T19:48:42",
          "2020-09-09T19:58:47",
          "2020-09-09T19:54:12",
          "2020-09-09T19:57:00",
          "2020-09-09T18:41:11",
          "2020-09-09T19:24:56",
          "2020-09-09T19:06:00",
          "2020-09-09T19:58:30",
          "2020-09-09T19:57:51",
          "2020-09-09T19:56:17",
          "2020-09-09T19:58:57",
          "2020-09-09T19:57:40",
          "2020-09-09T19:58:54",
          "2020-09-09T19:42:19",
          "2020-09-09T19:54:30",
          "2020-09-09T19:54:30",
          "2020-09-09T19:44:17",
          "2020-09-09T19:57:22",
          "2020-08-27T17:55:26",
          "2020-08-25T19:26:52",
          "2020-08-17T04:09:14",
          "2020-08-17T19:07:19",
          "2020-08-28T19:40:45",
          "2020-08-21T19:07:48",
          "2020-08-13T13:39:53",
          "2020-08-27T15:58:24",
          "2020-08-26T15:00:16",
          "2020-08-24T14:03:59",
          "2020-08-05T18:18:51",
          "2020-08-20T18:16:39",
          "2020-08-24T14:03:59",
          "2020-08-28T19:39:22",
          "2020-08-27T16:51:54",
          "2020-08-28T17:16:18",
          "2020-08-17T04:08:54",
          "2020-08-28T19:17:42",
          "2020-08-27T13:31:40",
          "2020-08-28T15:15:26",
          "2020-08-24T13:44:44",
          "2020-08-28T17:19:11",
          "2020-08-28T19:34:31",
          "2020-08-26T19:47:03",
          "2020-08-26T15:19:08",
          "2020-08-26T15:19:08",
          "2020-08-26T14:12:16",
          "2020-08-28T19:41:00",
          "2020-08-28T16:17:02",
          "2020-08-26T18:58:08",
          "2020-08-18T14:14:53",
          "2020-08-24T13:51:35",
          "2020-08-28T18:28:21",
          "2020-08-28T15:15:26",
          "2020-08-28T18:43:09",
          "2020-08-28T18:37:38",
          "2020-08-28T18:40:14",
          "2020-08-28T17:52:05",
          "2020-08-28T19:34:05",
          "2020-08-28T18:50:00",
          "2020-08-27T15:45:38",
          "2020-08-28T17:19:39",
          "2020-08-27T16:48:46",
          "2020-08-19T19:26:01",
          "2020-08-26T15:04:53",
          "2020-08-28T17:42:45",
          "2020-08-28T19:34:05",
          "2020-08-28T19:14:38",
          "2020-08-27T13:51:55",
          "2020-08-28T19:34:56",
          "2020-08-28T18:43:09",
          "2020-08-28T18:56:53",
          "2020-08-28T18:43:09",
          "2020-08-28T17:53:19",
          "2020-08-28T19:16:03",
          "2020-08-28T17:19:39",
          "2020-08-28T18:32:04",
          "2020-08-28T18:43:09",
          "2020-08-28T18:53:05",
          "2020-08-28T17:18:55",
          "2020-08-28T18:42:36",
          "2020-08-28T17:19:39",
          "2020-08-26T17:44:13",
          "2020-08-28T19:40:55",
          "2020-08-28T15:54:00",
          "2020-08-25T13:30:17",
          "2020-08-28T19:39:56",
          "2020-08-28T19:40:55",
          "2020-08-28T15:53:59",
          "2020-08-28T19:39:22",
          "2020-08-28T16:17:02",
          "2020-08-28T19:30:49",
          "2020-08-27T14:16:45",
          "2020-08-28T18:17:17",
          "2020-08-26T17:12:29",
          "2020-08-28T19:40:55",
          "2020-08-28T17:56:14",
          "2020-08-28T15:31:41",
          "2020-08-28T19:59:23",
          "2020-08-28T19:18:47",
          "2020-08-28T19:51:20",
          "2020-08-28T19:44:36",
          "2020-08-28T19:40:55",
          "2020-08-28T18:03:00",
          "2020-08-28T18:06:13",
          "2020-08-28T18:00:08",
          "2020-08-28T18:00:14",
          "2020-08-28T19:19:52",
          "2020-08-28T18:53:05",
          "2020-08-28T16:17:02",
          "2020-08-28T15:37:35",
          "2020-08-28T17:07:08",
          "2020-08-28T18:04:41",
          "2020-08-28T19:20:37",
          "2020-08-28T18:00:11",
          "2020-08-28T16:55:13",
          "2020-08-28T19:05:17",
          "2020-08-28T19:58:09",
          "2020-08-28T13:56:34",
          "2020-08-28T19:09:54",
          "2020-08-26T15:44:33",
          "2020-08-28T16:58:56",
          "2020-08-27T15:11:21",
          "2020-08-28T19:32:32",
          "2020-08-24T16:59:18",
          "2020-08-27T13:40:26",
          "2020-08-26T18:14:33",
          "2020-08-28T16:58:23",
          "2020-08-28T17:17:06",
          "2020-08-28T16:44:23",
          "2020-08-28T16:38:25",
          "2020-08-28T17:17:25",
          "2020-08-28T14:08:02",
          "2020-08-28T16:51:18",
          "2020-08-28T18:13:02",
          "2020-08-28T18:13:02",
          "2020-08-28T19:52:19",
          "2020-08-28T19:55:55",
          "2020-08-28T19:46:14",
          "2020-08-28T16:22:22",
          "2020-08-28T16:01:08",
          "2020-08-28T18:05:24",
          "2020-08-28T16:38:29",
          "2020-08-27T19:56:51",
          "2020-08-27T19:23:11",
          "2020-08-28T18:05:24",
          "2020-08-27T19:36:04",
          "2020-08-28T19:44:50",
          "2020-08-28T19:52:14",
          "2020-08-28T17:17:25",
          "2020-08-28T14:51:57",
          "2020-08-28T19:57:58",
          "2020-08-28T19:36:37",
          "2020-08-28T19:39:48",
          "2020-08-28T19:48:36",
          "2020-08-28T17:36:52",
          "2020-08-28T19:48:48",
          "2020-08-28T19:58:10",
          "2020-08-28T19:54:06",
          "2020-08-28T18:38:18",
          "2020-08-28T18:38:18",
          "2020-08-28T14:22:29",
          "2020-08-28T19:58:03",
          "2020-08-28T19:58:34",
          "2020-08-28T18:29:47",
          "2020-08-28T19:46:47",
          "2020-08-28T19:46:46",
          "2020-08-28T19:59:56",
          "2020-08-28T19:09:59",
          "2020-08-28T19:48:02",
          "2020-08-28T19:44:11",
          "2020-08-28T19:48:02",
          "2020-08-28T19:13:08",
          "2020-08-28T19:13:39",
          "2020-08-28T19:46:47",
          "2020-08-28T19:58:50",
          "2020-08-28T19:58:31",
          "2020-08-28T19:59:47",
          "2020-08-28T19:59:55",
          "2020-08-28T19:59:31",
          "2020-08-28T19:59:31",
          "2020-08-28T19:59:31",
          "2020-08-28T19:59:31",
          "2020-08-28T19:59:59",
          "2020-08-28T19:59:59",
          "2020-08-28T19:59:55",
          "2020-08-28T19:55:39",
          "2020-08-28T19:59:04",
          "2020-08-28T19:59:13",
          "2020-08-28T19:59:12",
          "2020-08-28T19:40:05",
          "2020-08-28T19:59:32",
          "2020-08-28T19:57:41",
          "2020-08-28T19:49:36",
          "2020-08-28T19:47:08",
          "2020-08-28T19:59:54",
          "2020-08-28T19:59:59",
          "2020-08-28T19:58:18",
          "2020-08-28T19:59:20",
          "2020-08-28T19:58:39",
          "2020-08-28T19:59:56",
          "2020-08-28T19:59:37",
          "2020-08-28T19:59:37",
          "2020-08-28T19:59:17",
          "2020-08-28T19:58:26",
          "2020-08-28T19:59:01",
          "2020-08-28T19:59:57",
          "2020-08-28T19:58:42",
          "2020-08-28T19:56:22",
          "2020-08-28T19:57:37",
          "2020-08-28T19:59:36"
         ],
         "xaxis": "x",
         "y": [
          20,
          40,
          60,
          80,
          100,
          170,
          180,
          190,
          200,
          210,
          220,
          230,
          240,
          242,
          244,
          246,
          248,
          250,
          252,
          254,
          256,
          258,
          260,
          262,
          264,
          266,
          268,
          270,
          272,
          274,
          276,
          278,
          280,
          281,
          282,
          283,
          284,
          285,
          286,
          287,
          288,
          289,
          290,
          291,
          292,
          293,
          294,
          295,
          296,
          297,
          298,
          299,
          300,
          301,
          302,
          303,
          304,
          305,
          306,
          307,
          308,
          309,
          310,
          311,
          312,
          313,
          314,
          315,
          316,
          317,
          318,
          319,
          320,
          321,
          322,
          323,
          324,
          325,
          326,
          328,
          330,
          332,
          334,
          335,
          336,
          338,
          340,
          342,
          344,
          345,
          346,
          348,
          350,
          352,
          354,
          355,
          356,
          358,
          360,
          365,
          370,
          375,
          380,
          381,
          382,
          383,
          384,
          385,
          386,
          387,
          388,
          389,
          390,
          391,
          392,
          393,
          394,
          395,
          396,
          397,
          398,
          399,
          400,
          401,
          402,
          403,
          404,
          405,
          406,
          407,
          408,
          409,
          410,
          411,
          412,
          413,
          414,
          415,
          416,
          417,
          418,
          419,
          420,
          421,
          422,
          423,
          424,
          425,
          426,
          427,
          428,
          429,
          430,
          431,
          432,
          433,
          434,
          435,
          436,
          437,
          438,
          439,
          440,
          441,
          442,
          443,
          444,
          445,
          446,
          447,
          450,
          455,
          460,
          465,
          470,
          475,
          480,
          485,
          490,
          495,
          500,
          505,
          510,
          515,
          520,
          525,
          530,
          535,
          540,
          545,
          550,
          555,
          560,
          565,
          570,
          575,
          580,
          585,
          590,
          595,
          600,
          620,
          640,
          660,
          680,
          700,
          720,
          740,
          760,
          780,
          800,
          850,
          900,
          950,
          1000,
          1050,
          1100,
          1150,
          1200,
          1210,
          1220,
          1230,
          1240,
          1250,
          1260,
          1270,
          1280,
          1290,
          1300,
          1310,
          1320,
          1330,
          1340,
          1350,
          1360,
          1370,
          1380,
          1390,
          1400,
          1405,
          1410,
          1415,
          1420,
          1425,
          1430,
          1435,
          1440,
          1445,
          1450,
          1455,
          1460,
          1465,
          1470,
          1475,
          1480,
          1485,
          1490,
          1495,
          1500,
          1505,
          1510,
          1515,
          1520,
          1525,
          1530,
          1535,
          1540,
          1545,
          1550,
          1555,
          1560,
          1565,
          1570,
          1575,
          1580,
          1585,
          1590,
          1595,
          1600,
          1605,
          1610,
          1615,
          1620,
          1625,
          1630,
          1640,
          1650,
          1660,
          1670,
          1675,
          1680,
          1690,
          1700,
          1710,
          1720,
          1725,
          1730,
          1740,
          1750,
          1760,
          1770,
          1775,
          1780,
          1790,
          1800,
          1825,
          1850,
          1875,
          1900,
          1905,
          1910,
          1915,
          1920,
          1925,
          1930,
          1935,
          1940,
          1945,
          1950,
          1955,
          1960,
          1965,
          1970,
          1975,
          1980,
          1985,
          1990,
          1995,
          2000,
          2005,
          2010,
          2015,
          2020,
          2025,
          2030,
          2035,
          2040,
          2045,
          2050,
          2055,
          2060,
          2065,
          2070,
          2075,
          2080,
          2085,
          2090,
          2095,
          2100,
          2105,
          2110,
          2115,
          2120,
          2125,
          2130,
          2135,
          2140,
          2145,
          2150,
          2155,
          2160,
          2165,
          2170,
          2175,
          2180,
          2185,
          2190,
          2195,
          2200,
          2205,
          2210,
          2215,
          2220,
          2225,
          2230,
          2235,
          2250,
          2275,
          2300,
          2325,
          2350,
          2375,
          2400,
          2425,
          2450,
          2475,
          2500,
          2600,
          2700,
          2800,
          2900,
          3000,
          3100,
          3200,
          3300,
          3400,
          3500,
          3600,
          3700,
          3800,
          3900,
          4000
         ],
         "yaxis": "y"
        }
       ],
       "layout": {
        "legend": {
         "tracegroupgap": 0
        },
        "margin": {
         "t": 60
        },
        "template": {
         "data": {
          "bar": [
           {
            "error_x": {
             "color": "#2a3f5f"
            },
            "error_y": {
             "color": "#2a3f5f"
            },
            "marker": {
             "line": {
              "color": "#E5ECF6",
              "width": 0.5
             }
            },
            "type": "bar"
           }
          ],
          "barpolar": [
           {
            "marker": {
             "line": {
              "color": "#E5ECF6",
              "width": 0.5
             }
            },
            "type": "barpolar"
           }
          ],
          "carpet": [
           {
            "aaxis": {
             "endlinecolor": "#2a3f5f",
             "gridcolor": "white",
             "linecolor": "white",
             "minorgridcolor": "white",
             "startlinecolor": "#2a3f5f"
            },
            "baxis": {
             "endlinecolor": "#2a3f5f",
             "gridcolor": "white",
             "linecolor": "white",
             "minorgridcolor": "white",
             "startlinecolor": "#2a3f5f"
            },
            "type": "carpet"
           }
          ],
          "choropleth": [
           {
            "colorbar": {
             "outlinewidth": 0,
             "ticks": ""
            },
            "type": "choropleth"
           }
          ],
          "contour": [
           {
            "colorbar": {
             "outlinewidth": 0,
             "ticks": ""
            },
            "colorscale": [
             [
              0,
              "#0d0887"
             ],
             [
              0.1111111111111111,
              "#46039f"
             ],
             [
              0.2222222222222222,
              "#7201a8"
             ],
             [
              0.3333333333333333,
              "#9c179e"
             ],
             [
              0.4444444444444444,
              "#bd3786"
             ],
             [
              0.5555555555555556,
              "#d8576b"
             ],
             [
              0.6666666666666666,
              "#ed7953"
             ],
             [
              0.7777777777777778,
              "#fb9f3a"
             ],
             [
              0.8888888888888888,
              "#fdca26"
             ],
             [
              1,
              "#f0f921"
             ]
            ],
            "type": "contour"
           }
          ],
          "contourcarpet": [
           {
            "colorbar": {
             "outlinewidth": 0,
             "ticks": ""
            },
            "type": "contourcarpet"
           }
          ],
          "heatmap": [
           {
            "colorbar": {
             "outlinewidth": 0,
             "ticks": ""
            },
            "colorscale": [
             [
              0,
              "#0d0887"
             ],
             [
              0.1111111111111111,
              "#46039f"
             ],
             [
              0.2222222222222222,
              "#7201a8"
             ],
             [
              0.3333333333333333,
              "#9c179e"
             ],
             [
              0.4444444444444444,
              "#bd3786"
             ],
             [
              0.5555555555555556,
              "#d8576b"
             ],
             [
              0.6666666666666666,
              "#ed7953"
             ],
             [
              0.7777777777777778,
              "#fb9f3a"
             ],
             [
              0.8888888888888888,
              "#fdca26"
             ],
             [
              1,
              "#f0f921"
             ]
            ],
            "type": "heatmap"
           }
          ],
          "heatmapgl": [
           {
            "colorbar": {
             "outlinewidth": 0,
             "ticks": ""
            },
            "colorscale": [
             [
              0,
              "#0d0887"
             ],
             [
              0.1111111111111111,
              "#46039f"
             ],
             [
              0.2222222222222222,
              "#7201a8"
             ],
             [
              0.3333333333333333,
              "#9c179e"
             ],
             [
              0.4444444444444444,
              "#bd3786"
             ],
             [
              0.5555555555555556,
              "#d8576b"
             ],
             [
              0.6666666666666666,
              "#ed7953"
             ],
             [
              0.7777777777777778,
              "#fb9f3a"
             ],
             [
              0.8888888888888888,
              "#fdca26"
             ],
             [
              1,
              "#f0f921"
             ]
            ],
            "type": "heatmapgl"
           }
          ],
          "histogram": [
           {
            "marker": {
             "colorbar": {
              "outlinewidth": 0,
              "ticks": ""
             }
            },
            "type": "histogram"
           }
          ],
          "histogram2d": [
           {
            "colorbar": {
             "outlinewidth": 0,
             "ticks": ""
            },
            "colorscale": [
             [
              0,
              "#0d0887"
             ],
             [
              0.1111111111111111,
              "#46039f"
             ],
             [
              0.2222222222222222,
              "#7201a8"
             ],
             [
              0.3333333333333333,
              "#9c179e"
             ],
             [
              0.4444444444444444,
              "#bd3786"
             ],
             [
              0.5555555555555556,
              "#d8576b"
             ],
             [
              0.6666666666666666,
              "#ed7953"
             ],
             [
              0.7777777777777778,
              "#fb9f3a"
             ],
             [
              0.8888888888888888,
              "#fdca26"
             ],
             [
              1,
              "#f0f921"
             ]
            ],
            "type": "histogram2d"
           }
          ],
          "histogram2dcontour": [
           {
            "colorbar": {
             "outlinewidth": 0,
             "ticks": ""
            },
            "colorscale": [
             [
              0,
              "#0d0887"
             ],
             [
              0.1111111111111111,
              "#46039f"
             ],
             [
              0.2222222222222222,
              "#7201a8"
             ],
             [
              0.3333333333333333,
              "#9c179e"
             ],
             [
              0.4444444444444444,
              "#bd3786"
             ],
             [
              0.5555555555555556,
              "#d8576b"
             ],
             [
              0.6666666666666666,
              "#ed7953"
             ],
             [
              0.7777777777777778,
              "#fb9f3a"
             ],
             [
              0.8888888888888888,
              "#fdca26"
             ],
             [
              1,
              "#f0f921"
             ]
            ],
            "type": "histogram2dcontour"
           }
          ],
          "mesh3d": [
           {
            "colorbar": {
             "outlinewidth": 0,
             "ticks": ""
            },
            "type": "mesh3d"
           }
          ],
          "parcoords": [
           {
            "line": {
             "colorbar": {
              "outlinewidth": 0,
              "ticks": ""
             }
            },
            "type": "parcoords"
           }
          ],
          "pie": [
           {
            "automargin": true,
            "type": "pie"
           }
          ],
          "scatter": [
           {
            "marker": {
             "colorbar": {
              "outlinewidth": 0,
              "ticks": ""
             }
            },
            "type": "scatter"
           }
          ],
          "scatter3d": [
           {
            "line": {
             "colorbar": {
              "outlinewidth": 0,
              "ticks": ""
             }
            },
            "marker": {
             "colorbar": {
              "outlinewidth": 0,
              "ticks": ""
             }
            },
            "type": "scatter3d"
           }
          ],
          "scattercarpet": [
           {
            "marker": {
             "colorbar": {
              "outlinewidth": 0,
              "ticks": ""
             }
            },
            "type": "scattercarpet"
           }
          ],
          "scattergeo": [
           {
            "marker": {
             "colorbar": {
              "outlinewidth": 0,
              "ticks": ""
             }
            },
            "type": "scattergeo"
           }
          ],
          "scattergl": [
           {
            "marker": {
             "colorbar": {
              "outlinewidth": 0,
              "ticks": ""
             }
            },
            "type": "scattergl"
           }
          ],
          "scattermapbox": [
           {
            "marker": {
             "colorbar": {
              "outlinewidth": 0,
              "ticks": ""
             }
            },
            "type": "scattermapbox"
           }
          ],
          "scatterpolar": [
           {
            "marker": {
             "colorbar": {
              "outlinewidth": 0,
              "ticks": ""
             }
            },
            "type": "scatterpolar"
           }
          ],
          "scatterpolargl": [
           {
            "marker": {
             "colorbar": {
              "outlinewidth": 0,
              "ticks": ""
             }
            },
            "type": "scatterpolargl"
           }
          ],
          "scatterternary": [
           {
            "marker": {
             "colorbar": {
              "outlinewidth": 0,
              "ticks": ""
             }
            },
            "type": "scatterternary"
           }
          ],
          "surface": [
           {
            "colorbar": {
             "outlinewidth": 0,
             "ticks": ""
            },
            "colorscale": [
             [
              0,
              "#0d0887"
             ],
             [
              0.1111111111111111,
              "#46039f"
             ],
             [
              0.2222222222222222,
              "#7201a8"
             ],
             [
              0.3333333333333333,
              "#9c179e"
             ],
             [
              0.4444444444444444,
              "#bd3786"
             ],
             [
              0.5555555555555556,
              "#d8576b"
             ],
             [
              0.6666666666666666,
              "#ed7953"
             ],
             [
              0.7777777777777778,
              "#fb9f3a"
             ],
             [
              0.8888888888888888,
              "#fdca26"
             ],
             [
              1,
              "#f0f921"
             ]
            ],
            "type": "surface"
           }
          ],
          "table": [
           {
            "cells": {
             "fill": {
              "color": "#EBF0F8"
             },
             "line": {
              "color": "white"
             }
            },
            "header": {
             "fill": {
              "color": "#C8D4E3"
             },
             "line": {
              "color": "white"
             }
            },
            "type": "table"
           }
          ]
         },
         "layout": {
          "annotationdefaults": {
           "arrowcolor": "#2a3f5f",
           "arrowhead": 0,
           "arrowwidth": 1
          },
          "coloraxis": {
           "colorbar": {
            "outlinewidth": 0,
            "ticks": ""
           }
          },
          "colorscale": {
           "diverging": [
            [
             0,
             "#8e0152"
            ],
            [
             0.1,
             "#c51b7d"
            ],
            [
             0.2,
             "#de77ae"
            ],
            [
             0.3,
             "#f1b6da"
            ],
            [
             0.4,
             "#fde0ef"
            ],
            [
             0.5,
             "#f7f7f7"
            ],
            [
             0.6,
             "#e6f5d0"
            ],
            [
             0.7,
             "#b8e186"
            ],
            [
             0.8,
             "#7fbc41"
            ],
            [
             0.9,
             "#4d9221"
            ],
            [
             1,
             "#276419"
            ]
           ],
           "sequential": [
            [
             0,
             "#0d0887"
            ],
            [
             0.1111111111111111,
             "#46039f"
            ],
            [
             0.2222222222222222,
             "#7201a8"
            ],
            [
             0.3333333333333333,
             "#9c179e"
            ],
            [
             0.4444444444444444,
             "#bd3786"
            ],
            [
             0.5555555555555556,
             "#d8576b"
            ],
            [
             0.6666666666666666,
             "#ed7953"
            ],
            [
             0.7777777777777778,
             "#fb9f3a"
            ],
            [
             0.8888888888888888,
             "#fdca26"
            ],
            [
             1,
             "#f0f921"
            ]
           ],
           "sequentialminus": [
            [
             0,
             "#0d0887"
            ],
            [
             0.1111111111111111,
             "#46039f"
            ],
            [
             0.2222222222222222,
             "#7201a8"
            ],
            [
             0.3333333333333333,
             "#9c179e"
            ],
            [
             0.4444444444444444,
             "#bd3786"
            ],
            [
             0.5555555555555556,
             "#d8576b"
            ],
            [
             0.6666666666666666,
             "#ed7953"
            ],
            [
             0.7777777777777778,
             "#fb9f3a"
            ],
            [
             0.8888888888888888,
             "#fdca26"
            ],
            [
             1,
             "#f0f921"
            ]
           ]
          },
          "colorway": [
           "#636efa",
           "#EF553B",
           "#00cc96",
           "#ab63fa",
           "#FFA15A",
           "#19d3f3",
           "#FF6692",
           "#B6E880",
           "#FF97FF",
           "#FECB52"
          ],
          "font": {
           "color": "#2a3f5f"
          },
          "geo": {
           "bgcolor": "white",
           "lakecolor": "white",
           "landcolor": "#E5ECF6",
           "showlakes": true,
           "showland": true,
           "subunitcolor": "white"
          },
          "hoverlabel": {
           "align": "left"
          },
          "hovermode": "closest",
          "mapbox": {
           "style": "light"
          },
          "paper_bgcolor": "white",
          "plot_bgcolor": "#E5ECF6",
          "polar": {
           "angularaxis": {
            "gridcolor": "white",
            "linecolor": "white",
            "ticks": ""
           },
           "bgcolor": "#E5ECF6",
           "radialaxis": {
            "gridcolor": "white",
            "linecolor": "white",
            "ticks": ""
           }
          },
          "scene": {
           "xaxis": {
            "backgroundcolor": "#E5ECF6",
            "gridcolor": "white",
            "gridwidth": 2,
            "linecolor": "white",
            "showbackground": true,
            "ticks": "",
            "zerolinecolor": "white"
           },
           "yaxis": {
            "backgroundcolor": "#E5ECF6",
            "gridcolor": "white",
            "gridwidth": 2,
            "linecolor": "white",
            "showbackground": true,
            "ticks": "",
            "zerolinecolor": "white"
           },
           "zaxis": {
            "backgroundcolor": "#E5ECF6",
            "gridcolor": "white",
            "gridwidth": 2,
            "linecolor": "white",
            "showbackground": true,
            "ticks": "",
            "zerolinecolor": "white"
           }
          },
          "shapedefaults": {
           "line": {
            "color": "#2a3f5f"
           }
          },
          "ternary": {
           "aaxis": {
            "gridcolor": "white",
            "linecolor": "white",
            "ticks": ""
           },
           "baxis": {
            "gridcolor": "white",
            "linecolor": "white",
            "ticks": ""
           },
           "bgcolor": "#E5ECF6",
           "caxis": {
            "gridcolor": "white",
            "linecolor": "white",
            "ticks": ""
           }
          },
          "title": {
           "x": 0.05
          },
          "xaxis": {
           "automargin": true,
           "gridcolor": "white",
           "linecolor": "white",
           "ticks": "",
           "title": {
            "standoff": 15
           },
           "zerolinecolor": "white",
           "zerolinewidth": 2
          },
          "yaxis": {
           "automargin": true,
           "gridcolor": "white",
           "linecolor": "white",
           "ticks": "",
           "title": {
            "standoff": 15
           },
           "zerolinecolor": "white",
           "zerolinewidth": 2
          }
         }
        },
        "xaxis": {
         "anchor": "y",
         "domain": [
          0,
          1
         ],
         "title": {
          "text": "lastTradeDate"
         }
        },
        "yaxis": {
         "anchor": "x",
         "domain": [
          0,
          1
         ],
         "title": {
          "text": "strike"
         }
        }
       }
      },
      "text/html": [
       "<div>\n",
       "        \n",
       "        \n",
       "            <div id=\"b0521bee-e474-45dd-a0f9-e606b8fe7c57\" class=\"plotly-graph-div\" style=\"height:525px; width:100%;\"></div>\n",
       "            <script type=\"text/javascript\">\n",
       "                require([\"plotly\"], function(Plotly) {\n",
       "                    window.PLOTLYENV=window.PLOTLYENV || {};\n",
       "                    \n",
       "                if (document.getElementById(\"b0521bee-e474-45dd-a0f9-e606b8fe7c57\")) {\n",
       "                    Plotly.newPlot(\n",
       "                        'b0521bee-e474-45dd-a0f9-e606b8fe7c57',\n",
       "                        [{\"hoverlabel\": {\"namelength\": 0}, \"hovertemplate\": \"lastTradeDate=%{x}<br>strike=%{y}\", \"legendgroup\": \"\", \"marker\": {\"color\": \"#636efa\", \"symbol\": \"circle\"}, \"mode\": \"markers\", \"name\": \"\", \"showlegend\": false, \"type\": \"scatter\", \"x\": [\"2020-09-08T19:46:01\", \"2020-09-09T13:30:02\", \"2020-09-09T18:05:23\", \"2020-09-01T17:13:43\", \"2020-09-09T15:10:22\", \"2020-09-08T18:52:18\", \"2020-09-09T14:46:42\", \"2020-09-08T15:20:14\", \"2020-09-09T17:28:14\", \"2020-09-08T19:10:14\", \"2020-09-09T19:03:38\", \"2020-09-09T17:22:21\", \"2020-09-09T19:13:33\", \"2020-09-08T19:10:00\", \"2020-09-08T17:58:58\", \"2020-09-09T19:22:11\", \"2020-09-09T16:00:38\", \"2020-09-09T17:59:41\", \"2020-09-09T15:46:33\", \"2020-09-08T18:32:07\", \"2020-09-09T15:43:49\", \"2020-09-09T17:28:14\", \"2020-09-09T18:55:32\", \"2020-09-09T15:11:55\", \"2020-09-09T15:12:30\", \"2020-09-09T17:24:00\", \"2020-09-09T18:10:17\", \"2020-09-09T18:58:43\", \"2020-09-08T19:25:23\", \"2020-09-09T17:43:13\", \"2020-09-08T17:06:07\", \"2020-09-09T16:24:36\", \"2020-09-09T19:57:44\", \"2020-09-08T19:20:37\", \"2020-09-09T19:42:42\", \"2020-09-09T19:23:09\", \"2020-09-09T18:55:35\", \"2020-09-09T15:27:28\", \"2020-09-09T19:36:03\", \"2020-09-09T14:23:21\", \"2020-09-09T18:15:21\", \"2020-09-09T15:09:55\", \"2020-09-09T19:52:18\", \"2020-09-09T18:27:37\", \"2020-09-09T19:19:21\", \"2020-09-09T13:42:15\", \"2020-09-09T18:15:06\", \"2020-09-08T19:29:38\", \"2020-09-09T15:10:54\", \"2020-09-09T19:08:37\", \"2020-09-09T19:06:35\", \"2020-09-09T19:52:15\", \"2020-09-09T19:59:41\", \"2020-09-09T19:18:50\", \"2020-09-09T14:34:22\", \"2020-09-09T18:20:42\", \"2020-09-09T19:51:46\", \"2020-09-09T19:51:46\", \"2020-09-09T18:44:48\", \"2020-09-09T18:04:54\", \"2020-09-09T15:52:17\", \"2020-09-09T19:10:51\", \"2020-09-09T19:55:05\", \"2020-09-09T19:08:47\", \"2020-09-09T19:52:40\", \"2020-09-09T15:16:21\", \"2020-09-09T19:52:18\", \"2020-09-09T19:52:18\", \"2020-09-09T13:47:19\", \"2020-09-09T17:43:14\", \"2020-09-09T19:43:02\", \"2020-09-09T19:54:54\", \"2020-09-09T19:56:28\", \"2020-09-09T19:23:24\", \"2020-09-09T18:59:54\", \"2020-09-09T19:17:43\", \"2020-09-09T19:52:20\", \"2020-09-09T19:58:27\", \"2020-09-09T19:53:52\", \"2020-09-09T19:59:17\", \"2020-09-09T19:59:17\", \"2020-09-09T19:53:22\", \"2020-09-09T19:58:59\", \"2020-09-09T19:59:25\", \"2020-09-09T19:58:15\", \"2020-09-09T19:59:07\", \"2020-09-09T19:59:46\", \"2020-09-09T19:57:35\", \"2020-09-09T19:56:07\", \"2020-09-09T19:59:49\", \"2020-09-09T19:57:39\", \"2020-09-09T19:59:42\", \"2020-09-09T19:59:17\", \"2020-09-09T19:59:22\", \"2020-09-09T19:59:46\", \"2020-09-09T19:59:49\", \"2020-09-09T19:59:32\", \"2020-09-09T19:59:36\", \"2020-09-09T19:59:59\", \"2020-09-09T19:59:56\", \"2020-09-09T19:59:58\", \"2020-09-09T19:59:59\", \"2020-09-09T19:59:59\", \"2020-09-09T19:59:24\", \"2020-09-09T19:59:46\", \"2020-09-09T19:59:08\", \"2020-09-09T19:58:10\", \"2020-09-09T19:59:49\", \"2020-09-09T19:59:25\", \"2020-09-09T19:59:30\", \"2020-09-09T19:59:55\", \"2020-09-09T19:59:19\", \"2020-09-09T19:59:56\", \"2020-09-09T19:59:11\", \"2020-09-09T19:59:46\", \"2020-09-09T19:59:55\", \"2020-09-09T19:59:43\", \"2020-09-09T19:59:56\", \"2020-09-09T19:57:24\", \"2020-09-09T19:58:44\", \"2020-09-09T19:58:40\", \"2020-09-09T19:59:59\", \"2020-09-09T19:59:59\", \"2020-09-09T19:59:59\", \"2020-09-09T19:59:56\", \"2020-09-09T19:58:43\", \"2020-09-09T19:59:00\", \"2020-09-09T19:59:19\", \"2020-09-09T19:57:19\", \"2020-09-09T19:59:24\", \"2020-09-09T19:58:51\", \"2020-09-09T19:57:53\", \"2020-09-09T19:59:46\", \"2020-09-09T19:59:50\", \"2020-09-09T19:59:02\", \"2020-09-09T19:59:59\", \"2020-09-09T19:59:28\", \"2020-09-09T19:57:13\", \"2020-09-09T19:55:24\", \"2020-09-09T19:59:08\", \"2020-09-09T19:59:13\", \"2020-09-09T19:58:51\", \"2020-09-09T19:59:56\", \"2020-09-09T19:59:42\", \"2020-09-09T19:54:31\", \"2020-09-09T19:57:52\", \"2020-09-09T19:57:52\", \"2020-09-09T19:59:54\", \"2020-09-09T19:58:31\", \"2020-09-09T19:57:23\", \"2020-09-09T19:58:46\", \"2020-09-09T19:47:12\", \"2020-09-09T19:59:47\", \"2020-09-09T19:52:44\", \"2020-09-09T19:59:55\", \"2020-09-09T19:57:03\", \"2020-09-09T19:53:21\", \"2020-09-09T19:59:25\", \"2020-09-09T19:57:14\", \"2020-09-09T19:59:02\", \"2020-09-09T19:53:58\", \"2020-09-09T19:33:54\", \"2020-09-09T19:59:36\", \"2020-09-09T19:55:38\", \"2020-09-09T19:59:45\", \"2020-09-09T19:57:13\", \"2020-09-09T19:58:36\", \"2020-09-09T19:58:13\", \"2020-09-09T19:55:25\", \"2020-09-09T19:58:57\", \"2020-09-09T19:59:45\", \"2020-09-09T19:59:55\", \"2020-09-09T19:59:28\", \"2020-09-09T19:58:30\", \"2020-09-09T19:59:44\", \"2020-09-09T19:57:14\", \"2020-09-09T19:56:06\", \"2020-09-09T19:57:37\", \"2020-09-09T19:54:59\", \"2020-09-09T19:56:22\", \"2020-09-09T19:59:46\", \"2020-09-09T19:58:37\", \"2020-09-09T19:59:44\", \"2020-09-09T19:01:42\", \"2020-09-09T19:59:30\", \"2020-09-09T19:34:12\", \"2020-09-09T19:58:03\", \"2020-09-09T19:51:17\", \"2020-09-09T19:48:12\", \"2020-09-09T19:49:26\", \"2020-09-09T19:59:42\", \"2020-09-09T19:58:41\", \"2020-09-09T19:57:39\", \"2020-09-09T19:48:42\", \"2020-09-09T19:58:47\", \"2020-09-09T19:54:12\", \"2020-09-09T19:57:00\", \"2020-09-09T18:41:11\", \"2020-09-09T19:24:56\", \"2020-09-09T19:06:00\", \"2020-09-09T19:58:30\", \"2020-09-09T19:57:51\", \"2020-09-09T19:56:17\", \"2020-09-09T19:58:57\", \"2020-09-09T19:57:40\", \"2020-09-09T19:58:54\", \"2020-09-09T19:42:19\", \"2020-09-09T19:54:30\", \"2020-09-09T19:54:30\", \"2020-09-09T19:44:17\", \"2020-09-09T19:57:22\", \"2020-08-27T17:55:26\", \"2020-08-25T19:26:52\", \"2020-08-17T04:09:14\", \"2020-08-17T19:07:19\", \"2020-08-28T19:40:45\", \"2020-08-21T19:07:48\", \"2020-08-13T13:39:53\", \"2020-08-27T15:58:24\", \"2020-08-26T15:00:16\", \"2020-08-24T14:03:59\", \"2020-08-05T18:18:51\", \"2020-08-20T18:16:39\", \"2020-08-24T14:03:59\", \"2020-08-28T19:39:22\", \"2020-08-27T16:51:54\", \"2020-08-28T17:16:18\", \"2020-08-17T04:08:54\", \"2020-08-28T19:17:42\", \"2020-08-27T13:31:40\", \"2020-08-28T15:15:26\", \"2020-08-24T13:44:44\", \"2020-08-28T17:19:11\", \"2020-08-28T19:34:31\", \"2020-08-26T19:47:03\", \"2020-08-26T15:19:08\", \"2020-08-26T15:19:08\", \"2020-08-26T14:12:16\", \"2020-08-28T19:41:00\", \"2020-08-28T16:17:02\", \"2020-08-26T18:58:08\", \"2020-08-18T14:14:53\", \"2020-08-24T13:51:35\", \"2020-08-28T18:28:21\", \"2020-08-28T15:15:26\", \"2020-08-28T18:43:09\", \"2020-08-28T18:37:38\", \"2020-08-28T18:40:14\", \"2020-08-28T17:52:05\", \"2020-08-28T19:34:05\", \"2020-08-28T18:50:00\", \"2020-08-27T15:45:38\", \"2020-08-28T17:19:39\", \"2020-08-27T16:48:46\", \"2020-08-19T19:26:01\", \"2020-08-26T15:04:53\", \"2020-08-28T17:42:45\", \"2020-08-28T19:34:05\", \"2020-08-28T19:14:38\", \"2020-08-27T13:51:55\", \"2020-08-28T19:34:56\", \"2020-08-28T18:43:09\", \"2020-08-28T18:56:53\", \"2020-08-28T18:43:09\", \"2020-08-28T17:53:19\", \"2020-08-28T19:16:03\", \"2020-08-28T17:19:39\", \"2020-08-28T18:32:04\", \"2020-08-28T18:43:09\", \"2020-08-28T18:53:05\", \"2020-08-28T17:18:55\", \"2020-08-28T18:42:36\", \"2020-08-28T17:19:39\", \"2020-08-26T17:44:13\", \"2020-08-28T19:40:55\", \"2020-08-28T15:54:00\", \"2020-08-25T13:30:17\", \"2020-08-28T19:39:56\", \"2020-08-28T19:40:55\", \"2020-08-28T15:53:59\", \"2020-08-28T19:39:22\", \"2020-08-28T16:17:02\", \"2020-08-28T19:30:49\", \"2020-08-27T14:16:45\", \"2020-08-28T18:17:17\", \"2020-08-26T17:12:29\", \"2020-08-28T19:40:55\", \"2020-08-28T17:56:14\", \"2020-08-28T15:31:41\", \"2020-08-28T19:59:23\", \"2020-08-28T19:18:47\", \"2020-08-28T19:51:20\", \"2020-08-28T19:44:36\", \"2020-08-28T19:40:55\", \"2020-08-28T18:03:00\", \"2020-08-28T18:06:13\", \"2020-08-28T18:00:08\", \"2020-08-28T18:00:14\", \"2020-08-28T19:19:52\", \"2020-08-28T18:53:05\", \"2020-08-28T16:17:02\", \"2020-08-28T15:37:35\", \"2020-08-28T17:07:08\", \"2020-08-28T18:04:41\", \"2020-08-28T19:20:37\", \"2020-08-28T18:00:11\", \"2020-08-28T16:55:13\", \"2020-08-28T19:05:17\", \"2020-08-28T19:58:09\", \"2020-08-28T13:56:34\", \"2020-08-28T19:09:54\", \"2020-08-26T15:44:33\", \"2020-08-28T16:58:56\", \"2020-08-27T15:11:21\", \"2020-08-28T19:32:32\", \"2020-08-24T16:59:18\", \"2020-08-27T13:40:26\", \"2020-08-26T18:14:33\", \"2020-08-28T16:58:23\", \"2020-08-28T17:17:06\", \"2020-08-28T16:44:23\", \"2020-08-28T16:38:25\", \"2020-08-28T17:17:25\", \"2020-08-28T14:08:02\", \"2020-08-28T16:51:18\", \"2020-08-28T18:13:02\", \"2020-08-28T18:13:02\", \"2020-08-28T19:52:19\", \"2020-08-28T19:55:55\", \"2020-08-28T19:46:14\", \"2020-08-28T16:22:22\", \"2020-08-28T16:01:08\", \"2020-08-28T18:05:24\", \"2020-08-28T16:38:29\", \"2020-08-27T19:56:51\", \"2020-08-27T19:23:11\", \"2020-08-28T18:05:24\", \"2020-08-27T19:36:04\", \"2020-08-28T19:44:50\", \"2020-08-28T19:52:14\", \"2020-08-28T17:17:25\", \"2020-08-28T14:51:57\", \"2020-08-28T19:57:58\", \"2020-08-28T19:36:37\", \"2020-08-28T19:39:48\", \"2020-08-28T19:48:36\", \"2020-08-28T17:36:52\", \"2020-08-28T19:48:48\", \"2020-08-28T19:58:10\", \"2020-08-28T19:54:06\", \"2020-08-28T18:38:18\", \"2020-08-28T18:38:18\", \"2020-08-28T14:22:29\", \"2020-08-28T19:58:03\", \"2020-08-28T19:58:34\", \"2020-08-28T18:29:47\", \"2020-08-28T19:46:47\", \"2020-08-28T19:46:46\", \"2020-08-28T19:59:56\", \"2020-08-28T19:09:59\", \"2020-08-28T19:48:02\", \"2020-08-28T19:44:11\", \"2020-08-28T19:48:02\", \"2020-08-28T19:13:08\", \"2020-08-28T19:13:39\", \"2020-08-28T19:46:47\", \"2020-08-28T19:58:50\", \"2020-08-28T19:58:31\", \"2020-08-28T19:59:47\", \"2020-08-28T19:59:55\", \"2020-08-28T19:59:31\", \"2020-08-28T19:59:31\", \"2020-08-28T19:59:31\", \"2020-08-28T19:59:31\", \"2020-08-28T19:59:59\", \"2020-08-28T19:59:59\", \"2020-08-28T19:59:55\", \"2020-08-28T19:55:39\", \"2020-08-28T19:59:04\", \"2020-08-28T19:59:13\", \"2020-08-28T19:59:12\", \"2020-08-28T19:40:05\", \"2020-08-28T19:59:32\", \"2020-08-28T19:57:41\", \"2020-08-28T19:49:36\", \"2020-08-28T19:47:08\", \"2020-08-28T19:59:54\", \"2020-08-28T19:59:59\", \"2020-08-28T19:58:18\", \"2020-08-28T19:59:20\", \"2020-08-28T19:58:39\", \"2020-08-28T19:59:56\", \"2020-08-28T19:59:37\", \"2020-08-28T19:59:37\", \"2020-08-28T19:59:17\", \"2020-08-28T19:58:26\", \"2020-08-28T19:59:01\", \"2020-08-28T19:59:57\", \"2020-08-28T19:58:42\", \"2020-08-28T19:56:22\", \"2020-08-28T19:57:37\", \"2020-08-28T19:59:36\"], \"xaxis\": \"x\", \"y\": [20.0, 40.0, 60.0, 80.0, 100.0, 170.0, 180.0, 190.0, 200.0, 210.0, 220.0, 230.0, 240.0, 242.0, 244.0, 246.0, 248.0, 250.0, 252.0, 254.0, 256.0, 258.0, 260.0, 262.0, 264.0, 266.0, 268.0, 270.0, 272.0, 274.0, 276.0, 278.0, 280.0, 281.0, 282.0, 283.0, 284.0, 285.0, 286.0, 287.0, 288.0, 289.0, 290.0, 291.0, 292.0, 293.0, 294.0, 295.0, 296.0, 297.0, 298.0, 299.0, 300.0, 301.0, 302.0, 303.0, 304.0, 305.0, 306.0, 307.0, 308.0, 309.0, 310.0, 311.0, 312.0, 313.0, 314.0, 315.0, 316.0, 317.0, 318.0, 319.0, 320.0, 321.0, 322.0, 323.0, 324.0, 325.0, 326.0, 328.0, 330.0, 332.0, 334.0, 335.0, 336.0, 338.0, 340.0, 342.0, 344.0, 345.0, 346.0, 348.0, 350.0, 352.0, 354.0, 355.0, 356.0, 358.0, 360.0, 365.0, 370.0, 375.0, 380.0, 381.0, 382.0, 383.0, 384.0, 385.0, 386.0, 387.0, 388.0, 389.0, 390.0, 391.0, 392.0, 393.0, 394.0, 395.0, 396.0, 397.0, 398.0, 399.0, 400.0, 401.0, 402.0, 403.0, 404.0, 405.0, 406.0, 407.0, 408.0, 409.0, 410.0, 411.0, 412.0, 413.0, 414.0, 415.0, 416.0, 417.0, 418.0, 419.0, 420.0, 421.0, 422.0, 423.0, 424.0, 425.0, 426.0, 427.0, 428.0, 429.0, 430.0, 431.0, 432.0, 433.0, 434.0, 435.0, 436.0, 437.0, 438.0, 439.0, 440.0, 441.0, 442.0, 443.0, 444.0, 445.0, 446.0, 447.0, 450.0, 455.0, 460.0, 465.0, 470.0, 475.0, 480.0, 485.0, 490.0, 495.0, 500.0, 505.0, 510.0, 515.0, 520.0, 525.0, 530.0, 535.0, 540.0, 545.0, 550.0, 555.0, 560.0, 565.0, 570.0, 575.0, 580.0, 585.0, 590.0, 595.0, 600.0, 620.0, 640.0, 660.0, 680.0, 700.0, 720.0, 740.0, 760.0, 780.0, 800.0, 850.0, 900.0, 950.0, 1000.0, 1050.0, 1100.0, 1150.0, 1200.0, 1210.0, 1220.0, 1230.0, 1240.0, 1250.0, 1260.0, 1270.0, 1280.0, 1290.0, 1300.0, 1310.0, 1320.0, 1330.0, 1340.0, 1350.0, 1360.0, 1370.0, 1380.0, 1390.0, 1400.0, 1405.0, 1410.0, 1415.0, 1420.0, 1425.0, 1430.0, 1435.0, 1440.0, 1445.0, 1450.0, 1455.0, 1460.0, 1465.0, 1470.0, 1475.0, 1480.0, 1485.0, 1490.0, 1495.0, 1500.0, 1505.0, 1510.0, 1515.0, 1520.0, 1525.0, 1530.0, 1535.0, 1540.0, 1545.0, 1550.0, 1555.0, 1560.0, 1565.0, 1570.0, 1575.0, 1580.0, 1585.0, 1590.0, 1595.0, 1600.0, 1605.0, 1610.0, 1615.0, 1620.0, 1625.0, 1630.0, 1640.0, 1650.0, 1660.0, 1670.0, 1675.0, 1680.0, 1690.0, 1700.0, 1710.0, 1720.0, 1725.0, 1730.0, 1740.0, 1750.0, 1760.0, 1770.0, 1775.0, 1780.0, 1790.0, 1800.0, 1825.0, 1850.0, 1875.0, 1900.0, 1905.0, 1910.0, 1915.0, 1920.0, 1925.0, 1930.0, 1935.0, 1940.0, 1945.0, 1950.0, 1955.0, 1960.0, 1965.0, 1970.0, 1975.0, 1980.0, 1985.0, 1990.0, 1995.0, 2000.0, 2005.0, 2010.0, 2015.0, 2020.0, 2025.0, 2030.0, 2035.0, 2040.0, 2045.0, 2050.0, 2055.0, 2060.0, 2065.0, 2070.0, 2075.0, 2080.0, 2085.0, 2090.0, 2095.0, 2100.0, 2105.0, 2110.0, 2115.0, 2120.0, 2125.0, 2130.0, 2135.0, 2140.0, 2145.0, 2150.0, 2155.0, 2160.0, 2165.0, 2170.0, 2175.0, 2180.0, 2185.0, 2190.0, 2195.0, 2200.0, 2205.0, 2210.0, 2215.0, 2220.0, 2225.0, 2230.0, 2235.0, 2250.0, 2275.0, 2300.0, 2325.0, 2350.0, 2375.0, 2400.0, 2425.0, 2450.0, 2475.0, 2500.0, 2600.0, 2700.0, 2800.0, 2900.0, 3000.0, 3100.0, 3200.0, 3300.0, 3400.0, 3500.0, 3600.0, 3700.0, 3800.0, 3900.0, 4000.0], \"yaxis\": \"y\"}],\n",
       "                        {\"legend\": {\"tracegroupgap\": 0}, \"margin\": {\"t\": 60}, \"template\": {\"data\": {\"bar\": [{\"error_x\": {\"color\": \"#2a3f5f\"}, \"error_y\": {\"color\": \"#2a3f5f\"}, \"marker\": {\"line\": {\"color\": \"#E5ECF6\", \"width\": 0.5}}, \"type\": \"bar\"}], \"barpolar\": [{\"marker\": {\"line\": {\"color\": \"#E5ECF6\", \"width\": 0.5}}, \"type\": \"barpolar\"}], \"carpet\": [{\"aaxis\": {\"endlinecolor\": \"#2a3f5f\", \"gridcolor\": \"white\", \"linecolor\": \"white\", \"minorgridcolor\": \"white\", \"startlinecolor\": \"#2a3f5f\"}, \"baxis\": {\"endlinecolor\": \"#2a3f5f\", \"gridcolor\": \"white\", \"linecolor\": \"white\", \"minorgridcolor\": \"white\", \"startlinecolor\": \"#2a3f5f\"}, \"type\": \"carpet\"}], \"choropleth\": [{\"colorbar\": {\"outlinewidth\": 0, \"ticks\": \"\"}, \"type\": \"choropleth\"}], \"contour\": [{\"colorbar\": {\"outlinewidth\": 0, \"ticks\": \"\"}, \"colorscale\": [[0.0, \"#0d0887\"], [0.1111111111111111, \"#46039f\"], [0.2222222222222222, \"#7201a8\"], [0.3333333333333333, \"#9c179e\"], [0.4444444444444444, \"#bd3786\"], [0.5555555555555556, \"#d8576b\"], [0.6666666666666666, \"#ed7953\"], [0.7777777777777778, \"#fb9f3a\"], [0.8888888888888888, \"#fdca26\"], [1.0, \"#f0f921\"]], \"type\": \"contour\"}], \"contourcarpet\": [{\"colorbar\": {\"outlinewidth\": 0, \"ticks\": \"\"}, \"type\": \"contourcarpet\"}], \"heatmap\": [{\"colorbar\": {\"outlinewidth\": 0, \"ticks\": \"\"}, \"colorscale\": [[0.0, \"#0d0887\"], [0.1111111111111111, \"#46039f\"], [0.2222222222222222, \"#7201a8\"], [0.3333333333333333, \"#9c179e\"], [0.4444444444444444, \"#bd3786\"], [0.5555555555555556, \"#d8576b\"], [0.6666666666666666, \"#ed7953\"], [0.7777777777777778, \"#fb9f3a\"], [0.8888888888888888, \"#fdca26\"], [1.0, \"#f0f921\"]], \"type\": \"heatmap\"}], \"heatmapgl\": [{\"colorbar\": {\"outlinewidth\": 0, \"ticks\": \"\"}, \"colorscale\": [[0.0, \"#0d0887\"], [0.1111111111111111, \"#46039f\"], [0.2222222222222222, \"#7201a8\"], [0.3333333333333333, \"#9c179e\"], [0.4444444444444444, \"#bd3786\"], [0.5555555555555556, \"#d8576b\"], [0.6666666666666666, \"#ed7953\"], [0.7777777777777778, \"#fb9f3a\"], [0.8888888888888888, \"#fdca26\"], [1.0, \"#f0f921\"]], \"type\": \"heatmapgl\"}], \"histogram\": [{\"marker\": {\"colorbar\": {\"outlinewidth\": 0, \"ticks\": \"\"}}, \"type\": \"histogram\"}], \"histogram2d\": [{\"colorbar\": {\"outlinewidth\": 0, \"ticks\": \"\"}, \"colorscale\": [[0.0, \"#0d0887\"], [0.1111111111111111, \"#46039f\"], [0.2222222222222222, \"#7201a8\"], [0.3333333333333333, \"#9c179e\"], [0.4444444444444444, \"#bd3786\"], [0.5555555555555556, \"#d8576b\"], [0.6666666666666666, \"#ed7953\"], [0.7777777777777778, \"#fb9f3a\"], [0.8888888888888888, \"#fdca26\"], [1.0, \"#f0f921\"]], \"type\": \"histogram2d\"}], \"histogram2dcontour\": [{\"colorbar\": {\"outlinewidth\": 0, \"ticks\": \"\"}, \"colorscale\": [[0.0, \"#0d0887\"], [0.1111111111111111, \"#46039f\"], [0.2222222222222222, \"#7201a8\"], [0.3333333333333333, \"#9c179e\"], [0.4444444444444444, \"#bd3786\"], [0.5555555555555556, \"#d8576b\"], [0.6666666666666666, \"#ed7953\"], [0.7777777777777778, \"#fb9f3a\"], [0.8888888888888888, \"#fdca26\"], [1.0, \"#f0f921\"]], \"type\": \"histogram2dcontour\"}], \"mesh3d\": [{\"colorbar\": {\"outlinewidth\": 0, \"ticks\": \"\"}, \"type\": \"mesh3d\"}], \"parcoords\": [{\"line\": {\"colorbar\": {\"outlinewidth\": 0, \"ticks\": \"\"}}, \"type\": \"parcoords\"}], \"pie\": [{\"automargin\": true, \"type\": \"pie\"}], \"scatter\": [{\"marker\": {\"colorbar\": {\"outlinewidth\": 0, \"ticks\": \"\"}}, \"type\": \"scatter\"}], \"scatter3d\": [{\"line\": {\"colorbar\": {\"outlinewidth\": 0, \"ticks\": \"\"}}, \"marker\": {\"colorbar\": {\"outlinewidth\": 0, \"ticks\": \"\"}}, \"type\": \"scatter3d\"}], \"scattercarpet\": [{\"marker\": {\"colorbar\": {\"outlinewidth\": 0, \"ticks\": \"\"}}, \"type\": \"scattercarpet\"}], \"scattergeo\": [{\"marker\": {\"colorbar\": {\"outlinewidth\": 0, \"ticks\": \"\"}}, \"type\": \"scattergeo\"}], \"scattergl\": [{\"marker\": {\"colorbar\": {\"outlinewidth\": 0, \"ticks\": \"\"}}, \"type\": \"scattergl\"}], \"scattermapbox\": [{\"marker\": {\"colorbar\": {\"outlinewidth\": 0, \"ticks\": \"\"}}, \"type\": \"scattermapbox\"}], \"scatterpolar\": [{\"marker\": {\"colorbar\": {\"outlinewidth\": 0, \"ticks\": \"\"}}, \"type\": \"scatterpolar\"}], \"scatterpolargl\": [{\"marker\": {\"colorbar\": {\"outlinewidth\": 0, \"ticks\": \"\"}}, \"type\": \"scatterpolargl\"}], \"scatterternary\": [{\"marker\": {\"colorbar\": {\"outlinewidth\": 0, \"ticks\": \"\"}}, \"type\": \"scatterternary\"}], \"surface\": [{\"colorbar\": {\"outlinewidth\": 0, \"ticks\": \"\"}, \"colorscale\": [[0.0, \"#0d0887\"], [0.1111111111111111, \"#46039f\"], [0.2222222222222222, \"#7201a8\"], [0.3333333333333333, \"#9c179e\"], [0.4444444444444444, \"#bd3786\"], [0.5555555555555556, \"#d8576b\"], [0.6666666666666666, \"#ed7953\"], [0.7777777777777778, \"#fb9f3a\"], [0.8888888888888888, \"#fdca26\"], [1.0, \"#f0f921\"]], \"type\": \"surface\"}], \"table\": [{\"cells\": {\"fill\": {\"color\": \"#EBF0F8\"}, \"line\": {\"color\": \"white\"}}, \"header\": {\"fill\": {\"color\": \"#C8D4E3\"}, \"line\": {\"color\": \"white\"}}, \"type\": \"table\"}]}, \"layout\": {\"annotationdefaults\": {\"arrowcolor\": \"#2a3f5f\", \"arrowhead\": 0, \"arrowwidth\": 1}, \"coloraxis\": {\"colorbar\": {\"outlinewidth\": 0, \"ticks\": \"\"}}, \"colorscale\": {\"diverging\": [[0, \"#8e0152\"], [0.1, \"#c51b7d\"], [0.2, \"#de77ae\"], [0.3, \"#f1b6da\"], [0.4, \"#fde0ef\"], [0.5, \"#f7f7f7\"], [0.6, \"#e6f5d0\"], [0.7, \"#b8e186\"], [0.8, \"#7fbc41\"], [0.9, \"#4d9221\"], [1, \"#276419\"]], \"sequential\": [[0.0, \"#0d0887\"], [0.1111111111111111, \"#46039f\"], [0.2222222222222222, \"#7201a8\"], [0.3333333333333333, \"#9c179e\"], [0.4444444444444444, \"#bd3786\"], [0.5555555555555556, \"#d8576b\"], [0.6666666666666666, \"#ed7953\"], [0.7777777777777778, \"#fb9f3a\"], [0.8888888888888888, \"#fdca26\"], [1.0, \"#f0f921\"]], \"sequentialminus\": [[0.0, \"#0d0887\"], [0.1111111111111111, \"#46039f\"], [0.2222222222222222, \"#7201a8\"], [0.3333333333333333, \"#9c179e\"], [0.4444444444444444, \"#bd3786\"], [0.5555555555555556, \"#d8576b\"], [0.6666666666666666, \"#ed7953\"], [0.7777777777777778, \"#fb9f3a\"], [0.8888888888888888, \"#fdca26\"], [1.0, \"#f0f921\"]]}, \"colorway\": [\"#636efa\", \"#EF553B\", \"#00cc96\", \"#ab63fa\", \"#FFA15A\", \"#19d3f3\", \"#FF6692\", \"#B6E880\", \"#FF97FF\", \"#FECB52\"], \"font\": {\"color\": \"#2a3f5f\"}, \"geo\": {\"bgcolor\": \"white\", \"lakecolor\": \"white\", \"landcolor\": \"#E5ECF6\", \"showlakes\": true, \"showland\": true, \"subunitcolor\": \"white\"}, \"hoverlabel\": {\"align\": \"left\"}, \"hovermode\": \"closest\", \"mapbox\": {\"style\": \"light\"}, \"paper_bgcolor\": \"white\", \"plot_bgcolor\": \"#E5ECF6\", \"polar\": {\"angularaxis\": {\"gridcolor\": \"white\", \"linecolor\": \"white\", \"ticks\": \"\"}, \"bgcolor\": \"#E5ECF6\", \"radialaxis\": {\"gridcolor\": \"white\", \"linecolor\": \"white\", \"ticks\": \"\"}}, \"scene\": {\"xaxis\": {\"backgroundcolor\": \"#E5ECF6\", \"gridcolor\": \"white\", \"gridwidth\": 2, \"linecolor\": \"white\", \"showbackground\": true, \"ticks\": \"\", \"zerolinecolor\": \"white\"}, \"yaxis\": {\"backgroundcolor\": \"#E5ECF6\", \"gridcolor\": \"white\", \"gridwidth\": 2, \"linecolor\": \"white\", \"showbackground\": true, \"ticks\": \"\", \"zerolinecolor\": \"white\"}, \"zaxis\": {\"backgroundcolor\": \"#E5ECF6\", \"gridcolor\": \"white\", \"gridwidth\": 2, \"linecolor\": \"white\", \"showbackground\": true, \"ticks\": \"\", \"zerolinecolor\": \"white\"}}, \"shapedefaults\": {\"line\": {\"color\": \"#2a3f5f\"}}, \"ternary\": {\"aaxis\": {\"gridcolor\": \"white\", \"linecolor\": \"white\", \"ticks\": \"\"}, \"baxis\": {\"gridcolor\": \"white\", \"linecolor\": \"white\", \"ticks\": \"\"}, \"bgcolor\": \"#E5ECF6\", \"caxis\": {\"gridcolor\": \"white\", \"linecolor\": \"white\", \"ticks\": \"\"}}, \"title\": {\"x\": 0.05}, \"xaxis\": {\"automargin\": true, \"gridcolor\": \"white\", \"linecolor\": \"white\", \"ticks\": \"\", \"title\": {\"standoff\": 15}, \"zerolinecolor\": \"white\", \"zerolinewidth\": 2}, \"yaxis\": {\"automargin\": true, \"gridcolor\": \"white\", \"linecolor\": \"white\", \"ticks\": \"\", \"title\": {\"standoff\": 15}, \"zerolinecolor\": \"white\", \"zerolinewidth\": 2}}}, \"xaxis\": {\"anchor\": \"y\", \"domain\": [0.0, 1.0], \"title\": {\"text\": \"lastTradeDate\"}}, \"yaxis\": {\"anchor\": \"x\", \"domain\": [0.0, 1.0], \"title\": {\"text\": \"strike\"}}},\n",
       "                        {\"responsive\": true}\n",
       "                    ).then(function(){\n",
       "                            \n",
       "var gd = document.getElementById('b0521bee-e474-45dd-a0f9-e606b8fe7c57');\n",
       "var x = new MutationObserver(function (mutations, observer) {{\n",
       "        var display = window.getComputedStyle(gd).display;\n",
       "        if (!display || display === 'none') {{\n",
       "            console.log([gd, 'removed!']);\n",
       "            Plotly.purge(gd);\n",
       "            observer.disconnect();\n",
       "        }}\n",
       "}});\n",
       "\n",
       "// Listen for the removal of the full notebook cells\n",
       "var notebookContainer = gd.closest('#notebook-container');\n",
       "if (notebookContainer) {{\n",
       "    x.observe(notebookContainer, {childList: true});\n",
       "}}\n",
       "\n",
       "// Listen for the clearing of the current output cell\n",
       "var outputEl = gd.closest('.output');\n",
       "if (outputEl) {{\n",
       "    x.observe(outputEl, {childList: true});\n",
       "}}\n",
       "\n",
       "                        })\n",
       "                };\n",
       "                });\n",
       "            </script>\n",
       "        </div>"
      ]
     },
     "metadata": {},
     "output_type": "display_data"
    },
    {
     "data": {
      "application/javascript": [
       "\n",
       "            setTimeout(function() {\n",
       "                var nbb_cell_id = 45;\n",
       "                var nbb_unformatted_code = \"px.scatter(data_frame=df, x=\\\"lastTradeDate\\\", y=\\\"strike\\\")\";\n",
       "                var nbb_formatted_code = \"px.scatter(data_frame=df, x=\\\"lastTradeDate\\\", y=\\\"strike\\\")\";\n",
       "                var nbb_cells = Jupyter.notebook.get_cells();\n",
       "                for (var i = 0; i < nbb_cells.length; ++i) {\n",
       "                    if (nbb_cells[i].input_prompt_number == nbb_cell_id) {\n",
       "                        if (nbb_cells[i].get_text() == nbb_unformatted_code) {\n",
       "                             nbb_cells[i].set_text(nbb_formatted_code);\n",
       "                        }\n",
       "                        break;\n",
       "                    }\n",
       "                }\n",
       "            }, 500);\n",
       "            "
      ],
      "text/plain": [
       "<IPython.core.display.Javascript object>"
      ]
     },
     "metadata": {},
     "output_type": "display_data"
    }
   ],
   "source": [
    "px.scatter(data_frame=df, x=\"\", y=\"strike\")"
   ]
  },
  {
   "cell_type": "markdown",
   "metadata": {},
   "source": []
  }
 ],
 "metadata": {
  "kernelspec": {
   "display_name": "Python 3",
   "language": "python",
   "name": "python3"
  },
  "language_info": {
   "codemirror_mode": {
    "name": "ipython",
    "version": 3
   },
   "file_extension": ".py",
   "mimetype": "text/x-python",
   "name": "python",
   "nbconvert_exporter": "python",
   "pygments_lexer": "ipython3",
   "version": "3.7.7"
  },
  "latex_envs": {
   "LaTeX_envs_menu_present": true,
   "autoclose": false,
   "autocomplete": true,
   "bibliofile": "biblio.bib",
   "cite_by": "apalike",
   "current_citInitial": 1,
   "eqLabelWithNumbers": true,
   "eqNumInitial": 1,
   "hotkeys": {
    "equation": "Ctrl-E",
    "itemize": "Ctrl-I"
   },
   "labels_anchors": false,
   "latex_user_defs": false,
   "report_style_numbering": false,
   "user_envs_cfg": false
  }
 },
 "nbformat": 4,
 "nbformat_minor": 4
}
