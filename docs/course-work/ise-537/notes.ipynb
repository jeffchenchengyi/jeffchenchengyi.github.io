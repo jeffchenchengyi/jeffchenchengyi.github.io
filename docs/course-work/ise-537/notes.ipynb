{
 "cells": [
  {
   "cell_type": "markdown",
   "metadata": {},
   "source": [
    "# Notes"
   ]
  },
  {
   "cell_type": "markdown",
   "metadata": {},
   "source": [
    "---\n",
    "## 1. CAPM"
   ]
  },
  {
   "cell_type": "markdown",
   "metadata": {},
   "source": [
    "- Market Portfolio: The portfolio of risky assets with the Maximum Sharpe Ratio (Best Allocation of weights of risky assets in the investable universe, **excluding** the risk-free asset such that you get the highest **historical** Sharpe Ratio $\\Big[\\frac{\\mathbb{E}[r_{\\text{portfolio}}]=w^\\top \\mu}{\\sigma_{\\text{portfolio}}}\\Big]$)\n",
    "    - We get this by running mean-variance optimization for universe of risky assetsusing **historical** returns \n",
    "- Key takeaway: \n",
    "\n",
    "For any security $i$:\n",
    "\n",
    "\\begin{aligned}\n",
    "    \\mathbb{E}[r_i] &= \\beta_i\\underbrace{(\\mathbb{E}[r_{\\text{Market Portfolio}}] - r_f)}_{\\text{Market Portfolio's Expected Excess Return}} + r_f\n",
    "\\end{aligned}"
   ]
  },
  {
   "cell_type": "markdown",
   "metadata": {},
   "source": [
    "---\n",
    "## 2. APT\n",
    "\n",
    "- Multi-factor version of CAPM: Instead of assuming that Stock returns are only affected by market exposure, we find other factor exposures\n",
    "    - Fama-French 4 factor model proposes 3 other factors that stock returns are exposed to\n",
    "    - We can create other factors by ourselves such that our portfolio is only exposed to that factor (weather)"
   ]
  },
  {
   "cell_type": "markdown",
   "metadata": {},
   "source": [
    "---\n",
    "## 3. Black-Litterman\n",
    "\n",
    "- Bayesian Framework of updating Portfolio weights given active views: Use Active Views to update the Prior expected return of portfolio to get posterior."
   ]
  },
  {
   "cell_type": "markdown",
   "metadata": {},
   "source": [
    "---\n",
    "## 4. Futures\n",
    "\n",
    "- Futures contract price $$ will always $=$ Actual spot price when futures contract matures\n",
    "- Current Spot Price $S_{0}$: How much the asset is selling for right now ($t = 0$) with information from $t \\leq 0$\n",
    "- Current Futures Contract Price $F_{0,T}$: How much the market thinks ($t = 0$) the asset will sell for with information from $t \\leq 0$\n",
    "- "
   ]
  },
  {
   "cell_type": "markdown",
   "metadata": {},
   "source": [
    "### Current Spot Price $S_{0}$ Vs. Actual Current Futures Contract Price $F_{0,T}$\n",
    "\n",
    "1. Intangible Asset Model (Stocks): Link between Current Spot Price $S_{0}$ & **Theoretical** Current Futures Contract Price $\\hat{F_{0,T}}$\n",
    "\n",
    "\\begin{aligned}\n",
    "    \\hat{F_{0,T}} &= S_0 e^{r_fT} \\\\\n",
    "    r_f &= \\text{Risk-free rate / Interest Rate} \\\\\n",
    "\\end{aligned}\n",
    "\n",
    "2. Cost of Carry Model (Commodities): Link between Current Spot Price $S_{0}$ & **Theoretical** Current Futures Contract Price $\\hat{F_{0,T}}$\n",
    "\n",
    "\\begin{aligned}\n",
    "    \\hat{F_{0, T}} &= S_{0} e^{(r_f + u - q - y)T} \\\\\n",
    "    r_f &= \\text{Risk-free rate / Interest Rate} \\\\\n",
    "    u &= \\text{Cost of Storage} \\\\\n",
    "    q &= \\text{Dividends / Cash Benefit from holding the asset} \\\\\n",
    "    y &= \\text{Convienience Yield} \\\\ \n",
    "\\end{aligned}\n",
    "\n",
    "Comparing $S_{0}$ and $F_{0,T}$ is seeing whether costs outweigh the benefits of buying the asset right now:\n",
    "\n",
    "1. Contango: $S_{0} < F_{0,T}$\n",
    "\n",
    "    - The market **thinks** that the costs of holding the asset over period $T$ > the benefits\n",
    "    \n",
    "    - We can justify this theoretically as $r + u > c + y$ means cost > the benfits of holding the asset over period $T$ which will make $S_{0} < \\hat{F_{0,T}}$\n",
    "\n",
    "\n",
    "2. Backwardation: $S_{0} > F_{0,T}$\n",
    "\n",
    "    - The market **thinks** that the costs of holding the asset over period $T$ < the benefits\n",
    "    \n",
    "    - We can justify this theoretically as $r + u < c + y$ means cost < the benfits of holding the asset over period $T$ which will make $S_{0} > \\hat{F_{0,T}}$"
   ]
  },
  {
   "cell_type": "markdown",
   "metadata": {},
   "source": [
    "### Expected Future Spot Price $\\mathbb{E}[S_T]$ Vs. Current Futures Contract Price $F_{0,T}$\n",
    "\n",
    "Link between Expected Future Spot Price $\\mathbb{E}[S_T]$ & Current Spot Price $S_{0}$\n",
    "\n",
    "\\begin{aligned}\n",
    "    \\mathbb{E}[S_T] &= S_{0} e^{k_eT} \\\\\n",
    "    k_e &= \\mathbb{E}[R_{stock}], \\text{ The Discount Rate / Expected Return of the stock via CAPM} \\\\\n",
    "\\end{aligned}\n",
    "\n",
    "Link between Expected Future Spot Price $\\mathbb{E}[S_T]$ & **Theoretical** Current Futures Contract Price $\\hat{F_{0,T}}$\n",
    "\n",
    "\\begin{aligned}\n",
    "    \\hat{F_{0,T}} &= \\mathbb{E}[S_T] e^{(r_f-k_e)T} \\\\\n",
    "    r_f &= \\text{Risk-free rate / Interest Rate} \\\\\n",
    "    k_e &= \\mathbb{E}[R_{stock}], \\text{ The Discount Rate / Expected Return of the stock via CAPM} \\\\\n",
    "\\end{aligned}\n",
    "\n",
    "Comparing $\\mathbb{E}[S_T]$ and $F_{0,T}$ is seeing how much the longer of the futures contract is compensated for the equity risk premium ($\\mathbb{E}[R_{stock}] - r_f$):\n",
    "\n",
    "1. Normal Contango: $\\mathbb{E}[S_T] < F_{0,T}$\n",
    "    \n",
    "    - Less common, market **thinks** that equity return is < than the risk-free rate\n",
    "    \n",
    "    - We can  justify this theoretically as $\\mathbb{E}[S_T] < F_{0,T}$ happens when $r_f > k_e$\n",
    "    \n",
    "    \n",
    "2. Normal Backwardation: $\\mathbb{E}[S_T] > F_{0,T}$\n",
    "\n",
    "    - More common, market **thinks** that equity return is > than the risk-free rate\n",
    "    \n",
    "    - We can  justify this theoretically as $\\mathbb{E}[S_T] > F_{0,T}$ happens when $r_f < k_e$\n",
    "    \n",
    "    - In this case, longer of futures contract pays a price $F_{0,T}$ and is expected to receive the asset of price $\\mathbb{E}[S_T]$ at maturity - the expected profit of $\\mathbb{E}[S_T] - F_{0,T}$ is compensation for the equity risk premium and the hedger is willing to pay for this in order to lock in the price and limit the losses."
   ]
  },
  {
   "cell_type": "markdown",
   "metadata": {},
   "source": [
    "---\n",
    "## 5. Carry"
   ]
  },
  {
   "cell_type": "markdown",
   "metadata": {},
   "source": [
    "---\n",
    "## 6. Risk-parity / Risk-budgetting\n",
    "\n",
    "- We start off after finding a set of assets that we want to **long** on\n",
    "- We place the $w > 0$ constraint in the risk-budgetting optimization because it cannot be $w = 0$ because we already know we want to long it, and it cannot $w \\leq 0$ because we want to **long** it.\n",
    "- Risk-parity means $b = \\frac{1}{n}\\mathbf{1}$, all risks allocated to each opportunity is equal, risk parity is a special case of risk-budgetting\n",
    "- No one can make a good argument on why you don't want to allocate equal risk to each opportunity"
   ]
  },
  {
   "cell_type": "markdown",
   "metadata": {},
   "source": [
    "---\n",
    "## 7. Active Management\n",
    "\n",
    "Fundamental Law of Active Management (Bets must be INDEPENDENT):\n",
    "\n",
    "\\begin{aligned}\n",
    "    IR &= IC \\sqrt{BR}, \\\\\n",
    "    IC &= 2\\text{Accuracy} - 1 \\\\ \n",
    "\\end{aligned}\n",
    "\n",
    "- HFT's secret sauce is making so many bets such that their accuracy only needs to be very low because the BR bumps up their IR\n",
    "- Fundamental investors need to have a very high accuracy in order to get the same IR as HFTs\n",
    "- Quants exist between HFT and Fundamental, higher bets than fundamentals, lower bets than HFT, higher accuracy than HFT, lower accuracy than Fundamental"
   ]
  }
 ],
 "metadata": {
  "kernelspec": {
   "display_name": "Python 3",
   "language": "python",
   "name": "python3"
  },
  "language_info": {
   "codemirror_mode": {
    "name": "ipython",
    "version": 3
   },
   "file_extension": ".py",
   "mimetype": "text/x-python",
   "name": "python",
   "nbconvert_exporter": "python",
   "pygments_lexer": "ipython3",
   "version": "3.8.5"
  },
  "latex_envs": {
   "LaTeX_envs_menu_present": true,
   "autoclose": false,
   "autocomplete": true,
   "bibliofile": "biblio.bib",
   "cite_by": "apalike",
   "current_citInitial": 1,
   "eqLabelWithNumbers": true,
   "eqNumInitial": 1,
   "hotkeys": {
    "equation": "Ctrl-E",
    "itemize": "Ctrl-I"
   },
   "labels_anchors": false,
   "latex_user_defs": false,
   "report_style_numbering": false,
   "user_envs_cfg": false
  }
 },
 "nbformat": 4,
 "nbformat_minor": 4
}
