{
 "cells": [
  {
   "cell_type": "markdown",
   "metadata": {},
   "source": [
    "TurnOfTheMonth Strategy: https://quantpedia.com/strategies/turn-of-the-month-in-equity-indexes/ \n",
    "- a good strategy is one that is also observed very long ago, one that deviates from the efficient market hypothesis\n",
    "- could be explained by payday, retail investors invest when they get their payday\n",
    "- strategy has become less profitable because more people have jumped into the strategy\n",
    "\n",
    "January Effect Strategy"
   ]
  },
  {
   "cell_type": "markdown",
   "metadata": {},
   "source": [
    "- CAPM is based on efficient frontier with a risk free asset\n",
    "- Two fund theorem is only for Mean variance opt (MPT), without risk free rate\n",
    "- In CAPM, the \"2 funds\" that are used in CML create its own \"efficient frontier\" which is just a line, while the Efficient frontier in MPT without risk free rate is a curve.\n",
    "- In summary, in CAPM - efficient frontier is a convex combination of $R_f$ and Max Sharpe Ratio Portfolio, in MPT - efficient frontier is a convex combination of Min-Variance Portfolio and Pseudo Max Sharpe Ratio Portfolio\n",
    "- Main result of CAPM (SML: the one with $\\beta$) is actually the solution to the quadratic optimization of CAPM, which is MPT + risk free asset\n",
    "- EMH say that the solution for CAPM opt: SML is only a function of the asset's exposure to the Market premium\n",
    "- CAPM is also pricing model \n",
    "- CAPM is still used as an asset allocation model"
   ]
  },
  {
   "cell_type": "code",
   "execution_count": null,
   "metadata": {},
   "outputs": [],
   "source": []
  }
 ],
 "metadata": {
  "kernelspec": {
   "display_name": "Python 3",
   "language": "python",
   "name": "python3"
  },
  "language_info": {
   "codemirror_mode": {
    "name": "ipython",
    "version": 3
   },
   "file_extension": ".py",
   "mimetype": "text/x-python",
   "name": "python",
   "nbconvert_exporter": "python",
   "pygments_lexer": "ipython3",
   "version": "3.7.7"
  },
  "latex_envs": {
   "LaTeX_envs_menu_present": true,
   "autoclose": false,
   "autocomplete": true,
   "bibliofile": "biblio.bib",
   "cite_by": "apalike",
   "current_citInitial": 1,
   "eqLabelWithNumbers": true,
   "eqNumInitial": 1,
   "hotkeys": {
    "equation": "Ctrl-E",
    "itemize": "Ctrl-I"
   },
   "labels_anchors": false,
   "latex_user_defs": false,
   "report_style_numbering": false,
   "user_envs_cfg": false
  }
 },
 "nbformat": 4,
 "nbformat_minor": 4
}
