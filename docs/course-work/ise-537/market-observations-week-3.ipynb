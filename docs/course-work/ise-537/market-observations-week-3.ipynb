{
 "cells": [
  {
   "cell_type": "markdown",
   "metadata": {},
   "source": [
    "# MO 4: Dovish till 2024\n",
    "\n",
    "By: Chengyi (Jeff) Chen"
   ]
  },
  {
   "cell_type": "markdown",
   "metadata": {},
   "source": [
    "On Wednesday, September 16th 2020, the FED had announced that it will be [keeping interest rates near the 0 until at least the end of 2023 at the earliest, as chairman Jerome Powell gave a cautious outlook](https://www.marketwatch.com/story/stock-markets-have-now-seen-the-peak-of-fed-stimulus-unless-these-2-things-happen-11600341012?mod=home-page). Traditionally, [when interest rates fall (and only accounting for the fall of interest rates), the following events occur:](https://www.investopedia.com/investing/how-interest-rates-affect-stock-market)\n",
    "\n",
    "1. Borrowing money from the Federal Reserve is less expensive for banks\n",
    "\n",
    "2. These banks will decrease the rates they charge their customers to borrow money\n",
    "\n",
    "3. This then decreases the interest rate for credit cards, loans, and mortgages for consumers in the economy\n",
    "\n",
    "4. After making their fixed payments above, consumers are left with more disposable income, and consumer spending increases\n",
    "\n",
    "5. With more consumer spending, businesses will make more revenue and profit, hence growth\n",
    "\n",
    "6. At the same time, with lower borrowing costs, businesses can take bigger loans and expand more of their operations as well, leading to even more growth\n",
    "\n",
    "7. This will be reflected as an increase in their future earnings potential and hence, higher stock prices that reflect this increase (interest rates are a core input used in models such as the Discounted Cash Flow to value companies and hence the stock price)\n",
    "\n",
    "8. This will lead investors to feel more bullish and buy up more stock, and stock prices **should** rise\n",
    "\n",
    "9. Another effect will be an increase in bond prices at least for the short term (10-year) as the yield decreases\n",
    "\n",
    "Ordinarily, [when interest rates are low, investors often flock to the stock market and away from fixed income securities.](https://seekingalpha.com/article/4375017-interest-rates-and-impact-on-stock-values). However, after the announcement on Wednesday, 1. there was a split in direction of stocks in various sectors - majority decrease in the tech sector (XLK), communications sector (XLC), consumer discretion sector (XLY), while the majority increase was in the energy sector (XLE), financial sector (XLF), industrials sector (XLI). 2. The 5-year, 10-year, 30-year treasury security yields increased. (I'm still curious as to why the direction of stocks are split by those sectors, but I'll need more time to analyze this.) From this market reaction alone, it appears that the market sentiment towards the future economic outlook is mostly bearish even though the Fed has made it substantially clear that interest rates will remain low, attributed to Powell's emphasis that the better than expected recovery will not last. This negative sentiment expressed by Powell is more powerful a driver in the market reaction than the continued low interest rates. As expressed in my previous market observations, and a common sentiment I've seen throughout articles is how the market, especially tech stocks are overvalued, which alludes to how there will potentially be greater volatility in the market at the very least until after election results are finalized and new fiscal measures are put in place to lead the economy in a more focused direction.\n",
    "\n",
    "Resources:\n",
    "- [Yahoo Finance YouTube - Stocks close mixed after Fed's comments on interest rates and economic recovery](https://www.youtube.com/watch?v=rZj3upBtb_g)"
   ]
  }
 ],
 "metadata": {
  "kernelspec": {
   "display_name": "Python 3",
   "language": "python",
   "name": "python3"
  },
  "language_info": {
   "codemirror_mode": {
    "name": "ipython",
    "version": 3
   },
   "file_extension": ".py",
   "mimetype": "text/x-python",
   "name": "python",
   "nbconvert_exporter": "python",
   "pygments_lexer": "ipython3",
   "version": "3.8.5"
  },
  "latex_envs": {
   "LaTeX_envs_menu_present": true,
   "autoclose": false,
   "autocomplete": true,
   "bibliofile": "biblio.bib",
   "cite_by": "apalike",
   "current_citInitial": 1,
   "eqLabelWithNumbers": true,
   "eqNumInitial": 1,
   "hotkeys": {
    "equation": "Ctrl-E",
    "itemize": "Ctrl-I"
   },
   "labels_anchors": false,
   "latex_user_defs": false,
   "report_style_numbering": false,
   "user_envs_cfg": false
  }
 },
 "nbformat": 4,
 "nbformat_minor": 4
}
