{
 "cells": [
  {
   "cell_type": "markdown",
   "metadata": {},
   "source": [
    "# MO 4: The Future of EV batteries\n",
    "\n",
    "By: Chengyi (Jeff) Chen"
   ]
  },
  {
   "cell_type": "markdown",
   "metadata": {},
   "source": [
    "This MO is meant to be a continuation of the MO in Week 1, when we tried to examine why TSLA has such a high P/E ratio. [This week, Tesla's battery day happened, which was unfortunately, a disappointment to many investors](https://www.marketwatch.com/story/teslas-stock-skids-5-as-promised-battery-day-innovations-remain-off-in-the-future-2020-09-22?mod=article_inline). The primary takeaway from Battery Day was that Tesla will be trying to decrease energy storage costs and subsequently, EV cost ([aiming to bring down cost of an EV to 25k in 3 years, compared to Tesla's cheapest model - Model 3 @38k, EV average cost @56k, ICE (Internal Combustion Engine) average cost @37k. P.S. He has made this statement before back in 2018, which further questions this statement's credibility](https://www.theverge.com/2020/9/22/21450916/tesla-battery-pack-elon-musk-price-kilowatt-hour-ev-cost-tabless)). The success of wide-spread EV adoption is dependent on how affordable they are and also how good their energy capacity is relative to their ICE counterparts, meaning that battery technology is key in driving its success. To achieve this, it was unveiled that a [new in-house 4680 battery cell was in production, which \"boasts\" 5x the energy, +16% range, and 6x the power, presumably as compared to the 2170 cells that are being used in the Model 3 and Y being produced by Panasonic at Tesla’s Gigafactory in Nevada](https://www.theverge.com/2020/9/22/21449238/tesla-electric-car-battery-tabless-cells-day-elon-musk). Tesla has stated that it will not be reducing purchases of batteries from its primary suppliers Panasonic, CATL, LG Chem, even though it will start producing its in-house designed 4680 battery cell, likely because the demand for these batteries are projected to far exceed how their own production capacity. Also, in order to reduce costs further, Tesla will be carrying out [backward integration (vertical integration) by starting to source raw materials needed for their batteries themselves too - e.g. buying lithium claim on 10,000 acres in Nevada](https://electrek.co/2020/09/23/tesla-mining-business-buys-lithium-claim-acres-nevada/). [The 4680 battery cell comes with some innovations above the current 2170 battery cells that are currently being used](https://electrek.co/2020/09/23/tesla-battery-puzzle-innovation/amp/):\n",
    "\n",
    "1. [Cell design, specifically form factor and New battery pack design](https://cleantechnica.com/2020/09/22/everything-you-need-to-know-about-teslas-new-4680-battery-cell/)\n",
    "    - Current: 2170 battery cells are smaller and contain tabs\n",
    "    - New: 4680 battery cells are much bigger and contain no tabs, which is the main cause of improvements we've stated above\n",
    "\n",
    "2. [Battery cell factory design with manufacturing innovations](https://electrek.co/2020/09/23/tesla-battery-puzzle-innovation/amp/)\n",
    "    - Current: Wet Coating Electrode Manufacturing\n",
    "        1. Mix \n",
    "        2. Coat and Dry\n",
    "        3. Compress\n",
    "    - [Dry coating electrode manufacturing (enabled by acquisition of Maxwell Technologies in May 2019) **However, still not completely working**](https://electrek.co/2020/09/23/tesla-battery-puzzle-innovation/amp/)\n",
    "        1. Mix\n",
    "        2. Dry and Coat by using Powder into Film\n",
    "\n",
    "3. [New anode materials](https://www.wired.com/story/welcome-to-the-era-of-supercharged-lithium-silicon-batteries/)\n",
    "    - Current: Graphite Anode with Pre-puffed Silicon Oxide\n",
    "    - New: Raw Silicon Anode stabilized with some elastic ions $\\because$ [far more lithium ions can be stored in the anode, which increases the energy capacity of the battery](https://www.wired.com/story/welcome-to-the-era-of-supercharged-lithium-silicon-batteries/)\n",
    "\n",
    "4. [New cathode materials](https://cleantechnica.com/2020/09/22/everything-you-need-to-know-about-teslas-new-4680-battery-cell/)\n",
    "    - Current: [Most EV batteries use an lithium nickel manganese cobalt oxide (NMC) cathode or lithium nickel cobalt aluminum oxide (NCA) $\\because$ cobalt is a very stable](https://www.wired.com/story/where-was-the-battery-at-teslas-battery-day/)\n",
    "    - New: Increase Nickel content in NCA and \"novel coatings and dopants\" to stabilize the cathode (when cobalt content is reduced, the cathode becomes more unstable), if Tesla can completely eliminate Cobalt, there will be significant cost reductions as mentioned in MO1\n",
    "    \n",
    "These updates indicate that Tesla will be focusing on vertical integration to reduce costs for EV battery production (logical since [EV batteries make up around 20% of total EV cost](https://www.statista.com/statistics/797638/battery-share-of-large-electric-vehicle-cost/)). This means that it will probably acquire more companies up in its supply chain such as mining companies for specific raw materials like Nickel, or companies that can improve its Cathode chemistry to completely eliminate Cobalt (There are Cobalt-free cathodes in the market - [LFMP, however, it has a much lower Energy density / cost](https://pushevs.com/2020/04/04/comparison-of-different-ev-batteries-in-2020/))."
   ]
  }
 ],
 "metadata": {
  "kernelspec": {
   "display_name": "Python 3",
   "language": "python",
   "name": "python3"
  },
  "language_info": {
   "codemirror_mode": {
    "name": "ipython",
    "version": 3
   },
   "file_extension": ".py",
   "mimetype": "text/x-python",
   "name": "python",
   "nbconvert_exporter": "python",
   "pygments_lexer": "ipython3",
   "version": "3.8.5"
  },
  "latex_envs": {
   "LaTeX_envs_menu_present": true,
   "autoclose": false,
   "autocomplete": true,
   "bibliofile": "biblio.bib",
   "cite_by": "apalike",
   "current_citInitial": 1,
   "eqLabelWithNumbers": true,
   "eqNumInitial": 1,
   "hotkeys": {
    "equation": "Ctrl-E",
    "itemize": "Ctrl-I"
   },
   "labels_anchors": false,
   "latex_user_defs": false,
   "report_style_numbering": false,
   "user_envs_cfg": false
  }
 },
 "nbformat": 4,
 "nbformat_minor": 4
}
