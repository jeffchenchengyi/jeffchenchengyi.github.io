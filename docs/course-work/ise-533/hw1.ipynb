{
 "cells": [
  {
   "cell_type": "markdown",
   "metadata": {},
   "source": [
    "# HW 1\n",
    "\n",
    "By: Chengyi (Jeff) Chen"
   ]
  },
  {
   "cell_type": "code",
   "execution_count": 1,
   "metadata": {},
   "outputs": [
    {
     "name": "stdout",
     "output_type": "stream",
     "text": [
      "time: 1.8 s (started: 2021-02-02 11:19:25 +08:00)\n"
     ]
    },
    {
     "data": {
      "application/javascript": [
       "\n",
       "            setTimeout(function() {\n",
       "                var nbb_cell_id = 1;\n",
       "                var nbb_unformatted_code = \"%load_ext autotime\\n%load_ext nb_black\\n%matplotlib inline\\n\\nimport os\\nfrom collections import defaultdict\\nimport torch\\nimport numpy as np\\nimport pandas as pd\\nimport cvxpy as cp\\nimport scipy.stats\\nfrom scipy import optimize\\n\\n# from sympy import *\\n# from torch.distributions import constraints\\nimport matplotlib.pyplot as plt\\nfrom matplotlib import rc\\n\\n# import daft\\n\\nplt.rcParams[\\\"figure.dpi\\\"] = 300\\nplt.rcParams[\\\"figure.figsize\\\"] = (16, 12)\\n\\n# import pyro\\n# import pyro.distributions as dist\\n# from pyro import poutine\\n# from pyro.infer.autoguide import AutoDelta\\n# from pyro.optim import Adam\\n# from pyro.infer import SVI, TraceEnum_ELBO, config_enumerate, infer_discrete\\n\\n# smoke_test = \\\"CI\\\" in os.environ\\n# assert pyro.__version__.startswith(\\\"1.5.1\\\")\\n# pyro.enable_validation(True)\";\n",
       "                var nbb_formatted_code = \"%load_ext autotime\\n%load_ext nb_black\\n%matplotlib inline\\n\\nimport os\\nfrom collections import defaultdict\\nimport torch\\nimport numpy as np\\nimport pandas as pd\\nimport cvxpy as cp\\nimport scipy.stats\\nfrom scipy import optimize\\n\\n# from sympy import *\\n# from torch.distributions import constraints\\nimport matplotlib.pyplot as plt\\nfrom matplotlib import rc\\n\\n# import daft\\n\\nplt.rcParams[\\\"figure.dpi\\\"] = 300\\nplt.rcParams[\\\"figure.figsize\\\"] = (16, 12)\\n\\n# import pyro\\n# import pyro.distributions as dist\\n# from pyro import poutine\\n# from pyro.infer.autoguide import AutoDelta\\n# from pyro.optim import Adam\\n# from pyro.infer import SVI, TraceEnum_ELBO, config_enumerate, infer_discrete\\n\\n# smoke_test = \\\"CI\\\" in os.environ\\n# assert pyro.__version__.startswith(\\\"1.5.1\\\")\\n# pyro.enable_validation(True)\";\n",
       "                var nbb_cells = Jupyter.notebook.get_cells();\n",
       "                for (var i = 0; i < nbb_cells.length; ++i) {\n",
       "                    if (nbb_cells[i].input_prompt_number == nbb_cell_id) {\n",
       "                        if (nbb_cells[i].get_text() == nbb_unformatted_code) {\n",
       "                             nbb_cells[i].set_text(nbb_formatted_code);\n",
       "                        }\n",
       "                        break;\n",
       "                    }\n",
       "                }\n",
       "            }, 500);\n",
       "            "
      ],
      "text/plain": [
       "<IPython.core.display.Javascript object>"
      ]
     },
     "metadata": {},
     "output_type": "display_data"
    }
   ],
   "source": [
    "%load_ext autotime\n",
    "%load_ext nb_black\n",
    "%matplotlib inline\n",
    "\n",
    "import os\n",
    "from collections import defaultdict\n",
    "import torch\n",
    "import numpy as np\n",
    "import pandas as pd\n",
    "import cvxpy as cp\n",
    "import scipy.stats\n",
    "from scipy import optimize\n",
    "\n",
    "# from sympy import *\n",
    "# from torch.distributions import constraints\n",
    "import matplotlib.pyplot as plt\n",
    "from matplotlib import rc\n",
    "\n",
    "# import daft\n",
    "\n",
    "plt.rcParams[\"figure.dpi\"] = 300\n",
    "plt.rcParams[\"figure.figsize\"] = (16, 12)\n",
    "\n",
    "# import pyro\n",
    "# import pyro.distributions as dist\n",
    "# from pyro import poutine\n",
    "# from pyro.infer.autoguide import AutoDelta\n",
    "# from pyro.optim import Adam\n",
    "# from pyro.infer import SVI, TraceEnum_ELBO, config_enumerate, infer_discrete\n",
    "\n",
    "# smoke_test = \"CI\" in os.environ\n",
    "# assert pyro.__version__.startswith(\"1.5.1\")\n",
    "# pyro.enable_validation(True)"
   ]
  },
  {
   "cell_type": "code",
   "execution_count": 2,
   "metadata": {},
   "outputs": [
    {
     "data": {
      "text/html": [
       "<div>\n",
       "<style scoped>\n",
       "    .dataframe tbody tr th:only-of-type {\n",
       "        vertical-align: middle;\n",
       "    }\n",
       "\n",
       "    .dataframe tbody tr th {\n",
       "        vertical-align: top;\n",
       "    }\n",
       "\n",
       "    .dataframe thead th {\n",
       "        text-align: right;\n",
       "    }\n",
       "</style>\n",
       "<table border=\"1\" class=\"dataframe\">\n",
       "  <thead>\n",
       "    <tr style=\"text-align: right;\">\n",
       "      <th></th>\n",
       "      <th>County</th>\n",
       "      <th>Current Population</th>\n",
       "      <th>County Label</th>\n",
       "      <th>Adjacency List</th>\n",
       "      <th>Population in 5 years later</th>\n",
       "    </tr>\n",
       "  </thead>\n",
       "  <tbody>\n",
       "    <tr>\n",
       "      <th>0</th>\n",
       "      <td>Adams County</td>\n",
       "      <td>27724</td>\n",
       "      <td>30</td>\n",
       "      <td>[29, 31, 48, 49]</td>\n",
       "      <td>27268</td>\n",
       "    </tr>\n",
       "    <tr>\n",
       "      <th>1</th>\n",
       "      <td>Allen County</td>\n",
       "      <td>102663</td>\n",
       "      <td>16</td>\n",
       "      <td>[4, 15, 17, 22, 23]</td>\n",
       "      <td>100495</td>\n",
       "    </tr>\n",
       "    <tr>\n",
       "      <th>2</th>\n",
       "      <td>Ashland County</td>\n",
       "      <td>53745</td>\n",
       "      <td>59</td>\n",
       "      <td>[41, 56, 57, 58, 61, 62, 63]</td>\n",
       "      <td>53836</td>\n",
       "    </tr>\n",
       "    <tr>\n",
       "      <th>3</th>\n",
       "      <td>Ashtabula County</td>\n",
       "      <td>97493</td>\n",
       "      <td>80</td>\n",
       "      <td>[79, 78, 81]</td>\n",
       "      <td>95249</td>\n",
       "    </tr>\n",
       "    <tr>\n",
       "      <th>4</th>\n",
       "      <td>Athens County</td>\n",
       "      <td>65818</td>\n",
       "      <td>68</td>\n",
       "      <td>[52, 53, 66, 67, 69, 71]</td>\n",
       "      <td>65904</td>\n",
       "    </tr>\n",
       "  </tbody>\n",
       "</table>\n",
       "</div>"
      ],
      "text/plain": [
       "             County  Current Population  County Label  \\\n",
       "0      Adams County               27724            30   \n",
       "1      Allen County              102663            16   \n",
       "2    Ashland County               53745            59   \n",
       "3  Ashtabula County               97493            80   \n",
       "4     Athens County               65818            68   \n",
       "\n",
       "                 Adjacency List  Population in 5 years later  \n",
       "0              [29, 31, 48, 49]                        27268  \n",
       "1           [4, 15, 17, 22, 23]                       100495  \n",
       "2  [41, 56, 57, 58, 61, 62, 63]                        53836  \n",
       "3                  [79, 78, 81]                        95249  \n",
       "4      [52, 53, 66, 67, 69, 71]                        65904  "
      ]
     },
     "execution_count": 2,
     "metadata": {},
     "output_type": "execute_result"
    },
    {
     "name": "stdout",
     "output_type": "stream",
     "text": [
      "time: 294 ms (started: 2021-02-02 11:19:27 +08:00)\n"
     ]
    },
    {
     "data": {
      "application/javascript": [
       "\n",
       "            setTimeout(function() {\n",
       "                var nbb_cell_id = 2;\n",
       "                var nbb_unformatted_code = \"ohio_population = pd.read_excel(\\n    \\\"./data/Ohio_pop_5y.xlsx\\\", engine=\\\"openpyxl\\\", usecols=[0, 1, 2, 3, 4], nrows=88\\n)\\nohio_population.rename({\\\"Adjacent Matrix\\\": \\\"Adjacency List\\\"}, inplace=True, axis=1)\\nohio_population[\\\"Current Population\\\"] = ohio_population[\\\"Current Population\\\"].astype(\\n    int\\n)\\nohio_population[\\\"Population in 5 years later\\\"] = ohio_population[\\n    \\\"Population in 5 years later\\\"\\n].astype(int)\\nohio_population[\\\"County Label\\\"] = ohio_population[\\\"County Label\\\"].astype(int)\\nohio_population[\\\"Adjacency List\\\"] = ohio_population[\\\"Adjacency List\\\"].apply(\\n    lambda x: np.array(list(map(int, x.split(\\\",\\\"))))\\n)\\nohio_population.head()\";\n",
       "                var nbb_formatted_code = \"ohio_population = pd.read_excel(\\n    \\\"./data/Ohio_pop_5y.xlsx\\\", engine=\\\"openpyxl\\\", usecols=[0, 1, 2, 3, 4], nrows=88\\n)\\nohio_population.rename({\\\"Adjacent Matrix\\\": \\\"Adjacency List\\\"}, inplace=True, axis=1)\\nohio_population[\\\"Current Population\\\"] = ohio_population[\\\"Current Population\\\"].astype(\\n    int\\n)\\nohio_population[\\\"Population in 5 years later\\\"] = ohio_population[\\n    \\\"Population in 5 years later\\\"\\n].astype(int)\\nohio_population[\\\"County Label\\\"] = ohio_population[\\\"County Label\\\"].astype(int)\\nohio_population[\\\"Adjacency List\\\"] = ohio_population[\\\"Adjacency List\\\"].apply(\\n    lambda x: np.array(list(map(int, x.split(\\\",\\\"))))\\n)\\nohio_population.head()\";\n",
       "                var nbb_cells = Jupyter.notebook.get_cells();\n",
       "                for (var i = 0; i < nbb_cells.length; ++i) {\n",
       "                    if (nbb_cells[i].input_prompt_number == nbb_cell_id) {\n",
       "                        if (nbb_cells[i].get_text() == nbb_unformatted_code) {\n",
       "                             nbb_cells[i].set_text(nbb_formatted_code);\n",
       "                        }\n",
       "                        break;\n",
       "                    }\n",
       "                }\n",
       "            }, 500);\n",
       "            "
      ],
      "text/plain": [
       "<IPython.core.display.Javascript object>"
      ]
     },
     "metadata": {},
     "output_type": "display_data"
    }
   ],
   "source": [
    "ohio_population = pd.read_excel(\n",
    "    \"./data/Ohio_pop_5y.xlsx\", engine=\"openpyxl\", usecols=[0, 1, 2, 3, 4], nrows=88\n",
    ")\n",
    "ohio_population.rename({\"Adjacent Matrix\": \"Adjacency List\"}, inplace=True, axis=1)\n",
    "ohio_population[\"Current Population\"] = ohio_population[\"Current Population\"].astype(\n",
    "    int\n",
    ")\n",
    "ohio_population[\"Population in 5 years later\"] = ohio_population[\n",
    "    \"Population in 5 years later\"\n",
    "].astype(int)\n",
    "ohio_population[\"County Label\"] = ohio_population[\"County Label\"].astype(int)\n",
    "ohio_population[\"Adjacency List\"] = ohio_population[\"Adjacency List\"].apply(\n",
    "    lambda x: np.array(list(map(int, x.split(\",\"))))\n",
    ")\n",
    "ohio_population.head()"
   ]
  },
  {
   "cell_type": "markdown",
   "metadata": {},
   "source": [
    "Let's convert the Adjacency List representing the counties that share a border into an Adjacency Matrix."
   ]
  },
  {
   "cell_type": "markdown",
   "metadata": {},
   "source": [
    "---\n",
    "## 01 - Set Cover: Minimum Number of Principle places of business to cover all 88 counties in Ohio\n",
    "\n",
    "Prior to 1979, banks in Ohio were only allowed to place branches in a county where the bank had a principal place of business. A new law in 1979 allowed banks to put branches in any county where the bank has a principal place of business and in any county adjacent to one in which it has a principal place of business. The question posed is, What is the minimum number of principal places of business, and in which counties should they be located to enable branches\n",
    "in all eighty-eight counties of Ohio?\n",
    "\n",
    "The model for this problem is a classic set cover problem where the constraints ensure that for each of the 88 counties, the county has a principal place of business or a county adjacent to it has a principal place of business.\n",
    "Let $x_j = 1$ if county $j$ has a principal place of business and $0$ if not; $j = 1, 2, \\cdots, 88$. \n",
    "\n",
    "Define adjacency matrix $A = \\left[a_{ij} = 1\\text{ if county }i\\text{ and county }j\\text{ share a border and }0\\right]$ if not (note that $a_{ii} = 1$). We need to solve the following binary program:"
   ]
  },
  {
   "cell_type": "code",
   "execution_count": 3,
   "metadata": {},
   "outputs": [
    {
     "data": {
      "text/plain": [
       "array([[0, 0, 0, ..., 0, 0, 0],\n",
       "       [0, 0, 0, ..., 0, 0, 0],\n",
       "       [0, 0, 0, ..., 0, 0, 0],\n",
       "       ...,\n",
       "       [1, 1, 0, ..., 0, 0, 0],\n",
       "       [0, 0, 0, ..., 0, 0, 0],\n",
       "       [0, 0, 0, ..., 0, 0, 0]])"
      ]
     },
     "execution_count": 3,
     "metadata": {},
     "output_type": "execute_result"
    },
    {
     "name": "stdout",
     "output_type": "stream",
     "text": [
      "time: 35.8 ms (started: 2021-02-02 11:19:27 +08:00)\n"
     ]
    },
    {
     "data": {
      "application/javascript": [
       "\n",
       "            setTimeout(function() {\n",
       "                var nbb_cell_id = 3;\n",
       "                var nbb_unformatted_code = \"A = np.array(\\n    [\\n        [\\n            1 if (i + 1 in adjacent_counties) or (county_label - 1 == i) else 0\\n            for i in range(len(ohio_population))\\n        ]\\n        for county_label, adjacent_counties in ohio_population[\\n            [\\\"County Label\\\", \\\"Adjacency List\\\"]\\n        ].to_numpy()\\n    ]\\n)\\n\\nassert np.alltrue(\\n    [\\n        set(list((np.argwhere(row) + 1).flatten()))\\n        - set(list(ohio_population[\\\"Adjacency List\\\"].iloc[idx]))\\n        == set([ohio_population[\\\"County Label\\\"].iloc[idx]])\\n        for idx, row in enumerate(A)\\n    ]\\n), print(\\\"Adjacency Matrix is incorrect.\\\")\\nA\";\n",
       "                var nbb_formatted_code = \"A = np.array(\\n    [\\n        [\\n            1 if (i + 1 in adjacent_counties) or (county_label - 1 == i) else 0\\n            for i in range(len(ohio_population))\\n        ]\\n        for county_label, adjacent_counties in ohio_population[\\n            [\\\"County Label\\\", \\\"Adjacency List\\\"]\\n        ].to_numpy()\\n    ]\\n)\\n\\nassert np.alltrue(\\n    [\\n        set(list((np.argwhere(row) + 1).flatten()))\\n        - set(list(ohio_population[\\\"Adjacency List\\\"].iloc[idx]))\\n        == set([ohio_population[\\\"County Label\\\"].iloc[idx]])\\n        for idx, row in enumerate(A)\\n    ]\\n), print(\\\"Adjacency Matrix is incorrect.\\\")\\nA\";\n",
       "                var nbb_cells = Jupyter.notebook.get_cells();\n",
       "                for (var i = 0; i < nbb_cells.length; ++i) {\n",
       "                    if (nbb_cells[i].input_prompt_number == nbb_cell_id) {\n",
       "                        if (nbb_cells[i].get_text() == nbb_unformatted_code) {\n",
       "                             nbb_cells[i].set_text(nbb_formatted_code);\n",
       "                        }\n",
       "                        break;\n",
       "                    }\n",
       "                }\n",
       "            }, 500);\n",
       "            "
      ],
      "text/plain": [
       "<IPython.core.display.Javascript object>"
      ]
     },
     "metadata": {},
     "output_type": "display_data"
    }
   ],
   "source": [
    "A = np.array(\n",
    "    [\n",
    "        [\n",
    "            1 if (i + 1 in adjacent_counties) or (county_label - 1 == i) else 0\n",
    "            for i in range(len(ohio_population))\n",
    "        ]\n",
    "        for county_label, adjacent_counties in ohio_population[\n",
    "            [\"County Label\", \"Adjacency List\"]\n",
    "        ].to_numpy()\n",
    "    ]\n",
    ")\n",
    "\n",
    "assert np.alltrue(\n",
    "    [\n",
    "        set(list((np.argwhere(row) + 1).flatten()))\n",
    "        - set(list(ohio_population[\"Adjacency List\"].iloc[idx]))\n",
    "        == set([ohio_population[\"County Label\"].iloc[idx]])\n",
    "        for idx, row in enumerate(A)\n",
    "    ]\n",
    "), print(\"Adjacency Matrix is incorrect.\")\n",
    "A"
   ]
  },
  {
   "cell_type": "markdown",
   "metadata": {},
   "source": [
    "\\begin{aligned}\n",
    "    \\underset{x}{\\text{minimize }} &{\\bf 1}^\\top x \\\\\n",
    "    \\text{subject to }\n",
    "    &Ax \\geq {\\bf 1} \\\\\n",
    "    &x_j \\in \\{0, 1 \\} \\,\\, j = 1, 2, \\cdots, 88. \\\\\n",
    "\\end{aligned}"
   ]
  },
  {
   "cell_type": "code",
   "execution_count": 4,
   "metadata": {},
   "outputs": [
    {
     "name": "stdout",
     "output_type": "stream",
     "text": [
      "Mixed Integer Programming Solution\n",
      "========================================\n",
      "Status: optimal\n",
      "The optimal value is: 15.0\n",
      "The optimal solution is: x = [ 3  5  7  8  9 28 35 40 45 49 51 72 75 76 81]\n",
      "time: 18.8 ms (started: 2021-02-02 11:19:27 +08:00)\n"
     ]
    },
    {
     "data": {
      "application/javascript": [
       "\n",
       "            setTimeout(function() {\n",
       "                var nbb_cell_id = 4;\n",
       "                var nbb_unformatted_code = \"# Create one vector optimization variable.\\nx = cp.Variable((88,), integer=True)\\n\\n# Create constraints.\\nconstraints = [\\n    A.T @ x >= 1,\\n    0 <= x,\\n    x <= 1,\\n]\\n\\n# Form objective.\\nobj = cp.Minimize(cp.sum(x))\\n\\n# Form and solve problem.\\nprob = cp.Problem(obj, constraints)\\nprob.solve()\\n\\nprint(\\\"Mixed Integer Programming Solution\\\")\\nprint(\\\"=\\\" * 40)\\nprint(f\\\"Status: {prob.status}\\\")\\nprint(f\\\"The optimal value is: {prob.value}\\\")\\nprint(f\\\"The optimal solution is: x = {(np.argwhere(x.value) + 1).flatten()}\\\")\";\n",
       "                var nbb_formatted_code = \"# Create one vector optimization variable.\\nx = cp.Variable((88,), integer=True)\\n\\n# Create constraints.\\nconstraints = [\\n    A.T @ x >= 1,\\n    0 <= x,\\n    x <= 1,\\n]\\n\\n# Form objective.\\nobj = cp.Minimize(cp.sum(x))\\n\\n# Form and solve problem.\\nprob = cp.Problem(obj, constraints)\\nprob.solve()\\n\\nprint(\\\"Mixed Integer Programming Solution\\\")\\nprint(\\\"=\\\" * 40)\\nprint(f\\\"Status: {prob.status}\\\")\\nprint(f\\\"The optimal value is: {prob.value}\\\")\\nprint(f\\\"The optimal solution is: x = {(np.argwhere(x.value) + 1).flatten()}\\\")\";\n",
       "                var nbb_cells = Jupyter.notebook.get_cells();\n",
       "                for (var i = 0; i < nbb_cells.length; ++i) {\n",
       "                    if (nbb_cells[i].input_prompt_number == nbb_cell_id) {\n",
       "                        if (nbb_cells[i].get_text() == nbb_unformatted_code) {\n",
       "                             nbb_cells[i].set_text(nbb_formatted_code);\n",
       "                        }\n",
       "                        break;\n",
       "                    }\n",
       "                }\n",
       "            }, 500);\n",
       "            "
      ],
      "text/plain": [
       "<IPython.core.display.Javascript object>"
      ]
     },
     "metadata": {},
     "output_type": "display_data"
    }
   ],
   "source": [
    "# Create one vector optimization variable.\n",
    "x = cp.Variable((88,), integer=True)\n",
    "\n",
    "# Create constraints.\n",
    "constraints = [\n",
    "    A.T @ x >= 1,\n",
    "    0 <= x,\n",
    "    x <= 1,\n",
    "]\n",
    "\n",
    "# Form objective.\n",
    "obj = cp.Minimize(cp.sum(x))\n",
    "\n",
    "# Form and solve problem.\n",
    "prob = cp.Problem(obj, constraints)\n",
    "prob.solve()\n",
    "\n",
    "print(\"Mixed Integer Programming Solution\")\n",
    "print(\"=\" * 40)\n",
    "print(f\"Status: {prob.status}\")\n",
    "print(f\"The optimal value is: {prob.value}\")\n",
    "print(f\"The optimal solution is: x = {(np.argwhere(x.value) + 1).flatten()}\")"
   ]
  },
  {
   "cell_type": "markdown",
   "metadata": {},
   "source": [
    "Let's save this as the first solution."
   ]
  },
  {
   "cell_type": "code",
   "execution_count": 5,
   "metadata": {},
   "outputs": [
    {
     "name": "stdout",
     "output_type": "stream",
     "text": [
      "time: 276 µs (started: 2021-02-02 11:19:27 +08:00)\n"
     ]
    },
    {
     "data": {
      "application/javascript": [
       "\n",
       "            setTimeout(function() {\n",
       "                var nbb_cell_id = 5;\n",
       "                var nbb_unformatted_code = \"first_solution = x.value\";\n",
       "                var nbb_formatted_code = \"first_solution = x.value\";\n",
       "                var nbb_cells = Jupyter.notebook.get_cells();\n",
       "                for (var i = 0; i < nbb_cells.length; ++i) {\n",
       "                    if (nbb_cells[i].input_prompt_number == nbb_cell_id) {\n",
       "                        if (nbb_cells[i].get_text() == nbb_unformatted_code) {\n",
       "                             nbb_cells[i].set_text(nbb_formatted_code);\n",
       "                        }\n",
       "                        break;\n",
       "                    }\n",
       "                }\n",
       "            }, 500);\n",
       "            "
      ],
      "text/plain": [
       "<IPython.core.display.Javascript object>"
      ]
     },
     "metadata": {},
     "output_type": "display_data"
    }
   ],
   "source": [
    "first_solution = x.value"
   ]
  },
  {
   "cell_type": "markdown",
   "metadata": {},
   "source": [
    "To enumerate other solutions, we impose another constraint such that the new optimization problem must find a new county to include in its set of principal place of business."
   ]
  },
  {
   "cell_type": "code",
   "execution_count": 6,
   "metadata": {},
   "outputs": [
    {
     "name": "stdout",
     "output_type": "stream",
     "text": [
      "Mixed Integer Programming Solution\n",
      "========================================\n",
      "Status: infeasible\n",
      "The optimal value is: inf\n",
      "The optimal solution is: x = []\n",
      "time: 19.1 ms (started: 2021-02-02 11:19:27 +08:00)\n"
     ]
    },
    {
     "data": {
      "application/javascript": [
       "\n",
       "            setTimeout(function() {\n",
       "                var nbb_cell_id = 6;\n",
       "                var nbb_unformatted_code = \"# Create one vector optimization variable.\\nx = cp.Variable((88,), integer=True)\\n\\n# Create constraints.\\nconstraints = [\\n    A.T @ x >= 1,\\n    0 <= x,\\n    x <= 1,\\n    first_solution @ x <= sum(first_solution) - 1,\\n    cp.sum(x) == sum(first_solution),\\n]\\n\\n# Form objective.\\nobj = cp.Minimize(cp.sum(x))\\n\\n# Form and solve problem.\\nprob = cp.Problem(obj, constraints)\\nprob.solve()\\n\\nprint(\\\"Mixed Integer Programming Solution\\\")\\nprint(\\\"=\\\" * 40)\\nprint(f\\\"Status: {prob.status}\\\")\\nprint(f\\\"The optimal value is: {prob.value}\\\")\\nprint(f\\\"The optimal solution is: x = {(np.argwhere(x.value) + 1).flatten()}\\\")\";\n",
       "                var nbb_formatted_code = \"# Create one vector optimization variable.\\nx = cp.Variable((88,), integer=True)\\n\\n# Create constraints.\\nconstraints = [\\n    A.T @ x >= 1,\\n    0 <= x,\\n    x <= 1,\\n    first_solution @ x <= sum(first_solution) - 1,\\n    cp.sum(x) == sum(first_solution),\\n]\\n\\n# Form objective.\\nobj = cp.Minimize(cp.sum(x))\\n\\n# Form and solve problem.\\nprob = cp.Problem(obj, constraints)\\nprob.solve()\\n\\nprint(\\\"Mixed Integer Programming Solution\\\")\\nprint(\\\"=\\\" * 40)\\nprint(f\\\"Status: {prob.status}\\\")\\nprint(f\\\"The optimal value is: {prob.value}\\\")\\nprint(f\\\"The optimal solution is: x = {(np.argwhere(x.value) + 1).flatten()}\\\")\";\n",
       "                var nbb_cells = Jupyter.notebook.get_cells();\n",
       "                for (var i = 0; i < nbb_cells.length; ++i) {\n",
       "                    if (nbb_cells[i].input_prompt_number == nbb_cell_id) {\n",
       "                        if (nbb_cells[i].get_text() == nbb_unformatted_code) {\n",
       "                             nbb_cells[i].set_text(nbb_formatted_code);\n",
       "                        }\n",
       "                        break;\n",
       "                    }\n",
       "                }\n",
       "            }, 500);\n",
       "            "
      ],
      "text/plain": [
       "<IPython.core.display.Javascript object>"
      ]
     },
     "metadata": {},
     "output_type": "display_data"
    }
   ],
   "source": [
    "# Create one vector optimization variable.\n",
    "x = cp.Variable((88,), integer=True)\n",
    "\n",
    "# Create constraints.\n",
    "constraints = [\n",
    "    A.T @ x >= 1,\n",
    "    0 <= x,\n",
    "    x <= 1,\n",
    "    first_solution @ x <= sum(first_solution) - 1,\n",
    "    cp.sum(x) == sum(first_solution),\n",
    "]\n",
    "\n",
    "# Form objective.\n",
    "obj = cp.Minimize(cp.sum(x))\n",
    "\n",
    "# Form and solve problem.\n",
    "prob = cp.Problem(obj, constraints)\n",
    "prob.solve()\n",
    "\n",
    "print(\"Mixed Integer Programming Solution\")\n",
    "print(\"=\" * 40)\n",
    "print(f\"Status: {prob.status}\")\n",
    "print(f\"The optimal value is: {prob.value}\")\n",
    "print(f\"The optimal solution is: x = {(np.argwhere(x.value) + 1).flatten()}\")"
   ]
  },
  {
   "cell_type": "markdown",
   "metadata": {},
   "source": [
    "---\n",
    "## 02 - Maximal Cover: Maximize the population reached, given a limit $k$ on the number of principal places of business opened\n",
    "\n",
    "If the client can implement 5 principal places of business in each of the next three years, then we should provide a plan for which of the 15 locations should be opened in each of the next three years. To provide a plan for implementation, we need a metric of the quality or contribution of each principal place of business location. The population of each county is available from census data, and we may use that as a proxy for banking business. We may use an extension of the set cover model to solve a related problem known as the maximal coverage problem (MCP). We can use an MCP model to maximize the population reached, given a limit k on the number of principal places of business opened. The MCP is defined as follows:\n",
    "\n",
    "- Let $x_j = 1$ if we place a principal place of business in county $j$ and $0$ if not; $j = 1, 2, \\cdots, 88$.\n",
    "\n",
    "- Let $y_i = 1$ if county $i$ is covered and $0$ if not; $i = 1, 2, \\cdots, 88$\n",
    "\n",
    "- Define ${pop}_{i}$ to be the population of county $i$."
   ]
  },
  {
   "cell_type": "markdown",
   "metadata": {},
   "source": [
    "\\begin{aligned}\n",
    "    \\underset{x, y}{\\text{maximize }} &{pop}^\\top y \\\\\n",
    "    \\text{subject to }\n",
    "    &Ax \\geq y \\\\\n",
    "    &{\\bf 1}^\\top x \\geq k \\\\\n",
    "    &x_j \\in \\{0, 1 \\} \\,\\, j = 1, 2, \\cdots, 88, \\\\\n",
    "    &y_j \\in \\{0, 1 \\} \\,\\, j = 1, 2, \\cdots, 88. \\\\\n",
    "\\end{aligned}"
   ]
  },
  {
   "cell_type": "code",
   "execution_count": 7,
   "metadata": {},
   "outputs": [
    {
     "name": "stdout",
     "output_type": "stream",
     "text": [
      "Mixed Integer Programming Solution\n",
      "========================================\n",
      "Status: optimal\n",
      "\n",
      "Population Covered: 7989928\n",
      "\n",
      "Principal Places of Business selected in Year 1 = [28 42 55 69 71]\n",
      "\n",
      "Counties covered in Year 1 = 37\n",
      "time: 25.3 ms (started: 2021-02-02 11:19:27 +08:00)\n"
     ]
    },
    {
     "data": {
      "application/javascript": [
       "\n",
       "            setTimeout(function() {\n",
       "                var nbb_cell_id = 7;\n",
       "                var nbb_unformatted_code = \"# Create one vector optimization variable.\\nx = cp.Variable((88,), integer=True)\\ny = cp.Variable((88,), integer=True)\\nk = 5\\n\\n# Create constraints.\\nconstraints = [\\n    A.T @ x >= y,\\n    cp.sum(x) <= k,\\n    0 <= x,\\n    x <= 1,\\n    0 <= y,\\n    y <= 1,\\n]\\n\\n# Form objective.\\nobj = cp.Maximize(ohio_population[\\\"Current Population\\\"].to_numpy() @ y)\\n\\n# Form and solve problem.\\nprob = cp.Problem(obj, constraints)\\nprob.solve()\\n\\nprint(\\\"Mixed Integer Programming Solution\\\")\\nprint(\\\"=\\\" * 40)\\nprint(f\\\"Status: {prob.status}\\\\n\\\")\\nprint(f\\\"Population Covered: {int(prob.value)}\\\\n\\\")\\nprint(\\n    f\\\"Principal Places of Business selected in Year 1 = {(np.argwhere(x.value) + 1).flatten() if sum(x.value) < 88 else 'All'}\\\\n\\\"\\n)\\nprint(f\\\"Counties covered in Year 1 = {int(sum(y.value))}\\\")\";\n",
       "                var nbb_formatted_code = \"# Create one vector optimization variable.\\nx = cp.Variable((88,), integer=True)\\ny = cp.Variable((88,), integer=True)\\nk = 5\\n\\n# Create constraints.\\nconstraints = [\\n    A.T @ x >= y,\\n    cp.sum(x) <= k,\\n    0 <= x,\\n    x <= 1,\\n    0 <= y,\\n    y <= 1,\\n]\\n\\n# Form objective.\\nobj = cp.Maximize(ohio_population[\\\"Current Population\\\"].to_numpy() @ y)\\n\\n# Form and solve problem.\\nprob = cp.Problem(obj, constraints)\\nprob.solve()\\n\\nprint(\\\"Mixed Integer Programming Solution\\\")\\nprint(\\\"=\\\" * 40)\\nprint(f\\\"Status: {prob.status}\\\\n\\\")\\nprint(f\\\"Population Covered: {int(prob.value)}\\\\n\\\")\\nprint(\\n    f\\\"Principal Places of Business selected in Year 1 = {(np.argwhere(x.value) + 1).flatten() if sum(x.value) < 88 else 'All'}\\\\n\\\"\\n)\\nprint(f\\\"Counties covered in Year 1 = {int(sum(y.value))}\\\")\";\n",
       "                var nbb_cells = Jupyter.notebook.get_cells();\n",
       "                for (var i = 0; i < nbb_cells.length; ++i) {\n",
       "                    if (nbb_cells[i].input_prompt_number == nbb_cell_id) {\n",
       "                        if (nbb_cells[i].get_text() == nbb_unformatted_code) {\n",
       "                             nbb_cells[i].set_text(nbb_formatted_code);\n",
       "                        }\n",
       "                        break;\n",
       "                    }\n",
       "                }\n",
       "            }, 500);\n",
       "            "
      ],
      "text/plain": [
       "<IPython.core.display.Javascript object>"
      ]
     },
     "metadata": {},
     "output_type": "display_data"
    }
   ],
   "source": [
    "# Create one vector optimization variable.\n",
    "x = cp.Variable((88,), integer=True)\n",
    "y = cp.Variable((88,), integer=True)\n",
    "k = 5\n",
    "\n",
    "# Create constraints.\n",
    "constraints = [\n",
    "    A.T @ x >= y,\n",
    "    cp.sum(x) <= k,\n",
    "    0 <= x,\n",
    "    x <= 1,\n",
    "    0 <= y,\n",
    "    y <= 1,\n",
    "]\n",
    "\n",
    "# Form objective.\n",
    "obj = cp.Maximize(ohio_population[\"Current Population\"].to_numpy() @ y)\n",
    "\n",
    "# Form and solve problem.\n",
    "prob = cp.Problem(obj, constraints)\n",
    "prob.solve()\n",
    "\n",
    "print(\"Mixed Integer Programming Solution\")\n",
    "print(\"=\" * 40)\n",
    "print(f\"Status: {prob.status}\\n\")\n",
    "print(f\"Population Covered: {int(prob.value)}\\n\")\n",
    "print(\n",
    "    f\"Principal Places of Business selected in Year 1 = {(np.argwhere(x.value) + 1).flatten() if sum(x.value) < 88 else 'All'}\\n\"\n",
    ")\n",
    "print(f\"Counties covered in Year 1 = {int(sum(y.value))}\")"
   ]
  },
  {
   "cell_type": "code",
   "execution_count": 8,
   "metadata": {},
   "outputs": [
    {
     "name": "stdout",
     "output_type": "stream",
     "text": [
      "time: 394 µs (started: 2021-02-02 11:19:27 +08:00)\n"
     ]
    },
    {
     "data": {
      "application/javascript": [
       "\n",
       "            setTimeout(function() {\n",
       "                var nbb_cell_id = 8;\n",
       "                var nbb_unformatted_code = \"principals_year_1 = x.value\\ncounties_covered_year_1 = y.value\";\n",
       "                var nbb_formatted_code = \"principals_year_1 = x.value\\ncounties_covered_year_1 = y.value\";\n",
       "                var nbb_cells = Jupyter.notebook.get_cells();\n",
       "                for (var i = 0; i < nbb_cells.length; ++i) {\n",
       "                    if (nbb_cells[i].input_prompt_number == nbb_cell_id) {\n",
       "                        if (nbb_cells[i].get_text() == nbb_unformatted_code) {\n",
       "                             nbb_cells[i].set_text(nbb_formatted_code);\n",
       "                        }\n",
       "                        break;\n",
       "                    }\n",
       "                }\n",
       "            }, 500);\n",
       "            "
      ],
      "text/plain": [
       "<IPython.core.display.Javascript object>"
      ]
     },
     "metadata": {},
     "output_type": "display_data"
    }
   ],
   "source": [
    "principals_year_1 = x.value\n",
    "counties_covered_year_1 = y.value"
   ]
  },
  {
   "cell_type": "code",
   "execution_count": 9,
   "metadata": {},
   "outputs": [
    {
     "name": "stdout",
     "output_type": "stream",
     "text": [
      "Mixed Integer Programming Solution\n",
      "========================================\n",
      "Status: optimal\n",
      "\n",
      "Population Covered: 10663087\n",
      "\n",
      "Principal Places of Business selected in Year 2 = [10 13 28 42 44 55 61 69 71 80]\n",
      "\n",
      "Number of Counties covered in Year 2 = 64\n",
      "time: 23.4 ms (started: 2021-02-02 11:19:27 +08:00)\n"
     ]
    },
    {
     "data": {
      "application/javascript": [
       "\n",
       "            setTimeout(function() {\n",
       "                var nbb_cell_id = 9;\n",
       "                var nbb_unformatted_code = \"# Create one vector optimization variable.\\nx = cp.Variable((88,), integer=True)\\ny = cp.Variable((88,), integer=True)\\nk = 10\\n\\n# Create constraints.\\nconstraints = [\\n    A.T @ x >= y,\\n    cp.sum(x) <= k,\\n    0 <= x,\\n    x <= 1,\\n    0 <= y,\\n    y <= 1,\\n    principals_year_1 @ x >= sum(principals_year_1),\\n    counties_covered_year_1 @ y >= sum(counties_covered_year_1),\\n]\\n\\n# Form objective.\\nobj = cp.Maximize(ohio_population[\\\"Current Population\\\"].to_numpy() @ y)\\n\\n# Form and solve problem.\\nprob = cp.Problem(obj, constraints)\\nprob.solve()\\n\\nprint(\\\"Mixed Integer Programming Solution\\\")\\nprint(\\\"=\\\" * 40)\\nprint(f\\\"Status: {prob.status}\\\\n\\\")\\nprint(f\\\"Population Covered: {int(prob.value)}\\\\n\\\")\\nprint(\\n    f\\\"Principal Places of Business selected in Year 2 = {(np.argwhere(x.value) + 1).flatten() if sum(x.value) < 88 else 'All'}\\\\n\\\"\\n)\\nprint(f\\\"Number of Counties covered in Year 2 = {int(sum(y.value))}\\\")\";\n",
       "                var nbb_formatted_code = \"# Create one vector optimization variable.\\nx = cp.Variable((88,), integer=True)\\ny = cp.Variable((88,), integer=True)\\nk = 10\\n\\n# Create constraints.\\nconstraints = [\\n    A.T @ x >= y,\\n    cp.sum(x) <= k,\\n    0 <= x,\\n    x <= 1,\\n    0 <= y,\\n    y <= 1,\\n    principals_year_1 @ x >= sum(principals_year_1),\\n    counties_covered_year_1 @ y >= sum(counties_covered_year_1),\\n]\\n\\n# Form objective.\\nobj = cp.Maximize(ohio_population[\\\"Current Population\\\"].to_numpy() @ y)\\n\\n# Form and solve problem.\\nprob = cp.Problem(obj, constraints)\\nprob.solve()\\n\\nprint(\\\"Mixed Integer Programming Solution\\\")\\nprint(\\\"=\\\" * 40)\\nprint(f\\\"Status: {prob.status}\\\\n\\\")\\nprint(f\\\"Population Covered: {int(prob.value)}\\\\n\\\")\\nprint(\\n    f\\\"Principal Places of Business selected in Year 2 = {(np.argwhere(x.value) + 1).flatten() if sum(x.value) < 88 else 'All'}\\\\n\\\"\\n)\\nprint(f\\\"Number of Counties covered in Year 2 = {int(sum(y.value))}\\\")\";\n",
       "                var nbb_cells = Jupyter.notebook.get_cells();\n",
       "                for (var i = 0; i < nbb_cells.length; ++i) {\n",
       "                    if (nbb_cells[i].input_prompt_number == nbb_cell_id) {\n",
       "                        if (nbb_cells[i].get_text() == nbb_unformatted_code) {\n",
       "                             nbb_cells[i].set_text(nbb_formatted_code);\n",
       "                        }\n",
       "                        break;\n",
       "                    }\n",
       "                }\n",
       "            }, 500);\n",
       "            "
      ],
      "text/plain": [
       "<IPython.core.display.Javascript object>"
      ]
     },
     "metadata": {},
     "output_type": "display_data"
    }
   ],
   "source": [
    "# Create one vector optimization variable.\n",
    "x = cp.Variable((88,), integer=True)\n",
    "y = cp.Variable((88,), integer=True)\n",
    "k = 10\n",
    "\n",
    "# Create constraints.\n",
    "constraints = [\n",
    "    A.T @ x >= y,\n",
    "    cp.sum(x) <= k,\n",
    "    0 <= x,\n",
    "    x <= 1,\n",
    "    0 <= y,\n",
    "    y <= 1,\n",
    "    principals_year_1 @ x >= sum(principals_year_1),\n",
    "    counties_covered_year_1 @ y >= sum(counties_covered_year_1),\n",
    "]\n",
    "\n",
    "# Form objective.\n",
    "obj = cp.Maximize(ohio_population[\"Current Population\"].to_numpy() @ y)\n",
    "\n",
    "# Form and solve problem.\n",
    "prob = cp.Problem(obj, constraints)\n",
    "prob.solve()\n",
    "\n",
    "print(\"Mixed Integer Programming Solution\")\n",
    "print(\"=\" * 40)\n",
    "print(f\"Status: {prob.status}\\n\")\n",
    "print(f\"Population Covered: {int(prob.value)}\\n\")\n",
    "print(\n",
    "    f\"Principal Places of Business selected in Year 2 = {(np.argwhere(x.value) + 1).flatten() if sum(x.value) < 88 else 'All'}\\n\"\n",
    ")\n",
    "print(f\"Number of Counties covered in Year 2 = {int(sum(y.value))}\")"
   ]
  },
  {
   "cell_type": "code",
   "execution_count": 10,
   "metadata": {},
   "outputs": [
    {
     "name": "stdout",
     "output_type": "stream",
     "text": [
      "time: 373 µs (started: 2021-02-02 11:19:27 +08:00)\n"
     ]
    },
    {
     "data": {
      "application/javascript": [
       "\n",
       "            setTimeout(function() {\n",
       "                var nbb_cell_id = 10;\n",
       "                var nbb_unformatted_code = \"principals_year_2 = x.value\\ncounties_covered_year_2 = y.value\";\n",
       "                var nbb_formatted_code = \"principals_year_2 = x.value\\ncounties_covered_year_2 = y.value\";\n",
       "                var nbb_cells = Jupyter.notebook.get_cells();\n",
       "                for (var i = 0; i < nbb_cells.length; ++i) {\n",
       "                    if (nbb_cells[i].input_prompt_number == nbb_cell_id) {\n",
       "                        if (nbb_cells[i].get_text() == nbb_unformatted_code) {\n",
       "                             nbb_cells[i].set_text(nbb_formatted_code);\n",
       "                        }\n",
       "                        break;\n",
       "                    }\n",
       "                }\n",
       "            }, 500);\n",
       "            "
      ],
      "text/plain": [
       "<IPython.core.display.Javascript object>"
      ]
     },
     "metadata": {},
     "output_type": "display_data"
    }
   ],
   "source": [
    "principals_year_2 = x.value\n",
    "counties_covered_year_2 = y.value"
   ]
  },
  {
   "cell_type": "code",
   "execution_count": 11,
   "metadata": {},
   "outputs": [
    {
     "name": "stdout",
     "output_type": "stream",
     "text": [
      "Mixed Integer Programming Solution\n",
      "========================================\n",
      "Status: optimal\n",
      "\n",
      "Population Covered: 11563347\n",
      "\n",
      "Principal Places of Business selected in Year 3 = [ 1  7 19 27 28 39 42 48 55 58 69 71 76 80 83]\n",
      "\n",
      "Number of Counties covered in Year 3 = 84\n",
      "time: 20.2 ms (started: 2021-02-02 11:19:27 +08:00)\n"
     ]
    },
    {
     "data": {
      "application/javascript": [
       "\n",
       "            setTimeout(function() {\n",
       "                var nbb_cell_id = 11;\n",
       "                var nbb_unformatted_code = \"# Create one vector optimization variable.\\nx = cp.Variable((88,), integer=True)\\ny = cp.Variable((88,), integer=True)\\nk = 15\\n\\n# Create constraints.\\nconstraints = [\\n    A.T @ x >= y,\\n    cp.sum(x) <= k,\\n    0 <= x,\\n    x <= 1,\\n    0 <= y,\\n    y <= 1,\\n    principals_year_1 @ x >= sum(principals_year_1),\\n    counties_covered_year_1 @ y >= sum(counties_covered_year_1),\\n]\\n\\n# Form objective.\\nobj = cp.Maximize(ohio_population[\\\"Current Population\\\"].to_numpy() @ y)\\n\\n# Form and solve problem.\\nprob = cp.Problem(obj, constraints)\\nprob.solve()\\n\\nprint(\\\"Mixed Integer Programming Solution\\\")\\nprint(\\\"=\\\" * 40)\\nprint(f\\\"Status: {prob.status}\\\\n\\\")\\nprint(f\\\"Population Covered: {int(prob.value)}\\\\n\\\")\\nprint(\\n    f\\\"Principal Places of Business selected in Year 3 = {(np.argwhere(x.value) + 1).flatten() if sum(x.value) < 88 else 'All'}\\\\n\\\"\\n)\\nprint(f\\\"Number of Counties covered in Year 3 = {int(sum(y.value))}\\\")\";\n",
       "                var nbb_formatted_code = \"# Create one vector optimization variable.\\nx = cp.Variable((88,), integer=True)\\ny = cp.Variable((88,), integer=True)\\nk = 15\\n\\n# Create constraints.\\nconstraints = [\\n    A.T @ x >= y,\\n    cp.sum(x) <= k,\\n    0 <= x,\\n    x <= 1,\\n    0 <= y,\\n    y <= 1,\\n    principals_year_1 @ x >= sum(principals_year_1),\\n    counties_covered_year_1 @ y >= sum(counties_covered_year_1),\\n]\\n\\n# Form objective.\\nobj = cp.Maximize(ohio_population[\\\"Current Population\\\"].to_numpy() @ y)\\n\\n# Form and solve problem.\\nprob = cp.Problem(obj, constraints)\\nprob.solve()\\n\\nprint(\\\"Mixed Integer Programming Solution\\\")\\nprint(\\\"=\\\" * 40)\\nprint(f\\\"Status: {prob.status}\\\\n\\\")\\nprint(f\\\"Population Covered: {int(prob.value)}\\\\n\\\")\\nprint(\\n    f\\\"Principal Places of Business selected in Year 3 = {(np.argwhere(x.value) + 1).flatten() if sum(x.value) < 88 else 'All'}\\\\n\\\"\\n)\\nprint(f\\\"Number of Counties covered in Year 3 = {int(sum(y.value))}\\\")\";\n",
       "                var nbb_cells = Jupyter.notebook.get_cells();\n",
       "                for (var i = 0; i < nbb_cells.length; ++i) {\n",
       "                    if (nbb_cells[i].input_prompt_number == nbb_cell_id) {\n",
       "                        if (nbb_cells[i].get_text() == nbb_unformatted_code) {\n",
       "                             nbb_cells[i].set_text(nbb_formatted_code);\n",
       "                        }\n",
       "                        break;\n",
       "                    }\n",
       "                }\n",
       "            }, 500);\n",
       "            "
      ],
      "text/plain": [
       "<IPython.core.display.Javascript object>"
      ]
     },
     "metadata": {},
     "output_type": "display_data"
    }
   ],
   "source": [
    "# Create one vector optimization variable.\n",
    "x = cp.Variable((88,), integer=True)\n",
    "y = cp.Variable((88,), integer=True)\n",
    "k = 15\n",
    "\n",
    "# Create constraints.\n",
    "constraints = [\n",
    "    A.T @ x >= y,\n",
    "    cp.sum(x) <= k,\n",
    "    0 <= x,\n",
    "    x <= 1,\n",
    "    0 <= y,\n",
    "    y <= 1,\n",
    "    principals_year_1 @ x >= sum(principals_year_1),\n",
    "    counties_covered_year_1 @ y >= sum(counties_covered_year_1),\n",
    "]\n",
    "\n",
    "# Form objective.\n",
    "obj = cp.Maximize(ohio_population[\"Current Population\"].to_numpy() @ y)\n",
    "\n",
    "# Form and solve problem.\n",
    "prob = cp.Problem(obj, constraints)\n",
    "prob.solve()\n",
    "\n",
    "print(\"Mixed Integer Programming Solution\")\n",
    "print(\"=\" * 40)\n",
    "print(f\"Status: {prob.status}\\n\")\n",
    "print(f\"Population Covered: {int(prob.value)}\\n\")\n",
    "print(\n",
    "    f\"Principal Places of Business selected in Year 3 = {(np.argwhere(x.value) + 1).flatten() if sum(x.value) < 88 else 'All'}\\n\"\n",
    ")\n",
    "print(f\"Number of Counties covered in Year 3 = {int(sum(y.value))}\")"
   ]
  },
  {
   "cell_type": "markdown",
   "metadata": {},
   "source": [
    "### a. Build a model in Pyomo based on equation (25)-(29) in 'How to Influence and Improve Decisions Through Optimization Models' paper. Set $k$ =14, and use the current population ('Current Population' column in the ‘Ohio_pop_5y.csv'). Solve the model, report your solution and objective value."
   ]
  },
  {
   "cell_type": "code",
   "execution_count": 12,
   "metadata": {},
   "outputs": [
    {
     "name": "stdout",
     "output_type": "stream",
     "text": [
      "Mixed Integer Programming Solution\n",
      "========================================\n",
      "Status: optimal\n",
      "\n",
      "Population Covered: 11618698\n",
      "\n",
      "Principal Places of Business selected with k = 14: [ 5  7 19 28 31 36 39 44 45 48 49 51 69 76]\n",
      "\n",
      "Counties covered: 85\n",
      "time: 44.8 ms (started: 2021-02-02 11:19:27 +08:00)\n"
     ]
    },
    {
     "data": {
      "application/javascript": [
       "\n",
       "            setTimeout(function() {\n",
       "                var nbb_cell_id = 12;\n",
       "                var nbb_unformatted_code = \"# Create one vector optimization variable.\\nx = cp.Variable((88,), integer=True)\\ny = cp.Variable((88,), integer=True)\\nk = 14\\n\\n# Create constraints.\\nconstraints = [\\n    A.T @ x >= y,\\n    cp.sum(x) <= k,\\n    0 <= x,\\n    x <= 1,\\n    0 <= y,\\n    y <= 1,\\n]\\n\\n# Form objective.\\nobj = cp.Maximize(ohio_population[\\\"Current Population\\\"].to_numpy() @ y)\\n\\n# Form and solve problem.\\nprob = cp.Problem(obj, constraints)\\nprob.solve()\\n\\nprint(\\\"Mixed Integer Programming Solution\\\")\\nprint(\\\"=\\\" * 40)\\nprint(f\\\"Status: {prob.status}\\\\n\\\")\\nprint(f\\\"Population Covered: {int(prob.value)}\\\\n\\\")\\nprint(\\n    f\\\"Principal Places of Business selected with k = 14: {(np.argwhere(x.value) + 1).flatten() if sum(x.value) < 88 else 'All'}\\\\n\\\"\\n)\\nprint(f\\\"Counties covered: {int(sum(y.value))}\\\")\";\n",
       "                var nbb_formatted_code = \"# Create one vector optimization variable.\\nx = cp.Variable((88,), integer=True)\\ny = cp.Variable((88,), integer=True)\\nk = 14\\n\\n# Create constraints.\\nconstraints = [\\n    A.T @ x >= y,\\n    cp.sum(x) <= k,\\n    0 <= x,\\n    x <= 1,\\n    0 <= y,\\n    y <= 1,\\n]\\n\\n# Form objective.\\nobj = cp.Maximize(ohio_population[\\\"Current Population\\\"].to_numpy() @ y)\\n\\n# Form and solve problem.\\nprob = cp.Problem(obj, constraints)\\nprob.solve()\\n\\nprint(\\\"Mixed Integer Programming Solution\\\")\\nprint(\\\"=\\\" * 40)\\nprint(f\\\"Status: {prob.status}\\\\n\\\")\\nprint(f\\\"Population Covered: {int(prob.value)}\\\\n\\\")\\nprint(\\n    f\\\"Principal Places of Business selected with k = 14: {(np.argwhere(x.value) + 1).flatten() if sum(x.value) < 88 else 'All'}\\\\n\\\"\\n)\\nprint(f\\\"Counties covered: {int(sum(y.value))}\\\")\";\n",
       "                var nbb_cells = Jupyter.notebook.get_cells();\n",
       "                for (var i = 0; i < nbb_cells.length; ++i) {\n",
       "                    if (nbb_cells[i].input_prompt_number == nbb_cell_id) {\n",
       "                        if (nbb_cells[i].get_text() == nbb_unformatted_code) {\n",
       "                             nbb_cells[i].set_text(nbb_formatted_code);\n",
       "                        }\n",
       "                        break;\n",
       "                    }\n",
       "                }\n",
       "            }, 500);\n",
       "            "
      ],
      "text/plain": [
       "<IPython.core.display.Javascript object>"
      ]
     },
     "metadata": {},
     "output_type": "display_data"
    }
   ],
   "source": [
    "# Create one vector optimization variable.\n",
    "x = cp.Variable((88,), integer=True)\n",
    "y = cp.Variable((88,), integer=True)\n",
    "k = 14\n",
    "\n",
    "# Create constraints.\n",
    "constraints = [\n",
    "    A.T @ x >= y,\n",
    "    cp.sum(x) <= k,\n",
    "    0 <= x,\n",
    "    x <= 1,\n",
    "    0 <= y,\n",
    "    y <= 1,\n",
    "]\n",
    "\n",
    "# Form objective.\n",
    "obj = cp.Maximize(ohio_population[\"Current Population\"].to_numpy() @ y)\n",
    "\n",
    "# Form and solve problem.\n",
    "prob = cp.Problem(obj, constraints)\n",
    "prob.solve()\n",
    "\n",
    "print(\"Mixed Integer Programming Solution\")\n",
    "print(\"=\" * 40)\n",
    "print(f\"Status: {prob.status}\\n\")\n",
    "print(f\"Population Covered: {int(prob.value)}\\n\")\n",
    "print(\n",
    "    f\"Principal Places of Business selected with k = 14: {(np.argwhere(x.value) + 1).flatten() if sum(x.value) < 88 else 'All'}\\n\"\n",
    ")\n",
    "print(f\"Counties covered: {int(sum(y.value))}\")"
   ]
  },
  {
   "cell_type": "code",
   "execution_count": 13,
   "metadata": {},
   "outputs": [
    {
     "name": "stdout",
     "output_type": "stream",
     "text": [
      "time: 1.32 ms (started: 2021-02-02 11:19:27 +08:00)\n"
     ]
    },
    {
     "data": {
      "application/javascript": [
       "\n",
       "            setTimeout(function() {\n",
       "                var nbb_cell_id = 13;\n",
       "                var nbb_unformatted_code = \"hw_a_population_covered = int(prob.value)\\nhw_a_principal_places_selected = (\\n    (np.argwhere(x.value) + 1).flatten() if sum(x.value) < 88 else \\\"All\\\"\\n)\\nhw_a_counties_covered = int(sum(y.value))\\nhw_a_y_val = y.value\";\n",
       "                var nbb_formatted_code = \"hw_a_population_covered = int(prob.value)\\nhw_a_principal_places_selected = (\\n    (np.argwhere(x.value) + 1).flatten() if sum(x.value) < 88 else \\\"All\\\"\\n)\\nhw_a_counties_covered = int(sum(y.value))\\nhw_a_y_val = y.value\";\n",
       "                var nbb_cells = Jupyter.notebook.get_cells();\n",
       "                for (var i = 0; i < nbb_cells.length; ++i) {\n",
       "                    if (nbb_cells[i].input_prompt_number == nbb_cell_id) {\n",
       "                        if (nbb_cells[i].get_text() == nbb_unformatted_code) {\n",
       "                             nbb_cells[i].set_text(nbb_formatted_code);\n",
       "                        }\n",
       "                        break;\n",
       "                    }\n",
       "                }\n",
       "            }, 500);\n",
       "            "
      ],
      "text/plain": [
       "<IPython.core.display.Javascript object>"
      ]
     },
     "metadata": {},
     "output_type": "display_data"
    }
   ],
   "source": [
    "hw_a_population_covered = int(prob.value)\n",
    "hw_a_principal_places_selected = (\n",
    "    (np.argwhere(x.value) + 1).flatten() if sum(x.value) < 88 else \"All\"\n",
    ")\n",
    "hw_a_counties_covered = int(sum(y.value))\n",
    "hw_a_y_val = y.value"
   ]
  },
  {
   "cell_type": "markdown",
   "metadata": {},
   "source": [
    "### b. Build the same model in (a), but use the population in 5 years later('Population in 5 years later' column in the dataset).  Solve the model, report your solution and objective value."
   ]
  },
  {
   "cell_type": "code",
   "execution_count": 14,
   "metadata": {},
   "outputs": [
    {
     "name": "stdout",
     "output_type": "stream",
     "text": [
      "Mixed Integer Programming Solution\n",
      "========================================\n",
      "Status: optimal\n",
      "\n",
      "Population Covered 5 years later: 11717667\n",
      "\n",
      "Principal Places of Business selected with k = 14, 5 years later: [ 5  7  8  9 19 28 39 40 45 48 49 51 69 76]\n",
      "\n",
      "Counties covered 5 years later: 85\n",
      "time: 50.8 ms (started: 2021-02-02 11:19:27 +08:00)\n"
     ]
    },
    {
     "data": {
      "application/javascript": [
       "\n",
       "            setTimeout(function() {\n",
       "                var nbb_cell_id = 14;\n",
       "                var nbb_unformatted_code = \"# Create one vector optimization variable.\\nx = cp.Variable((88,), integer=True)\\ny = cp.Variable((88,), integer=True)\\nk = 14\\n\\n# Create constraints.\\nconstraints = [\\n    A.T @ x >= y,\\n    cp.sum(x) <= k,\\n    0 <= x,\\n    x <= 1,\\n    0 <= y,\\n    y <= 1,\\n]\\n\\n# Form objective.\\nobj = cp.Maximize(ohio_population[\\\"Population in 5 years later\\\"].to_numpy() @ y)\\n\\n# Form and solve problem.\\nprob = cp.Problem(obj, constraints)\\nprob.solve()\\n\\nprint(\\\"Mixed Integer Programming Solution\\\")\\nprint(\\\"=\\\" * 40)\\nprint(f\\\"Status: {prob.status}\\\\n\\\")\\nprint(f\\\"Population Covered 5 years later: {int(prob.value)}\\\\n\\\")\\nprint(\\n    f\\\"Principal Places of Business selected with k = 14, 5 years later: {(np.argwhere(x.value) + 1).flatten() if sum(x.value) < 88 else 'All'}\\\\n\\\"\\n)\\nprint(f\\\"Counties covered 5 years later: {int(sum(y.value))}\\\")\";\n",
       "                var nbb_formatted_code = \"# Create one vector optimization variable.\\nx = cp.Variable((88,), integer=True)\\ny = cp.Variable((88,), integer=True)\\nk = 14\\n\\n# Create constraints.\\nconstraints = [\\n    A.T @ x >= y,\\n    cp.sum(x) <= k,\\n    0 <= x,\\n    x <= 1,\\n    0 <= y,\\n    y <= 1,\\n]\\n\\n# Form objective.\\nobj = cp.Maximize(ohio_population[\\\"Population in 5 years later\\\"].to_numpy() @ y)\\n\\n# Form and solve problem.\\nprob = cp.Problem(obj, constraints)\\nprob.solve()\\n\\nprint(\\\"Mixed Integer Programming Solution\\\")\\nprint(\\\"=\\\" * 40)\\nprint(f\\\"Status: {prob.status}\\\\n\\\")\\nprint(f\\\"Population Covered 5 years later: {int(prob.value)}\\\\n\\\")\\nprint(\\n    f\\\"Principal Places of Business selected with k = 14, 5 years later: {(np.argwhere(x.value) + 1).flatten() if sum(x.value) < 88 else 'All'}\\\\n\\\"\\n)\\nprint(f\\\"Counties covered 5 years later: {int(sum(y.value))}\\\")\";\n",
       "                var nbb_cells = Jupyter.notebook.get_cells();\n",
       "                for (var i = 0; i < nbb_cells.length; ++i) {\n",
       "                    if (nbb_cells[i].input_prompt_number == nbb_cell_id) {\n",
       "                        if (nbb_cells[i].get_text() == nbb_unformatted_code) {\n",
       "                             nbb_cells[i].set_text(nbb_formatted_code);\n",
       "                        }\n",
       "                        break;\n",
       "                    }\n",
       "                }\n",
       "            }, 500);\n",
       "            "
      ],
      "text/plain": [
       "<IPython.core.display.Javascript object>"
      ]
     },
     "metadata": {},
     "output_type": "display_data"
    }
   ],
   "source": [
    "# Create one vector optimization variable.\n",
    "x = cp.Variable((88,), integer=True)\n",
    "y = cp.Variable((88,), integer=True)\n",
    "k = 14\n",
    "\n",
    "# Create constraints.\n",
    "constraints = [\n",
    "    A.T @ x >= y,\n",
    "    cp.sum(x) <= k,\n",
    "    0 <= x,\n",
    "    x <= 1,\n",
    "    0 <= y,\n",
    "    y <= 1,\n",
    "]\n",
    "\n",
    "# Form objective.\n",
    "obj = cp.Maximize(ohio_population[\"Population in 5 years later\"].to_numpy() @ y)\n",
    "\n",
    "# Form and solve problem.\n",
    "prob = cp.Problem(obj, constraints)\n",
    "prob.solve()\n",
    "\n",
    "print(\"Mixed Integer Programming Solution\")\n",
    "print(\"=\" * 40)\n",
    "print(f\"Status: {prob.status}\\n\")\n",
    "print(f\"Population Covered 5 years later: {int(prob.value)}\\n\")\n",
    "print(\n",
    "    f\"Principal Places of Business selected with k = 14, 5 years later: {(np.argwhere(x.value) + 1).flatten() if sum(x.value) < 88 else 'All'}\\n\"\n",
    ")\n",
    "print(f\"Counties covered 5 years later: {int(sum(y.value))}\")"
   ]
  },
  {
   "cell_type": "code",
   "execution_count": 15,
   "metadata": {},
   "outputs": [
    {
     "name": "stdout",
     "output_type": "stream",
     "text": [
      "time: 641 µs (started: 2021-02-02 11:19:28 +08:00)\n"
     ]
    },
    {
     "data": {
      "application/javascript": [
       "\n",
       "            setTimeout(function() {\n",
       "                var nbb_cell_id = 15;\n",
       "                var nbb_unformatted_code = \"hw_b_population_covered = int(prob.value)\\nhw_b_principal_places_selected = (\\n    (np.argwhere(x.value) + 1).flatten() if sum(x.value) < 88 else \\\"All\\\"\\n)\\nhw_b_counties_covered = int(sum(y.value))\\nhw_b_y_val = y.value\";\n",
       "                var nbb_formatted_code = \"hw_b_population_covered = int(prob.value)\\nhw_b_principal_places_selected = (\\n    (np.argwhere(x.value) + 1).flatten() if sum(x.value) < 88 else \\\"All\\\"\\n)\\nhw_b_counties_covered = int(sum(y.value))\\nhw_b_y_val = y.value\";\n",
       "                var nbb_cells = Jupyter.notebook.get_cells();\n",
       "                for (var i = 0; i < nbb_cells.length; ++i) {\n",
       "                    if (nbb_cells[i].input_prompt_number == nbb_cell_id) {\n",
       "                        if (nbb_cells[i].get_text() == nbb_unformatted_code) {\n",
       "                             nbb_cells[i].set_text(nbb_formatted_code);\n",
       "                        }\n",
       "                        break;\n",
       "                    }\n",
       "                }\n",
       "            }, 500);\n",
       "            "
      ],
      "text/plain": [
       "<IPython.core.display.Javascript object>"
      ]
     },
     "metadata": {},
     "output_type": "display_data"
    }
   ],
   "source": [
    "hw_b_population_covered = int(prob.value)\n",
    "hw_b_principal_places_selected = (\n",
    "    (np.argwhere(x.value) + 1).flatten() if sum(x.value) < 88 else \"All\"\n",
    ")\n",
    "hw_b_counties_covered = int(sum(y.value))\n",
    "hw_b_y_val = y.value"
   ]
  },
  {
   "cell_type": "markdown",
   "metadata": {},
   "source": [
    "<a id=05></a>\n",
    "### c. Compare the solution in (a) and (b). Discuss your findings."
   ]
  },
  {
   "cell_type": "code",
   "execution_count": 16,
   "metadata": {},
   "outputs": [
    {
     "data": {
      "text/plain": [
       "11618698"
      ]
     },
     "execution_count": 16,
     "metadata": {},
     "output_type": "execute_result"
    },
    {
     "name": "stdout",
     "output_type": "stream",
     "text": [
      "time: 2.72 ms (started: 2021-02-02 11:19:28 +08:00)\n"
     ]
    },
    {
     "data": {
      "application/javascript": [
       "\n",
       "            setTimeout(function() {\n",
       "                var nbb_cell_id = 16;\n",
       "                var nbb_unformatted_code = \"hw_a_population_covered\";\n",
       "                var nbb_formatted_code = \"hw_a_population_covered\";\n",
       "                var nbb_cells = Jupyter.notebook.get_cells();\n",
       "                for (var i = 0; i < nbb_cells.length; ++i) {\n",
       "                    if (nbb_cells[i].input_prompt_number == nbb_cell_id) {\n",
       "                        if (nbb_cells[i].get_text() == nbb_unformatted_code) {\n",
       "                             nbb_cells[i].set_text(nbb_formatted_code);\n",
       "                        }\n",
       "                        break;\n",
       "                    }\n",
       "                }\n",
       "            }, 500);\n",
       "            "
      ],
      "text/plain": [
       "<IPython.core.display.Javascript object>"
      ]
     },
     "metadata": {},
     "output_type": "display_data"
    }
   ],
   "source": [
    "hw_a_population_covered"
   ]
  },
  {
   "cell_type": "code",
   "execution_count": 17,
   "metadata": {},
   "outputs": [
    {
     "data": {
      "text/plain": [
       "11717667"
      ]
     },
     "execution_count": 17,
     "metadata": {},
     "output_type": "execute_result"
    },
    {
     "name": "stdout",
     "output_type": "stream",
     "text": [
      "time: 1.64 ms (started: 2021-02-02 11:19:28 +08:00)\n"
     ]
    },
    {
     "data": {
      "application/javascript": [
       "\n",
       "            setTimeout(function() {\n",
       "                var nbb_cell_id = 17;\n",
       "                var nbb_unformatted_code = \"hw_b_population_covered\";\n",
       "                var nbb_formatted_code = \"hw_b_population_covered\";\n",
       "                var nbb_cells = Jupyter.notebook.get_cells();\n",
       "                for (var i = 0; i < nbb_cells.length; ++i) {\n",
       "                    if (nbb_cells[i].input_prompt_number == nbb_cell_id) {\n",
       "                        if (nbb_cells[i].get_text() == nbb_unformatted_code) {\n",
       "                             nbb_cells[i].set_text(nbb_formatted_code);\n",
       "                        }\n",
       "                        break;\n",
       "                    }\n",
       "                }\n",
       "            }, 500);\n",
       "            "
      ],
      "text/plain": [
       "<IPython.core.display.Javascript object>"
      ]
     },
     "metadata": {},
     "output_type": "display_data"
    }
   ],
   "source": [
    "hw_b_population_covered"
   ]
  },
  {
   "cell_type": "code",
   "execution_count": 18,
   "metadata": {},
   "outputs": [
    {
     "data": {
      "text/plain": [
       "array([ 5,  7, 19, 28, 31, 36, 39, 44, 45, 48, 49, 51, 69, 76])"
      ]
     },
     "execution_count": 18,
     "metadata": {},
     "output_type": "execute_result"
    },
    {
     "name": "stdout",
     "output_type": "stream",
     "text": [
      "time: 1.57 ms (started: 2021-02-02 11:19:28 +08:00)\n"
     ]
    },
    {
     "data": {
      "application/javascript": [
       "\n",
       "            setTimeout(function() {\n",
       "                var nbb_cell_id = 18;\n",
       "                var nbb_unformatted_code = \"hw_a_principal_places_selected\";\n",
       "                var nbb_formatted_code = \"hw_a_principal_places_selected\";\n",
       "                var nbb_cells = Jupyter.notebook.get_cells();\n",
       "                for (var i = 0; i < nbb_cells.length; ++i) {\n",
       "                    if (nbb_cells[i].input_prompt_number == nbb_cell_id) {\n",
       "                        if (nbb_cells[i].get_text() == nbb_unformatted_code) {\n",
       "                             nbb_cells[i].set_text(nbb_formatted_code);\n",
       "                        }\n",
       "                        break;\n",
       "                    }\n",
       "                }\n",
       "            }, 500);\n",
       "            "
      ],
      "text/plain": [
       "<IPython.core.display.Javascript object>"
      ]
     },
     "metadata": {},
     "output_type": "display_data"
    }
   ],
   "source": [
    "hw_a_principal_places_selected"
   ]
  },
  {
   "cell_type": "code",
   "execution_count": 19,
   "metadata": {},
   "outputs": [
    {
     "data": {
      "text/plain": [
       "array([ 5,  7,  8,  9, 19, 28, 39, 40, 45, 48, 49, 51, 69, 76])"
      ]
     },
     "execution_count": 19,
     "metadata": {},
     "output_type": "execute_result"
    },
    {
     "name": "stdout",
     "output_type": "stream",
     "text": [
      "time: 2.3 ms (started: 2021-02-02 11:19:28 +08:00)\n"
     ]
    },
    {
     "data": {
      "application/javascript": [
       "\n",
       "            setTimeout(function() {\n",
       "                var nbb_cell_id = 19;\n",
       "                var nbb_unformatted_code = \"hw_b_principal_places_selected\";\n",
       "                var nbb_formatted_code = \"hw_b_principal_places_selected\";\n",
       "                var nbb_cells = Jupyter.notebook.get_cells();\n",
       "                for (var i = 0; i < nbb_cells.length; ++i) {\n",
       "                    if (nbb_cells[i].input_prompt_number == nbb_cell_id) {\n",
       "                        if (nbb_cells[i].get_text() == nbb_unformatted_code) {\n",
       "                             nbb_cells[i].set_text(nbb_formatted_code);\n",
       "                        }\n",
       "                        break;\n",
       "                    }\n",
       "                }\n",
       "            }, 500);\n",
       "            "
      ],
      "text/plain": [
       "<IPython.core.display.Javascript object>"
      ]
     },
     "metadata": {},
     "output_type": "display_data"
    }
   ],
   "source": [
    "hw_b_principal_places_selected"
   ]
  },
  {
   "cell_type": "code",
   "execution_count": 20,
   "metadata": {},
   "outputs": [
    {
     "data": {
      "text/plain": [
       "85"
      ]
     },
     "execution_count": 20,
     "metadata": {},
     "output_type": "execute_result"
    },
    {
     "name": "stdout",
     "output_type": "stream",
     "text": [
      "time: 1.69 ms (started: 2021-02-02 11:19:28 +08:00)\n"
     ]
    },
    {
     "data": {
      "application/javascript": [
       "\n",
       "            setTimeout(function() {\n",
       "                var nbb_cell_id = 20;\n",
       "                var nbb_unformatted_code = \"hw_a_counties_covered\";\n",
       "                var nbb_formatted_code = \"hw_a_counties_covered\";\n",
       "                var nbb_cells = Jupyter.notebook.get_cells();\n",
       "                for (var i = 0; i < nbb_cells.length; ++i) {\n",
       "                    if (nbb_cells[i].input_prompt_number == nbb_cell_id) {\n",
       "                        if (nbb_cells[i].get_text() == nbb_unformatted_code) {\n",
       "                             nbb_cells[i].set_text(nbb_formatted_code);\n",
       "                        }\n",
       "                        break;\n",
       "                    }\n",
       "                }\n",
       "            }, 500);\n",
       "            "
      ],
      "text/plain": [
       "<IPython.core.display.Javascript object>"
      ]
     },
     "metadata": {},
     "output_type": "display_data"
    }
   ],
   "source": [
    "hw_a_counties_covered"
   ]
  },
  {
   "cell_type": "code",
   "execution_count": 21,
   "metadata": {},
   "outputs": [
    {
     "data": {
      "text/plain": [
       "85"
      ]
     },
     "execution_count": 21,
     "metadata": {},
     "output_type": "execute_result"
    },
    {
     "name": "stdout",
     "output_type": "stream",
     "text": [
      "time: 2.82 ms (started: 2021-02-02 11:19:28 +08:00)\n"
     ]
    },
    {
     "data": {
      "application/javascript": [
       "\n",
       "            setTimeout(function() {\n",
       "                var nbb_cell_id = 21;\n",
       "                var nbb_unformatted_code = \"hw_b_counties_covered\";\n",
       "                var nbb_formatted_code = \"hw_b_counties_covered\";\n",
       "                var nbb_cells = Jupyter.notebook.get_cells();\n",
       "                for (var i = 0; i < nbb_cells.length; ++i) {\n",
       "                    if (nbb_cells[i].input_prompt_number == nbb_cell_id) {\n",
       "                        if (nbb_cells[i].get_text() == nbb_unformatted_code) {\n",
       "                             nbb_cells[i].set_text(nbb_formatted_code);\n",
       "                        }\n",
       "                        break;\n",
       "                    }\n",
       "                }\n",
       "            }, 500);\n",
       "            "
      ],
      "text/plain": [
       "<IPython.core.display.Javascript object>"
      ]
     },
     "metadata": {},
     "output_type": "display_data"
    }
   ],
   "source": [
    "hw_b_counties_covered"
   ]
  },
  {
   "cell_type": "code",
   "execution_count": 22,
   "metadata": {},
   "outputs": [
    {
     "name": "stdout",
     "output_type": "stream",
     "text": [
      "Did (a) and (b) cover the same 85 counties? True\n",
      "time: 587 µs (started: 2021-02-02 11:19:28 +08:00)\n"
     ]
    },
    {
     "data": {
      "application/javascript": [
       "\n",
       "            setTimeout(function() {\n",
       "                var nbb_cell_id = 22;\n",
       "                var nbb_unformatted_code = \"print(\\n    f\\\"Did (a) and (b) cover the same 85 counties? {np.alltrue(hw_a_y_val == hw_b_y_val)}\\\"\\n)\";\n",
       "                var nbb_formatted_code = \"print(\\n    f\\\"Did (a) and (b) cover the same 85 counties? {np.alltrue(hw_a_y_val == hw_b_y_val)}\\\"\\n)\";\n",
       "                var nbb_cells = Jupyter.notebook.get_cells();\n",
       "                for (var i = 0; i < nbb_cells.length; ++i) {\n",
       "                    if (nbb_cells[i].input_prompt_number == nbb_cell_id) {\n",
       "                        if (nbb_cells[i].get_text() == nbb_unformatted_code) {\n",
       "                             nbb_cells[i].set_text(nbb_formatted_code);\n",
       "                        }\n",
       "                        break;\n",
       "                    }\n",
       "                }\n",
       "            }, 500);\n",
       "            "
      ],
      "text/plain": [
       "<IPython.core.display.Javascript object>"
      ]
     },
     "metadata": {},
     "output_type": "display_data"
    }
   ],
   "source": [
    "print(\n",
    "    f\"Did (a) and (b) cover the same 85 counties? {np.alltrue(hw_a_y_val == hw_b_y_val)}\"\n",
    ")"
   ]
  },
  {
   "cell_type": "markdown",
   "metadata": {},
   "source": [
    "Seeing that both (a) and (b) cover the same counties, the population that they cover will be the same. Hence, fortunately for us, using the current population data was sufficient to choose a set of principal places of business that will cover the same counties and subsequently, the same population as if we had used the population data 5 years later. If the population data 5 years later was unavailable to us, we would have needed to model the population 5 years later and create confidence intervals on the population size in each county, and run the optimization with different estimates of the predicted population sizes."
   ]
  }
 ],
 "metadata": {
  "kernelspec": {
   "display_name": "Python 3",
   "language": "python",
   "name": "python3"
  },
  "language_info": {
   "codemirror_mode": {
    "name": "ipython",
    "version": 3
   },
   "file_extension": ".py",
   "mimetype": "text/x-python",
   "name": "python",
   "nbconvert_exporter": "python",
   "pygments_lexer": "ipython3",
   "version": "3.8.5"
  },
  "latex_envs": {
   "LaTeX_envs_menu_present": true,
   "autoclose": false,
   "autocomplete": true,
   "bibliofile": "biblio.bib",
   "cite_by": "apalike",
   "current_citInitial": 1,
   "eqLabelWithNumbers": true,
   "eqNumInitial": 1,
   "hotkeys": {
    "equation": "Ctrl-E",
    "itemize": "Ctrl-I"
   },
   "labels_anchors": false,
   "latex_user_defs": false,
   "report_style_numbering": false,
   "user_envs_cfg": false
  }
 },
 "nbformat": 4,
 "nbformat_minor": 4
}
