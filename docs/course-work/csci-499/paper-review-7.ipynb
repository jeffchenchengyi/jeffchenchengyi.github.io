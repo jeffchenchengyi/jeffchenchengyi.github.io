{
 "cells": [
  {
   "cell_type": "markdown",
   "metadata": {},
   "source": [
    "# Paper Review 7\n",
    "\n",
    "By: Chengyi (Jeff) Chen\n",
    "\n",
    "Article: [Using network centrality measures to manage landscape connectivity](https://esajournals.onlinelibrary.wiley.com/doi/abs/10.1890/07-1419.1)"
   ]
  },
  {
   "cell_type": "markdown",
   "metadata": {},
   "source": [
    "---\n",
    "## What is the main problem/task addressed by the paper?"
   ]
  },
  {
   "cell_type": "markdown",
   "metadata": {},
   "source": [
    "The increase in level of habitat fragmentation due to increasing conversion of land for agricultural production and urban uses, leading to decrease in connectivity of landscape. This is especially bad for species that are inherently spatially structured, so as the connectivity of their habitats decrease, they are forced to become isolated and possibly extinction. So the motivation of this paper stems from trying to better understand the how much connectivity of these areas are sufficient for these species, which will better inform policy makers and urban planners on how to build structures that not only minimize the negative impact on landscape but also design natural reserves. And because it is not possible to preserve all natural habitats due to societal interests, this research paper seeks to find out which of these should we preserve."
   ]
  },
  {
   "cell_type": "markdown",
   "metadata": {},
   "source": [
    "---\n",
    "## What was done before, and how does this paper improve on it?"
   ]
  },
  {
   "cell_type": "markdown",
   "metadata": {},
   "source": [
    "Currently, there  are many metrics that exist to assist in the quantifying landscape pattern, but none can explain the ecological process, which is extremely important to understand in order to choose where we need to preserve. \n",
    "\n",
    "This  paper utilizes the graph theoretical perspective on landscape connectivity, which has been largely promising in capturing the population processes and spatial patterns of habitat patches by depicting them \"as networks where the patches are the nodes and the links are the possible dispersal pathways for dispersing species\". \n",
    "\n",
    "It focuses on examining \"the applicability of a range of such centrality measures in studying individual habitat patch’s contribution to the landscape connectivity\" and specifically examine \"(1) how the selected set of centrality measures behave in relation to these different kinds of  network representations and (2) how the centrality measures differ among each other\" in the Southern Madagascar area to assess an individual \"(1) patch’s contribution to the magnitude of species interpatch movements on a local geographical level and (2) the criticality of an individual patch when it comes to providing large-scale connectivity\"."
   ]
  },
  {
   "cell_type": "markdown",
   "metadata": {},
   "source": [
    "---\n",
    "## What is the one cool technique/idea/finding that was learned from this paper?"
   ]
  },
  {
   "cell_type": "markdown",
   "metadata": {},
   "source": [
    "In both the Weighted directional Madagascar network and the Unweighted (binary) directional Madagascar network, Principal Component Analysis identified that the most significant principal component accounts for the degree and subgraph centrality metrics (\"PC1 can be interpreted as a measure of the total dispersal of organisms through the corresponding patch.\") while the next most significant principal components account for the betweenness centrality (\"PC2 can be understood as a measure of the corresponding contribution of a patch in upholding the large-scale connectivity of the landscape.\") which highlighted the importance of these 3 metrics in helping to represent the most significant nodes in the network in capturing the distinct aspects of the patches' structural positions."
   ]
  },
  {
   "cell_type": "markdown",
   "metadata": {},
   "source": [
    "---\n",
    "## What part of the paper was difficult to understand?"
   ]
  },
  {
   "cell_type": "markdown",
   "metadata": {},
   "source": [
    "I wasn't too sure about how the Spearman correlation coefficient was different from Pearson's R and how we actually interpret it."
   ]
  },
  {
   "cell_type": "markdown",
   "metadata": {},
   "source": [
    "---\n",
    "## Brainstorming ideas: What generalization or extension of the paper could be done? Or what are other applications that can benefit from the described approach? What more could have been done in this application space that could leverage AI? Does this give you an idea about a possible project a student could do?"
   ]
  },
  {
   "cell_type": "markdown",
   "metadata": {},
   "source": [
    "It seems that the centrality metrics and graphical models presented in this paper could possibly be extended to all types of network analysis. The field of neuroscience can really benefit from such analysis by mapping the brain and nerves as a network (dendrites being mapped as edges and axons or the cell body mapped as nodes). This paper [here](https://www.ncbi.nlm.nih.gov/pmc/articles/PMC2922375/) explores this, looking at fMRI scans and representing \"each voxel can be treated as a node in a network with connections between nodes defined by functional activity\"."
   ]
  }
 ],
 "metadata": {
  "kernelspec": {
   "display_name": "Python 3",
   "language": "python",
   "name": "python3"
  },
  "language_info": {
   "codemirror_mode": {
    "name": "ipython",
    "version": 3
   },
   "file_extension": ".py",
   "mimetype": "text/x-python",
   "name": "python",
   "nbconvert_exporter": "python",
   "pygments_lexer": "ipython3",
   "version": "3.8.5"
  },
  "latex_envs": {
   "LaTeX_envs_menu_present": true,
   "autoclose": false,
   "autocomplete": true,
   "bibliofile": "biblio.bib",
   "cite_by": "apalike",
   "current_citInitial": 1,
   "eqLabelWithNumbers": true,
   "eqNumInitial": 1,
   "hotkeys": {
    "equation": "Ctrl-E",
    "itemize": "Ctrl-I"
   },
   "labels_anchors": false,
   "latex_user_defs": false,
   "report_style_numbering": false,
   "user_envs_cfg": false
  }
 },
 "nbformat": 4,
 "nbformat_minor": 2
}
