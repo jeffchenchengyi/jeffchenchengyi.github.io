{
 "cells": [
  {
   "cell_type": "markdown",
   "metadata": {},
   "source": [
    "# Paper Review 6\n",
    "\n",
    "By: Chengyi (Jeff) Chen\n",
    "\n",
    "Article: [A multiscale approach to balance trade-offs among dam infrastructure, river restoration, and cost](https://www.pnas.org/content/pnas/115/47/12069.full.pdf)"
   ]
  },
  {
   "cell_type": "markdown",
   "metadata": {},
   "source": [
    "---\n",
    "## What is the main problem/task addressed by the paper?"
   ]
  },
  {
   "cell_type": "markdown",
   "metadata": {},
   "source": [
    "To analyze dam decisions that optimize for a multitude of different objectives such as the \"*value of the services and aesthetics provided by these dams may oppose their removal, underscoring technological, economic, sociocultural, and environmental trade-offs associated with alternative decisions*\" for the \"*facilitat(ion of) multilateral funding, policy, and stakeholder agreements.*\""
   ]
  },
  {
   "cell_type": "markdown",
   "metadata": {},
   "source": [
    "---\n",
    "## What was done before, and how does this paper improve on it?"
   ]
  },
  {
   "cell_type": "markdown",
   "metadata": {},
   "source": [
    "\"*Many regions of the developing world are dramatically expanding the number of multipurpose dams, often to meet increasing needs for electricity, water supply, and flood control. However, these projects often encounter strong stakeholder resistance based on concerns about the adverse effects of dams on fisheries, ecological connectivity, water quality, and human settlements. In contrast, there is a growing movement in the United States to restore rivers by the removal of dams that no longer fulfill their original purpose, are too costly to maintain, pose safety risks to surrounding communities, or have negative ecological or indigenous impacts.*\"\n",
    "- Seems like there was less 'mediation' amongst multiple stakeholders previously to search for the most optimal solution that accounts for each stakeholder's concerns for removal or protection of the dams. This paper uses concepts like \"*production possibility frontier (PPF) paired with a multiobjective genetic algorithm (MOGA)*\" in order to find the best optimum solution in making these dam decisions. The paper initially started out with analyzing the trade-offs between 2 decision criteria - Hydropower Capacity and Sea-Run Fish Biomass along with 5 different scenarios of optimizing for one more than the other, and subsequently expanded to 10 decision criteria."
   ]
  },
  {
   "cell_type": "markdown",
   "metadata": {},
   "source": [
    "---\n",
    "## What is the one cool technique/idea/finding that was learned from this paper?"
   ]
  },
  {
   "cell_type": "markdown",
   "metadata": {},
   "source": [
    "The main technique used over here would be the MOGA algorithm that generates scenarios in order to calculate the PPFs for each scale - regional, watershed, and subwatershed. I was still unsure about what this point - \"*Scenarios are represented as a binary numeric array with length equal to the number of dams in the study area.*\" - exactly meant. The use of \"*crossover and mutation algorithms*\" seemed really cool as well in generating new scenarios. The scenarios are then evaluated using the Weighted Product Model and the scenario with the highest weighted product is selected. (I'm honestly not too sure how this process works)"
   ]
  },
  {
   "cell_type": "markdown",
   "metadata": {},
   "source": [
    "---\n",
    "## What part of the paper was difficult to understand?"
   ]
  },
  {
   "cell_type": "markdown",
   "metadata": {},
   "source": [
    "Apart from the walkthrough of the comparison of the different scenarios NE1, NE2, ..., the ecological analysis of the PPF was a tad hard to understand, especially this point: \"*In contrast, PPF slopes for Penobscot and Connecticut are steepest near their right terminus, indicating that most local hydropower capacity is located near or above the extent of most sea-run habitat. These examples simply that efficient scenarios located before major steepening in the PPF, such as NE3, involve the removal of downriver mainstream dams that do not provide effective fish passage to upstream habitat and/or do not provide a relatively significant contribution to hydropower capacity.*\"\n",
    "\n",
    "Because of the lack of understanding of the scale of the costs associated with dam decisions, it is also hard to imagine how significant things such as \"*if we apportion restoration evenly across all NE subwatersheds (Fig. 1A) with at least partial sea-run fish access, there would be a loss of 632 megawatts and \\\\$2.48 billion in estimated dam removal costs*\" actually are."
   ]
  },
  {
   "cell_type": "markdown",
   "metadata": {},
   "source": [
    "---\n",
    "## Brainstorming ideas: What generalization or extension of the paper could be done? Or what are other applications that can benefit from the described approach? What more could have been done in this application space that could leverage AI? Does this give you an idea about a possible project a student could do?"
   ]
  },
  {
   "cell_type": "markdown",
   "metadata": {},
   "source": [
    "MOGA seems to have a multitude of applications, especially in problems that have well-defined criterias / objectives that need to be accounted for. In our education deserts project as well, in order to pinpoint the best possible location for new universities, we not only have to consider the economic value (median income increase in the neighbourhood), but also other factors such as its accesibility (if it is feasible to place a university somewhere where public transport is very scarce) and likelihood of stakeholders investing in the university based on its history (census tracts with a history of high crime rates might seem to have a higher marginal benefit from having a new university in the area -> increasing education standards -> increase standard of living, however, most investors in the potential university might be unwilling to invest in such an area because of the history of high crime rates, which will also drive up the actual economic cost and the returns that the investors seek for the project to compensate for its risk)."
   ]
  }
 ],
 "metadata": {
  "kernelspec": {
   "display_name": "Python 3",
   "language": "python",
   "name": "python3"
  },
  "language_info": {
   "codemirror_mode": {
    "name": "ipython",
    "version": 3
   },
   "file_extension": ".py",
   "mimetype": "text/x-python",
   "name": "python",
   "nbconvert_exporter": "python",
   "pygments_lexer": "ipython3",
   "version": "3.8.5"
  },
  "latex_envs": {
   "LaTeX_envs_menu_present": true,
   "autoclose": false,
   "autocomplete": true,
   "bibliofile": "biblio.bib",
   "cite_by": "apalike",
   "current_citInitial": 1,
   "eqLabelWithNumbers": true,
   "eqNumInitial": 1,
   "hotkeys": {
    "equation": "Ctrl-E",
    "itemize": "Ctrl-I"
   },
   "labels_anchors": false,
   "latex_user_defs": false,
   "report_style_numbering": false,
   "user_envs_cfg": false
  }
 },
 "nbformat": 4,
 "nbformat_minor": 2
}
