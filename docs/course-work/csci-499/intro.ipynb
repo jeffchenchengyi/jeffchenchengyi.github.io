{
 "cells": [
  {
   "cell_type": "markdown",
   "id": "expanded-cowboy",
   "metadata": {},
   "source": [
    "# CSCI-499: AI for Social Good"
   ]
  },
  {
   "cell_type": "markdown",
   "id": "similar-allah",
   "metadata": {},
   "source": [
    "I took the class back in Spring 2019. This was the first and only undergraduate class I took that was related to machine learning and artificial intelligence. Instead of being a purely theoretical concept class, it focused on the social good applications of AI such as poaching location detection for wildlife conservation and fair allocation of housing to at-risk youths, to name a few. It was this very class that inspired me to really dig deeper into the machine learning concepts. I realized from this class that learning is much easier and fun when you actually know **why** you're learning the concepts and **what** problems you're actually solving in the first place. Since I did not have any experience in machine learning, I went to every single one of teaching assistant Aaron Ferber's office hours to clarify concepts that were used in class. Man, he was quite amazing, even helping me in my own side projects as well as giving me some guidance on how to break into the machine learning industry. Professor Bistra Dilkina and Caleb Robinson were also extremely helpful - Professor Bistra Dilkina was actually one of the professors provided the one of 2 necessary recommendation letters for me to complete my accelerated Master's in Analytics."
   ]
  }
 ],
 "metadata": {
  "kernelspec": {
   "display_name": "Python 3",
   "language": "python",
   "name": "python3"
  },
  "language_info": {
   "codemirror_mode": {
    "name": "ipython",
    "version": 3
   },
   "file_extension": ".py",
   "mimetype": "text/x-python",
   "name": "python",
   "nbconvert_exporter": "python",
   "pygments_lexer": "ipython3",
   "version": "3.8.5"
  },
  "latex_envs": {
   "LaTeX_envs_menu_present": true,
   "autoclose": false,
   "autocomplete": true,
   "bibliofile": "biblio.bib",
   "cite_by": "apalike",
   "current_citInitial": 1,
   "eqLabelWithNumbers": true,
   "eqNumInitial": 1,
   "hotkeys": {
    "equation": "Ctrl-E",
    "itemize": "Ctrl-I"
   },
   "labels_anchors": false,
   "latex_user_defs": false,
   "report_style_numbering": false,
   "user_envs_cfg": false
  }
 },
 "nbformat": 4,
 "nbformat_minor": 5
}
