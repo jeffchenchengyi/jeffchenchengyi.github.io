{
 "cells": [
  {
   "cell_type": "markdown",
   "metadata": {},
   "source": [
    "# Final \n",
    "\n",
    "ISE 530 Optimization Methods for Analytics Final\n",
    "\n",
    "By: Chengyi (Jeff) Chen"
   ]
  },
  {
   "cell_type": "code",
   "execution_count": 1,
   "metadata": {},
   "outputs": [
    {
     "data": {
      "application/javascript": [
       "\n",
       "            setTimeout(function() {\n",
       "                var nbb_cell_id = 1;\n",
       "                var nbb_unformatted_code = \"%load_ext autotime\\n%load_ext nb_black\\n%matplotlib inline\\n\\nimport matplotlib.pyplot as plt\\nfrom mpl_toolkits.mplot3d import Axes3D\\n\\n# plt.rcParams[\\\"figure.dpi\\\"] = 300\\n# plt.rcParams[\\\"figure.figsize\\\"] = (16, 12)\\n\\nimport operator\\nimport pandas as pd\\nimport numpy as np\\nimport cvxpy as cp\\nimport scipy as sp\\nfrom scipy import optimize\\nimport functools\\nfrom graphviz import Digraph\\nimport dot2tex\\nfrom IPython.display import Latex\\nfrom sympy import *\\nimport re\";\n",
       "                var nbb_formatted_code = \"%load_ext autotime\\n%load_ext nb_black\\n%matplotlib inline\\n\\nimport matplotlib.pyplot as plt\\nfrom mpl_toolkits.mplot3d import Axes3D\\n\\n# plt.rcParams[\\\"figure.dpi\\\"] = 300\\n# plt.rcParams[\\\"figure.figsize\\\"] = (16, 12)\\n\\nimport operator\\nimport pandas as pd\\nimport numpy as np\\nimport cvxpy as cp\\nimport scipy as sp\\nfrom scipy import optimize\\nimport functools\\nfrom graphviz import Digraph\\nimport dot2tex\\nfrom IPython.display import Latex\\nfrom sympy import *\\nimport re\";\n",
       "                var nbb_cells = Jupyter.notebook.get_cells();\n",
       "                for (var i = 0; i < nbb_cells.length; ++i) {\n",
       "                    if (nbb_cells[i].input_prompt_number == nbb_cell_id) {\n",
       "                        if (nbb_cells[i].get_text() == nbb_unformatted_code) {\n",
       "                             nbb_cells[i].set_text(nbb_formatted_code);\n",
       "                        }\n",
       "                        break;\n",
       "                    }\n",
       "                }\n",
       "            }, 500);\n",
       "            "
      ],
      "text/plain": [
       "<IPython.core.display.Javascript object>"
      ]
     },
     "metadata": {},
     "output_type": "display_data"
    }
   ],
   "source": [
    "%load_ext autotime\n",
    "%load_ext nb_black\n",
    "%matplotlib inline\n",
    "\n",
    "import matplotlib.pyplot as plt\n",
    "from mpl_toolkits.mplot3d import Axes3D\n",
    "\n",
    "# plt.rcParams[\"figure.dpi\"] = 300\n",
    "# plt.rcParams[\"figure.figsize\"] = (16, 12)\n",
    "\n",
    "import operator\n",
    "import pandas as pd\n",
    "import numpy as np\n",
    "import cvxpy as cp\n",
    "import scipy as sp\n",
    "from scipy import optimize\n",
    "import functools\n",
    "from graphviz import Digraph\n",
    "import dot2tex\n",
    "from IPython.display import Latex\n",
    "from sympy import *\n",
    "import re"
   ]
  },
  {
   "cell_type": "markdown",
   "metadata": {},
   "source": [
    "---\n",
    "## Question 1. \n",
    "\n",
    "Answer each question below with either a T(rue) or F(alse). For each statement, a correct answer gets 1 point, a wrong answer gets 0 point; there is no partial credit. (10 points)"
   ]
  },
  {
   "cell_type": "markdown",
   "metadata": {},
   "source": [
    "(a) A basic solution of the constraints $[ Ax = b, x \\geq 0 ]$ must be feasible. [True]"
   ]
  },
  {
   "cell_type": "markdown",
   "metadata": {},
   "source": [
    "(b) The univariate function $e^{t^2}$ convex. [True]\n",
    "\n",
    "\\begin{align}\n",
    "    \\nabla_t e^{t^2} &= 2t e^{t^2} \\\\\n",
    "    \\nabla^2_t e^{t^2} &= 2 + 4t^2 e^{t^2} \\\\\n",
    "\\end{align}\n",
    "\n",
    "Exponential of something that is always positive is convex."
   ]
  },
  {
   "cell_type": "markdown",
   "metadata": {},
   "source": [
    "(c) The univariate function $\\log(1 + e^t)$ is concave. [True]\n",
    "\n",
    "Log is a concave function."
   ]
  },
  {
   "cell_type": "markdown",
   "metadata": {},
   "source": [
    "(d) It is possible for a convex function to have a (unconstrained) strict local maximizer. [False]"
   ]
  },
  {
   "cell_type": "markdown",
   "metadata": {},
   "source": [
    "(e) The matrix $\\begin{bmatrix} 2 & -2 \\\\ -2 & 1 \\end{bmatrix}$ is positive semidefinite. [False]\n",
    "\n",
    "Indefinite matrix $\\because$ one eigenvalue positive, one negative."
   ]
  },
  {
   "cell_type": "code",
   "execution_count": 2,
   "metadata": {},
   "outputs": [
    {
     "data": {
      "text/plain": [
       "array([ 3.56155281, -0.56155281])"
      ]
     },
     "execution_count": 2,
     "metadata": {},
     "output_type": "execute_result"
    },
    {
     "name": "stdout",
     "output_type": "stream",
     "text": [
      "time: 3.04 ms\n"
     ]
    },
    {
     "data": {
      "application/javascript": [
       "\n",
       "            setTimeout(function() {\n",
       "                var nbb_cell_id = 2;\n",
       "                var nbb_unformatted_code = \"np.linalg.eigvals(np.array([[2, -2], [-2, 1]]))\";\n",
       "                var nbb_formatted_code = \"np.linalg.eigvals(np.array([[2, -2], [-2, 1]]))\";\n",
       "                var nbb_cells = Jupyter.notebook.get_cells();\n",
       "                for (var i = 0; i < nbb_cells.length; ++i) {\n",
       "                    if (nbb_cells[i].input_prompt_number == nbb_cell_id) {\n",
       "                        if (nbb_cells[i].get_text() == nbb_unformatted_code) {\n",
       "                             nbb_cells[i].set_text(nbb_formatted_code);\n",
       "                        }\n",
       "                        break;\n",
       "                    }\n",
       "                }\n",
       "            }, 500);\n",
       "            "
      ],
      "text/plain": [
       "<IPython.core.display.Javascript object>"
      ]
     },
     "metadata": {},
     "output_type": "display_data"
    }
   ],
   "source": [
    "np.linalg.eigvals(np.array([[2, -2], [-2, 1]]))"
   ]
  },
  {
   "cell_type": "markdown",
   "metadata": {},
   "source": [
    "(f) The difference of two convex functions is convex. [False]\n",
    "\n",
    "Negative of convex function is concave. Sum is a convex operation. Hence it is a convex sum between a convex and concave function, we can't conclude that the resulting function is convex."
   ]
  },
  {
   "cell_type": "markdown",
   "metadata": {},
   "source": [
    "(g) The bivariate function $f(t_1, t_2) = \\frac{1}{2}t^2_1 - t_1t_2 + t^2_2$ has a unique global minimizer. [True]\n",
    "\n",
    "\\begin{align}\n",
    "    \\nabla_t f(t_1, t_2) &= \\begin{bmatrix} t_1 - t_2 \\\\ -t_1 + 2t_2 \\end{bmatrix} \\\\\n",
    "    \\nabla^2_t f(t_1, t_2) &= \\begin{bmatrix} 1 & -1 \\\\ -1 & 2 \\\\ \\end{bmatrix} \\\\\n",
    "\\end{align}\n",
    "\n",
    "Eigenvalues of Hessian are positive, meaning Hessian is positive definite and $\\therefore$ function is strictly convex and has a unique global minimizer."
   ]
  },
  {
   "cell_type": "code",
   "execution_count": 3,
   "metadata": {},
   "outputs": [
    {
     "data": {
      "text/plain": [
       "array([0.38196601, 2.61803399])"
      ]
     },
     "execution_count": 3,
     "metadata": {},
     "output_type": "execute_result"
    },
    {
     "name": "stdout",
     "output_type": "stream",
     "text": [
      "time: 1.88 ms\n"
     ]
    },
    {
     "data": {
      "application/javascript": [
       "\n",
       "            setTimeout(function() {\n",
       "                var nbb_cell_id = 3;\n",
       "                var nbb_unformatted_code = \"np.linalg.eigvals(np.array([[1, -1], [-1, 2]]))\";\n",
       "                var nbb_formatted_code = \"np.linalg.eigvals(np.array([[1, -1], [-1, 2]]))\";\n",
       "                var nbb_cells = Jupyter.notebook.get_cells();\n",
       "                for (var i = 0; i < nbb_cells.length; ++i) {\n",
       "                    if (nbb_cells[i].input_prompt_number == nbb_cell_id) {\n",
       "                        if (nbb_cells[i].get_text() == nbb_unformatted_code) {\n",
       "                             nbb_cells[i].set_text(nbb_formatted_code);\n",
       "                        }\n",
       "                        break;\n",
       "                    }\n",
       "                }\n",
       "            }, 500);\n",
       "            "
      ],
      "text/plain": [
       "<IPython.core.display.Javascript object>"
      ]
     },
     "metadata": {},
     "output_type": "display_data"
    }
   ],
   "source": [
    "np.linalg.eigvals(np.array([[1, -1], [-1, 2]]))"
   ]
  },
  {
   "cell_type": "markdown",
   "metadata": {},
   "source": [
    "(h) At the point $(1, 1)$, the active constraints among $x^2_1 + 2 x_2 \\leq 3, x_2 \\geq 1$, and $x_1 + x_2 = 2$ have linearly independent gradients. [False]\n",
    "\n",
    "\\begin{align}\n",
    "    \\nabla_x (x^2_1 + 2 x_2 \\leq 3) &= \\begin{bmatrix} 2x_1 \\\\ 2 \\end{bmatrix} \\\\\n",
    "    \\nabla_x (x_2 \\geq 1) &= \\begin{bmatrix} 0 \\\\ -1 \\end{bmatrix} \\\\\n",
    "    \\nabla_x (x_1 + x_2 = 2) &= \\begin{bmatrix} 1 \\\\ 1 \\end{bmatrix} \\\\\n",
    "\\end{align}\n",
    "\n",
    "At $(1, 1)$, 1st and 3rd constraints are clearly a multiple of each other hence linearly dependent."
   ]
  },
  {
   "cell_type": "markdown",
   "metadata": {},
   "source": [
    "(i) For a linear program, the Karush-Kuhn-Tucker conditions are necessary and sufficient for global optimality. [True]"
   ]
  },
  {
   "cell_type": "markdown",
   "metadata": {},
   "source": [
    "(j) The two constraints $x^2_1 + 2x_2 \\leq 2$ and $x_2 \\geq 1$ have a Slater point; i.e, a pair $(\\bar{x_1}, \\bar{x_2})$ satisfying both constraints strictly. [False]\n",
    "\n",
    "Lowest $x^2_1$ can be is 0 as it is always non-negative. Any value above 1 for $x_2$ will make the first constraint infeasible, so no slater point exists."
   ]
  },
  {
   "cell_type": "markdown",
   "metadata": {},
   "source": [
    "---\n",
    "## Question 2. \n",
    "\n",
    "Find the global minimizer of the problem: (10 points)\n",
    "\n",
    "\\begin{align}\n",
    "    \\underset{x, y}{\\text{minimize}}\\qquad& x^2 + 2xy + y^2 - \\log(2+x^2+y^2) \\\\\n",
    "    \\text{subject to}\\qquad&x,y \\leq - 1 \\text{ and } x+y = -4  \\\\\n",
    "\\end{align}\n",
    "\n",
    "Verify that the solution you obtain satisfies the Karush-Kuhn-Tucker conditions by identifying the constraint multipliers. [Hint: there is an easy way to obtain the minimizer that requires no\n",
    "calculation."
   ]
  },
  {
   "cell_type": "markdown",
   "metadata": {},
   "source": [
    "\\begin{align}\n",
    "    \\underset{x, y}{\\text{minimize}}\\qquad& {(x + y)}^2 - \\log(2+{(x + y)}^2 - 2xy) \\\\\n",
    "    \\text{subject to}\\qquad&x,y \\leq - 1 \\text{ and } x+y = -4  \\\\\n",
    "\\end{align}"
   ]
  },
  {
   "cell_type": "markdown",
   "metadata": {},
   "source": [
    "Substituting the $x+y = -4$ constraint:\n",
    "\n",
    "\\begin{align}\n",
    "    \\underset{x, y}{\\text{minimize}}\\qquad& 16 - \\log(18 - 2xy) \\\\\n",
    "    \\text{subject to}\\qquad&x,y \\leq - 1 \\text{ and } x+y = -4  \\\\\n",
    "\\end{align}"
   ]
  },
  {
   "cell_type": "markdown",
   "metadata": {},
   "source": [
    "The $x, y$ values that make the objective the smallest while satisfying the constraints will be $x, y = -1, -3$."
   ]
  },
  {
   "cell_type": "markdown",
   "metadata": {},
   "source": [
    "KKT Conditions @ optimal $(x^*, y^*, \\mu^*_1, \\mu^*_2, \\mu^*_3)$:\n",
    "\n",
    "1. Primal Feasibility\n",
    "\n",
    "\\begin{align}\n",
    "    x^* + 1 &\\leq 0 \\\\\n",
    "    y^* + 1 &\\leq 0 \\\\\n",
    "    x^* + y^* + 4 &= 0 \\\\\n",
    "\\end{align}\n",
    "\n",
    "2. Dual Feasibility\n",
    "\n",
    "\\begin{align}\n",
    "    \\mu^*_1 &\\geq 0 \\\\\n",
    "    \\mu^*_2 &\\geq 0 \\\\\n",
    "    \\mu^*_3 &\\text{ free}  \\\\\n",
    "\\end{align}\n",
    "\n",
    "3. Complementary Slackness\n",
    "\n",
    "\\begin{align}\n",
    "    \\mu^*_1(x^* + 1) &= 0 \\\\\n",
    "    \\mu^*_2(y^* + 1) &= 0 \\\\\n",
    "    \\mu^*_3(x^* + y^* + 4) &= 0 \\\\\n",
    "\\end{align}\n",
    "\n",
    "4. Stationarity\n",
    "\n",
    "\\begin{align}\n",
    "    \\nabla_x \\mathcal{L}(x^*, y^*, \\mu^*_1, \\mu^*_2, \\mu^*_3) &= 0 \\\\\n",
    "    \\nabla_x \\Big[ {x^*}^2 + 2x^*y^* + {y^*}^2 - \\log(2+{x^*}^2+{y^*}^2) + \\mu^*_1(x^* + 1) + \\mu^*_2(y^* + 1) + \\mu^*_3(x^* + y^* + 4) \\Big] &= 0 \\\\\n",
    "    \\begin{bmatrix}\n",
    "        2x^* + 2y^* - \\frac{2x^*}{2+{x^*}^2+{y^*}^2} + \\mu^*_1 + \\mu^*_3 \\\\\n",
    "        2x^* + 2y^* - \\frac{2y^*}{2+{x^*}^2+{y^*}^2} + \\mu^*_2 + \\mu^*_3 \\\\\n",
    "    \\end{bmatrix}\n",
    "    &= 0 \\\\\n",
    "\\end{align}"
   ]
  },
  {
   "cell_type": "markdown",
   "metadata": {},
   "source": [
    "Since we know $x^* = -1, y^* = -3$:\n",
    "\n",
    "\\begin{align}\n",
    "    \\begin{bmatrix}\n",
    "        -2 - 6 + \\frac{1}{6} + \\mu^*_1 + \\mu^*_3 \\\\\n",
    "        -2 - 6 + \\frac{1}{2} + \\mu^*_2 + \\mu^*_3 \\\\\n",
    "    \\end{bmatrix}\n",
    "    &= 0 \\\\\n",
    "    \\mu^*_1 &= \\frac{1}{3} + \\mu^*_2 \\\\\n",
    "\\end{align}"
   ]
  },
  {
   "cell_type": "markdown",
   "metadata": {},
   "source": [
    "$\\mu^*_2 = 0$ from 2nd C.S. condition, $\\mu^*_1 = \\frac{1}{3}$, and $\\mu^*_3 = -7.5$. Hence, KKT conditions satisfied."
   ]
  },
  {
   "cell_type": "markdown",
   "metadata": {},
   "source": [
    "---\n",
    "## Question 3. \n",
    "\n",
    "The knapsack problem: (10 points)\n",
    "\n",
    "\\begin{align}\n",
    "    \\underset{x}{\\text{maximize}}\\qquad& 8x_1 + 11x_2 + 6x_3 + 4x_4 \\\\\n",
    "    \\text{subject to}\\qquad& 6.7x_1 + 10x_2 + 5.5x_3 + 3.4x_4 \\leq 19 \\\\\n",
    "    \\text{and }\\qquad &x_j = 0\\text{ or }1\\text{, for all }j = 1\\text{  through }4. \\\\\n",
    "\\end{align}\n",
    "\n",
    "has an equivalent nonlinear programming formulation:\n",
    "\n",
    "\\begin{align}\n",
    "    \\underset{x}{\\text{maximize}}\\qquad& 8x_1 + 11x_2 + 6x_3 + 4x_4 \\\\\n",
    "    \\text{subject to}\\qquad& 6.7x_1 + 10x_2 + 5.5x_3 + 3.4x_4 \\leq 19 \\\\\n",
    "    \\text{and}\\qquad& x_j(1-x_j)=0, 0\\leq x_j \\leq 1\\text{ for all }j = 1,\\text{  through }4. \\\\\n",
    "\\end{align}"
   ]
  },
  {
   "cell_type": "markdown",
   "metadata": {},
   "source": [
    "(a) Write down the Karush-Kuhn-Tucker (KKT) conditions of the latter problem."
   ]
  },
  {
   "cell_type": "markdown",
   "metadata": {},
   "source": [
    "KKT Conditions @ optimal $(x^*_1, x^*_2, x^*_3, x^*_4, \\mu^*_1, \\mu^*_2, \\mu^*_3, \\mu^*_4, \\mu^*_5, \\mu^*_6, \\mu^*_7, \\mu^*_8, \\mu^*_9, \\mu^*_{10}, \\mu^*_{11}, \\mu^*_{12}, \\mu^*_{13})$:\n",
    "\n",
    "1. Primal Feasibility\n",
    "\n",
    "\\begin{align}\n",
    "    6.7x^*_1 + 10x^*_2 + 5.5x^*_3 + 3.4x^*_4 - 19 &\\leq 0 \\\\\n",
    "    x^*_1(1 - x^*_1) &= 0 \\\\\n",
    "    x^*_2(1 - x^*_2) &= 0 \\\\\n",
    "    x^*_3(1 - x^*_3) &= 0 \\\\\n",
    "    x^*_4(1 - x^*_4) &= 0 \\\\\n",
    "    -x^*_1 &\\leq 0 \\\\\n",
    "    -x^*_2 &\\leq 0 \\\\\n",
    "    -x^*_3 &\\leq 0 \\\\\n",
    "    -x^*_4 &\\leq 0 \\\\\n",
    "    x^*_1 - 1 &\\leq 0 \\\\\n",
    "    x^*_2 - 1 &\\leq 0 \\\\\n",
    "    x^*_3 - 1 &\\leq 0 \\\\\n",
    "    x^*_4 - 1 &\\leq 0 \\\\\n",
    "\\end{align}\n",
    "\n",
    "2. Dual Feasibility\n",
    "\n",
    "\\begin{align}\n",
    "    \\mu^*_1 &\\geq 0 \\\\\n",
    "    \\mu^*_2 &\\text{ free}  \\\\\n",
    "    \\mu^*_3 &\\text{ free}  \\\\\n",
    "    \\mu^*_4 &\\text{ free}  \\\\\n",
    "    \\mu^*_5 &\\text{ free}  \\\\\n",
    "    \\mu^*_6 &\\geq 0 \\\\\n",
    "    \\mu^*_7 &\\geq 0 \\\\\n",
    "    \\mu^*_8 &\\geq 0 \\\\\n",
    "    \\mu^*_9 &\\geq 0 \\\\\n",
    "    \\mu^*_{10} &\\geq 0 \\\\\n",
    "    \\mu^*_{11} &\\geq 0 \\\\\n",
    "    \\mu^*_{12} &\\geq 0 \\\\\n",
    "    \\mu^*_{13} &\\geq 0 \\\\\n",
    "\\end{align}\n",
    "\n",
    "3. Complementary Slackness\n",
    "\n",
    "\\begin{align}\n",
    "    \\mu^*_1(6.7x^*_1 + 10x^*_2 + 5.5x^*_3 + 3.4x^*_4 - 19) &= 0 \\\\\n",
    "    \\mu^*_2(x^*_1(1 - x^*_1) &= 0 \\\\\n",
    "    \\mu^*_3(x^*_2(1 - x^*_2) &= 0 \\\\\n",
    "    \\mu^*_4(x^*_3(1 - x^*_3) &= 0 \\\\\n",
    "    \\mu^*_5(x^*_4(1 - x^*_4) &= 0 \\\\\n",
    "    \\mu^*_6(-x^*_1) &= 0 \\\\\n",
    "    \\mu^*_7(-x^*_2) &= 0 \\\\\n",
    "    \\mu^*_8(-x^*_3) &= 0 \\\\\n",
    "    \\mu^*_9(-x^*_4) &= 0 \\\\\n",
    "    \\mu^*_{10}(x^*_1 - 1) &= 0 \\\\\n",
    "    \\mu^*_{11}(x^*_2 - 1) &= 0 \\\\\n",
    "    \\mu^*_{12}(x^*_3 - 1) &= 0 \\\\\n",
    "    \\mu^*_{13}(x^*_4 - 1) &= 0 \\\\\n",
    "\\end{align}\n",
    "\n",
    "4. Stationarity\n",
    "\n",
    "\\begin{align}\n",
    "    \\nabla_x \\mathcal{L}(x^*_1, x^*_2, x^*_3, x^*_4, \\mu^*_1, \\mu^*_2, \\mu^*_3, \\mu^*_4, \\mu^*_5, \\mu^*_6, \\mu^*_7, \\mu^*_8, \\mu^*_9, \\mu^*_{10}, \\mu^*_{11}, \\mu^*_{12}, \\mu^*_{13}) &= 0 \\\\\n",
    "    \\nabla_x \\Big[ -8x^*_1 - 11x^*_2 - 6x^*_3 - 4x^*_4 + \\mu^*_1(6.7x^*_1 + 10x^*_2 + 5.5x^*_3 + 3.4x^*_4 - 19) + \\mu^*_2(x^*_1(1 - x^*_1) + \\cdots + \\mu^*_{13}(x^*_4 - 1) \\Big] &= 0 \\\\\n",
    "    \\begin{bmatrix}\n",
    "        -8 + 6.7\\mu^*_1 + \\mu^*_2 - 2\\mu^*_2 x^*_1 - \\mu^*_6 + \\mu^*_{10} \\\\\n",
    "        -11 + 10\\mu^*_1 + \\mu^*_3 - 2\\mu^*_3 x^*_2 - \\mu^*_7 + \\mu^*_{11} \\\\\n",
    "        -6 + 5.5\\mu^*_1 + \\mu^*_4 - 2\\mu^*_4 x^*_3 - \\mu^*_8 + \\mu^*_{12} \\\\\n",
    "        -4 + 3.4\\mu^*_1 + \\mu^*_5 - 2\\mu^*_5 x^*_4 - \\mu^*_9 + \\mu^*_{13} \\\\\n",
    "    \\end{bmatrix}\n",
    "    &= 0 \\\\\n",
    "\\end{align}"
   ]
  },
  {
   "cell_type": "markdown",
   "metadata": {},
   "source": [
    "(b) Can the KKT conditions be satisfied by the optimal binary solution $x_1 = 0, x_2 = x_3 = x_4 = 1$? If yes, identify the constraint multipliers; otherwise, give a reason why not."
   ]
  },
  {
   "cell_type": "markdown",
   "metadata": {},
   "source": [
    "At $(x^*_1,x^*_2,x^*_3,x^*_4) = (0,1,1,1)$:\n",
    "\n",
    "3. Complementary Slackness\n",
    "\n",
    "\\begin{align}\n",
    "    \\mu^*_1(10 + 5.5 + 3.4 - 19) = -0.1\\mu^*_1 &= 0 \\\\\n",
    "    \\mu^*_2(0) &= 0 \\\\\n",
    "    \\mu^*_3(0) &= 0 \\\\\n",
    "    \\mu^*_4(0) &= 0 \\\\\n",
    "    \\mu^*_5(0) &= 0 \\\\\n",
    "    \\mu^*_6(0) &= 0 \\\\\n",
    "    \\mu^*_7(-1) &= 0 \\\\\n",
    "    \\mu^*_8(-1) &= 0 \\\\\n",
    "    \\mu^*_9(-1) &= 0 \\\\\n",
    "    \\mu^*_{10}(-1) &= 0 \\\\\n",
    "    \\mu^*_{11}(0) &= 0 \\\\\n",
    "    \\mu^*_{12}(0) &= 0 \\\\\n",
    "    \\mu^*_{13}(0) &= 0 \\\\\n",
    "\\end{align}\n",
    "\n",
    "Hence, $\\mu^*_1 = \\mu^*_7 = \\mu^*_8 = \\mu^*_9 = \\mu^*_{10} = 0$."
   ]
  },
  {
   "cell_type": "markdown",
   "metadata": {},
   "source": [
    "4. Stationarity\n",
    "\n",
    "\\begin{align}\n",
    "    \\begin{bmatrix}\n",
    "        -8 + \\mu^*_2 - \\mu^*_6 \\\\\n",
    "        -11 + \\mu^*_3 - 2\\mu^*_3 + \\mu^*_{11} \\\\\n",
    "        -6 + \\mu^*_4 - 2\\mu^*_4 + \\mu^*_{12} \\\\\n",
    "        -4 + \\mu^*_5 - 2\\mu^*_5 + \\mu^*_{13} \\\\\n",
    "    \\end{bmatrix}\n",
    "    &= 0 \\\\\n",
    "    \\mu^*_2 &= 8 + \\mu^*_6 \\\\\n",
    "    \\mu^*_3 &= -11 + \\mu^*_{11} \\\\\n",
    "    \\mu^*_4 &= -6 + \\mu^*_{12} \\\\\n",
    "    \\mu^*_5 &= -4 + \\mu^*_{13} \\\\\n",
    "\\end{align}"
   ]
  },
  {
   "cell_type": "markdown",
   "metadata": {},
   "source": [
    "Since $\\mu^*_2, \\mu^*_3, \\mu^*_4, \\mu^*_5$ are free, we can set $\\mu^*_6, \\mu^*_{11}, \\mu^*_{12}, \\mu^*_{13} = 0$, leaving $\\mu^*_2 = 8, \\mu^*_3 = -11, \\mu^*_4 = -6, \\mu^*_5 = -4$, and $\\mu^*_1 = \\mu^*_7 = \\mu^*_8 = \\mu^*_9 = \\mu^*_{10} = 0$. Hence, all KKT multipliers have been identified and KKT is satisfied."
   ]
  },
  {
   "cell_type": "markdown",
   "metadata": {},
   "source": [
    "---\n",
    "## Question 4. \n",
    "\n",
    "Solve the knapsack problem in Question 3 by the branch-and-bound method. (10 points)\n",
    "\n",
    "\\begin{align}\n",
    "    \\underset{x}{\\text{maximize}}\\qquad& 8x_1 + 11x_2 + 6x_3 + 4x_4 \\\\\n",
    "    \\text{subject to}\\qquad& 6.7x_1 + 10x_2 + 5.5x_3 + 3.4x_4 \\leq 19 \\\\\n",
    "    \\text{and }\\qquad &0 \\leq x_j \\leq 1 \\text{ and integer for all }j = 1\\text{  through }4. \\\\\n",
    "\\end{align}"
   ]
  },
  {
   "cell_type": "code",
   "execution_count": 4,
   "metadata": {},
   "outputs": [
    {
     "name": "stdout",
     "output_type": "stream",
     "text": [
      "time: 7.1 ms\n"
     ]
    },
    {
     "data": {
      "application/javascript": [
       "\n",
       "            setTimeout(function() {\n",
       "                var nbb_cell_id = 4;\n",
       "                var nbb_unformatted_code = \"# Converts the optimization problem parameters into the mathematical representation\\ndef solve_lp(x, constraints, obj_coeff, problem_type):\\n    \\\"\\\"\\\"Solves the standard LP maximization problem and creates the \\n    mathematical formulation of optimization label for graphviz\\n    \\\"\\\"\\\"\\n    obj = cp.Maximize(obj_coeff @ x)\\n    prob = cp.Problem(obj, constraints)\\n    prob.solve()\\n\\n    label = (\\n        f\\\"{problem_type} {' + '.join([str(coeff) + 'x' + str(i+1) for coeff, i in zip(obj_coeff, range(x.shape[0]))])} \\\"\\n        + \\\"\\\\nsubject to: \\\\n\\\"\\n        + \\\"{}\\\".format(\\n            \\\"\\\\n\\\".join(\\n                [\\n                    re.sub(\\n                        r\\\"x\\\\[([0-9]*)\\\\]\\\",\\n                        \\\"x\\\"\\n                        + str(\\n                            int(\\n                                re.search(\\n                                    r\\\"\\\\[[0-9]*\\\\]\\\",\\n                                    re.sub(r\\\"var[0-9]*\\\", \\\"x\\\", str(constraint)),\\n                                )\\n                                .group()\\n                                .replace(\\\"]\\\", \\\"\\\")\\n                                .replace(\\\"[\\\", \\\"\\\")\\n                            )\\n                            + 1\\n                        ),\\n                        re.sub(r\\\"var[0-9]*\\\", \\\"x\\\", str(constraint)),\\n                    )\\n                    if re.search(\\n                        r\\\"x\\\\[([0-9]*)\\\\]\\\", re.sub(r\\\"var[0-9]*\\\", \\\"x\\\", str(constraint))\\n                    )\\n                    is not None\\n                    else re.sub(r\\\"var[0-9]*\\\", \\\"x\\\", str(constraint))\\n                    for constraint in constraints\\n                ]\\n            )\\n        )\\n        + (\\n            \\\"\\\\n\\\\nObjective Value: \\\"\\n            + (\\n                str(np.round(prob.value, 2))\\n                if prob.status == \\\"optimal\\\"\\n                else str(prob.value)\\n            )\\n            + \\\"\\\\nSolution: \\\"\\n            + (\\n                str([np.round(x_i, 2) for x_i in x.value])\\n                if prob.status == \\\"optimal\\\"\\n                else prob.status\\n            )\\n        )\\n    )\\n    return label, prob\\n\\n\\n# Checks if the number is an integer within specified decimal rounding\\nis_integer = lambda x, decimals=3: np.round(x, decimals).is_integer()\\n\\n# Checks if all elements in array are integers\\nis_integer_solution = lambda x: np.alltrue([is_integer(x_i) for x_i in x])\\n\\n\\ndef branch_and_bound_dfs(root, x, constraints, obj_coeff, problem_type):\\n    \\\"\\\"\\\"Iterative DFS traversal of branch and bound tree\\\"\\\"\\\"\\n\\n    node_id = \\\"root\\\"  # ID to map the node of branch and bound tree to the constraints\\n    stack = (\\n        []\\n    )  # To simulate depth first traversal by appending onto stack the node's children\\n    node_constraints = (\\n        {}\\n    )  # A map of the node_id to constraints associated with the node\\n    visited = []  # A list to keep the nodes already visited\\n\\n    stack.append((node_id, None))\\n    node_constraints[node_id] = constraints\\n\\n    lb, ub = None, None  # Lower bound and upper bound of ILP\\n\\n    while len(stack) > 0:\\n\\n        # Visit node\\n        node_id, parent_node_id = stack.pop()\\n        visited.append(node_id)\\n\\n        # Process Root\\n        label, prob = solve_lp(x, node_constraints[node_id], obj_coeff, problem_type)\\n        root.node(name=str(node_id), label=label)\\n\\n        # Add Edge\\n        if node_id != \\\"root\\\":\\n            root.edge(\\n                tail_name=str(parent_node_id),\\n                head_name=str(node_id),\\n                label=re.sub(\\n                    r\\\"x\\\\[([0-9]*)\\\\]\\\",\\n                    \\\"x\\\"\\n                    + str(\\n                        int(\\n                            re.search(\\n                                r\\\"\\\\[[0-9]*\\\\]\\\",\\n                                re.sub(\\n                                    r\\\"var[0-9]*\\\",\\n                                    \\\"x\\\",\\n                                    str(node_constraints[node_id][-1]),\\n                                ),\\n                            )\\n                            .group()\\n                            .replace(\\\"]\\\", \\\"\\\")\\n                            .replace(\\\"[\\\", \\\"\\\")\\n                        )\\n                        + 1\\n                    ),\\n                    re.sub(r\\\"var[0-9]*\\\", \\\"x\\\", str(node_constraints[node_id][-1])),\\n                ),\\n                len=\\\"5\\\",\\n            )\\n\\n        if prob.status == \\\"optimal\\\":\\n\\n            # If current solution is integer\\n            is_integer_current_solution = is_integer_solution(\\n                np.array(list(prob.solution.primal_vars.values())).flatten()\\n            )\\n\\n            # Break Conditions\\n            if is_integer_current_solution and (\\n                (ub is None) or (prob.value == np.floor(ub.value))\\n            ):  # Optimal Integer solution found\\n                return root, prob\\n\\n            # Set lower bound of the ilp\\n            if is_integer_current_solution and (\\n                (lb is None) or (prob.value > lb.value)\\n            ):\\n                lb = prob\\n\\n            # Set upper bound of the ilp\\n            if (ub is None) or (prob.value > ub.value):\\n                ub = prob\\n\\n            if (\\n                prob.value > lb.value if lb is not None else True\\n            ) and not is_integer_current_solution:\\n\\n                # Find non-integer value of solution\\n                largest_nonint_idx, largest_nonint_val = sorted(\\n                    [\\n                        (idx, x_i)\\n                        for idx, x_i in enumerate(prob.variables()[0].value)\\n                        if not is_integer(x_i)\\n                    ],\\n                    key=lambda x: x[1],\\n                    reverse=True,\\n                )[0]\\n\\n                # Add left and right children nodes for processing\\n                stack.append((node_id + \\\" -> left\\\", node_id))\\n                node_constraints[node_id + \\\" -> left\\\"] = node_constraints[node_id] + [\\n                    x[largest_nonint_idx] >= np.ceil(largest_nonint_val)\\n                ]\\n                stack.append((node_id + \\\" -> right\\\", node_id))\\n                node_constraints[node_id + \\\" -> right\\\"] = node_constraints[node_id] + [\\n                    x[largest_nonint_idx] <= np.floor(largest_nonint_val)\\n                ]\\n\\n    return root, lb\\n\\n\\ndef branch_and_bound_ilp(x, constraints, obj_coeff, problem_type):\\n    \\\"\\\"\\\"Solves Pure Integer Linear Program using\\n    Branch and Bound method.\\n    \\n    Args:\\n        x (cvxpy.Variable): The integer variables in our problem\\n        constraints (List[Inequality]): List of inequality constraints to impose on problem\\n        obj_coeff (numpy.array): The objective coefficients for a linear program\\n        problem_type (str): Either min, or max (default - min)\\n        \\n    Returns:\\n        \\n    \\n    \\\"\\\"\\\"\\n    assert (problem_type == \\\"min\\\") or (problem_type == \\\"max\\\"), print(\\n        \\\"problem_type must be either `min` or `max`.\\\"\\n    )\\n    # Standardize the optimization problem to be maximization\\n    if problem_type == \\\"min\\\":\\n        obj_coeff = -obj_coeff\\n\\n    # Run the recursive depth-first branch and bound algo\\n    root = Digraph(\\n        name=\\\"Branch and Bound Tree\\\",\\n        filename=\\\"btree.gv\\\",\\n        node_attr={\\\"shape\\\": \\\"record\\\", \\\"height\\\": \\\".1\\\"},\\n    )\\n    root.attr(\\\"node\\\", shape=\\\"box\\\")\\n    root, prob = branch_and_bound_dfs(root, x, constraints, obj_coeff, problem_type)\\n    print(\\n        f\\\"Optimal Objective Value: {np.round(prob.value, 3)} | Integer Solution: {np.round(np.array(list(prob.solution.primal_vars.values())).flatten(), 3)}\\\"\\n    )\\n    root.attr(label=r\\\"\\\\n\\\\nBranch and Bound Tree\\\")\\n    root.attr(fontsize=\\\"20\\\")\\n\\n    display(root)\";\n",
       "                var nbb_formatted_code = \"# Converts the optimization problem parameters into the mathematical representation\\ndef solve_lp(x, constraints, obj_coeff, problem_type):\\n    \\\"\\\"\\\"Solves the standard LP maximization problem and creates the \\n    mathematical formulation of optimization label for graphviz\\n    \\\"\\\"\\\"\\n    obj = cp.Maximize(obj_coeff @ x)\\n    prob = cp.Problem(obj, constraints)\\n    prob.solve()\\n\\n    label = (\\n        f\\\"{problem_type} {' + '.join([str(coeff) + 'x' + str(i+1) for coeff, i in zip(obj_coeff, range(x.shape[0]))])} \\\"\\n        + \\\"\\\\nsubject to: \\\\n\\\"\\n        + \\\"{}\\\".format(\\n            \\\"\\\\n\\\".join(\\n                [\\n                    re.sub(\\n                        r\\\"x\\\\[([0-9]*)\\\\]\\\",\\n                        \\\"x\\\"\\n                        + str(\\n                            int(\\n                                re.search(\\n                                    r\\\"\\\\[[0-9]*\\\\]\\\",\\n                                    re.sub(r\\\"var[0-9]*\\\", \\\"x\\\", str(constraint)),\\n                                )\\n                                .group()\\n                                .replace(\\\"]\\\", \\\"\\\")\\n                                .replace(\\\"[\\\", \\\"\\\")\\n                            )\\n                            + 1\\n                        ),\\n                        re.sub(r\\\"var[0-9]*\\\", \\\"x\\\", str(constraint)),\\n                    )\\n                    if re.search(\\n                        r\\\"x\\\\[([0-9]*)\\\\]\\\", re.sub(r\\\"var[0-9]*\\\", \\\"x\\\", str(constraint))\\n                    )\\n                    is not None\\n                    else re.sub(r\\\"var[0-9]*\\\", \\\"x\\\", str(constraint))\\n                    for constraint in constraints\\n                ]\\n            )\\n        )\\n        + (\\n            \\\"\\\\n\\\\nObjective Value: \\\"\\n            + (\\n                str(np.round(prob.value, 2))\\n                if prob.status == \\\"optimal\\\"\\n                else str(prob.value)\\n            )\\n            + \\\"\\\\nSolution: \\\"\\n            + (\\n                str([np.round(x_i, 2) for x_i in x.value])\\n                if prob.status == \\\"optimal\\\"\\n                else prob.status\\n            )\\n        )\\n    )\\n    return label, prob\\n\\n\\n# Checks if the number is an integer within specified decimal rounding\\nis_integer = lambda x, decimals=3: np.round(x, decimals).is_integer()\\n\\n# Checks if all elements in array are integers\\nis_integer_solution = lambda x: np.alltrue([is_integer(x_i) for x_i in x])\\n\\n\\ndef branch_and_bound_dfs(root, x, constraints, obj_coeff, problem_type):\\n    \\\"\\\"\\\"Iterative DFS traversal of branch and bound tree\\\"\\\"\\\"\\n\\n    node_id = \\\"root\\\"  # ID to map the node of branch and bound tree to the constraints\\n    stack = (\\n        []\\n    )  # To simulate depth first traversal by appending onto stack the node's children\\n    node_constraints = (\\n        {}\\n    )  # A map of the node_id to constraints associated with the node\\n    visited = []  # A list to keep the nodes already visited\\n\\n    stack.append((node_id, None))\\n    node_constraints[node_id] = constraints\\n\\n    lb, ub = None, None  # Lower bound and upper bound of ILP\\n\\n    while len(stack) > 0:\\n\\n        # Visit node\\n        node_id, parent_node_id = stack.pop()\\n        visited.append(node_id)\\n\\n        # Process Root\\n        label, prob = solve_lp(x, node_constraints[node_id], obj_coeff, problem_type)\\n        root.node(name=str(node_id), label=label)\\n\\n        # Add Edge\\n        if node_id != \\\"root\\\":\\n            root.edge(\\n                tail_name=str(parent_node_id),\\n                head_name=str(node_id),\\n                label=re.sub(\\n                    r\\\"x\\\\[([0-9]*)\\\\]\\\",\\n                    \\\"x\\\"\\n                    + str(\\n                        int(\\n                            re.search(\\n                                r\\\"\\\\[[0-9]*\\\\]\\\",\\n                                re.sub(\\n                                    r\\\"var[0-9]*\\\",\\n                                    \\\"x\\\",\\n                                    str(node_constraints[node_id][-1]),\\n                                ),\\n                            )\\n                            .group()\\n                            .replace(\\\"]\\\", \\\"\\\")\\n                            .replace(\\\"[\\\", \\\"\\\")\\n                        )\\n                        + 1\\n                    ),\\n                    re.sub(r\\\"var[0-9]*\\\", \\\"x\\\", str(node_constraints[node_id][-1])),\\n                ),\\n                len=\\\"5\\\",\\n            )\\n\\n        if prob.status == \\\"optimal\\\":\\n\\n            # If current solution is integer\\n            is_integer_current_solution = is_integer_solution(\\n                np.array(list(prob.solution.primal_vars.values())).flatten()\\n            )\\n\\n            # Break Conditions\\n            if is_integer_current_solution and (\\n                (ub is None) or (prob.value == np.floor(ub.value))\\n            ):  # Optimal Integer solution found\\n                return root, prob\\n\\n            # Set lower bound of the ilp\\n            if is_integer_current_solution and (\\n                (lb is None) or (prob.value > lb.value)\\n            ):\\n                lb = prob\\n\\n            # Set upper bound of the ilp\\n            if (ub is None) or (prob.value > ub.value):\\n                ub = prob\\n\\n            if (\\n                prob.value > lb.value if lb is not None else True\\n            ) and not is_integer_current_solution:\\n\\n                # Find non-integer value of solution\\n                largest_nonint_idx, largest_nonint_val = sorted(\\n                    [\\n                        (idx, x_i)\\n                        for idx, x_i in enumerate(prob.variables()[0].value)\\n                        if not is_integer(x_i)\\n                    ],\\n                    key=lambda x: x[1],\\n                    reverse=True,\\n                )[0]\\n\\n                # Add left and right children nodes for processing\\n                stack.append((node_id + \\\" -> left\\\", node_id))\\n                node_constraints[node_id + \\\" -> left\\\"] = node_constraints[node_id] + [\\n                    x[largest_nonint_idx] >= np.ceil(largest_nonint_val)\\n                ]\\n                stack.append((node_id + \\\" -> right\\\", node_id))\\n                node_constraints[node_id + \\\" -> right\\\"] = node_constraints[node_id] + [\\n                    x[largest_nonint_idx] <= np.floor(largest_nonint_val)\\n                ]\\n\\n    return root, lb\\n\\n\\ndef branch_and_bound_ilp(x, constraints, obj_coeff, problem_type):\\n    \\\"\\\"\\\"Solves Pure Integer Linear Program using\\n    Branch and Bound method.\\n    \\n    Args:\\n        x (cvxpy.Variable): The integer variables in our problem\\n        constraints (List[Inequality]): List of inequality constraints to impose on problem\\n        obj_coeff (numpy.array): The objective coefficients for a linear program\\n        problem_type (str): Either min, or max (default - min)\\n        \\n    Returns:\\n        \\n    \\n    \\\"\\\"\\\"\\n    assert (problem_type == \\\"min\\\") or (problem_type == \\\"max\\\"), print(\\n        \\\"problem_type must be either `min` or `max`.\\\"\\n    )\\n    # Standardize the optimization problem to be maximization\\n    if problem_type == \\\"min\\\":\\n        obj_coeff = -obj_coeff\\n\\n    # Run the recursive depth-first branch and bound algo\\n    root = Digraph(\\n        name=\\\"Branch and Bound Tree\\\",\\n        filename=\\\"btree.gv\\\",\\n        node_attr={\\\"shape\\\": \\\"record\\\", \\\"height\\\": \\\".1\\\"},\\n    )\\n    root.attr(\\\"node\\\", shape=\\\"box\\\")\\n    root, prob = branch_and_bound_dfs(root, x, constraints, obj_coeff, problem_type)\\n    print(\\n        f\\\"Optimal Objective Value: {np.round(prob.value, 3)} | Integer Solution: {np.round(np.array(list(prob.solution.primal_vars.values())).flatten(), 3)}\\\"\\n    )\\n    root.attr(label=r\\\"\\\\n\\\\nBranch and Bound Tree\\\")\\n    root.attr(fontsize=\\\"20\\\")\\n\\n    display(root)\";\n",
       "                var nbb_cells = Jupyter.notebook.get_cells();\n",
       "                for (var i = 0; i < nbb_cells.length; ++i) {\n",
       "                    if (nbb_cells[i].input_prompt_number == nbb_cell_id) {\n",
       "                        if (nbb_cells[i].get_text() == nbb_unformatted_code) {\n",
       "                             nbb_cells[i].set_text(nbb_formatted_code);\n",
       "                        }\n",
       "                        break;\n",
       "                    }\n",
       "                }\n",
       "            }, 500);\n",
       "            "
      ],
      "text/plain": [
       "<IPython.core.display.Javascript object>"
      ]
     },
     "metadata": {},
     "output_type": "display_data"
    }
   ],
   "source": [
    "# Converts the optimization problem parameters into the mathematical representation\n",
    "def solve_lp(x, constraints, obj_coeff, problem_type):\n",
    "    \"\"\"Solves the standard LP maximization problem and creates the \n",
    "    mathematical formulation of optimization label for graphviz\n",
    "    \"\"\"\n",
    "    obj = cp.Maximize(obj_coeff @ x)\n",
    "    prob = cp.Problem(obj, constraints)\n",
    "    prob.solve()\n",
    "\n",
    "    label = (\n",
    "        f\"{problem_type} {' + '.join([str(coeff) + 'x' + str(i+1) for coeff, i in zip(obj_coeff, range(x.shape[0]))])} \"\n",
    "        + \"\\nsubject to: \\n\"\n",
    "        + \"{}\".format(\n",
    "            \"\\n\".join(\n",
    "                [\n",
    "                    re.sub(\n",
    "                        r\"x\\[([0-9]*)\\]\",\n",
    "                        \"x\"\n",
    "                        + str(\n",
    "                            int(\n",
    "                                re.search(\n",
    "                                    r\"\\[[0-9]*\\]\",\n",
    "                                    re.sub(r\"var[0-9]*\", \"x\", str(constraint)),\n",
    "                                )\n",
    "                                .group()\n",
    "                                .replace(\"]\", \"\")\n",
    "                                .replace(\"[\", \"\")\n",
    "                            )\n",
    "                            + 1\n",
    "                        ),\n",
    "                        re.sub(r\"var[0-9]*\", \"x\", str(constraint)),\n",
    "                    )\n",
    "                    if re.search(\n",
    "                        r\"x\\[([0-9]*)\\]\", re.sub(r\"var[0-9]*\", \"x\", str(constraint))\n",
    "                    )\n",
    "                    is not None\n",
    "                    else re.sub(r\"var[0-9]*\", \"x\", str(constraint))\n",
    "                    for constraint in constraints\n",
    "                ]\n",
    "            )\n",
    "        )\n",
    "        + (\n",
    "            \"\\n\\nObjective Value: \"\n",
    "            + (\n",
    "                str(np.round(prob.value, 2))\n",
    "                if prob.status == \"optimal\"\n",
    "                else str(prob.value)\n",
    "            )\n",
    "            + \"\\nSolution: \"\n",
    "            + (\n",
    "                str([np.round(x_i, 2) for x_i in x.value])\n",
    "                if prob.status == \"optimal\"\n",
    "                else prob.status\n",
    "            )\n",
    "        )\n",
    "    )\n",
    "    return label, prob\n",
    "\n",
    "\n",
    "# Checks if the number is an integer within specified decimal rounding\n",
    "is_integer = lambda x, decimals=3: np.round(x, decimals).is_integer()\n",
    "\n",
    "# Checks if all elements in array are integers\n",
    "is_integer_solution = lambda x: np.alltrue([is_integer(x_i) for x_i in x])\n",
    "\n",
    "\n",
    "def branch_and_bound_dfs(root, x, constraints, obj_coeff, problem_type):\n",
    "    \"\"\"Iterative DFS traversal of branch and bound tree\"\"\"\n",
    "\n",
    "    node_id = \"root\"  # ID to map the node of branch and bound tree to the constraints\n",
    "    stack = (\n",
    "        []\n",
    "    )  # To simulate depth first traversal by appending onto stack the node's children\n",
    "    node_constraints = (\n",
    "        {}\n",
    "    )  # A map of the node_id to constraints associated with the node\n",
    "    visited = []  # A list to keep the nodes already visited\n",
    "\n",
    "    stack.append((node_id, None))\n",
    "    node_constraints[node_id] = constraints\n",
    "\n",
    "    lb, ub = None, None  # Lower bound and upper bound of ILP\n",
    "\n",
    "    while len(stack) > 0:\n",
    "\n",
    "        # Visit node\n",
    "        node_id, parent_node_id = stack.pop()\n",
    "        visited.append(node_id)\n",
    "\n",
    "        # Process Root\n",
    "        label, prob = solve_lp(x, node_constraints[node_id], obj_coeff, problem_type)\n",
    "        root.node(name=str(node_id), label=label)\n",
    "\n",
    "        # Add Edge\n",
    "        if node_id != \"root\":\n",
    "            root.edge(\n",
    "                tail_name=str(parent_node_id),\n",
    "                head_name=str(node_id),\n",
    "                label=re.sub(\n",
    "                    r\"x\\[([0-9]*)\\]\",\n",
    "                    \"x\"\n",
    "                    + str(\n",
    "                        int(\n",
    "                            re.search(\n",
    "                                r\"\\[[0-9]*\\]\",\n",
    "                                re.sub(\n",
    "                                    r\"var[0-9]*\",\n",
    "                                    \"x\",\n",
    "                                    str(node_constraints[node_id][-1]),\n",
    "                                ),\n",
    "                            )\n",
    "                            .group()\n",
    "                            .replace(\"]\", \"\")\n",
    "                            .replace(\"[\", \"\")\n",
    "                        )\n",
    "                        + 1\n",
    "                    ),\n",
    "                    re.sub(r\"var[0-9]*\", \"x\", str(node_constraints[node_id][-1])),\n",
    "                ),\n",
    "                len=\"5\",\n",
    "            )\n",
    "\n",
    "        if prob.status == \"optimal\":\n",
    "\n",
    "            # If current solution is integer\n",
    "            is_integer_current_solution = is_integer_solution(\n",
    "                np.array(list(prob.solution.primal_vars.values())).flatten()\n",
    "            )\n",
    "\n",
    "            # Break Conditions\n",
    "            if is_integer_current_solution and (\n",
    "                (ub is None) or (prob.value == np.floor(ub.value))\n",
    "            ):  # Optimal Integer solution found\n",
    "                return root, prob\n",
    "\n",
    "            # Set lower bound of the ilp\n",
    "            if is_integer_current_solution and (\n",
    "                (lb is None) or (prob.value > lb.value)\n",
    "            ):\n",
    "                lb = prob\n",
    "\n",
    "            # Set upper bound of the ilp\n",
    "            if (ub is None) or (prob.value > ub.value):\n",
    "                ub = prob\n",
    "\n",
    "            if (\n",
    "                prob.value > lb.value if lb is not None else True\n",
    "            ) and not is_integer_current_solution:\n",
    "\n",
    "                # Find non-integer value of solution\n",
    "                largest_nonint_idx, largest_nonint_val = sorted(\n",
    "                    [\n",
    "                        (idx, x_i)\n",
    "                        for idx, x_i in enumerate(prob.variables()[0].value)\n",
    "                        if not is_integer(x_i)\n",
    "                    ],\n",
    "                    key=lambda x: x[1],\n",
    "                    reverse=True,\n",
    "                )[0]\n",
    "\n",
    "                # Add left and right children nodes for processing\n",
    "                stack.append((node_id + \" -> left\", node_id))\n",
    "                node_constraints[node_id + \" -> left\"] = node_constraints[node_id] + [\n",
    "                    x[largest_nonint_idx] >= np.ceil(largest_nonint_val)\n",
    "                ]\n",
    "                stack.append((node_id + \" -> right\", node_id))\n",
    "                node_constraints[node_id + \" -> right\"] = node_constraints[node_id] + [\n",
    "                    x[largest_nonint_idx] <= np.floor(largest_nonint_val)\n",
    "                ]\n",
    "\n",
    "    return root, lb\n",
    "\n",
    "\n",
    "def branch_and_bound_ilp(x, constraints, obj_coeff, problem_type):\n",
    "    \"\"\"Solves Pure Integer Linear Program using\n",
    "    Branch and Bound method.\n",
    "    \n",
    "    Args:\n",
    "        x (cvxpy.Variable): The integer variables in our problem\n",
    "        constraints (List[Inequality]): List of inequality constraints to impose on problem\n",
    "        obj_coeff (numpy.array): The objective coefficients for a linear program\n",
    "        problem_type (str): Either min, or max (default - min)\n",
    "        \n",
    "    Returns:\n",
    "        \n",
    "    \n",
    "    \"\"\"\n",
    "    assert (problem_type == \"min\") or (problem_type == \"max\"), print(\n",
    "        \"problem_type must be either `min` or `max`.\"\n",
    "    )\n",
    "    # Standardize the optimization problem to be maximization\n",
    "    if problem_type == \"min\":\n",
    "        obj_coeff = -obj_coeff\n",
    "\n",
    "    # Run the recursive depth-first branch and bound algo\n",
    "    root = Digraph(\n",
    "        name=\"Branch and Bound Tree\",\n",
    "        filename=\"btree.gv\",\n",
    "        node_attr={\"shape\": \"record\", \"height\": \".1\"},\n",
    "    )\n",
    "    root.attr(\"node\", shape=\"box\")\n",
    "    root, prob = branch_and_bound_dfs(root, x, constraints, obj_coeff, problem_type)\n",
    "    print(\n",
    "        f\"Optimal Objective Value: {np.round(prob.value, 3)} | Integer Solution: {np.round(np.array(list(prob.solution.primal_vars.values())).flatten(), 3)}\"\n",
    "    )\n",
    "    root.attr(label=r\"\\n\\nBranch and Bound Tree\")\n",
    "    root.attr(fontsize=\"20\")\n",
    "\n",
    "    display(root)"
   ]
  },
  {
   "cell_type": "markdown",
   "metadata": {},
   "source": [
    "---\n",
    "## Question 4. \n",
    "\n",
    "Solve the knapsack problem in Question 3 by the branch-and-bound method. (10 points)\n",
    "\n",
    "\\begin{align}\n",
    "    \\underset{x}{\\text{maximize}}\\qquad& 8x_1 + 11x_2 + 6x_3 + 4x_4 \\\\\n",
    "    \\text{subject to}\\qquad& 6.7x_1 + 10x_2 + 5.5x_3 + 3.4x_4 \\leq 19 \\\\\n",
    "    \\text{and }\\qquad &0 \\leq x_j \\leq 1 \\text{ and integer for all }j = 1\\text{  through }4. \\\\\n",
    "\\end{align}"
   ]
  },
  {
   "cell_type": "code",
   "execution_count": 5,
   "metadata": {},
   "outputs": [
    {
     "name": "stdout",
     "output_type": "stream",
     "text": [
      "Optimal Objective Value: 21.0 | Integer Solution: [-0.  1.  1.  1.]\n"
     ]
    },
    {
     "data": {
      "image/svg+xml": [
       "<?xml version=\"1.0\" encoding=\"UTF-8\" standalone=\"no\"?>\n",
       "<!DOCTYPE svg PUBLIC \"-//W3C//DTD SVG 1.1//EN\"\n",
       " \"http://www.w3.org/Graphics/SVG/1.1/DTD/svg11.dtd\">\n",
       "<!-- Generated by graphviz version 2.40.1 (20161225.0304)\n",
       " -->\n",
       "<!-- Title: Branch and Bound Tree Pages: 1 -->\n",
       "<svg width=\"862pt\" height=\"1085pt\"\n",
       " viewBox=\"0.00 0.00 862.00 1085.00\" xmlns=\"http://www.w3.org/2000/svg\" xmlns:xlink=\"http://www.w3.org/1999/xlink\">\n",
       "<g id=\"graph0\" class=\"graph\" transform=\"scale(1 1) rotate(0) translate(4 1081)\">\n",
       "<title>Branch and Bound Tree</title>\n",
       "<polygon fill=\"#ffffff\" stroke=\"transparent\" points=\"-4,4 -4,-1081 858,-1081 858,4 -4,4\"/>\n",
       "<text text-anchor=\"middle\" x=\"427\" y=\"-10\" font-family=\"Times,serif\" font-size=\"20.00\" fill=\"#000000\">Branch and Bound Tree</text>\n",
       "<!-- root -->\n",
       "<g id=\"node1\" class=\"node\">\n",
       "<title>root</title>\n",
       "<polygon fill=\"none\" stroke=\"#000000\" points=\"401,-1077 201,-1077 201,-948 401,-948 401,-1077\"/>\n",
       "<text text-anchor=\"middle\" x=\"301\" y=\"-1061.8\" font-family=\"Times,serif\" font-size=\"14.00\" fill=\"#000000\">max 8x1 + 11x2 + 6x3 + 4x4 </text>\n",
       "<text text-anchor=\"middle\" x=\"301\" y=\"-1046.8\" font-family=\"Times,serif\" font-size=\"14.00\" fill=\"#000000\">subject to: </text>\n",
       "<text text-anchor=\"middle\" x=\"301\" y=\"-1031.8\" font-family=\"Times,serif\" font-size=\"14.00\" fill=\"#000000\">[[ 6.7 10. &#160;&#160;5.5 &#160;3.4]] * x &lt;= [19.]</text>\n",
       "<text text-anchor=\"middle\" x=\"301\" y=\"-1016.8\" font-family=\"Times,serif\" font-size=\"14.00\" fill=\"#000000\">0.0 &lt;= x</text>\n",
       "<text text-anchor=\"middle\" x=\"301\" y=\"-1001.8\" font-family=\"Times,serif\" font-size=\"14.00\" fill=\"#000000\">x &lt;= 1.0</text>\n",
       "<text text-anchor=\"middle\" x=\"301\" y=\"-970.8\" font-family=\"Times,serif\" font-size=\"14.00\" fill=\"#000000\">Objective Value: 21.79</text>\n",
       "<text text-anchor=\"middle\" x=\"301\" y=\"-955.8\" font-family=\"Times,serif\" font-size=\"14.00\" fill=\"#000000\">Solution: [1.0, 0.89, &#45;0.0, 1.0]</text>\n",
       "</g>\n",
       "<!-- root &#45;&gt; right -->\n",
       "<g id=\"node2\" class=\"node\">\n",
       "<title>root &#45;&gt; right</title>\n",
       "<polygon fill=\"none\" stroke=\"#000000\" points=\"327,-897 127,-897 127,-753 327,-753 327,-897\"/>\n",
       "<text text-anchor=\"middle\" x=\"227\" y=\"-881.8\" font-family=\"Times,serif\" font-size=\"14.00\" fill=\"#000000\">max 8x1 + 11x2 + 6x3 + 4x4 </text>\n",
       "<text text-anchor=\"middle\" x=\"227\" y=\"-866.8\" font-family=\"Times,serif\" font-size=\"14.00\" fill=\"#000000\">subject to: </text>\n",
       "<text text-anchor=\"middle\" x=\"227\" y=\"-851.8\" font-family=\"Times,serif\" font-size=\"14.00\" fill=\"#000000\">[[ 6.7 10. &#160;&#160;5.5 &#160;3.4]] * x &lt;= [19.]</text>\n",
       "<text text-anchor=\"middle\" x=\"227\" y=\"-836.8\" font-family=\"Times,serif\" font-size=\"14.00\" fill=\"#000000\">0.0 &lt;= x</text>\n",
       "<text text-anchor=\"middle\" x=\"227\" y=\"-821.8\" font-family=\"Times,serif\" font-size=\"14.00\" fill=\"#000000\">x &lt;= 1.0</text>\n",
       "<text text-anchor=\"middle\" x=\"227\" y=\"-806.8\" font-family=\"Times,serif\" font-size=\"14.00\" fill=\"#000000\">x2 &lt;= 0.0</text>\n",
       "<text text-anchor=\"middle\" x=\"227\" y=\"-775.8\" font-family=\"Times,serif\" font-size=\"14.00\" fill=\"#000000\">Objective Value: 18.0</text>\n",
       "<text text-anchor=\"middle\" x=\"227\" y=\"-760.8\" font-family=\"Times,serif\" font-size=\"14.00\" fill=\"#000000\">Solution: [1.0, &#45;0.0, 1.0, 1.0]</text>\n",
       "</g>\n",
       "<!-- root&#45;&gt;root &#45;&gt; right -->\n",
       "<g id=\"edge1\" class=\"edge\">\n",
       "<title>root&#45;&gt;root &#45;&gt; right</title>\n",
       "<path fill=\"none\" stroke=\"#000000\" d=\"M275.5334,-947.9731C270.2682,-934.6324 264.6569,-920.4144 259.1882,-906.5578\"/>\n",
       "<polygon fill=\"#000000\" stroke=\"#000000\" points=\"262.3577,-905.0547 255.4309,-897.0378 255.8465,-907.6245 262.3577,-905.0547\"/>\n",
       "<text text-anchor=\"middle\" x=\"296.5\" y=\"-918.8\" font-family=\"Times,serif\" font-size=\"14.00\" fill=\"#000000\">x2 &lt;= 0.0</text>\n",
       "</g>\n",
       "<!-- root &#45;&gt; left -->\n",
       "<g id=\"node3\" class=\"node\">\n",
       "<title>root &#45;&gt; left</title>\n",
       "<polygon fill=\"none\" stroke=\"#000000\" points=\"545,-897 345,-897 345,-753 545,-753 545,-897\"/>\n",
       "<text text-anchor=\"middle\" x=\"445\" y=\"-881.8\" font-family=\"Times,serif\" font-size=\"14.00\" fill=\"#000000\">max 8x1 + 11x2 + 6x3 + 4x4 </text>\n",
       "<text text-anchor=\"middle\" x=\"445\" y=\"-866.8\" font-family=\"Times,serif\" font-size=\"14.00\" fill=\"#000000\">subject to: </text>\n",
       "<text text-anchor=\"middle\" x=\"445\" y=\"-851.8\" font-family=\"Times,serif\" font-size=\"14.00\" fill=\"#000000\">[[ 6.7 10. &#160;&#160;5.5 &#160;3.4]] * x &lt;= [19.]</text>\n",
       "<text text-anchor=\"middle\" x=\"445\" y=\"-836.8\" font-family=\"Times,serif\" font-size=\"14.00\" fill=\"#000000\">0.0 &lt;= x</text>\n",
       "<text text-anchor=\"middle\" x=\"445\" y=\"-821.8\" font-family=\"Times,serif\" font-size=\"14.00\" fill=\"#000000\">x &lt;= 1.0</text>\n",
       "<text text-anchor=\"middle\" x=\"445\" y=\"-806.8\" font-family=\"Times,serif\" font-size=\"14.00\" fill=\"#000000\">1.0 &lt;= x2</text>\n",
       "<text text-anchor=\"middle\" x=\"445\" y=\"-775.8\" font-family=\"Times,serif\" font-size=\"14.00\" fill=\"#000000\">Objective Value: 21.71</text>\n",
       "<text text-anchor=\"middle\" x=\"445\" y=\"-760.8\" font-family=\"Times,serif\" font-size=\"14.00\" fill=\"#000000\">Solution: [1.0, 1.0, &#45;0.0, 0.68]</text>\n",
       "</g>\n",
       "<!-- root&#45;&gt;root &#45;&gt; left -->\n",
       "<g id=\"edge2\" class=\"edge\">\n",
       "<title>root&#45;&gt;root &#45;&gt; left</title>\n",
       "<path fill=\"none\" stroke=\"#000000\" d=\"M350.5566,-947.9731C361.0979,-934.2475 372.3523,-919.5934 383.2838,-905.3596\"/>\n",
       "<polygon fill=\"#000000\" stroke=\"#000000\" points=\"386.3598,-907.1006 389.675,-897.0378 380.8081,-902.8369 386.3598,-907.1006\"/>\n",
       "<text text-anchor=\"middle\" x=\"400.5\" y=\"-918.8\" font-family=\"Times,serif\" font-size=\"14.00\" fill=\"#000000\">1.0 &lt;= x2</text>\n",
       "</g>\n",
       "<!-- root &#45;&gt; left &#45;&gt; right -->\n",
       "<g id=\"node4\" class=\"node\">\n",
       "<title>root &#45;&gt; left &#45;&gt; right</title>\n",
       "<polygon fill=\"none\" stroke=\"#000000\" points=\"418,-702 218,-702 218,-543 418,-543 418,-702\"/>\n",
       "<text text-anchor=\"middle\" x=\"318\" y=\"-686.8\" font-family=\"Times,serif\" font-size=\"14.00\" fill=\"#000000\">max 8x1 + 11x2 + 6x3 + 4x4 </text>\n",
       "<text text-anchor=\"middle\" x=\"318\" y=\"-671.8\" font-family=\"Times,serif\" font-size=\"14.00\" fill=\"#000000\">subject to: </text>\n",
       "<text text-anchor=\"middle\" x=\"318\" y=\"-656.8\" font-family=\"Times,serif\" font-size=\"14.00\" fill=\"#000000\">[[ 6.7 10. &#160;&#160;5.5 &#160;3.4]] * x &lt;= [19.]</text>\n",
       "<text text-anchor=\"middle\" x=\"318\" y=\"-641.8\" font-family=\"Times,serif\" font-size=\"14.00\" fill=\"#000000\">0.0 &lt;= x</text>\n",
       "<text text-anchor=\"middle\" x=\"318\" y=\"-626.8\" font-family=\"Times,serif\" font-size=\"14.00\" fill=\"#000000\">x &lt;= 1.0</text>\n",
       "<text text-anchor=\"middle\" x=\"318\" y=\"-611.8\" font-family=\"Times,serif\" font-size=\"14.00\" fill=\"#000000\">1.0 &lt;= x2</text>\n",
       "<text text-anchor=\"middle\" x=\"318\" y=\"-596.8\" font-family=\"Times,serif\" font-size=\"14.00\" fill=\"#000000\">x4 &lt;= 0.0</text>\n",
       "<text text-anchor=\"middle\" x=\"318\" y=\"-565.8\" font-family=\"Times,serif\" font-size=\"14.00\" fill=\"#000000\">Objective Value: 21.51</text>\n",
       "<text text-anchor=\"middle\" x=\"318\" y=\"-550.8\" font-family=\"Times,serif\" font-size=\"14.00\" fill=\"#000000\">Solution: [1.0, 1.0, 0.42, 0.0]</text>\n",
       "</g>\n",
       "<!-- root &#45;&gt; left&#45;&gt;root &#45;&gt; left &#45;&gt; right -->\n",
       "<g id=\"edge3\" class=\"edge\">\n",
       "<title>root &#45;&gt; left&#45;&gt;root &#45;&gt; left &#45;&gt; right</title>\n",
       "<path fill=\"none\" stroke=\"#000000\" d=\"M399.688,-752.7505C391.1931,-739.2056 382.224,-724.9044 373.4624,-710.9341\"/>\n",
       "<polygon fill=\"#000000\" stroke=\"#000000\" points=\"376.3182,-708.9002 368.0399,-702.2881 370.388,-712.6195 376.3182,-708.9002\"/>\n",
       "<text text-anchor=\"middle\" x=\"413.5\" y=\"-723.8\" font-family=\"Times,serif\" font-size=\"14.00\" fill=\"#000000\">x4 &lt;= 0.0</text>\n",
       "</g>\n",
       "<!-- root &#45;&gt; left &#45;&gt; left -->\n",
       "<g id=\"node9\" class=\"node\">\n",
       "<title>root &#45;&gt; left &#45;&gt; left</title>\n",
       "<polygon fill=\"none\" stroke=\"#000000\" points=\"636,-702 436,-702 436,-543 636,-543 636,-702\"/>\n",
       "<text text-anchor=\"middle\" x=\"536\" y=\"-686.8\" font-family=\"Times,serif\" font-size=\"14.00\" fill=\"#000000\">max 8x1 + 11x2 + 6x3 + 4x4 </text>\n",
       "<text text-anchor=\"middle\" x=\"536\" y=\"-671.8\" font-family=\"Times,serif\" font-size=\"14.00\" fill=\"#000000\">subject to: </text>\n",
       "<text text-anchor=\"middle\" x=\"536\" y=\"-656.8\" font-family=\"Times,serif\" font-size=\"14.00\" fill=\"#000000\">[[ 6.7 10. &#160;&#160;5.5 &#160;3.4]] * x &lt;= [19.]</text>\n",
       "<text text-anchor=\"middle\" x=\"536\" y=\"-641.8\" font-family=\"Times,serif\" font-size=\"14.00\" fill=\"#000000\">0.0 &lt;= x</text>\n",
       "<text text-anchor=\"middle\" x=\"536\" y=\"-626.8\" font-family=\"Times,serif\" font-size=\"14.00\" fill=\"#000000\">x &lt;= 1.0</text>\n",
       "<text text-anchor=\"middle\" x=\"536\" y=\"-611.8\" font-family=\"Times,serif\" font-size=\"14.00\" fill=\"#000000\">1.0 &lt;= x2</text>\n",
       "<text text-anchor=\"middle\" x=\"536\" y=\"-596.8\" font-family=\"Times,serif\" font-size=\"14.00\" fill=\"#000000\">1.0 &lt;= x4</text>\n",
       "<text text-anchor=\"middle\" x=\"536\" y=\"-565.8\" font-family=\"Times,serif\" font-size=\"14.00\" fill=\"#000000\">Objective Value: 21.69</text>\n",
       "<text text-anchor=\"middle\" x=\"536\" y=\"-550.8\" font-family=\"Times,serif\" font-size=\"14.00\" fill=\"#000000\">Solution: [0.84, 1.0, 0.0, 1.0]</text>\n",
       "</g>\n",
       "<!-- root &#45;&gt; left&#45;&gt;root &#45;&gt; left &#45;&gt; left -->\n",
       "<g id=\"edge8\" class=\"edge\">\n",
       "<title>root &#45;&gt; left&#45;&gt;root &#45;&gt; left &#45;&gt; left</title>\n",
       "<path fill=\"none\" stroke=\"#000000\" d=\"M477.4677,-752.7505C483.4397,-739.4611 489.7388,-725.4438 495.9037,-711.7252\"/>\n",
       "<polygon fill=\"#000000\" stroke=\"#000000\" points=\"499.2381,-712.8441 500.1446,-702.2881 492.8531,-709.9748 499.2381,-712.8441\"/>\n",
       "<text text-anchor=\"middle\" x=\"518.5\" y=\"-723.8\" font-family=\"Times,serif\" font-size=\"14.00\" fill=\"#000000\">1.0 &lt;= x4</text>\n",
       "</g>\n",
       "<!-- root &#45;&gt; left &#45;&gt; right &#45;&gt; right -->\n",
       "<g id=\"node5\" class=\"node\">\n",
       "<title>root &#45;&gt; left &#45;&gt; right &#45;&gt; right</title>\n",
       "<polygon fill=\"none\" stroke=\"#000000\" points=\"200,-492 0,-492 0,-318 200,-318 200,-492\"/>\n",
       "<text text-anchor=\"middle\" x=\"100\" y=\"-476.8\" font-family=\"Times,serif\" font-size=\"14.00\" fill=\"#000000\">max 8x1 + 11x2 + 6x3 + 4x4 </text>\n",
       "<text text-anchor=\"middle\" x=\"100\" y=\"-461.8\" font-family=\"Times,serif\" font-size=\"14.00\" fill=\"#000000\">subject to: </text>\n",
       "<text text-anchor=\"middle\" x=\"100\" y=\"-446.8\" font-family=\"Times,serif\" font-size=\"14.00\" fill=\"#000000\">[[ 6.7 10. &#160;&#160;5.5 &#160;3.4]] * x &lt;= [19.]</text>\n",
       "<text text-anchor=\"middle\" x=\"100\" y=\"-431.8\" font-family=\"Times,serif\" font-size=\"14.00\" fill=\"#000000\">0.0 &lt;= x</text>\n",
       "<text text-anchor=\"middle\" x=\"100\" y=\"-416.8\" font-family=\"Times,serif\" font-size=\"14.00\" fill=\"#000000\">x &lt;= 1.0</text>\n",
       "<text text-anchor=\"middle\" x=\"100\" y=\"-401.8\" font-family=\"Times,serif\" font-size=\"14.00\" fill=\"#000000\">1.0 &lt;= x2</text>\n",
       "<text text-anchor=\"middle\" x=\"100\" y=\"-386.8\" font-family=\"Times,serif\" font-size=\"14.00\" fill=\"#000000\">x4 &lt;= 0.0</text>\n",
       "<text text-anchor=\"middle\" x=\"100\" y=\"-371.8\" font-family=\"Times,serif\" font-size=\"14.00\" fill=\"#000000\">x3 &lt;= 0.0</text>\n",
       "<text text-anchor=\"middle\" x=\"100\" y=\"-340.8\" font-family=\"Times,serif\" font-size=\"14.00\" fill=\"#000000\">Objective Value: 19.0</text>\n",
       "<text text-anchor=\"middle\" x=\"100\" y=\"-325.8\" font-family=\"Times,serif\" font-size=\"14.00\" fill=\"#000000\">Solution: [1.0, 1.0, 0.0, 0.0]</text>\n",
       "</g>\n",
       "<!-- root &#45;&gt; left &#45;&gt; right&#45;&gt;root &#45;&gt; left &#45;&gt; right &#45;&gt; right -->\n",
       "<g id=\"edge4\" class=\"edge\">\n",
       "<title>root &#45;&gt; left &#45;&gt; right&#45;&gt;root &#45;&gt; left &#45;&gt; right &#45;&gt; right</title>\n",
       "<path fill=\"none\" stroke=\"#000000\" d=\"M238.0627,-542.7461C223.8603,-528.5762 208.9478,-513.6979 194.3894,-499.1729\"/>\n",
       "<polygon fill=\"#000000\" stroke=\"#000000\" points=\"196.8269,-496.6607 187.2756,-492.0754 191.8828,-501.6161 196.8269,-496.6607\"/>\n",
       "<text text-anchor=\"middle\" x=\"243.5\" y=\"-513.8\" font-family=\"Times,serif\" font-size=\"14.00\" fill=\"#000000\">x3 &lt;= 0.0</text>\n",
       "</g>\n",
       "<!-- root &#45;&gt; left &#45;&gt; right &#45;&gt; left -->\n",
       "<g id=\"node6\" class=\"node\">\n",
       "<title>root &#45;&gt; left &#45;&gt; right &#45;&gt; left</title>\n",
       "<polygon fill=\"none\" stroke=\"#000000\" points=\"418,-492 218,-492 218,-318 418,-318 418,-492\"/>\n",
       "<text text-anchor=\"middle\" x=\"318\" y=\"-476.8\" font-family=\"Times,serif\" font-size=\"14.00\" fill=\"#000000\">max 8x1 + 11x2 + 6x3 + 4x4 </text>\n",
       "<text text-anchor=\"middle\" x=\"318\" y=\"-461.8\" font-family=\"Times,serif\" font-size=\"14.00\" fill=\"#000000\">subject to: </text>\n",
       "<text text-anchor=\"middle\" x=\"318\" y=\"-446.8\" font-family=\"Times,serif\" font-size=\"14.00\" fill=\"#000000\">[[ 6.7 10. &#160;&#160;5.5 &#160;3.4]] * x &lt;= [19.]</text>\n",
       "<text text-anchor=\"middle\" x=\"318\" y=\"-431.8\" font-family=\"Times,serif\" font-size=\"14.00\" fill=\"#000000\">0.0 &lt;= x</text>\n",
       "<text text-anchor=\"middle\" x=\"318\" y=\"-416.8\" font-family=\"Times,serif\" font-size=\"14.00\" fill=\"#000000\">x &lt;= 1.0</text>\n",
       "<text text-anchor=\"middle\" x=\"318\" y=\"-401.8\" font-family=\"Times,serif\" font-size=\"14.00\" fill=\"#000000\">1.0 &lt;= x2</text>\n",
       "<text text-anchor=\"middle\" x=\"318\" y=\"-386.8\" font-family=\"Times,serif\" font-size=\"14.00\" fill=\"#000000\">x4 &lt;= 0.0</text>\n",
       "<text text-anchor=\"middle\" x=\"318\" y=\"-371.8\" font-family=\"Times,serif\" font-size=\"14.00\" fill=\"#000000\">1.0 &lt;= x3</text>\n",
       "<text text-anchor=\"middle\" x=\"318\" y=\"-340.8\" font-family=\"Times,serif\" font-size=\"14.00\" fill=\"#000000\">Objective Value: 21.18</text>\n",
       "<text text-anchor=\"middle\" x=\"318\" y=\"-325.8\" font-family=\"Times,serif\" font-size=\"14.00\" fill=\"#000000\">Solution: [0.52, 1.0, 1.0, 0.0]</text>\n",
       "</g>\n",
       "<!-- root &#45;&gt; left &#45;&gt; right&#45;&gt;root &#45;&gt; left &#45;&gt; right &#45;&gt; left -->\n",
       "<g id=\"edge5\" class=\"edge\">\n",
       "<title>root &#45;&gt; left &#45;&gt; right&#45;&gt;root &#45;&gt; left &#45;&gt; right &#45;&gt; left</title>\n",
       "<path fill=\"none\" stroke=\"#000000\" d=\"M318,-542.7461C318,-529.6068 318,-515.8583 318,-502.3472\"/>\n",
       "<polygon fill=\"#000000\" stroke=\"#000000\" points=\"321.5001,-502.0754 318,-492.0754 314.5001,-502.0755 321.5001,-502.0754\"/>\n",
       "<text text-anchor=\"middle\" x=\"345.5\" y=\"-513.8\" font-family=\"Times,serif\" font-size=\"14.00\" fill=\"#000000\">1.0 &lt;= x3</text>\n",
       "</g>\n",
       "<!-- root &#45;&gt; left &#45;&gt; right &#45;&gt; left &#45;&gt; right -->\n",
       "<g id=\"node7\" class=\"node\">\n",
       "<title>root &#45;&gt; left &#45;&gt; right &#45;&gt; left &#45;&gt; right</title>\n",
       "<polygon fill=\"none\" stroke=\"#000000\" points=\"309,-267 109,-267 109,-78 309,-78 309,-267\"/>\n",
       "<text text-anchor=\"middle\" x=\"209\" y=\"-251.8\" font-family=\"Times,serif\" font-size=\"14.00\" fill=\"#000000\">max 8x1 + 11x2 + 6x3 + 4x4 </text>\n",
       "<text text-anchor=\"middle\" x=\"209\" y=\"-236.8\" font-family=\"Times,serif\" font-size=\"14.00\" fill=\"#000000\">subject to: </text>\n",
       "<text text-anchor=\"middle\" x=\"209\" y=\"-221.8\" font-family=\"Times,serif\" font-size=\"14.00\" fill=\"#000000\">[[ 6.7 10. &#160;&#160;5.5 &#160;3.4]] * x &lt;= [19.]</text>\n",
       "<text text-anchor=\"middle\" x=\"209\" y=\"-206.8\" font-family=\"Times,serif\" font-size=\"14.00\" fill=\"#000000\">0.0 &lt;= x</text>\n",
       "<text text-anchor=\"middle\" x=\"209\" y=\"-191.8\" font-family=\"Times,serif\" font-size=\"14.00\" fill=\"#000000\">x &lt;= 1.0</text>\n",
       "<text text-anchor=\"middle\" x=\"209\" y=\"-176.8\" font-family=\"Times,serif\" font-size=\"14.00\" fill=\"#000000\">1.0 &lt;= x2</text>\n",
       "<text text-anchor=\"middle\" x=\"209\" y=\"-161.8\" font-family=\"Times,serif\" font-size=\"14.00\" fill=\"#000000\">x4 &lt;= 0.0</text>\n",
       "<text text-anchor=\"middle\" x=\"209\" y=\"-146.8\" font-family=\"Times,serif\" font-size=\"14.00\" fill=\"#000000\">1.0 &lt;= x3</text>\n",
       "<text text-anchor=\"middle\" x=\"209\" y=\"-131.8\" font-family=\"Times,serif\" font-size=\"14.00\" fill=\"#000000\">x1 &lt;= 0.0</text>\n",
       "<text text-anchor=\"middle\" x=\"209\" y=\"-100.8\" font-family=\"Times,serif\" font-size=\"14.00\" fill=\"#000000\">Objective Value: 17.0</text>\n",
       "<text text-anchor=\"middle\" x=\"209\" y=\"-85.8\" font-family=\"Times,serif\" font-size=\"14.00\" fill=\"#000000\">Solution: [&#45;0.0, 1.0, 1.0, &#45;0.0]</text>\n",
       "</g>\n",
       "<!-- root &#45;&gt; left &#45;&gt; right &#45;&gt; left&#45;&gt;root &#45;&gt; left &#45;&gt; right &#45;&gt; left &#45;&gt; right -->\n",
       "<g id=\"edge6\" class=\"edge\">\n",
       "<title>root &#45;&gt; left &#45;&gt; right &#45;&gt; left&#45;&gt;root &#45;&gt; left &#45;&gt; right &#45;&gt; left &#45;&gt; right</title>\n",
       "<path fill=\"none\" stroke=\"#000000\" d=\"M277.1023,-317.7641C270.7594,-304.2345 264.1539,-290.1448 257.6603,-276.2937\"/>\n",
       "<polygon fill=\"#000000\" stroke=\"#000000\" points=\"260.827,-274.803 253.4131,-267.2343 254.4889,-277.7744 260.827,-274.803\"/>\n",
       "<text text-anchor=\"middle\" x=\"294.5\" y=\"-288.8\" font-family=\"Times,serif\" font-size=\"14.00\" fill=\"#000000\">x1 &lt;= 0.0</text>\n",
       "</g>\n",
       "<!-- root &#45;&gt; left &#45;&gt; right &#45;&gt; left &#45;&gt; left -->\n",
       "<g id=\"node8\" class=\"node\">\n",
       "<title>root &#45;&gt; left &#45;&gt; right &#45;&gt; left &#45;&gt; left</title>\n",
       "<polygon fill=\"none\" stroke=\"#000000\" points=\"527,-267 327,-267 327,-78 527,-78 527,-267\"/>\n",
       "<text text-anchor=\"middle\" x=\"427\" y=\"-251.8\" font-family=\"Times,serif\" font-size=\"14.00\" fill=\"#000000\">max 8x1 + 11x2 + 6x3 + 4x4 </text>\n",
       "<text text-anchor=\"middle\" x=\"427\" y=\"-236.8\" font-family=\"Times,serif\" font-size=\"14.00\" fill=\"#000000\">subject to: </text>\n",
       "<text text-anchor=\"middle\" x=\"427\" y=\"-221.8\" font-family=\"Times,serif\" font-size=\"14.00\" fill=\"#000000\">[[ 6.7 10. &#160;&#160;5.5 &#160;3.4]] * x &lt;= [19.]</text>\n",
       "<text text-anchor=\"middle\" x=\"427\" y=\"-206.8\" font-family=\"Times,serif\" font-size=\"14.00\" fill=\"#000000\">0.0 &lt;= x</text>\n",
       "<text text-anchor=\"middle\" x=\"427\" y=\"-191.8\" font-family=\"Times,serif\" font-size=\"14.00\" fill=\"#000000\">x &lt;= 1.0</text>\n",
       "<text text-anchor=\"middle\" x=\"427\" y=\"-176.8\" font-family=\"Times,serif\" font-size=\"14.00\" fill=\"#000000\">1.0 &lt;= x2</text>\n",
       "<text text-anchor=\"middle\" x=\"427\" y=\"-161.8\" font-family=\"Times,serif\" font-size=\"14.00\" fill=\"#000000\">x4 &lt;= 0.0</text>\n",
       "<text text-anchor=\"middle\" x=\"427\" y=\"-146.8\" font-family=\"Times,serif\" font-size=\"14.00\" fill=\"#000000\">1.0 &lt;= x3</text>\n",
       "<text text-anchor=\"middle\" x=\"427\" y=\"-131.8\" font-family=\"Times,serif\" font-size=\"14.00\" fill=\"#000000\">1.0 &lt;= x1</text>\n",
       "<text text-anchor=\"middle\" x=\"427\" y=\"-100.8\" font-family=\"Times,serif\" font-size=\"14.00\" fill=\"#000000\">Objective Value: &#45;inf</text>\n",
       "<text text-anchor=\"middle\" x=\"427\" y=\"-85.8\" font-family=\"Times,serif\" font-size=\"14.00\" fill=\"#000000\">Solution: infeasible</text>\n",
       "</g>\n",
       "<!-- root &#45;&gt; left &#45;&gt; right &#45;&gt; left&#45;&gt;root &#45;&gt; left &#45;&gt; right &#45;&gt; left &#45;&gt; left -->\n",
       "<g id=\"edge7\" class=\"edge\">\n",
       "<title>root &#45;&gt; left &#45;&gt; right &#45;&gt; left&#45;&gt;root &#45;&gt; left &#45;&gt; right &#45;&gt; left &#45;&gt; left</title>\n",
       "<path fill=\"none\" stroke=\"#000000\" d=\"M358.8977,-317.7641C365.2406,-304.2345 371.8461,-290.1448 378.3397,-276.2937\"/>\n",
       "<polygon fill=\"#000000\" stroke=\"#000000\" points=\"381.5111,-277.7744 382.5869,-267.2343 375.173,-274.803 381.5111,-277.7744\"/>\n",
       "<text text-anchor=\"middle\" x=\"400.5\" y=\"-288.8\" font-family=\"Times,serif\" font-size=\"14.00\" fill=\"#000000\">1.0 &lt;= x1</text>\n",
       "</g>\n",
       "<!-- root &#45;&gt; left &#45;&gt; left &#45;&gt; right -->\n",
       "<g id=\"node10\" class=\"node\">\n",
       "<title>root &#45;&gt; left &#45;&gt; left &#45;&gt; right</title>\n",
       "<polygon fill=\"none\" stroke=\"#000000\" points=\"636,-492 436,-492 436,-318 636,-318 636,-492\"/>\n",
       "<text text-anchor=\"middle\" x=\"536\" y=\"-476.8\" font-family=\"Times,serif\" font-size=\"14.00\" fill=\"#000000\">max 8x1 + 11x2 + 6x3 + 4x4 </text>\n",
       "<text text-anchor=\"middle\" x=\"536\" y=\"-461.8\" font-family=\"Times,serif\" font-size=\"14.00\" fill=\"#000000\">subject to: </text>\n",
       "<text text-anchor=\"middle\" x=\"536\" y=\"-446.8\" font-family=\"Times,serif\" font-size=\"14.00\" fill=\"#000000\">[[ 6.7 10. &#160;&#160;5.5 &#160;3.4]] * x &lt;= [19.]</text>\n",
       "<text text-anchor=\"middle\" x=\"536\" y=\"-431.8\" font-family=\"Times,serif\" font-size=\"14.00\" fill=\"#000000\">0.0 &lt;= x</text>\n",
       "<text text-anchor=\"middle\" x=\"536\" y=\"-416.8\" font-family=\"Times,serif\" font-size=\"14.00\" fill=\"#000000\">x &lt;= 1.0</text>\n",
       "<text text-anchor=\"middle\" x=\"536\" y=\"-401.8\" font-family=\"Times,serif\" font-size=\"14.00\" fill=\"#000000\">1.0 &lt;= x2</text>\n",
       "<text text-anchor=\"middle\" x=\"536\" y=\"-386.8\" font-family=\"Times,serif\" font-size=\"14.00\" fill=\"#000000\">1.0 &lt;= x4</text>\n",
       "<text text-anchor=\"middle\" x=\"536\" y=\"-371.8\" font-family=\"Times,serif\" font-size=\"14.00\" fill=\"#000000\">x1 &lt;= 0.0</text>\n",
       "<text text-anchor=\"middle\" x=\"536\" y=\"-340.8\" font-family=\"Times,serif\" font-size=\"14.00\" fill=\"#000000\">Objective Value: 21.0</text>\n",
       "<text text-anchor=\"middle\" x=\"536\" y=\"-325.8\" font-family=\"Times,serif\" font-size=\"14.00\" fill=\"#000000\">Solution: [&#45;0.0, 1.0, 1.0, 1.0]</text>\n",
       "</g>\n",
       "<!-- root &#45;&gt; left &#45;&gt; left&#45;&gt;root &#45;&gt; left &#45;&gt; left &#45;&gt; right -->\n",
       "<g id=\"edge9\" class=\"edge\">\n",
       "<title>root &#45;&gt; left &#45;&gt; left&#45;&gt;root &#45;&gt; left &#45;&gt; left &#45;&gt; right</title>\n",
       "<path fill=\"none\" stroke=\"#000000\" d=\"M536,-542.7461C536,-529.6068 536,-515.8583 536,-502.3472\"/>\n",
       "<polygon fill=\"#000000\" stroke=\"#000000\" points=\"539.5001,-502.0754 536,-492.0754 532.5001,-502.0755 539.5001,-502.0754\"/>\n",
       "<text text-anchor=\"middle\" x=\"563.5\" y=\"-513.8\" font-family=\"Times,serif\" font-size=\"14.00\" fill=\"#000000\">x1 &lt;= 0.0</text>\n",
       "</g>\n",
       "<!-- root &#45;&gt; left &#45;&gt; left &#45;&gt; left -->\n",
       "<g id=\"node11\" class=\"node\">\n",
       "<title>root &#45;&gt; left &#45;&gt; left &#45;&gt; left</title>\n",
       "<polygon fill=\"none\" stroke=\"#000000\" points=\"854,-492 654,-492 654,-318 854,-318 854,-492\"/>\n",
       "<text text-anchor=\"middle\" x=\"754\" y=\"-476.8\" font-family=\"Times,serif\" font-size=\"14.00\" fill=\"#000000\">max 8x1 + 11x2 + 6x3 + 4x4 </text>\n",
       "<text text-anchor=\"middle\" x=\"754\" y=\"-461.8\" font-family=\"Times,serif\" font-size=\"14.00\" fill=\"#000000\">subject to: </text>\n",
       "<text text-anchor=\"middle\" x=\"754\" y=\"-446.8\" font-family=\"Times,serif\" font-size=\"14.00\" fill=\"#000000\">[[ 6.7 10. &#160;&#160;5.5 &#160;3.4]] * x &lt;= [19.]</text>\n",
       "<text text-anchor=\"middle\" x=\"754\" y=\"-431.8\" font-family=\"Times,serif\" font-size=\"14.00\" fill=\"#000000\">0.0 &lt;= x</text>\n",
       "<text text-anchor=\"middle\" x=\"754\" y=\"-416.8\" font-family=\"Times,serif\" font-size=\"14.00\" fill=\"#000000\">x &lt;= 1.0</text>\n",
       "<text text-anchor=\"middle\" x=\"754\" y=\"-401.8\" font-family=\"Times,serif\" font-size=\"14.00\" fill=\"#000000\">1.0 &lt;= x2</text>\n",
       "<text text-anchor=\"middle\" x=\"754\" y=\"-386.8\" font-family=\"Times,serif\" font-size=\"14.00\" fill=\"#000000\">1.0 &lt;= x4</text>\n",
       "<text text-anchor=\"middle\" x=\"754\" y=\"-371.8\" font-family=\"Times,serif\" font-size=\"14.00\" fill=\"#000000\">1.0 &lt;= x1</text>\n",
       "<text text-anchor=\"middle\" x=\"754\" y=\"-340.8\" font-family=\"Times,serif\" font-size=\"14.00\" fill=\"#000000\">Objective Value: &#45;inf</text>\n",
       "<text text-anchor=\"middle\" x=\"754\" y=\"-325.8\" font-family=\"Times,serif\" font-size=\"14.00\" fill=\"#000000\">Solution: infeasible</text>\n",
       "</g>\n",
       "<!-- root &#45;&gt; left &#45;&gt; left&#45;&gt;root &#45;&gt; left &#45;&gt; left &#45;&gt; left -->\n",
       "<g id=\"edge10\" class=\"edge\">\n",
       "<title>root &#45;&gt; left &#45;&gt; left&#45;&gt;root &#45;&gt; left &#45;&gt; left &#45;&gt; left</title>\n",
       "<path fill=\"none\" stroke=\"#000000\" d=\"M615.9373,-542.7461C630.1397,-528.5762 645.0522,-513.6979 659.6106,-499.1729\"/>\n",
       "<polygon fill=\"#000000\" stroke=\"#000000\" points=\"662.1172,-501.6161 666.7244,-492.0754 657.1731,-496.6607 662.1172,-501.6161\"/>\n",
       "<text text-anchor=\"middle\" x=\"672.5\" y=\"-513.8\" font-family=\"Times,serif\" font-size=\"14.00\" fill=\"#000000\">1.0 &lt;= x1</text>\n",
       "</g>\n",
       "</g>\n",
       "</svg>\n"
      ],
      "text/plain": [
       "<graphviz.dot.Digraph at 0x7ffaa3a60d90>"
      ]
     },
     "metadata": {},
     "output_type": "display_data"
    },
    {
     "name": "stdout",
     "output_type": "stream",
     "text": [
      "time: 452 ms\n"
     ]
    },
    {
     "data": {
      "application/javascript": [
       "\n",
       "            setTimeout(function() {\n",
       "                var nbb_cell_id = 5;\n",
       "                var nbb_unformatted_code = \"x = cp.Variable((4,), integer=False)\\nbranch_and_bound_ilp(\\n    x=x,\\n    constraints=[\\n        np.array([[6.7, 10, 5.5, 3.4]]) @ x <= np.array([19]),\\n        x >= 0,\\n        x <= 1,\\n    ],\\n    obj_coeff=np.array([8, 11, 6, 4]),\\n    problem_type=\\\"max\\\",\\n)\";\n",
       "                var nbb_formatted_code = \"x = cp.Variable((4,), integer=False)\\nbranch_and_bound_ilp(\\n    x=x,\\n    constraints=[\\n        np.array([[6.7, 10, 5.5, 3.4]]) @ x <= np.array([19]),\\n        x >= 0,\\n        x <= 1,\\n    ],\\n    obj_coeff=np.array([8, 11, 6, 4]),\\n    problem_type=\\\"max\\\",\\n)\";\n",
       "                var nbb_cells = Jupyter.notebook.get_cells();\n",
       "                for (var i = 0; i < nbb_cells.length; ++i) {\n",
       "                    if (nbb_cells[i].input_prompt_number == nbb_cell_id) {\n",
       "                        if (nbb_cells[i].get_text() == nbb_unformatted_code) {\n",
       "                             nbb_cells[i].set_text(nbb_formatted_code);\n",
       "                        }\n",
       "                        break;\n",
       "                    }\n",
       "                }\n",
       "            }, 500);\n",
       "            "
      ],
      "text/plain": [
       "<IPython.core.display.Javascript object>"
      ]
     },
     "metadata": {},
     "output_type": "display_data"
    }
   ],
   "source": [
    "x = cp.Variable((4,), integer=False)\n",
    "branch_and_bound_ilp(\n",
    "    x=x,\n",
    "    constraints=[\n",
    "        np.array([[6.7, 10, 5.5, 3.4]]) @ x <= np.array([19]),\n",
    "        x >= 0,\n",
    "        x <= 1,\n",
    "    ],\n",
    "    obj_coeff=np.array([8, 11, 6, 4]),\n",
    "    problem_type=\"max\",\n",
    ")"
   ]
  },
  {
   "cell_type": "code",
   "execution_count": 6,
   "metadata": {},
   "outputs": [
    {
     "name": "stdout",
     "output_type": "stream",
     "text": [
      "Integer Linear Programming Solution\n",
      "==============================\n",
      "Status: optimal\n",
      "The optimal value is: 21.0\n",
      "The optimal solution is: x = [0.0, 1.0, 1.0, 1.0]\n",
      "time: 9.82 ms\n"
     ]
    },
    {
     "data": {
      "application/javascript": [
       "\n",
       "            setTimeout(function() {\n",
       "                var nbb_cell_id = 6;\n",
       "                var nbb_unformatted_code = \"# Sanity Check\\nx = cp.Variable((4,), integer=True)\\nconstraints = [\\n    np.array([[6.7, 10, 5.5, 3.4]]) @ x <= np.array([19]),\\n    x >= 0,\\n    x <= 1,\\n]\\nobj = cp.Maximize(np.array([8, 11, 6, 4]) @ x)\\nprob = cp.Problem(obj, constraints)\\nprob.solve()\\n\\nprint(\\\"Integer Linear Programming Solution\\\")\\nprint(\\\"=\\\" * 30)\\nprint(f\\\"Status: {prob.status}\\\")\\nprint(f\\\"The optimal value is: {np.round(prob.value, 2)}\\\")\\nprint(f\\\"The optimal solution is: x = {[np.round(x_i, 2) for x_i in x.value]}\\\")\";\n",
       "                var nbb_formatted_code = \"# Sanity Check\\nx = cp.Variable((4,), integer=True)\\nconstraints = [\\n    np.array([[6.7, 10, 5.5, 3.4]]) @ x <= np.array([19]),\\n    x >= 0,\\n    x <= 1,\\n]\\nobj = cp.Maximize(np.array([8, 11, 6, 4]) @ x)\\nprob = cp.Problem(obj, constraints)\\nprob.solve()\\n\\nprint(\\\"Integer Linear Programming Solution\\\")\\nprint(\\\"=\\\" * 30)\\nprint(f\\\"Status: {prob.status}\\\")\\nprint(f\\\"The optimal value is: {np.round(prob.value, 2)}\\\")\\nprint(f\\\"The optimal solution is: x = {[np.round(x_i, 2) for x_i in x.value]}\\\")\";\n",
       "                var nbb_cells = Jupyter.notebook.get_cells();\n",
       "                for (var i = 0; i < nbb_cells.length; ++i) {\n",
       "                    if (nbb_cells[i].input_prompt_number == nbb_cell_id) {\n",
       "                        if (nbb_cells[i].get_text() == nbb_unformatted_code) {\n",
       "                             nbb_cells[i].set_text(nbb_formatted_code);\n",
       "                        }\n",
       "                        break;\n",
       "                    }\n",
       "                }\n",
       "            }, 500);\n",
       "            "
      ],
      "text/plain": [
       "<IPython.core.display.Javascript object>"
      ]
     },
     "metadata": {},
     "output_type": "display_data"
    }
   ],
   "source": [
    "# Sanity Check\n",
    "x = cp.Variable((4,), integer=True)\n",
    "constraints = [\n",
    "    np.array([[6.7, 10, 5.5, 3.4]]) @ x <= np.array([19]),\n",
    "    x >= 0,\n",
    "    x <= 1,\n",
    "]\n",
    "obj = cp.Maximize(np.array([8, 11, 6, 4]) @ x)\n",
    "prob = cp.Problem(obj, constraints)\n",
    "prob.solve()\n",
    "\n",
    "print(\"Integer Linear Programming Solution\")\n",
    "print(\"=\" * 30)\n",
    "print(f\"Status: {prob.status}\")\n",
    "print(f\"The optimal value is: {np.round(prob.value, 2)}\")\n",
    "print(f\"The optimal solution is: x = {[np.round(x_i, 2) for x_i in x.value]}\")"
   ]
  }
 ],
 "metadata": {
  "kernelspec": {
   "display_name": "Python 3",
   "language": "python",
   "name": "python3"
  },
  "language_info": {
   "codemirror_mode": {
    "name": "ipython",
    "version": 3
   },
   "file_extension": ".py",
   "mimetype": "text/x-python",
   "name": "python",
   "nbconvert_exporter": "python",
   "pygments_lexer": "ipython3",
   "version": "3.8.5"
  },
  "latex_envs": {
   "LaTeX_envs_menu_present": true,
   "autoclose": false,
   "autocomplete": true,
   "bibliofile": "biblio.bib",
   "cite_by": "apalike",
   "current_citInitial": 1,
   "eqLabelWithNumbers": true,
   "eqNumInitial": 1,
   "hotkeys": {
    "equation": "Ctrl-E",
    "itemize": "Ctrl-I"
   },
   "labels_anchors": false,
   "latex_user_defs": false,
   "report_style_numbering": false,
   "user_envs_cfg": false
  }
 },
 "nbformat": 4,
 "nbformat_minor": 4
}
