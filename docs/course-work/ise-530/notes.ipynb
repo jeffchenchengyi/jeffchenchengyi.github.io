{
 "cells": [
  {
   "cell_type": "markdown",
   "metadata": {},
   "source": [
    "# Summary\n",
    "\n",
    "By: Chengyi (Jeff) Chen"
   ]
  },
  {
   "cell_type": "code",
   "execution_count": 1,
   "metadata": {},
   "outputs": [
    {
     "data": {
      "application/javascript": [
       "\n",
       "            setTimeout(function() {\n",
       "                var nbb_cell_id = 1;\n",
       "                var nbb_unformatted_code = \"%load_ext autotime\\n%load_ext nb_black\\n%matplotlib inline\\n\\nimport matplotlib.pyplot as plt\\nfrom mpl_toolkits.mplot3d import Axes3D\\n\\n# plt.rcParams[\\\"figure.dpi\\\"] = 300\\n# plt.rcParams[\\\"figure.figsize\\\"] = (16, 12)\\n\\nimport operator\\nimport pandas as pd\\nimport numpy as np\\nimport cvxpy as cp\\nimport scipy as sp\\nfrom scipy import optimize\\nimport functools\\nfrom graphviz import Digraph\\nimport dot2tex\\nfrom IPython.display import Latex\\nfrom sympy import *\\nimport re\";\n",
       "                var nbb_formatted_code = \"%load_ext autotime\\n%load_ext nb_black\\n%matplotlib inline\\n\\nimport matplotlib.pyplot as plt\\nfrom mpl_toolkits.mplot3d import Axes3D\\n\\n# plt.rcParams[\\\"figure.dpi\\\"] = 300\\n# plt.rcParams[\\\"figure.figsize\\\"] = (16, 12)\\n\\nimport operator\\nimport pandas as pd\\nimport numpy as np\\nimport cvxpy as cp\\nimport scipy as sp\\nfrom scipy import optimize\\nimport functools\\nfrom graphviz import Digraph\\nimport dot2tex\\nfrom IPython.display import Latex\\nfrom sympy import *\\nimport re\";\n",
       "                var nbb_cells = Jupyter.notebook.get_cells();\n",
       "                for (var i = 0; i < nbb_cells.length; ++i) {\n",
       "                    if (nbb_cells[i].input_prompt_number == nbb_cell_id) {\n",
       "                        if (nbb_cells[i].get_text() == nbb_unformatted_code) {\n",
       "                             nbb_cells[i].set_text(nbb_formatted_code);\n",
       "                        }\n",
       "                        break;\n",
       "                    }\n",
       "                }\n",
       "            }, 500);\n",
       "            "
      ],
      "text/plain": [
       "<IPython.core.display.Javascript object>"
      ]
     },
     "metadata": {},
     "output_type": "display_data"
    }
   ],
   "source": [
    "%load_ext autotime\n",
    "%load_ext nb_black\n",
    "%matplotlib inline\n",
    "\n",
    "import matplotlib.pyplot as plt\n",
    "from mpl_toolkits.mplot3d import Axes3D\n",
    "\n",
    "# plt.rcParams[\"figure.dpi\"] = 300\n",
    "# plt.rcParams[\"figure.figsize\"] = (16, 12)\n",
    "\n",
    "import operator\n",
    "import pandas as pd\n",
    "import numpy as np\n",
    "import cvxpy as cp\n",
    "import scipy as sp\n",
    "from scipy import optimize\n",
    "import functools\n",
    "from graphviz import Digraph\n",
    "import dot2tex\n",
    "from IPython.display import Latex\n",
    "from sympy import *\n",
    "import re"
   ]
  },
  {
   "cell_type": "markdown",
   "metadata": {},
   "source": [
    "---\n",
    "## Linear Programming"
   ]
  },
  {
   "cell_type": "code",
   "execution_count": null,
   "metadata": {},
   "outputs": [],
   "source": [
    "# Create one vector optimization variable.\n",
    "x = cp.Variable((2,), integer=False)\n",
    "\n",
    "# Create constraints.\n",
    "constraints = [\n",
    "    np.array([[1, 1], [-1, 1]]) @ x <= np.array([2, 2]),\n",
    "    x >= 0,\n",
    "]\n",
    "\n",
    "# Form objective.\n",
    "obj = cp.Minimize(np.array([-1, -1]) @ x)\n",
    "\n",
    "# Form and solve problem.\n",
    "prob = cp.Problem(obj, constraints)\n",
    "prob.solve()\n",
    "\n",
    "print(\"Linear Programming Solution\")\n",
    "print(\"=\" * 30)\n",
    "print(f\"Status: {prob.status}\")\n",
    "print(f\"The optimal value is: {np.round(prob.value, 2)}\")\n",
    "print(f\"The optimal solution is: x = {[np.round(x_i, 2) for x_i in x.value]}\")"
   ]
  },
  {
   "cell_type": "markdown",
   "metadata": {},
   "source": [
    "#### Optimality Conditions"
   ]
  },
  {
   "cell_type": "markdown",
   "metadata": {},
   "source": [
    "In the Optimal Solution $\\bar{x}$:\n",
    "- Basic variables should be $> 0$ (unless it is a degenerate LP solution, in which there will also be basic variables $= 0$), while the non-basic variables $= 0$.\n",
    "- The reduced cost coefficients $z_B - c_B = c^\\top_B B^{-1}B - c_B = 0$ of the basic variables will be 0, while the reduced cost coefficients $z_N - c_N = c^\\top_B B^{-1}N - c_N$ of the non-basic variables will be $\\leq 0$ for a minimization problem and $\\geq 0$ for a maximization problem."
   ]
  },
  {
   "cell_type": "code",
   "execution_count": 2,
   "metadata": {},
   "outputs": [
    {
     "name": "stdout",
     "output_type": "stream",
     "text": [
      "time: 636 µs\n"
     ]
    },
    {
     "data": {
      "application/javascript": [
       "\n",
       "            setTimeout(function() {\n",
       "                var nbb_cell_id = 2;\n",
       "                var nbb_unformatted_code = \"reduced_cost_coefficients = lambda c_B, B, N, c_N:  c_B.T @ (np.linalg.inv(B) @ N) - c_N\";\n",
       "                var nbb_formatted_code = \"reduced_cost_coefficients = lambda c_B, B, N, c_N: c_B.T @ (np.linalg.inv(B) @ N) - c_N\";\n",
       "                var nbb_cells = Jupyter.notebook.get_cells();\n",
       "                for (var i = 0; i < nbb_cells.length; ++i) {\n",
       "                    if (nbb_cells[i].input_prompt_number == nbb_cell_id) {\n",
       "                        if (nbb_cells[i].get_text() == nbb_unformatted_code) {\n",
       "                             nbb_cells[i].set_text(nbb_formatted_code);\n",
       "                        }\n",
       "                        break;\n",
       "                    }\n",
       "                }\n",
       "            }, 500);\n",
       "            "
      ],
      "text/plain": [
       "<IPython.core.display.Javascript object>"
      ]
     },
     "metadata": {},
     "output_type": "display_data"
    }
   ],
   "source": [
    "reduced_cost_coefficients = lambda c_B, B, N, c_N: c_B.T @ (np.linalg.inv(B) @ N) - c_N\n",
    "\n",
    "def optimal(c_B, B, N, c_N, problem_type=\"min\"):\n",
    "    assert problem_type == \"min\" or problem_type == \"max\", print(\"problem_type must be either 'min' or 'max'.\")\n",
    "    return np.alltrue(reduced_cost_coefficients(c_B, B, N, c_N) <= 0) if problem_type == \"min\" else np.alltrue(reduced_cost_coefficients(c_B, B, N, c_N) >= 0)"
   ]
  },
  {
   "cell_type": "markdown",
   "metadata": {},
   "source": [
    "### Graphical Method\n",
    "\n",
    "- What is an extreme point: if a linear programming problem in standard form has an optimal solution, then it has an optimal extreme point solution. (*Note that this theorem does not say that every optimal solution of a linear program is an extreme point.*)"
   ]
  },
  {
   "cell_type": "code",
   "execution_count": null,
   "metadata": {},
   "outputs": [],
   "source": [
    "# Construct lines\n",
    "x_1 = np.linspace(0, 20, 2000)  # x_1 >= 0\n",
    "x_2_1 = lambda x_1: -x_1 + 2  # constraint 1: 𝑥1 + 𝑥2 ≥ 2\n",
    "x_2_2 = lambda x_1: x_1 + 2  # constraint 2: −𝑥1 + 𝑥2 ≤ 2\n",
    "\n",
    "# Make plot\n",
    "plt.plot(x_1, x_2_1(x_1), label=r\"$x_1 + x_2 \\geq 2$\")\n",
    "plt.plot(x_1, x_2_2(x_1), label=r\"$-x_1 + x_2 \\leq 2$\")\n",
    "plt.xlim((0, 10))\n",
    "plt.ylim((0, 10))\n",
    "plt.xlabel(r\"$x_1$\")\n",
    "plt.ylabel(r\"$x_2$\")\n",
    "\n",
    "# Fill feasible region\n",
    "y = x_2_2(x_1)\n",
    "x = np.maximum(x_2_1(x_1), np.zeros(len(x_1)))\n",
    "plt.fill_between(x_1, x, y, where=y > x, color=\"grey\", alpha=0.5)\n",
    "plt.grid(True)\n",
    "plt.legend(bbox_to_anchor=(1.05, 1), loc=2, borderaxespad=0.0)\n",
    "plt.show()"
   ]
  },
  {
   "cell_type": "markdown",
   "metadata": {},
   "source": [
    "### Revised Simplex Method"
   ]
  },
  {
   "cell_type": "markdown",
   "metadata": {},
   "source": [
    "This is just basically the simplex method without all the other updating tableau stuff"
   ]
  },
  {
   "cell_type": "markdown",
   "metadata": {},
   "source": [
    "1. Test for Optimality\n",
    "    1. Find Pricing Vector $y = c_B B^{-1}$\n",
    "    2. Compute $z_j = c_B B^{-1}N$\n",
    "    3. Find non-basic index $j$ such that $z_N - c_N = \\text{max}_{j\\in N}{\\{z_j - c_j\\}}$. If $z_j - c_j \\leq 0$, stop, current BFS is optimal\n",
    "2. Min. Ratio Test\n",
    "    1. Find $\\bar{A}_{\\bullet s} = B^{-1}A_{\\bullet s}$\n",
    "    2. If $\\bar{a}_{is} \\leq 0$ for all $i$, stop. The objective is unbounded below. Otherwise, find an index $r$ such that $\\bar{a}_{is} > 0$ and $\\frac{\\bar{b}_r}{\\bar{a}_{rs}} = \\text{min}\\Big\\{\\frac{\\bar{b}_i}{\\bar{a}_{is}}: \\bar{a}_{is} > 0 \\Big\\}$\n",
    "3. Update new basis, $A_{\\bullet {j_r}}$ replaces $B_{\\bullet {j_r}}$"
   ]
  },
  {
   "cell_type": "markdown",
   "metadata": {},
   "source": [
    "### Duality"
   ]
  },
  {
   "cell_type": "markdown",
   "metadata": {},
   "source": [
    "- Reduced cost coefficients corresponding to the primal slack variables are the values of the dual variables of optimal dual solution."
   ]
  },
  {
   "cell_type": "code",
   "execution_count": null,
   "metadata": {},
   "outputs": [],
   "source": [
    "primal_feasible = lambda B, b: np.alltrue(np.linalg.inv(B) @ b >= 0)\n",
    "dual_feasible = lambda "
   ]
  },
  {
   "cell_type": "code",
   "execution_count": null,
   "metadata": {},
   "outputs": [],
   "source": [
    "# Optimal Dual from Optimal Basis and RHS of constraints \n",
    "y = lambda B, c_B: c_B @ np.linalg.inv(B)"
   ]
  },
  {
   "cell_type": "markdown",
   "metadata": {},
   "source": [
    "### Dual Simplex\n",
    "\n",
    "- Start off just like normal simplex with slack vars in the tableau, but with primal optimality ($c^\\top_B B^{-1}N - c_N \\leq / \\geq 0$ for min / max problem) and primal **infeasibility** ($B^{-1}b \\leq 0$).\n",
    "- Choose most negative row of $B^{-1}b$ as leaving variable\n",
    "- Choose all the elements in that row with negative values\n",
    "- Choose entering variable as column with max of reduced cost coefficients / |row with negative values|\n",
    "- Pivotting operations and repeat until primal feasibility and primal optimality is achieved."
   ]
  },
  {
   "cell_type": "markdown",
   "metadata": {},
   "source": [
    "### Recovery of Final Simplex Tableau if Optimal Feasible Basis $B$ is known"
   ]
  },
  {
   "cell_type": "markdown",
   "metadata": {},
   "source": [
    "Basic Row values: Identity Matrix"
   ]
  },
  {
   "cell_type": "markdown",
   "metadata": {},
   "source": [
    "Non-basic Row values: $B^{-1}N$"
   ]
  },
  {
   "cell_type": "markdown",
   "metadata": {},
   "source": [
    "Objective Value: $c_B B^{-1}b$"
   ]
  },
  {
   "cell_type": "markdown",
   "metadata": {},
   "source": [
    "RHS Values: $B^{-1}b$"
   ]
  },
  {
   "cell_type": "markdown",
   "metadata": {},
   "source": [
    "Negative Reduced Cost Coefficients for Non-basic Variables: ${c_B}^\\top B^{-1} N - c_N$"
   ]
  },
  {
   "cell_type": "markdown",
   "metadata": {},
   "source": [
    "Negative Reduced Cost Coefficients for Basic Variables: 0"
   ]
  },
  {
   "cell_type": "markdown",
   "metadata": {},
   "source": [
    "### Parametric Linear Programming"
   ]
  },
  {
   "cell_type": "markdown",
   "metadata": {},
   "source": [
    "#### Parametric Objective Function \n",
    "\n",
    "\\begin{align}\n",
    "    \\text{minimize } &(c + \\lambda d)^\\top x \\\\\n",
    "    \\text{subject to } &Ax = b \\\\\n",
    "    &x \\geq 0 \\\\\n",
    "\\end{align}"
   ]
  },
  {
   "cell_type": "markdown",
   "metadata": {},
   "source": [
    "- If a basis is to remain optimal after adding the $\\lambda$ to the coefficients, it must satisfy the optimality conditions of reduced cost coefficients $\\leq 0$ / $\\geq 0$ for min / max problem.\n",
    "- If basis isn't optimal anymore, find a new basis by making the entering variable the one with reduced cost coefficient causing the most problem and leaving by min ratio test $\\min(\\frac{\\bar{b}_{\\text{row idx}}}{a_{\\text{row idx}\\text{col idx of entering variable}}})$"
   ]
  },
  {
   "cell_type": "markdown",
   "metadata": {},
   "source": [
    "### Sensitivity Analysis"
   ]
  },
  {
   "cell_type": "code",
   "execution_count": null,
   "metadata": {},
   "outputs": [],
   "source": [
    "def c_range(A, c, basic_var_idxs, problem_type=\"min\"):\n",
    "    assert problem_type == \"min\" or problem_type == \"max\", print(\n",
    "        \"problem_type must be either 'min' or 'max'.\"\n",
    "    )\n",
    "    nonbasic_var_idxs = [idx for idx in range(len(c)) if idx not in basic_var_idxs]\n",
    "    B, N = A[:, basic_var_idxs], A[:, nonbasic_var_idxs]\n",
    "    B_inv = np.linalg.inv(B)\n",
    "    for idx in range(len(c)):\n",
    "        if idx in basic_var_idxs:\n",
    "            RHS_basic_var_cost_coeffs = -(B_inv @ N)[list(basic_var_idxs).index(idx), :]\n",
    "            LHS = (\n",
    "                c[\n",
    "                    [\n",
    "                        basic_var_idx\n",
    "                        for basic_var_idx in basic_var_idxs\n",
    "                        if basic_var_idx != idx\n",
    "                    ]\n",
    "                ].T\n",
    "                @ (B_inv @ N)[\n",
    "                    [\n",
    "                        i\n",
    "                        for i in range(len(basic_var_idxs))\n",
    "                        if i != list(basic_var_idxs).index(idx)\n",
    "                    ],\n",
    "                    :,\n",
    "                ]\n",
    "                - c[nonbasic_var_idxs]\n",
    "            )\n",
    "            c_lb_RHS_basic_var_cost_coeffs_idxs = np.argwhere(\n",
    "                np.array(RHS_basic_var_cost_coeffs) > 0\n",
    "            ).flatten()\n",
    "            c_ub_RHS_basic_var_cost_coeffs_idxs = np.argwhere(\n",
    "                np.array(RHS_basic_var_cost_coeffs) < 0\n",
    "            ).flatten()\n",
    "            c_lb_candidates = (\n",
    "                (\n",
    "                    LHS[c_lb_RHS_basic_var_cost_coeffs_idxs]\n",
    "                    / RHS_basic_var_cost_coeffs[c_lb_RHS_basic_var_cost_coeffs_idxs]\n",
    "                )\n",
    "                if len(c_lb_RHS_basic_var_cost_coeffs_idxs) > 0\n",
    "                else []\n",
    "            )\n",
    "            c_ub_candidates = (\n",
    "                (\n",
    "                    LHS[c_ub_RHS_basic_var_cost_coeffs_idxs]\n",
    "                    / RHS_basic_var_cost_coeffs[c_ub_RHS_basic_var_cost_coeffs_idxs]\n",
    "                )\n",
    "                if len(c_ub_RHS_basic_var_cost_coeffs_idxs) > 0\n",
    "                else []\n",
    "            )\n",
    "            c_lb = max(c_lb_candidates) if len(c_lb_candidates) > 0 else -np.inf\n",
    "            c_ub = min(c_ub_candidates) if len(c_ub_candidates) > 0 else np.inf\n",
    "            print(f\"{c_lb} <= c_{idx+1} <= {c_ub}\")\n",
    "        else:\n",
    "            print(\n",
    "                f\"c_{idx+1} >= {c[basic_var_idxs].T @ (B_inv @ N)[:, list(nonbasic_var_idxs).index(idx)]}\"\n",
    "            )"
   ]
  },
  {
   "cell_type": "markdown",
   "metadata": {},
   "source": [
    "#### 4. Changes in RHS of Primal Constraints $b$ in $Ax = b$"
   ]
  },
  {
   "cell_type": "markdown",
   "metadata": {},
   "source": [
    "- Check that $B^{-1}b + B^{-1}\\delta \\geq 0$ for all the primal constraints.\n",
    "- Note that changing $b$ does not affect optimality since optimality depends on the reduced cost coefficients $z_N - c_N = c^\\top_B B^{-1}N - c_N$"
   ]
  },
  {
   "cell_type": "code",
   "execution_count": null,
   "metadata": {},
   "outputs": [],
   "source": [
    "def δb_range(B, b):\n",
    "    B_inv = np.linalg.inv(B)\n",
    "    b_bar = B_inv @ b\n",
    "    for row_idx in range(B_inv.shape[0]):\n",
    "        δ_candidates = -b_bar / B_inv[:, row_idx]\n",
    "        δ_ub, δ_lb = (\n",
    "            min(δ_candidates[np.sign(B_inv[:, row_idx]) < 0]) if len(δ_candidates[np.sign(B_inv[:, row_idx]) < 0]) > 0 else np.inf,\n",
    "            max(δ_candidates[np.sign(B_inv[:, row_idx]) > 0]) if len(δ_candidates[np.sign(B_inv[:, row_idx]) > 0]) > 0 else -np.inf,\n",
    "        )\n",
    "        if np.allclose(δ_ub, 0):\n",
    "            δ_ub = 0\n",
    "        if np.allclose(δ_lb, 0):\n",
    "            δ_lb = 0\n",
    "        if δ_ub == 0 and δ_lb == 0:\n",
    "            print(f\"δ_{row_idx+1} cannot be perturbed.\")\n",
    "        else:\n",
    "            print(f\"{δ_lb} <= δ_{row_idx+1} <= {δ_ub}.\")\n",
    "\n",
    "        # Feasibility Checks\n",
    "        assert np.alltrue(δ_lb * np.linalg.inv(B)[:, row_idx] >= -b_bar), print(\n",
    "            \"δ_lb\", δ_lb * np.linalg.inv(B)[:, row_idx], -b_bar\n",
    "        )\n",
    "        assert np.alltrue(δ_ub * np.linalg.inv(B)[:, row_idx] >= -b_bar), print(\n",
    "            \"δ_ub\", δ_ub * np.linalg.inv(B)[:, row_idx], -b_bar\n",
    "        )"
   ]
  },
  {
   "cell_type": "markdown",
   "metadata": {},
   "source": [
    "---\n",
    "## Unconstrained Optimization"
   ]
  },
  {
   "cell_type": "markdown",
   "metadata": {},
   "source": [
    "### Root-Finding Methods"
   ]
  },
  {
   "cell_type": "markdown",
   "metadata": {},
   "source": [
    "#### Bisection Method"
   ]
  },
  {
   "cell_type": "code",
   "execution_count": 3,
   "metadata": {},
   "outputs": [
    {
     "name": "stdout",
     "output_type": "stream",
     "text": [
      "time: 2.25 ms\n"
     ]
    },
    {
     "data": {
      "application/javascript": [
       "\n",
       "            setTimeout(function() {\n",
       "                var nbb_cell_id = 3;\n",
       "                var nbb_unformatted_code = \"def bisection_root_finding(f, interval=[2, 6], \\u03b4=1e-05):\\n    assert (len(interval) == 2) & (\\n        interval[1] > interval[0]\\n    ), \\\"interval must only have 2 values and b > a.\\\"\\n    root_candidate = np.mean(interval)\\n    while True:\\n        # 1. If |b\\u2212a| \\u2264 \\u03b4 or f(c)=0, stop and report the zero as x\\u2217=c.\\n        if np.allclose(np.abs(interval[1] - interval[0]), 0, rtol=\\u03b4) or np.allclose(\\n            f(root_candidate), 0, rtol=1e-5\\n        ):\\n            return root_candidate\\n\\n        # 2. If f(a)f(c)>0, let a\\u2190c else let b\\u2190c to create a new interval.\\n        print(\\n            f\\\"x = ({np.round(interval, 5)}/2) = {np.round(root_candidate, 5)}\\\",\\n            f\\\"g(x) = {np.round(f(root_candidate), 5)}\\\",\\n        )\\n        if np.prod(np.sign([f(root_candidate), f(interval[1])])) < 0:\\n            interval = [root_candidate, interval[1]]\\n        else:\\n            interval = [interval[0], root_candidate]\\n\\n        # 3. Find the midpoint c of the new interval and evaluate f(c).\\n        root_candidate = np.mean(interval)\\n\\n    return root_candidate\";\n",
       "                var nbb_formatted_code = \"def bisection_root_finding(f, interval=[2, 6], \\u03b4=1e-05):\\n    assert (len(interval) == 2) & (\\n        interval[1] > interval[0]\\n    ), \\\"interval must only have 2 values and b > a.\\\"\\n    root_candidate = np.mean(interval)\\n    while True:\\n        # 1. If |b\\u2212a| \\u2264 \\u03b4 or f(c)=0, stop and report the zero as x\\u2217=c.\\n        if np.allclose(np.abs(interval[1] - interval[0]), 0, rtol=\\u03b4) or np.allclose(\\n            f(root_candidate), 0, rtol=1e-5\\n        ):\\n            return root_candidate\\n\\n        # 2. If f(a)f(c)>0, let a\\u2190c else let b\\u2190c to create a new interval.\\n        print(\\n            f\\\"x = ({np.round(interval, 5)}/2) = {np.round(root_candidate, 5)}\\\",\\n            f\\\"g(x) = {np.round(f(root_candidate), 5)}\\\",\\n        )\\n        if np.prod(np.sign([f(root_candidate), f(interval[1])])) < 0:\\n            interval = [root_candidate, interval[1]]\\n        else:\\n            interval = [interval[0], root_candidate]\\n\\n        # 3. Find the midpoint c of the new interval and evaluate f(c).\\n        root_candidate = np.mean(interval)\\n\\n    return root_candidate\";\n",
       "                var nbb_cells = Jupyter.notebook.get_cells();\n",
       "                for (var i = 0; i < nbb_cells.length; ++i) {\n",
       "                    if (nbb_cells[i].input_prompt_number == nbb_cell_id) {\n",
       "                        if (nbb_cells[i].get_text() == nbb_unformatted_code) {\n",
       "                             nbb_cells[i].set_text(nbb_formatted_code);\n",
       "                        }\n",
       "                        break;\n",
       "                    }\n",
       "                }\n",
       "            }, 500);\n",
       "            "
      ],
      "text/plain": [
       "<IPython.core.display.Javascript object>"
      ]
     },
     "metadata": {},
     "output_type": "display_data"
    }
   ],
   "source": [
    "def bisection_root_finding(f, interval=[2, 6], δ=1e-05):\n",
    "    assert (len(interval) == 2) & (\n",
    "        interval[1] > interval[0]\n",
    "    ), \"interval must only have 2 values and b > a.\"\n",
    "    root_candidate = np.mean(interval)\n",
    "    while True:\n",
    "        # 1. If |b−a| ≤ δ or f(c)=0, stop and report the zero as x∗=c.\n",
    "        if np.allclose(np.abs(interval[1] - interval[0]), 0, rtol=δ) or np.allclose(\n",
    "            f(root_candidate), 0, rtol=1e-5\n",
    "        ):\n",
    "            return root_candidate\n",
    "\n",
    "        # 2. If f(a)f(c)>0, let a←c else let b←c to create a new interval.\n",
    "        print(\n",
    "            f\"x = ({np.round(interval, 5)}/2) = {np.round(root_candidate, 5)}\",\n",
    "            f\"g(x) = {np.round(f(root_candidate), 5)}\",\n",
    "        )\n",
    "        if np.prod(np.sign([f(root_candidate), f(interval[1])])) < 0:\n",
    "            interval = [root_candidate, interval[1]]\n",
    "        else:\n",
    "            interval = [interval[0], root_candidate]\n",
    "\n",
    "        # 3. Find the midpoint c of the new interval and evaluate f(c).\n",
    "        root_candidate = np.mean(interval)\n",
    "\n",
    "    return root_candidate"
   ]
  },
  {
   "cell_type": "markdown",
   "metadata": {},
   "source": [
    "#### Newton's Method"
   ]
  },
  {
   "cell_type": "code",
   "execution_count": 5,
   "metadata": {},
   "outputs": [
    {
     "name": "stdout",
     "output_type": "stream",
     "text": [
      "time: 1.18 ms\n"
     ]
    },
    {
     "data": {
      "application/javascript": [
       "\n",
       "            setTimeout(function() {\n",
       "                var nbb_cell_id = 5;\n",
       "                var nbb_unformatted_code = \"def newton_raphson_root_finding(f, f_prime, x_0, \\u03b4=1e-05):\\n    x_k = x_0  # x_k\\n    while True:\\n        print(f\\\"New root candidate: {x_k}\\\")\\n        # 1. If |f(xk)| \\u2264 \\u03b4, stop and report a zero of f as x\\u2217 = xk.\\n        if np.allclose(f(x_k), 0, rtol=\\u03b4):\\n            return x_k\\n\\n        # 2. Determine pk = \\u2212f(xk)/f\\u2032(xk)\\n        p_k = -f(x_k) / f_prime(x_k)\\n\\n        # 3. Set the steplength \\u03b1k = 1.\\n        \\u03b1_k = 1\\n\\n        # 4. Let xk+1 = xk + \\u03b1kpk = xk \\u2212 f(xk)/f\\u2032(xk), and compute f(xk+1).\\n        x_k += \\u03b1_k * p_k\\n\\n        # 5. Let k\\u2190k+1 and return to Step 1.\\n\\n    return x_k\";\n",
       "                var nbb_formatted_code = \"def newton_raphson_root_finding(f, f_prime, x_0, \\u03b4=1e-05):\\n    x_k = x_0  # x_k\\n    while True:\\n        print(f\\\"New root candidate: {x_k}\\\")\\n        # 1. If |f(xk)| \\u2264 \\u03b4, stop and report a zero of f as x\\u2217 = xk.\\n        if np.allclose(f(x_k), 0, rtol=\\u03b4):\\n            return x_k\\n\\n        # 2. Determine pk = \\u2212f(xk)/f\\u2032(xk)\\n        p_k = -f(x_k) / f_prime(x_k)\\n\\n        # 3. Set the steplength \\u03b1k = 1.\\n        \\u03b1_k = 1\\n\\n        # 4. Let xk+1 = xk + \\u03b1kpk = xk \\u2212 f(xk)/f\\u2032(xk), and compute f(xk+1).\\n        x_k += \\u03b1_k * p_k\\n\\n        # 5. Let k\\u2190k+1 and return to Step 1.\\n\\n    return x_k\";\n",
       "                var nbb_cells = Jupyter.notebook.get_cells();\n",
       "                for (var i = 0; i < nbb_cells.length; ++i) {\n",
       "                    if (nbb_cells[i].input_prompt_number == nbb_cell_id) {\n",
       "                        if (nbb_cells[i].get_text() == nbb_unformatted_code) {\n",
       "                             nbb_cells[i].set_text(nbb_formatted_code);\n",
       "                        }\n",
       "                        break;\n",
       "                    }\n",
       "                }\n",
       "            }, 500);\n",
       "            "
      ],
      "text/plain": [
       "<IPython.core.display.Javascript object>"
      ]
     },
     "metadata": {},
     "output_type": "display_data"
    }
   ],
   "source": [
    "def newton_raphson_root_finding(f, f_prime, x_0, δ=1e-05):\n",
    "    x_k = x_0  # x_k\n",
    "    while True:\n",
    "        print(f\"New root candidate: {x_k}\")\n",
    "        # 1. If |f(xk)| ≤ δ, stop and report a zero of f as x∗ = xk.\n",
    "        if np.allclose(f(x_k), 0, rtol=δ):\n",
    "            return x_k\n",
    "\n",
    "        # 2. Determine pk = −f(xk)/f′(xk)\n",
    "        p_k = -f(x_k) / f_prime(x_k)\n",
    "\n",
    "        # 3. Set the steplength αk = 1.\n",
    "        α_k = 1\n",
    "\n",
    "        # 4. Let xk+1 = xk + αkpk = xk − f(xk)/f′(xk), and compute f(xk+1).\n",
    "        x_k += α_k * p_k\n",
    "\n",
    "        # 5. Let k←k+1 and return to Step 1.\n",
    "\n",
    "    return x_k"
   ]
  },
  {
   "cell_type": "markdown",
   "metadata": {},
   "source": [
    "#### Secant Method"
   ]
  },
  {
   "cell_type": "code",
   "execution_count": 7,
   "metadata": {},
   "outputs": [
    {
     "name": "stdout",
     "output_type": "stream",
     "text": [
      "time: 1.48 ms\n"
     ]
    },
    {
     "data": {
      "application/javascript": [
       "\n",
       "            setTimeout(function() {\n",
       "                var nbb_cell_id = 7;\n",
       "                var nbb_unformatted_code = \"def secant_root_finding(f, x_0, x_1, \\u03b4=1e-05):\\n    x_k, x_k_1 = x_1, x_0  # x_k, x_k-1\\n    while True:\\n        print(f\\\"New root candidate: {x_k}\\\")\\n        # 1. If |f(xk)| \\u2264 \\u03b4, stop and report a zero of f as x\\u2217 = xk.\\n        if np.allclose(f(x_k), 0, rtol=\\u03b4):\\n            return x_k\\n\\n        # 2. Determine pk = \\u2212f(xk) [(xk \\u2212 xk\\u22121) / (f(xk) \\u2212 f(xk\\u22121))].\\n        p_k = -f(x_k) * ((x_k - x_k_1) / (f(x_k) - f(x_k_1)))\\n\\n        # 3. Set the steplength \\u03b1k = 1.\\n        \\u03b1_k = 1\\n\\n        # 4. Let xk+1 = xk +\\u03b1kpk = xk \\u2212f(xk) [(xk \\u2212 xk\\u22121) / (f(xk) \\u2212 f(xk\\u22121))], and compute f(xk+1).\\n        x_k_1 = x_k\\n        x_k += \\u03b1_k * p_k\\n\\n        # 5. Let k\\u2190k+1 and return to Step 1.\\n\\n    return x_k\";\n",
       "                var nbb_formatted_code = \"def secant_root_finding(f, x_0, x_1, \\u03b4=1e-05):\\n    x_k, x_k_1 = x_1, x_0  # x_k, x_k-1\\n    while True:\\n        print(f\\\"New root candidate: {x_k}\\\")\\n        # 1. If |f(xk)| \\u2264 \\u03b4, stop and report a zero of f as x\\u2217 = xk.\\n        if np.allclose(f(x_k), 0, rtol=\\u03b4):\\n            return x_k\\n\\n        # 2. Determine pk = \\u2212f(xk) [(xk \\u2212 xk\\u22121) / (f(xk) \\u2212 f(xk\\u22121))].\\n        p_k = -f(x_k) * ((x_k - x_k_1) / (f(x_k) - f(x_k_1)))\\n\\n        # 3. Set the steplength \\u03b1k = 1.\\n        \\u03b1_k = 1\\n\\n        # 4. Let xk+1 = xk +\\u03b1kpk = xk \\u2212f(xk) [(xk \\u2212 xk\\u22121) / (f(xk) \\u2212 f(xk\\u22121))], and compute f(xk+1).\\n        x_k_1 = x_k\\n        x_k += \\u03b1_k * p_k\\n\\n        # 5. Let k\\u2190k+1 and return to Step 1.\\n\\n    return x_k\";\n",
       "                var nbb_cells = Jupyter.notebook.get_cells();\n",
       "                for (var i = 0; i < nbb_cells.length; ++i) {\n",
       "                    if (nbb_cells[i].input_prompt_number == nbb_cell_id) {\n",
       "                        if (nbb_cells[i].get_text() == nbb_unformatted_code) {\n",
       "                             nbb_cells[i].set_text(nbb_formatted_code);\n",
       "                        }\n",
       "                        break;\n",
       "                    }\n",
       "                }\n",
       "            }, 500);\n",
       "            "
      ],
      "text/plain": [
       "<IPython.core.display.Javascript object>"
      ]
     },
     "metadata": {},
     "output_type": "display_data"
    }
   ],
   "source": [
    "def secant_root_finding(f, x_0, x_1, δ=1e-05):\n",
    "    x_k, x_k_1 = x_1, x_0  # x_k, x_k-1\n",
    "    while True:\n",
    "        print(f\"New root candidate: {x_k}\")\n",
    "        # 1. If |f(xk)| ≤ δ, stop and report a zero of f as x∗ = xk.\n",
    "        if np.allclose(f(x_k), 0, rtol=δ):\n",
    "            return x_k\n",
    "\n",
    "        # 2. Determine pk = −f(xk) [(xk − xk−1) / (f(xk) − f(xk−1))].\n",
    "        p_k = -f(x_k) * ((x_k - x_k_1) / (f(x_k) - f(x_k_1)))\n",
    "\n",
    "        # 3. Set the steplength αk = 1.\n",
    "        α_k = 1\n",
    "\n",
    "        # 4. Let xk+1 = xk +αkpk = xk −f(xk) [(xk − xk−1) / (f(xk) − f(xk−1))], and compute f(xk+1).\n",
    "        x_k_1 = x_k\n",
    "        x_k += α_k * p_k\n",
    "\n",
    "        # 5. Let k←k+1 and return to Step 1.\n",
    "\n",
    "    return x_k"
   ]
  },
  {
   "cell_type": "markdown",
   "metadata": {},
   "source": [
    "#### Regula Falsi Method"
   ]
  },
  {
   "cell_type": "code",
   "execution_count": 9,
   "metadata": {
    "scrolled": true
   },
   "outputs": [
    {
     "name": "stdout",
     "output_type": "stream",
     "text": [
      "time: 1.7 ms\n"
     ]
    },
    {
     "data": {
      "application/javascript": [
       "\n",
       "            setTimeout(function() {\n",
       "                var nbb_cell_id = 9;\n",
       "                var nbb_unformatted_code = \"def regula_falsi_root_finding(f, x_0, x_1, \\u03b4=1e-05):\\n    assert (\\n        f(x_0) * f(x_1) < 0\\n    ), \\\"f(x_0)f(x_1) < 0, choose another pair of values for x_0 and x_1.\\\"\\n    x_k, x_k_1 = x_1, x_0  # x_k, x_k-1\\n    while True:\\n        print(f\\\"New root candidate: {x_k}\\\")\\n        # 1. If |f(xk)| \\u2264 \\u03b4, stop and report a zero of f as x\\u2217 = xk.\\n        if np.allclose(f(x_k), 0, rtol=\\u03b4):\\n            return x_k\\n\\n        # 2. Determine pk = \\u2212f(xk) [(xk \\u2212 xk\\u22121) / (f(xk) \\u2212 f(xk\\u22121))].\\n        p_k = -f(x_k) * ((x_k - x_k_1) / (f(x_k) - f(x_k_1)))\\n\\n        # 3. Set the steplength \\u03b1k = 1.\\n        \\u03b1_k = 1\\n\\n        # 5. If f(xk+1)f(xk\\u22121) < 0, set xk = xk\\u22121.\\n        if f(x_k + \\u03b1_k * p_k) * f(x_k_1) < 0:\\n            x_k_1 = x_k\\n\\n        # 4. Let xk+1 = xk +\\u03b1kpk = xk \\u2212f(xk) [(xk \\u2212 xk\\u22121) / (f(xk) \\u2212 f(xk\\u22121))], and compute f(xk+1).\\n        x_k += \\u03b1_k * p_k\\n\\n        # 6. Let k\\u2190k+1 and return to Step 1.\\n\\n    return x_k\";\n",
       "                var nbb_formatted_code = \"def regula_falsi_root_finding(f, x_0, x_1, \\u03b4=1e-05):\\n    assert (\\n        f(x_0) * f(x_1) < 0\\n    ), \\\"f(x_0)f(x_1) < 0, choose another pair of values for x_0 and x_1.\\\"\\n    x_k, x_k_1 = x_1, x_0  # x_k, x_k-1\\n    while True:\\n        print(f\\\"New root candidate: {x_k}\\\")\\n        # 1. If |f(xk)| \\u2264 \\u03b4, stop and report a zero of f as x\\u2217 = xk.\\n        if np.allclose(f(x_k), 0, rtol=\\u03b4):\\n            return x_k\\n\\n        # 2. Determine pk = \\u2212f(xk) [(xk \\u2212 xk\\u22121) / (f(xk) \\u2212 f(xk\\u22121))].\\n        p_k = -f(x_k) * ((x_k - x_k_1) / (f(x_k) - f(x_k_1)))\\n\\n        # 3. Set the steplength \\u03b1k = 1.\\n        \\u03b1_k = 1\\n\\n        # 5. If f(xk+1)f(xk\\u22121) < 0, set xk = xk\\u22121.\\n        if f(x_k + \\u03b1_k * p_k) * f(x_k_1) < 0:\\n            x_k_1 = x_k\\n\\n        # 4. Let xk+1 = xk +\\u03b1kpk = xk \\u2212f(xk) [(xk \\u2212 xk\\u22121) / (f(xk) \\u2212 f(xk\\u22121))], and compute f(xk+1).\\n        x_k += \\u03b1_k * p_k\\n\\n        # 6. Let k\\u2190k+1 and return to Step 1.\\n\\n    return x_k\";\n",
       "                var nbb_cells = Jupyter.notebook.get_cells();\n",
       "                for (var i = 0; i < nbb_cells.length; ++i) {\n",
       "                    if (nbb_cells[i].input_prompt_number == nbb_cell_id) {\n",
       "                        if (nbb_cells[i].get_text() == nbb_unformatted_code) {\n",
       "                             nbb_cells[i].set_text(nbb_formatted_code);\n",
       "                        }\n",
       "                        break;\n",
       "                    }\n",
       "                }\n",
       "            }, 500);\n",
       "            "
      ],
      "text/plain": [
       "<IPython.core.display.Javascript object>"
      ]
     },
     "metadata": {},
     "output_type": "display_data"
    }
   ],
   "source": [
    "def regula_falsi_root_finding(f, x_0, x_1, δ=1e-05):\n",
    "    assert (\n",
    "        f(x_0) * f(x_1) < 0\n",
    "    ), \"f(x_0)f(x_1) < 0, choose another pair of values for x_0 and x_1.\"\n",
    "    x_k, x_k_1 = x_1, x_0  # x_k, x_k-1\n",
    "    while True:\n",
    "        print(f\"New root candidate: {x_k}\")\n",
    "        # 1. If |f(xk)| ≤ δ, stop and report a zero of f as x∗ = xk.\n",
    "        if np.allclose(f(x_k), 0, rtol=δ):\n",
    "            return x_k\n",
    "\n",
    "        # 2. Determine pk = −f(xk) [(xk − xk−1) / (f(xk) − f(xk−1))].\n",
    "        p_k = -f(x_k) * ((x_k - x_k_1) / (f(x_k) - f(x_k_1)))\n",
    "\n",
    "        # 3. Set the steplength αk = 1.\n",
    "        α_k = 1\n",
    "\n",
    "        # 5. If f(xk+1)f(xk−1) < 0, set xk = xk−1.\n",
    "        if f(x_k + α_k * p_k) * f(x_k_1) < 0:\n",
    "            x_k_1 = x_k\n",
    "\n",
    "        # 4. Let xk+1 = xk +αkpk = xk −f(xk) [(xk − xk−1) / (f(xk) − f(xk−1))], and compute f(xk+1).\n",
    "        x_k += α_k * p_k\n",
    "\n",
    "        # 6. Let k←k+1 and return to Step 1.\n",
    "\n",
    "    return x_k"
   ]
  },
  {
   "cell_type": "markdown",
   "metadata": {},
   "source": [
    "### Optimization Methods"
   ]
  },
  {
   "cell_type": "code",
   "execution_count": null,
   "metadata": {},
   "outputs": [],
   "source": [
    "def simple_steplength(f, f_prime, x_k, p_k, μ=1e-4):\n",
    "    # 1. Set α=1.\n",
    "    α = 1\n",
    "    while True:\n",
    "        # 2. If f(xk+αpk) ≤ f(xk)+μαgkpk, set αk=α and stop.\n",
    "        if f(x_k + α * p_k) <= f(x_k) + μ * α * f_prime(x_k).T @ p_k:\n",
    "            return α\n",
    "        else:\n",
    "            # 3. Set α=α/2 and go to Step2.\n",
    "            α /= 2"
   ]
  },
  {
   "cell_type": "code",
   "execution_count": null,
   "metadata": {},
   "outputs": [],
   "source": [
    "def line_search(f, f_prime, x_k, p_k, μ=1e-4, η=1):\n",
    "    \"\"\"α = argmin_α f(xk + αpk), η=1 for exact, η small for accurate line search\"\"\"\n",
    "    # 1. Set α=1.\n",
    "    α = 1\n",
    "    while True:\n",
    "        # 2. Wolfe conditions:\n",
    "        # If f(xk+αpk) ≤ f(xk)+μαgkpk, and |g(x+αpk).Tpk| ≤ η|g(xk).Tpk|, set αk=α and stop.\n",
    "        if f(x_k + α * p_k) <= f(x_k) + μ * α * f_prime(x_k).T @ p_k and np.abs(\n",
    "            f_prime(x_k + α * p_k).T @ p_k\n",
    "        ) <= η * np.abs(f_prime(x_k).T @ p_k):\n",
    "            return α\n",
    "        else:\n",
    "            # 3. Set α=α/2 and go to Step2.\n",
    "            α /= 2"
   ]
  },
  {
   "cell_type": "code",
   "execution_count": 1,
   "metadata": {},
   "outputs": [],
   "source": [
    "def armijo_line_search(f, f_prime, x_k, p_k, ρ=0.8, σ=0.8):\n",
    "    \"\"\"Armijo Backtracking Line Search\n",
    "    \n",
    "    Args:\n",
    "        ρ: Backtracking factor\n",
    "        σ: Bending factor\n",
    "    \"\"\"\n",
    "    m = 0\n",
    "    while True:\n",
    "        α = ρ**m\n",
    "        if f(x_k + α*p_k) <= f(x_k) + σ*α*f_prime(x_k).T@p_k:\n",
    "            return α\n",
    "        else:\n",
    "            m += 1"
   ]
  },
  {
   "cell_type": "code",
   "execution_count": null,
   "metadata": {},
   "outputs": [],
   "source": [
    "def steepest_descent(f, f_prime, x_0, ε=1e-15, steplength_algo=simple_steplength):\n",
    "    k, x_k = 0, x_0\n",
    "    while True:\n",
    "\n",
    "        # 1. Test for Convergence\n",
    "        if np.allclose(f_prime(x_k), 0, rtol=ε):\n",
    "            return x_k\n",
    "\n",
    "        # 2. Compute a search direction\n",
    "        p_k = -f_prime(x_k)\n",
    "\n",
    "        # 3. Compute a steplength\n",
    "        α_k = steplength_algo(f=f, f_prime=f_prime, x_k=x_k, p_k=p_k, μ=1e-4)\n",
    "\n",
    "        print(\n",
    "            f\"Iteration: {k} - x_{k} = {np.round(x_k, 5)}, p_k = {np.round(p_k, 5)}, α_k = {np.round(α_k, 5)}\"\n",
    "        )\n",
    "\n",
    "        # 4. Update the iterate and return to Step 1\n",
    "        k += 1\n",
    "        x_k += α_k * p_k\n",
    "\n",
    "        # Check for divergence\n",
    "        if np.allclose(x_k, x_k + α_k * p_k) and k > 1:\n",
    "            print(\"Series diverged.\")\n",
    "            break"
   ]
  },
  {
   "cell_type": "code",
   "execution_count": null,
   "metadata": {},
   "outputs": [],
   "source": [
    "def newton_raphson_opt(\n",
    "    f, f_prime, hessian, x_0, ε=1e-15, steplength_algo=simple_steplength\n",
    "):\n",
    "    \"\"\"This method here is exactly the same as the \n",
    "    Newton method for root finding except that f is \n",
    "    the function we're trying to find the optimum point\n",
    "    for  - using the newton raphson root finding but for\n",
    "    the derivative of f, and this method is applicable to\n",
    "    higher dimensions\n",
    "    \"\"\"\n",
    "    k, x_k = 0, x_0\n",
    "    while True:\n",
    "\n",
    "        # 1. Test for Convergence\n",
    "        if np.allclose(f_prime(x=x_k), 0, rtol=ε):\n",
    "            return x_k\n",
    "\n",
    "        # 2. Compute a search direction\n",
    "        p_k = -np.linalg.inv(hessian(x=x_k)) @ f_prime(x=x_k)\n",
    "\n",
    "        # 3. Compute a steplength\n",
    "        α_k = steplength_algo(f=f, f_prime=f_prime, x_k=x_k, p_k=p_k, μ=1e-4)\n",
    "\n",
    "        print(\n",
    "            f\"Iteration: {k} - x_{k} = {np.round(x_k, 5)}, p_k = {np.round(p_k, 5)}, α_k = {np.round(α_k, 5)}, hessian = {np.round(hessian(x=x_k), 5)}\"\n",
    "        )\n",
    "\n",
    "        # 4. Update the iterate and return to Step 1\n",
    "        k += 1\n",
    "        x_k += α_k * p_k\n",
    "\n",
    "        # Check for divergence\n",
    "        if np.allclose(x_k, x_k + α_k * p_k) and k > 1:\n",
    "            print(\"Series diverged.\")\n",
    "            break"
   ]
  },
  {
   "cell_type": "markdown",
   "metadata": {},
   "source": [
    "---\n",
    "## Duality"
   ]
  },
  {
   "cell_type": "markdown",
   "metadata": {},
   "source": [
    "- Optimize primal with general constraints Vs. Optimize dual with simple constraints"
   ]
  },
  {
   "cell_type": "markdown",
   "metadata": {},
   "source": [
    "Proof of Weak Duality"
   ]
  },
  {
   "cell_type": "markdown",
   "metadata": {},
   "source": []
  },
  {
   "cell_type": "markdown",
   "metadata": {},
   "source": [
    "---\n",
    "## KKT\n",
    "\n",
    "- to use KKT to find optimal solution, we need constraint qualifications\n",
    "- LICQ is a special case of MFCQ if there are no inequality constraints"
   ]
  },
  {
   "cell_type": "markdown",
   "metadata": {},
   "source": [
    "---\n",
    "## Integer Programming"
   ]
  },
  {
   "cell_type": "code",
   "execution_count": 2,
   "metadata": {},
   "outputs": [
    {
     "name": "stdout",
     "output_type": "stream",
     "text": [
      "time: 8.48 ms\n"
     ]
    },
    {
     "data": {
      "application/javascript": [
       "\n",
       "            setTimeout(function() {\n",
       "                var nbb_cell_id = 2;\n",
       "                var nbb_unformatted_code = \"# Converts the optimization problem parameters into the mathematical representation\\ndef solve_lp(x, constraints, obj_coeff, problem_type):\\n    \\\"\\\"\\\"Solves the standard LP maximization problem and creates the \\n    mathematical formulation of optimization label for graphviz\\n    \\\"\\\"\\\"\\n    obj = cp.Maximize(obj_coeff @ x)\\n    prob = cp.Problem(obj, constraints)\\n    prob.solve()\\n\\n    label = (\\n        f\\\"{problem_type} {' + '.join([str(coeff) + 'x' + str(i+1) for coeff, i in zip(obj_coeff, range(x.shape[0]))])} \\\"\\n        + \\\"\\\\nsubject to: \\\\n\\\"\\n        + \\\"{}\\\".format(\\n            \\\"\\\\n\\\".join(\\n                [\\n                    re.sub(\\n                        r\\\"x\\\\[([0-9]*)\\\\]\\\",\\n                        \\\"x\\\"\\n                        + str(\\n                            int(\\n                                re.search(\\n                                    r\\\"\\\\[[0-9]*\\\\]\\\",\\n                                    re.sub(r\\\"var[0-9]*\\\", \\\"x\\\", str(constraint)),\\n                                )\\n                                .group()\\n                                .replace(\\\"]\\\", \\\"\\\")\\n                                .replace(\\\"[\\\", \\\"\\\")\\n                            )\\n                            + 1\\n                        ),\\n                        re.sub(r\\\"var[0-9]*\\\", \\\"x\\\", str(constraint)),\\n                    )\\n                    if re.search(\\n                        r\\\"x\\\\[([0-9]*)\\\\]\\\", re.sub(r\\\"var[0-9]*\\\", \\\"x\\\", str(constraint))\\n                    )\\n                    is not None\\n                    else re.sub(r\\\"var[0-9]*\\\", \\\"x\\\", str(constraint))\\n                    for constraint in constraints\\n                ]\\n            )\\n        )\\n        + (\\n            \\\"\\\\n\\\\nObjective Value: \\\"\\n            + (\\n                str(np.round(prob.value, 2))\\n                if prob.status == \\\"optimal\\\"\\n                else str(prob.value)\\n            )\\n            + \\\"\\\\nSolution: \\\"\\n            + (\\n                str([np.round(x_i, 2) for x_i in x.value])\\n                if prob.status == \\\"optimal\\\"\\n                else prob.status\\n            )\\n        )\\n    )\\n    return label, prob\\n\\n\\n# Checks if the number is an integer within specified decimal rounding\\nis_integer = lambda x, decimals=3: np.round(x, decimals).is_integer()\\n\\n# Checks if all elements in array are integers\\nis_integer_solution = lambda x: np.alltrue([is_integer(x_i) for x_i in x])\\n\\n\\ndef branch_and_bound_dfs(root, x, constraints, obj_coeff, problem_type):\\n    \\\"\\\"\\\"Iterative DFS traversal of branch and bound tree\\\"\\\"\\\"\\n\\n    node_id = \\\"root\\\"  # ID to map the node of branch and bound tree to the constraints\\n    stack = (\\n        []\\n    )  # To simulate depth first traversal by appending onto stack the node's children\\n    node_constraints = (\\n        {}\\n    )  # A map of the node_id to constraints associated with the node\\n    visited = []  # A list to keep the nodes already visited\\n\\n    stack.append((node_id, None))\\n    node_constraints[node_id] = constraints\\n\\n    lb, ub = None, None  # Lower bound and upper bound of ILP\\n\\n    while len(stack) > 0:\\n\\n        # Visit node\\n        node_id, parent_node_id = stack.pop()\\n        visited.append(node_id)\\n\\n        # Process Root\\n        label, prob = solve_lp(x, node_constraints[node_id], obj_coeff, problem_type)\\n        root.node(name=str(node_id), label=label)\\n\\n        # Add Edge\\n        if node_id != \\\"root\\\":\\n            root.edge(\\n                tail_name=str(parent_node_id),\\n                head_name=str(node_id),\\n                label=re.sub(\\n                    r\\\"x\\\\[([0-9]*)\\\\]\\\",\\n                    \\\"x\\\"\\n                    + str(\\n                        int(\\n                            re.search(\\n                                r\\\"\\\\[[0-9]*\\\\]\\\",\\n                                re.sub(\\n                                    r\\\"var[0-9]*\\\",\\n                                    \\\"x\\\",\\n                                    str(node_constraints[node_id][-1]),\\n                                ),\\n                            )\\n                            .group()\\n                            .replace(\\\"]\\\", \\\"\\\")\\n                            .replace(\\\"[\\\", \\\"\\\")\\n                        )\\n                        + 1\\n                    ),\\n                    re.sub(r\\\"var[0-9]*\\\", \\\"x\\\", str(node_constraints[node_id][-1])),\\n                ),\\n                len=\\\"5\\\",\\n            )\\n\\n        if prob.status == \\\"optimal\\\":\\n\\n            # If current solution is integer\\n            is_integer_current_solution = is_integer_solution(\\n                np.array(list(prob.solution.primal_vars.values())).flatten()\\n            )\\n\\n            # Break Conditions\\n            if is_integer_current_solution and (\\n                (ub is None) or (prob.value == np.floor(ub.value))\\n            ):  # Optimal Integer solution found\\n                return root, prob\\n\\n            # Set lower bound of the ilp\\n            if is_integer_current_solution and (\\n                (lb is None) or (prob.value > lb.value)\\n            ):\\n                lb = prob\\n\\n            # Set upper bound of the ilp\\n            if (ub is None) or (prob.value > ub.value):\\n                ub = prob\\n\\n            if (\\n                prob.value > lb.value if lb is not None else True\\n            ) and not is_integer_current_solution:\\n\\n                # Find non-integer value of solution\\n                largest_nonint_idx, largest_nonint_val = sorted(\\n                    [\\n                        (idx, x_i)\\n                        for idx, x_i in enumerate(prob.variables()[0].value)\\n                        if not is_integer(x_i)\\n                    ],\\n                    key=lambda x: x[1],\\n                    reverse=True,\\n                )[0]\\n\\n                # Add left and right children nodes for processing\\n                stack.append((node_id + \\\" -> left\\\", node_id))\\n                node_constraints[node_id + \\\" -> left\\\"] = node_constraints[node_id] + [\\n                    x[largest_nonint_idx] >= np.ceil(largest_nonint_val)\\n                ]\\n                stack.append((node_id + \\\" -> right\\\", node_id))\\n                node_constraints[node_id + \\\" -> right\\\"] = node_constraints[node_id] + [\\n                    x[largest_nonint_idx] <= np.floor(largest_nonint_val)\\n                ]\\n\\n    return root, lb\\n\\n\\ndef branch_and_bound_ilp(x, constraints, obj_coeff, problem_type):\\n    \\\"\\\"\\\"Solves Pure Integer Linear Program using\\n    Branch and Bound method.\\n    \\n    Args:\\n        x (cvxpy.Variable): The integer variables in our problem\\n        constraints (List[Inequality]): List of inequality constraints to impose on problem\\n        obj_coeff (numpy.array): The objective coefficients for a linear program\\n        problem_type (str): Either min, or max (default - min)\\n        \\n    Returns:\\n        \\n    \\n    \\\"\\\"\\\"\\n    assert (problem_type == \\\"min\\\") or (problem_type == \\\"max\\\"), print(\\n        \\\"problem_type must be either `min` or `max`.\\\"\\n    )\\n    # Standardize the optimization problem to be maximization\\n    if problem_type == \\\"min\\\":\\n        obj_coeff = -obj_coeff\\n\\n    # Run the recursive depth-first branch and bound algo\\n    root = Digraph(\\n        name=\\\"Branch and Bound Tree\\\",\\n        filename=\\\"btree.gv\\\",\\n        node_attr={\\\"shape\\\": \\\"record\\\", \\\"height\\\": \\\".1\\\"},\\n    )\\n    root.attr(\\\"node\\\", shape=\\\"box\\\")\\n    root, prob = branch_and_bound_dfs(root, x, constraints, obj_coeff, problem_type)\\n    print(\\n        f\\\"Optimal Objective Value: {np.round(prob.value, 3)} | Integer Solution: {np.round(np.array(list(prob.solution.primal_vars.values())).flatten(), 3)}\\\"\\n    )\\n    root.attr(label=r\\\"\\\\n\\\\nBranch and Bound Tree\\\")\\n    root.attr(fontsize=\\\"20\\\")\\n\\n    display(root)\";\n",
       "                var nbb_formatted_code = \"# Converts the optimization problem parameters into the mathematical representation\\ndef solve_lp(x, constraints, obj_coeff, problem_type):\\n    \\\"\\\"\\\"Solves the standard LP maximization problem and creates the \\n    mathematical formulation of optimization label for graphviz\\n    \\\"\\\"\\\"\\n    obj = cp.Maximize(obj_coeff @ x)\\n    prob = cp.Problem(obj, constraints)\\n    prob.solve()\\n\\n    label = (\\n        f\\\"{problem_type} {' + '.join([str(coeff) + 'x' + str(i+1) for coeff, i in zip(obj_coeff, range(x.shape[0]))])} \\\"\\n        + \\\"\\\\nsubject to: \\\\n\\\"\\n        + \\\"{}\\\".format(\\n            \\\"\\\\n\\\".join(\\n                [\\n                    re.sub(\\n                        r\\\"x\\\\[([0-9]*)\\\\]\\\",\\n                        \\\"x\\\"\\n                        + str(\\n                            int(\\n                                re.search(\\n                                    r\\\"\\\\[[0-9]*\\\\]\\\",\\n                                    re.sub(r\\\"var[0-9]*\\\", \\\"x\\\", str(constraint)),\\n                                )\\n                                .group()\\n                                .replace(\\\"]\\\", \\\"\\\")\\n                                .replace(\\\"[\\\", \\\"\\\")\\n                            )\\n                            + 1\\n                        ),\\n                        re.sub(r\\\"var[0-9]*\\\", \\\"x\\\", str(constraint)),\\n                    )\\n                    if re.search(\\n                        r\\\"x\\\\[([0-9]*)\\\\]\\\", re.sub(r\\\"var[0-9]*\\\", \\\"x\\\", str(constraint))\\n                    )\\n                    is not None\\n                    else re.sub(r\\\"var[0-9]*\\\", \\\"x\\\", str(constraint))\\n                    for constraint in constraints\\n                ]\\n            )\\n        )\\n        + (\\n            \\\"\\\\n\\\\nObjective Value: \\\"\\n            + (\\n                str(np.round(prob.value, 2))\\n                if prob.status == \\\"optimal\\\"\\n                else str(prob.value)\\n            )\\n            + \\\"\\\\nSolution: \\\"\\n            + (\\n                str([np.round(x_i, 2) for x_i in x.value])\\n                if prob.status == \\\"optimal\\\"\\n                else prob.status\\n            )\\n        )\\n    )\\n    return label, prob\\n\\n\\n# Checks if the number is an integer within specified decimal rounding\\nis_integer = lambda x, decimals=3: np.round(x, decimals).is_integer()\\n\\n# Checks if all elements in array are integers\\nis_integer_solution = lambda x: np.alltrue([is_integer(x_i) for x_i in x])\\n\\n\\ndef branch_and_bound_dfs(root, x, constraints, obj_coeff, problem_type):\\n    \\\"\\\"\\\"Iterative DFS traversal of branch and bound tree\\\"\\\"\\\"\\n\\n    node_id = \\\"root\\\"  # ID to map the node of branch and bound tree to the constraints\\n    stack = (\\n        []\\n    )  # To simulate depth first traversal by appending onto stack the node's children\\n    node_constraints = (\\n        {}\\n    )  # A map of the node_id to constraints associated with the node\\n    visited = []  # A list to keep the nodes already visited\\n\\n    stack.append((node_id, None))\\n    node_constraints[node_id] = constraints\\n\\n    lb, ub = None, None  # Lower bound and upper bound of ILP\\n\\n    while len(stack) > 0:\\n\\n        # Visit node\\n        node_id, parent_node_id = stack.pop()\\n        visited.append(node_id)\\n\\n        # Process Root\\n        label, prob = solve_lp(x, node_constraints[node_id], obj_coeff, problem_type)\\n        root.node(name=str(node_id), label=label)\\n\\n        # Add Edge\\n        if node_id != \\\"root\\\":\\n            root.edge(\\n                tail_name=str(parent_node_id),\\n                head_name=str(node_id),\\n                label=re.sub(\\n                    r\\\"x\\\\[([0-9]*)\\\\]\\\",\\n                    \\\"x\\\"\\n                    + str(\\n                        int(\\n                            re.search(\\n                                r\\\"\\\\[[0-9]*\\\\]\\\",\\n                                re.sub(\\n                                    r\\\"var[0-9]*\\\",\\n                                    \\\"x\\\",\\n                                    str(node_constraints[node_id][-1]),\\n                                ),\\n                            )\\n                            .group()\\n                            .replace(\\\"]\\\", \\\"\\\")\\n                            .replace(\\\"[\\\", \\\"\\\")\\n                        )\\n                        + 1\\n                    ),\\n                    re.sub(r\\\"var[0-9]*\\\", \\\"x\\\", str(node_constraints[node_id][-1])),\\n                ),\\n                len=\\\"5\\\",\\n            )\\n\\n        if prob.status == \\\"optimal\\\":\\n\\n            # If current solution is integer\\n            is_integer_current_solution = is_integer_solution(\\n                np.array(list(prob.solution.primal_vars.values())).flatten()\\n            )\\n\\n            # Break Conditions\\n            if is_integer_current_solution and (\\n                (ub is None) or (prob.value == np.floor(ub.value))\\n            ):  # Optimal Integer solution found\\n                return root, prob\\n\\n            # Set lower bound of the ilp\\n            if is_integer_current_solution and (\\n                (lb is None) or (prob.value > lb.value)\\n            ):\\n                lb = prob\\n\\n            # Set upper bound of the ilp\\n            if (ub is None) or (prob.value > ub.value):\\n                ub = prob\\n\\n            if (\\n                prob.value > lb.value if lb is not None else True\\n            ) and not is_integer_current_solution:\\n\\n                # Find non-integer value of solution\\n                largest_nonint_idx, largest_nonint_val = sorted(\\n                    [\\n                        (idx, x_i)\\n                        for idx, x_i in enumerate(prob.variables()[0].value)\\n                        if not is_integer(x_i)\\n                    ],\\n                    key=lambda x: x[1],\\n                    reverse=True,\\n                )[0]\\n\\n                # Add left and right children nodes for processing\\n                stack.append((node_id + \\\" -> left\\\", node_id))\\n                node_constraints[node_id + \\\" -> left\\\"] = node_constraints[node_id] + [\\n                    x[largest_nonint_idx] >= np.ceil(largest_nonint_val)\\n                ]\\n                stack.append((node_id + \\\" -> right\\\", node_id))\\n                node_constraints[node_id + \\\" -> right\\\"] = node_constraints[node_id] + [\\n                    x[largest_nonint_idx] <= np.floor(largest_nonint_val)\\n                ]\\n\\n    return root, lb\\n\\n\\ndef branch_and_bound_ilp(x, constraints, obj_coeff, problem_type):\\n    \\\"\\\"\\\"Solves Pure Integer Linear Program using\\n    Branch and Bound method.\\n    \\n    Args:\\n        x (cvxpy.Variable): The integer variables in our problem\\n        constraints (List[Inequality]): List of inequality constraints to impose on problem\\n        obj_coeff (numpy.array): The objective coefficients for a linear program\\n        problem_type (str): Either min, or max (default - min)\\n        \\n    Returns:\\n        \\n    \\n    \\\"\\\"\\\"\\n    assert (problem_type == \\\"min\\\") or (problem_type == \\\"max\\\"), print(\\n        \\\"problem_type must be either `min` or `max`.\\\"\\n    )\\n    # Standardize the optimization problem to be maximization\\n    if problem_type == \\\"min\\\":\\n        obj_coeff = -obj_coeff\\n\\n    # Run the recursive depth-first branch and bound algo\\n    root = Digraph(\\n        name=\\\"Branch and Bound Tree\\\",\\n        filename=\\\"btree.gv\\\",\\n        node_attr={\\\"shape\\\": \\\"record\\\", \\\"height\\\": \\\".1\\\"},\\n    )\\n    root.attr(\\\"node\\\", shape=\\\"box\\\")\\n    root, prob = branch_and_bound_dfs(root, x, constraints, obj_coeff, problem_type)\\n    print(\\n        f\\\"Optimal Objective Value: {np.round(prob.value, 3)} | Integer Solution: {np.round(np.array(list(prob.solution.primal_vars.values())).flatten(), 3)}\\\"\\n    )\\n    root.attr(label=r\\\"\\\\n\\\\nBranch and Bound Tree\\\")\\n    root.attr(fontsize=\\\"20\\\")\\n\\n    display(root)\";\n",
       "                var nbb_cells = Jupyter.notebook.get_cells();\n",
       "                for (var i = 0; i < nbb_cells.length; ++i) {\n",
       "                    if (nbb_cells[i].input_prompt_number == nbb_cell_id) {\n",
       "                        if (nbb_cells[i].get_text() == nbb_unformatted_code) {\n",
       "                             nbb_cells[i].set_text(nbb_formatted_code);\n",
       "                        }\n",
       "                        break;\n",
       "                    }\n",
       "                }\n",
       "            }, 500);\n",
       "            "
      ],
      "text/plain": [
       "<IPython.core.display.Javascript object>"
      ]
     },
     "metadata": {},
     "output_type": "display_data"
    }
   ],
   "source": [
    "# Converts the optimization problem parameters into the mathematical representation\n",
    "def solve_lp(x, constraints, obj_coeff, problem_type):\n",
    "    \"\"\"Solves the standard LP maximization problem and creates the \n",
    "    mathematical formulation of optimization label for graphviz\n",
    "    \"\"\"\n",
    "    obj = cp.Maximize(obj_coeff @ x)\n",
    "    prob = cp.Problem(obj, constraints)\n",
    "    prob.solve()\n",
    "\n",
    "    label = (\n",
    "        f\"{problem_type} {' + '.join([str(coeff) + 'x' + str(i+1) for coeff, i in zip(obj_coeff, range(x.shape[0]))])} \"\n",
    "        + \"\\nsubject to: \\n\"\n",
    "        + \"{}\".format(\n",
    "            \"\\n\".join(\n",
    "                [\n",
    "                    re.sub(\n",
    "                        r\"x\\[([0-9]*)\\]\",\n",
    "                        \"x\"\n",
    "                        + str(\n",
    "                            int(\n",
    "                                re.search(\n",
    "                                    r\"\\[[0-9]*\\]\",\n",
    "                                    re.sub(r\"var[0-9]*\", \"x\", str(constraint)),\n",
    "                                )\n",
    "                                .group()\n",
    "                                .replace(\"]\", \"\")\n",
    "                                .replace(\"[\", \"\")\n",
    "                            )\n",
    "                            + 1\n",
    "                        ),\n",
    "                        re.sub(r\"var[0-9]*\", \"x\", str(constraint)),\n",
    "                    )\n",
    "                    if re.search(\n",
    "                        r\"x\\[([0-9]*)\\]\", re.sub(r\"var[0-9]*\", \"x\", str(constraint))\n",
    "                    )\n",
    "                    is not None\n",
    "                    else re.sub(r\"var[0-9]*\", \"x\", str(constraint))\n",
    "                    for constraint in constraints\n",
    "                ]\n",
    "            )\n",
    "        )\n",
    "        + (\n",
    "            \"\\n\\nObjective Value: \"\n",
    "            + (\n",
    "                str(np.round(prob.value, 2))\n",
    "                if prob.status == \"optimal\"\n",
    "                else str(prob.value)\n",
    "            )\n",
    "            + \"\\nSolution: \"\n",
    "            + (\n",
    "                str([np.round(x_i, 2) for x_i in x.value])\n",
    "                if prob.status == \"optimal\"\n",
    "                else prob.status\n",
    "            )\n",
    "        )\n",
    "    )\n",
    "    return label, prob\n",
    "\n",
    "\n",
    "# Checks if the number is an integer within specified decimal rounding\n",
    "is_integer = lambda x, decimals=3: np.round(x, decimals).is_integer()\n",
    "\n",
    "# Checks if all elements in array are integers\n",
    "is_integer_solution = lambda x: np.alltrue([is_integer(x_i) for x_i in x])\n",
    "\n",
    "\n",
    "def branch_and_bound_dfs(root, x, constraints, obj_coeff, problem_type):\n",
    "    \"\"\"Iterative DFS traversal of branch and bound tree\"\"\"\n",
    "\n",
    "    node_id = \"root\"  # ID to map the node of branch and bound tree to the constraints\n",
    "    stack = (\n",
    "        []\n",
    "    )  # To simulate depth first traversal by appending onto stack the node's children\n",
    "    node_constraints = (\n",
    "        {}\n",
    "    )  # A map of the node_id to constraints associated with the node\n",
    "    visited = []  # A list to keep the nodes already visited\n",
    "\n",
    "    stack.append((node_id, None))\n",
    "    node_constraints[node_id] = constraints\n",
    "\n",
    "    lb, ub = None, None  # Lower bound and upper bound of ILP\n",
    "\n",
    "    while len(stack) > 0:\n",
    "\n",
    "        # Visit node\n",
    "        node_id, parent_node_id = stack.pop()\n",
    "        visited.append(node_id)\n",
    "\n",
    "        # Process Root\n",
    "        label, prob = solve_lp(x, node_constraints[node_id], obj_coeff, problem_type)\n",
    "        root.node(name=str(node_id), label=label)\n",
    "\n",
    "        # Add Edge\n",
    "        if node_id != \"root\":\n",
    "            root.edge(\n",
    "                tail_name=str(parent_node_id),\n",
    "                head_name=str(node_id),\n",
    "                label=re.sub(\n",
    "                    r\"x\\[([0-9]*)\\]\",\n",
    "                    \"x\"\n",
    "                    + str(\n",
    "                        int(\n",
    "                            re.search(\n",
    "                                r\"\\[[0-9]*\\]\",\n",
    "                                re.sub(\n",
    "                                    r\"var[0-9]*\",\n",
    "                                    \"x\",\n",
    "                                    str(node_constraints[node_id][-1]),\n",
    "                                ),\n",
    "                            )\n",
    "                            .group()\n",
    "                            .replace(\"]\", \"\")\n",
    "                            .replace(\"[\", \"\")\n",
    "                        )\n",
    "                        + 1\n",
    "                    ),\n",
    "                    re.sub(r\"var[0-9]*\", \"x\", str(node_constraints[node_id][-1])),\n",
    "                ),\n",
    "                len=\"5\",\n",
    "            )\n",
    "\n",
    "        if prob.status == \"optimal\":\n",
    "\n",
    "            # If current solution is integer\n",
    "            is_integer_current_solution = is_integer_solution(\n",
    "                np.array(list(prob.solution.primal_vars.values())).flatten()\n",
    "            )\n",
    "\n",
    "            # Break Conditions\n",
    "            if is_integer_current_solution and (\n",
    "                (ub is None) or (prob.value == np.floor(ub.value))\n",
    "            ):  # Optimal Integer solution found\n",
    "                return root, prob\n",
    "\n",
    "            # Set lower bound of the ilp\n",
    "            if is_integer_current_solution and (\n",
    "                (lb is None) or (prob.value > lb.value)\n",
    "            ):\n",
    "                lb = prob\n",
    "\n",
    "            # Set upper bound of the ilp\n",
    "            if (ub is None) or (prob.value > ub.value):\n",
    "                ub = prob\n",
    "\n",
    "            if (\n",
    "                prob.value > lb.value if lb is not None else True\n",
    "            ) and not is_integer_current_solution:\n",
    "\n",
    "                # Find non-integer value of solution\n",
    "                largest_nonint_idx, largest_nonint_val = sorted(\n",
    "                    [\n",
    "                        (idx, x_i)\n",
    "                        for idx, x_i in enumerate(prob.variables()[0].value)\n",
    "                        if not is_integer(x_i)\n",
    "                    ],\n",
    "                    key=lambda x: x[1],\n",
    "                    reverse=True,\n",
    "                )[0]\n",
    "\n",
    "                # Add left and right children nodes for processing\n",
    "                stack.append((node_id + \" -> left\", node_id))\n",
    "                node_constraints[node_id + \" -> left\"] = node_constraints[node_id] + [\n",
    "                    x[largest_nonint_idx] >= np.ceil(largest_nonint_val)\n",
    "                ]\n",
    "                stack.append((node_id + \" -> right\", node_id))\n",
    "                node_constraints[node_id + \" -> right\"] = node_constraints[node_id] + [\n",
    "                    x[largest_nonint_idx] <= np.floor(largest_nonint_val)\n",
    "                ]\n",
    "\n",
    "    return root, lb\n",
    "\n",
    "\n",
    "def branch_and_bound_ilp(x, constraints, obj_coeff, problem_type):\n",
    "    \"\"\"Solves Pure Integer Linear Program using\n",
    "    Branch and Bound method.\n",
    "    \n",
    "    Args:\n",
    "        x (cvxpy.Variable): The integer variables in our problem\n",
    "        constraints (List[Inequality]): List of inequality constraints to impose on problem\n",
    "        obj_coeff (numpy.array): The objective coefficients for a linear program\n",
    "        problem_type (str): Either min, or max (default - min)\n",
    "        \n",
    "    Returns:\n",
    "        \n",
    "    \n",
    "    \"\"\"\n",
    "    assert (problem_type == \"min\") or (problem_type == \"max\"), print(\n",
    "        \"problem_type must be either `min` or `max`.\"\n",
    "    )\n",
    "    # Standardize the optimization problem to be maximization\n",
    "    if problem_type == \"min\":\n",
    "        obj_coeff = -obj_coeff\n",
    "\n",
    "    # Run the recursive depth-first branch and bound algo\n",
    "    root = Digraph(\n",
    "        name=\"Branch and Bound Tree\",\n",
    "        filename=\"btree.gv\",\n",
    "        node_attr={\"shape\": \"record\", \"height\": \".1\"},\n",
    "    )\n",
    "    root.attr(\"node\", shape=\"box\")\n",
    "    root, prob = branch_and_bound_dfs(root, x, constraints, obj_coeff, problem_type)\n",
    "    print(\n",
    "        f\"Optimal Objective Value: {np.round(prob.value, 3)} | Integer Solution: {np.round(np.array(list(prob.solution.primal_vars.values())).flatten(), 3)}\"\n",
    "    )\n",
    "    root.attr(label=r\"\\n\\nBranch and Bound Tree\")\n",
    "    root.attr(fontsize=\"20\")\n",
    "\n",
    "    display(root)"
   ]
  },
  {
   "cell_type": "code",
   "execution_count": 4,
   "metadata": {},
   "outputs": [
    {
     "name": "stdout",
     "output_type": "stream",
     "text": [
      "Optimal Objective Value: 8.0 | Integer Solution: [2. 3.]\n"
     ]
    },
    {
     "data": {
      "image/svg+xml": [
       "<?xml version=\"1.0\" encoding=\"UTF-8\" standalone=\"no\"?>\n",
       "<!DOCTYPE svg PUBLIC \"-//W3C//DTD SVG 1.1//EN\"\n",
       " \"http://www.w3.org/Graphics/SVG/1.1/DTD/svg11.dtd\">\n",
       "<!-- Generated by graphviz version 2.40.1 (20161225.0304)\n",
       " -->\n",
       "<!-- Title: Branch and Bound Tree Pages: 1 -->\n",
       "<svg width=\"216pt\" height=\"260pt\"\n",
       " viewBox=\"0.00 0.00 216.00 260.00\" xmlns=\"http://www.w3.org/2000/svg\" xmlns:xlink=\"http://www.w3.org/1999/xlink\">\n",
       "<g id=\"graph0\" class=\"graph\" transform=\"scale(1 1) rotate(0) translate(4 256)\">\n",
       "<title>Branch and Bound Tree</title>\n",
       "<polygon fill=\"#ffffff\" stroke=\"transparent\" points=\"-4,4 -4,-256 212,-256 212,4 -4,4\"/>\n",
       "<text text-anchor=\"middle\" x=\"104\" y=\"-10\" font-family=\"Times,serif\" font-size=\"20.00\" fill=\"#000000\">Branch and Bound Tree</text>\n",
       "<!-- root -->\n",
       "<g id=\"node1\" class=\"node\">\n",
       "<title>root</title>\n",
       "<polygon fill=\"none\" stroke=\"#000000\" points=\"206.5,-252 1.5,-252 1.5,-78 206.5,-78 206.5,-252\"/>\n",
       "<text text-anchor=\"middle\" x=\"104\" y=\"-236.8\" font-family=\"Times,serif\" font-size=\"14.00\" fill=\"#000000\">max 1x1 + 2x2 </text>\n",
       "<text text-anchor=\"middle\" x=\"104\" y=\"-221.8\" font-family=\"Times,serif\" font-size=\"14.00\" fill=\"#000000\">subject to: </text>\n",
       "<text text-anchor=\"middle\" x=\"104\" y=\"-206.8\" font-family=\"Times,serif\" font-size=\"14.00\" fill=\"#000000\">[[ 1. &#160;1.]</text>\n",
       "<text text-anchor=\"middle\" x=\"104\" y=\"-191.8\" font-family=\"Times,serif\" font-size=\"14.00\" fill=\"#000000\"> [ 1. &#45;3.]</text>\n",
       "<text text-anchor=\"middle\" x=\"104\" y=\"-176.8\" font-family=\"Times,serif\" font-size=\"14.00\" fill=\"#000000\"> [&#45;1. &#160;0.]</text>\n",
       "<text text-anchor=\"middle\" x=\"104\" y=\"-161.8\" font-family=\"Times,serif\" font-size=\"14.00\" fill=\"#000000\"> [ 1. &#45;1.]</text>\n",
       "<text text-anchor=\"middle\" x=\"104\" y=\"-146.8\" font-family=\"Times,serif\" font-size=\"14.00\" fill=\"#000000\"> [ 0. &#160;1.]] * x &lt;= [ 5. &#45;4. &#45;1. &#160;1. &#160;3.]</text>\n",
       "<text text-anchor=\"middle\" x=\"104\" y=\"-131.8\" font-family=\"Times,serif\" font-size=\"14.00\" fill=\"#000000\">0.0 &lt;= x</text>\n",
       "<text text-anchor=\"middle\" x=\"104\" y=\"-100.8\" font-family=\"Times,serif\" font-size=\"14.00\" fill=\"#000000\">Objective Value: 8.0</text>\n",
       "<text text-anchor=\"middle\" x=\"104\" y=\"-85.8\" font-family=\"Times,serif\" font-size=\"14.00\" fill=\"#000000\">Solution: [2.0, 3.0]</text>\n",
       "</g>\n",
       "</g>\n",
       "</svg>\n"
      ],
      "text/plain": [
       "<graphviz.dot.Digraph at 0x7fee7f35e290>"
      ]
     },
     "metadata": {},
     "output_type": "display_data"
    },
    {
     "name": "stdout",
     "output_type": "stream",
     "text": [
      "time: 469 ms\n"
     ]
    },
    {
     "data": {
      "application/javascript": [
       "\n",
       "            setTimeout(function() {\n",
       "                var nbb_cell_id = 4;\n",
       "                var nbb_unformatted_code = \"x = cp.Variable((2,), integer=False)\\nbranch_and_bound_ilp(\\n    x=x,\\n    constraints=[np.array([[1,1], [1,-3],[-1, 0], [1,-1],[0,1]]) @ x <= np.array([5, -4, -1, 1, 3]), x >= 0,],\\n    obj_coeff=np.array([1, 2]),\\n    problem_type=\\\"max\\\",\\n)\";\n",
       "                var nbb_formatted_code = \"x = cp.Variable((2,), integer=False)\\nbranch_and_bound_ilp(\\n    x=x,\\n    constraints=[\\n        np.array([[1, 1], [1, -3], [-1, 0], [1, -1], [0, 1]]) @ x\\n        <= np.array([5, -4, -1, 1, 3]),\\n        x >= 0,\\n    ],\\n    obj_coeff=np.array([1, 2]),\\n    problem_type=\\\"max\\\",\\n)\";\n",
       "                var nbb_cells = Jupyter.notebook.get_cells();\n",
       "                for (var i = 0; i < nbb_cells.length; ++i) {\n",
       "                    if (nbb_cells[i].input_prompt_number == nbb_cell_id) {\n",
       "                        if (nbb_cells[i].get_text() == nbb_unformatted_code) {\n",
       "                             nbb_cells[i].set_text(nbb_formatted_code);\n",
       "                        }\n",
       "                        break;\n",
       "                    }\n",
       "                }\n",
       "            }, 500);\n",
       "            "
      ],
      "text/plain": [
       "<IPython.core.display.Javascript object>"
      ]
     },
     "metadata": {},
     "output_type": "display_data"
    }
   ],
   "source": [
    "x = cp.Variable((2,), integer=False)\n",
    "branch_and_bound_ilp(\n",
    "    x=x,\n",
    "    constraints=[\n",
    "        np.array([[1, 1], [1, -3], [-1, 0], [1, -1], [0, 1]]) @ x\n",
    "        <= np.array([5, -4, -1, 1, 3]),\n",
    "        x >= 0,\n",
    "    ],\n",
    "    obj_coeff=np.array([1, 2]),\n",
    "    problem_type=\"max\",\n",
    ")"
   ]
  }
 ],
 "metadata": {
  "kernelspec": {
   "display_name": "Python 3",
   "language": "python",
   "name": "python3"
  },
  "language_info": {
   "codemirror_mode": {
    "name": "ipython",
    "version": 3
   },
   "file_extension": ".py",
   "mimetype": "text/x-python",
   "name": "python",
   "nbconvert_exporter": "python",
   "pygments_lexer": "ipython3",
   "version": "3.8.5"
  },
  "latex_envs": {
   "LaTeX_envs_menu_present": true,
   "autoclose": false,
   "autocomplete": true,
   "bibliofile": "biblio.bib",
   "cite_by": "apalike",
   "current_citInitial": 1,
   "eqLabelWithNumbers": true,
   "eqNumInitial": 1,
   "hotkeys": {
    "equation": "Ctrl-E",
    "itemize": "Ctrl-I"
   },
   "labels_anchors": false,
   "latex_user_defs": false,
   "report_style_numbering": false,
   "user_envs_cfg": false
  }
 },
 "nbformat": 4,
 "nbformat_minor": 4
}
