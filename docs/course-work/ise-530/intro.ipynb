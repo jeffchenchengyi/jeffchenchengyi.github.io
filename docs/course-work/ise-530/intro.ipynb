{
 "cells": [
  {
   "cell_type": "markdown",
   "id": "individual-mother",
   "metadata": {},
   "source": [
    "# ISE-530: Optimization Analytics"
   ]
  },
  {
   "cell_type": "markdown",
   "id": "cross-footwear",
   "metadata": {},
   "source": [
    "I took the class back in Fall 2020. I've been wanting to understand concepts within convex optimization by following the [MOOC for Convex Optimization by Stephen Boyd](https://www.edx.org/course/convex-optimization) for the longest time now but it was hard for me to follow all the math, and was hoping to use this class to give the foundation I required. Other than the first part of the course being a little too focused on linear programming and not having enough time in the later half on convex optimization and mixed integer programming, it really helped me undertsand the usage of KKT conditions in analytically finding optimal values in convex problems."
   ]
  }
 ],
 "metadata": {
  "kernelspec": {
   "display_name": "Python 3",
   "language": "python",
   "name": "python3"
  },
  "language_info": {
   "codemirror_mode": {
    "name": "ipython",
    "version": 3
   },
   "file_extension": ".py",
   "mimetype": "text/x-python",
   "name": "python",
   "nbconvert_exporter": "python",
   "pygments_lexer": "ipython3",
   "version": "3.8.5"
  },
  "latex_envs": {
   "LaTeX_envs_menu_present": true,
   "autoclose": false,
   "autocomplete": true,
   "bibliofile": "biblio.bib",
   "cite_by": "apalike",
   "current_citInitial": 1,
   "eqLabelWithNumbers": true,
   "eqNumInitial": 1,
   "hotkeys": {
    "equation": "Ctrl-E",
    "itemize": "Ctrl-I"
   },
   "labels_anchors": false,
   "latex_user_defs": false,
   "report_style_numbering": false,
   "user_envs_cfg": false
  }
 },
 "nbformat": 4,
 "nbformat_minor": 5
}
