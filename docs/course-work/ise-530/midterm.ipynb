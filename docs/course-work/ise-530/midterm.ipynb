{
 "cells": [
  {
   "cell_type": "markdown",
   "metadata": {},
   "source": [
    "# Midterm\n",
    "\n",
    "By: Chengyi (Jeff) Chen"
   ]
  },
  {
   "cell_type": "code",
   "execution_count": 1,
   "metadata": {},
   "outputs": [
    {
     "data": {
      "application/javascript": [
       "\n",
       "            setTimeout(function() {\n",
       "                var nbb_cell_id = 1;\n",
       "                var nbb_unformatted_code = \"%load_ext autotime\\n%load_ext nb_black\\n%matplotlib inline\\n\\nimport matplotlib.pyplot as plt\\nfrom mpl_toolkits.mplot3d import Axes3D\\n\\nplt.rcParams[\\\"figure.dpi\\\"] = 300\\nplt.rcParams[\\\"figure.figsize\\\"] = (16, 12)\\n\\nimport pandas as pd\\nimport numpy as np\\nimport cvxpy as cp\\nimport scipy as sp\\nfrom scipy import optimize\\nimport functools\";\n",
       "                var nbb_formatted_code = \"%load_ext autotime\\n%load_ext nb_black\\n%matplotlib inline\\n\\nimport matplotlib.pyplot as plt\\nfrom mpl_toolkits.mplot3d import Axes3D\\n\\nplt.rcParams[\\\"figure.dpi\\\"] = 300\\nplt.rcParams[\\\"figure.figsize\\\"] = (16, 12)\\n\\nimport pandas as pd\\nimport numpy as np\\nimport cvxpy as cp\\nimport scipy as sp\\nfrom scipy import optimize\\nimport functools\";\n",
       "                var nbb_cells = Jupyter.notebook.get_cells();\n",
       "                for (var i = 0; i < nbb_cells.length; ++i) {\n",
       "                    if (nbb_cells[i].input_prompt_number == nbb_cell_id) {\n",
       "                        if (nbb_cells[i].get_text() == nbb_unformatted_code) {\n",
       "                             nbb_cells[i].set_text(nbb_formatted_code);\n",
       "                        }\n",
       "                        break;\n",
       "                    }\n",
       "                }\n",
       "            }, 500);\n",
       "            "
      ],
      "text/plain": [
       "<IPython.core.display.Javascript object>"
      ]
     },
     "metadata": {},
     "output_type": "display_data"
    }
   ],
   "source": [
    "%load_ext autotime\n",
    "%load_ext nb_black\n",
    "%matplotlib inline\n",
    "\n",
    "import matplotlib.pyplot as plt\n",
    "from mpl_toolkits.mplot3d import Axes3D\n",
    "\n",
    "plt.rcParams[\"figure.dpi\"] = 300\n",
    "plt.rcParams[\"figure.figsize\"] = (16, 12)\n",
    "\n",
    "import pandas as pd\n",
    "import numpy as np\n",
    "import cvxpy as cp\n",
    "import scipy as sp\n",
    "from scipy import optimize\n",
    "import functools"
   ]
  },
  {
   "cell_type": "markdown",
   "metadata": {},
   "source": [
    "### 1. "
   ]
  },
  {
   "cell_type": "markdown",
   "metadata": {},
   "source": [
    "<img src=\"./assets/q1_midterm_ise530.png\" />"
   ]
  },
  {
   "cell_type": "markdown",
   "metadata": {},
   "source": [
    "### 2. "
   ]
  },
  {
   "cell_type": "code",
   "execution_count": 7,
   "metadata": {
    "scrolled": true
   },
   "outputs": [
    {
     "name": "stdout",
     "output_type": "stream",
     "text": [
      "Linear Programming Solution\n",
      "==============================\n",
      "Status: optimal\n",
      "The optimal value is: 1.5\n",
      "The optimal solution is: x = [1.0, 0.5]\n",
      "time: 14.4 ms\n"
     ]
    },
    {
     "data": {
      "application/javascript": [
       "\n",
       "            setTimeout(function() {\n",
       "                var nbb_cell_id = 7;\n",
       "                var nbb_unformatted_code = \"# Create one vector optimization variable.\\nx = cp.Variable((2,), integer=False)\\n\\n# Create constraints.\\nconstraints = [\\n    x[0] + 2 * x[1] >= 2,\\n    x[0] >= 1,\\n    x[1] >= 0,\\n]\\n\\n# Form objective.\\nobj = cp.Minimize(np.array([1, 1]) @ x)\\n\\n# Form and solve problem.\\nprob = cp.Problem(obj, constraints)\\nprob.solve()\\n\\nprint(\\\"Linear Programming Solution\\\")\\nprint(\\\"=\\\" * 30)\\nprint(f\\\"Status: {prob.status}\\\")\\nprint(f\\\"The optimal value is: {np.round(prob.value, 2)}\\\")\\nprint(f\\\"The optimal solution is: x = {[np.round(x_i, 2) for x_i in x.value]}\\\")\";\n",
       "                var nbb_formatted_code = \"# Create one vector optimization variable.\\nx = cp.Variable((2,), integer=False)\\n\\n# Create constraints.\\nconstraints = [\\n    x[0] + 2 * x[1] >= 2,\\n    x[0] >= 1,\\n    x[1] >= 0,\\n]\\n\\n# Form objective.\\nobj = cp.Minimize(np.array([1, 1]) @ x)\\n\\n# Form and solve problem.\\nprob = cp.Problem(obj, constraints)\\nprob.solve()\\n\\nprint(\\\"Linear Programming Solution\\\")\\nprint(\\\"=\\\" * 30)\\nprint(f\\\"Status: {prob.status}\\\")\\nprint(f\\\"The optimal value is: {np.round(prob.value, 2)}\\\")\\nprint(f\\\"The optimal solution is: x = {[np.round(x_i, 2) for x_i in x.value]}\\\")\";\n",
       "                var nbb_cells = Jupyter.notebook.get_cells();\n",
       "                for (var i = 0; i < nbb_cells.length; ++i) {\n",
       "                    if (nbb_cells[i].input_prompt_number == nbb_cell_id) {\n",
       "                        if (nbb_cells[i].get_text() == nbb_unformatted_code) {\n",
       "                             nbb_cells[i].set_text(nbb_formatted_code);\n",
       "                        }\n",
       "                        break;\n",
       "                    }\n",
       "                }\n",
       "            }, 500);\n",
       "            "
      ],
      "text/plain": [
       "<IPython.core.display.Javascript object>"
      ]
     },
     "metadata": {},
     "output_type": "display_data"
    }
   ],
   "source": [
    "# Create one vector optimization variable.\n",
    "x = cp.Variable((2,), integer=False)\n",
    "\n",
    "# Create constraints.\n",
    "constraints = [\n",
    "    x[0] + 2 * x[1] >= 2,\n",
    "    x[0] >= 1,\n",
    "    x[1] >= 0,\n",
    "]\n",
    "\n",
    "# Form objective.\n",
    "obj = cp.Minimize(np.array([1, 1]) @ x)\n",
    "\n",
    "# Form and solve problem.\n",
    "prob = cp.Problem(obj, constraints)\n",
    "prob.solve()\n",
    "\n",
    "print(\"Linear Programming Solution\")\n",
    "print(\"=\" * 30)\n",
    "print(f\"Status: {prob.status}\")\n",
    "print(f\"The optimal value is: {np.round(prob.value, 2)}\")\n",
    "print(f\"The optimal solution is: x = {[np.round(x_i, 2) for x_i in x.value]}\")"
   ]
  },
  {
   "cell_type": "markdown",
   "metadata": {},
   "source": [
    "Dual Simplex Method"
   ]
  },
  {
   "cell_type": "markdown",
   "metadata": {},
   "source": [
    "<img src=\"./assets/q2_midterm_ise530.png\" />"
   ]
  },
  {
   "cell_type": "markdown",
   "metadata": {},
   "source": [
    "Dual Program:\n",
    "\n",
    "\\begin{align}\n",
    "    \\text{maximize }&2y_1 + y_2 \\\\\n",
    "    \\text{subject to }\n",
    "    &y_1 + y_2 \\leq 1 \\\\\n",
    "    &2y_1 \\leq 1\n",
    "\\end{align}"
   ]
  },
  {
   "cell_type": "markdown",
   "metadata": {},
   "source": [
    "Optimal Dual Solution by Duality: $y = c_B B^{-1}$"
   ]
  },
  {
   "cell_type": "code",
   "execution_count": 6,
   "metadata": {},
   "outputs": [
    {
     "data": {
      "text/plain": [
       "array([0.5, 0.5])"
      ]
     },
     "execution_count": 6,
     "metadata": {},
     "output_type": "execute_result"
    },
    {
     "name": "stdout",
     "output_type": "stream",
     "text": [
      "time: 3.45 ms\n"
     ]
    },
    {
     "data": {
      "application/javascript": [
       "\n",
       "            setTimeout(function() {\n",
       "                var nbb_cell_id = 6;\n",
       "                var nbb_unformatted_code = \"np.array([1, 1])@np.linalg.inv(np.array([[1, 2], [1, 0]]))\";\n",
       "                var nbb_formatted_code = \"np.array([1, 1]) @ np.linalg.inv(np.array([[1, 2], [1, 0]]))\";\n",
       "                var nbb_cells = Jupyter.notebook.get_cells();\n",
       "                for (var i = 0; i < nbb_cells.length; ++i) {\n",
       "                    if (nbb_cells[i].input_prompt_number == nbb_cell_id) {\n",
       "                        if (nbb_cells[i].get_text() == nbb_unformatted_code) {\n",
       "                             nbb_cells[i].set_text(nbb_formatted_code);\n",
       "                        }\n",
       "                        break;\n",
       "                    }\n",
       "                }\n",
       "            }, 500);\n",
       "            "
      ],
      "text/plain": [
       "<IPython.core.display.Javascript object>"
      ]
     },
     "metadata": {},
     "output_type": "display_data"
    }
   ],
   "source": [
    "np.array([1, 1]) @ np.linalg.inv(np.array([[1, 2], [1, 0]]))"
   ]
  },
  {
   "cell_type": "markdown",
   "metadata": {},
   "source": [
    "### 3."
   ]
  },
  {
   "cell_type": "code",
   "execution_count": 3,
   "metadata": {},
   "outputs": [
    {
     "name": "stdout",
     "output_type": "stream",
     "text": [
      "Linear Programming Solution\n",
      "==============================\n",
      "Status: optimal\n",
      "The optimal value is: 173.0\n",
      "The optimal solution is: x = [0.0, 30.0, 0.0, 0.0, 40.0, 30.0]\n",
      "time: 23.9 ms\n"
     ]
    },
    {
     "data": {
      "application/javascript": [
       "\n",
       "            setTimeout(function() {\n",
       "                var nbb_cell_id = 3;\n",
       "                var nbb_unformatted_code = \"# Create one vector optimization variable.\\nx = cp.Variable((6,), integer=False)\\n\\n# Create constraints.\\nconstraints = [\\n    np.ones((6,)) @ x == 100,\\n    x[0] <= 30,\\n    x[1] <= 30,\\n    x[2] + x[3] <= 50,\\n    x[5] - x[4] >= -10,\\n    x >= 0,\\n]\\n\\n# Form objective.\\nobj = cp.Maximize(np.array([1.5, 2, 1.2, 1.3, 2, 1.1]) @ x)\\n\\n# Form and solve problem.\\nprob = cp.Problem(obj, constraints)\\nprob.solve()\\n\\nprint(\\\"Linear Programming Solution\\\")\\nprint(\\\"=\\\" * 30)\\nprint(f\\\"Status: {prob.status}\\\")\\nprint(f\\\"The optimal value is: {np.round(prob.value, 2)}\\\")\\nprint(f\\\"The optimal solution is: x = {[np.round(x_i, 2) for x_i in x.value]}\\\")\";\n",
       "                var nbb_formatted_code = \"# Create one vector optimization variable.\\nx = cp.Variable((6,), integer=False)\\n\\n# Create constraints.\\nconstraints = [\\n    np.ones((6,)) @ x == 100,\\n    x[0] <= 30,\\n    x[1] <= 30,\\n    x[2] + x[3] <= 50,\\n    x[5] - x[4] >= -10,\\n    x >= 0,\\n]\\n\\n# Form objective.\\nobj = cp.Maximize(np.array([1.5, 2, 1.2, 1.3, 2, 1.1]) @ x)\\n\\n# Form and solve problem.\\nprob = cp.Problem(obj, constraints)\\nprob.solve()\\n\\nprint(\\\"Linear Programming Solution\\\")\\nprint(\\\"=\\\" * 30)\\nprint(f\\\"Status: {prob.status}\\\")\\nprint(f\\\"The optimal value is: {np.round(prob.value, 2)}\\\")\\nprint(f\\\"The optimal solution is: x = {[np.round(x_i, 2) for x_i in x.value]}\\\")\";\n",
       "                var nbb_cells = Jupyter.notebook.get_cells();\n",
       "                for (var i = 0; i < nbb_cells.length; ++i) {\n",
       "                    if (nbb_cells[i].input_prompt_number == nbb_cell_id) {\n",
       "                        if (nbb_cells[i].get_text() == nbb_unformatted_code) {\n",
       "                             nbb_cells[i].set_text(nbb_formatted_code);\n",
       "                        }\n",
       "                        break;\n",
       "                    }\n",
       "                }\n",
       "            }, 500);\n",
       "            "
      ],
      "text/plain": [
       "<IPython.core.display.Javascript object>"
      ]
     },
     "metadata": {},
     "output_type": "display_data"
    }
   ],
   "source": [
    "# Create one vector optimization variable.\n",
    "x = cp.Variable((6,), integer=False)\n",
    "\n",
    "# Create constraints.\n",
    "constraints = [\n",
    "    np.ones((6,)) @ x == 100,\n",
    "    x[0] <= 30,\n",
    "    x[1] <= 30,\n",
    "    x[2] + x[3] <= 50,\n",
    "    x[5] - x[4] >= -10,\n",
    "    x >= 0,\n",
    "]\n",
    "\n",
    "# Form objective.\n",
    "obj = cp.Maximize(np.array([1.5, 2, 1.2, 1.3, 2, 1.1]) @ x)\n",
    "\n",
    "# Form and solve problem.\n",
    "prob = cp.Problem(obj, constraints)\n",
    "prob.solve()\n",
    "\n",
    "print(\"Linear Programming Solution\")\n",
    "print(\"=\" * 30)\n",
    "print(f\"Status: {prob.status}\")\n",
    "print(f\"The optimal value is: {np.round(prob.value, 2)}\")\n",
    "print(f\"The optimal solution is: x = {[np.round(x_i, 2) for x_i in x.value]}\")"
   ]
  },
  {
   "cell_type": "code",
   "execution_count": 4,
   "metadata": {},
   "outputs": [
    {
     "data": {
      "text/plain": [
       "1.5500000000000114"
      ]
     },
     "execution_count": 4,
     "metadata": {},
     "output_type": "execute_result"
    },
    {
     "name": "stdout",
     "output_type": "stream",
     "text": [
      "time: 1.68 ms\n"
     ]
    },
    {
     "data": {
      "application/javascript": [
       "\n",
       "            setTimeout(function() {\n",
       "                var nbb_cell_id = 4;\n",
       "                var nbb_unformatted_code = \"constraints[0].dual_value\";\n",
       "                var nbb_formatted_code = \"constraints[0].dual_value\";\n",
       "                var nbb_cells = Jupyter.notebook.get_cells();\n",
       "                for (var i = 0; i < nbb_cells.length; ++i) {\n",
       "                    if (nbb_cells[i].input_prompt_number == nbb_cell_id) {\n",
       "                        if (nbb_cells[i].get_text() == nbb_unformatted_code) {\n",
       "                             nbb_cells[i].set_text(nbb_formatted_code);\n",
       "                        }\n",
       "                        break;\n",
       "                    }\n",
       "                }\n",
       "            }, 500);\n",
       "            "
      ],
      "text/plain": [
       "<IPython.core.display.Javascript object>"
      ]
     },
     "metadata": {},
     "output_type": "display_data"
    }
   ],
   "source": [
    "constraints[0].dual_value"
   ]
  },
  {
   "cell_type": "markdown",
   "metadata": {},
   "source": [
    "Dual:\n",
    "\n",
    "\\begin{align}\n",
    "    \\text{minimize }&100y_1 + 30y_2 + 30y_3 +50y_4 - 10y_5 \\\\\n",
    "    \\text{subject to }\n",
    "    &y_1 + y_2 \\leq 1.5 \\\\\n",
    "    &y_1 + y_3 \\leq 2 \\\\\n",
    "    &y_1 + y_4 \\leq 1.2 \\\\\n",
    "    &y_1 + y_4 \\leq 1.3 \\\\\n",
    "    &y_1 - y_5 \\leq 2 \\\\\n",
    "    &y_1 + y_5 \\leq 1.1 \\\\\n",
    "    &y_1 \\text{ free},  y_2,y_3,y_4 \\geq 0, y_5 \\leq 0  \n",
    "\\end{align}"
   ]
  },
  {
   "cell_type": "markdown",
   "metadata": {},
   "source": [
    "- Optimal Primal Solution from Optimal Dual Solution:\n",
    "\n",
    "By CS: $(x_1=0.0, x_2=30.0, x_3=0.0, x_4=0.0, x_5=40.0, x_6=30.0)$"
   ]
  },
  {
   "cell_type": "markdown",
   "metadata": {},
   "source": [
    "- Add $-1.4x_7$ to the objective of the primal and $-x_7$ to the LHS  of the first constraint."
   ]
  },
  {
   "cell_type": "markdown",
   "metadata": {},
   "source": [
    "- Yes you should. The dual variables / shadow prices indicate how much the objective value will increase given a unit increase in the primal constraints. $y_1 = 1.55$ means that the objective will increase by 1.55 if $100$ becomes $101$ for the RHS of the 1st constraint, this is greater than the interest paid for the amount borrowed which will be $1.40$, meaning that we can borrow at $1.04$, and yet get an increase in $1.55$ in the total return, which will be wise to take the loan."
   ]
  },
  {
   "cell_type": "markdown",
   "metadata": {},
   "source": [
    "### 4. "
   ]
  },
  {
   "cell_type": "markdown",
   "metadata": {},
   "source": [
    "<img src=\"./assets/q4_midterm_ise530.png\" />"
   ]
  },
  {
   "cell_type": "code",
   "execution_count": 12,
   "metadata": {},
   "outputs": [
    {
     "data": {
      "text/plain": [
       "array([10.82842712,  5.17157288])"
      ]
     },
     "execution_count": 12,
     "metadata": {},
     "output_type": "execute_result"
    },
    {
     "name": "stdout",
     "output_type": "stream",
     "text": [
      "time: 2.35 ms\n"
     ]
    },
    {
     "data": {
      "application/javascript": [
       "\n",
       "            setTimeout(function() {\n",
       "                var nbb_cell_id = 12;\n",
       "                var nbb_unformatted_code = \"np.linalg.eigvals(np.array([[10, -2], [-2, 6]]))\";\n",
       "                var nbb_formatted_code = \"np.linalg.eigvals(np.array([[10, -2], [-2, 6]]))\";\n",
       "                var nbb_cells = Jupyter.notebook.get_cells();\n",
       "                for (var i = 0; i < nbb_cells.length; ++i) {\n",
       "                    if (nbb_cells[i].input_prompt_number == nbb_cell_id) {\n",
       "                        if (nbb_cells[i].get_text() == nbb_unformatted_code) {\n",
       "                             nbb_cells[i].set_text(nbb_formatted_code);\n",
       "                        }\n",
       "                        break;\n",
       "                    }\n",
       "                }\n",
       "            }, 500);\n",
       "            "
      ],
      "text/plain": [
       "<IPython.core.display.Javascript object>"
      ]
     },
     "metadata": {},
     "output_type": "display_data"
    }
   ],
   "source": [
    "np.linalg.eigvals(np.array([[10, -2], [-2, 6]]))"
   ]
  },
  {
   "cell_type": "markdown",
   "metadata": {},
   "source": [
    "Eigenvalues of hessian are $> 0$, meaning that function is strictly convex."
   ]
  },
  {
   "cell_type": "code",
   "execution_count": 13,
   "metadata": {},
   "outputs": [
    {
     "data": {
      "text/plain": [
       "array([ 1., -1.])"
      ]
     },
     "execution_count": 13,
     "metadata": {},
     "output_type": "execute_result"
    },
    {
     "name": "stdout",
     "output_type": "stream",
     "text": [
      "time: 3.67 ms\n"
     ]
    },
    {
     "data": {
      "application/javascript": [
       "\n",
       "            setTimeout(function() {\n",
       "                var nbb_cell_id = 13;\n",
       "                var nbb_unformatted_code = \"np.linalg.inv(np.array([[10, -2], [-2, 6]]))@np.array([12, -8])\";\n",
       "                var nbb_formatted_code = \"np.linalg.inv(np.array([[10, -2], [-2, 6]])) @ np.array([12, -8])\";\n",
       "                var nbb_cells = Jupyter.notebook.get_cells();\n",
       "                for (var i = 0; i < nbb_cells.length; ++i) {\n",
       "                    if (nbb_cells[i].input_prompt_number == nbb_cell_id) {\n",
       "                        if (nbb_cells[i].get_text() == nbb_unformatted_code) {\n",
       "                             nbb_cells[i].set_text(nbb_formatted_code);\n",
       "                        }\n",
       "                        break;\n",
       "                    }\n",
       "                }\n",
       "            }, 500);\n",
       "            "
      ],
      "text/plain": [
       "<IPython.core.display.Javascript object>"
      ]
     },
     "metadata": {},
     "output_type": "display_data"
    }
   ],
   "source": [
    "np.linalg.inv(np.array([[10, -2], [-2, 6]])) @ np.array([12, -8])"
   ]
  },
  {
   "cell_type": "markdown",
   "metadata": {},
   "source": [
    "Solution is unique @ $x_1 = 1, x_2 = -1$"
   ]
  },
  {
   "cell_type": "markdown",
   "metadata": {},
   "source": [
    "Prediction of y: 0."
   ]
  }
 ],
 "metadata": {
  "kernelspec": {
   "display_name": "Python 3",
   "language": "python",
   "name": "python3"
  },
  "language_info": {
   "codemirror_mode": {
    "name": "ipython",
    "version": 3
   },
   "file_extension": ".py",
   "mimetype": "text/x-python",
   "name": "python",
   "nbconvert_exporter": "python",
   "pygments_lexer": "ipython3",
   "version": "3.8.5"
  },
  "latex_envs": {
   "LaTeX_envs_menu_present": true,
   "autoclose": false,
   "autocomplete": true,
   "bibliofile": "biblio.bib",
   "cite_by": "apalike",
   "current_citInitial": 1,
   "eqLabelWithNumbers": true,
   "eqNumInitial": 1,
   "hotkeys": {
    "equation": "Ctrl-E",
    "itemize": "Ctrl-I"
   },
   "labels_anchors": false,
   "latex_user_defs": false,
   "report_style_numbering": false,
   "user_envs_cfg": false
  }
 },
 "nbformat": 4,
 "nbformat_minor": 4
}
