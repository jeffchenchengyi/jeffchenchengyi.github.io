{
 "cells": [
  {
   "cell_type": "markdown",
   "id": "external-video",
   "metadata": {},
   "source": [
    "# 8. Graphical Models [Empty]"
   ]
  },
  {
   "cell_type": "code",
   "execution_count": null,
   "id": "thermal-version",
   "metadata": {},
   "outputs": [],
   "source": [
    "%load_ext autotime\n",
    "%load_ext nb_black\n",
    "%matplotlib inline\n",
    "\n",
    "import os\n",
    "from collections import defaultdict\n",
    "import torch\n",
    "import numpy as np\n",
    "import pandas as pd\n",
    "import cvxpy as cp\n",
    "import scipy.stats\n",
    "from scipy import optimize\n",
    "from sympy import *\n",
    "from torch.distributions import constraints\n",
    "import matplotlib.pyplot as plt\n",
    "\n",
    "plt.rcParams[\"figure.dpi\"] = 300\n",
    "plt.rcParams[\"figure.figsize\"] = (16, 12)\n",
    "\n",
    "import pyro\n",
    "import pyro.distributions as dist\n",
    "from pyro import poutine\n",
    "from pyro.infer.autoguide import AutoDelta\n",
    "from pyro.optim import Adam\n",
    "from pyro.infer import SVI, TraceEnum_ELBO, config_enumerate, infer_discrete\n",
    "\n",
    "smoke_test = \"CI\" in os.environ\n",
    "assert pyro.__version__.startswith(\"1.5.1\")\n",
    "pyro.enable_validation(True)"
   ]
  },
  {
   "cell_type": "markdown",
   "id": "adjustable-ranking",
   "metadata": {},
   "source": [
    "---\n",
    "## 8.1. Bayesian Networks"
   ]
  },
  {
   "cell_type": "markdown",
   "id": "technical-summit",
   "metadata": {},
   "source": [
    "### 8.1.1 Example: Polynomial Regression"
   ]
  },
  {
   "cell_type": "markdown",
   "id": "electronic-somerset",
   "metadata": {},
   "source": [
    "### 8.1.2 Generative models"
   ]
  },
  {
   "cell_type": "markdown",
   "id": "numeric-television",
   "metadata": {},
   "source": [
    "### 8.1.3 Discrete variables"
   ]
  },
  {
   "cell_type": "markdown",
   "id": "straight-devil",
   "metadata": {},
   "source": [
    "### 8.1.4 Linear-Gaussian models"
   ]
  },
  {
   "cell_type": "markdown",
   "id": "inclusive-approval",
   "metadata": {},
   "source": [
    "---\n",
    "## 8.2. Conditional Independence"
   ]
  },
  {
   "cell_type": "markdown",
   "id": "rocky-strand",
   "metadata": {},
   "source": [
    "### 8.2.1 Three example graphs"
   ]
  },
  {
   "cell_type": "markdown",
   "id": "international-detection",
   "metadata": {},
   "source": [
    "### 8.2.2 D-separation"
   ]
  },
  {
   "cell_type": "markdown",
   "id": "fuzzy-subscription",
   "metadata": {},
   "source": [
    "---\n",
    "## 8.3. Markov Random Fields"
   ]
  },
  {
   "cell_type": "markdown",
   "id": "vocal-spencer",
   "metadata": {},
   "source": [
    "### 8.3.1 Conditional independence properties"
   ]
  },
  {
   "cell_type": "markdown",
   "id": "verified-mainstream",
   "metadata": {},
   "source": [
    "### 8.3.2 Factorization properties"
   ]
  },
  {
   "cell_type": "markdown",
   "id": "superb-assets",
   "metadata": {},
   "source": [
    "### 8.3.3 Illustration: Image de-noising"
   ]
  },
  {
   "cell_type": "markdown",
   "id": "frequent-cycle",
   "metadata": {},
   "source": [
    "### 8.3.4 Relation to directed graphs"
   ]
  },
  {
   "cell_type": "markdown",
   "id": "aware-phone",
   "metadata": {},
   "source": [
    "---\n",
    "## 8.4. Inference in Graphical Models"
   ]
  },
  {
   "cell_type": "markdown",
   "id": "rising-richmond",
   "metadata": {},
   "source": [
    "### 8.4.1 Inference on a chain"
   ]
  },
  {
   "cell_type": "markdown",
   "id": "presidential-active",
   "metadata": {},
   "source": [
    "### 8.4.2 Trees"
   ]
  },
  {
   "cell_type": "markdown",
   "id": "south-muscle",
   "metadata": {},
   "source": [
    "### 8.4.3 Factor graphs"
   ]
  },
  {
   "cell_type": "markdown",
   "id": "affecting-pharmacology",
   "metadata": {},
   "source": [
    "### 8.4.4 The sum-product algorithm"
   ]
  },
  {
   "cell_type": "markdown",
   "id": "activated-journalist",
   "metadata": {},
   "source": [
    "### 8.4.5 The max-sum algorithm"
   ]
  },
  {
   "cell_type": "markdown",
   "id": "typical-ecology",
   "metadata": {},
   "source": [
    "### 8.4.6 Exact inference in general graphs"
   ]
  },
  {
   "cell_type": "markdown",
   "id": "appointed-constitution",
   "metadata": {},
   "source": [
    "### 8.4.7 Loopy belief propagation"
   ]
  },
  {
   "cell_type": "markdown",
   "id": "continuous-forum",
   "metadata": {},
   "source": [
    "### 8.4.8 Learning the graph structure"
   ]
  }
 ],
 "metadata": {
  "kernelspec": {
   "display_name": "Python 3",
   "language": "python",
   "name": "python3"
  },
  "language_info": {
   "codemirror_mode": {
    "name": "ipython",
    "version": 3
   },
   "file_extension": ".py",
   "mimetype": "text/x-python",
   "name": "python",
   "nbconvert_exporter": "python",
   "pygments_lexer": "ipython3",
   "version": "3.8.5"
  },
  "latex_envs": {
   "LaTeX_envs_menu_present": true,
   "autoclose": false,
   "autocomplete": true,
   "bibliofile": "biblio.bib",
   "cite_by": "apalike",
   "current_citInitial": 1,
   "eqLabelWithNumbers": true,
   "eqNumInitial": 1,
   "hotkeys": {
    "equation": "Ctrl-E",
    "itemize": "Ctrl-I"
   },
   "labels_anchors": false,
   "latex_user_defs": false,
   "report_style_numbering": false,
   "user_envs_cfg": false
  }
 },
 "nbformat": 4,
 "nbformat_minor": 5
}
