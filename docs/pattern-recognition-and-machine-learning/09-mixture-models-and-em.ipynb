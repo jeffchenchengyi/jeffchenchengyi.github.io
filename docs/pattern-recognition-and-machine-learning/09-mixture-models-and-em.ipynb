{
 "cells": [
  {
   "cell_type": "markdown",
   "id": "understood-relations",
   "metadata": {},
   "source": [
    "# 9. Mixture Models and EM [In Progress]"
   ]
  },
  {
   "cell_type": "code",
   "execution_count": null,
   "id": "thermal-version",
   "metadata": {},
   "outputs": [],
   "source": [
    "%load_ext autotime\n",
    "%load_ext nb_black\n",
    "%matplotlib inline\n",
    "\n",
    "import os\n",
    "from collections import defaultdict\n",
    "import torch\n",
    "import numpy as np\n",
    "import pandas as pd\n",
    "import cvxpy as cp\n",
    "import scipy.stats\n",
    "from scipy import optimize\n",
    "from sympy import *\n",
    "from torch.distributions import constraints\n",
    "import matplotlib.pyplot as plt\n",
    "\n",
    "plt.rcParams[\"figure.dpi\"] = 300\n",
    "plt.rcParams[\"figure.figsize\"] = (16, 12)\n",
    "\n",
    "import pyro\n",
    "import pyro.distributions as dist\n",
    "from pyro import poutine\n",
    "from pyro.infer.autoguide import AutoDelta\n",
    "from pyro.optim import Adam\n",
    "from pyro.infer import SVI, TraceEnum_ELBO, config_enumerate, infer_discrete\n",
    "\n",
    "smoke_test = \"CI\" in os.environ\n",
    "assert pyro.__version__.startswith(\"1.5.1\")\n",
    "pyro.enable_validation(True)"
   ]
  },
  {
   "cell_type": "markdown",
   "id": "nuclear-spirituality",
   "metadata": {},
   "source": [
    "---\n",
    "## 9.1. $K$-means Clustering"
   ]
  },
  {
   "cell_type": "markdown",
   "id": "executive-cherry",
   "metadata": {},
   "source": [
    "Problem Setup\n",
    "\n",
    "- I.I.D. Observed data: $\\mathcal{X} = \\left(\\mathbf{x}^{(1)}, \\mathbf{x}^{(2)}, \\cdots, \\mathbf{x}^{(N)}\\right), \\mathbf{x}^{(i)} \\in \\mathbb{R}^{D}$\n",
    "    \n",
    "- Goal: Assign each observation $\\mathbf{x}^{(i)}$ to a cluster $k = 1, \\cdots, K$ \n",
    "\n",
    "- How?\n",
    "\n",
    "    - Find a set of vectors representing each cluster $(\\mu_1, \\cdots, \\mu_K)$\n",
    "    \n",
    "    - Assign each observation to the cluster $k$ if $k = \\underset{j}{\\arg\\min} \\lVert \\mathbf{x}^{(i)} - \\mu_j \\rVert^2 $"
   ]
  },
  {
   "cell_type": "markdown",
   "id": "reasonable-gauge",
   "metadata": {},
   "source": [
    "Optimization Formulation\n",
    "\n",
    "\\begin{aligned}\n",
    "    \\underset{\\mu_j, r_{ik} \\forall i \\in \\{1, \\cdots, N\\}, k \\in \\{1, \\cdots, K \\}}{\\arg\\min} &\\sum^{N}_{i=1}\\sum^{K}_{j=1}r_{ik}\\lVert \\mathbf{x}^{(i)} - \\mu_j \\rVert^2 \\\\\n",
    "    \\text{subject to }\n",
    "    r_{ik} &= \n",
    "    \\begin{cases}\n",
    "        1 \\\\\n",
    "        0 \\\\\n",
    "    \\end{cases} \\\\\n",
    "\\end{aligned}"
   ]
  },
  {
   "cell_type": "markdown",
   "id": "former-catalyst",
   "metadata": {},
   "source": [
    "### 9.1.1 Image segmentation and compression"
   ]
  },
  {
   "cell_type": "markdown",
   "id": "greatest-shore",
   "metadata": {},
   "source": [
    "---\n",
    "## 9.2. Mixtures of Gaussians"
   ]
  },
  {
   "cell_type": "markdown",
   "id": "simplified-juice",
   "metadata": {},
   "source": [
    "### 9.2.1 Maximum likelihood"
   ]
  },
  {
   "cell_type": "markdown",
   "id": "surgical-advantage",
   "metadata": {},
   "source": [
    "### 9.2.2 EM for Gaussian mixtures"
   ]
  },
  {
   "cell_type": "markdown",
   "id": "elegant-knight",
   "metadata": {},
   "source": [
    "---\n",
    "## 9.3. An Alternative View of EM"
   ]
  },
  {
   "cell_type": "markdown",
   "id": "quick-hearing",
   "metadata": {},
   "source": [
    "### 9.3.1 Gaussian mixtures revisited"
   ]
  },
  {
   "cell_type": "markdown",
   "id": "nutritional-interpretation",
   "metadata": {},
   "source": [
    "### 9.3.2 Relation to $K$-means"
   ]
  },
  {
   "cell_type": "markdown",
   "id": "addressed-circus",
   "metadata": {},
   "source": [
    "### 9.3.3 Mixtures of Bernoulli distributions"
   ]
  },
  {
   "cell_type": "markdown",
   "id": "electrical-invitation",
   "metadata": {},
   "source": [
    "### 9.3.4 EM for Bayesian linear regression"
   ]
  },
  {
   "cell_type": "markdown",
   "id": "excess-sixth",
   "metadata": {},
   "source": [
    "---\n",
    "## 9.4. The EM Algorithm in General"
   ]
  }
 ],
 "metadata": {
  "kernelspec": {
   "display_name": "Python 3",
   "language": "python",
   "name": "python3"
  },
  "language_info": {
   "codemirror_mode": {
    "name": "ipython",
    "version": 3
   },
   "file_extension": ".py",
   "mimetype": "text/x-python",
   "name": "python",
   "nbconvert_exporter": "python",
   "pygments_lexer": "ipython3",
   "version": "3.8.5"
  },
  "latex_envs": {
   "LaTeX_envs_menu_present": true,
   "autoclose": false,
   "autocomplete": true,
   "bibliofile": "biblio.bib",
   "cite_by": "apalike",
   "current_citInitial": 1,
   "eqLabelWithNumbers": true,
   "eqNumInitial": 1,
   "hotkeys": {
    "equation": "Ctrl-E",
    "itemize": "Ctrl-I"
   },
   "labels_anchors": false,
   "latex_user_defs": false,
   "report_style_numbering": false,
   "user_envs_cfg": false
  }
 },
 "nbformat": 4,
 "nbformat_minor": 5
}
