{
 "cells": [
  {
   "cell_type": "markdown",
   "id": "64950efa",
   "metadata": {},
   "source": [
    "# Machine Learning *In*Frequently Asked Questions"
   ]
  },
  {
   "cell_type": "markdown",
   "id": "1a37b31f",
   "metadata": {},
   "source": [
    "By: Chengyi (Jeff) Chen"
   ]
  },
  {
   "cell_type": "markdown",
   "id": "feb203be",
   "metadata": {},
   "source": [
    "The purpose of this section is to explore answers to questions that (in my opinion) are rarely asked but go beyond the conventional ML curriculum. Or perhaps just that I wasn't paying enough attention during class HAHA. \n",
    "\n",
    "**Note: The answers here are subject to my own interpretation and should only be used as a secondary point of reference to the actual material that I've linked.**"
   ]
  },
  {
   "cell_type": "markdown",
   "id": "dcbf033b",
   "metadata": {},
   "source": [
    "---\n",
    "## General Statistics"
   ]
  },
  {
   "cell_type": "markdown",
   "id": "b31e1ac2",
   "metadata": {},
   "source": [
    "Q: [What's the difference between Law of Large Numbers and the Central Limit Theorem?](https://ocw.mit.edu/courses/mathematics/18-05-introduction-to-probability-and-statistics-spring-2014/readings/MIT18_05S14_Reading6b.pdf)\n",
    "\n",
    "A: \n",
    "\n",
    "Suppose $X_1, X_2, \\ldots , X_n$ are independent random variables with the same underlying distribution. In this case, we say that the $X_i$ are independent and identically-distributed, or i.i.d. In particular, the $X_i$ all have the same mean $\\mu$ and standard deviation $\\sigma$.\n",
    "\n",
    "Let $\\bar{X_n}$ be the average of $X_1, \\ldots , X_n$:\n",
    "\n",
    "\\begin{align}\n",
    "    \\bar{X_n}\n",
    "    &= \\frac{X_1 + X_2 + \\ldots + X_n}{n} \\\\\n",
    "    &= \\frac{1}{n} \\sum^n_{i=1}X_i \\\\\n",
    "\\end{align}\n",
    "\n",
    "Note that $\\bar{X_n}$ is itself a random variable. The law of large numbers and central limit theorem tell us about the value and distribution of $\\bar{X_n}$, respectively.\n",
    "\n",
    "LoLN: As $n$ grows, the probability that $\\bar{X_n}$ is close to $\\mu$ goes to 1.\n",
    "\n",
    "CLT: As $n$ grows, the distribution of \\bar{X_n} converges to the normal distribution $N(\\mu, \\sigma^2/n)$."
   ]
  },
  {
   "cell_type": "markdown",
   "id": "7183b267",
   "metadata": {},
   "source": []
  }
 ],
 "metadata": {
  "kernelspec": {
   "display_name": "Python [conda env:ml]",
   "language": "python",
   "name": "conda-env-ml-py"
  },
  "language_info": {
   "codemirror_mode": {
    "name": "ipython",
    "version": 3
   },
   "file_extension": ".py",
   "mimetype": "text/x-python",
   "name": "python",
   "nbconvert_exporter": "python",
   "pygments_lexer": "ipython3",
   "version": "3.8.8"
  }
 },
 "nbformat": 4,
 "nbformat_minor": 5
}
