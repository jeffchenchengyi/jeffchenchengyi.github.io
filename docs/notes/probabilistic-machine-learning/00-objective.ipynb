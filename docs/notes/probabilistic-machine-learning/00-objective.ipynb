{
 "cells": [
  {
   "cell_type": "markdown",
   "id": "2bf4a107",
   "metadata": {},
   "source": [
    "# Probabilistic Machine Learning"
   ]
  },
  {
   "cell_type": "markdown",
   "id": "82e230e5",
   "metadata": {},
   "source": [
    "By: Chengyi (Jeff) Chen"
   ]
  },
  {
   "cell_type": "markdown",
   "id": "51148111",
   "metadata": {},
   "source": [
    "---\n",
    "## Introduction"
   ]
  },
  {
   "cell_type": "markdown",
   "id": "b54d3b33",
   "metadata": {},
   "source": [
    "The purpose of these sets of notes is to connect ideas crossing the realms of frequentist, bayesian, probabilistic machine learning vernacular, e.g. how 1. frequentist maximum likelihood estimation is related to 2. partial bayesian maximum a posteriori and 3. full bayesian inference. I'm in no way an expert of the philosophical and practical differences between the the frequentist vs. bayesian perspective nor am I close to being good at mathematics -- here's just what I've gathered from my readings, subject to my own interpretation. Throughout, I'll be drawing ideas from computer programming as well, specifically notes on [Uber's Pyro PPL](http://pyro.ai/examples/intro_long.html). Starting from first principles, we ask: **\"What are we even trying to do in machine learning?\"**"
   ]
  },
  {
   "cell_type": "markdown",
   "id": "6b10dc39",
   "metadata": {},
   "source": [
    "---\n",
    "## Setup"
   ]
  },
  {
   "cell_type": "markdown",
   "id": "e3a0cb7c",
   "metadata": {},
   "source": [
    "Before we distinguish between supervised, unsupervised, semi-supervised learning, here's the general probabilistic machine learning setting:"
   ]
  },
  {
   "cell_type": "markdown",
   "id": "a467940f",
   "metadata": {},
   "source": [
    "We are given a matrix of observed training data $\\mathbf{X}_{\\text{train}} = \\{ \\mathbf{x}_1, \\mathbf{x}_2, \\mathbf{x}_3, \\ldots \\mathbf{x}_N \\}$ as independent samples generated from a true data distribution $f(\\mathcal{X})$, where $\\mathbf{x} \\in \\mathcal{X}$ (the set of observed data values)."
   ]
  },
  {
   "cell_type": "markdown",
   "id": "3a26586f",
   "metadata": {},
   "source": [
    "---\n",
    "## Model"
   ]
  },
  {
   "cell_type": "markdown",
   "id": "7311794a",
   "metadata": {},
   "source": [
    "We specify a probabilistic model of the form:"
   ]
  },
  {
   "cell_type": "markdown",
   "id": "f1c1c9c4",
   "metadata": {},
   "source": [
    "\\begin{align}\n",
    "    p(\\mathcal{X}, \\mathcal{Z} ; \\Theta = \\theta) \\\\\n",
    "\\end{align}"
   ]
  },
  {
   "cell_type": "markdown",
   "id": "53a52631",
   "metadata": {},
   "source": [
    "to learn $\\mathbf{X}_{\\text{train}}$ to approximate $f(\\mathcal{X})$, where $\\mathbf{z} \\in \\mathcal{Z}$ are a set of latent / unobserved random variables, as we make no assumptions on whether the observable dataset $\\mathbf{X}_{\\text{train}}$ contains all information about the system. This joint probability over both the observed data and latent random variables as a function of the parameters $\\Theta$ is often called the **complete data [likelihood](https://en.wikipedia.org/wiki/Likelihood_function)** and is usually factorized into conditional dependencies by representing the joint probability as a [directed graphical model](https://en.wikipedia.org/wiki/Graphical_model), e.g. a Gaussian [Mixture Model](https://en.wikipedia.org/wiki/Mixture_model):"
   ]
  },
  {
   "cell_type": "markdown",
   "id": "7118a224",
   "metadata": {},
   "source": [
    "```{figure} https://upload.wikimedia.org/wikipedia/commons/thumb/2/28/Bayesian-gaussian-mixture.svg/600px-Bayesian-gaussian-mixture.svg.png\n",
    ":name: Gaussian Mixture Model\n",
    "\n",
    "Gaussian Mixture Model Directed Graphical Model\n",
    "```"
   ]
  },
  {
   "cell_type": "markdown",
   "id": "dccabb9f",
   "metadata": {},
   "source": [
    "\\begin{align}\n",
    "    p(\\mathcal{X} ; \\Theta = \\theta) \n",
    "    &= \\int_{\\mathbf{z} \\in \\mathcal{Z}} p(\\mathcal{X}, \\mathcal{Z} = \\mathbf{z}; \\Theta = \\theta) d\\mathcal{Z} \\\\\n",
    "\\end{align}"
   ]
  },
  {
   "cell_type": "markdown",
   "id": "73120d98",
   "metadata": {},
   "source": [
    "is then called the **incomplete data likelihood** / **evidence** / **marginal likelihood** (because we marginalized out $\\mathcal{Z}$ to keep only $\\mathcal{X}$. Firstly, note that $\\Theta = \\theta$ are fixed parameters (\"$;$\" is used instead of \"$\\vert$\" in the conditioning of $\\theta$ to indicate that it is a \"frequentist\" fixed parameter and not a \"bayesian\" random variable). Secondly, note that we have to marginalize out the latent variables / work only with the joint probability model because that's the only model we have access to; we have no direct access to the marginal probability $p(\\mathcal{X} ; \\Theta = \\theta) $ directly."
   ]
  },
  {
   "cell_type": "markdown",
   "id": "fba41874",
   "metadata": {},
   "source": [
    "---\n",
    "## Objectives"
   ]
  },
  {
   "cell_type": "markdown",
   "id": "1f4ea288",
   "metadata": {},
   "source": [
    "Learning such a probabilistic model has [2 primary objectives](https://pyro.ai/examples/intro_long.html#Background:-inference,-learning-and-evaluation):"
   ]
  },
  {
   "cell_type": "markdown",
   "id": "3c96ad89",
   "metadata": {},
   "source": [
    "### Objective 1"
   ]
  },
  {
   "cell_type": "markdown",
   "id": "6d8b9bf6",
   "metadata": {},
   "source": [
    "Draw conclusions about the posterior distribution of our latent variables $\\mathcal{Z}$:"
   ]
  },
  {
   "cell_type": "markdown",
   "id": "f7d76057",
   "metadata": {},
   "source": [
    "\\begin{align}\n",
    "    p(\\mathcal{Z} \\vert \\mathcal{X} = \\mathbf{X}_{\\text{train}}; \\Theta = \\theta) \n",
    "    &= \\frac{p(\\mathcal{X} = \\mathbf{X}_{\\text{train}}, \\mathcal{Z}; \\Theta = \\theta)}{\\int_{\\mathbf{z} \\in \\mathcal{Z}} p(\\mathcal{X} = \\mathbf{X}_{\\text{train}}, \\mathcal{Z} = \\mathbf{z}; \\Theta = \\theta) d\\mathbf{z}} \\\\\n",
    "\\end{align}"
   ]
  },
  {
   "cell_type": "markdown",
   "id": "a2eb062c",
   "metadata": {},
   "source": [
    "### Objective 2"
   ]
  },
  {
   "cell_type": "markdown",
   "id": "c3f41b76",
   "metadata": {},
   "source": [
    "Make predictions for new data, which we can do with the posterior predictive distribution:"
   ]
  },
  {
   "cell_type": "markdown",
   "id": "678b5e14",
   "metadata": {},
   "source": [
    "\\begin{align}\n",
    "    p(\\mathcal{X} = \\mathbf{X}_{\\text{test}} \\vert \\mathcal{X} = \\mathbf{X}_{\\text{train}}; \\Theta = \\theta) &= \\int_{\\mathbf{z} \\in \\mathcal{Z}} p(\\mathcal{X} = \\mathbf{X}_{\\text{test}} \\vert \\mathcal{Z} = \\mathbf{z}; \\Theta = \\theta) p(\\mathcal{Z} = \\mathbf{z} \\vert \\mathcal{X} = \\mathbf{X}_{\\text{train}}; \\Theta = \\theta)  d\\mathbf{z} \\\\\n",
    "\\end{align}"
   ]
  }
 ],
 "metadata": {
  "kernelspec": {
   "display_name": "Python [conda env:ml]",
   "language": "python",
   "name": "conda-env-ml-py"
  },
  "language_info": {
   "codemirror_mode": {
    "name": "ipython",
    "version": 3
   },
   "file_extension": ".py",
   "mimetype": "text/x-python",
   "name": "python",
   "nbconvert_exporter": "python",
   "pygments_lexer": "ipython3",
   "version": "3.8.8"
  }
 },
 "nbformat": 4,
 "nbformat_minor": 5
}
