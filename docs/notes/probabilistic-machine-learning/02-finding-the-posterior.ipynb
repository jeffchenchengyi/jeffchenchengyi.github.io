{
 "cells": [
  {
   "cell_type": "markdown",
   "id": "988f7073",
   "metadata": {},
   "source": [
    "# Finding the Posterior of Latent Variables $\\mathcal{Z}$"
   ]
  },
  {
   "cell_type": "markdown",
   "id": "a760c8dc",
   "metadata": {},
   "source": [
    "By: Chengyi (Jeff) Chen"
   ]
  },
  {
   "cell_type": "markdown",
   "id": "20ba2fdc",
   "metadata": {},
   "source": [
    "---\n",
    "## Exact Posterior"
   ]
  },
  {
   "cell_type": "markdown",
   "id": "96b5b133",
   "metadata": {},
   "source": [
    "---\n",
    "## Approximate Posterior"
   ]
  },
  {
   "cell_type": "markdown",
   "id": "11e27314",
   "metadata": {},
   "source": [
    "### Searching for the ELBO"
   ]
  },
  {
   "cell_type": "markdown",
   "id": "7a46e781",
   "metadata": {},
   "source": [
    "Using ideas from importance sampling, assume we have another variational distribution [approximate posterior distribution to $p({\\mathcal{Z}} \\mid {\\mathcal{X}} ; \\Theta = \\theta)$], $q(\\mathcal{Z} ; \\Phi = \\phi)$, where $q(\\mathcal{Z} ; \\Phi = \\phi) > 0$ whenever $p({\\mathcal{Z}}) = \\int_{\\mathbf{x} \\in \\mathcal{X}} p({\\mathcal{X}} = x, {\\mathcal{Z}} \\mid {\\bf \\theta}) > 0$, and we rewite:"
   ]
  },
  {
   "cell_type": "markdown",
   "id": "461fa42f",
   "metadata": {},
   "source": [
    "\\begin{align}\n",
    "    \\log p(\\mathcal{X} \\mid \\boldsymbol{\\theta }) \n",
    "    &= \\log \\sum_{z \\in \\mathcal{Z}} p(\\mathcal{X} ,\\mathcal{Z} = z \\mid {\\boldsymbol {\\theta }}) \\frac{q({\\mathcal{Z} = z} \\mid {\\bf \\phi})}{q({\\mathcal{Z} = z} \\mid {\\bf \\phi})} \\\\\n",
    "    &= \\log \\operatorname {E}_{q({\\mathcal{Z} = z} \\mid {\\bf \\phi})} \\left[\\frac{p(\\mathcal{X} ,\\mathcal{Z} = z \\mid {\\boldsymbol {\\theta }})}{q({\\mathcal{Z} = z} \\mid {\\bf \\phi})} \\right] \\\\\n",
    "\\end{align}"
   ]
  },
  {
   "cell_type": "markdown",
   "id": "5f83061b",
   "metadata": {},
   "source": [
    "By Jensen's Inequality, given concave function $f(X)$ (e.g. $\\log$), $f\\operatorname {E}\\left[X\\right] \\geq \\operatorname {E}\\left[f(X)\\right]$ {cite}`Variatio28:online`:"
   ]
  },
  {
   "cell_type": "markdown",
   "id": "f7466321",
   "metadata": {},
   "source": [
    "\\begin{align}\n",
    "    \\log p(\\mathcal{X} \\mid \\boldsymbol{\\theta }) \n",
    "    &= \\log \\operatorname {E}_{q({\\mathcal{Z} = z} \\mid {\\bf \\phi})} \\left[\\frac{p(\\mathcal{X} ,\\mathcal{Z} = z \\mid {\\boldsymbol {\\theta }})}{q({\\mathcal{Z} = z} \\mid {\\bf \\phi})} \\right] \\\\\n",
    "    &\\geq \\operatorname {E}_{q({\\mathcal{Z} = z} \\mid {\\bf \\phi})} \\left[\\log\\left(\\frac{p(\\mathcal{X} ,\\mathcal{Z} = z \\mid {\\boldsymbol {\\theta }})}{q({\\mathcal{Z} = z} \\mid {\\bf \\phi})}\\right)\\right] \\\\\n",
    "    &= \\operatorname {E}_{q({\\mathcal{Z} = z} \\mid {\\bf \\phi})} \\left[\\log p(\\mathcal{X} ,\\mathcal{Z} = z \\mid {\\boldsymbol {\\theta }}) - \\log q({\\mathcal{Z} = z} \\mid {\\bf \\phi})\\right] \\\\\n",
    "    &= \\operatorname {E}_{q({\\mathcal{Z} = z} \\mid {\\bf \\phi})} \\left[\\log p(\\mathcal{X} ,\\mathcal{Z} = z \\mid {\\boldsymbol {\\theta }})\\right] - \\operatorname {E}_{q({\\mathcal{Z} = z} \\mid {\\bf \\phi})} \\left[\\log q({\\mathcal{Z} = z} \\mid {\\bf \\phi})\\right] \\\\\n",
    "    &= \\underbrace{\\underbrace{\\operatorname {E}_{q({\\mathcal{Z} = z} \\mid {\\bf \\phi})} \\left[\\log p(\\mathcal{X} ,\\mathcal{Z} = z \\mid {\\boldsymbol {\\theta }})\\right]}_{\\text{Expected Complete-data Log Likelihood}} + \\underbrace{\\operatorname{H}\\left[\\log q({\\mathcal{Z}} \\mid {\\bf \\phi})\\right]}_{\\text{Entropy of Variational Dist.}}}_{\\text{ELBO / Negative Variational Free Energy } \\mathcal{L}(q({\\mathcal{Z}}\\mid {\\bf \\phi}))} \\\\\n",
    "\\end{align}"
   ]
  },
  {
   "cell_type": "markdown",
   "id": "47116bf0",
   "metadata": {},
   "source": [
    "Hence, we get an ***Evidence Lower Bound (ELBO)*** (also known as the ***Negative Variational Free Energy***) on the $\\log$ Evidence. Instead of an inequality, we can get an exact equality of the form below by deriving the ELBO from rearranging the KL Divergence from our variational distribution (approximate posterior of latent variables) $q({\\mathcal{Z}} \\mid {\\bf \\phi})$ to our actual posterior over latent variables $p({\\mathcal{Z}} \\mid {\\mathcal{x}}, {\\bf \\theta})$:"
   ]
  },
  {
   "cell_type": "markdown",
   "id": "1e4eb447",
   "metadata": {},
   "source": [
    "Derivation from ${\\rm KL}(q({\\mathcal{Z}} \\mid {\\bf \\phi}) \\mid\\mid p({\\mathcal{Z}} \\mid {\\mathcal{x}}, {\\bf \\theta}))$:\n",
    "\n",
    "\\begin{align}\n",
    "    {\\rm KL}(q({\\mathcal{Z}} \\mid {\\bf \\phi}) \\mid\\mid p({\\mathcal{Z}} \\mid {\\mathcal{x}}, {\\bf \\theta}))\n",
    "    &= \\operatorname{E}_{q({\\mathcal{Z} = z} \\mid {\\bf \\phi})}\\left[\\log\\left(\\frac{q({\\mathcal{Z} = z} \\mid {\\bf \\phi})}{p({\\mathcal{Z} = z} \\mid {\\mathcal{x}}, {\\bf \\theta})}\\right)\\right] \\\\\n",
    "    &= \\operatorname{E}_{q({\\mathcal{Z} = z} \\mid {\\bf \\phi})}\\left[\\log q({\\mathcal{Z} = z} \\mid {\\bf \\phi})\\right] - \\operatorname{E}_{q({\\mathcal{Z} = z} \\mid {\\bf \\phi})}\\left[\\log p({\\mathcal{Z} = z} \\mid {\\mathcal{x}}, {\\bf \\theta})\\right] \\\\\n",
    "    &= \\operatorname{E}_{q({\\mathcal{Z} = z} \\mid {\\bf \\phi})}\\left[\\log q({\\mathcal{Z} = z} \\mid {\\bf \\phi})\\right] - \\operatorname{E}_{q({\\mathcal{Z} = z} \\mid {\\bf \\phi})}\\left[\\log p({\\mathcal{Z} = z}, {\\mathcal{x}} \\mid {\\bf \\theta})\\right] + \\operatorname{E}_{q({\\mathcal{Z} = z} \\mid {\\bf \\phi})}\\left[\\log p({\\mathcal{x}} \\mid {\\bf \\theta})\\right] \\\\\n",
    "    &= -\\left[\\operatorname {E}_{q({\\mathcal{Z} = z} \\mid {\\bf \\phi})} \\left[\\log p(\\mathcal{X} ,\\mathcal{Z} = z \\mid {\\boldsymbol {\\theta }})\\right] + \\operatorname{H}\\left[\\log q({\\mathcal{Z}} \\mid {\\bf \\phi})\\right]\\right] + \\operatorname{E}_{q({\\mathcal{Z} = z} \\mid {\\bf \\phi})}\\left[\\log p({\\mathcal{x}} \\mid {\\bf \\theta})\\right] \\\\\n",
    "    &= -\\mathcal{L}(q({\\mathcal{Z} = z}\\mid {\\bf \\phi})) + \\log p({\\mathcal{x}} \\mid {\\bf \\theta}) \\because \\text{Expectation is over latent variables }{\\mathcal{Z} = z}\\text{, which is independent of }{\\mathcal{x}} \\\\\n",
    "\\end{align}"
   ]
  },
  {
   "cell_type": "markdown",
   "id": "ba29b290",
   "metadata": {},
   "source": [
    "\\begin{align}\n",
    "    \\therefore \\log p({\\mathcal{x}} \\mid {\\bf \\theta}) \n",
    "    &= \\mathcal{L}(q({\\mathcal{Z}} \\mid {\\bf \\phi})) + {\\rm KL}(q({\\mathcal{Z}} \\mid {\\bf \\phi}) \\mid\\mid p({\\mathcal{Z}} \\mid {\\mathcal{x}}, {\\bf \\theta})) \\\\\n",
    "\\end{align}"
   ]
  },
  {
   "cell_type": "markdown",
   "id": "b01ce480",
   "metadata": {},
   "source": [
    "Since $\\log p({\\mathcal{x}} \\mid {\\bf \\theta})$ is a constant, maximizing our ELBO / Negative Variational Free Energy will be equivalent to minimizing the ${\\rm KL}(q({\\mathcal{Z}} \\mid {\\bf \\phi}) \\mid\\mid p({\\mathcal{Z}} \\mid {\\mathcal{x}}, {\\bf \\theta}))$ (0 when $q({\\mathcal{Z}} \\mid {\\bf \\phi}) = p({\\mathcal{Z}} \\mid {\\mathcal{x}}, {\\bf \\theta})$), making our variational approximation as close as possible to the actual posterior over latents. After this procedure, our 2 tasks will look like:"
   ]
  },
  {
   "cell_type": "markdown",
   "id": "29f00c75",
   "metadata": {},
   "source": [
    "- 1. Find the MLE (${\\bf\\theta}, {\\bf\\phi}$ are parameters) / MAP (${\\bf\\theta}, {\\bf\\phi}$ are random variables) estimates of the model parameters ${\\bf \\theta_{\\rm{max}}}, {\\bf \\phi_{\\rm{max}}}$ by maximizing the ELBO:\n",
    "\n",
    "\\begin{align}\n",
    "    {\\bf\\theta_{\\rm{max}}} &= \\underset{\\boldsymbol {\\theta}}{\\operatorname{argmax}} \\log p(\\mathcal{X} \\mid \\boldsymbol{\\theta }) \\\\\n",
    "    {\\bf\\theta_{\\rm{max}}}, {\\bf\\phi_{\\rm{max}}} &\\approx \\underset{{\\bf \\theta}, {\\bf \\phi}}{\\operatorname{argmax}} \\mathcal{L}(q({\\mathcal{Z}} \\mid {\\bf \\phi})) \\\\\n",
    "    &= \\underset{{\\bf \\theta}, {\\bf \\phi}}{\\operatorname{argmax}} \\operatorname {E}_{q({\\mathcal{Z}} = z \\mid {\\bf \\phi})} \\left[\\log p(\\mathcal{X} ,\\mathcal{Z} = z \\mid {\\boldsymbol {\\theta }})\\right] - \\operatorname{H}\\left[\\log q({\\mathcal{Z}} \\mid {\\bf \\phi})\\right]  \\\\\n",
    "\\end{align}\n",
    "\n",
    "In maximizing the ELBO, the first term, Expected Complete-data Log Likelihood, encourages the MLE / MAP estimates of the model parameters to be \n",
    "\n",
    "- 2. Find the posterior over the latent variables $\\mathcal{Z}$, $p(\\mathcal{Z} \\mid \\mathcal{X}, \\boldsymbol {\\theta_{\\rm{max}} })$ {cite}`SVIPartI61:online`:\n",
    "\n",
    "\\begin{align}\n",
    "    p(\\mathcal{Z} \\mid \\mathcal{X}, \\boldsymbol {\\theta_{\\rm{max}} }) &\\approx q({\\mathcal{Z}} \\mid {\\bf \\phi}) \\\\\n",
    "\\end{align}"
   ]
  },
  {
   "cell_type": "markdown",
   "id": "1f56237b",
   "metadata": {},
   "source": [
    "### Finding the ELBO Part 1: Expectation-Maximization"
   ]
  },
  {
   "cell_type": "markdown",
   "id": "d464296b",
   "metadata": {},
   "source": [
    "The EM algorithm seeks to find the MLE of the evidence / marginal likelihood / incomplete-data likelihood by iteratively applying these two steps {cite}`Expectat45:online`:\n",
    "\n",
    "- 1. Expectation step (E step): Set the approximate posterior / variational distribution $q({\\mathcal{Z}}\\mid {\\bf \\phi}) = p(\\mathcal{Z} \\mid \\mathcal{X}, \\boldsymbol {\\theta_{t} })$, where $\\bf \\theta_{t}$ are the previous M-step estimates of $\\bf \\theta$, this way the ${\\rm KL}(q({\\mathcal{Z}} \\mid {\\bf \\phi}) \\mid\\mid p({\\mathcal{Z}} \\mid {\\mathcal{x}}, {\\bf \\theta})) = 0$ and $\\log p({\\mathcal{x}} \\mid {\\bf \\theta}) = \\mathcal{L}(p({\\mathcal{Z}} \\mid {\\mathcal{x}}, {\\bf \\theta_{t}}))$. Our objective is then to \n",
    "\n",
    "    - A. Calculate the posterior over latent variables $p(\\mathcal{Z} \\mid \\mathcal{X} ,{\\boldsymbol {\\theta }}^{(t)})$ and \n",
    "    \n",
    "    - B. Calculate $Q({\\boldsymbol {\\theta }}\\mid {\\boldsymbol {\\theta }}^{(t)})$ (Expected Complete data Log Likelihood):\n",
    "\n",
    "\\begin{align}\n",
    "    Q({\\boldsymbol {\\theta }}\\mid {\\boldsymbol {\\theta }}^{(t)}) &= \\operatorname {E} _{p(\\mathcal{Z} = z \\mid \\mathcal{X} ,{\\boldsymbol {\\theta }}^{(t)})}\\left[\\log L({\\boldsymbol {\\theta }};\\mathcal{X} ,\\mathcal{Z} = z )\\right]\\, \\\\\n",
    "    &= \\operatorname {E} _{p(\\mathcal{Z} = z \\mid \\mathcal{X} ,{\\boldsymbol {\\theta }}^{(t)})}\\left[\\log p(\\mathcal{X} ,\\mathcal{Z} = z \\mid {\\boldsymbol {\\theta }}) \\right]\\, \\\\\n",
    "    &= \\sum_{z \\in \\mathcal{Z}} p(\\mathcal{Z} = z \\mid \\mathcal{X} ,{\\boldsymbol {\\theta }}^{(t)}) \\log p(\\mathcal{X} ,\\mathcal{Z} = z \\mid {\\boldsymbol {\\theta }}) \\\\\n",
    "\\end{align}\n",
    "\n",
    "Notice that the only thing that is missing from $Q({\\boldsymbol {\\theta }}\\mid {\\boldsymbol {\\theta }}^{(t)})$ compared to the ELBO is the entropy of the approximate posterior distribution $\\operatorname{H}\\left[\\log q({\\mathcal{Z}} \\mid {\\bf \\phi})\\right]$.\n",
    "\n",
    "- 2. Maximization step (M step): Find the parameters that maximize $ Q({\\boldsymbol {\\theta }}\\mid {\\boldsymbol {\\theta }}^{(t)})$:\n",
    "\n",
    "\\begin{align} \n",
    "    {\\boldsymbol {\\theta }}^{(t+1)} &= {\\underset {\\boldsymbol {\\theta }}{\\operatorname {arg\\,max} }}\\ Q({\\boldsymbol {\\theta }}\\mid {\\boldsymbol {\\theta }}^{(t)})\\,\n",
    "\\end{align}"
   ]
  },
  {
   "cell_type": "markdown",
   "id": "332ffcb3",
   "metadata": {},
   "source": [
    "### Finding the ELBO Part 2: Markov Chain Monte Carlo"
   ]
  },
  {
   "cell_type": "markdown",
   "id": "7642b2f5",
   "metadata": {},
   "source": [
    "### Finding the ELBO Part 3: Mean-Field Approximate Variational Inference"
   ]
  },
  {
   "cell_type": "markdown",
   "id": "4dc73010",
   "metadata": {},
   "source": [
    "### Finding the ELBO Part 4: Black-Box Stochastic Variational Inference"
   ]
  },
  {
   "cell_type": "markdown",
   "id": "dd0d5121",
   "metadata": {},
   "source": [
    "---\n",
    "## Full Bayesian Inference"
   ]
  },
  {
   "cell_type": "markdown",
   "id": "45686d56",
   "metadata": {},
   "source": [
    "We're now ready to discuss how MLE is performed in probabilistic machine learning. The key difference between "
   ]
  },
  {
   "cell_type": "markdown",
   "id": "468ee9d5",
   "metadata": {},
   "source": [
    "Specifically in [Pyro](https://pyro.ai/examples/mle_map.html), to get MLE estimates of $\\theta$, simply declare $\\theta$ as a fixed parameter using `.param` in the `model` and have an empty `guide` (variational distribution). To get MAP estimates instead, declare $\\theta$ just like a regular latent random variable by `.sample` in the `model`, but in the `guide`, declare $\\theta$ as being drawn from a dirac delta function."
   ]
  },
  {
   "cell_type": "markdown",
   "id": "dd6604e0",
   "metadata": {},
   "source": []
  }
 ],
 "metadata": {
  "kernelspec": {
   "display_name": "Python 3",
   "language": "python",
   "name": "python3"
  },
  "language_info": {
   "codemirror_mode": {
    "name": "ipython",
    "version": 3
   },
   "file_extension": ".py",
   "mimetype": "text/x-python",
   "name": "python",
   "nbconvert_exporter": "python",
   "pygments_lexer": "ipython3",
   "version": "3.8.5"
  }
 },
 "nbformat": 4,
 "nbformat_minor": 5
}
