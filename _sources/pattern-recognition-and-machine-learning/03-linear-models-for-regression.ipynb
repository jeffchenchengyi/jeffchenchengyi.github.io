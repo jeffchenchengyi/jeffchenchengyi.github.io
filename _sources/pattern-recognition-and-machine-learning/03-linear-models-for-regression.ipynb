{
 "cells": [
  {
   "cell_type": "markdown",
   "id": "external-video",
   "metadata": {},
   "source": [
    "# 3. Linear Models for Regression [Empty]"
   ]
  },
  {
   "cell_type": "code",
   "execution_count": null,
   "id": "thermal-version",
   "metadata": {},
   "outputs": [],
   "source": [
    "%load_ext autotime\n",
    "%load_ext nb_black\n",
    "%matplotlib inline\n",
    "\n",
    "import os\n",
    "from collections import defaultdict\n",
    "import torch\n",
    "import numpy as np\n",
    "import pandas as pd\n",
    "import cvxpy as cp\n",
    "import scipy.stats\n",
    "from scipy import optimize\n",
    "from sympy import *\n",
    "from torch.distributions import constraints\n",
    "import matplotlib.pyplot as plt\n",
    "\n",
    "plt.rcParams[\"figure.dpi\"] = 300\n",
    "plt.rcParams[\"figure.figsize\"] = (16, 12)\n",
    "\n",
    "import pyro\n",
    "import pyro.distributions as dist\n",
    "from pyro import poutine\n",
    "from pyro.infer.autoguide import AutoDelta\n",
    "from pyro.optim import Adam\n",
    "from pyro.infer import SVI, TraceEnum_ELBO, config_enumerate, infer_discrete\n",
    "\n",
    "smoke_test = \"CI\" in os.environ\n",
    "assert pyro.__version__.startswith(\"1.5.1\")\n",
    "pyro.enable_validation(True)"
   ]
  },
  {
   "cell_type": "markdown",
   "id": "uniform-calibration",
   "metadata": {},
   "source": [
    "---\n",
    "## 3.1. Linear Basis Function Models"
   ]
  },
  {
   "cell_type": "markdown",
   "id": "plain-private",
   "metadata": {},
   "source": [
    "### 3.1.1 Maximum likelihood and least squares"
   ]
  },
  {
   "cell_type": "markdown",
   "id": "fitting-bulgaria",
   "metadata": {},
   "source": [
    "### 3.1.2 Geometry of least squares"
   ]
  },
  {
   "cell_type": "markdown",
   "id": "intelligent-flight",
   "metadata": {},
   "source": [
    "### 3.1.3 Sequential learning"
   ]
  },
  {
   "cell_type": "markdown",
   "id": "restricted-relevance",
   "metadata": {},
   "source": [
    "### 3.1.4 Regularized least squares"
   ]
  },
  {
   "cell_type": "markdown",
   "id": "retained-allergy",
   "metadata": {},
   "source": [
    "### 3.1.5 Multiple outputs"
   ]
  },
  {
   "cell_type": "markdown",
   "id": "iraqi-belly",
   "metadata": {},
   "source": [
    "---\n",
    "## 3.2. The Bias-Variance Decomposition"
   ]
  },
  {
   "cell_type": "markdown",
   "id": "major-headquarters",
   "metadata": {},
   "source": [
    "---\n",
    "## 3.3. Bayesian Linear Regression"
   ]
  },
  {
   "cell_type": "markdown",
   "id": "removed-tractor",
   "metadata": {},
   "source": [
    "### 3.3.1 Parameter distribution"
   ]
  },
  {
   "cell_type": "markdown",
   "id": "phantom-insertion",
   "metadata": {},
   "source": [
    "### 3.3.2 Predictive distribution"
   ]
  },
  {
   "cell_type": "markdown",
   "id": "welsh-chester",
   "metadata": {},
   "source": [
    "### 3.3.3 Equivalent kernel"
   ]
  },
  {
   "cell_type": "markdown",
   "id": "therapeutic-bookmark",
   "metadata": {},
   "source": [
    "---\n",
    "## 3.4. Bayesian Model Comparison"
   ]
  },
  {
   "cell_type": "markdown",
   "id": "played-typing",
   "metadata": {},
   "source": [
    "---\n",
    "## 3.5. The Evidence Approximation"
   ]
  },
  {
   "cell_type": "markdown",
   "id": "molecular-pound",
   "metadata": {},
   "source": [
    "### 3.5.1 Evaluation of the evidence function"
   ]
  },
  {
   "cell_type": "markdown",
   "id": "banned-captain",
   "metadata": {},
   "source": [
    "### 3.5.2 Maximize the evidence function"
   ]
  },
  {
   "cell_type": "markdown",
   "id": "mature-genius",
   "metadata": {},
   "source": [
    "### 3.5.3 Effective number of parameters"
   ]
  },
  {
   "cell_type": "markdown",
   "id": "blank-proxy",
   "metadata": {},
   "source": [
    "---\n",
    "## 3.6. Limitations of Fixed Basis Functions"
   ]
  }
 ],
 "metadata": {
  "kernelspec": {
   "display_name": "Python 3",
   "language": "python",
   "name": "python3"
  },
  "language_info": {
   "codemirror_mode": {
    "name": "ipython",
    "version": 3
   },
   "file_extension": ".py",
   "mimetype": "text/x-python",
   "name": "python",
   "nbconvert_exporter": "python",
   "pygments_lexer": "ipython3",
   "version": "3.8.5"
  },
  "latex_envs": {
   "LaTeX_envs_menu_present": true,
   "autoclose": false,
   "autocomplete": true,
   "bibliofile": "biblio.bib",
   "cite_by": "apalike",
   "current_citInitial": 1,
   "eqLabelWithNumbers": true,
   "eqNumInitial": 1,
   "hotkeys": {
    "equation": "Ctrl-E",
    "itemize": "Ctrl-I"
   },
   "labels_anchors": false,
   "latex_user_defs": false,
   "report_style_numbering": false,
   "user_envs_cfg": false
  }
 },
 "nbformat": 4,
 "nbformat_minor": 5
}
