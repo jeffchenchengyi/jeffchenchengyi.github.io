{
 "cells": [
  {
   "cell_type": "markdown",
   "id": "external-video",
   "metadata": {},
   "source": [
    "# 2. Probability Distributions [Empty]"
   ]
  },
  {
   "cell_type": "code",
   "execution_count": null,
   "id": "thermal-version",
   "metadata": {},
   "outputs": [],
   "source": [
    "%load_ext autotime\n",
    "%load_ext nb_black\n",
    "%matplotlib inline\n",
    "\n",
    "import os\n",
    "from collections import defaultdict\n",
    "import torch\n",
    "import numpy as np\n",
    "import pandas as pd\n",
    "import cvxpy as cp\n",
    "import scipy.stats\n",
    "from scipy import optimize\n",
    "from sympy import *\n",
    "from torch.distributions import constraints\n",
    "import matplotlib.pyplot as plt\n",
    "\n",
    "plt.rcParams[\"figure.dpi\"] = 300\n",
    "plt.rcParams[\"figure.figsize\"] = (16, 12)\n",
    "\n",
    "import pyro\n",
    "import pyro.distributions as dist\n",
    "from pyro import poutine\n",
    "from pyro.infer.autoguide import AutoDelta\n",
    "from pyro.optim import Adam\n",
    "from pyro.infer import SVI, TraceEnum_ELBO, config_enumerate, infer_discrete\n",
    "\n",
    "smoke_test = \"CI\" in os.environ\n",
    "assert pyro.__version__.startswith(\"1.5.1\")\n",
    "pyro.enable_validation(True)"
   ]
  },
  {
   "cell_type": "markdown",
   "id": "characteristic-investment",
   "metadata": {},
   "source": [
    "---\n",
    "## 2.1. Binary Variables"
   ]
  },
  {
   "cell_type": "markdown",
   "id": "macro-keyboard",
   "metadata": {},
   "source": [
    "### 2.1.1 The Beta distribution"
   ]
  },
  {
   "cell_type": "markdown",
   "id": "chubby-alexander",
   "metadata": {},
   "source": [
    "---\n",
    "## 2.2. Multinomial Variables"
   ]
  },
  {
   "cell_type": "markdown",
   "id": "working-album",
   "metadata": {},
   "source": [
    "### 2.2.1 The Dirichlet distribution"
   ]
  },
  {
   "cell_type": "markdown",
   "id": "unlikely-shark",
   "metadata": {},
   "source": [
    "---\n",
    "## 2.3. The Gaussian distribution"
   ]
  },
  {
   "cell_type": "markdown",
   "id": "incorrect-actress",
   "metadata": {},
   "source": [
    "### 2.3.1 Conditional Gaussian distributions"
   ]
  },
  {
   "cell_type": "markdown",
   "id": "previous-cartoon",
   "metadata": {},
   "source": [
    "### 2.3.2 Marginal Gaussian distributions"
   ]
  },
  {
   "cell_type": "markdown",
   "id": "powered-reason",
   "metadata": {},
   "source": [
    "### 2.3.4 Bayes' theorem for Gaussian variables"
   ]
  },
  {
   "cell_type": "markdown",
   "id": "turned-lingerie",
   "metadata": {},
   "source": [
    "### 2.3.5 Sequential estimation"
   ]
  },
  {
   "cell_type": "markdown",
   "id": "second-legend",
   "metadata": {},
   "source": [
    "### 2.3.6 Bayesian inference for the Gaussian"
   ]
  },
  {
   "cell_type": "markdown",
   "id": "biblical-witness",
   "metadata": {},
   "source": [
    "### 2.3.7 Student's t-distribution"
   ]
  },
  {
   "cell_type": "markdown",
   "id": "round-romania",
   "metadata": {},
   "source": [
    "### 2.3.8 Periodic variables"
   ]
  },
  {
   "cell_type": "markdown",
   "id": "expensive-speaker",
   "metadata": {},
   "source": [
    "### 2.3.9 Mixtures of Gaussians"
   ]
  },
  {
   "cell_type": "markdown",
   "id": "czech-xerox",
   "metadata": {},
   "source": [
    "---\n",
    "## 2.4. The Exponential Family"
   ]
  },
  {
   "cell_type": "markdown",
   "id": "frozen-butter",
   "metadata": {},
   "source": [
    "### 2.4.1 Maximum likelihood and sufficient statistics"
   ]
  },
  {
   "cell_type": "markdown",
   "id": "representative-burning",
   "metadata": {},
   "source": [
    "### 2.4.2 Conjugate priors"
   ]
  },
  {
   "cell_type": "markdown",
   "id": "unlimited-romance",
   "metadata": {},
   "source": [
    "### 2.4.3 Noninformative priors"
   ]
  },
  {
   "cell_type": "markdown",
   "id": "alone-samba",
   "metadata": {},
   "source": [
    "---\n",
    "## 2.5. Nonparametric Methods"
   ]
  },
  {
   "cell_type": "markdown",
   "id": "beautiful-individual",
   "metadata": {},
   "source": [
    "### 2.5.1 Kernel density estimators"
   ]
  },
  {
   "cell_type": "markdown",
   "id": "flexible-signal",
   "metadata": {},
   "source": [
    "### 2.5.2 Nearest-neighbour methods"
   ]
  }
 ],
 "metadata": {
  "kernelspec": {
   "display_name": "Python 3",
   "language": "python",
   "name": "python3"
  },
  "language_info": {
   "codemirror_mode": {
    "name": "ipython",
    "version": 3
   },
   "file_extension": ".py",
   "mimetype": "text/x-python",
   "name": "python",
   "nbconvert_exporter": "python",
   "pygments_lexer": "ipython3",
   "version": "3.8.5"
  },
  "latex_envs": {
   "LaTeX_envs_menu_present": true,
   "autoclose": false,
   "autocomplete": true,
   "bibliofile": "biblio.bib",
   "cite_by": "apalike",
   "current_citInitial": 1,
   "eqLabelWithNumbers": true,
   "eqNumInitial": 1,
   "hotkeys": {
    "equation": "Ctrl-E",
    "itemize": "Ctrl-I"
   },
   "labels_anchors": false,
   "latex_user_defs": false,
   "report_style_numbering": false,
   "user_envs_cfg": false
  }
 },
 "nbformat": 4,
 "nbformat_minor": 5
}
