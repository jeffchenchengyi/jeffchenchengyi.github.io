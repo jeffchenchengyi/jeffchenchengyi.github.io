{
 "cells": [
  {
   "cell_type": "markdown",
   "id": "external-video",
   "metadata": {},
   "source": [
    "# 12. Continuous Latent Variables [In Progress]"
   ]
  },
  {
   "cell_type": "code",
   "execution_count": null,
   "id": "thermal-version",
   "metadata": {},
   "outputs": [],
   "source": [
    "%load_ext autotime\n",
    "%load_ext nb_black\n",
    "%matplotlib inline\n",
    "\n",
    "import os\n",
    "from collections import defaultdict\n",
    "import torch\n",
    "import numpy as np\n",
    "import pandas as pd\n",
    "import cvxpy as cp\n",
    "import scipy.stats\n",
    "from scipy import optimize\n",
    "from sympy import *\n",
    "from torch.distributions import constraints\n",
    "import matplotlib.pyplot as plt\n",
    "\n",
    "plt.rcParams[\"figure.dpi\"] = 300\n",
    "plt.rcParams[\"figure.figsize\"] = (16, 12)\n",
    "\n",
    "import pyro\n",
    "import pyro.distributions as dist\n",
    "from pyro import poutine\n",
    "from pyro.infer.autoguide import AutoDelta\n",
    "from pyro.optim import Adam\n",
    "from pyro.infer import SVI, TraceEnum_ELBO, config_enumerate, infer_discrete\n",
    "\n",
    "smoke_test = \"CI\" in os.environ\n",
    "assert pyro.__version__.startswith(\"1.5.1\")\n",
    "pyro.enable_validation(True)"
   ]
  },
  {
   "cell_type": "markdown",
   "id": "defensive-hands",
   "metadata": {},
   "source": [
    "---\n",
    "## 12.1. Principal Component Analysis"
   ]
  },
  {
   "cell_type": "markdown",
   "id": "french-variable",
   "metadata": {},
   "source": [
    "Given a dataset $\\left\\{\\mathbf{x}_{n} \\vert \\mathbf{x}_{n} \\in \\mathbb{R}^{D}, n \\in 1, \\cdots N \\right\\}$, we want to find a lower dimensional space $M < D$ (known as a Principal Subspace) which is spanned by orthogonal vectors called principal components that best describes our data. How we define \"best describes our data\" will depend on which of the following formulation below we follow."
   ]
  },
  {
   "cell_type": "markdown",
   "id": "annual-boating",
   "metadata": {},
   "source": [
    "- Principal Components are the projections of the column vectors of the original data on the eigenvectors of the covariance matrix"
   ]
  },
  {
   "cell_type": "code",
   "execution_count": null,
   "id": "talented-sussex",
   "metadata": {},
   "outputs": [],
   "source": [
    "# INTERVIEW\n",
    "# 1. Find out how to draw error ellipse, covariance matrix\n",
    "# Add how VΣ is actually a rotation matrix, scaling matrix\n",
    "# Add UΣ as principal components projected onto V^T\n",
    "# Add Eigendecomp as a subroutine to calculate SVD: UΣV^T - Eigendecomp of XX^T to find UΛU^T and X^TX to find VΛV^T\n",
    "# 3. Finish PCA non-probabilistic\n",
    "# 4. Find out whether the normal PCA can be derived from Probabilistic PCA\n",
    "# 5. Find out what is Kernel PCA - is it just kernelizing the centered X^TX\n",
    "# 6. Complete notes for this chapter\n",
    "# 7. Move onto revising IPS, Doubly Robust\n",
    "# 8. Revise Tree models\n",
    "# 9. Revise SHAP values\n",
    "\n",
    "# SCHOOL\n",
    "# 4. Complete BUAD301 case assignment\n",
    "# 5. Complete ise-533 benders"
   ]
  },
  {
   "cell_type": "markdown",
   "id": "powered-moses",
   "metadata": {},
   "source": [
    "### 12.1.1 Maximum variance formulation"
   ]
  },
  {
   "cell_type": "markdown",
   "id": "amino-healing",
   "metadata": {},
   "source": [
    "\\begin{align}\n",
    "    \\underset{}{\\text{maximize }} &{w^\\top}{\\left(\\mathcal{X}.\\text{rating}\\right)} \\\\\n",
    "    \\text{subject to } \\\\\n",
    "\\end{align}"
   ]
  },
  {
   "cell_type": "markdown",
   "id": "pending-gentleman",
   "metadata": {},
   "source": [
    "### 12.1.2 Minimum-error formulation"
   ]
  },
  {
   "cell_type": "markdown",
   "id": "bizarre-discussion",
   "metadata": {},
   "source": [
    "### 12.1.3 Applications of PCA"
   ]
  },
  {
   "cell_type": "markdown",
   "id": "dramatic-mapping",
   "metadata": {},
   "source": [
    "### 12.1.4 PCA for high-dimensional data"
   ]
  },
  {
   "cell_type": "markdown",
   "id": "executed-department",
   "metadata": {},
   "source": [
    "---\n",
    "## 12.2. Probabilistic PCA"
   ]
  },
  {
   "cell_type": "markdown",
   "id": "changing-trademark",
   "metadata": {},
   "source": [
    "### 12.2.1 Maximum likelihood PCA"
   ]
  },
  {
   "cell_type": "markdown",
   "id": "private-kazakhstan",
   "metadata": {},
   "source": [
    "### 12.2.2 EM algorithm for PCA"
   ]
  },
  {
   "cell_type": "markdown",
   "id": "worth-sitting",
   "metadata": {},
   "source": [
    "### 12.2.3 Bayesian PCA"
   ]
  },
  {
   "cell_type": "markdown",
   "id": "focused-roller",
   "metadata": {},
   "source": [
    "### 12.2.4 Factor analysis"
   ]
  },
  {
   "cell_type": "markdown",
   "id": "theoretical-arrival",
   "metadata": {},
   "source": [
    "---\n",
    "## 12.3. Kernel PCA"
   ]
  },
  {
   "cell_type": "markdown",
   "id": "ancient-unemployment",
   "metadata": {},
   "source": [
    "---\n",
    "## 12.4. Nonlinear Latent Variable Models"
   ]
  },
  {
   "cell_type": "markdown",
   "id": "generic-worcester",
   "metadata": {},
   "source": [
    "### 12.4.1 Independent component analysis"
   ]
  },
  {
   "cell_type": "markdown",
   "id": "amateur-natural",
   "metadata": {},
   "source": [
    "### 12.4.2 Autoassociative neural networks"
   ]
  },
  {
   "cell_type": "markdown",
   "id": "indirect-preliminary",
   "metadata": {},
   "source": [
    "### 12.4.3 Modelling nonlinear manifolds"
   ]
  }
 ],
 "metadata": {
  "kernelspec": {
   "display_name": "Python 3",
   "language": "python",
   "name": "python3"
  },
  "language_info": {
   "codemirror_mode": {
    "name": "ipython",
    "version": 3
   },
   "file_extension": ".py",
   "mimetype": "text/x-python",
   "name": "python",
   "nbconvert_exporter": "python",
   "pygments_lexer": "ipython3",
   "version": "3.8.5"
  },
  "latex_envs": {
   "LaTeX_envs_menu_present": true,
   "autoclose": false,
   "autocomplete": true,
   "bibliofile": "biblio.bib",
   "cite_by": "apalike",
   "current_citInitial": 1,
   "eqLabelWithNumbers": true,
   "eqNumInitial": 1,
   "hotkeys": {
    "equation": "Ctrl-E",
    "itemize": "Ctrl-I"
   },
   "labels_anchors": false,
   "latex_user_defs": false,
   "report_style_numbering": false,
   "user_envs_cfg": false
  }
 },
 "nbformat": 4,
 "nbformat_minor": 5
}
