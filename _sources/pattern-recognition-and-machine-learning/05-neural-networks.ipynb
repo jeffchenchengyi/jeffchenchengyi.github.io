{
 "cells": [
  {
   "cell_type": "markdown",
   "id": "external-video",
   "metadata": {},
   "source": [
    "# 5. Neural Networks [Empty]"
   ]
  },
  {
   "cell_type": "code",
   "execution_count": null,
   "id": "thermal-version",
   "metadata": {},
   "outputs": [],
   "source": [
    "%load_ext autotime\n",
    "%load_ext nb_black\n",
    "%matplotlib inline\n",
    "\n",
    "import os\n",
    "from collections import defaultdict\n",
    "import torch\n",
    "import numpy as np\n",
    "import pandas as pd\n",
    "import cvxpy as cp\n",
    "import scipy.stats\n",
    "from scipy import optimize\n",
    "from sympy import *\n",
    "from torch.distributions import constraints\n",
    "import matplotlib.pyplot as plt\n",
    "\n",
    "plt.rcParams[\"figure.dpi\"] = 300\n",
    "plt.rcParams[\"figure.figsize\"] = (16, 12)\n",
    "\n",
    "import pyro\n",
    "import pyro.distributions as dist\n",
    "from pyro import poutine\n",
    "from pyro.infer.autoguide import AutoDelta\n",
    "from pyro.optim import Adam\n",
    "from pyro.infer import SVI, TraceEnum_ELBO, config_enumerate, infer_discrete\n",
    "\n",
    "smoke_test = \"CI\" in os.environ\n",
    "assert pyro.__version__.startswith(\"1.5.1\")\n",
    "pyro.enable_validation(True)"
   ]
  },
  {
   "cell_type": "markdown",
   "id": "organic-cambridge",
   "metadata": {},
   "source": [
    "---\n",
    "## 5.1. Feed-forward Network Functions"
   ]
  },
  {
   "cell_type": "markdown",
   "id": "patient-longitude",
   "metadata": {},
   "source": [
    "### 5.1.1 Weight-space symmetries"
   ]
  },
  {
   "cell_type": "markdown",
   "id": "trained-gathering",
   "metadata": {},
   "source": [
    "---\n",
    "## 5.2. Network Training"
   ]
  },
  {
   "cell_type": "markdown",
   "id": "prepared-synthetic",
   "metadata": {},
   "source": [
    "### 5.2.1 Parameter optimization"
   ]
  },
  {
   "cell_type": "markdown",
   "id": "determined-faculty",
   "metadata": {},
   "source": [
    "### 5.2.2 Local quadratic approximation"
   ]
  },
  {
   "cell_type": "markdown",
   "id": "fitted-perception",
   "metadata": {},
   "source": [
    "### 5.2.3 Use of gradient information"
   ]
  },
  {
   "cell_type": "markdown",
   "id": "dedicated-central",
   "metadata": {},
   "source": [
    "### 5.2.4 Gradient descent information"
   ]
  },
  {
   "cell_type": "markdown",
   "id": "distant-stamp",
   "metadata": {},
   "source": [
    "---\n",
    "## 5.3. Error Backpropagation"
   ]
  },
  {
   "cell_type": "markdown",
   "id": "organized-scale",
   "metadata": {},
   "source": [
    "### 5.3.1 Evaluation of error-function derivatives"
   ]
  },
  {
   "cell_type": "markdown",
   "id": "native-arrow",
   "metadata": {},
   "source": [
    "### 5.3.2 A simple example"
   ]
  },
  {
   "cell_type": "markdown",
   "id": "complimentary-homework",
   "metadata": {},
   "source": [
    "### 5.3.3 Efficiency of backpropagation"
   ]
  },
  {
   "cell_type": "markdown",
   "id": "laughing-surveillance",
   "metadata": {},
   "source": [
    "### 5.3.4 The Jacobian matrix"
   ]
  },
  {
   "cell_type": "markdown",
   "id": "sunrise-control",
   "metadata": {},
   "source": [
    "---\n",
    "## 5.4. The Hessian Matrix"
   ]
  },
  {
   "cell_type": "markdown",
   "id": "political-planning",
   "metadata": {},
   "source": [
    "### 5.4.1 Diagonal approximation"
   ]
  },
  {
   "cell_type": "markdown",
   "id": "unknown-clearing",
   "metadata": {},
   "source": [
    "### 5.4.2 Outer product approximation"
   ]
  },
  {
   "cell_type": "markdown",
   "id": "measured-wrestling",
   "metadata": {},
   "source": [
    "### 5.4.3 Inverse Hessian"
   ]
  },
  {
   "cell_type": "markdown",
   "id": "documentary-implement",
   "metadata": {},
   "source": [
    "### 5.4.4 Finite differences"
   ]
  },
  {
   "cell_type": "markdown",
   "id": "level-switzerland",
   "metadata": {},
   "source": [
    "### 5.4.5 Exact evaluation of the Hessian"
   ]
  },
  {
   "cell_type": "markdown",
   "id": "pleased-motorcycle",
   "metadata": {},
   "source": [
    "### 5.4.6 Fast multiplication by the Hessian"
   ]
  },
  {
   "cell_type": "markdown",
   "id": "occupied-matthew",
   "metadata": {},
   "source": [
    "---\n",
    "## 5.5. Regularization in Neural Networks"
   ]
  },
  {
   "cell_type": "markdown",
   "id": "athletic-framing",
   "metadata": {},
   "source": [
    "### 5.5.1 Consistent Gaussian priors"
   ]
  },
  {
   "cell_type": "markdown",
   "id": "minimal-spine",
   "metadata": {},
   "source": [
    "### 5.5.2 Early stopping"
   ]
  },
  {
   "cell_type": "markdown",
   "id": "voluntary-vision",
   "metadata": {},
   "source": [
    "### 5.5.3 Invariances"
   ]
  },
  {
   "cell_type": "markdown",
   "id": "rapid-interference",
   "metadata": {},
   "source": [
    "### 5.5.4 Tangent propagation"
   ]
  },
  {
   "cell_type": "markdown",
   "id": "durable-annotation",
   "metadata": {},
   "source": [
    "### 5.5.5 Training with transformed data"
   ]
  },
  {
   "cell_type": "markdown",
   "id": "lyric-charity",
   "metadata": {},
   "source": [
    "### 5.5.6 Convolutional networks"
   ]
  },
  {
   "cell_type": "markdown",
   "id": "exceptional-purpose",
   "metadata": {},
   "source": [
    "### 5.5.7 Soft weight sharing"
   ]
  },
  {
   "cell_type": "markdown",
   "id": "grateful-jewel",
   "metadata": {},
   "source": [
    "---\n",
    "## 5.6. Mixture Density Networks"
   ]
  },
  {
   "cell_type": "markdown",
   "id": "round-gilbert",
   "metadata": {},
   "source": [
    "---\n",
    "## 5.7. Bayesian Neural Networks"
   ]
  },
  {
   "cell_type": "markdown",
   "id": "adult-asthma",
   "metadata": {},
   "source": [
    "### 5.7.1 Posterior parameter distribution"
   ]
  },
  {
   "cell_type": "markdown",
   "id": "adjustable-embassy",
   "metadata": {},
   "source": [
    "### 5.7.2 Hyperparameter optimization"
   ]
  },
  {
   "cell_type": "markdown",
   "id": "julian-injury",
   "metadata": {},
   "source": [
    "### 5.7.3 Bayesian neural networks for classification"
   ]
  }
 ],
 "metadata": {
  "kernelspec": {
   "display_name": "Python 3",
   "language": "python",
   "name": "python3"
  },
  "language_info": {
   "codemirror_mode": {
    "name": "ipython",
    "version": 3
   },
   "file_extension": ".py",
   "mimetype": "text/x-python",
   "name": "python",
   "nbconvert_exporter": "python",
   "pygments_lexer": "ipython3",
   "version": "3.8.5"
  },
  "latex_envs": {
   "LaTeX_envs_menu_present": true,
   "autoclose": false,
   "autocomplete": true,
   "bibliofile": "biblio.bib",
   "cite_by": "apalike",
   "current_citInitial": 1,
   "eqLabelWithNumbers": true,
   "eqNumInitial": 1,
   "hotkeys": {
    "equation": "Ctrl-E",
    "itemize": "Ctrl-I"
   },
   "labels_anchors": false,
   "latex_user_defs": false,
   "report_style_numbering": false,
   "user_envs_cfg": false
  }
 },
 "nbformat": 4,
 "nbformat_minor": 5
}
