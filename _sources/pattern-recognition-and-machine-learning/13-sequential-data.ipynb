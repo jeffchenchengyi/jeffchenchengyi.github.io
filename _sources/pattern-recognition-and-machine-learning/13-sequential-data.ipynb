{
 "cells": [
  {
   "cell_type": "markdown",
   "metadata": {},
   "source": [
    "# 13. Sequential Data [Empty]"
   ]
  },
  {
   "cell_type": "markdown",
   "metadata": {},
   "source": [
    "This chapter will focus on markov processes, a subset of the more general stochastic processes that are used to model time series."
   ]
  },
  {
   "cell_type": "markdown",
   "metadata": {},
   "source": [
    "---\n",
    "## 13.1. Markov Models"
   ]
  },
  {
   "cell_type": "markdown",
   "metadata": {},
   "source": [
    "---\n",
    "## 13.2. Hidden Markov Models"
   ]
  },
  {
   "cell_type": "markdown",
   "metadata": {},
   "source": [
    "### 13.2.1 Maximum likelihood for the HMM"
   ]
  },
  {
   "cell_type": "markdown",
   "metadata": {},
   "source": [
    "### 13.2.2 The forward-backward algorithm"
   ]
  },
  {
   "cell_type": "markdown",
   "metadata": {},
   "source": [
    "### 13.2.3 The sum-product algorithm for the HMM"
   ]
  },
  {
   "cell_type": "markdown",
   "metadata": {},
   "source": [
    "### 13.2.4 Scaling factors"
   ]
  },
  {
   "cell_type": "markdown",
   "metadata": {},
   "source": [
    "### 13.2.5 The Viterbi algorithm"
   ]
  },
  {
   "cell_type": "markdown",
   "metadata": {},
   "source": [
    "### 13.2.6 Extensions of the hidden markov model"
   ]
  },
  {
   "cell_type": "markdown",
   "metadata": {},
   "source": [
    "---\n",
    "## 13.3 Linear Dynamical Systems"
   ]
  },
  {
   "cell_type": "markdown",
   "metadata": {},
   "source": [
    "### 13.3.1 Inference in LDS"
   ]
  },
  {
   "cell_type": "markdown",
   "metadata": {},
   "source": [
    "### 13.3.2 Learning in LDS"
   ]
  },
  {
   "cell_type": "markdown",
   "metadata": {},
   "source": [
    "### 13.3.3 Extensions of LDS"
   ]
  },
  {
   "cell_type": "markdown",
   "metadata": {},
   "source": [
    "### 13.3.4 Particle Filters"
   ]
  },
  {
   "cell_type": "markdown",
   "metadata": {},
   "source": [
    "**Representations**"
   ]
  },
  {
   "cell_type": "markdown",
   "metadata": {},
   "source": [
    "**N-order Markov Chains**"
   ]
  },
  {
   "cell_type": "markdown",
   "metadata": {},
   "source": [
    "- AR\n",
    "- MA\n",
    "- ARIMA\n",
    "- SARIMA\n",
    "- GARCH\n",
    "- VAR"
   ]
  },
  {
   "cell_type": "markdown",
   "metadata": {},
   "source": [
    "**State Space Models**"
   ]
  },
  {
   "cell_type": "markdown",
   "metadata": {},
   "source": [
    "https://ericmjl.github.io/essays-on-data-science/machine-learning/markov-models/"
   ]
  },
  {
   "cell_type": "markdown",
   "metadata": {},
   "source": [
    "Variations:\n",
    "- GMM - HMM https://stats.stackexchange.com/questions/171307/how-to-train-a-gaussian-mixture-hidden-markov-model"
   ]
  },
  {
   "cell_type": "markdown",
   "metadata": {},
   "source": [
    "**Inference Algorithms**"
   ]
  },
  {
   "cell_type": "markdown",
   "metadata": {},
   "source": [
    "Problem Space:\n",
    "\n",
    "1. HMM: Discrete Time + Discrete Latent / State Space + Discrete Observed Space + No assumption on transmission / emission probabilities\n",
    "- Filtering: Forward Algorithm\n",
    "- Smoothing: Backward Algorithm\n",
    "- Predicting: \n",
    "\n",
    "2. Linear Dynamical System: Discrete Time + Vector Continuous Latent / State Space + Linear Gaussian transmission / emission probabilities\n",
    "- Filtering: Kalman Filter\n",
    "- Smoothing: RTS Smoother\n",
    "- Predicting: \n",
    "\n",
    "3. Discrete Time + Vector Continuous Latent / State Space + Locally-linear Gaussian transmission / emission probabilities\n",
    "- Filtering: Extended Kalman Filter\n",
    "- Smoothing: RTS Smoother\n",
    "- Predicting: \n",
    "\n",
    "4. Discrete Time + Vector Continuous Latent / State Space + Non-linear Gaussian transmission / emission probabilities\n",
    "- Filtering: Unscented Kalman Filter\n",
    "- Smoothing: RTS Smoother\n",
    "- Predicting: \n",
    "\n",
    "5. Discrete Time + Vector Continuous Latent / State Space + Non-linear Non-Gaussian transmission / emission probabilities\n",
    "- Filtering: Particle Filters\n",
    "- Smoothing: RTS Smoother\n",
    "- Predicting: "
   ]
  },
  {
   "cell_type": "markdown",
   "metadata": {},
   "source": []
  },
  {
   "cell_type": "markdown",
   "metadata": {},
   "source": []
  },
  {
   "cell_type": "markdown",
   "metadata": {},
   "source": []
  },
  {
   "cell_type": "markdown",
   "metadata": {},
   "source": [
    "Continuous Time Markov Processes\n",
    "Stochastic Processes\n",
    "\t- Gaussian Processes \n",
    "\t\t- Weiner Process\n",
    "\t\t- Ornstein Uhlenbeck\n",
    "\t\t- Brownian Bridge \n",
    "\t- Dirichlet Processes"
   ]
  }
 ],
 "metadata": {
  "kernelspec": {
   "display_name": "Python 3",
   "language": "python",
   "name": "python3"
  },
  "language_info": {
   "codemirror_mode": {
    "name": "ipython",
    "version": 3
   },
   "file_extension": ".py",
   "mimetype": "text/x-python",
   "name": "python",
   "nbconvert_exporter": "python",
   "pygments_lexer": "ipython3",
   "version": "3.8.5"
  },
  "latex_envs": {
   "LaTeX_envs_menu_present": true,
   "autoclose": false,
   "autocomplete": true,
   "bibliofile": "biblio.bib",
   "cite_by": "apalike",
   "current_citInitial": 1,
   "eqLabelWithNumbers": true,
   "eqNumInitial": 1,
   "hotkeys": {
    "equation": "Ctrl-E",
    "itemize": "Ctrl-I"
   },
   "labels_anchors": false,
   "latex_user_defs": false,
   "report_style_numbering": false,
   "user_envs_cfg": false
  }
 },
 "nbformat": 4,
 "nbformat_minor": 4
}
