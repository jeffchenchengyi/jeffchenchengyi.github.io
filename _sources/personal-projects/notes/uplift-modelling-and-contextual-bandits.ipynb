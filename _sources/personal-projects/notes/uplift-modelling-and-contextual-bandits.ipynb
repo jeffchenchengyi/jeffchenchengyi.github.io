{
 "cells": [
  {
   "cell_type": "markdown",
   "id": "ee3fae24",
   "metadata": {},
   "source": [
    "# Uplift Modelling and Contextual Bandits"
   ]
  },
  {
   "cell_type": "markdown",
   "id": "8f66cf7b",
   "metadata": {},
   "source": [
    "By: Chengyi (Jeff) Chen"
   ]
  },
  {
   "cell_type": "code",
   "execution_count": 3,
   "id": "f2d6db60",
   "metadata": {},
   "outputs": [
    {
     "data": {
      "application/javascript": [
       "\n",
       "            setTimeout(function() {\n",
       "                var nbb_cell_id = 3;\n",
       "                var nbb_unformatted_code = \"%load_ext autotime\\n%load_ext nb_black\\n\\nimport causalml\\nimport obp\";\n",
       "                var nbb_formatted_code = \"%load_ext autotime\\n%load_ext nb_black\\n\\nimport causalml\\nimport obp\";\n",
       "                var nbb_cells = Jupyter.notebook.get_cells();\n",
       "                for (var i = 0; i < nbb_cells.length; ++i) {\n",
       "                    if (nbb_cells[i].input_prompt_number == nbb_cell_id) {\n",
       "                        if (nbb_cells[i].get_text() == nbb_unformatted_code) {\n",
       "                             nbb_cells[i].set_text(nbb_formatted_code);\n",
       "                        }\n",
       "                        break;\n",
       "                    }\n",
       "                }\n",
       "            }, 500);\n",
       "            "
      ],
      "text/plain": [
       "<IPython.core.display.Javascript object>"
      ]
     },
     "metadata": {},
     "output_type": "display_data"
    }
   ],
   "source": [
    "%load_ext autotime\n",
    "%load_ext nb_black\n",
    "\n",
    "import causalml\n",
    "import obp"
   ]
  },
  {
   "cell_type": "markdown",
   "id": "8e809c87",
   "metadata": {},
   "source": [
    "---\n",
    "## Introduction"
   ]
  },
  {
   "cell_type": "markdown",
   "id": "28611a09",
   "metadata": {},
   "source": [
    "Having worked with uplift modelling at Shopee and contextual bandits at Gojek, I've come to realize huge similarities between the way these two seemingly disparate problems are modelled. In the following post, I'll do my best to reconcile the relationship between these two modelling approaches and show how uplift modelling is simply a subclass of contextual bandits. I'll be going through uplift modelling with the help of Uber's [Causal ML](https://causalml.readthedocs.io/en/latest/index.html) package and contextual bandits with [Open Bandit Pipeline](https://zr-obp.readthedocs.io/en/latest/index.html). In particular, I'm interested in comparing the different algorithms used for "
   ]
  },
  {
   "cell_type": "markdown",
   "id": "3829e262",
   "metadata": {},
   "source": [
    "---\n",
    "## Preliminaries"
   ]
  },
  {
   "cell_type": "markdown",
   "id": "527263d1",
   "metadata": {},
   "source": [
    "### What is uplift modelling?"
   ]
  },
  {
   "cell_type": "markdown",
   "id": "ab365a9b",
   "metadata": {},
   "source": []
  },
  {
   "cell_type": "markdown",
   "id": "03dc37c1",
   "metadata": {},
   "source": [
    "### What are contextual bandits?"
   ]
  },
  {
   "cell_type": "markdown",
   "id": "1c1a3f30",
   "metadata": {},
   "source": [
    "#### 1. Single-armed Bandit"
   ]
  },
  {
   "cell_type": "markdown",
   "id": "6c94eebb",
   "metadata": {},
   "source": [
    "#### 2. Multi-armed Bandit"
   ]
  },
  {
   "cell_type": "markdown",
   "id": "f4740347",
   "metadata": {},
   "source": [
    "#### 3. Contextual Bandit"
   ]
  },
  {
   "cell_type": "markdown",
   "id": "d26d0a1d",
   "metadata": {},
   "source": [
    "#### 4. Full Reinforcement Learning"
   ]
  },
  {
   "cell_type": "markdown",
   "id": "a72e8577",
   "metadata": {},
   "source": [
    "https://stats.stackexchange.com/questions/89396/multi-armed-bandit-algorithms-vs-uplift-modeling"
   ]
  },
  {
   "cell_type": "markdown",
   "id": "29cf8e2e",
   "metadata": {},
   "source": []
  }
 ],
 "metadata": {
  "kernelspec": {
   "display_name": "Python [conda env:ml]",
   "language": "python",
   "name": "conda-env-ml-py"
  },
  "language_info": {
   "codemirror_mode": {
    "name": "ipython",
    "version": 3
   },
   "file_extension": ".py",
   "mimetype": "text/x-python",
   "name": "python",
   "nbconvert_exporter": "python",
   "pygments_lexer": "ipython3",
   "version": "3.8.8"
  }
 },
 "nbformat": 4,
 "nbformat_minor": 5
}
