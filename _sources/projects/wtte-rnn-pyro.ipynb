{
 "cells": [
  {
   "cell_type": "markdown",
   "id": "64950efa",
   "metadata": {},
   "source": [
    "# Weibull Time To Event Recurrent Neural Net in Pyro [To Be Updated]"
   ]
  },
  {
   "cell_type": "markdown",
   "id": "1a37b31f",
   "metadata": {},
   "source": [
    "By: Chengyi (Jeff) Chen"
   ]
  }
 ],
 "metadata": {
  "kernelspec": {
   "display_name": "Python [conda env:ml]",
   "language": "python",
   "name": "conda-env-ml-py"
  },
  "language_info": {
   "codemirror_mode": {
    "name": "ipython",
    "version": 3
   },
   "file_extension": ".py",
   "mimetype": "text/x-python",
   "name": "python",
   "nbconvert_exporter": "python",
   "pygments_lexer": "ipython3",
   "version": "3.8.8"
  }
 },
 "nbformat": 4,
 "nbformat_minor": 5
}
