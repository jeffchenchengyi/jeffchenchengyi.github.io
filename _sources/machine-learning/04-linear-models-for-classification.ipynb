{
 "cells": [
  {
   "cell_type": "markdown",
   "id": "external-video",
   "metadata": {},
   "source": [
    "# 4. Linear Models for Classification [Empty]"
   ]
  },
  {
   "cell_type": "code",
   "execution_count": null,
   "id": "thermal-version",
   "metadata": {},
   "outputs": [],
   "source": [
    "%load_ext autotime\n",
    "%load_ext nb_black\n",
    "%matplotlib inline\n",
    "\n",
    "import os\n",
    "from collections import defaultdict\n",
    "import torch\n",
    "import numpy as np\n",
    "import pandas as pd\n",
    "import cvxpy as cp\n",
    "import scipy.stats\n",
    "from scipy import optimize\n",
    "from sympy import *\n",
    "from torch.distributions import constraints\n",
    "import matplotlib.pyplot as plt\n",
    "\n",
    "plt.rcParams[\"figure.dpi\"] = 300\n",
    "plt.rcParams[\"figure.figsize\"] = (16, 12)\n",
    "\n",
    "import pyro\n",
    "import pyro.distributions as dist\n",
    "from pyro import poutine\n",
    "from pyro.infer.autoguide import AutoDelta\n",
    "from pyro.optim import Adam\n",
    "from pyro.infer import SVI, TraceEnum_ELBO, config_enumerate, infer_discrete\n",
    "\n",
    "smoke_test = \"CI\" in os.environ\n",
    "assert pyro.__version__.startswith(\"1.5.1\")\n",
    "pyro.enable_validation(True)"
   ]
  },
  {
   "cell_type": "markdown",
   "id": "combined-filling",
   "metadata": {},
   "source": [
    "---\n",
    "## 4.1. Discriminant Functions"
   ]
  },
  {
   "cell_type": "markdown",
   "id": "arranged-creature",
   "metadata": {},
   "source": [
    "### 4.1.1 Two classes"
   ]
  },
  {
   "cell_type": "markdown",
   "id": "saving-detective",
   "metadata": {},
   "source": [
    "### 4.1.2 Multiple classes"
   ]
  },
  {
   "cell_type": "markdown",
   "id": "ecological-moderator",
   "metadata": {},
   "source": [
    "### 4.1.3 Least squares for classification"
   ]
  },
  {
   "cell_type": "markdown",
   "id": "confused-oklahoma",
   "metadata": {},
   "source": [
    "### 4.1.4 Fisher's linear discriminant"
   ]
  },
  {
   "cell_type": "markdown",
   "id": "bronze-smoke",
   "metadata": {},
   "source": [
    "### 4.1.5 Relation to least squares"
   ]
  },
  {
   "cell_type": "markdown",
   "id": "abandoned-marketplace",
   "metadata": {},
   "source": [
    "### 4.1.6 Fisher's disciminant for multiple classes"
   ]
  },
  {
   "cell_type": "markdown",
   "id": "surgical-withdrawal",
   "metadata": {},
   "source": [
    "### 4.1.7 The perceptron algorithm"
   ]
  },
  {
   "cell_type": "markdown",
   "id": "statutory-zimbabwe",
   "metadata": {},
   "source": [
    "---\n",
    "## 4.2. Probabilistic Generative Models"
   ]
  },
  {
   "cell_type": "markdown",
   "id": "theoretical-vampire",
   "metadata": {},
   "source": [
    "### 4.2.1 Continuous inputs"
   ]
  },
  {
   "cell_type": "markdown",
   "id": "finished-baker",
   "metadata": {},
   "source": [
    "### 4.2.2 Maximum likelihood solution"
   ]
  },
  {
   "cell_type": "markdown",
   "id": "familiar-course",
   "metadata": {},
   "source": [
    "### 4.2.3 Discrete features"
   ]
  },
  {
   "cell_type": "markdown",
   "id": "mediterranean-overview",
   "metadata": {},
   "source": [
    "### 4.2.4 Exponential family"
   ]
  },
  {
   "cell_type": "markdown",
   "id": "covered-secretary",
   "metadata": {},
   "source": [
    "---\n",
    "## 4.3. Probabilistic Discriminative Models"
   ]
  },
  {
   "cell_type": "markdown",
   "id": "welsh-mississippi",
   "metadata": {},
   "source": [
    "### 4.3.1 Fixed basis functions"
   ]
  },
  {
   "cell_type": "markdown",
   "id": "colored-bandwidth",
   "metadata": {},
   "source": [
    "### 4.3.2 Logistic regression"
   ]
  },
  {
   "cell_type": "markdown",
   "id": "analyzed-insert",
   "metadata": {},
   "source": [
    "### 4.3.3 Iterative reweighted least squares"
   ]
  },
  {
   "cell_type": "markdown",
   "id": "printable-pathology",
   "metadata": {},
   "source": [
    "### 4.3.4 Multiclass logistic regression"
   ]
  },
  {
   "cell_type": "markdown",
   "id": "curious-cartridge",
   "metadata": {},
   "source": [
    "### 4.3.5 Probit regression"
   ]
  },
  {
   "cell_type": "markdown",
   "id": "apart-completion",
   "metadata": {},
   "source": [
    "### 4.3.6 Canonical link functions"
   ]
  },
  {
   "cell_type": "markdown",
   "id": "original-court",
   "metadata": {},
   "source": [
    "---\n",
    "## 4.4. The Laplace Approximation"
   ]
  },
  {
   "cell_type": "markdown",
   "id": "smooth-annual",
   "metadata": {},
   "source": [
    "### 4.4.1 Model comparison and BIC"
   ]
  },
  {
   "cell_type": "markdown",
   "id": "friendly-jurisdiction",
   "metadata": {},
   "source": [
    "---\n",
    "## 4.5. Bayesian Logistic Regression"
   ]
  },
  {
   "cell_type": "markdown",
   "id": "regulated-graduate",
   "metadata": {},
   "source": [
    "### 4.5.1 Laplace approximation"
   ]
  },
  {
   "cell_type": "markdown",
   "id": "bulgarian-progress",
   "metadata": {},
   "source": [
    "### 4.5.2 Predictive distribution"
   ]
  }
 ],
 "metadata": {
  "kernelspec": {
   "display_name": "Python 3",
   "language": "python",
   "name": "python3"
  },
  "language_info": {
   "codemirror_mode": {
    "name": "ipython",
    "version": 3
   },
   "file_extension": ".py",
   "mimetype": "text/x-python",
   "name": "python",
   "nbconvert_exporter": "python",
   "pygments_lexer": "ipython3",
   "version": "3.8.5"
  },
  "latex_envs": {
   "LaTeX_envs_menu_present": true,
   "autoclose": false,
   "autocomplete": true,
   "bibliofile": "biblio.bib",
   "cite_by": "apalike",
   "current_citInitial": 1,
   "eqLabelWithNumbers": true,
   "eqNumInitial": 1,
   "hotkeys": {
    "equation": "Ctrl-E",
    "itemize": "Ctrl-I"
   },
   "labels_anchors": false,
   "latex_user_defs": false,
   "report_style_numbering": false,
   "user_envs_cfg": false
  }
 },
 "nbformat": 4,
 "nbformat_minor": 5
}
