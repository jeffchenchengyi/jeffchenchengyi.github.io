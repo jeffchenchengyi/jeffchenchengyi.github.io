{
 "cells": [
  {
   "cell_type": "markdown",
   "id": "macro-monitor",
   "metadata": {},
   "source": [
    "# HW 2\n",
    "\n",
    "Please formulate the baa99 problem as an All-in-One LP model in Pyomo (see the second page in Lecture 3.2), and find the decisions. The first stage decisions are bounded within (0, 217).\n",
    "\n",
    "The demand vector (d1, d2) has two scenarios, scenario1: (161.326406, 156.3195565); scenario 2: (52.29173734, 48.17833053).\n",
    "\n",
    "By: Chengyi (Jeff) Chen"
   ]
  },
  {
   "cell_type": "code",
   "execution_count": 1,
   "id": "lightweight-regulation",
   "metadata": {},
   "outputs": [
    {
     "name": "stdout",
     "output_type": "stream",
     "text": [
      "time: 970 ms (started: 2021-02-16 14:20:15 +08:00)\n"
     ]
    },
    {
     "data": {
      "application/javascript": [
       "\n",
       "            setTimeout(function() {\n",
       "                var nbb_cell_id = 1;\n",
       "                var nbb_unformatted_code = \"%load_ext autotime\\n%load_ext nb_black\\n%matplotlib inline\\n\\nfrom IPython.display import Latex\\nimport numpy as np\\nimport cvxpy as cp\\nimport pandas as pd\\nimport scipy.stats\\nfrom scipy import optimize\\nimport matplotlib.pyplot as plt\\nfrom matplotlib import rc\\n\\nplt.rcParams[\\\"figure.dpi\\\"] = 300\\nplt.rcParams[\\\"figure.figsize\\\"] = (16, 12)\";\n",
       "                var nbb_formatted_code = \"%load_ext autotime\\n%load_ext nb_black\\n%matplotlib inline\\n\\nfrom IPython.display import Latex\\nimport numpy as np\\nimport cvxpy as cp\\nimport pandas as pd\\nimport scipy.stats\\nfrom scipy import optimize\\nimport matplotlib.pyplot as plt\\nfrom matplotlib import rc\\n\\nplt.rcParams[\\\"figure.dpi\\\"] = 300\\nplt.rcParams[\\\"figure.figsize\\\"] = (16, 12)\";\n",
       "                var nbb_cells = Jupyter.notebook.get_cells();\n",
       "                for (var i = 0; i < nbb_cells.length; ++i) {\n",
       "                    if (nbb_cells[i].input_prompt_number == nbb_cell_id) {\n",
       "                        if (nbb_cells[i].get_text() == nbb_unformatted_code) {\n",
       "                             nbb_cells[i].set_text(nbb_formatted_code);\n",
       "                        }\n",
       "                        break;\n",
       "                    }\n",
       "                }\n",
       "            }, 500);\n",
       "            "
      ],
      "text/plain": [
       "<IPython.core.display.Javascript object>"
      ]
     },
     "metadata": {},
     "output_type": "display_data"
    }
   ],
   "source": [
    "%load_ext autotime\n",
    "%load_ext nb_black\n",
    "%matplotlib inline\n",
    "\n",
    "from IPython.display import Latex\n",
    "import numpy as np\n",
    "import cvxpy as cp\n",
    "import pandas as pd\n",
    "import scipy.stats\n",
    "from scipy import optimize\n",
    "import matplotlib.pyplot as plt\n",
    "from matplotlib import rc\n",
    "\n",
    "plt.rcParams[\"figure.dpi\"] = 300\n",
    "plt.rcParams[\"figure.figsize\"] = (16, 12)"
   ]
  },
  {
   "cell_type": "markdown",
   "id": "technical-absolute",
   "metadata": {},
   "source": [
    "---\n",
    "## BAA99 Problem"
   ]
  },
  {
   "cell_type": "markdown",
   "id": "pacific-forge",
   "metadata": {},
   "source": [
    "### Problem Setup\n",
    "\n",
    "We are an electronics company that sells computer type 1 and type 2 for \\\\$8 and \\\\$4 respectively. To build the computers, we manufacture two types of chips, quantity $x_1$ and $x_2$, which are \\\\$4 and \\\\$2 respectively. Chip 1 can be used to make both Type 1 and Type 2 computer, but chip 2 can only be used to make Type 2 computer. Hence, the quantity of chip 1 we allocate to making type 1 computer is denoted as $w_{11}$, quantity of chip 1 to type 2 is $w_{12}$, and quantity of chip 2 to type 2 is $w_{22}$. Demand follows a Bernoulli distribution with $p=0.5$ such that high demand for type 1 computers in scenario 1 is $d^{s = 1}_{1} = 161.326406$ and demand for type 2 computers in scenario 1 is $d^{s = 1}_{2} = 156.3195565$ while low demand for type 1 computers in scenario 2 is $d^{s = 2}_{2} = 52.29173734$ and demand for type 2 computers in scenario 2 is $d^{s = 2}_{2} = 48.17833053$. Also, the backorder cost for insufficient supply of computers is the same for both computers at \\\\$10 while holding cost for excess supply of computers produced is \\\\$0.20. We denote $u^s_i, v^s_i$ as the quantity of computers that are in insufficient or excess, $s = 1, 2$ and $i = 1, 2$. Notice that for each scenario $s$ if $u^s_i > 0 \\implies v^s_i = 0$ and $v^s_i > 0 \\implies u^s_i = 0$. Our optimization problem is then to formulate a way to maximize the net profit accounting for all scenarios:\n",
    "\n",
    "\\begin{aligned}\n",
    "    \\underset{x_1, x_2, w^s_{11}, w^{s}_{12}, w^{s}_{22}, u^s_i, v^s_i}{\\text{Maximize }} &-4x_1 - 2x_2 + \\frac{1}{n}\\sum^{n=2}_{s=1} \\left(8 \\left(w^s_{11} - v^s_1\\right) + 4\\left(w^{s}_{12} + w^{s}_{22} - v^s_2\\right) - \\left( 0.2v^s_1 + 0.2v^s_2 \\right) - \\left( 10u^s_1 + 10u^s_2 \\right) \\right) \\\\\n",
    "    \\text{subject to }\n",
    "    &x_1 - w^s_{11} - w^s_{12} = 0 \\\\\n",
    "    &x_2 - w^s_{22} = 0 \\\\\n",
    "    &w^s_{11} + u^s_1 - v^s_1 = d^s_1 \\\\\n",
    "    &w^s_{12} + w^s_{22} + u^s_2 - v^s_2 = d^s_2 \\\\\n",
    "    &s = 1, 2 \\text{ and all variables }\\geq 0, \\in \\mathcal{N}. \\\\\n",
    "\\end{aligned}"
   ]
  },
  {
   "cell_type": "code",
   "execution_count": 2,
   "id": "together-fabric",
   "metadata": {},
   "outputs": [
    {
     "name": "stdout",
     "output_type": "stream",
     "text": [
      "Linear Programming Solution\n",
      "========================================\n",
      "Status: optimal\n",
      "The optimal value is: 283.8060209104777\n",
      "The optimal solution is: x = [161.326406   156.31955651]\n",
      "time: 53.5 ms (started: 2021-02-16 14:20:16 +08:00)\n"
     ]
    },
    {
     "data": {
      "application/javascript": [
       "\n",
       "            setTimeout(function() {\n",
       "                var nbb_cell_id = 2;\n",
       "                var nbb_unformatted_code = \"# Create static optimization variables\\nx = cp.Variable((2,), integer=False)\\n\\n# Create scenario dependent variables\\nnum_scenarios = 2\\nscenarios = {}\\nfor s in range(num_scenarios):\\n    scenarios[s] = {}\\n    scenarios[s][\\\"w\\\"] = cp.Variable((3,), integer=False)  # [w^s_11, w^s_12, w^s_22]\\n    scenarios[s][\\\"u\\\"] = cp.Variable((2,), integer=False)  # [u^s_1, u^s_2]\\n    scenarios[s][\\\"v\\\"] = cp.Variable((2,), integer=False)  # [v^s_1, v^s_2]\\n    scenarios[s][\\\"d\\\"] = (\\n        [161.326406, 156.3195565] if s == 0 else [52.29173734, 48.17833053]\\n    )  # [d^s_1, d^s_2]\\n\\n# Create constraints.\\nconstraints = [\\n    x >= 0,\\n    x <= 217,\\n]\\nfor s in range(num_scenarios):\\n    constraints += [\\n        x[0] - scenarios[s][\\\"w\\\"][0] - scenarios[s][\\\"w\\\"][1] >= 0,\\n        x[0] - scenarios[s][\\\"w\\\"][0] - scenarios[s][\\\"w\\\"][1] <= 0,\\n        x[1] - scenarios[s][\\\"w\\\"][2] >= 0,\\n        x[1] - scenarios[s][\\\"w\\\"][2] <= 0,\\n        scenarios[s][\\\"w\\\"][0] + scenarios[s][\\\"u\\\"][0] - scenarios[s][\\\"v\\\"][0]\\n        <= scenarios[s][\\\"d\\\"][0],\\n        scenarios[s][\\\"w\\\"][0] + scenarios[s][\\\"u\\\"][0] - scenarios[s][\\\"v\\\"][0]\\n        >= scenarios[s][\\\"d\\\"][0],\\n        scenarios[s][\\\"w\\\"][1]\\n        + scenarios[s][\\\"w\\\"][2]\\n        + scenarios[s][\\\"u\\\"][1]\\n        - scenarios[s][\\\"v\\\"][1]\\n        <= scenarios[s][\\\"d\\\"][1],\\n        scenarios[s][\\\"w\\\"][1]\\n        + scenarios[s][\\\"w\\\"][2]\\n        + scenarios[s][\\\"u\\\"][1]\\n        - scenarios[s][\\\"v\\\"][1]\\n        >= scenarios[s][\\\"d\\\"][1],\\n        scenarios[s][\\\"w\\\"] >= 0,\\n        scenarios[s][\\\"u\\\"] >= 0,\\n        scenarios[s][\\\"v\\\"] >= 0,\\n    ]\\n\\n# Form objective.\\nobj = cp.Maximize(\\n    np.array([-4, -2]) @ x\\n    + np.mean(\\n        [\\n            8 * (scenarios[s][\\\"w\\\"][0] - scenarios[s][\\\"v\\\"][0])\\n            + 4 * (scenarios[s][\\\"w\\\"][1] + scenarios[s][\\\"w\\\"][2] - scenarios[s][\\\"v\\\"][1])\\n            - np.array([0.2, 0.2]) @ scenarios[s][\\\"v\\\"]\\n            - np.array([10, 10]) @ scenarios[s][\\\"u\\\"]\\n            for s in range(num_scenarios)\\n        ]\\n    )\\n)\\n\\n# Form and solve problem.\\nprob = cp.Problem(obj, constraints)\\nprob.solve()\\n\\nprint(\\\"Linear Programming Solution\\\")\\nprint(\\\"=\\\" * 40)\\nprint(f\\\"Status: {prob.status}\\\")\\nprint(f\\\"The optimal value is: {prob.value}\\\")\\nprint(f\\\"The optimal solution is: x = {x.value}\\\")\";\n",
       "                var nbb_formatted_code = \"# Create static optimization variables\\nx = cp.Variable((2,), integer=False)\\n\\n# Create scenario dependent variables\\nnum_scenarios = 2\\nscenarios = {}\\nfor s in range(num_scenarios):\\n    scenarios[s] = {}\\n    scenarios[s][\\\"w\\\"] = cp.Variable((3,), integer=False)  # [w^s_11, w^s_12, w^s_22]\\n    scenarios[s][\\\"u\\\"] = cp.Variable((2,), integer=False)  # [u^s_1, u^s_2]\\n    scenarios[s][\\\"v\\\"] = cp.Variable((2,), integer=False)  # [v^s_1, v^s_2]\\n    scenarios[s][\\\"d\\\"] = (\\n        [161.326406, 156.3195565] if s == 0 else [52.29173734, 48.17833053]\\n    )  # [d^s_1, d^s_2]\\n\\n# Create constraints.\\nconstraints = [\\n    x >= 0,\\n    x <= 217,\\n]\\nfor s in range(num_scenarios):\\n    constraints += [\\n        x[0] - scenarios[s][\\\"w\\\"][0] - scenarios[s][\\\"w\\\"][1] >= 0,\\n        x[0] - scenarios[s][\\\"w\\\"][0] - scenarios[s][\\\"w\\\"][1] <= 0,\\n        x[1] - scenarios[s][\\\"w\\\"][2] >= 0,\\n        x[1] - scenarios[s][\\\"w\\\"][2] <= 0,\\n        scenarios[s][\\\"w\\\"][0] + scenarios[s][\\\"u\\\"][0] - scenarios[s][\\\"v\\\"][0]\\n        <= scenarios[s][\\\"d\\\"][0],\\n        scenarios[s][\\\"w\\\"][0] + scenarios[s][\\\"u\\\"][0] - scenarios[s][\\\"v\\\"][0]\\n        >= scenarios[s][\\\"d\\\"][0],\\n        scenarios[s][\\\"w\\\"][1]\\n        + scenarios[s][\\\"w\\\"][2]\\n        + scenarios[s][\\\"u\\\"][1]\\n        - scenarios[s][\\\"v\\\"][1]\\n        <= scenarios[s][\\\"d\\\"][1],\\n        scenarios[s][\\\"w\\\"][1]\\n        + scenarios[s][\\\"w\\\"][2]\\n        + scenarios[s][\\\"u\\\"][1]\\n        - scenarios[s][\\\"v\\\"][1]\\n        >= scenarios[s][\\\"d\\\"][1],\\n        scenarios[s][\\\"w\\\"] >= 0,\\n        scenarios[s][\\\"u\\\"] >= 0,\\n        scenarios[s][\\\"v\\\"] >= 0,\\n    ]\\n\\n# Form objective.\\nobj = cp.Maximize(\\n    np.array([-4, -2]) @ x\\n    + np.mean(\\n        [\\n            8 * (scenarios[s][\\\"w\\\"][0] - scenarios[s][\\\"v\\\"][0])\\n            + 4 * (scenarios[s][\\\"w\\\"][1] + scenarios[s][\\\"w\\\"][2] - scenarios[s][\\\"v\\\"][1])\\n            - np.array([0.2, 0.2]) @ scenarios[s][\\\"v\\\"]\\n            - np.array([10, 10]) @ scenarios[s][\\\"u\\\"]\\n            for s in range(num_scenarios)\\n        ]\\n    )\\n)\\n\\n# Form and solve problem.\\nprob = cp.Problem(obj, constraints)\\nprob.solve()\\n\\nprint(\\\"Linear Programming Solution\\\")\\nprint(\\\"=\\\" * 40)\\nprint(f\\\"Status: {prob.status}\\\")\\nprint(f\\\"The optimal value is: {prob.value}\\\")\\nprint(f\\\"The optimal solution is: x = {x.value}\\\")\";\n",
       "                var nbb_cells = Jupyter.notebook.get_cells();\n",
       "                for (var i = 0; i < nbb_cells.length; ++i) {\n",
       "                    if (nbb_cells[i].input_prompt_number == nbb_cell_id) {\n",
       "                        if (nbb_cells[i].get_text() == nbb_unformatted_code) {\n",
       "                             nbb_cells[i].set_text(nbb_formatted_code);\n",
       "                        }\n",
       "                        break;\n",
       "                    }\n",
       "                }\n",
       "            }, 500);\n",
       "            "
      ],
      "text/plain": [
       "<IPython.core.display.Javascript object>"
      ]
     },
     "metadata": {},
     "output_type": "display_data"
    }
   ],
   "source": [
    "# Create static optimization variables\n",
    "x = cp.Variable((2,), integer=False)\n",
    "\n",
    "# Create scenario dependent variables\n",
    "num_scenarios = 2\n",
    "scenarios = {}\n",
    "for s in range(num_scenarios):\n",
    "    scenarios[s] = {}\n",
    "    scenarios[s][\"w\"] = cp.Variable((3,), integer=False)  # [w^s_11, w^s_12, w^s_22]\n",
    "    scenarios[s][\"u\"] = cp.Variable((2,), integer=False)  # [u^s_1, u^s_2]\n",
    "    scenarios[s][\"v\"] = cp.Variable((2,), integer=False)  # [v^s_1, v^s_2]\n",
    "    scenarios[s][\"d\"] = (\n",
    "        [161.326406, 156.3195565] if s == 0 else [52.29173734, 48.17833053]\n",
    "    )  # [d^s_1, d^s_2]\n",
    "\n",
    "# Create constraints.\n",
    "constraints = [\n",
    "    x >= 0,\n",
    "    x <= 217,\n",
    "]\n",
    "for s in range(num_scenarios):\n",
    "    constraints += [\n",
    "        x[0] - scenarios[s][\"w\"][0] - scenarios[s][\"w\"][1] >= 0,\n",
    "        x[0] - scenarios[s][\"w\"][0] - scenarios[s][\"w\"][1] <= 0,\n",
    "        x[1] - scenarios[s][\"w\"][2] >= 0,\n",
    "        x[1] - scenarios[s][\"w\"][2] <= 0,\n",
    "        scenarios[s][\"w\"][0] + scenarios[s][\"u\"][0] - scenarios[s][\"v\"][0]\n",
    "        <= scenarios[s][\"d\"][0],\n",
    "        scenarios[s][\"w\"][0] + scenarios[s][\"u\"][0] - scenarios[s][\"v\"][0]\n",
    "        >= scenarios[s][\"d\"][0],\n",
    "        scenarios[s][\"w\"][1]\n",
    "        + scenarios[s][\"w\"][2]\n",
    "        + scenarios[s][\"u\"][1]\n",
    "        - scenarios[s][\"v\"][1]\n",
    "        <= scenarios[s][\"d\"][1],\n",
    "        scenarios[s][\"w\"][1]\n",
    "        + scenarios[s][\"w\"][2]\n",
    "        + scenarios[s][\"u\"][1]\n",
    "        - scenarios[s][\"v\"][1]\n",
    "        >= scenarios[s][\"d\"][1],\n",
    "        scenarios[s][\"w\"] >= 0,\n",
    "        scenarios[s][\"u\"] >= 0,\n",
    "        scenarios[s][\"v\"] >= 0,\n",
    "    ]\n",
    "\n",
    "# Form objective.\n",
    "obj = cp.Maximize(\n",
    "    np.array([-4, -2]) @ x\n",
    "    + np.mean(\n",
    "        [\n",
    "            8 * (scenarios[s][\"w\"][0] - scenarios[s][\"v\"][0])\n",
    "            + 4 * (scenarios[s][\"w\"][1] + scenarios[s][\"w\"][2] - scenarios[s][\"v\"][1])\n",
    "            - np.array([0.2, 0.2]) @ scenarios[s][\"v\"]\n",
    "            - np.array([10, 10]) @ scenarios[s][\"u\"]\n",
    "            for s in range(num_scenarios)\n",
    "        ]\n",
    "    )\n",
    ")\n",
    "\n",
    "# Form and solve problem.\n",
    "prob = cp.Problem(obj, constraints)\n",
    "prob.solve()\n",
    "\n",
    "print(\"Linear Programming Solution\")\n",
    "print(\"=\" * 40)\n",
    "print(f\"Status: {prob.status}\")\n",
    "print(f\"The optimal value is: {prob.value}\")\n",
    "print(f\"The optimal solution is: x = {x.value}\")"
   ]
  },
  {
   "cell_type": "markdown",
   "id": "brazilian-beijing",
   "metadata": {},
   "source": [
    "#### Scenario 1: High Demand"
   ]
  },
  {
   "cell_type": "code",
   "execution_count": 3,
   "id": "noticed-depression",
   "metadata": {},
   "outputs": [
    {
     "data": {
      "text/html": [
       "<div>\n",
       "<style scoped>\n",
       "    .dataframe tbody tr th:only-of-type {\n",
       "        vertical-align: middle;\n",
       "    }\n",
       "\n",
       "    .dataframe tbody tr th {\n",
       "        vertical-align: top;\n",
       "    }\n",
       "\n",
       "    .dataframe thead th {\n",
       "        text-align: right;\n",
       "    }\n",
       "</style>\n",
       "<table border=\"1\" class=\"dataframe\">\n",
       "  <thead>\n",
       "    <tr style=\"text-align: right;\">\n",
       "      <th></th>\n",
       "      <th>value</th>\n",
       "    </tr>\n",
       "  </thead>\n",
       "  <tbody>\n",
       "    <tr>\n",
       "      <th>$w^1_{11}$</th>\n",
       "      <td>161.33</td>\n",
       "    </tr>\n",
       "    <tr>\n",
       "      <th>$w^1_{12}$</th>\n",
       "      <td>0.0</td>\n",
       "    </tr>\n",
       "    <tr>\n",
       "      <th>$w^1_{22}$</th>\n",
       "      <td>156.32</td>\n",
       "    </tr>\n",
       "    <tr>\n",
       "      <th>$u^1_{1}$</th>\n",
       "      <td>0.0</td>\n",
       "    </tr>\n",
       "    <tr>\n",
       "      <th>$u^1_{2}$</th>\n",
       "      <td>0.0</td>\n",
       "    </tr>\n",
       "    <tr>\n",
       "      <th>$v^1_{1}$</th>\n",
       "      <td>-0.0</td>\n",
       "    </tr>\n",
       "    <tr>\n",
       "      <th>$v^1_{2}$</th>\n",
       "      <td>-0.0</td>\n",
       "    </tr>\n",
       "  </tbody>\n",
       "</table>\n",
       "</div>"
      ],
      "text/plain": [
       "             value\n",
       "$w^1_{11}$  161.33\n",
       "$w^1_{12}$     0.0\n",
       "$w^1_{22}$  156.32\n",
       "$u^1_{1}$      0.0\n",
       "$u^1_{2}$      0.0\n",
       "$v^1_{1}$     -0.0\n",
       "$v^1_{2}$     -0.0"
      ]
     },
     "execution_count": 3,
     "metadata": {},
     "output_type": "execute_result"
    },
    {
     "name": "stdout",
     "output_type": "stream",
     "text": [
      "time: 9.09 ms (started: 2021-02-16 14:20:16 +08:00)\n"
     ]
    },
    {
     "data": {
      "application/javascript": [
       "\n",
       "            setTimeout(function() {\n",
       "                var nbb_cell_id = 3;\n",
       "                var nbb_unformatted_code = \"pd.Series(\\n    {\\n        r\\\"$w^1_{11}$\\\": str(round(scenarios[0][\\\"w\\\"][0].value, 2)),\\n        r\\\"$w^1_{12}$\\\": str(round(scenarios[0][\\\"w\\\"][1].value, 2)),\\n        r\\\"$w^1_{22}$\\\": str(round(scenarios[0][\\\"w\\\"][2].value, 2)),\\n        r\\\"$u^1_{1}$\\\": str(round(scenarios[0][\\\"u\\\"][0].value, 2)),\\n        r\\\"$u^1_{2}$\\\": str(round(scenarios[0][\\\"u\\\"][0].value, 2)),\\n        r\\\"$v^1_{1}$\\\": str(round(scenarios[0][\\\"v\\\"][0].value, 2)),\\n        r\\\"$v^1_{2}$\\\": str(round(scenarios[0][\\\"v\\\"][0].value, 2)),\\n    },\\n    name=\\\"value\\\",\\n).to_frame()\";\n",
       "                var nbb_formatted_code = \"pd.Series(\\n    {\\n        r\\\"$w^1_{11}$\\\": str(round(scenarios[0][\\\"w\\\"][0].value, 2)),\\n        r\\\"$w^1_{12}$\\\": str(round(scenarios[0][\\\"w\\\"][1].value, 2)),\\n        r\\\"$w^1_{22}$\\\": str(round(scenarios[0][\\\"w\\\"][2].value, 2)),\\n        r\\\"$u^1_{1}$\\\": str(round(scenarios[0][\\\"u\\\"][0].value, 2)),\\n        r\\\"$u^1_{2}$\\\": str(round(scenarios[0][\\\"u\\\"][0].value, 2)),\\n        r\\\"$v^1_{1}$\\\": str(round(scenarios[0][\\\"v\\\"][0].value, 2)),\\n        r\\\"$v^1_{2}$\\\": str(round(scenarios[0][\\\"v\\\"][0].value, 2)),\\n    },\\n    name=\\\"value\\\",\\n).to_frame()\";\n",
       "                var nbb_cells = Jupyter.notebook.get_cells();\n",
       "                for (var i = 0; i < nbb_cells.length; ++i) {\n",
       "                    if (nbb_cells[i].input_prompt_number == nbb_cell_id) {\n",
       "                        if (nbb_cells[i].get_text() == nbb_unformatted_code) {\n",
       "                             nbb_cells[i].set_text(nbb_formatted_code);\n",
       "                        }\n",
       "                        break;\n",
       "                    }\n",
       "                }\n",
       "            }, 500);\n",
       "            "
      ],
      "text/plain": [
       "<IPython.core.display.Javascript object>"
      ]
     },
     "metadata": {},
     "output_type": "display_data"
    }
   ],
   "source": [
    "pd.Series(\n",
    "    {\n",
    "        r\"$w^1_{11}$\": str(round(scenarios[0][\"w\"][0].value, 2)),\n",
    "        r\"$w^1_{12}$\": str(round(scenarios[0][\"w\"][1].value, 2)),\n",
    "        r\"$w^1_{22}$\": str(round(scenarios[0][\"w\"][2].value, 2)),\n",
    "        r\"$u^1_{1}$\": str(round(scenarios[0][\"u\"][0].value, 2)),\n",
    "        r\"$u^1_{2}$\": str(round(scenarios[0][\"u\"][0].value, 2)),\n",
    "        r\"$v^1_{1}$\": str(round(scenarios[0][\"v\"][0].value, 2)),\n",
    "        r\"$v^1_{2}$\": str(round(scenarios[0][\"v\"][0].value, 2)),\n",
    "    },\n",
    "    name=\"value\",\n",
    ").to_frame()"
   ]
  },
  {
   "cell_type": "markdown",
   "id": "favorite-origin",
   "metadata": {},
   "source": [
    "#### Scenario 2: Low Demand"
   ]
  },
  {
   "cell_type": "code",
   "execution_count": 4,
   "id": "nutritional-premises",
   "metadata": {},
   "outputs": [
    {
     "data": {
      "text/html": [
       "<div>\n",
       "<style scoped>\n",
       "    .dataframe tbody tr th:only-of-type {\n",
       "        vertical-align: middle;\n",
       "    }\n",
       "\n",
       "    .dataframe tbody tr th {\n",
       "        vertical-align: top;\n",
       "    }\n",
       "\n",
       "    .dataframe thead th {\n",
       "        text-align: right;\n",
       "    }\n",
       "</style>\n",
       "<table border=\"1\" class=\"dataframe\">\n",
       "  <thead>\n",
       "    <tr style=\"text-align: right;\">\n",
       "      <th></th>\n",
       "      <th>value</th>\n",
       "    </tr>\n",
       "  </thead>\n",
       "  <tbody>\n",
       "    <tr>\n",
       "      <th>$w^2_{11}$</th>\n",
       "      <td>114.09</td>\n",
       "    </tr>\n",
       "    <tr>\n",
       "      <th>$w^2_{12}$</th>\n",
       "      <td>47.23</td>\n",
       "    </tr>\n",
       "    <tr>\n",
       "      <th>$w^2_{22}$</th>\n",
       "      <td>156.32</td>\n",
       "    </tr>\n",
       "    <tr>\n",
       "      <th>$u^2_{1}$</th>\n",
       "      <td>-0.0</td>\n",
       "    </tr>\n",
       "    <tr>\n",
       "      <th>$u^2_{2}$</th>\n",
       "      <td>-0.0</td>\n",
       "    </tr>\n",
       "    <tr>\n",
       "      <th>$v^2_{1}$</th>\n",
       "      <td>61.8</td>\n",
       "    </tr>\n",
       "    <tr>\n",
       "      <th>$v^2_{2}$</th>\n",
       "      <td>61.8</td>\n",
       "    </tr>\n",
       "  </tbody>\n",
       "</table>\n",
       "</div>"
      ],
      "text/plain": [
       "             value\n",
       "$w^2_{11}$  114.09\n",
       "$w^2_{12}$   47.23\n",
       "$w^2_{22}$  156.32\n",
       "$u^2_{1}$     -0.0\n",
       "$u^2_{2}$     -0.0\n",
       "$v^2_{1}$     61.8\n",
       "$v^2_{2}$     61.8"
      ]
     },
     "execution_count": 4,
     "metadata": {},
     "output_type": "execute_result"
    },
    {
     "name": "stdout",
     "output_type": "stream",
     "text": [
      "time: 8.26 ms (started: 2021-02-16 14:20:16 +08:00)\n"
     ]
    },
    {
     "data": {
      "application/javascript": [
       "\n",
       "            setTimeout(function() {\n",
       "                var nbb_cell_id = 4;\n",
       "                var nbb_unformatted_code = \"pd.Series(\\n    {\\n        r\\\"$w^2_{11}$\\\": str(round(scenarios[1][\\\"w\\\"][0].value, 2)),\\n        r\\\"$w^2_{12}$\\\": str(round(scenarios[1][\\\"w\\\"][1].value, 2)),\\n        r\\\"$w^2_{22}$\\\": str(round(scenarios[1][\\\"w\\\"][2].value, 2)),\\n        r\\\"$u^2_{1}$\\\": str(round(scenarios[1][\\\"u\\\"][0].value, 2)),\\n        r\\\"$u^2_{2}$\\\": str(round(scenarios[1][\\\"u\\\"][0].value, 2)),\\n        r\\\"$v^2_{1}$\\\": str(round(scenarios[1][\\\"v\\\"][0].value, 2)),\\n        r\\\"$v^2_{2}$\\\": str(round(scenarios[1][\\\"v\\\"][0].value, 2)),\\n    },\\n    name=\\\"value\\\",\\n).to_frame()\";\n",
       "                var nbb_formatted_code = \"pd.Series(\\n    {\\n        r\\\"$w^2_{11}$\\\": str(round(scenarios[1][\\\"w\\\"][0].value, 2)),\\n        r\\\"$w^2_{12}$\\\": str(round(scenarios[1][\\\"w\\\"][1].value, 2)),\\n        r\\\"$w^2_{22}$\\\": str(round(scenarios[1][\\\"w\\\"][2].value, 2)),\\n        r\\\"$u^2_{1}$\\\": str(round(scenarios[1][\\\"u\\\"][0].value, 2)),\\n        r\\\"$u^2_{2}$\\\": str(round(scenarios[1][\\\"u\\\"][0].value, 2)),\\n        r\\\"$v^2_{1}$\\\": str(round(scenarios[1][\\\"v\\\"][0].value, 2)),\\n        r\\\"$v^2_{2}$\\\": str(round(scenarios[1][\\\"v\\\"][0].value, 2)),\\n    },\\n    name=\\\"value\\\",\\n).to_frame()\";\n",
       "                var nbb_cells = Jupyter.notebook.get_cells();\n",
       "                for (var i = 0; i < nbb_cells.length; ++i) {\n",
       "                    if (nbb_cells[i].input_prompt_number == nbb_cell_id) {\n",
       "                        if (nbb_cells[i].get_text() == nbb_unformatted_code) {\n",
       "                             nbb_cells[i].set_text(nbb_formatted_code);\n",
       "                        }\n",
       "                        break;\n",
       "                    }\n",
       "                }\n",
       "            }, 500);\n",
       "            "
      ],
      "text/plain": [
       "<IPython.core.display.Javascript object>"
      ]
     },
     "metadata": {},
     "output_type": "display_data"
    }
   ],
   "source": [
    "pd.Series(\n",
    "    {\n",
    "        r\"$w^2_{11}$\": str(round(scenarios[1][\"w\"][0].value, 2)),\n",
    "        r\"$w^2_{12}$\": str(round(scenarios[1][\"w\"][1].value, 2)),\n",
    "        r\"$w^2_{22}$\": str(round(scenarios[1][\"w\"][2].value, 2)),\n",
    "        r\"$u^2_{1}$\": str(round(scenarios[1][\"u\"][0].value, 2)),\n",
    "        r\"$u^2_{2}$\": str(round(scenarios[1][\"u\"][0].value, 2)),\n",
    "        r\"$v^2_{1}$\": str(round(scenarios[1][\"v\"][0].value, 2)),\n",
    "        r\"$v^2_{2}$\": str(round(scenarios[1][\"v\"][0].value, 2)),\n",
    "    },\n",
    "    name=\"value\",\n",
    ").to_frame()"
   ]
  }
 ],
 "metadata": {
  "kernelspec": {
   "display_name": "Python 3",
   "language": "python",
   "name": "python3"
  },
  "language_info": {
   "codemirror_mode": {
    "name": "ipython",
    "version": 3
   },
   "file_extension": ".py",
   "mimetype": "text/x-python",
   "name": "python",
   "nbconvert_exporter": "python",
   "pygments_lexer": "ipython3",
   "version": "3.8.5"
  },
  "latex_envs": {
   "LaTeX_envs_menu_present": true,
   "autoclose": false,
   "autocomplete": true,
   "bibliofile": "biblio.bib",
   "cite_by": "apalike",
   "current_citInitial": 1,
   "eqLabelWithNumbers": true,
   "eqNumInitial": 1,
   "hotkeys": {
    "equation": "Ctrl-E",
    "itemize": "Ctrl-I"
   },
   "labels_anchors": false,
   "latex_user_defs": false,
   "report_style_numbering": false,
   "user_envs_cfg": false
  }
 },
 "nbformat": 4,
 "nbformat_minor": 5
}
