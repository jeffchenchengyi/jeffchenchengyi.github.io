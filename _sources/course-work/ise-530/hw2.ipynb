{
 "cells": [
  {
   "cell_type": "markdown",
   "metadata": {},
   "source": [
    "# HW 2\n",
    "\n",
    "ISE-530 Homework II: Chapters III and IV of Cottle-Thapa. Due 11:59 PM Wednesday September 23, 2020\n",
    "\n",
    "- Exercises 3.3, 3.4, and 3.5.\n",
    "- Exercises 4.1(a), 4.11, 4.12, 4.14 and 4.18.\n",
    "- Formulate a linear program for the planar absolute-value regression problem given the 5 points: (-1,-2), (0,0), (1,1), (2,3), and (3,0). Write an AMPL code for the resulting linear program and solve it by a solver.\n",
    "- Use the same 5 points and same objective as above to determine a planar isotone (i.e, nondecreasing) curve that best fits the given points. Do the same with a convex curve instead. Solve both linear programs using AMPL."
   ]
  },
  {
   "cell_type": "code",
   "execution_count": 1,
   "metadata": {},
   "outputs": [
    {
     "data": {
      "application/javascript": [
       "\n",
       "            setTimeout(function() {\n",
       "                var nbb_cell_id = 1;\n",
       "                var nbb_unformatted_code = \"%load_ext nb_black\\n%matplotlib inline\\n\\nimport matplotlib.pyplot as plt\\n\\nplt.rcParams[\\\"figure.dpi\\\"] = 300\\n\\nimport numpy as np\\nimport cvxpy as cp\\nfrom collections import namedtuple\";\n",
       "                var nbb_formatted_code = \"%load_ext nb_black\\n%matplotlib inline\\n\\nimport matplotlib.pyplot as plt\\n\\nplt.rcParams[\\\"figure.dpi\\\"] = 300\\n\\nimport numpy as np\\nimport cvxpy as cp\\nfrom collections import namedtuple\";\n",
       "                var nbb_cells = Jupyter.notebook.get_cells();\n",
       "                for (var i = 0; i < nbb_cells.length; ++i) {\n",
       "                    if (nbb_cells[i].input_prompt_number == nbb_cell_id) {\n",
       "                        if (nbb_cells[i].get_text() == nbb_unformatted_code) {\n",
       "                             nbb_cells[i].set_text(nbb_formatted_code);\n",
       "                        }\n",
       "                        break;\n",
       "                    }\n",
       "                }\n",
       "            }, 500);\n",
       "            "
      ],
      "text/plain": [
       "<IPython.core.display.Javascript object>"
      ]
     },
     "metadata": {},
     "output_type": "display_data"
    }
   ],
   "source": [
    "%load_ext nb_black\n",
    "%matplotlib inline\n",
    "\n",
    "import matplotlib.pyplot as plt\n",
    "\n",
    "plt.rcParams[\"figure.dpi\"] = 300\n",
    "\n",
    "import numpy as np\n",
    "import cvxpy as cp\n",
    "from collections import namedtuple"
   ]
  },
  {
   "cell_type": "markdown",
   "metadata": {},
   "source": [
    "---\n",
    "## Chapter 3"
   ]
  },
  {
   "cell_type": "markdown",
   "metadata": {},
   "source": [
    "### 3.3\n",
    "\n",
    "Consider the system of equations\n",
    "\n",
    "$$\n",
    "\\begin{align}\n",
    "    4x_1 − x_2 + 5x_3 + 2x_4 + 2x_5 &= 20 \\\\\n",
    "    −3x_1 + x_2 +3x_4 −2x_5 &= 18 \\\\\n",
    "    2x_1 −4x_2 +10x_3 −6x_4 +8x_5 &= 4.\n",
    "\\end{align}\n",
    "$$"
   ]
  },
  {
   "cell_type": "markdown",
   "metadata": {},
   "source": [
    "**(a) Write the matrix $A$ and the vector $b$ such that the given system of equations is the verbose form of $Ax = b$.**"
   ]
  },
  {
   "cell_type": "markdown",
   "metadata": {},
   "source": [
    "Define:\n",
    "\n",
    "\\begin{equation*}\n",
    "    \\underbrace{\n",
    "        A = \n",
    "        \\begin{pmatrix}\n",
    "        4 & -1 & 5 & 2 & 2 \\\\\n",
    "        -3 & 1 & 0 & 3 & -2 \\\\\n",
    "        2 & -4 & 10 & -6 & 8 \\\\\n",
    "        \\end{pmatrix}\n",
    "    }_{\\text{Detached Coefficient Matrix}}\n",
    "    \\,\\,,\\,\\,\n",
    "    \\underbrace{\n",
    "        \\mathbf{x} = \n",
    "        \\begin{pmatrix}\n",
    "        x_1 \\\\\n",
    "        x_2 \\\\\n",
    "        x_3 \\\\\n",
    "        x_4 \\\\\n",
    "        x_5 \\\\\n",
    "        \\end{pmatrix}\n",
    "    }_{\\text{Decision Variables}}\n",
    "    \\,\\,,\\,\\,\n",
    "    \\underbrace{\n",
    "        \\mathbf{b} = \n",
    "        \\begin{pmatrix}\n",
    "        20 \\\\\n",
    "        18 \\\\\n",
    "        4 \\\\\n",
    "        \\end{pmatrix}\n",
    "    }_{\\text{Constraints}}\n",
    "\\end{equation*}"
   ]
  },
  {
   "cell_type": "markdown",
   "metadata": {},
   "source": [
    "**(b) Identify the matrix $B = [A_{\\bullet3} A_{\\bullet2} A_{\\bullet4}]$ and verify that it is a basis in $A$.**"
   ]
  },
  {
   "cell_type": "markdown",
   "metadata": {},
   "source": [
    "\\begin{align}\n",
    "    B &= \n",
    "    \\begin{pmatrix}\n",
    "    5 & -1 & 2 \\\\\n",
    "    0 & 1 & 3 \\\\\n",
    "    10 & -4 & -6 \\\\\n",
    "    \\end{pmatrix} \\\\\n",
    "    &\\xrightarrow{R_1 - 0.5R_3}\n",
    "    \\begin{pmatrix}\n",
    "    0 & 1 & 5 \\\\\n",
    "    0 & 1 & 3 \\\\\n",
    "    10 & -4 & -6 \\\\\n",
    "    \\end{pmatrix} \\\\\n",
    "    &\\xrightarrow{R_1 - R_2}\n",
    "    \\begin{pmatrix}\n",
    "    0 & 0 & 2 \\\\\n",
    "    0 & 1 & 3 \\\\\n",
    "    10 & -4 & -6 \\\\\n",
    "    \\end{pmatrix} \\\\\n",
    "    &\\xrightarrow{0.5R_1}\n",
    "    \\begin{pmatrix}\n",
    "    0 & 0 & 1 \\\\\n",
    "    0 & 1 & 3 \\\\\n",
    "    10 & -4 & -6 \\\\\n",
    "    \\end{pmatrix} \\\\\n",
    "    &\\xrightarrow{R_2 - 3R_1}\n",
    "    \\begin{pmatrix}\n",
    "    0 & 0 & 1 \\\\\n",
    "    0 & 1 & 0 \\\\\n",
    "    10 & -4 & -6 \\\\\n",
    "    \\end{pmatrix} \\\\\n",
    "    &\\xrightarrow{R_3 + 4R_2}\n",
    "    \\begin{pmatrix}\n",
    "    0 & 0 & 1 \\\\\n",
    "    0 & 1 & 0 \\\\\n",
    "    10 & 0 & -6 \\\\\n",
    "    \\end{pmatrix} \\\\\n",
    "    &\\xrightarrow{R_3 + 6R_1}\n",
    "    \\begin{pmatrix}\n",
    "    0 & 0 & 1 \\\\\n",
    "    0 & 1 & 0 \\\\\n",
    "    10 & 0 & 0 \\\\\n",
    "    \\end{pmatrix} \\\\\n",
    "    &\\xrightarrow{0.1R_3}\n",
    "    \\begin{pmatrix}\n",
    "    0 & 0 & 1 \\\\\n",
    "    0 & 1 & 0 \\\\\n",
    "    1 & 0 & 0 \\\\\n",
    "    \\end{pmatrix} \\\\\n",
    "\\end{align}\n",
    "\n",
    "After performing elementary row operations, we see that matrix $B$'s column space contain 3 linearly independent column vectors which span $\\mathbb{R}^3$, making it a basis for $A$."
   ]
  },
  {
   "cell_type": "markdown",
   "metadata": {},
   "source": [
    "**(c) Compute the basic solution associated with the matrix $B$ (in part(b) above) and verify that it is a nonnegative vector.**"
   ]
  },
  {
   "cell_type": "markdown",
   "metadata": {},
   "source": [
    "Define:\n",
    "\n",
    "\\begin{equation*}\n",
    "    B = \n",
    "    \\begin{pmatrix}\n",
    "    5 & -1 & 2 \\\\\n",
    "    0 & 1 & 3 \\\\\n",
    "    10 & -4 & -6 \\\\\n",
    "    \\end{pmatrix}\n",
    "    \\,\\,,\\,\\,\n",
    "    N = \n",
    "    \\begin{pmatrix}\n",
    "    4 & 2 \\\\\n",
    "    -3 & -2 \\\\\n",
    "    2 & 8 \\\\\n",
    "    \\end{pmatrix}\n",
    "    \\,\\,,\\,\\,\n",
    "    x_B =\n",
    "    \\begin{pmatrix}\n",
    "    x_3 \\\\\n",
    "    x_2 \\\\\n",
    "    x_4 \\\\\n",
    "    \\end{pmatrix}\n",
    "    \\,\\,,\\,\\,\n",
    "    x_N =\n",
    "    \\begin{pmatrix}\n",
    "    x_1 \\\\\n",
    "    x_5 \\\\\n",
    "    \\end{pmatrix}\n",
    "\\end{equation*}"
   ]
  },
  {
   "cell_type": "markdown",
   "metadata": {},
   "source": [
    "\\begin{align}\n",
    "    Ax &= [B N]\n",
    "    \\begin{bmatrix}\n",
    "    x_B \\\\\n",
    "    x_N \\\\\n",
    "    \\end{bmatrix} \\\\\n",
    "    &= Bx_B + Nx_N \\\\\n",
    "    &= b \\\\\n",
    "    \\therefore x_B &= B^{-1}b - B^{-1}Nx_N\n",
    "\\end{align}"
   ]
  },
  {
   "cell_type": "markdown",
   "metadata": {},
   "source": [
    "(Personal Note: If A was the detached coefficient matrix representing constraints, The corresponding basic solution with matrix $B$ is a basic solution when we set $x_N = 0$ and solve for $x_B$, and is a basic **feasible** solution iff $x_B = B^{-1}b \\geq 0$.)\n",
    "\n",
    "Hence, basic solution:\n",
    "\\begin{align}\n",
    "    \\begin{bmatrix}\n",
    "        x_B \\\\\n",
    "        x_N \\\\\n",
    "    \\end{bmatrix}\n",
    "    &=\n",
    "    \\begin{bmatrix}\n",
    "        B^{-1}b \\\\\n",
    "        \\vec{0} \\\\\n",
    "    \\end{bmatrix} \\\\\n",
    "    &=\n",
    "    \\begin{bmatrix}\n",
    "        \\begin{pmatrix}\n",
    "            5 & -1 & 2 \\\\\n",
    "            0 & 1 & 3 \\\\\n",
    "            10 & -4 & -6 \\\\\n",
    "        \\end{pmatrix}^{-1} \n",
    "        \\begin{pmatrix}\n",
    "        20 \\\\\n",
    "        18 \\\\\n",
    "        4 \\\\\n",
    "        \\end{pmatrix} \\\\\n",
    "        \\vec{0} \\\\\n",
    "    \\end{bmatrix} \\\\\n",
    "    &=\n",
    "    \\begin{bmatrix}\n",
    "        \\begin{pmatrix}\n",
    "            -0.3 & 0.7 & 0.25 \\\\\n",
    "            -1.5 & 2.5 & 0.75 \\\\\n",
    "            0.5 & -0.5 & -0.25 \\\\\n",
    "        \\end{pmatrix}^{-1} \n",
    "        \\begin{pmatrix}\n",
    "        20 \\\\\n",
    "        18 \\\\\n",
    "        4 \\\\\n",
    "        \\end{pmatrix} \\\\\n",
    "        \\vec{0} \\\\\n",
    "    \\end{bmatrix} \\\\\n",
    "    &=\n",
    "    \\begin{bmatrix}\n",
    "        \\begin{pmatrix}\n",
    "            7.6 \\\\ \n",
    "            18 \\\\\n",
    "            0 \\\\\n",
    "        \\end{pmatrix}\\\\\n",
    "        \\vec{0} \\\\\n",
    "    \\end{bmatrix} \\\\\n",
    "    \\begin{bmatrix}\n",
    "        x_1 \\\\\n",
    "        x_2 \\\\\n",
    "        x_3 \\\\\n",
    "        x_4 \\\\\n",
    "        x_5 \\\\\n",
    "    \\end{bmatrix}\n",
    "    &= \n",
    "    \\begin{bmatrix}\n",
    "        0 \\\\\n",
    "        18 \\\\\n",
    "        7.6 \\\\\n",
    "        0 \\\\\n",
    "        0 \\\\\n",
    "    \\end{bmatrix}\n",
    "\\end{align}"
   ]
  },
  {
   "cell_type": "markdown",
   "metadata": {},
   "source": [
    "$\\therefore$ basic solution associated with matrix $B$ is a non-negative vector."
   ]
  },
  {
   "cell_type": "markdown",
   "metadata": {},
   "source": [
    "**(d) What is the index set $N$ of the nonbasic variables in this case?**\n",
    "[Hint: Although it is not absolutely necessary to do so, you may find it useful to compute the inverse of B in this exercise.]"
   ]
  },
  {
   "cell_type": "markdown",
   "metadata": {},
   "source": [
    "$N = \\{1, 5\\}$"
   ]
  },
  {
   "cell_type": "markdown",
   "metadata": {},
   "source": [
    "### 3.4\n",
    "\n",
    "Consider the LP\n",
    "\n",
    "\\begin{align}\n",
    "    \\text{maximize } &x_1 + 2x_2 \\\\\n",
    "    \\text{subject to } \n",
    "    &x_1 + x_2 \\leq 4 \\\\\n",
    "    &−x_1 + x_2 \\leq 2 \\\\\n",
    "    &\\text{and } x_1, x_2 \\geq 0 \\\\\n",
    "\\end{align}"
   ]
  },
  {
   "cell_type": "markdown",
   "metadata": {},
   "source": [
    "**(a) Plot the feasible region.**"
   ]
  },
  {
   "cell_type": "code",
   "execution_count": 2,
   "metadata": {},
   "outputs": [
    {
     "name": "stdout",
     "output_type": "stream",
     "text": [
      "Linear Programming Solution\n",
      "==============================\n",
      "Status: optimal\n",
      "The optimal value is: 7.0\n",
      "The optimal solution is: x = [1.0, 3.0]\n"
     ]
    },
    {
     "data": {
      "application/javascript": [
       "\n",
       "            setTimeout(function() {\n",
       "                var nbb_cell_id = 2;\n",
       "                var nbb_unformatted_code = \"# Create one vector optimization variable.\\nx = cp.Variable((2,), integer=False)\\n\\n# Create constraints.\\nconstraints = [\\n    np.array([[1, 1], [-1, 1]]) @ x <= np.array([4, 2]),\\n    x >= 0,\\n]\\n\\n# Form objective.\\nobj = cp.Maximize(np.array([1, 2]) @ x)\\n\\n# Form and solve problem.\\nprob = cp.Problem(obj, constraints)\\nprob.solve()\\n\\nprint(\\\"Linear Programming Solution\\\")\\nprint(\\\"=\\\" * 30)\\nprint(f\\\"Status: {prob.status}\\\")\\nprint(f\\\"The optimal value is: {np.round(prob.value, 2)}\\\")\\nprint(f\\\"The optimal solution is: x = {[np.round(x_i, 2) for x_i in x.value]}\\\")\";\n",
       "                var nbb_formatted_code = \"# Create one vector optimization variable.\\nx = cp.Variable((2,), integer=False)\\n\\n# Create constraints.\\nconstraints = [\\n    np.array([[1, 1], [-1, 1]]) @ x <= np.array([4, 2]),\\n    x >= 0,\\n]\\n\\n# Form objective.\\nobj = cp.Maximize(np.array([1, 2]) @ x)\\n\\n# Form and solve problem.\\nprob = cp.Problem(obj, constraints)\\nprob.solve()\\n\\nprint(\\\"Linear Programming Solution\\\")\\nprint(\\\"=\\\" * 30)\\nprint(f\\\"Status: {prob.status}\\\")\\nprint(f\\\"The optimal value is: {np.round(prob.value, 2)}\\\")\\nprint(f\\\"The optimal solution is: x = {[np.round(x_i, 2) for x_i in x.value]}\\\")\";\n",
       "                var nbb_cells = Jupyter.notebook.get_cells();\n",
       "                for (var i = 0; i < nbb_cells.length; ++i) {\n",
       "                    if (nbb_cells[i].input_prompt_number == nbb_cell_id) {\n",
       "                        if (nbb_cells[i].get_text() == nbb_unformatted_code) {\n",
       "                             nbb_cells[i].set_text(nbb_formatted_code);\n",
       "                        }\n",
       "                        break;\n",
       "                    }\n",
       "                }\n",
       "            }, 500);\n",
       "            "
      ],
      "text/plain": [
       "<IPython.core.display.Javascript object>"
      ]
     },
     "metadata": {},
     "output_type": "display_data"
    }
   ],
   "source": [
    "# Create one vector optimization variable.\n",
    "x = cp.Variable((2,), integer=False)\n",
    "\n",
    "# Create constraints.\n",
    "constraints = [\n",
    "    np.array([[1, 1], [-1, 1]]) @ x <= np.array([4, 2]),\n",
    "    x >= 0,\n",
    "]\n",
    "\n",
    "# Form objective.\n",
    "obj = cp.Maximize(np.array([1, 2]) @ x)\n",
    "\n",
    "# Form and solve problem.\n",
    "prob = cp.Problem(obj, constraints)\n",
    "prob.solve()\n",
    "\n",
    "print(\"Linear Programming Solution\")\n",
    "print(\"=\" * 30)\n",
    "print(f\"Status: {prob.status}\")\n",
    "print(f\"The optimal value is: {np.round(prob.value, 2)}\")\n",
    "print(f\"The optimal solution is: x = {[np.round(x_i, 2) for x_i in x.value]}\")"
   ]
  },
  {
   "cell_type": "code",
   "execution_count": 3,
   "metadata": {},
   "outputs": [
    {
     "data": {
      "image/png": "[encoded data removed]",
      "text/plain": [
       "<Figure size 1800x1200 with 1 Axes>"
      ]
     },
     "metadata": {
      "needs_background": "light"
     },
     "output_type": "display_data"
    },
    {
     "data": {
      "application/javascript": [
       "\n",
       "            setTimeout(function() {\n",
       "                var nbb_cell_id = 3;\n",
       "                var nbb_unformatted_code = \"# Construct lines\\nx_1 = np.linspace(0, 20, 2000)  # x_1 >= 0\\nx_2_1 = lambda x_1: -x_1 + 4  # constraint 1: \\ud835\\udc651 + \\ud835\\udc652 \\u2264 4\\nx_2_2 = lambda x_1: x_1 + 2  # constraint 2: \\u2212\\ud835\\udc651 + \\ud835\\udc652 \\u2264 2\\n\\n# Make plot\\nplt.plot(x_1, x_2_1(x_1), label=r\\\"$x_1 + x_2 \\\\leq 4$\\\")\\nplt.plot(x_1, x_2_2(x_1), label=r\\\"$-x_1 + x_2 \\\\leq 2$\\\")\\nplt.xlim((0, 10))\\nplt.ylim((0, 10))\\nplt.xlabel(r\\\"$x_1$\\\")\\nplt.ylabel(r\\\"$x_2$\\\")\\n\\n# Fill feasible region\\ny = np.minimum(x_2_1(x_1), x_2_2(x_1))\\nx = np.zeros(len(x_1))\\nplt.fill_between(x_1, x, y, where=y > x, color=\\\"grey\\\", alpha=0.5)\\nplt.grid(True)\\nplt.legend(bbox_to_anchor=(1.05, 1), loc=2, borderaxespad=0.0)\\nplt.show()\";\n",
       "                var nbb_formatted_code = \"# Construct lines\\nx_1 = np.linspace(0, 20, 2000)  # x_1 >= 0\\nx_2_1 = lambda x_1: -x_1 + 4  # constraint 1: \\ud835\\udc651 + \\ud835\\udc652 \\u2264 4\\nx_2_2 = lambda x_1: x_1 + 2  # constraint 2: \\u2212\\ud835\\udc651 + \\ud835\\udc652 \\u2264 2\\n\\n# Make plot\\nplt.plot(x_1, x_2_1(x_1), label=r\\\"$x_1 + x_2 \\\\leq 4$\\\")\\nplt.plot(x_1, x_2_2(x_1), label=r\\\"$-x_1 + x_2 \\\\leq 2$\\\")\\nplt.xlim((0, 10))\\nplt.ylim((0, 10))\\nplt.xlabel(r\\\"$x_1$\\\")\\nplt.ylabel(r\\\"$x_2$\\\")\\n\\n# Fill feasible region\\ny = np.minimum(x_2_1(x_1), x_2_2(x_1))\\nx = np.zeros(len(x_1))\\nplt.fill_between(x_1, x, y, where=y > x, color=\\\"grey\\\", alpha=0.5)\\nplt.grid(True)\\nplt.legend(bbox_to_anchor=(1.05, 1), loc=2, borderaxespad=0.0)\\nplt.show()\";\n",
       "                var nbb_cells = Jupyter.notebook.get_cells();\n",
       "                for (var i = 0; i < nbb_cells.length; ++i) {\n",
       "                    if (nbb_cells[i].input_prompt_number == nbb_cell_id) {\n",
       "                        if (nbb_cells[i].get_text() == nbb_unformatted_code) {\n",
       "                             nbb_cells[i].set_text(nbb_formatted_code);\n",
       "                        }\n",
       "                        break;\n",
       "                    }\n",
       "                }\n",
       "            }, 500);\n",
       "            "
      ],
      "text/plain": [
       "<IPython.core.display.Javascript object>"
      ]
     },
     "metadata": {},
     "output_type": "display_data"
    }
   ],
   "source": [
    "# Construct lines\n",
    "x_1 = np.linspace(0, 20, 2000)  # x_1 >= 0\n",
    "x_2_1 = lambda x_1: -x_1 + 4  # constraint 1: 𝑥1 + 𝑥2 ≤ 4\n",
    "x_2_2 = lambda x_1: x_1 + 2  # constraint 2: −𝑥1 + 𝑥2 ≤ 2\n",
    "\n",
    "# Make plot\n",
    "plt.plot(x_1, x_2_1(x_1), label=r\"$x_1 + x_2 \\leq 4$\")\n",
    "plt.plot(x_1, x_2_2(x_1), label=r\"$-x_1 + x_2 \\leq 2$\")\n",
    "plt.xlim((0, 10))\n",
    "plt.ylim((0, 10))\n",
    "plt.xlabel(r\"$x_1$\")\n",
    "plt.ylabel(r\"$x_2$\")\n",
    "\n",
    "# Fill feasible region\n",
    "y = np.minimum(x_2_1(x_1), x_2_2(x_1))\n",
    "x = np.zeros(len(x_1))\n",
    "plt.fill_between(x_1, x, y, where=y > x, color=\"grey\", alpha=0.5)\n",
    "plt.grid(True)\n",
    "plt.legend(bbox_to_anchor=(1.05, 1), loc=2, borderaxespad=0.0)\n",
    "plt.show()"
   ]
  },
  {
   "cell_type": "markdown",
   "metadata": {},
   "source": [
    "**(b) Identify all the basic solutions and specify which are feasible and which are infeasible.**"
   ]
  },
  {
   "cell_type": "markdown",
   "metadata": {},
   "source": [
    "For a linear inequality system (including equalities) in $n$ variables, a feasible solution is basic if there are $n$ linearly independent active constraints at the given solution. \n",
    "\n",
    "Basic Solutions:\n",
    "- $(x_1=0, x_2=0)$, 2 active constraints, $x_1=0\\geq0$ & $x_2=0\\geq0$ [Feasible]\n",
    "- $(x_1=0, x_2=2)$, 2 active constraints, $x_1=0\\geq0$ & $−x_1+x_2=0+2=2\\leq 2$ [Feasible]\n",
    "- $(x_1=1, x_2=3)$, 2 active constraints, $x_1+x_2=1+3=4\\leq 4$ & $−x_1+x_2=-1+3=2\\leq 2$ [Feasible]\n",
    "- $(x_1=4, x_2=0)$, 2 active constraints, $x_1+x_2=4+0=4\\leq 4$ & $x_2\\geq0$ [Feasible]"
   ]
  },
  {
   "cell_type": "markdown",
   "metadata": {},
   "source": [
    "**(c) Solve the problem using the Simplex Algorithm.**"
   ]
  },
  {
   "cell_type": "markdown",
   "metadata": {},
   "source": [
    "Standard Form:\n",
    "\n",
    "\\begin{align}\n",
    "    \\text{minimize } &z = -x_1 - 2x_2 \\\\\n",
    "    \\text{subject to } \n",
    "    &x_1 + x_2 + s_1 = 4 \\\\\n",
    "    &−x_1 + x_2 + s_2 = 2 \\\\\n",
    "    &\\text{and } x_1, x_2, s_1, s_2 \\geq 0 \\\\\n",
    "\\end{align}"
   ]
  },
  {
   "cell_type": "markdown",
   "metadata": {},
   "source": [
    "From the Canonical Tableau:\n",
    "\n",
    "\\begin{align}\n",
    "    &\\begin{array}{c}\n",
    "    \\\\\n",
    "    z \\\\ \n",
    "    s_1 \\\\\n",
    "    s_2 \\\\\n",
    "    \\end{array}\n",
    "    \\begin{bmatrix}\n",
    "    \\begin{array}{c|cccc|c}\n",
    "      z & x_1 & x_2 & s_1 & s_2 & b \\\\ \\hline\n",
    "      1 & 1 & 2 & 0 & 0 & 0 \\\\ \\hline\n",
    "      0 & 1 & 1 & 1 & 0 & 4  \\\\\n",
    "      0 & -1 & 1 & 0 & 1 & 2 \\\\\n",
    "    \\end{array}\n",
    "    \\end{bmatrix} \\\\\n",
    "\\end{align}"
   ]
  },
  {
   "cell_type": "markdown",
   "metadata": {},
   "source": [
    "\\begin{align}\n",
    "    \\text{Entering Variable: }x_2\\,\\because \\text{Largest non-basic},\\,\\text{Leaving Variable: }s_2\\,\\because \\text{argmin}\\Big(\\frac{4}{1}, \\frac{2}{1}\\Big) = s_2\n",
    "    \\rightarrow&\n",
    "    \\begin{array}{c}\n",
    "    \\\\\n",
    "    z \\\\ \n",
    "    s_1 \\\\\n",
    "    x_2 \\\\\n",
    "    \\end{array}\n",
    "    \\begin{bmatrix}\n",
    "    \\begin{array}{c|cccc|c}\n",
    "      z & x_1 & x_2 & s_1 & s_2 & b \\\\ \\hline\n",
    "      1 & 3 & 0 & 0 & -2 & -4 \\\\ \\hline\n",
    "      0 & 2 & 0 & 1 & -1 & 2  \\\\\n",
    "      0 & -1 & 1 & 0 & 1 & 2 \\\\\n",
    "    \\end{array}\n",
    "    \\end{bmatrix}\n",
    "\\end{align}"
   ]
  },
  {
   "cell_type": "markdown",
   "metadata": {},
   "source": [
    "\\begin{align}\n",
    "    \\text{Entering Variable: }x_1\\,\\because \\text{Largest non-basic},\\,\\text{Leaving Variable: }s_1\\,\\because \\text{argmin}\\Big(\\frac{2}{2}\\Big) = s_1\n",
    "    \\rightarrow&\n",
    "    \\begin{array}{c}\n",
    "    \\\\\n",
    "    z \\\\ \n",
    "    x_1 \\\\\n",
    "    x_2 \\\\\n",
    "    \\end{array}\n",
    "    \\begin{bmatrix}\n",
    "    \\begin{array}{c|cccc|c}\n",
    "      z & x_1 & x_2 & s_1 & s_2 & b \\\\ \\hline\n",
    "      1 & 0 & -3 & -3/2 & -1/2 & -7 \\\\ \\hline\n",
    "      0 & 1 & 0 & 1/2 & -1/2 & 1  \\\\\n",
    "      0 & 0 & 1 & 1/2 & 1/2 & 3 \\\\\n",
    "    \\end{array}\n",
    "    \\end{bmatrix}\n",
    "\\end{align}"
   ]
  },
  {
   "cell_type": "markdown",
   "metadata": {},
   "source": [
    "$\\therefore$ Since the reduced costs are all $\\leq 0$ for a **minimization** problem, our simplex method is complete, with basic variables $x_1 = 1, x_2 = 3, s_1 = 0, s_2 = 0$ and our **maximum** objective value is $7.0$."
   ]
  },
  {
   "cell_type": "markdown",
   "metadata": {},
   "source": [
    "### 3.5\n",
    "\n",
    "Consider the LP\n",
    "\n",
    "\\begin{align}\n",
    "    \\text{maximize } &x_1 + x_2 \\\\\n",
    "    \\text{subject to } \n",
    "    &x_1 + x_2 \\geq 2 \\\\\n",
    "    &−x_1 + x_2 \\leq 2 \\\\\n",
    "    &\\text{and } x_1, x_2 \\geq 0 \\\\\n",
    "\\end{align}"
   ]
  },
  {
   "cell_type": "markdown",
   "metadata": {},
   "source": [
    "**(a) Plot the feasible region.**"
   ]
  },
  {
   "cell_type": "code",
   "execution_count": 4,
   "metadata": {},
   "outputs": [
    {
     "data": {
      "image/png": "[encoded data removed]",
      "text/plain": [
       "<Figure size 1800x1200 with 1 Axes>"
      ]
     },
     "metadata": {
      "needs_background": "light"
     },
     "output_type": "display_data"
    },
    {
     "data": {
      "application/javascript": [
       "\n",
       "            setTimeout(function() {\n",
       "                var nbb_cell_id = 4;\n",
       "                var nbb_unformatted_code = \"# Construct lines\\nx_1 = np.linspace(0, 20, 2000)  # x_1 >= 0\\nx_2_1 = lambda x_1: -x_1 + 2  # constraint 1: \\ud835\\udc651 + \\ud835\\udc652 \\u2265 2\\nx_2_2 = lambda x_1: x_1 + 2  # constraint 2: \\u2212\\ud835\\udc651 + \\ud835\\udc652 \\u2264 2\\n\\n# Make plot\\nplt.plot(x_1, x_2_1(x_1), label=r\\\"$x_1 + x_2 \\\\geq 2$\\\")\\nplt.plot(x_1, x_2_2(x_1), label=r\\\"$-x_1 + x_2 \\\\leq 2$\\\")\\nplt.xlim((0, 10))\\nplt.ylim((0, 10))\\nplt.xlabel(r\\\"$x_1$\\\")\\nplt.ylabel(r\\\"$x_2$\\\")\\n\\n# Fill feasible region\\ny = x_2_2(x_1)\\nx = np.maximum(x_2_1(x_1), np.zeros(len(x_1)))\\nplt.fill_between(x_1, x, y, where=y > x, color=\\\"grey\\\", alpha=0.5)\\nplt.grid(True)\\nplt.legend(bbox_to_anchor=(1.05, 1), loc=2, borderaxespad=0.0)\\nplt.show()\";\n",
       "                var nbb_formatted_code = \"# Construct lines\\nx_1 = np.linspace(0, 20, 2000)  # x_1 >= 0\\nx_2_1 = lambda x_1: -x_1 + 2  # constraint 1: \\ud835\\udc651 + \\ud835\\udc652 \\u2265 2\\nx_2_2 = lambda x_1: x_1 + 2  # constraint 2: \\u2212\\ud835\\udc651 + \\ud835\\udc652 \\u2264 2\\n\\n# Make plot\\nplt.plot(x_1, x_2_1(x_1), label=r\\\"$x_1 + x_2 \\\\geq 2$\\\")\\nplt.plot(x_1, x_2_2(x_1), label=r\\\"$-x_1 + x_2 \\\\leq 2$\\\")\\nplt.xlim((0, 10))\\nplt.ylim((0, 10))\\nplt.xlabel(r\\\"$x_1$\\\")\\nplt.ylabel(r\\\"$x_2$\\\")\\n\\n# Fill feasible region\\ny = x_2_2(x_1)\\nx = np.maximum(x_2_1(x_1), np.zeros(len(x_1)))\\nplt.fill_between(x_1, x, y, where=y > x, color=\\\"grey\\\", alpha=0.5)\\nplt.grid(True)\\nplt.legend(bbox_to_anchor=(1.05, 1), loc=2, borderaxespad=0.0)\\nplt.show()\";\n",
       "                var nbb_cells = Jupyter.notebook.get_cells();\n",
       "                for (var i = 0; i < nbb_cells.length; ++i) {\n",
       "                    if (nbb_cells[i].input_prompt_number == nbb_cell_id) {\n",
       "                        if (nbb_cells[i].get_text() == nbb_unformatted_code) {\n",
       "                             nbb_cells[i].set_text(nbb_formatted_code);\n",
       "                        }\n",
       "                        break;\n",
       "                    }\n",
       "                }\n",
       "            }, 500);\n",
       "            "
      ],
      "text/plain": [
       "<IPython.core.display.Javascript object>"
      ]
     },
     "metadata": {},
     "output_type": "display_data"
    }
   ],
   "source": [
    "# Construct lines\n",
    "x_1 = np.linspace(0, 20, 2000)  # x_1 >= 0\n",
    "x_2_1 = lambda x_1: -x_1 + 2  # constraint 1: 𝑥1 + 𝑥2 ≥ 2\n",
    "x_2_2 = lambda x_1: x_1 + 2  # constraint 2: −𝑥1 + 𝑥2 ≤ 2\n",
    "\n",
    "# Make plot\n",
    "plt.plot(x_1, x_2_1(x_1), label=r\"$x_1 + x_2 \\geq 2$\")\n",
    "plt.plot(x_1, x_2_2(x_1), label=r\"$-x_1 + x_2 \\leq 2$\")\n",
    "plt.xlim((0, 10))\n",
    "plt.ylim((0, 10))\n",
    "plt.xlabel(r\"$x_1$\")\n",
    "plt.ylabel(r\"$x_2$\")\n",
    "\n",
    "# Fill feasible region\n",
    "y = x_2_2(x_1)\n",
    "x = np.maximum(x_2_1(x_1), np.zeros(len(x_1)))\n",
    "plt.fill_between(x_1, x, y, where=y > x, color=\"grey\", alpha=0.5)\n",
    "plt.grid(True)\n",
    "plt.legend(bbox_to_anchor=(1.05, 1), loc=2, borderaxespad=0.0)\n",
    "plt.show()"
   ]
  },
  {
   "cell_type": "markdown",
   "metadata": {},
   "source": [
    "**(b) Identify all the basic solutions and specify which are feasible and which are infeasible.**"
   ]
  },
  {
   "cell_type": "markdown",
   "metadata": {},
   "source": [
    "For a linear inequality system (including equalities) in $n$ variables, a feasible solution is basic if there are $n$ linearly independent active constraints at the given solution. \n",
    "\n",
    "Basic Solutions:\n",
    "- $(x_1=0, x_2=0)$, 2 active constraints, $x_1=0\\geq0$ & $x_2=0\\geq0$ [Infeasible]\n",
    "- $(x_1=2, x_2=0)$, 2 active constraints, $x_1 + x_2 =2+0=2\\geq 2$ & $x_2=0\\geq0$ [Feasible]"
   ]
  },
  {
   "cell_type": "markdown",
   "metadata": {},
   "source": [
    "**(c) Solve the LP by the Simplex Algorithm and show that the algorithm stops with the objective function being unbounded over the feasible region.**"
   ]
  },
  {
   "cell_type": "markdown",
   "metadata": {},
   "source": [
    "Standard Form:\n",
    "\n",
    "\\begin{align}\n",
    "    \\text{minimize } &-x_1 - x_2 \\\\\n",
    "    \\text{subject to } \n",
    "    &x_1 + x_2 - s_1 + y_1 = 2 \\\\\n",
    "    &−x_1 + x_2 + s_2 = 2 \\\\\n",
    "    &\\text{and } x_1, x_2, s_1, s_2, y_1 \\geq 0 \\\\\n",
    "\\end{align}"
   ]
  },
  {
   "cell_type": "markdown",
   "metadata": {},
   "source": [
    "From Phase I Tableau:\n",
    "\n",
    "\\begin{align}\n",
    "    &\\begin{array}{c}\n",
    "    \\\\\n",
    "    w \\\\\n",
    "    z \\\\ \n",
    "    y_1 \\\\\n",
    "    s_2 \\\\\n",
    "    \\end{array}\n",
    "    \\begin{bmatrix}\n",
    "    \\begin{array}{c|c|ccccc|c}\n",
    "      w & z & x_1 & x_2 & s_1 & s_2 & y_1 & b \\\\ \\hline\n",
    "      1 & 0 & 0 & 0 & 0 & 0 & -1 & 0 \\\\ \\hline\n",
    "      0 & 1 & 1 & 1 & 0 & 0 & 0 & 0 \\\\ \\hline\n",
    "      0 & 0 & 1 & 1 & -1 & 0 & 1 & 2  \\\\\n",
    "      0 & 0 & -1 & 1 & 0 & 1 & 0 & 2 \\\\\n",
    "    \\end{array}\n",
    "    \\end{bmatrix} \\\\\n",
    "\\end{align}"
   ]
  },
  {
   "cell_type": "markdown",
   "metadata": {},
   "source": [
    "\\begin{align}\n",
    "    \\text{Add 2nd last row to 1st row}\n",
    "    \\rightarrow&\n",
    "    \\begin{array}{c}\n",
    "    \\\\\n",
    "    w \\\\\n",
    "    z \\\\ \n",
    "    y_1 \\\\\n",
    "    s_2 \\\\\n",
    "    \\end{array}\n",
    "    \\begin{bmatrix}\n",
    "    \\begin{array}{c|c|ccccc|c}\n",
    "      w & z & x_1 & x_2 & s_1 & s_2 & y_1 & b \\\\ \\hline\n",
    "      1 & 0 & 1 & 1 & -1 & 0 & 0 & 2 \\\\ \\hline\n",
    "      0 & 1 & 1 & 1 & 0 & 0 & 0 & 0 \\\\ \\hline\n",
    "      0 & 0 & 1 & 1 & -1 & 0 & 1 & 2  \\\\\n",
    "      0 & 0 & -1 & 1 & 0 & 1 & 0 & 2 \\\\\n",
    "    \\end{array}\n",
    "    \\end{bmatrix} \\\\\n",
    "\\end{align}"
   ]
  },
  {
   "cell_type": "markdown",
   "metadata": {},
   "source": [
    "\\begin{align}\n",
    "    \\text{Entering Variable: }x_1\\,\\because \\text{Largest non-basic},\\,\\text{Leaving Variable: }y_1\\,\\because \\text{argmin}\\Big(\\frac{2}{1}\\Big) = y_1\n",
    "    \\rightarrow&\n",
    "    \\begin{array}{c}\n",
    "    \\\\\n",
    "    w \\\\\n",
    "    z \\\\ \n",
    "    x_1 \\\\\n",
    "    s_2 \\\\\n",
    "    \\end{array}\n",
    "    \\begin{bmatrix}\n",
    "    \\begin{array}{c|c|ccccc|c}\n",
    "      w & z & x_1 & x_2 & s_1 & s_2 & y_1 & b \\\\ \\hline\n",
    "      1 & 0 & 0 & 0 & 0 & 0 & -1 & 0 \\\\ \\hline\n",
    "      0 & 1 & 0 & 0 & 1 & 0 & -1 & -2 \\\\ \\hline\n",
    "      0 & 0 & 1 & 1 & -1 & 0 & 1 & 2  \\\\\n",
    "      0 & 0 & 0 & 2 & -1 & 1 & 1 & 4 \\\\\n",
    "    \\end{array}\n",
    "    \\end{bmatrix} \\\\\n",
    "\\end{align}"
   ]
  },
  {
   "cell_type": "markdown",
   "metadata": {},
   "source": [
    "This tableau reveals that w, the value of the artificial objective function, has been reduced to zero. Now, in the computation, the 1st row and the $y_1$ column can be ignored (or deleted from the tableau). We can also pick out the basic feasible solution $(x_1, x_2, s_1, s_2) = (2, 0, 0, 4)$ of the original system that has been found by the Phase I Procedure."
   ]
  },
  {
   "cell_type": "markdown",
   "metadata": {},
   "source": [
    "Phase II: Normal Simplex Method\n",
    "\n",
    "\\begin{align}\n",
    "    &\\begin{array}{c}\n",
    "    \\\\\n",
    "    z \\\\ \n",
    "    x_1 \\\\\n",
    "    s_2 \\\\\n",
    "    \\end{array}\n",
    "    \\begin{bmatrix}\n",
    "    \\begin{array}{c|cccc|c}\n",
    "      z & x_1 & x_2 & s_1 & s_2 & b \\\\ \\hline\n",
    "      1 & 0 & 0 & 1 & 0 & -2 \\\\ \\hline\n",
    "      0 & 1 & 1 & -1 & 0 & 2  \\\\\n",
    "      0 & 0 & 2 & -1 & 1 & 4 \\\\\n",
    "    \\end{array}\n",
    "    \\end{bmatrix} \\\\\n",
    "\\end{align}"
   ]
  },
  {
   "cell_type": "markdown",
   "metadata": {},
   "source": [
    "$\\therefore$ Since, we will choose the entering variable as $s_1$, but the column of $s_1$ has no positive entries, the linear program is unbounded."
   ]
  },
  {
   "cell_type": "markdown",
   "metadata": {},
   "source": [
    "**(d) Modify the first inequality constraint to be x1 + x2 ≤ 2 and show that there are infinite optimal solutions.**"
   ]
  },
  {
   "cell_type": "markdown",
   "metadata": {},
   "source": [
    "Standard Form:\n",
    "\n",
    "\\begin{align}\n",
    "    \\text{minimize } &-x_1 - x_2 \\\\\n",
    "    \\text{subject to } \n",
    "    &x_1 + x_2 + s_1 = 2 \\\\\n",
    "    &−x_1 + x_2 + s_2 = 2 \\\\\n",
    "    &\\text{and } x_1, x_2, s_1, s_2 \\geq 0 \\\\\n",
    "\\end{align}"
   ]
  },
  {
   "cell_type": "markdown",
   "metadata": {},
   "source": [
    "Canonical Tableau:\n",
    "\n",
    "\\begin{align}\n",
    "    &\\begin{array}{c}\n",
    "    \\\\\n",
    "    z \\\\ \n",
    "    s_1 \\\\\n",
    "    s_2 \\\\\n",
    "    \\end{array}\n",
    "    \\begin{bmatrix}\n",
    "    \\begin{array}{c|cccc|c}\n",
    "      z & x_1 & x_2 & s_1 & s_2 & b \\\\ \\hline\n",
    "      1 & 1 & 1 & 0 & 0 & 0 \\\\ \\hline\n",
    "      0 & 1 & 1 & 1 & 0 & 2  \\\\\n",
    "      0 & -1 & 1 & 0 & 1 & 2 \\\\\n",
    "    \\end{array}\n",
    "    \\end{bmatrix} \\\\\n",
    "\\end{align}"
   ]
  },
  {
   "cell_type": "markdown",
   "metadata": {},
   "source": [
    "\\begin{align}\n",
    "    \\text{Entering Variable: }x_1\\,\\because \\text{Largest non-basic},\\,\\text{Leaving Variable: }s_1\\,\\because \\text{argmin}\\Big(\\frac{2}{1}\\Big) = s_1\n",
    "    \\rightarrow&\n",
    "    \\begin{array}{c}\n",
    "    \\\\\n",
    "    z \\\\ \n",
    "    x_1 \\\\\n",
    "    s_2 \\\\\n",
    "    \\end{array}\n",
    "    \\begin{bmatrix}\n",
    "    \\begin{array}{c|ccccc|c}\n",
    "      z & x_1 & x_2 & s_1 & s_2 & b \\\\ \\hline\n",
    "      1 & 0 & 0 & -1 & 0 & -2 \\\\ \\hline\n",
    "      0 & 1 & 1 & 1 & 0 & 2  \\\\\n",
    "      0 & 0 & 2 & 1 & 1 & 4 \\\\\n",
    "    \\end{array}\n",
    "    \\end{bmatrix} \\\\\n",
    "\\end{align}"
   ]
  },
  {
   "cell_type": "markdown",
   "metadata": {},
   "source": [
    "$\\therefore$ Since the reduced costs are all $\\leq 0$ for a **minimization** problem, our simplex method is complete, with basic variables $x_1 = 2, s_2 = 4$ and non-basic variables $x_2=0, s_1=0$ and our **maximum** objective value is $2.0$."
   ]
  },
  {
   "cell_type": "code",
   "execution_count": 5,
   "metadata": {},
   "outputs": [
    {
     "name": "stdout",
     "output_type": "stream",
     "text": [
      "Linear Programming Solution\n",
      "==============================\n",
      "Status: optimal\n",
      "The optimal value is: -2.0\n",
      "The optimal solution is: x = [1.0, 1.0]\n"
     ]
    },
    {
     "data": {
      "application/javascript": [
       "\n",
       "            setTimeout(function() {\n",
       "                var nbb_cell_id = 5;\n",
       "                var nbb_unformatted_code = \"# Create one vector optimization variable.\\nx = cp.Variable((2,), integer=False)\\n\\n# Create constraints.\\nconstraints = [\\n    np.array([[1, 1], [-1, 1]]) @ x <= np.array([2, 2]),\\n    x >= 0,\\n]\\n\\n# Form objective.\\nobj = cp.Minimize(np.array([-1, -1]) @ x)\\n\\n# Form and solve problem.\\nprob = cp.Problem(obj, constraints)\\nprob.solve()\\n\\nprint(\\\"Linear Programming Solution\\\")\\nprint(\\\"=\\\" * 30)\\nprint(f\\\"Status: {prob.status}\\\")\\nprint(f\\\"The optimal value is: {np.round(prob.value, 2)}\\\")\\nprint(f\\\"The optimal solution is: x = {[np.round(x_i, 2) for x_i in x.value]}\\\")\";\n",
       "                var nbb_formatted_code = \"# Create one vector optimization variable.\\nx = cp.Variable((2,), integer=False)\\n\\n# Create constraints.\\nconstraints = [\\n    np.array([[1, 1], [-1, 1]]) @ x <= np.array([2, 2]),\\n    x >= 0,\\n]\\n\\n# Form objective.\\nobj = cp.Minimize(np.array([-1, -1]) @ x)\\n\\n# Form and solve problem.\\nprob = cp.Problem(obj, constraints)\\nprob.solve()\\n\\nprint(\\\"Linear Programming Solution\\\")\\nprint(\\\"=\\\" * 30)\\nprint(f\\\"Status: {prob.status}\\\")\\nprint(f\\\"The optimal value is: {np.round(prob.value, 2)}\\\")\\nprint(f\\\"The optimal solution is: x = {[np.round(x_i, 2) for x_i in x.value]}\\\")\";\n",
       "                var nbb_cells = Jupyter.notebook.get_cells();\n",
       "                for (var i = 0; i < nbb_cells.length; ++i) {\n",
       "                    if (nbb_cells[i].input_prompt_number == nbb_cell_id) {\n",
       "                        if (nbb_cells[i].get_text() == nbb_unformatted_code) {\n",
       "                             nbb_cells[i].set_text(nbb_formatted_code);\n",
       "                        }\n",
       "                        break;\n",
       "                    }\n",
       "                }\n",
       "            }, 500);\n",
       "            "
      ],
      "text/plain": [
       "<IPython.core.display.Javascript object>"
      ]
     },
     "metadata": {},
     "output_type": "display_data"
    }
   ],
   "source": [
    "# Create one vector optimization variable.\n",
    "x = cp.Variable((2,), integer=False)\n",
    "\n",
    "# Create constraints.\n",
    "constraints = [\n",
    "    np.array([[1, 1], [-1, 1]]) @ x <= np.array([2, 2]),\n",
    "    x >= 0,\n",
    "]\n",
    "\n",
    "# Form objective.\n",
    "obj = cp.Minimize(np.array([-1, -1]) @ x)\n",
    "\n",
    "# Form and solve problem.\n",
    "prob = cp.Problem(obj, constraints)\n",
    "prob.solve()\n",
    "\n",
    "print(\"Linear Programming Solution\")\n",
    "print(\"=\" * 30)\n",
    "print(f\"Status: {prob.status}\")\n",
    "print(f\"The optimal value is: {np.round(prob.value, 2)}\")\n",
    "print(f\"The optimal solution is: x = {[np.round(x_i, 2) for x_i in x.value]}\")"
   ]
  },
  {
   "cell_type": "markdown",
   "metadata": {},
   "source": [
    "---\n",
    "## Chapter 4"
   ]
  },
  {
   "cell_type": "markdown",
   "metadata": {},
   "source": [
    "### 4.1(a) \n",
    "\n",
    "Use Phase I and Phase II of the Simplex Algorithm to solve the linear program\n",
    "\n",
    "\\begin{align}\n",
    "    \\text{minimize } &3x_1 - 2x_2 - 3x_3 \\\\\n",
    "    \\text{subject to } \n",
    "    &x_1 + 2x_2 - 3x_3 = 4 \\\\\n",
    "    &2x_1 + 3x_2 + x_3 = 7 \\\\\n",
    "    &\\text{and } x_j \\geq 0, j = 1,2,3 \\\\\n",
    "\\end{align}\n",
    "\n",
    "Do the computations “by hand.”"
   ]
  },
  {
   "cell_type": "markdown",
   "metadata": {},
   "source": [
    "From Phase I Tableau:\n",
    "\n",
    "\\begin{align}\n",
    "    &\\begin{array}{c}\n",
    "    \\\\\n",
    "    w \\\\\n",
    "    z \\\\ \n",
    "    y_1 \\\\\n",
    "    y_2 \\\\\n",
    "    \\end{array}\n",
    "    \\begin{bmatrix}\n",
    "    \\begin{array}{c|c|ccccc|c}\n",
    "      w & z & x_1 & x_2 & x_3 & y_1 & y_2 & b \\\\ \\hline\n",
    "      1 & 0 & 0 & 0 & 0 & -1 & -1 & 0 \\\\ \\hline\n",
    "      0 & 1 & -3 & 2 & 3 & 0 & 0 & 0 \\\\ \\hline\n",
    "      0 & 0 & 1 & 2 & -3 & 1 & 0 & 4 \\\\\n",
    "      0 & 0 & 2 & 3 & 1 & 0 & 1 & 7 \\\\\n",
    "    \\end{array}\n",
    "    \\end{bmatrix} \\\\\n",
    "\\end{align}"
   ]
  },
  {
   "cell_type": "markdown",
   "metadata": {},
   "source": [
    "\\begin{align}\n",
    "    \\text{Add last 2 rows to 1st row}\n",
    "    \\rightarrow&\n",
    "    \\begin{array}{c}\n",
    "    \\\\\n",
    "    w \\\\\n",
    "    z \\\\ \n",
    "    y_1 \\\\\n",
    "    y_2 \\\\\n",
    "    \\end{array}\n",
    "    \\begin{bmatrix}\n",
    "    \\begin{array}{c|c|ccccc|c}\n",
    "      w & z & x_1 & x_2 & x_3 & y_1 & y_2 & b \\\\ \\hline\n",
    "      1 & 0 & 3 & 5 & -2 & 0 & 0 & 11 \\\\ \\hline\n",
    "      0 & 1 & -3 & 2 & 3 & 0 & 0 & 0 \\\\ \\hline\n",
    "      0 & 0 & 1 & 2 & -3 & 1 & 0 & 4 \\\\\n",
    "      0 & 0 & 2 & 3 & 1 & 0 & 1 & 7 \\\\\n",
    "    \\end{array}\n",
    "    \\end{bmatrix} \\\\\n",
    "\\end{align}"
   ]
  },
  {
   "cell_type": "markdown",
   "metadata": {},
   "source": [
    "\\begin{align}\n",
    "    \\text{Entering Variable: }x_2\\,\\because \\text{Largest non-basic},\\,\\text{Leaving Variable: }y_1\\,\\because \\text{argmin}\\Big(\\frac{4}{2}, \\frac{7}{3}\\Big) = y_1\n",
    "    \\rightarrow&\n",
    "    \\begin{array}{c}\n",
    "    \\\\\n",
    "    w \\\\\n",
    "    z \\\\ \n",
    "    x_2 \\\\\n",
    "    y_2 \\\\\n",
    "    \\end{array}\n",
    "    \\begin{bmatrix}\n",
    "    \\begin{array}{c|c|ccccc|c}\n",
    "      w & z & x_1 & x_2 & x_3 & y_1 & y_2 & b \\\\ \\hline\n",
    "      1 & 0 & 1/2 & 0 & 11/2 & -5/2 & 0 & 1 \\\\ \\hline\n",
    "      0 & 1 & -4 & 0 & 6 & -1 & 0 & -4 \\\\ \\hline\n",
    "      0 & 0 & 1/2 & 1 & -3/2 & 1/2 & 0 & 2 \\\\\n",
    "      0 & 0 & 1/2 & 0 & 11/2 & -3/2 & 1 & 1 \\\\\n",
    "    \\end{array}\n",
    "    \\end{bmatrix} \\\\\n",
    "\\end{align}"
   ]
  },
  {
   "cell_type": "markdown",
   "metadata": {},
   "source": [
    "\\begin{align}\n",
    "    \\text{Entering Variable: }x_3\\,\\because \\text{Largest non-basic},\\,\\text{Leaving Variable: }y_2\\,\\because \\text{argmin}\\Big(\\frac{1}{11/2}\\Big) = y_2\n",
    "    \\rightarrow&\n",
    "    \\begin{array}{c}\n",
    "    \\\\\n",
    "    w \\\\\n",
    "    z \\\\ \n",
    "    x_2 \\\\\n",
    "    x_3 \\\\\n",
    "    \\end{array}\n",
    "    \\begin{bmatrix}\n",
    "    \\begin{array}{c|c|ccccc|c}\n",
    "      w & z & x_1 & x_2 & x_3 & y_1 & y_2 & b \\\\ \\hline\n",
    "      1 & 0 & 0 & 0 & 0 & -1 & -1 & 0 \\\\ \\hline\n",
    "      0 & 1 & -50/11 & 0 & 0 & 7/11 & -12/11 & -56/11 \\\\ \\hline\n",
    "      0 & 0 & 7/11 & 1 & 0 & 1/11 & 3/11 & 25/11 \\\\\n",
    "      0 & 0 & 1/11 & 0 & 1 & -3/11 & 2/11 & 2/11 \\\\\n",
    "    \\end{array}\n",
    "    \\end{bmatrix} \\\\\n",
    "\\end{align}"
   ]
  },
  {
   "cell_type": "markdown",
   "metadata": {},
   "source": [
    "This tableau reveals that w, the value of the artificial objective function, has been reduced to zero. Now, in the computation, the 1st row and the $y_1, y_2$ columns can be ignored (or deleted from the tableau). We can also pick out the basic feasible solution $(x_1, x_2, x_3) = (0, \\frac{25}{11}, \\frac{2}{11})$ of the original system that has been found by the Phase I Procedure."
   ]
  },
  {
   "cell_type": "markdown",
   "metadata": {},
   "source": [
    "Phase II: Normal Simplex Tableau\n",
    "\n",
    "\\begin{align}\n",
    "    &\\begin{array}{c}\n",
    "    \\\\\n",
    "    z \\\\ \n",
    "    x_2 \\\\\n",
    "    x_3 \\\\\n",
    "    \\end{array}\n",
    "    \\begin{bmatrix}\n",
    "    \\begin{array}{c|ccc|c}\n",
    "      z & x_1 & x_2 & x_3 & b \\\\ \\hline\n",
    "      1 & -50/11 & 0 & 0 & -56/11 \\\\ \\hline\n",
    "      0 & 14/22 & 1 & 0 & 25/11 \\\\\n",
    "      0 & 1/11 & 0 & 1 & 2/11 \\\\\n",
    "    \\end{array}\n",
    "    \\end{bmatrix} \\\\\n",
    "\\end{align}"
   ]
  },
  {
   "cell_type": "markdown",
   "metadata": {},
   "source": [
    "$\\therefore$ Since the reduced costs are all $\\leq 0$ for a **minimization** problem, our simplex method is complete, with basic variables $x_2 = \\frac{25}{11}, x_3 = \\frac{2}{11}$, non-basic variables $x_1 = 0$ and our **minimum** objective value is $-\\frac{56}{11}$."
   ]
  },
  {
   "cell_type": "code",
   "execution_count": 6,
   "metadata": {},
   "outputs": [
    {
     "name": "stdout",
     "output_type": "stream",
     "text": [
      "Linear Programming Solution\n",
      "==============================\n",
      "Status: optimal\n",
      "The optimal value is: -5.09\n",
      "The optimal solution is: x = [0.0, 2.27, 0.18]\n"
     ]
    },
    {
     "data": {
      "application/javascript": [
       "\n",
       "            setTimeout(function() {\n",
       "                var nbb_cell_id = 6;\n",
       "                var nbb_unformatted_code = \"# Create one vector optimization variable.\\nx = cp.Variable((3,), integer=False)\\n\\n# Create constraints.\\nconstraints = [\\n    np.array([[1, 2, -3], [2, 3, 1]]) @ x == np.array([4, 7]),\\n    x >= 0,\\n]\\n\\n# Form objective.\\nobj = cp.Minimize(np.array([3, -2, -3]) @ x)\\n\\n# Form and solve problem.\\nprob = cp.Problem(obj, constraints)\\nprob.solve()\\n\\nprint(\\\"Linear Programming Solution\\\")\\nprint(\\\"=\\\" * 30)\\nprint(f\\\"Status: {prob.status}\\\")\\nprint(f\\\"The optimal value is: {np.round(prob.value, 2)}\\\")\\nprint(f\\\"The optimal solution is: x = {[np.round(x_i, 2) for x_i in x.value]}\\\")\";\n",
       "                var nbb_formatted_code = \"# Create one vector optimization variable.\\nx = cp.Variable((3,), integer=False)\\n\\n# Create constraints.\\nconstraints = [\\n    np.array([[1, 2, -3], [2, 3, 1]]) @ x == np.array([4, 7]),\\n    x >= 0,\\n]\\n\\n# Form objective.\\nobj = cp.Minimize(np.array([3, -2, -3]) @ x)\\n\\n# Form and solve problem.\\nprob = cp.Problem(obj, constraints)\\nprob.solve()\\n\\nprint(\\\"Linear Programming Solution\\\")\\nprint(\\\"=\\\" * 30)\\nprint(f\\\"Status: {prob.status}\\\")\\nprint(f\\\"The optimal value is: {np.round(prob.value, 2)}\\\")\\nprint(f\\\"The optimal solution is: x = {[np.round(x_i, 2) for x_i in x.value]}\\\")\";\n",
       "                var nbb_cells = Jupyter.notebook.get_cells();\n",
       "                for (var i = 0; i < nbb_cells.length; ++i) {\n",
       "                    if (nbb_cells[i].input_prompt_number == nbb_cell_id) {\n",
       "                        if (nbb_cells[i].get_text() == nbb_unformatted_code) {\n",
       "                             nbb_cells[i].set_text(nbb_formatted_code);\n",
       "                        }\n",
       "                        break;\n",
       "                    }\n",
       "                }\n",
       "            }, 500);\n",
       "            "
      ],
      "text/plain": [
       "<IPython.core.display.Javascript object>"
      ]
     },
     "metadata": {},
     "output_type": "display_data"
    }
   ],
   "source": [
    "# Create one vector optimization variable.\n",
    "x = cp.Variable((3,), integer=False)\n",
    "\n",
    "# Create constraints.\n",
    "constraints = [\n",
    "    np.array([[1, 2, -3], [2, 3, 1]]) @ x == np.array([4, 7]),\n",
    "    x >= 0,\n",
    "]\n",
    "\n",
    "# Form objective.\n",
    "obj = cp.Minimize(np.array([3, -2, -3]) @ x)\n",
    "\n",
    "# Form and solve problem.\n",
    "prob = cp.Problem(obj, constraints)\n",
    "prob.solve()\n",
    "\n",
    "print(\"Linear Programming Solution\")\n",
    "print(\"=\" * 30)\n",
    "print(f\"Status: {prob.status}\")\n",
    "print(f\"The optimal value is: {np.round(prob.value, 2)}\")\n",
    "print(f\"The optimal solution is: x = {[np.round(x_i, 2) for x_i in x.value]}\")"
   ]
  },
  {
   "cell_type": "markdown",
   "metadata": {},
   "source": [
    "### 4.11\n",
    "\n",
    "Solve the following linear program by the Simplex Method\n",
    "\n",
    "\\begin{align}\n",
    "    \\text{minimize } &-4x_1 - 8x_2 + 2x_3 + 4x_4 \\\\\n",
    "    \\text{subject to } \n",
    "    &2x_1 + x_2 + x_3 - 2x_4 \\leq 12 \\\\\n",
    "    &2x_2 - 2x_3 + x_4 \\leq 8 \\\\\n",
    "    &4x_1 + x_2 + 2x_3 + 3x_4 \\leq 10 \\\\\n",
    "    &\\text{and } x_j \\geq 0, j = 1,2,3,4 \\\\\n",
    "\\end{align}"
   ]
  },
  {
   "cell_type": "markdown",
   "metadata": {},
   "source": [
    "Standard Form:\n",
    "\n",
    "\\begin{align}\n",
    "    \\text{minimize } &-4x_1 - 8x_2 + 2x_3 + 4x_4 \\\\\n",
    "    \\text{subject to } \n",
    "    &2x_1 + x_2 + x_3 - 2x_4 + s_1 = 12 \\\\\n",
    "    &2x_2 - 2x_3 + x_4 + s_2 = 8 \\\\\n",
    "    &4x_1 + x_2 + 2x_3 + 3x_4 + s_3 = 10 \\\\\n",
    "    &\\text{and } x_j \\geq 0, j = 1,2,3,4, s_i \\geq 0, i = 1,2,3 \\\\\n",
    "\\end{align}"
   ]
  },
  {
   "cell_type": "markdown",
   "metadata": {},
   "source": [
    "From the Canonical Tableau:\n",
    "\n",
    "\\begin{align}\n",
    "    &\\begin{array}{c}\n",
    "    \\\\\n",
    "    z \\\\ \n",
    "    s_1 \\\\\n",
    "    s_2 \\\\\n",
    "    s_3 \\\\\n",
    "    \\end{array}\n",
    "    \\begin{bmatrix}\n",
    "    \\begin{array}{c|ccccccc|c}\n",
    "      z & x_1 & x_2 & x_3 & x_4 & s_1 & s_2 & s_3 & b \\\\ \\hline\n",
    "      1 & 4 & 8 & -2 & 4 & 0 & 0 & 0 & 0 \\\\ \\hline\n",
    "      0 & 2 & 1 & 1 & -2 & 1 & 0 & 0 & 12 \\\\\n",
    "      0 & 0 & 2 & -2 & 1 & 0 & 1 & 0 & 8 \\\\\n",
    "      0 & 4 & 1 & 2 & 3 & 0 & 0 & 1 & 10 \\\\\n",
    "    \\end{array}\n",
    "    \\end{bmatrix} \\\\\n",
    "\\end{align}"
   ]
  },
  {
   "cell_type": "markdown",
   "metadata": {},
   "source": [
    "\\begin{align}\n",
    "    \\text{Entering Variable: }x_2\\,\\because \\text{Largest non-basic},\\,\\text{Leaving Variable: }s_2\\,\\because \\text{argmin}\\Big(\\frac{12}{1}, \\frac{8}{2}, \\frac{10}{1}\\Big) = s_2\n",
    "    \\rightarrow&\n",
    "    \\begin{array}{c}\n",
    "    \\\\\n",
    "    z \\\\ \n",
    "    s_1 \\\\\n",
    "    x_2 \\\\\n",
    "    s_3 \\\\\n",
    "    \\end{array}\n",
    "    \\begin{bmatrix}\n",
    "    \\begin{array}{c|ccccccc|c}\n",
    "      z & x_1 & x_2 & x_3 & x_4 & s_1 & s_2 & s_3 & b \\\\ \\hline\n",
    "      1 & 4 & 0 & 6 & 0 & 0 & -4 & 0 & -32 \\\\ \\hline\n",
    "      0 & 2 & 0 & 2 & -2.5 & 1 & -1/2 & 0 & 8 \\\\\n",
    "      0 & 0 & 1 & -1 & 1/2 & 0 & 1/2 & 0 & 4 \\\\\n",
    "      0 & 4 & 0 & 3 & 2.5 & 0 & -1/2 & 1 & 6 \\\\\n",
    "    \\end{array}\n",
    "    \\end{bmatrix}\n",
    "\\end{align}"
   ]
  },
  {
   "cell_type": "markdown",
   "metadata": {},
   "source": [
    "\\begin{align}\n",
    "    \\text{Entering Variable: }x_3\\,\\because \\text{Largest non-basic},\\,\\text{Leaving Variable: }s_3\\,\\because \\text{argmin}\\Big(\\frac{8}{2}, \\frac{6}{3}\\Big) = s_3\n",
    "    \\rightarrow&\n",
    "    \\begin{array}{c}\n",
    "    \\\\\n",
    "    z \\\\ \n",
    "    s_1 \\\\\n",
    "    x_2 \\\\\n",
    "    x_3 \\\\\n",
    "    \\end{array}\n",
    "    \\begin{bmatrix}\n",
    "    \\begin{array}{c|ccccccc|c}\n",
    "      z & x_1 & x_2 & x_3 & x_4 & s_1 & s_2 & s_3 & b \\\\ \\hline\n",
    "      1 & -4 & 0 & 0 & -5 & 0 & -3 & -2 & -44 \\\\ \\hline\n",
    "      0 & -2/3 & 0 & 0 & -25/6 & 1 & -1/6 & -2/3 & 4 \\\\\n",
    "      0 & 4/3 & 1 & 0 & 4/3 & 0 & 1/3 & 1/3 & 6 \\\\\n",
    "      0 & 4/3 & 0 & 1 & 5/6 & 0 & -1/6 & 1/3 & 2 \\\\\n",
    "    \\end{array}\n",
    "    \\end{bmatrix}\n",
    "\\end{align}"
   ]
  },
  {
   "cell_type": "markdown",
   "metadata": {},
   "source": [
    "$\\therefore$ Since the reduced costs are all $\\leq 0$ for a **minimization** problem, our simplex method is complete, with basic variables $x_2 = 6, x_3 = 2, s_1 = 4$, non-basic variables $x_1 = 0, x_4 = 0, s_2 = 0, s_3 = 0$ and our **minimum** objective value is $-44.0$."
   ]
  },
  {
   "cell_type": "code",
   "execution_count": 7,
   "metadata": {},
   "outputs": [
    {
     "name": "stdout",
     "output_type": "stream",
     "text": [
      "Linear Programming Solution\n",
      "==============================\n",
      "Status: optimal\n",
      "The optimal value is: -44.0\n",
      "The optimal solution is: x = [-0.0, 6.0, 2.0, -0.0]\n"
     ]
    },
    {
     "data": {
      "application/javascript": [
       "\n",
       "            setTimeout(function() {\n",
       "                var nbb_cell_id = 7;\n",
       "                var nbb_unformatted_code = \"# Create one vector optimization variable.\\nx = cp.Variable((4,), integer=False)\\n\\n# Create constraints.\\nconstraints = [\\n    np.array([[2, 1, 1, -2], [0, 2, -2, 1], [4, 1, 2, 3]]) @ x <= np.array([12, 8, 10]),\\n    x >= 0,\\n]\\n\\n# Form objective.\\nobj = cp.Minimize(np.array([-4, -8, 2, 4]) @ x)\\n\\n# Form and solve problem.\\nprob = cp.Problem(obj, constraints)\\nprob.solve()\\n\\nprint(\\\"Linear Programming Solution\\\")\\nprint(\\\"=\\\" * 30)\\nprint(f\\\"Status: {prob.status}\\\")\\nprint(f\\\"The optimal value is: {np.round(prob.value, 2)}\\\")\\nprint(f\\\"The optimal solution is: x = {[np.round(x_i, 2) for x_i in x.value]}\\\")\";\n",
       "                var nbb_formatted_code = \"# Create one vector optimization variable.\\nx = cp.Variable((4,), integer=False)\\n\\n# Create constraints.\\nconstraints = [\\n    np.array([[2, 1, 1, -2], [0, 2, -2, 1], [4, 1, 2, 3]]) @ x <= np.array([12, 8, 10]),\\n    x >= 0,\\n]\\n\\n# Form objective.\\nobj = cp.Minimize(np.array([-4, -8, 2, 4]) @ x)\\n\\n# Form and solve problem.\\nprob = cp.Problem(obj, constraints)\\nprob.solve()\\n\\nprint(\\\"Linear Programming Solution\\\")\\nprint(\\\"=\\\" * 30)\\nprint(f\\\"Status: {prob.status}\\\")\\nprint(f\\\"The optimal value is: {np.round(prob.value, 2)}\\\")\\nprint(f\\\"The optimal solution is: x = {[np.round(x_i, 2) for x_i in x.value]}\\\")\";\n",
       "                var nbb_cells = Jupyter.notebook.get_cells();\n",
       "                for (var i = 0; i < nbb_cells.length; ++i) {\n",
       "                    if (nbb_cells[i].input_prompt_number == nbb_cell_id) {\n",
       "                        if (nbb_cells[i].get_text() == nbb_unformatted_code) {\n",
       "                             nbb_cells[i].set_text(nbb_formatted_code);\n",
       "                        }\n",
       "                        break;\n",
       "                    }\n",
       "                }\n",
       "            }, 500);\n",
       "            "
      ],
      "text/plain": [
       "<IPython.core.display.Javascript object>"
      ]
     },
     "metadata": {},
     "output_type": "display_data"
    }
   ],
   "source": [
    "# Create one vector optimization variable.\n",
    "x = cp.Variable((4,), integer=False)\n",
    "\n",
    "# Create constraints.\n",
    "constraints = [\n",
    "    np.array([[2, 1, 1, -2], [0, 2, -2, 1], [4, 1, 2, 3]]) @ x <= np.array([12, 8, 10]),\n",
    "    x >= 0,\n",
    "]\n",
    "\n",
    "# Form objective.\n",
    "obj = cp.Minimize(np.array([-4, -8, 2, 4]) @ x)\n",
    "\n",
    "# Form and solve problem.\n",
    "prob = cp.Problem(obj, constraints)\n",
    "prob.solve()\n",
    "\n",
    "print(\"Linear Programming Solution\")\n",
    "print(\"=\" * 30)\n",
    "print(f\"Status: {prob.status}\")\n",
    "print(f\"The optimal value is: {np.round(prob.value, 2)}\")\n",
    "print(f\"The optimal solution is: x = {[np.round(x_i, 2) for x_i in x.value]}\")"
   ]
  },
  {
   "cell_type": "markdown",
   "metadata": {},
   "source": [
    "### 4.12\n",
    "\n",
    "Solve the following linear program by the Simplex Method\n",
    "\n",
    "\\begin{align}\n",
    "    \\text{minimize } &x_1 + 4x_2 + 6x_3 \\\\\n",
    "    \\text{subject to } \n",
    "    &−2x_1 +4x_2 + x_3 \\geq 8 \\\\\n",
    "    &x_1 +4x_2 +2x_3 \\geq 12 \\\\\n",
    "    &2x_1 + 2x_3 \\geq 16 \\\\\n",
    "    &\\text{and } x_j \\geq 0, j = 1,2,3 \\\\\n",
    "\\end{align}"
   ]
  },
  {
   "cell_type": "markdown",
   "metadata": {},
   "source": [
    "Standard Form with Slack and Artificial Variables:\n",
    "\n",
    "\\begin{align}\n",
    "    \\text{minimize } &x_1 + 4x_2 + 6x_3 \\\\\n",
    "    \\text{subject to } \n",
    "    &−2x_1 +4x_2 + x_3 - s_1 + y_1 = 8 \\\\\n",
    "    &x_1 +4x_2 +2x_3 - s_2 + y_2 = 12 \\\\\n",
    "    &2x_1 + 2x_3 - s_3 + y_3 = 16 \\\\\n",
    "    &\\text{and } x_j \\geq 0, j = 1,2,3, s_i \\geq 0, i = 1,2,3, y_k \\geq 0, k = 1,2,3 \\\\\n",
    "\\end{align}"
   ]
  },
  {
   "cell_type": "markdown",
   "metadata": {},
   "source": [
    "From the Phase I Tableau:\n",
    "\n",
    "\\begin{align}\n",
    "    &\\begin{array}{c}\n",
    "    \\\\\n",
    "    w \\\\\n",
    "    z \\\\ \n",
    "    y_1 \\\\\n",
    "    y_2 \\\\\n",
    "    y_3 \\\\\n",
    "    \\end{array}\n",
    "    \\begin{bmatrix}\n",
    "    \\begin{array}{c|c|ccccccccc|c}\n",
    "      w & z & x_1 & x_2 & x_3 & s_1 & s_2 & s_3 & y_1 & y_2 & y_3 & b \\\\ \\hline\n",
    "      1 & 0 & 0 & 0 & 0 & 0 & 0 & 0 & -1 & -1 & -1 & 0 \\\\ \\hline\n",
    "      0 & 1 & -1 & -4 & -6 & 0 & 0 & 0 & 0 & 0 & 0 & 0 \\\\ \\hline\n",
    "      0 & 0 & -2 & 4 & 1 & -1 & 0 & 0 & 1 & 0 & 0 & 8 \\\\\n",
    "      0 & 0 & 1 & 4 & 2 & 0 & -1 & 0 & 0 & 1 & 0 & 12 \\\\\n",
    "      0 & 0 & 2 & 0 & 2 & 0 & 0 & -1 & 0 & 0 & 1 & 16 \\\\\n",
    "    \\end{array}\n",
    "    \\end{bmatrix} \\\\\n",
    "\\end{align}"
   ]
  },
  {
   "cell_type": "markdown",
   "metadata": {},
   "source": [
    "\\begin{align}\n",
    "    \\text{Add last 3 rows to 1st row}\n",
    "    \\rightarrow&\n",
    "    \\begin{array}{c}\n",
    "    \\\\\n",
    "    w \\\\\n",
    "    z \\\\ \n",
    "    y_1 \\\\\n",
    "    y_2 \\\\\n",
    "    y_3 \\\\\n",
    "    \\end{array}\n",
    "    \\begin{bmatrix}\n",
    "    \\begin{array}{c|c|ccccccccc|c}\n",
    "      w & z & x_1 & x_2 & x_3 & s_1 & s_2 & s_3 & y_1 & y_2 & y_3 & b \\\\ \\hline\n",
    "      1 & 0 & 1 & 8 & 5 & -1 & -1 & -1 & 0 & 0 & 0 & 36 \\\\ \\hline\n",
    "      0 & 1 & -1 & -4 & -6 & 0 & 0 & 0 & 0 & 0 & 0 & 0 \\\\ \\hline\n",
    "      0 & 0 & -2 & 4 & 1 & -1 & 0 & 0 & 1 & 0 & 0 & 8 \\\\\n",
    "      0 & 0 & 1 & 4 & 2 & 0 & -1 & 0 & 0 & 1 & 0 & 12 \\\\\n",
    "      0 & 0 & 2 & 0 & 2 & 0 & 0 & -1 & 0 & 0 & 1 & 16 \\\\\n",
    "    \\end{array}\n",
    "    \\end{bmatrix} \\\\\n",
    "\\end{align}"
   ]
  },
  {
   "cell_type": "markdown",
   "metadata": {},
   "source": [
    "\\begin{align}\n",
    "    \\text{Entering Variable: }x_2\\,\\because \\text{Largest non-basic},\\,\\text{Leaving Variable: }y_1\\,\\because \\text{argmin}\\Big(\\frac{8}{4}, \\frac{12}{4}\\Big) = y_1\n",
    "    \\rightarrow&\n",
    "    \\begin{array}{c}\n",
    "    \\\\\n",
    "    w \\\\\n",
    "    z \\\\ \n",
    "    x_2 \\\\\n",
    "    y_2 \\\\\n",
    "    y_3 \\\\\n",
    "    \\end{array}\n",
    "    \\begin{bmatrix}\n",
    "    \\begin{array}{c|c|ccccccccc|c}\n",
    "      w & z & x_1 & x_2 & x_3 & s_1 & s_2 & s_3 & y_1 & y_2 & y_3 & b \\\\ \\hline\n",
    "      1 & 0 & 5 & 0 & 3 & 1 & -1 & -1 & -2 & 0 & 0 & 20 \\\\ \\hline\n",
    "      0 & 1 & -3 & 0 & -5 & -1 & 0 & 0 & 1 & 0 & 0 & 8 \\\\ \\hline\n",
    "      0 & 0 & -1/2 & 1 & 1/4 & -1/4 & 0 & 0 & 1/4 & 0 & 0 & 2 \\\\\n",
    "      0 & 0 & 3 & 0 & 1 & 1 & -1 & 0 & -1 & 1 & 0 & 4 \\\\\n",
    "      0 & 0 & 2 & 0 & 2 & 0 & 0 & -1 & 0 & 0 & 1 & 16 \\\\\n",
    "    \\end{array}\n",
    "    \\end{bmatrix} \\\\\n",
    "\\end{align}"
   ]
  },
  {
   "cell_type": "markdown",
   "metadata": {},
   "source": [
    "\\begin{align}\n",
    "    \\text{Entering Variable: }x_1\\,\\because \\text{Largest non-basic},\\,\\text{Leaving Variable: }y_2\\,\\because \\text{argmin}\\Big(\\frac{4}{3}, \\frac{16}{2}\\Big) = y_2\n",
    "    \\rightarrow&\n",
    "    \\begin{array}{c}\n",
    "    \\\\\n",
    "    w \\\\\n",
    "    z \\\\ \n",
    "    x_2 \\\\\n",
    "    x_1 \\\\\n",
    "    y_3 \\\\\n",
    "    \\end{array}\n",
    "    \\begin{bmatrix}\n",
    "    \\begin{array}{c|c|ccccccccc|c}\n",
    "      w & z & x_1 & x_2 & x_3 & s_1 & s_2 & s_3 & y_1 & y_2 & y_3 & b \\\\ \\hline\n",
    "      1 & 0 & 0 & 0 & 4/3 & -2/3 & 2/3 & -1 & -1/3 & -5/3 & 0 & 40/3 \\\\ \\hline\n",
    "      0 & 1 & 0 & 0 & -4 & 0 & -1 & 0 & 0 & 1 & 0 & 12 \\\\ \\hline\n",
    "      0 & 0 & 0 & 1 & 5/12 & -1/12 & -1/6 & 0 & 1/12 & 1/6 & 0 & 8/3 \\\\\n",
    "      0 & 0 & 1 & 0 & 1/3 & 1/3 & -1/3 & 0 & -1/3 & 1/3 & 0 & 4/3 \\\\\n",
    "      0 & 0 & 0 & 0 & 4/3 & -2/3 & 2/3 & -1 & 2/3 & -2/3 & 1 & 40/3 \\\\\n",
    "    \\end{array}\n",
    "    \\end{bmatrix} \\\\\n",
    "\\end{align}"
   ]
  },
  {
   "cell_type": "markdown",
   "metadata": {},
   "source": [
    "\\begin{align}\n",
    "    \\text{Entering Variable: }x_3\\,\\because \\text{Largest non-basic},\\,\\text{Leaving Variable: }x_1\\,\\because \\text{argmin}\\Big(\\frac{8/3}{5/12}, \\frac{4/3}{1/3}, \\frac{40/3}{4/3}\\Big) = x_1\n",
    "    \\rightarrow&\n",
    "    \\begin{array}{c}\n",
    "    \\\\\n",
    "    w \\\\\n",
    "    z \\\\ \n",
    "    x_2 \\\\\n",
    "    x_3 \\\\\n",
    "    y_3 \\\\\n",
    "    \\end{array}\n",
    "    \\begin{bmatrix}\n",
    "    \\begin{array}{c|c|ccccccccc|c}\n",
    "      w & z & x_1 & x_2 & x_3 & s_1 & s_2 & s_3 & y_1 & y_2 & y_3 & b \\\\ \\hline\n",
    "      1 & 0 & -4 & 0 & 0 & -2 & 2 & -1 & 1 & -3 & 0 & 8 \\\\ \\hline\n",
    "      0 & 1 & 12 & 0 & 0 & 4 & -5 & 0 & -4 & 5 & 0 & 28 \\\\ \\hline\n",
    "      0 & 0 & -5/4 & 1 & 0 & -1/2 & 1/4 & 0 & 1/2 & -1/4 & 0 & 1 \\\\\n",
    "      0 & 0 & 3  & 0 & 1 & 1 & -1 & 0 & -1 & 1 & 0 & 4 \\\\\n",
    "      0 & 0 & -4 & 0 & 0 & -2 & 2 & -1 & 2 & -2 & 1 & 8 \\\\\n",
    "    \\end{array}\n",
    "    \\end{bmatrix} \\\\\n",
    "\\end{align}"
   ]
  },
  {
   "cell_type": "markdown",
   "metadata": {},
   "source": [
    "\\begin{align}\n",
    "    \\text{Entering Variable: }s_2\\,\\because \\text{Largest non-basic},\\,\\text{Leaving Variable: }y_3\\,\\because \\text{argmin}\\Big(\\frac{1}{1/4}, \\frac{8}{2}\\Big) = y_3\n",
    "    \\rightarrow&\n",
    "    \\begin{array}{c}\n",
    "    \\\\\n",
    "    w \\\\\n",
    "    z \\\\ \n",
    "    x_2 \\\\\n",
    "    x_3 \\\\\n",
    "    s_2 \\\\\n",
    "    \\end{array}\n",
    "    \\begin{bmatrix}\n",
    "    \\begin{array}{c|c|ccccccccc|c}\n",
    "      w & z & x_1 & x_2 & x_3 & s_1 & s_2 & s_3 & y_1 & y_2 & y_3 & b \\\\ \\hline\n",
    "      1 & 0 & 0 & 0 & 0 & 0 & 0 & 0 & -1 & -1 & -1 & 0 \\\\ \\hline\n",
    "      0 & 1 & 2 & 0 & 0 & -1 & 0 & -1/2 & 1 & 0 & 5/2 & 48 \\\\ \\hline\n",
    "      0 & 0 & -3/4 & 1 & 0 & -1/4 & 0 & 1/8 & 1/4 & 0 & -1/8 & 0 \\\\\n",
    "      0 & 0 & 1 & 0 & 1 & 0 & 0 & -1/2 & 0 & 0 & 1/2 & 8 \\\\\n",
    "      0 & 0 & -2 & 0 & 0 & -1 & 1 & -1/2 & 1 & -1 & 1/2 & 4 \\\\\n",
    "    \\end{array}\n",
    "    \\end{bmatrix} \\\\\n",
    "\\end{align}"
   ]
  },
  {
   "cell_type": "markdown",
   "metadata": {},
   "source": [
    "This tableau reveals that w, the value of the artificial objective function, has been reduced to zero. Now, in the computation, the 1st row and the $y_1, y_2, y_3$ columns can be ignored (or deleted from the tableau). We can also pick out the basic feasible solution $(x_1, x_2, x_3, s_1, s_2, s_3) = (0, 0, 8, 0, 4, 0)$ of the original system that has been found by the Phase I Procedure."
   ]
  },
  {
   "cell_type": "markdown",
   "metadata": {},
   "source": [
    "Phase II: Normal Simplex Tableau\n",
    "\n",
    "\\begin{align}\n",
    "    \\begin{array}{c}\n",
    "    \\\\\n",
    "    z \\\\ \n",
    "    x_2 \\\\\n",
    "    x_3 \\\\\n",
    "    s_2 \\\\\n",
    "    \\end{array}\n",
    "    \\begin{bmatrix}\n",
    "    \\begin{array}{c|cccccc|c}\n",
    "      z & x_1 & x_2 & x_3 & s_1 & s_2 & s_3 & b \\\\ \\hline\n",
    "      1 & 2 & 0 & 0 & -1 & 0 & -1/2 & 48 \\\\ \\hline\n",
    "      0 & -3/4 & 1 & 0 & -1/4 & 0 & 1/8 & 0 \\\\\n",
    "      0 & 1 & 0 & 1 & 0 & 0 & -1/2 & 8 \\\\\n",
    "      0 & -2 & 0 & 0 & -1 & 1 & -1/2 & 4 \\\\\n",
    "    \\end{array}\n",
    "    \\end{bmatrix} \\\\\n",
    "\\end{align}"
   ]
  },
  {
   "cell_type": "markdown",
   "metadata": {},
   "source": [
    "\\begin{align}\n",
    "    \\text{Entering Variable: }x_1\\,\\because \\text{Largest non-basic},\\,\\text{Leaving Variable: }x_3\\,\\because \\text{argmin}\\Big(\\frac{8}{1}\\Big) = x_3\n",
    "    \\rightarrow&\n",
    "    \\begin{array}{c}\n",
    "    \\\\\n",
    "    z \\\\ \n",
    "    x_2 \\\\\n",
    "    x_1 \\\\\n",
    "    s_2 \\\\\n",
    "    \\end{array}\n",
    "    \\begin{bmatrix}\n",
    "    \\begin{array}{c|cccccc|c}\n",
    "      z & x_1 & x_2 & x_3 & s_1 & s_2 & s_3 & b \\\\ \\hline\n",
    "      1 & 0 & 0 & -2 & -1 & 0 & 1/2 & 32 \\\\ \\hline\n",
    "      0 & 0 & 1 & 3/4 & -1/4 & 0 & -1/4 & 6 \\\\\n",
    "      0 & 1 & 0 & 1 & 0 & 0 & -1/2 & 8 \\\\\n",
    "      0 & 0 & 0 & 2 & -1 & 1 & -3/2 & 20 \\\\\n",
    "    \\end{array}\n",
    "    \\end{bmatrix} \\\\\n",
    "\\end{align}"
   ]
  },
  {
   "cell_type": "markdown",
   "metadata": {},
   "source": [
    "$\\therefore$ Since the reduced costs are all $\\leq 0$ for a **minimization** problem, our simplex method is complete, with basic variables $x_2 = 6, x_1 = 8, s_2 = 20$, non-basic variables $x_3 = 0, s_1 = 0, s_3 = 0$ and our **minimum** objective value is $32.0$."
   ]
  },
  {
   "cell_type": "code",
   "execution_count": 8,
   "metadata": {},
   "outputs": [
    {
     "name": "stdout",
     "output_type": "stream",
     "text": [
      "Linear Programming Solution\n",
      "==============================\n",
      "Status: optimal\n",
      "The optimal value is: 32.0\n",
      "The optimal solution is: x = [8.0, 6.0, 0.0]\n"
     ]
    },
    {
     "data": {
      "application/javascript": [
       "\n",
       "            setTimeout(function() {\n",
       "                var nbb_cell_id = 8;\n",
       "                var nbb_unformatted_code = \"# Create one vector optimization variable.\\nx = cp.Variable((3,), integer=False)\\n\\n# Create constraints.\\nconstraints = [\\n    np.array([[2, -4, -1], [-1, -4, -2], [-2, 0, -2]]) @ x <= np.array([-8, -12, -16]),\\n    x >= 0,\\n]\\n\\n# Form objective.\\nobj = cp.Minimize(np.array([1, 4, 6]) @ x)\\n\\n# Form and solve problem.\\nprob = cp.Problem(obj, constraints)\\nprob.solve()\\n\\nprint(\\\"Linear Programming Solution\\\")\\nprint(\\\"=\\\" * 30)\\nprint(f\\\"Status: {prob.status}\\\")\\nprint(f\\\"The optimal value is: {np.round(prob.value, 2)}\\\")\\nprint(f\\\"The optimal solution is: x = {[np.round(x_i, 2) for x_i in x.value]}\\\")\";\n",
       "                var nbb_formatted_code = \"# Create one vector optimization variable.\\nx = cp.Variable((3,), integer=False)\\n\\n# Create constraints.\\nconstraints = [\\n    np.array([[2, -4, -1], [-1, -4, -2], [-2, 0, -2]]) @ x <= np.array([-8, -12, -16]),\\n    x >= 0,\\n]\\n\\n# Form objective.\\nobj = cp.Minimize(np.array([1, 4, 6]) @ x)\\n\\n# Form and solve problem.\\nprob = cp.Problem(obj, constraints)\\nprob.solve()\\n\\nprint(\\\"Linear Programming Solution\\\")\\nprint(\\\"=\\\" * 30)\\nprint(f\\\"Status: {prob.status}\\\")\\nprint(f\\\"The optimal value is: {np.round(prob.value, 2)}\\\")\\nprint(f\\\"The optimal solution is: x = {[np.round(x_i, 2) for x_i in x.value]}\\\")\";\n",
       "                var nbb_cells = Jupyter.notebook.get_cells();\n",
       "                for (var i = 0; i < nbb_cells.length; ++i) {\n",
       "                    if (nbb_cells[i].input_prompt_number == nbb_cell_id) {\n",
       "                        if (nbb_cells[i].get_text() == nbb_unformatted_code) {\n",
       "                             nbb_cells[i].set_text(nbb_formatted_code);\n",
       "                        }\n",
       "                        break;\n",
       "                    }\n",
       "                }\n",
       "            }, 500);\n",
       "            "
      ],
      "text/plain": [
       "<IPython.core.display.Javascript object>"
      ]
     },
     "metadata": {},
     "output_type": "display_data"
    }
   ],
   "source": [
    "# Create one vector optimization variable.\n",
    "x = cp.Variable((3,), integer=False)\n",
    "\n",
    "# Create constraints.\n",
    "constraints = [\n",
    "    np.array([[2, -4, -1], [-1, -4, -2], [-2, 0, -2]]) @ x <= np.array([-8, -12, -16]),\n",
    "    x >= 0,\n",
    "]\n",
    "\n",
    "# Form objective.\n",
    "obj = cp.Minimize(np.array([1, 4, 6]) @ x)\n",
    "\n",
    "# Form and solve problem.\n",
    "prob = cp.Problem(obj, constraints)\n",
    "prob.solve()\n",
    "\n",
    "print(\"Linear Programming Solution\")\n",
    "print(\"=\" * 30)\n",
    "print(f\"Status: {prob.status}\")\n",
    "print(f\"The optimal value is: {np.round(prob.value, 2)}\")\n",
    "print(f\"The optimal solution is: x = {[np.round(x_i, 2) for x_i in x.value]}\")"
   ]
  },
  {
   "cell_type": "markdown",
   "metadata": {},
   "source": [
    "### 4.14\n",
    "\n",
    "Solve the following linear program by the Revised Simplex Method\n",
    "\n",
    "\\begin{align}\n",
    "    \\text{minimize } &3x_1 + x_2 + 4x_3 + 2x_4 \\\\\n",
    "    \\text{subject to } \n",
    "    &x_1 +x_2 −2x_3 + x_4 =10 \\\\\n",
    "    &4x_1 +x_2 +2x_3 +3x_4 \\geq 20 \\\\\n",
    "    &\\text{and } x_j \\geq 0, j = 1,2,3,4 \\\\\n",
    "\\end{align}"
   ]
  },
  {
   "cell_type": "markdown",
   "metadata": {},
   "source": [
    "Standard Form: \n",
    "\n",
    "\\begin{align}\n",
    "    \\text{minimize } &3x_1 + x_2 + 4x_3 + 2x_4 \\\\\n",
    "    \\text{subject to } \n",
    "    &x_1 +x_2 −2x_3 + x_4 =10 \\\\\n",
    "    &4x_1 +x_2 +2x_3 +3x_4 - s_1 = 20 \\\\\n",
    "    &\\text{and } x_j \\geq 0, j = 1,2,3,4, s_1 \\geq 0 \\\\\n",
    "\\end{align}"
   ]
  },
  {
   "cell_type": "markdown",
   "metadata": {},
   "source": [
    "Phase I Tableau:\n",
    "\n",
    "\\begin{align}\n",
    "    &\\begin{array}{c}\n",
    "    \\\\\n",
    "    w \\\\\n",
    "    z \\\\ \n",
    "    y_1 \\\\\n",
    "    y_2 \\\\\n",
    "    \\end{array}\n",
    "    \\begin{bmatrix}\n",
    "    \\begin{array}{c|c|ccccccc|c}\n",
    "      w & z & x_1 & x_2 & x_3 & x_4 & s_1 & y_1 & y_2 & b \\\\ \\hline\n",
    "      1 & 0 & 0 & 0 & 0 & 0 & 0 & -1 & -1 & 0 \\\\ \\hline\n",
    "      0 & 1 & -3 & 1 & -4 & -2 & 0 & 0 & 0 & 0 \\\\ \\hline\n",
    "      0 & 0 & 1 & 1 & -2 & 1 & 0 & 1 & 0 & 10 \\\\\n",
    "      0 & 0 & 4 & 1 & 2 & 3 & -1 & 0 & 1 & 20 \\\\\n",
    "    \\end{array}\n",
    "    \\end{bmatrix} \\\\\n",
    "\\end{align}"
   ]
  },
  {
   "cell_type": "markdown",
   "metadata": {},
   "source": [
    "\\begin{align}\n",
    "    \\text{Add last 3 rows to 1st row}\n",
    "    \\rightarrow&\n",
    "    \\begin{array}{c}\n",
    "    \\\\\n",
    "    w \\\\\n",
    "    z \\\\ \n",
    "    y_1 \\\\\n",
    "    y_2 \\\\\n",
    "    \\end{array}\n",
    "    \\begin{bmatrix}\n",
    "    \\begin{array}{c|c|ccccccc|c}\n",
    "      w & z & x_1 & x_2 & x_3 & x_4 & s_1 & y_1 & y_2 & b \\\\ \\hline\n",
    "      1 & 0 & 5 & 2 & 0 & 4 & -1 & 0 & 0 & 30 \\\\ \\hline\n",
    "      0 & 1 & -3 & 1 & -4 & -2 & 0 & 0 & 0 & 0 \\\\ \\hline\n",
    "      0 & 0 & 1 & 1 & -2 & 1 & 0 & 1 & 0 & 10 \\\\\n",
    "      0 & 0 & 4 & 1 & 2 & 3 & -1 & 0 & 1 & 20 \\\\\n",
    "    \\end{array}\n",
    "    \\end{bmatrix} \\\\\n",
    "\\end{align}"
   ]
  },
  {
   "cell_type": "markdown",
   "metadata": {},
   "source": [
    "\\begin{align}\n",
    "    \\text{Entering Variable: }x_1\\,\\because \\text{Largest non-basic},\\,\\text{Leaving Variable: }y_2\\,\\because \\text{argmin}\\Big(\\frac{10}{1}, \\frac{20}{4}\\Big) = y_2\n",
    "    \\rightarrow&\n",
    "    \\begin{array}{c}\n",
    "    \\\\\n",
    "    w \\\\\n",
    "    z \\\\ \n",
    "    y_1 \\\\\n",
    "    x_1 \\\\\n",
    "    \\end{array}\n",
    "    \\begin{bmatrix}\n",
    "    \\begin{array}{c|c|ccccccc|c}\n",
    "      w & z & x_1 & x_2 & x_3 & x_4 & s_1 & y_1 & y_2 & b \\\\ \\hline\n",
    "      1 & 0 & 0 & 3/4 & -5/2 & 1/4 & 1/4 & 0 & -5/4 & 5 \\\\ \\hline\n",
    "      0 & 1 & 0 & 7/4 & -5/2 & 1/4 & -3/4 & 0 & 3/4 & 15 \\\\ \\hline\n",
    "      0 & 0 & 0 & 3/4 & -5/2 & 1/4 & 1/4 & 1 & -1/4 & 5 \\\\\n",
    "      0 & 0 & 1 & 1/4 & 1/2 & 3/4 & -1/4 & 0 & 1/4 & 5 \\\\\n",
    "    \\end{array}\n",
    "    \\end{bmatrix} \\\\\n",
    "\\end{align}"
   ]
  },
  {
   "cell_type": "markdown",
   "metadata": {},
   "source": [
    "\\begin{align}\n",
    "    \\text{Entering Variable: }x_2\\,\\because \\text{Largest non-basic},\\,\\text{Leaving Variable: }y_1\\,\\because \\text{argmin}\\Big(\\frac{5}{3/4}, \\frac{5}{1/4}\\Big) = y_2\n",
    "    \\rightarrow&\n",
    "    \\begin{array}{c}\n",
    "    \\\\\n",
    "    w \\\\\n",
    "    z \\\\ \n",
    "    x_2 \\\\\n",
    "    x_1 \\\\\n",
    "    \\end{array}\n",
    "    \\begin{bmatrix}\n",
    "    \\begin{array}{c|c|ccccccc|c}\n",
    "      w & z & x_1 & x_2 & x_3 & x_4 & s_1 & y_1 & y_2 & b \\\\ \\hline\n",
    "      1 & 0 & 0 & 0 & 0 & 0 & 0 & -1 & -1 & 0 \\\\ \\hline\n",
    "      0 & 1 & 0 & 0 & 10/3 & -1/3 & -4/3 & -7/3 & 4/3 & 10/3 \\\\ \\hline\n",
    "      0 & 0 & 0 & 1 & -10/3 & 1/3 & 1/3 & 4/3 & -1/3 & 20/3 \\\\\n",
    "      0 & 0 & 1 & 0 & 4/3 & 2/3 & -1/3 & -1/3 & 1/3 & 10/3 \\\\\n",
    "    \\end{array}\n",
    "    \\end{bmatrix} \\\\\n",
    "\\end{align}"
   ]
  },
  {
   "cell_type": "markdown",
   "metadata": {},
   "source": [
    "This tableau reveals that w, the value of the artificial objective function, has been reduced to zero. Now, in the computation, the 1st row and the $y_1, y_2$ columns can be ignored (or deleted from the tableau). We can also pick out the basic feasible solution $(x_1, x_2, x_3, x_4, s_1) = (10/3, 20/3, 0, 0, 0, 0)$ of the original system that has been found by the Phase I Procedure."
   ]
  },
  {
   "cell_type": "markdown",
   "metadata": {},
   "source": [
    "\\begin{align}\n",
    "    \\begin{array}{c}\n",
    "    \\\\\n",
    "    z \\\\ \n",
    "    x_2 \\\\\n",
    "    x_1 \\\\\n",
    "    \\end{array}\n",
    "    \\begin{bmatrix}\n",
    "    \\begin{array}{c|ccccc|c}\n",
    "      z & x_1 & x_2 & x_3 & x_4 & s_1 & b \\\\ \\hline\n",
    "      1 & 0 & 0 & 10/3 & -1/3 & -4/3 & 10/3 \\\\ \\hline\n",
    "      0 & 0 & 1 & -10/3 & 1/3 & 1/3 & 20/3 \\\\\n",
    "      0 & 1 & 0 & 4/3 & 2/3 & -1/3 & 10/3 \\\\\n",
    "    \\end{array}\n",
    "    \\end{bmatrix} \\\\\n",
    "\\end{align}"
   ]
  },
  {
   "cell_type": "markdown",
   "metadata": {},
   "source": [
    "Revised Simplex Method:\n",
    "\n",
    "1. Test for Optimality\n",
    "    1. Find Pricing Vector $y = c_B B^{-1}$\n",
    "    2. Compute $z_j = c_B B^{-1}N$\n",
    "    3. Find non-basic index $j$ such that $z_N - c_N = \\text{max}_{j\\in N}{\\{z_j - c_j\\}}$. If $z_j - c_j \\leq 0$, stop, current BFS is optimal\n",
    "2. Min. Ratio Test\n",
    "    1. Find $\\bar{A}_{\\bullet s} = B^{-1}A_{\\bullet s}$\n",
    "    2. If $\\bar{a}_{is} \\leq 0$ for all $i$, stop. The objective is unbounded below. Otherwise, find an index $r$ such that $\\bar{a}_{is} > 0$ and $\\frac{\\bar{b}_r}{\\bar{a}_{rs}} = \\text{min}\\Big\\{\\frac{\\bar{b}_i}{\\bar{a}_{is}}: \\bar{a}_{is} > 0 \\Big\\}$\n",
    "3. Update new basis, $A_{\\bullet {j_r}}$ replaces $B_{\\bullet {j_r}}$"
   ]
  },
  {
   "cell_type": "markdown",
   "metadata": {},
   "source": [
    "Iteration 1:\n",
    "\n",
    "1A.\n",
    "\\begin{align}\n",
    "    y &= {B^\\top}^{-1}c_B \\\\\n",
    "    &= {\\begin{bmatrix} 0 & 1 \\\\ 1 & 0 \\\\ \\end{bmatrix}^\\top}^{-1} \\begin{bmatrix}0 \\\\ 0\\\\ \\end{bmatrix} \\\\\n",
    "    &= \\begin{bmatrix}0 \\\\ 0\\\\ \\end{bmatrix} \\\\\n",
    "\\end{align}\n",
    "\n",
    "1B.\n",
    "\\begin{align}\n",
    "    z_j &= y^\\top A_{\\bullet j} \\\\\n",
    "    &= \\begin{bmatrix}0 \\\\ 0\\\\ \\end{bmatrix}^\\top \\begin{bmatrix} -10/3 & 1/3 & 1/3 \\\\ 4/3 & 2/3 & -1/3 \\\\ \\end{bmatrix} \\\\\n",
    "    &= \\begin{bmatrix}0 & 0 & 0 \\\\ \\end{bmatrix} \\\\\n",
    "\\end{align}\n",
    "\n",
    "1C.\n",
    "\\begin{align}\n",
    "    z_s - c_s &= \\text{max}_{j\\in N}{\\{z_j - c_j\\}} \\\\\n",
    "    &= \\text{max}_{j\\in N}{\\{0+10/3=10/3, 0-1/3=-1/3, 0-4/3=-4/3\\}} \\\\\n",
    "    s &= 3\n",
    "\\end{align}\n",
    "\n",
    "2A.\n",
    "\\begin{align}\n",
    "    \\bar{A}_{\\bullet s=3} &= B^{-1}A_{\\bullet s=3} \\\\\n",
    "    &= {\\begin{bmatrix} 0 & 1 \\\\ 1 & 0 \\\\ \\end{bmatrix}}^{-1} \\begin{bmatrix}-10/3 \\\\ 4/3\\\\ \\end{bmatrix} \\\\\n",
    "    &= \\begin{bmatrix}4/3 \\\\ -10/3\\\\ \\end{bmatrix} \\\\\n",
    "\\end{align}\n",
    "\n",
    "2B.\n",
    "\\begin{align}\n",
    "    \\frac{\\bar{b}_r}{\\bar{a}_{r3}} &= \\text{min}\\Big\\{\\frac{20/3}{4/3} \\Big\\} = 5 \\\\\n",
    "    r &= 2 \\\\\n",
    "\\end{align}\n",
    "\n",
    "3.\n",
    "\\begin{align}\n",
    "    B &= \\begin{bmatrix} -10/3 & 1 \\\\ 4/3 & 0 \\\\ \\end{bmatrix} \\\\\n",
    "    x_B &= B^{-1}b = \\begin{bmatrix} -10/3 & 1 \\\\ 4/3 & 0 \\\\ \\end{bmatrix}^{-1} \\begin{bmatrix}20/3 \\\\ 10/3 \\\\ \\end{bmatrix} = \\begin{bmatrix}5/2 \\\\ 15 \\\\ \\end{bmatrix} \\\\\n",
    "\\end{align}"
   ]
  },
  {
   "cell_type": "markdown",
   "metadata": {},
   "source": [
    "\\begin{align}\n",
    "\\vdots\n",
    "\\end{align}"
   ]
  },
  {
   "cell_type": "markdown",
   "metadata": {},
   "source": [
    "When all reduced cost coefficients are $\\leq 0$, BFS is optimal, hence solution is $(x_1, x_2, x_3, x_4) = (0, 5, 0, 5)$"
   ]
  },
  {
   "cell_type": "code",
   "execution_count": 9,
   "metadata": {},
   "outputs": [
    {
     "name": "stdout",
     "output_type": "stream",
     "text": [
      "Linear Programming Solution\n",
      "==============================\n",
      "Status: optimal\n",
      "The optimal value is: 15.0\n",
      "The optimal solution is: x = [0.0, 5.0, 0.0, 5.0]\n"
     ]
    },
    {
     "data": {
      "application/javascript": [
       "\n",
       "            setTimeout(function() {\n",
       "                var nbb_cell_id = 9;\n",
       "                var nbb_unformatted_code = \"# Create one vector optimization variable.\\nx = cp.Variable((4,), integer=False)\\n\\n# Create constraints.\\nconstraints = [\\n    np.array([[1, 1, -2, 1]]) @ x == np.array([10]),\\n    np.array([[4, 1, 2, 3]]) @ x >= np.array([20]),\\n    x >= 0,\\n]\\n\\n# Form objective.\\nobj = cp.Minimize(np.array([3, 1, 4, 2]) @ x)\\n\\n# Form and solve problem.\\nprob = cp.Problem(obj, constraints)\\nprob.solve()\\n\\nprint(\\\"Linear Programming Solution\\\")\\nprint(\\\"=\\\" * 30)\\nprint(f\\\"Status: {prob.status}\\\")\\nprint(f\\\"The optimal value is: {np.round(prob.value, 2)}\\\")\\nprint(f\\\"The optimal solution is: x = {[np.round(x_i, 2) for x_i in x.value]}\\\")\";\n",
       "                var nbb_formatted_code = \"# Create one vector optimization variable.\\nx = cp.Variable((4,), integer=False)\\n\\n# Create constraints.\\nconstraints = [\\n    np.array([[1, 1, -2, 1]]) @ x == np.array([10]),\\n    np.array([[4, 1, 2, 3]]) @ x >= np.array([20]),\\n    x >= 0,\\n]\\n\\n# Form objective.\\nobj = cp.Minimize(np.array([3, 1, 4, 2]) @ x)\\n\\n# Form and solve problem.\\nprob = cp.Problem(obj, constraints)\\nprob.solve()\\n\\nprint(\\\"Linear Programming Solution\\\")\\nprint(\\\"=\\\" * 30)\\nprint(f\\\"Status: {prob.status}\\\")\\nprint(f\\\"The optimal value is: {np.round(prob.value, 2)}\\\")\\nprint(f\\\"The optimal solution is: x = {[np.round(x_i, 2) for x_i in x.value]}\\\")\";\n",
       "                var nbb_cells = Jupyter.notebook.get_cells();\n",
       "                for (var i = 0; i < nbb_cells.length; ++i) {\n",
       "                    if (nbb_cells[i].input_prompt_number == nbb_cell_id) {\n",
       "                        if (nbb_cells[i].get_text() == nbb_unformatted_code) {\n",
       "                             nbb_cells[i].set_text(nbb_formatted_code);\n",
       "                        }\n",
       "                        break;\n",
       "                    }\n",
       "                }\n",
       "            }, 500);\n",
       "            "
      ],
      "text/plain": [
       "<IPython.core.display.Javascript object>"
      ]
     },
     "metadata": {},
     "output_type": "display_data"
    }
   ],
   "source": [
    "# Create one vector optimization variable.\n",
    "x = cp.Variable((4,), integer=False)\n",
    "\n",
    "# Create constraints.\n",
    "constraints = [\n",
    "    np.array([[1, 1, -2, 1]]) @ x == np.array([10]),\n",
    "    np.array([[4, 1, 2, 3]]) @ x >= np.array([20]),\n",
    "    x >= 0,\n",
    "]\n",
    "\n",
    "# Form objective.\n",
    "obj = cp.Minimize(np.array([3, 1, 4, 2]) @ x)\n",
    "\n",
    "# Form and solve problem.\n",
    "prob = cp.Problem(obj, constraints)\n",
    "prob.solve()\n",
    "\n",
    "print(\"Linear Programming Solution\")\n",
    "print(\"=\" * 30)\n",
    "print(f\"Status: {prob.status}\")\n",
    "print(f\"The optimal value is: {np.round(prob.value, 2)}\")\n",
    "print(f\"The optimal solution is: x = {[np.round(x_i, 2) for x_i in x.value]}\")"
   ]
  },
  {
   "cell_type": "markdown",
   "metadata": {},
   "source": [
    "### 4.18\n",
    "\n",
    "CT Gift Shop is profitable but has a cash flow problem as of the end of June. December is the busiest month, and the shop expects to make a decent profit by the end of the year. As of the end of June, the gift shop has 2, 000 in cash in the bank. At the start of each month, rent and other bills are due, and the shop has to make the payments. By the end of the month the shop will receive revenues from its sales. The projected revenues and payments are as follows:\n",
    "\n",
    "<img src=\"./assets/hw2-4_18.png\"/>\n",
    "\n",
    "CT Gift Shop has an excellent credit history and can take out loans to help cover the shortfalls. On July 1, the gift shop can take out a 6-month loan with a 10% interest rate for the period that is to be paid back at the end of December. The gift shop can also take out a 1-month loan at the start of each month at an interest rate of 2% per month. Formulate CT Gift Shop’s cashflow problem as an LP so to minimize the amount of interest paid. Solve the LP by the Simplex Method."
   ]
  },
  {
   "cell_type": "markdown",
   "metadata": {},
   "source": [
    "Linear Program: \n",
    "\n",
    "\\begin{align}\n",
    "    \\text{minimize } &\\begin{bmatrix}0.02 & 0.02 & 0.02 & 0.02 & 0.02 & 0.02 & 0.10\\end{bmatrix} \\cdot \\begin{bmatrix}x_1 \\\\ x_2 \\\\ x_3 \\\\ x_4 \\\\ x_5 \\\\ x_6 \\\\ x_7\\\\ \\end{bmatrix} \\\\\n",
    "    &\\text{subject to } \\\\\n",
    "    &2000 + x_1 + x_7 \\geq 6000 \\\\\n",
    "    &2000 + x_1 + x_7 - 6000 + 3000 \\geq 5000 + 1.02x_1 \\\\\n",
    "    &2000 + x_1 + x_7 - 6000 + 3000 + x_2 - 5000 - 1.02x_1 + 3000 \\geq 8000 + 1.02x_2 \\\\\n",
    "    &2000 + x_1 + x_7 - 6000 + 3000 + x_2 - 5000 - 1.02x_1 + 3000 + x_3 - 8000 - 1.02x_2 + 4000 \\geq 3000 + 1.02x_3 \\\\\n",
    "    &2000 + x_1 + x_7 - 6000 + 3000 + x_2 - 5000 - 1.02x_1 + 3000 + x_3 - 8000 - 1.02x_2 + 4000 + x_4 - 3000 - 1.02x_3 + 4000 \\geq 4000 + 1.02x_4 \\\\\n",
    "    &2000 + x_1 + x_7 - 6000 + 3000 + x_2 - 5000 - 1.02x_1 + 3000 + x_3 - 8000 - 1.02x_2 + 4000 + x_4 - 3000 - 1.02x_3 + 4000 + x_5 - 4000 - 1.02x_4 + 9000 \\geq 6000 + 1.02x_5 \\\\\n",
    "    &2000 + x_1 + x_7 - 6000 + 3000 + x_2 - 5000 - 1.02x_1 + 3000 + x_3 - 8000 - 1.02x_2 + 4000 + x_4 - 3000 - 1.02x_3 + 4000 + x_5 - 4000 - 1.02x_4 + 9000 + x_6 - 6000 - 1.02x_5 + 15000 \\geq 1.10x_7 + 1.02x_6 \\\\\n",
    "    &x_i \\geq 0, i = 1, \\cdots 7 \\\\\n",
    "\\end{align}"
   ]
  },
  {
   "cell_type": "markdown",
   "metadata": {},
   "source": [
    "$x_1, \\cdots x_6$ represent the 1-month loan amounts and $x_7$ represents the 6-month loan amount."
   ]
  },
  {
   "cell_type": "markdown",
   "metadata": {},
   "source": [
    "Standard Form: \n",
    "\n",
    "\\begin{align}\n",
    "    \\text{minimize } &0.02x_1 + 0.02x_2 + 0.02x_3 + 0.02x_4 + 0.02x_5 + 0.02x_6 + 0.1x_7 \\\\\n",
    "    \\text{subject to } \n",
    "    &x_1 + x_7 - s_1 = 4000 \\\\\n",
    "    &-0.02x_1 + x_7 - s_2 = 6000 \\\\\n",
    "    &-0.02x_1 -0.02x_2 + x_7 - s_3 = 11000 \\\\\n",
    "    &-0.02x_1 -0.02x_2 -0.02x_3 + x_7 - s_4 = 10000 \\\\\n",
    "    &-0.02x_1 -0.02x_2 -0.02x_3 -0.02x_4 + x_7 - s_5 = 10000 \\\\\n",
    "    &-0.02x_1 -0.02x_2 -0.02x_3 -0.02x_4 -0.02x_5 + x_7 - s_5 = 7000 \\\\\n",
    "    &0.02x_1 +0.02x_2 +0.02x_3 +0.02x_4 +0.02x_5 +0.02x_6 + 0.1x_7 + s_5 = 8000 \\\\\n",
    "    &\\text{and } x_j \\geq 0, j = 1,\\cdots7, s_i \\geq 0, i = 1, \\cdots 5 \\\\\n",
    "\\end{align}"
   ]
  },
  {
   "cell_type": "markdown",
   "metadata": {},
   "source": [
    "Standard Form with artificial variables: \n",
    "\n",
    "\\begin{align}\n",
    "    \\text{minimize } &0.02x_1 + 0.02x_2 + 0.02x_3 + 0.02x_4 + 0.02x_5 + 0.02x_6 + 0.1x_7 \\\\\n",
    "    \\text{subject to } \n",
    "    &x_1 + x_7 - s_1 + y_1 = 4000 \\\\\n",
    "    &-0.02x_1 + x_7 - s_2 + y_2 = 6000 \\\\\n",
    "    &-0.02x_1 -0.02x_2 + x_7 - s_3 + y_3 = 11000 \\\\\n",
    "    &-0.02x_1 -0.02x_2 -0.02x_3 + x_7 - s_4 + y_4 = 10000 \\\\\n",
    "    &-0.02x_1 -0.02x_2 -0.02x_3 -0.02x_4 + x_7 - s_5 + y_5 = 10000 \\\\\n",
    "    &-0.02x_1 -0.02x_2 -0.02x_3 -0.02x_4 -0.02x_5 + x_7 - s_5 + y_6 = 7000 \\\\\n",
    "    &0.02x_1 +0.02x_2 +0.02x_3 +0.02x_4 +0.02x_5 +0.02x_6 + 0.1x_7 + s_5 + y_7 = 8000 \\\\\n",
    "    &\\text{and } x_j \\geq 0, j = 1,\\cdots7, s_i \\geq 0, i = 1, \\cdots, 5, y_k \\geq 0, k = 1, \\cdots, 7 \\\\\n",
    "\\end{align}"
   ]
  },
  {
   "cell_type": "markdown",
   "metadata": {},
   "source": [
    "Phase I Tableau:\n",
    "\n",
    "\\begin{align}\n",
    "    &\\begin{array}{c}\n",
    "    \\\\\n",
    "    w \\\\\n",
    "    z \\\\ \n",
    "    y_1 \\\\\n",
    "    y_2 \\\\\n",
    "    y_3 \\\\\n",
    "    y_4 \\\\\n",
    "    y_5 \\\\\n",
    "    y_6 \\\\\n",
    "    y_7 \\\\\n",
    "    \\end{array}\n",
    "    \\begin{bmatrix}\n",
    "    \\begin{array}{c|c|ccccccccccccccccccc|c}\n",
    "      w & z & x_1 & x_2 & x_3 & x_4 & x_5 & x_6 & x_7 & s_1 & s_2 & s_3 & s_4 & s_5 & y_1 & y_2 & y_3 & y_4 & y_5 & y_6 & y_7 & b \\\\ \\hline\n",
    "      1 & 0 & 0 & 0 & 0 & 0 & 0 & 0 & 0 & 0 & 0 & 0 & 0 & 0 & -1 & -1 & -1 & -1 & -1 & -1 & -1 & 0 \\\\ \\hline\n",
    "      0 & 1 & -0.02 & -0.02 & -0.02 & -0.02 & -0.02 & -0.02 & -0.1 & 0 & 0 & 0 & 0 & 0 & 0 & 0 & 0 & 0 & 0 & 0 & 0 & 0 \\\\ \\hline\n",
    "      0 & 0 & -0.02 & 0 & 0 & 0 & 0 & 0 & 1 & 0 & 0 & 0 & 0 & 0 & -1 & -1 & -1 & -1 & -1 & -1 & -1 & 0 \\\\ \\hline\n",
    "    \\end{array}\n",
    "    \\end{bmatrix} \\\\\n",
    "\\end{align}"
   ]
  },
  {
   "cell_type": "markdown",
   "metadata": {},
   "source": [
    "---\n",
    "## Extra"
   ]
  },
  {
   "cell_type": "markdown",
   "metadata": {},
   "source": [
    "**Formulate a linear program for the planar absolute-value regression problem given the 5 points: (-1,-2), (0,0), (1,1), (2,3), and (3,0). Write an AMPL code for the resulting linear program and solve it by a solver.**"
   ]
  },
  {
   "cell_type": "markdown",
   "metadata": {},
   "source": [
    "\\begin{align}\n",
    "    \\underset{w, \\alpha, t}{\\text{minimize }} &\\frac{1}{N}\\sum_{i=1}^N (t^+_i + t^-_i) \\\\\n",
    "    \\text{subject to } \n",
    "    &t^+_i - t^-_i + wx_i + \\alpha = y_i, i = 1, \\cdots, N \\\\\n",
    "    &\\text{and } t^+_i, t^-_i \\geq 0 \\\\\n",
    "\\end{align}"
   ]
  },
  {
   "cell_type": "code",
   "execution_count": 10,
   "metadata": {},
   "outputs": [
    {
     "data": {
      "image/png": "[encoded data removed]",
      "text/plain": [
       "<Figure size 1800x1200 with 1 Axes>"
      ]
     },
     "metadata": {
      "needs_background": "light"
     },
     "output_type": "display_data"
    },
    {
     "data": {
      "application/javascript": [
       "\n",
       "            setTimeout(function() {\n",
       "                var nbb_cell_id = 10;\n",
       "                var nbb_unformatted_code = \"points = np.array(\\n    sorted([[-1, -2], [0, 0], [1, 1], [2, 3], [3, 0]], key=lambda x: x[0])\\n)\\nplt.scatter(*list(zip(*points)))\\nplt.grid(True)\\nplt.show()\";\n",
       "                var nbb_formatted_code = \"points = np.array(\\n    sorted([[-1, -2], [0, 0], [1, 1], [2, 3], [3, 0]], key=lambda x: x[0])\\n)\\nplt.scatter(*list(zip(*points)))\\nplt.grid(True)\\nplt.show()\";\n",
       "                var nbb_cells = Jupyter.notebook.get_cells();\n",
       "                for (var i = 0; i < nbb_cells.length; ++i) {\n",
       "                    if (nbb_cells[i].input_prompt_number == nbb_cell_id) {\n",
       "                        if (nbb_cells[i].get_text() == nbb_unformatted_code) {\n",
       "                             nbb_cells[i].set_text(nbb_formatted_code);\n",
       "                        }\n",
       "                        break;\n",
       "                    }\n",
       "                }\n",
       "            }, 500);\n",
       "            "
      ],
      "text/plain": [
       "<IPython.core.display.Javascript object>"
      ]
     },
     "metadata": {},
     "output_type": "display_data"
    }
   ],
   "source": [
    "points = np.array(\n",
    "    sorted([[-1, -2], [0, 0], [1, 1], [2, 3], [3, 0]], key=lambda x: x[0])\n",
    ")\n",
    "plt.scatter(*list(zip(*points)))\n",
    "plt.grid(True)\n",
    "plt.show()"
   ]
  },
  {
   "cell_type": "code",
   "execution_count": 11,
   "metadata": {},
   "outputs": [
    {
     "name": "stdout",
     "output_type": "stream",
     "text": [
      "Linear Programming Solution\n",
      "==============================\n",
      "Status: optimal\n",
      "The optimal value is: 1.0\n",
      "Residuals: t = [0.19 0.4  0.   0.6  3.81]\n",
      "y = 1.4x -0.4\n"
     ]
    },
    {
     "data": {
      "application/javascript": [
       "\n",
       "            setTimeout(function() {\n",
       "                var nbb_cell_id = 11;\n",
       "                var nbb_unformatted_code = \"# Create optimization variables\\nt = cp.Variable((len(points), 2), integer=False)  # Absolute Deviations\\nw = cp.Variable((1,), integer=False)  # Weights\\n\\u03b1 = cp.Variable((1,), integer=False)  # Bias\\n\\n# Create constraints.\\nconstraints = [\\n    t @ np.array([1, -1]) + (w * points[:, 0] + \\u03b1) == points[:, 1],\\n    t >= 0,\\n]\\n\\n# Form objective.\\nobj = cp.Minimize(np.ones((1, len(points))) @ (t @ np.array([[1], [1]])) / len(points))\\n\\n# Form and solve problem.\\nprob = cp.Problem(obj, constraints)\\nprob.solve()\\n\\nprint(\\\"Linear Programming Solution\\\")\\nprint(\\\"=\\\" * 30)\\nprint(f\\\"Status: {prob.status}\\\")\\nprint(f\\\"The optimal value is: {np.round(prob.value, 2)}\\\")\\nprint(f\\\"Residuals: t = {np.max(np.round(t.value, 2), axis=1)}\\\")\\nprint(f\\\"y = {np.round(w.value, 2)[0]}x {np.round(\\u03b1.value, 2)[0]}\\\")\";\n",
       "                var nbb_formatted_code = \"# Create optimization variables\\nt = cp.Variable((len(points), 2), integer=False)  # Absolute Deviations\\nw = cp.Variable((1,), integer=False)  # Weights\\n\\u03b1 = cp.Variable((1,), integer=False)  # Bias\\n\\n# Create constraints.\\nconstraints = [\\n    t @ np.array([1, -1]) + (w * points[:, 0] + \\u03b1) == points[:, 1],\\n    t >= 0,\\n]\\n\\n# Form objective.\\nobj = cp.Minimize(np.ones((1, len(points))) @ (t @ np.array([[1], [1]])) / len(points))\\n\\n# Form and solve problem.\\nprob = cp.Problem(obj, constraints)\\nprob.solve()\\n\\nprint(\\\"Linear Programming Solution\\\")\\nprint(\\\"=\\\" * 30)\\nprint(f\\\"Status: {prob.status}\\\")\\nprint(f\\\"The optimal value is: {np.round(prob.value, 2)}\\\")\\nprint(f\\\"Residuals: t = {np.max(np.round(t.value, 2), axis=1)}\\\")\\nprint(f\\\"y = {np.round(w.value, 2)[0]}x {np.round(\\u03b1.value, 2)[0]}\\\")\";\n",
       "                var nbb_cells = Jupyter.notebook.get_cells();\n",
       "                for (var i = 0; i < nbb_cells.length; ++i) {\n",
       "                    if (nbb_cells[i].input_prompt_number == nbb_cell_id) {\n",
       "                        if (nbb_cells[i].get_text() == nbb_unformatted_code) {\n",
       "                             nbb_cells[i].set_text(nbb_formatted_code);\n",
       "                        }\n",
       "                        break;\n",
       "                    }\n",
       "                }\n",
       "            }, 500);\n",
       "            "
      ],
      "text/plain": [
       "<IPython.core.display.Javascript object>"
      ]
     },
     "metadata": {},
     "output_type": "display_data"
    }
   ],
   "source": [
    "# Create optimization variables\n",
    "t = cp.Variable((len(points), 2), integer=False)  # Absolute Deviations\n",
    "w = cp.Variable((1,), integer=False)  # Weights\n",
    "α = cp.Variable((1,), integer=False)  # Bias\n",
    "\n",
    "# Create constraints.\n",
    "constraints = [\n",
    "    t @ np.array([1, -1]) + (w * points[:, 0] + α) == points[:, 1],\n",
    "    t >= 0,\n",
    "]\n",
    "\n",
    "# Form objective.\n",
    "obj = cp.Minimize(np.ones((1, len(points))) @ (t @ np.array([[1], [1]])) / len(points))\n",
    "\n",
    "# Form and solve problem.\n",
    "prob = cp.Problem(obj, constraints)\n",
    "prob.solve()\n",
    "\n",
    "print(\"Linear Programming Solution\")\n",
    "print(\"=\" * 30)\n",
    "print(f\"Status: {prob.status}\")\n",
    "print(f\"The optimal value is: {np.round(prob.value, 2)}\")\n",
    "print(f\"Residuals: t = {np.max(np.round(t.value, 2), axis=1)}\")\n",
    "print(f\"y = {np.round(w.value, 2)[0]}x {np.round(α.value, 2)[0]}\")"
   ]
  },
  {
   "cell_type": "code",
   "execution_count": 12,
   "metadata": {},
   "outputs": [
    {
     "data": {
      "image/png": "[encoded data removed]",
      "text/plain": [
       "<Figure size 1800x1200 with 1 Axes>"
      ]
     },
     "metadata": {
      "needs_background": "light"
     },
     "output_type": "display_data"
    },
    {
     "data": {
      "application/javascript": [
       "\n",
       "            setTimeout(function() {\n",
       "                var nbb_cell_id = 12;\n",
       "                var nbb_unformatted_code = \"plt.plot(\\n    np.linspace(-1, 3, 2000),\\n    np.round(w.value, 2)[0] * np.linspace(-1, 3, 2000) + np.round(\\u03b1.value, 2)[0],\\n    c=\\\"red\\\",\\n    label=r\\\"$y = 1.4x - 0.4$\\\",\\n)\\nplt.scatter(*list(zip(*points)))\\nplt.grid(True)\\nplt.legend(bbox_to_anchor=(1.05, 1), loc=2, borderaxespad=0.0)\\nplt.show()\";\n",
       "                var nbb_formatted_code = \"plt.plot(\\n    np.linspace(-1, 3, 2000),\\n    np.round(w.value, 2)[0] * np.linspace(-1, 3, 2000) + np.round(\\u03b1.value, 2)[0],\\n    c=\\\"red\\\",\\n    label=r\\\"$y = 1.4x - 0.4$\\\",\\n)\\nplt.scatter(*list(zip(*points)))\\nplt.grid(True)\\nplt.legend(bbox_to_anchor=(1.05, 1), loc=2, borderaxespad=0.0)\\nplt.show()\";\n",
       "                var nbb_cells = Jupyter.notebook.get_cells();\n",
       "                for (var i = 0; i < nbb_cells.length; ++i) {\n",
       "                    if (nbb_cells[i].input_prompt_number == nbb_cell_id) {\n",
       "                        if (nbb_cells[i].get_text() == nbb_unformatted_code) {\n",
       "                             nbb_cells[i].set_text(nbb_formatted_code);\n",
       "                        }\n",
       "                        break;\n",
       "                    }\n",
       "                }\n",
       "            }, 500);\n",
       "            "
      ],
      "text/plain": [
       "<IPython.core.display.Javascript object>"
      ]
     },
     "metadata": {},
     "output_type": "display_data"
    }
   ],
   "source": [
    "plt.plot(\n",
    "    np.linspace(-1, 3, 2000),\n",
    "    np.round(w.value, 2)[0] * np.linspace(-1, 3, 2000) + np.round(α.value, 2)[0],\n",
    "    c=\"red\",\n",
    "    label=r\"$y = 1.4x - 0.4$\",\n",
    ")\n",
    "plt.scatter(*list(zip(*points)))\n",
    "plt.grid(True)\n",
    "plt.legend(bbox_to_anchor=(1.05, 1), loc=2, borderaxespad=0.0)\n",
    "plt.show()"
   ]
  },
  {
   "cell_type": "markdown",
   "metadata": {},
   "source": [
    "**Use the same 5 points and same objective as above to determine a planar isotone (i.e, nondecreasing) curve that best fits the given points. Do the same with a convex curve instead. Solve both linear programs using AMPL.**"
   ]
  },
  {
   "cell_type": "markdown",
   "metadata": {},
   "source": [
    "Isotonic Regression QP (Minimize Squared errors):\n",
    "\n",
    "\\begin{align}\n",
    "    \\underset{w, \\alpha}{\\text{minimize }} &\\sum_{i=1}^N w_i{(x_i - \\alpha_i)}^2 \\\\\n",
    "    \\text{subject to } \n",
    "    &x_i \\leq x_{i+1}, i = 1, \\cdots, N-1 \\\\\n",
    "\\end{align}"
   ]
  },
  {
   "cell_type": "markdown",
   "metadata": {},
   "source": [
    "Isotonic Regression (Minimize Absolute errors):\n",
    "\n",
    "\\begin{align}\n",
    "    \\underset{\\hat{y}_i}{\\text{minimize }} &\\sum_{i=1}^N \\vert y_i - \\hat{y}_i \\vert \\\\\n",
    "    \\text{subject to } \n",
    "    &\\hat{y}_i <= \\hat{y}_{i+1} , i = 1, \\cdots, N-1 \\\\\n",
    "\\end{align}\n",
    "\n",
    "LP Formulation:\n",
    "\n",
    "\\begin{align}\n",
    "    \\underset{\\hat{y}_i}{\\text{minimize }} &\\sum_{i=1}^N (t^+_i - t^-_i) \\\\\n",
    "    \\text{subject to } \n",
    "    &t^+_i - t^-_i + \\hat{y}_i = y_i \\\\\n",
    "    &\\hat{y}_i \\leq \\hat{y}_{i+1} , i = 1, \\cdots, N-1 \\\\\n",
    "    &\\text{and } t^+_i, t^-_i \\geq 0 \\\\\n",
    "\\end{align}"
   ]
  },
  {
   "cell_type": "code",
   "execution_count": 13,
   "metadata": {},
   "outputs": [
    {
     "name": "stdout",
     "output_type": "stream",
     "text": [
      "Linear Programming Solution\n",
      "==============================\n",
      "Status: optimal\n",
      "The optimal value is: 3.0\n",
      "Residuals: t = [-0.    0.   -0.    1.52  1.48]\n",
      "y = [-2.   -0.    1.    1.48  1.48]\n"
     ]
    },
    {
     "data": {
      "application/javascript": [
       "\n",
       "            setTimeout(function() {\n",
       "                var nbb_cell_id = 13;\n",
       "                var nbb_unformatted_code = \"# Create optimization variables\\nt = cp.Variable((len(points), 2), integer=False)  # Absolute Deviations\\ny = cp.Variable((len(points),), integer=False) # y predictions\\n\\n# Create constraints.\\nconstraints = [y_i <= y_j for y_i, y_j in zip(y,y[1:])] + [t @ np.array([1, -1]) + y == points[:, 1], t >= 0]\\n\\n# Form objective.\\nobj = cp.Minimize(np.ones((1, len(points))) @ (t @ np.array([[1], [1]])))\\n\\n# Form and solve problem.\\nprob = cp.Problem(obj, constraints)\\nprob.solve()\\n\\nprint(\\\"Linear Programming Solution\\\")\\nprint(\\\"=\\\" * 30)\\nprint(f\\\"Status: {prob.status}\\\")\\nprint(f\\\"The optimal value is: {np.round(prob.value, 2)}\\\")\\nprint(f\\\"Residuals: t = {np.max(np.round(t.value, 2), axis=1)}\\\")\\nprint(f\\\"y = {np.round(y.value, 2)}\\\")\";\n",
       "                var nbb_formatted_code = \"# Create optimization variables\\nt = cp.Variable((len(points), 2), integer=False)  # Absolute Deviations\\ny = cp.Variable((len(points),), integer=False)  # y predictions\\n\\n# Create constraints.\\nconstraints = [y_i <= y_j for y_i, y_j in zip(y, y[1:])] + [\\n    t @ np.array([1, -1]) + y == points[:, 1],\\n    t >= 0,\\n]\\n\\n# Form objective.\\nobj = cp.Minimize(np.ones((1, len(points))) @ (t @ np.array([[1], [1]])))\\n\\n# Form and solve problem.\\nprob = cp.Problem(obj, constraints)\\nprob.solve()\\n\\nprint(\\\"Linear Programming Solution\\\")\\nprint(\\\"=\\\" * 30)\\nprint(f\\\"Status: {prob.status}\\\")\\nprint(f\\\"The optimal value is: {np.round(prob.value, 2)}\\\")\\nprint(f\\\"Residuals: t = {np.max(np.round(t.value, 2), axis=1)}\\\")\\nprint(f\\\"y = {np.round(y.value, 2)}\\\")\";\n",
       "                var nbb_cells = Jupyter.notebook.get_cells();\n",
       "                for (var i = 0; i < nbb_cells.length; ++i) {\n",
       "                    if (nbb_cells[i].input_prompt_number == nbb_cell_id) {\n",
       "                        if (nbb_cells[i].get_text() == nbb_unformatted_code) {\n",
       "                             nbb_cells[i].set_text(nbb_formatted_code);\n",
       "                        }\n",
       "                        break;\n",
       "                    }\n",
       "                }\n",
       "            }, 500);\n",
       "            "
      ],
      "text/plain": [
       "<IPython.core.display.Javascript object>"
      ]
     },
     "metadata": {},
     "output_type": "display_data"
    }
   ],
   "source": [
    "# Create optimization variables\n",
    "t = cp.Variable((len(points), 2), integer=False)  # Absolute Deviations\n",
    "y = cp.Variable((len(points),), integer=False)  # y predictions\n",
    "\n",
    "# Create constraints.\n",
    "constraints = [y_i <= y_j for y_i, y_j in zip(y, y[1:])] + [\n",
    "    t @ np.array([1, -1]) + y == points[:, 1],\n",
    "    t >= 0,\n",
    "]\n",
    "\n",
    "# Form objective.\n",
    "obj = cp.Minimize(np.ones((1, len(points))) @ (t @ np.array([[1], [1]])))\n",
    "\n",
    "# Form and solve problem.\n",
    "prob = cp.Problem(obj, constraints)\n",
    "prob.solve()\n",
    "\n",
    "print(\"Linear Programming Solution\")\n",
    "print(\"=\" * 30)\n",
    "print(f\"Status: {prob.status}\")\n",
    "print(f\"The optimal value is: {np.round(prob.value, 2)}\")\n",
    "print(f\"Residuals: t = {np.max(np.round(t.value, 2), axis=1)}\")\n",
    "print(f\"y = {np.round(y.value, 2)}\")"
   ]
  },
  {
   "cell_type": "code",
   "execution_count": 14,
   "metadata": {},
   "outputs": [
    {
     "data": {
      "image/png": "[encoded data removed]",
      "text/plain": [
       "<Figure size 1800x1200 with 1 Axes>"
      ]
     },
     "metadata": {
      "needs_background": "light"
     },
     "output_type": "display_data"
    },
    {
     "data": {
      "application/javascript": [
       "\n",
       "            setTimeout(function() {\n",
       "                var nbb_cell_id = 14;\n",
       "                var nbb_unformatted_code = \"plt.plot(\\n    points[:, 0], np.round(y.value, 2), \\\"-x\\\", c=\\\"red\\\", label=r\\\"Isotonic Regression\\\",\\n)\\nplt.scatter(*list(zip(*points)))\\nplt.grid(True)\\nplt.legend(bbox_to_anchor=(1.05, 1), loc=2, borderaxespad=0.0)\\nplt.show()\";\n",
       "                var nbb_formatted_code = \"plt.plot(\\n    points[:, 0], np.round(y.value, 2), \\\"-x\\\", c=\\\"red\\\", label=r\\\"Isotonic Regression\\\",\\n)\\nplt.scatter(*list(zip(*points)))\\nplt.grid(True)\\nplt.legend(bbox_to_anchor=(1.05, 1), loc=2, borderaxespad=0.0)\\nplt.show()\";\n",
       "                var nbb_cells = Jupyter.notebook.get_cells();\n",
       "                for (var i = 0; i < nbb_cells.length; ++i) {\n",
       "                    if (nbb_cells[i].input_prompt_number == nbb_cell_id) {\n",
       "                        if (nbb_cells[i].get_text() == nbb_unformatted_code) {\n",
       "                             nbb_cells[i].set_text(nbb_formatted_code);\n",
       "                        }\n",
       "                        break;\n",
       "                    }\n",
       "                }\n",
       "            }, 500);\n",
       "            "
      ],
      "text/plain": [
       "<IPython.core.display.Javascript object>"
      ]
     },
     "metadata": {},
     "output_type": "display_data"
    }
   ],
   "source": [
    "plt.plot(\n",
    "    points[:, 0], np.round(y.value, 2), \"-x\", c=\"red\", label=r\"Isotonic Regression\",\n",
    ")\n",
    "plt.scatter(*list(zip(*points)))\n",
    "plt.grid(True)\n",
    "plt.legend(bbox_to_anchor=(1.05, 1), loc=2, borderaxespad=0.0)\n",
    "plt.show()"
   ]
  },
  {
   "cell_type": "markdown",
   "metadata": {},
   "source": [
    "Convex Regression:\n",
    "\n",
    "\\begin{align}\n",
    "    \\underset{\\hat{y}_i}{\\text{minimize }} &\\sum_{i=1}^N \\vert y_i - \\hat{y}_i \\vert \\\\\n",
    "    \\text{subject to } \n",
    "    & \\frac{hat{y}_{i+1} - \\hat{y}_i}{x_{i+1} - x_{i}} <= \\frac{hat{y}_{i+2} - \\hat{y}_{i+1}}{x_{i+2} - x_{i+1}} , i = 1, \\cdots, N-2 \\\\\n",
    "\\end{align}\n",
    "\n",
    "LP Formulation:\n",
    "\n",
    "\\begin{align}\n",
    "    \\underset{\\hat{y}_i}{\\text{minimize }} &\\sum_{i=1}^N (t^+_i - t^-_i) \\\\\n",
    "    \\text{subject to } \n",
    "    &t^+_i - t^-_i + \\hat{y}_i = y_i \\\\\n",
    "    & \\frac{\\hat{y}_{i+1} - \\hat{y}_i}{x_{i+1} - x_{i}} <= \\frac{\\hat{y}_{i+2} - \\hat{y}_{i+1}}{x_{i+2} - x_{i+1}} , i = 1, \\cdots, N-2 \\\\\n",
    "    &\\text{and } t^+_i, t^-_i \\geq 0 \\\\\n",
    "\\end{align}\n",
    "\n",
    "Change fractional constraints by clearing denominator:\n",
    "\n",
    "\\begin{align}\n",
    "    \\underset{\\hat{y}_i}{\\text{minimize }} &\\sum_{i=1}^N (t^+_i - t^-_i) \\\\\n",
    "    \\text{subject to } \n",
    "    &t^+_i - t^-_i + \\hat{y}_i = y_i \\\\\n",
    "    & (x_{i+1} - x_{i+2})\\hat{y}_{i} + (x_{i+2} - x_{i})\\hat{y}_{i+1} + (x_{i} - x_{i+1})\\hat{y}_{i+2} \\leq 0 , i = 1, \\cdots, N-2 \\\\\n",
    "    &\\text{and } t^+_i, t^-_i \\geq 0 \\\\\n",
    "\\end{align}"
   ]
  },
  {
   "cell_type": "code",
   "execution_count": 15,
   "metadata": {},
   "outputs": [
    {
     "name": "stdout",
     "output_type": "stream",
     "text": [
      "Linear Programming Solution\n",
      "==============================\n",
      "Status: optimal\n",
      "The optimal value is: 6.0\n",
      "Residuals: t = [1.87 0.   0.87 2.61 0.66]\n",
      "y = [-0.13 -0.    0.13  0.39  0.66]\n"
     ]
    },
    {
     "data": {
      "application/javascript": [
       "\n",
       "            setTimeout(function() {\n",
       "                var nbb_cell_id = 15;\n",
       "                var nbb_unformatted_code = \"# Create optimization variables\\nt = cp.Variable((len(points), 2), integer=False)  # Absolute Deviations\\ny = cp.Variable((len(points),), integer=False)  # y predictions\\n\\n# Create constraints.\\nconstraints = [\\n    (x_j - x_k) * y_i + (x_k - x_i) * y_j + (x_i - x_j) * y_k <= 0\\n    for y_i, y_j, y_k, x_i, x_j, x_k in zip(\\n        y, y[1:], y[2:], points, points[1:], points[2:]\\n    )\\n] + [t @ np.array([1, -1]) + y == points[:, 1], t >= 0]\\n\\n# Form objective.\\nobj = cp.Minimize(np.ones((1, len(points))) @ (t @ np.array([[1], [1]])))\\n\\n# Form and solve problem.\\nprob = cp.Problem(obj, constraints)\\nprob.solve()\\n\\nprint(\\\"Linear Programming Solution\\\")\\nprint(\\\"=\\\" * 30)\\nprint(f\\\"Status: {prob.status}\\\")\\nprint(f\\\"The optimal value is: {np.round(prob.value, 2)}\\\")\\nprint(f\\\"Residuals: t = {np.max(np.round(t.value, 2), axis=1)}\\\")\\nprint(f\\\"y = {np.round(y.value, 2)}\\\")\";\n",
       "                var nbb_formatted_code = \"# Create optimization variables\\nt = cp.Variable((len(points), 2), integer=False)  # Absolute Deviations\\ny = cp.Variable((len(points),), integer=False)  # y predictions\\n\\n# Create constraints.\\nconstraints = [\\n    (x_j - x_k) * y_i + (x_k - x_i) * y_j + (x_i - x_j) * y_k <= 0\\n    for y_i, y_j, y_k, x_i, x_j, x_k in zip(\\n        y, y[1:], y[2:], points, points[1:], points[2:]\\n    )\\n] + [t @ np.array([1, -1]) + y == points[:, 1], t >= 0]\\n\\n# Form objective.\\nobj = cp.Minimize(np.ones((1, len(points))) @ (t @ np.array([[1], [1]])))\\n\\n# Form and solve problem.\\nprob = cp.Problem(obj, constraints)\\nprob.solve()\\n\\nprint(\\\"Linear Programming Solution\\\")\\nprint(\\\"=\\\" * 30)\\nprint(f\\\"Status: {prob.status}\\\")\\nprint(f\\\"The optimal value is: {np.round(prob.value, 2)}\\\")\\nprint(f\\\"Residuals: t = {np.max(np.round(t.value, 2), axis=1)}\\\")\\nprint(f\\\"y = {np.round(y.value, 2)}\\\")\";\n",
       "                var nbb_cells = Jupyter.notebook.get_cells();\n",
       "                for (var i = 0; i < nbb_cells.length; ++i) {\n",
       "                    if (nbb_cells[i].input_prompt_number == nbb_cell_id) {\n",
       "                        if (nbb_cells[i].get_text() == nbb_unformatted_code) {\n",
       "                             nbb_cells[i].set_text(nbb_formatted_code);\n",
       "                        }\n",
       "                        break;\n",
       "                    }\n",
       "                }\n",
       "            }, 500);\n",
       "            "
      ],
      "text/plain": [
       "<IPython.core.display.Javascript object>"
      ]
     },
     "metadata": {},
     "output_type": "display_data"
    }
   ],
   "source": [
    "# Create optimization variables\n",
    "t = cp.Variable((len(points), 2), integer=False)  # Absolute Deviations\n",
    "y = cp.Variable((len(points),), integer=False)  # y predictions\n",
    "\n",
    "# Create constraints.\n",
    "constraints = [\n",
    "    (x_j - x_k) * y_i + (x_k - x_i) * y_j + (x_i - x_j) * y_k <= 0\n",
    "    for y_i, y_j, y_k, x_i, x_j, x_k in zip(\n",
    "        y, y[1:], y[2:], points, points[1:], points[2:]\n",
    "    )\n",
    "] + [t @ np.array([1, -1]) + y == points[:, 1], t >= 0]\n",
    "\n",
    "# Form objective.\n",
    "obj = cp.Minimize(np.ones((1, len(points))) @ (t @ np.array([[1], [1]])))\n",
    "\n",
    "# Form and solve problem.\n",
    "prob = cp.Problem(obj, constraints)\n",
    "prob.solve()\n",
    "\n",
    "print(\"Linear Programming Solution\")\n",
    "print(\"=\" * 30)\n",
    "print(f\"Status: {prob.status}\")\n",
    "print(f\"The optimal value is: {np.round(prob.value, 2)}\")\n",
    "print(f\"Residuals: t = {np.max(np.round(t.value, 2), axis=1)}\")\n",
    "print(f\"y = {np.round(y.value, 2)}\")"
   ]
  },
  {
   "cell_type": "code",
   "execution_count": 16,
   "metadata": {},
   "outputs": [
    {
     "data": {
      "image/png": "[encoded data removed]",
      "text/plain": [
       "<Figure size 1800x1200 with 1 Axes>"
      ]
     },
     "metadata": {
      "needs_background": "light"
     },
     "output_type": "display_data"
    },
    {
     "data": {
      "application/javascript": [
       "\n",
       "            setTimeout(function() {\n",
       "                var nbb_cell_id = 16;\n",
       "                var nbb_unformatted_code = \"plt.plot(\\n    points[:, 0], np.round(y.value, 2), \\\"-x\\\", c=\\\"red\\\", label=r\\\"Convex Regression\\\",\\n)\\nplt.scatter(*list(zip(*points)))\\nplt.grid(True)\\nplt.legend(bbox_to_anchor=(1.05, 1), loc=2, borderaxespad=0.0)\\nplt.show()\";\n",
       "                var nbb_formatted_code = \"plt.plot(\\n    points[:, 0], np.round(y.value, 2), \\\"-x\\\", c=\\\"red\\\", label=r\\\"Convex Regression\\\",\\n)\\nplt.scatter(*list(zip(*points)))\\nplt.grid(True)\\nplt.legend(bbox_to_anchor=(1.05, 1), loc=2, borderaxespad=0.0)\\nplt.show()\";\n",
       "                var nbb_cells = Jupyter.notebook.get_cells();\n",
       "                for (var i = 0; i < nbb_cells.length; ++i) {\n",
       "                    if (nbb_cells[i].input_prompt_number == nbb_cell_id) {\n",
       "                        if (nbb_cells[i].get_text() == nbb_unformatted_code) {\n",
       "                             nbb_cells[i].set_text(nbb_formatted_code);\n",
       "                        }\n",
       "                        break;\n",
       "                    }\n",
       "                }\n",
       "            }, 500);\n",
       "            "
      ],
      "text/plain": [
       "<IPython.core.display.Javascript object>"
      ]
     },
     "metadata": {},
     "output_type": "display_data"
    }
   ],
   "source": [
    "plt.plot(\n",
    "    points[:, 0], np.round(y.value, 2), \"-x\", c=\"red\", label=r\"Convex Regression\",\n",
    ")\n",
    "plt.scatter(*list(zip(*points)))\n",
    "plt.grid(True)\n",
    "plt.legend(bbox_to_anchor=(1.05, 1), loc=2, borderaxespad=0.0)\n",
    "plt.show()"
   ]
  }
 ],
 "metadata": {
  "kernelspec": {
   "display_name": "Python 3",
   "language": "python",
   "name": "python3"
  },
  "language_info": {
   "codemirror_mode": {
    "name": "ipython",
    "version": 3
   },
   "file_extension": ".py",
   "mimetype": "text/x-python",
   "name": "python",
   "nbconvert_exporter": "python",
   "pygments_lexer": "ipython3",
   "version": "3.8.5"
  },
  "latex_envs": {
   "LaTeX_envs_menu_present": true,
   "autoclose": false,
   "autocomplete": true,
   "bibliofile": "biblio.bib",
   "cite_by": "apalike",
   "current_citInitial": 1,
   "eqLabelWithNumbers": true,
   "eqNumInitial": 1,
   "hotkeys": {
    "equation": "Ctrl-E",
    "itemize": "Ctrl-I"
   },
   "labels_anchors": false,
   "latex_user_defs": false,
   "report_style_numbering": false,
   "user_envs_cfg": false
  }
 },
 "nbformat": 4,
 "nbformat_minor": 4
}
