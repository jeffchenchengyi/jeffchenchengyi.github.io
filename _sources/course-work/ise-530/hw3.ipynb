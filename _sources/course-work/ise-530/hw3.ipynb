{
 "cells": [
  {
   "cell_type": "markdown",
   "metadata": {},
   "source": [
    "# HW 3\n",
    "\n",
    "ISE-530 Homework III: Chapters V and VI of Cottle-Thapa. Due 11:59 PM Wednesday September 30, 2020\n",
    "\n",
    "- Exercises 5.4, 5.6, 5.8, and 5.9.\n",
    "- Exercises 6.2, 6.5, 6.8, 6.13, and 6.16."
   ]
  },
  {
   "cell_type": "code",
   "execution_count": 2,
   "metadata": {},
   "outputs": [
    {
     "data": {
      "application/javascript": [
       "\n",
       "            setTimeout(function() {\n",
       "                var nbb_cell_id = 2;\n",
       "                var nbb_unformatted_code = \"%load_ext nb_black\\n%matplotlib inline\\n\\nimport matplotlib.pyplot as plt\\n\\nplt.rcParams[\\\"figure.dpi\\\"] = 300\\n\\nimport numpy as np\\nimport cvxpy as cp\\nfrom collections import namedtuple\";\n",
       "                var nbb_formatted_code = \"%load_ext nb_black\\n%matplotlib inline\\n\\nimport matplotlib.pyplot as plt\\n\\nplt.rcParams[\\\"figure.dpi\\\"] = 300\\n\\nimport numpy as np\\nimport cvxpy as cp\\nfrom collections import namedtuple\";\n",
       "                var nbb_cells = Jupyter.notebook.get_cells();\n",
       "                for (var i = 0; i < nbb_cells.length; ++i) {\n",
       "                    if (nbb_cells[i].input_prompt_number == nbb_cell_id) {\n",
       "                        if (nbb_cells[i].get_text() == nbb_unformatted_code) {\n",
       "                             nbb_cells[i].set_text(nbb_formatted_code);\n",
       "                        }\n",
       "                        break;\n",
       "                    }\n",
       "                }\n",
       "            }, 500);\n",
       "            "
      ],
      "text/plain": [
       "<IPython.core.display.Javascript object>"
      ]
     },
     "metadata": {},
     "output_type": "display_data"
    }
   ],
   "source": [
    "%load_ext nb_black\n",
    "%matplotlib inline\n",
    "\n",
    "import matplotlib.pyplot as plt\n",
    "\n",
    "plt.rcParams[\"figure.dpi\"] = 300\n",
    "\n",
    "import numpy as np\n",
    "import cvxpy as cp\n",
    "from collections import namedtuple"
   ]
  },
  {
   "cell_type": "markdown",
   "metadata": {},
   "source": [
    "---\n",
    "## Chapter 5"
   ]
  },
  {
   "cell_type": "markdown",
   "metadata": {},
   "source": [
    "### 5.4\n",
    "\n",
    "Find the dual of the following linear program\n",
    "\n",
    "\\begin{align}\n",
    "    \\text{minimize }&c_1x_1 + c_2x_2 + c_3x_3 \\\\\n",
    "    \\text{subject to }\n",
    "    &a_{11}x_1 + a_{12}x_2 + a_{13}x_3 \\geq b_1 \\\\\n",
    "    &a_{21}x_1 + a_{22}x_2 + a_{23}x_3 = b_2 \\\\\n",
    "    &a_{31}x_1 + a_{32}x_2 + a_{33}x_3 \\leq b_3 \\\\\n",
    "    &x_1 \\geq 0, x_2 \\leq 0, x_3 \\text{ free}.\n",
    "\\end{align}\n",
    "\n",
    "Find the dual of the dual and thereby show that the dual of the dual is the primal."
   ]
  },
  {
   "cell_type": "markdown",
   "metadata": {},
   "source": [
    "Dual \n",
    "\n",
    "\\begin{align}\n",
    "    \\text{maximize }&b_1y_1 + b_2y_2 + b_3y_3 \\\\\n",
    "    \\text{subject to }\n",
    "    &a_{11}y_1 + a_{21}y_2 + a_{31}y_3 \\leq c_1 \\\\\n",
    "    &a_{12}y_1 + a_{22}y_2 + a_{32}y_3 \\geq c_2 \\\\\n",
    "    &a_{13}y_1 + a_{23}y_2 + a_{33}y_3 = c_3 \\\\\n",
    "    &y_1 \\leq 0, y_2 \\text{ free}, y_3 \\geq 0.\n",
    "\\end{align}"
   ]
  },
  {
   "cell_type": "markdown",
   "metadata": {},
   "source": [
    "Dual of Dual\n",
    "\n",
    "\\begin{align}\n",
    "    \\text{minimize }&c_1x_1 + c_2x_2 + c_3x_3 \\\\\n",
    "    \\text{subject to }\n",
    "    &a_{11}x_1 + a_{12}x_2 + a_{13}x_3 \\geq b_1 \\\\\n",
    "    &a_{21}x_1 + a_{22}x_2 + a_{23}x_3 = b_2 \\\\\n",
    "    &a_{31}x_1 + a_{32}x_2 + a_{33}x_3 \\leq b_3 \\\\\n",
    "    &x_1 \\geq 0, x_2 \\leq 0, x_3 \\text{ free}.\n",
    "\\end{align}"
   ]
  },
  {
   "cell_type": "markdown",
   "metadata": {},
   "source": [
    "$\\therefore$ Dual of the Dual is the primal."
   ]
  },
  {
   "cell_type": "markdown",
   "metadata": {},
   "source": [
    "### 5.6\n",
    "\n",
    "Consider the linear program\n",
    "\n",
    "\\begin{align}\n",
    "    \\text{minimize }&c^\\top x \\\\\n",
    "    \\text{subject to }\n",
    "    &Ax \\geq b \\\\\n",
    "    &x \\geq 0\n",
    "\\end{align}\n",
    "\n",
    "in which\n",
    "\n",
    "\\begin{equation*}\n",
    "    A = \n",
    "    \\begin{bmatrix}\n",
    "    3 & -1 & 2 \\\\\n",
    "    4 & 5 & 0 \\\\\n",
    "    -6 & 9 & 5 \\\\\n",
    "    1 & 1 & 1 \\\\\n",
    "    \\end{bmatrix}\n",
    "    \\,\\,,\\,\\,\n",
    "    b = \n",
    "    \\begin{bmatrix}\n",
    "    15 \\\\\n",
    "    8 \\\\\n",
    "    13 \\\\\n",
    "    4 \\\\\n",
    "    \\end{bmatrix}\n",
    "    \\,\\,,\\,\\,\n",
    "    c = \n",
    "    \\begin{bmatrix}\n",
    "    2 \\\\\n",
    "    3 \\\\\n",
    "    5 \\\\\n",
    "    \\end{bmatrix}\n",
    "\\end{equation*}\n",
    "\n",
    "Use the optimality criteria (see page 127) to decide whether or not $\\bar{x} = (2,0,5)$ is an optimal solution of the LP. [Hint: Assume that $\\bar{x}$ is an optimal solution. Use the necessary conditions of optimality to determine what the vector $\\bar{y}$ would have to be. Check to make sure that all the conditions of optimality are met.]"
   ]
  },
  {
   "cell_type": "markdown",
   "metadata": {},
   "source": [
    "Dual\n",
    "\n",
    "\\begin{align}\n",
    "    \\text{maximize }&b^\\top y \\\\\n",
    "    \\text{subject to }\n",
    "    &A^\\top y \\leq c \\\\\n",
    "    &y \\geq 0\n",
    "\\end{align}"
   ]
  },
  {
   "cell_type": "code",
   "execution_count": 2,
   "metadata": {},
   "outputs": [
    {
     "data": {
      "application/javascript": [
       "\n",
       "            setTimeout(function() {\n",
       "                var nbb_cell_id = 2;\n",
       "                var nbb_unformatted_code = \"A = np.array([[3, -1, 2], [4, 5, 0], [-6, 9, 5], [1, 1, 1]])\\nb = np.array([15, 8, 13, 4])\\nc = np.array([2, 3, 5])\\nx_bar = np.array([2, 0, 5])\";\n",
       "                var nbb_formatted_code = \"A = np.array([[3, -1, 2], [4, 5, 0], [-6, 9, 5], [1, 1, 1]])\\nb = np.array([15, 8, 13, 4])\\nc = np.array([2, 3, 5])\\nx_bar = np.array([2, 0, 5])\";\n",
       "                var nbb_cells = Jupyter.notebook.get_cells();\n",
       "                for (var i = 0; i < nbb_cells.length; ++i) {\n",
       "                    if (nbb_cells[i].input_prompt_number == nbb_cell_id) {\n",
       "                        if (nbb_cells[i].get_text() == nbb_unformatted_code) {\n",
       "                             nbb_cells[i].set_text(nbb_formatted_code);\n",
       "                        }\n",
       "                        break;\n",
       "                    }\n",
       "                }\n",
       "            }, 500);\n",
       "            "
      ],
      "text/plain": [
       "<IPython.core.display.Javascript object>"
      ]
     },
     "metadata": {},
     "output_type": "display_data"
    }
   ],
   "source": [
    "A = np.array([[3, -1, 2], [4, 5, 0], [-6, 9, 5], [1, 1, 1]])\n",
    "b = np.array([15, 8, 13, 4])\n",
    "c = np.array([2, 3, 5])\n",
    "x_bar = np.array([2, 0, 5])"
   ]
  },
  {
   "cell_type": "code",
   "execution_count": 3,
   "metadata": {},
   "outputs": [
    {
     "name": "stdout",
     "output_type": "stream",
     "text": [
      "Linear Programming Solution\n",
      "==============================\n",
      "Status: optimal\n",
      "The optimal value is: 27.59\n",
      "The optimal solution is: x = [1.89, 0.09, 4.71]\n"
     ]
    },
    {
     "data": {
      "application/javascript": [
       "\n",
       "            setTimeout(function() {\n",
       "                var nbb_cell_id = 3;\n",
       "                var nbb_unformatted_code = \"# Create one vector optimization variable.\\nx = cp.Variable((3,), integer=False)\\n\\n# Create constraints.\\nconstraints = [\\n    A @ x >= b,\\n    x >= 0,\\n]\\n\\n# Form objective.\\nobj = cp.Minimize(c.T @ x)\\n\\n# Form and solve problem.\\nprob = cp.Problem(obj, constraints)\\nprob.solve()\\n\\nprint(\\\"Linear Programming Solution\\\")\\nprint(\\\"=\\\" * 30)\\nprint(f\\\"Status: {prob.status}\\\")\\nprint(f\\\"The optimal value is: {np.round(prob.value, 2)}\\\")\\nprint(f\\\"The optimal solution is: x = {[np.round(x_i, 2) for x_i in x.value]}\\\")\";\n",
       "                var nbb_formatted_code = \"# Create one vector optimization variable.\\nx = cp.Variable((3,), integer=False)\\n\\n# Create constraints.\\nconstraints = [\\n    A @ x >= b,\\n    x >= 0,\\n]\\n\\n# Form objective.\\nobj = cp.Minimize(c.T @ x)\\n\\n# Form and solve problem.\\nprob = cp.Problem(obj, constraints)\\nprob.solve()\\n\\nprint(\\\"Linear Programming Solution\\\")\\nprint(\\\"=\\\" * 30)\\nprint(f\\\"Status: {prob.status}\\\")\\nprint(f\\\"The optimal value is: {np.round(prob.value, 2)}\\\")\\nprint(f\\\"The optimal solution is: x = {[np.round(x_i, 2) for x_i in x.value]}\\\")\";\n",
       "                var nbb_cells = Jupyter.notebook.get_cells();\n",
       "                for (var i = 0; i < nbb_cells.length; ++i) {\n",
       "                    if (nbb_cells[i].input_prompt_number == nbb_cell_id) {\n",
       "                        if (nbb_cells[i].get_text() == nbb_unformatted_code) {\n",
       "                             nbb_cells[i].set_text(nbb_formatted_code);\n",
       "                        }\n",
       "                        break;\n",
       "                    }\n",
       "                }\n",
       "            }, 500);\n",
       "            "
      ],
      "text/plain": [
       "<IPython.core.display.Javascript object>"
      ]
     },
     "metadata": {},
     "output_type": "display_data"
    }
   ],
   "source": [
    "# Create one vector optimization variable.\n",
    "x = cp.Variable((3,), integer=False)\n",
    "\n",
    "# Create constraints.\n",
    "constraints = [\n",
    "    A @ x >= b,\n",
    "    x >= 0,\n",
    "]\n",
    "\n",
    "# Form objective.\n",
    "obj = cp.Minimize(c.T @ x)\n",
    "\n",
    "# Form and solve problem.\n",
    "prob = cp.Problem(obj, constraints)\n",
    "prob.solve()\n",
    "\n",
    "print(\"Linear Programming Solution\")\n",
    "print(\"=\" * 30)\n",
    "print(f\"Status: {prob.status}\")\n",
    "print(f\"The optimal value is: {np.round(prob.value, 2)}\")\n",
    "print(f\"The optimal solution is: x = {[np.round(x_i, 2) for x_i in x.value]}\")"
   ]
  },
  {
   "cell_type": "markdown",
   "metadata": {},
   "source": [
    "We will recover the Dual Optimal solution $\\bar{y}$ from Primal Optimal Solution $\\bar{x}$ using the Complementary Slackness Theorem:"
   ]
  },
  {
   "cell_type": "code",
   "execution_count": 4,
   "metadata": {},
   "outputs": [
    {
     "data": {
      "text/plain": [
       "array([16,  8, 13,  7])"
      ]
     },
     "execution_count": 4,
     "metadata": {},
     "output_type": "execute_result"
    },
    {
     "data": {
      "application/javascript": [
       "\n",
       "            setTimeout(function() {\n",
       "                var nbb_cell_id = 4;\n",
       "                var nbb_unformatted_code = \"A @ x_bar\";\n",
       "                var nbb_formatted_code = \"A @ x_bar\";\n",
       "                var nbb_cells = Jupyter.notebook.get_cells();\n",
       "                for (var i = 0; i < nbb_cells.length; ++i) {\n",
       "                    if (nbb_cells[i].input_prompt_number == nbb_cell_id) {\n",
       "                        if (nbb_cells[i].get_text() == nbb_unformatted_code) {\n",
       "                             nbb_cells[i].set_text(nbb_formatted_code);\n",
       "                        }\n",
       "                        break;\n",
       "                    }\n",
       "                }\n",
       "            }, 500);\n",
       "            "
      ],
      "text/plain": [
       "<IPython.core.display.Javascript object>"
      ]
     },
     "metadata": {},
     "output_type": "display_data"
    }
   ],
   "source": [
    "A @ x_bar"
   ]
  },
  {
   "cell_type": "code",
   "execution_count": 5,
   "metadata": {},
   "outputs": [
    {
     "data": {
      "text/plain": [
       "array([15,  8, 13,  4])"
      ]
     },
     "execution_count": 5,
     "metadata": {},
     "output_type": "execute_result"
    },
    {
     "data": {
      "application/javascript": [
       "\n",
       "            setTimeout(function() {\n",
       "                var nbb_cell_id = 5;\n",
       "                var nbb_unformatted_code = \"b\";\n",
       "                var nbb_formatted_code = \"b\";\n",
       "                var nbb_cells = Jupyter.notebook.get_cells();\n",
       "                for (var i = 0; i < nbb_cells.length; ++i) {\n",
       "                    if (nbb_cells[i].input_prompt_number == nbb_cell_id) {\n",
       "                        if (nbb_cells[i].get_text() == nbb_unformatted_code) {\n",
       "                             nbb_cells[i].set_text(nbb_formatted_code);\n",
       "                        }\n",
       "                        break;\n",
       "                    }\n",
       "                }\n",
       "            }, 500);\n",
       "            "
      ],
      "text/plain": [
       "<IPython.core.display.Javascript object>"
      ]
     },
     "metadata": {},
     "output_type": "display_data"
    }
   ],
   "source": [
    "b"
   ]
  },
  {
   "cell_type": "markdown",
   "metadata": {},
   "source": [
    "$\\therefore$ primal feasibility."
   ]
  },
  {
   "cell_type": "markdown",
   "metadata": {},
   "source": [
    "Adding the primal slack variables $s_j, j \\in [1,2,3,4]$ into the optimal primal solution $\\bar{x}$:\n",
    "\n",
    "\\begin{align}\n",
    "    x_1 &= 2 \\\\\n",
    "    x_2 &= 0 \\\\\n",
    "    x_3 &= 5 \\\\\n",
    "    s_1 &= 1 \\\\\n",
    "    s_2 &= 0 \\\\\n",
    "    s_3 &= 0 \\\\\n",
    "    s_4 &= 3 \\\\\n",
    "\\end{align}\n",
    "\n",
    "By Complementary Slackness, we know that the optimal dual solution with dual slack variables $t_k, k \\in [1,2,3]$:\n",
    "\n",
    "\\begin{align}\n",
    "    y_1 &= 0 \\because s_1\\not=0 \\\\\n",
    "    y_2 &\\not= 0 \\because s_2=0 \\\\\n",
    "    y_3 &\\not= 0 \\because s_3=0 \\\\\n",
    "    y_4 &= 0 \\because s_4\\not=0 \\\\\n",
    "    t_1 &= 0 \\because x_1\\not=0 \\\\\n",
    "    t_2 &\\not= 0 \\because x_2=0 \\\\\n",
    "    t_3 &= 0 \\because x_3\\not=0 \\\\\n",
    "\\end{align}"
   ]
  },
  {
   "cell_type": "markdown",
   "metadata": {},
   "source": [
    "Plugging values into the dual constraints:\n",
    "\n",
    "\\begin{align}\n",
    "    3(y_1=0) + 4y_2 - 6y_3 + 1(y_4=0) + (t_1=0) &= 2 \\\\\n",
    "    2(y_1=0) + 0y_2 + 5y_3 + 1(y_4=0) + (t_3=0) &= 5 \\\\\n",
    "    \\big\\downarrow \\\\\n",
    "    4y_2 - 6y_3 &= 2 \\\\\n",
    "    5y_3 &= 5 \\\\\n",
    "    \\big\\downarrow \\\\\n",
    "    \\therefore y_2 = 2 \\text{ and }& y_3 = 1\n",
    "\\end{align}"
   ]
  },
  {
   "cell_type": "markdown",
   "metadata": {},
   "source": [
    "$\\therefore$ Dual Optimal Solution $\\bar{y}$:\n",
    "\n",
    "\\begin{align}\n",
    "    y_1 &= 0 \\\\\n",
    "    y_2 &= 2 \\\\\n",
    "    y_3 &= 1 \\\\\n",
    "    y_4 &= 0 \\\\\n",
    "    t_1 &= 0 \\\\\n",
    "    t_2 &= -16 \\\\\n",
    "    t_3 &= 0 \\\\\n",
    "\\end{align}"
   ]
  },
  {
   "cell_type": "code",
   "execution_count": 6,
   "metadata": {},
   "outputs": [
    {
     "data": {
      "application/javascript": [
       "\n",
       "            setTimeout(function() {\n",
       "                var nbb_cell_id = 6;\n",
       "                var nbb_unformatted_code = \"y_bar = np.array([0, 2, 1, 0])\";\n",
       "                var nbb_formatted_code = \"y_bar = np.array([0, 2, 1, 0])\";\n",
       "                var nbb_cells = Jupyter.notebook.get_cells();\n",
       "                for (var i = 0; i < nbb_cells.length; ++i) {\n",
       "                    if (nbb_cells[i].input_prompt_number == nbb_cell_id) {\n",
       "                        if (nbb_cells[i].get_text() == nbb_unformatted_code) {\n",
       "                             nbb_cells[i].set_text(nbb_formatted_code);\n",
       "                        }\n",
       "                        break;\n",
       "                    }\n",
       "                }\n",
       "            }, 500);\n",
       "            "
      ],
      "text/plain": [
       "<IPython.core.display.Javascript object>"
      ]
     },
     "metadata": {},
     "output_type": "display_data"
    }
   ],
   "source": [
    "y_bar = np.array([0, 2, 1, 0])"
   ]
  },
  {
   "cell_type": "markdown",
   "metadata": {},
   "source": [
    "A vector $\\bar{x}$ is optimal iff $\\exists \\bar{y}$ such that the following 4 optimality conditions hold:"
   ]
  },
  {
   "cell_type": "markdown",
   "metadata": {},
   "source": [
    "#### Primal Feasibility $A\\bar{x} \\geq b, \\bar{x} \\geq 0$"
   ]
  },
  {
   "cell_type": "code",
   "execution_count": 7,
   "metadata": {
    "scrolled": true
   },
   "outputs": [
    {
     "name": "stdout",
     "output_type": "stream",
     "text": [
      "Primal Feasible!\n"
     ]
    },
    {
     "data": {
      "application/javascript": [
       "\n",
       "            setTimeout(function() {\n",
       "                var nbb_cell_id = 7;\n",
       "                var nbb_unformatted_code = \"print(\\n    f\\\"Primal Feasible!\\\"\\n    if np.alltrue(A @ x_bar >= b) & np.alltrue(x_bar >= 0)\\n    else \\\"Primal Infeasible!\\\"\\n)\";\n",
       "                var nbb_formatted_code = \"print(\\n    f\\\"Primal Feasible!\\\"\\n    if np.alltrue(A @ x_bar >= b) & np.alltrue(x_bar >= 0)\\n    else \\\"Primal Infeasible!\\\"\\n)\";\n",
       "                var nbb_cells = Jupyter.notebook.get_cells();\n",
       "                for (var i = 0; i < nbb_cells.length; ++i) {\n",
       "                    if (nbb_cells[i].input_prompt_number == nbb_cell_id) {\n",
       "                        if (nbb_cells[i].get_text() == nbb_unformatted_code) {\n",
       "                             nbb_cells[i].set_text(nbb_formatted_code);\n",
       "                        }\n",
       "                        break;\n",
       "                    }\n",
       "                }\n",
       "            }, 500);\n",
       "            "
      ],
      "text/plain": [
       "<IPython.core.display.Javascript object>"
      ]
     },
     "metadata": {},
     "output_type": "display_data"
    }
   ],
   "source": [
    "print(\n",
    "    f\"Primal Feasible!\"\n",
    "    if np.alltrue(A @ x_bar >= b) & np.alltrue(x_bar >= 0)\n",
    "    else \"Primal Infeasible!\"\n",
    ")"
   ]
  },
  {
   "cell_type": "markdown",
   "metadata": {},
   "source": [
    "#### Dual Feasibility $\\bar{y}^\\top A \\leq c^\\top, \\bar{y} \\geq 0$"
   ]
  },
  {
   "cell_type": "code",
   "execution_count": 8,
   "metadata": {},
   "outputs": [
    {
     "name": "stdout",
     "output_type": "stream",
     "text": [
      "Dual Infeasible!\n"
     ]
    },
    {
     "data": {
      "application/javascript": [
       "\n",
       "            setTimeout(function() {\n",
       "                var nbb_cell_id = 8;\n",
       "                var nbb_unformatted_code = \"print(\\n    f\\\"Dual Feasible!\\\"\\n    if np.alltrue(y_bar.T @ A <= c.T) & np.alltrue(y_bar >= 0)\\n    else \\\"Dual Infeasible!\\\"\\n)\";\n",
       "                var nbb_formatted_code = \"print(\\n    f\\\"Dual Feasible!\\\"\\n    if np.alltrue(y_bar.T @ A <= c.T) & np.alltrue(y_bar >= 0)\\n    else \\\"Dual Infeasible!\\\"\\n)\";\n",
       "                var nbb_cells = Jupyter.notebook.get_cells();\n",
       "                for (var i = 0; i < nbb_cells.length; ++i) {\n",
       "                    if (nbb_cells[i].input_prompt_number == nbb_cell_id) {\n",
       "                        if (nbb_cells[i].get_text() == nbb_unformatted_code) {\n",
       "                             nbb_cells[i].set_text(nbb_formatted_code);\n",
       "                        }\n",
       "                        break;\n",
       "                    }\n",
       "                }\n",
       "            }, 500);\n",
       "            "
      ],
      "text/plain": [
       "<IPython.core.display.Javascript object>"
      ]
     },
     "metadata": {},
     "output_type": "display_data"
    }
   ],
   "source": [
    "print(\n",
    "    f\"Dual Feasible!\"\n",
    "    if np.alltrue(y_bar.T @ A <= c.T) & np.alltrue(y_bar >= 0)\n",
    "    else \"Dual Infeasible!\"\n",
    ")"
   ]
  },
  {
   "cell_type": "markdown",
   "metadata": {},
   "source": [
    "#### Complementary Slackness 1:  $\\bar{y}^\\top (A\\bar{x} - b) = 0 \\because$ if primal slack variables $\\not= 0$, dual variables $= 0$, vice versa"
   ]
  },
  {
   "cell_type": "code",
   "execution_count": 9,
   "metadata": {},
   "outputs": [
    {
     "name": "stdout",
     "output_type": "stream",
     "text": [
      "1st Complementary Slackness Passed!\n"
     ]
    },
    {
     "data": {
      "application/javascript": [
       "\n",
       "            setTimeout(function() {\n",
       "                var nbb_cell_id = 9;\n",
       "                var nbb_unformatted_code = \"print(\\n    f\\\"1st Complementary Slackness Passed!\\\"\\n    if y_bar.T @ (A @ x_bar - b) == 0\\n    else f\\\"1st Complementary Slackness Failed!\\\"\\n)\";\n",
       "                var nbb_formatted_code = \"print(\\n    f\\\"1st Complementary Slackness Passed!\\\"\\n    if y_bar.T @ (A @ x_bar - b) == 0\\n    else f\\\"1st Complementary Slackness Failed!\\\"\\n)\";\n",
       "                var nbb_cells = Jupyter.notebook.get_cells();\n",
       "                for (var i = 0; i < nbb_cells.length; ++i) {\n",
       "                    if (nbb_cells[i].input_prompt_number == nbb_cell_id) {\n",
       "                        if (nbb_cells[i].get_text() == nbb_unformatted_code) {\n",
       "                             nbb_cells[i].set_text(nbb_formatted_code);\n",
       "                        }\n",
       "                        break;\n",
       "                    }\n",
       "                }\n",
       "            }, 500);\n",
       "            "
      ],
      "text/plain": [
       "<IPython.core.display.Javascript object>"
      ]
     },
     "metadata": {},
     "output_type": "display_data"
    }
   ],
   "source": [
    "print(\n",
    "    f\"1st Complementary Slackness Passed!\"\n",
    "    if y_bar.T @ (A @ x_bar - b) == 0\n",
    "    else f\"1st Complementary Slackness Failed!\"\n",
    ")"
   ]
  },
  {
   "cell_type": "markdown",
   "metadata": {},
   "source": [
    "#### Complementary Slackness 2:  $(\\bar{y}^\\top A - c^\\top)\\bar{x} = 0 \\because$ if dual slack variables $\\not= 0$, primal variables $= 0$, vice versa"
   ]
  },
  {
   "cell_type": "code",
   "execution_count": 10,
   "metadata": {},
   "outputs": [
    {
     "name": "stdout",
     "output_type": "stream",
     "text": [
      "2nd Complementary Slackness Passed!\n"
     ]
    },
    {
     "data": {
      "application/javascript": [
       "\n",
       "            setTimeout(function() {\n",
       "                var nbb_cell_id = 10;\n",
       "                var nbb_unformatted_code = \"print(\\n    f\\\"2nd Complementary Slackness Passed!\\\"\\n    if (y_bar.T @ A - c.T) @ x_bar == 0\\n    else f\\\"2nd Complementary Slackness Failed!\\\"\\n)\";\n",
       "                var nbb_formatted_code = \"print(\\n    f\\\"2nd Complementary Slackness Passed!\\\"\\n    if (y_bar.T @ A - c.T) @ x_bar == 0\\n    else f\\\"2nd Complementary Slackness Failed!\\\"\\n)\";\n",
       "                var nbb_cells = Jupyter.notebook.get_cells();\n",
       "                for (var i = 0; i < nbb_cells.length; ++i) {\n",
       "                    if (nbb_cells[i].input_prompt_number == nbb_cell_id) {\n",
       "                        if (nbb_cells[i].get_text() == nbb_unformatted_code) {\n",
       "                             nbb_cells[i].set_text(nbb_formatted_code);\n",
       "                        }\n",
       "                        break;\n",
       "                    }\n",
       "                }\n",
       "            }, 500);\n",
       "            "
      ],
      "text/plain": [
       "<IPython.core.display.Javascript object>"
      ]
     },
     "metadata": {},
     "output_type": "display_data"
    }
   ],
   "source": [
    "print(\n",
    "    f\"2nd Complementary Slackness Passed!\"\n",
    "    if (y_bar.T @ A - c.T) @ x_bar == 0\n",
    "    else f\"2nd Complementary Slackness Failed!\"\n",
    ")"
   ]
  },
  {
   "cell_type": "markdown",
   "metadata": {},
   "source": [
    "Since the dual feasibility optimality condition failed, $\\bar{x}$ is not an optimal solution."
   ]
  },
  {
   "cell_type": "markdown",
   "metadata": {},
   "source": [
    "### 5.8\n",
    "\n",
    "Consider the linear program\n",
    "\n",
    "\\begin{align}\n",
    "    \\text{minimize } &37x_1 + 29x_2 + 33x_3 \\\\\n",
    "    \\text{subject to } \n",
    "    &x_2 + x_3 \\geq 1 \\\\\n",
    "    &x_1 + x_2 \\geq 1 \\\\\n",
    "    &x_1 + x_2 + x_3 \\geq 1 \\\\\n",
    "    &x_1 + x_3 \\geq 1 \\\\\n",
    "    &x_j \\geq 0, j=1,2,3.\n",
    "\\end{align}"
   ]
  },
  {
   "cell_type": "markdown",
   "metadata": {},
   "source": [
    "Dual\n",
    "\n",
    "\\begin{align}\n",
    "    \\text{maximize } &y_1 + y_2 + y_3 + y_4 \\\\\n",
    "    \\text{subject to } \n",
    "    &0y_1 + y_2 + y_3 + y_4 \\leq 37 \\\\\n",
    "    &y_1 + y_2 + y_3 + 0y_4 \\leq 29 \\\\\n",
    "    &y_1 + 0y_2 + y_3 + y_4 \\leq 33 \\\\\n",
    "    &y_k \\geq 0, k=1,2,3.\n",
    "\\end{align}"
   ]
  },
  {
   "cell_type": "code",
   "execution_count": 11,
   "metadata": {},
   "outputs": [
    {
     "data": {
      "application/javascript": [
       "\n",
       "            setTimeout(function() {\n",
       "                var nbb_cell_id = 11;\n",
       "                var nbb_unformatted_code = \"A = np.array(\\n    [\\n        [0, -1, -1, 1, 0, 0, 0],\\n        [-1, -1, 0, 0, 1, 0, 0],\\n        [-1, -1, -1, 0, 0, 1, 0],\\n        [-1, 0, -1, 0, 0, 0, 1],\\n    ]\\n)\\nb = np.array([-1, -1, -1, -1])\\nc = np.array([37, 29, 33, 0, 0, 0, 0])\";\n",
       "                var nbb_formatted_code = \"A = np.array(\\n    [\\n        [0, -1, -1, 1, 0, 0, 0],\\n        [-1, -1, 0, 0, 1, 0, 0],\\n        [-1, -1, -1, 0, 0, 1, 0],\\n        [-1, 0, -1, 0, 0, 0, 1],\\n    ]\\n)\\nb = np.array([-1, -1, -1, -1])\\nc = np.array([37, 29, 33, 0, 0, 0, 0])\";\n",
       "                var nbb_cells = Jupyter.notebook.get_cells();\n",
       "                for (var i = 0; i < nbb_cells.length; ++i) {\n",
       "                    if (nbb_cells[i].input_prompt_number == nbb_cell_id) {\n",
       "                        if (nbb_cells[i].get_text() == nbb_unformatted_code) {\n",
       "                             nbb_cells[i].set_text(nbb_formatted_code);\n",
       "                        }\n",
       "                        break;\n",
       "                    }\n",
       "                }\n",
       "            }, 500);\n",
       "            "
      ],
      "text/plain": [
       "<IPython.core.display.Javascript object>"
      ]
     },
     "metadata": {},
     "output_type": "display_data"
    }
   ],
   "source": [
    "A = np.array(\n",
    "    [\n",
    "        [0, -1, -1, 1, 0, 0, 0],\n",
    "        [-1, -1, 0, 0, 1, 0, 0],\n",
    "        [-1, -1, -1, 0, 0, 1, 0],\n",
    "        [-1, 0, -1, 0, 0, 0, 1],\n",
    "    ]\n",
    ")\n",
    "b = np.array([-1, -1, -1, -1])\n",
    "c = np.array([37, 29, 33, 0, 0, 0, 0])"
   ]
  },
  {
   "cell_type": "code",
   "execution_count": 12,
   "metadata": {},
   "outputs": [
    {
     "name": "stdout",
     "output_type": "stream",
     "text": [
      "Linear Programming Solution\n",
      "==============================\n",
      "Status: optimal\n",
      "The optimal value is: 49.5\n",
      "The optimal solution is: x = [0.5, 0.5, 0.5, -0.0, 0.0, 0.5, -0.0]\n"
     ]
    },
    {
     "data": {
      "application/javascript": [
       "\n",
       "            setTimeout(function() {\n",
       "                var nbb_cell_id = 12;\n",
       "                var nbb_unformatted_code = \"# Create one vector optimization variable.\\nx = cp.Variable((7,), integer=False)\\n\\n# Create constraints.\\nconstraints = [\\n    A @ x == b,\\n    x >= 0,\\n]\\n\\n# Form objective.\\nobj = cp.Minimize(c.T @ x)\\n\\n# Form and solve problem.\\nprob = cp.Problem(obj, constraints)\\nprob.solve()\\n\\nprint(\\\"Linear Programming Solution\\\")\\nprint(\\\"=\\\" * 30)\\nprint(f\\\"Status: {prob.status}\\\")\\nprint(f\\\"The optimal value is: {np.round(prob.value, 2)}\\\")\\nprint(f\\\"The optimal solution is: x = {[np.round(x_i, 2) for x_i in x.value]}\\\")\";\n",
       "                var nbb_formatted_code = \"# Create one vector optimization variable.\\nx = cp.Variable((7,), integer=False)\\n\\n# Create constraints.\\nconstraints = [\\n    A @ x == b,\\n    x >= 0,\\n]\\n\\n# Form objective.\\nobj = cp.Minimize(c.T @ x)\\n\\n# Form and solve problem.\\nprob = cp.Problem(obj, constraints)\\nprob.solve()\\n\\nprint(\\\"Linear Programming Solution\\\")\\nprint(\\\"=\\\" * 30)\\nprint(f\\\"Status: {prob.status}\\\")\\nprint(f\\\"The optimal value is: {np.round(prob.value, 2)}\\\")\\nprint(f\\\"The optimal solution is: x = {[np.round(x_i, 2) for x_i in x.value]}\\\")\";\n",
       "                var nbb_cells = Jupyter.notebook.get_cells();\n",
       "                for (var i = 0; i < nbb_cells.length; ++i) {\n",
       "                    if (nbb_cells[i].input_prompt_number == nbb_cell_id) {\n",
       "                        if (nbb_cells[i].get_text() == nbb_unformatted_code) {\n",
       "                             nbb_cells[i].set_text(nbb_formatted_code);\n",
       "                        }\n",
       "                        break;\n",
       "                    }\n",
       "                }\n",
       "            }, 500);\n",
       "            "
      ],
      "text/plain": [
       "<IPython.core.display.Javascript object>"
      ]
     },
     "metadata": {},
     "output_type": "display_data"
    }
   ],
   "source": [
    "# Create one vector optimization variable.\n",
    "x = cp.Variable((7,), integer=False)\n",
    "\n",
    "# Create constraints.\n",
    "constraints = [\n",
    "    A @ x == b,\n",
    "    x >= 0,\n",
    "]\n",
    "\n",
    "# Form objective.\n",
    "obj = cp.Minimize(c.T @ x)\n",
    "\n",
    "# Form and solve problem.\n",
    "prob = cp.Problem(obj, constraints)\n",
    "prob.solve()\n",
    "\n",
    "print(\"Linear Programming Solution\")\n",
    "print(\"=\" * 30)\n",
    "print(f\"Status: {prob.status}\")\n",
    "print(f\"The optimal value is: {np.round(prob.value, 2)}\")\n",
    "print(f\"The optimal solution is: x = {[np.round(x_i, 2) for x_i in x.value]}\")"
   ]
  },
  {
   "cell_type": "markdown",
   "metadata": {},
   "source": [
    "${c_B}^\\top B^{-1} N - c_N$"
   ]
  },
  {
   "cell_type": "code",
   "execution_count": 13,
   "metadata": {},
   "outputs": [
    {
     "data": {
      "text/plain": [
       "array([-12.5, -16.5, -20.5])"
      ]
     },
     "execution_count": 13,
     "metadata": {},
     "output_type": "execute_result"
    },
    {
     "data": {
      "application/javascript": [
       "\n",
       "            setTimeout(function() {\n",
       "                var nbb_cell_id = 13;\n",
       "                var nbb_unformatted_code = \"(c[[0, 1, 2, 5]].T @ np.linalg.inv(A[:, [0, 1, 2, 5]]) @ A[:, [3, 4, 6]]) - c[[3, 4, 6]]\";\n",
       "                var nbb_formatted_code = \"(c[[0, 1, 2, 5]].T @ np.linalg.inv(A[:, [0, 1, 2, 5]]) @ A[:, [3, 4, 6]]) - c[[3, 4, 6]]\";\n",
       "                var nbb_cells = Jupyter.notebook.get_cells();\n",
       "                for (var i = 0; i < nbb_cells.length; ++i) {\n",
       "                    if (nbb_cells[i].input_prompt_number == nbb_cell_id) {\n",
       "                        if (nbb_cells[i].get_text() == nbb_unformatted_code) {\n",
       "                             nbb_cells[i].set_text(nbb_formatted_code);\n",
       "                        }\n",
       "                        break;\n",
       "                    }\n",
       "                }\n",
       "            }, 500);\n",
       "            "
      ],
      "text/plain": [
       "<IPython.core.display.Javascript object>"
      ]
     },
     "metadata": {},
     "output_type": "display_data"
    }
   ],
   "source": [
    "(c[[0, 1, 2, 5]].T @ np.linalg.inv(A[:, [0, 1, 2, 5]]) @ A[:, [3, 4, 6]]) - c[[3, 4, 6]]"
   ]
  },
  {
   "cell_type": "markdown",
   "metadata": {},
   "source": [
    "Since reduced cost coefficients are <= 0 for minimization problem, solution is optimal."
   ]
  },
  {
   "cell_type": "markdown",
   "metadata": {},
   "source": [
    "$B^{-1}N$"
   ]
  },
  {
   "cell_type": "code",
   "execution_count": 14,
   "metadata": {},
   "outputs": [
    {
     "data": {
      "text/plain": [
       "array([[ 0.5, -0.5, -0.5],\n",
       "       [-0.5, -0.5,  0.5],\n",
       "       [-0.5,  0.5, -0.5],\n",
       "       [-0.5, -0.5, -0.5]])"
      ]
     },
     "execution_count": 14,
     "metadata": {},
     "output_type": "execute_result"
    },
    {
     "data": {
      "application/javascript": [
       "\n",
       "            setTimeout(function() {\n",
       "                var nbb_cell_id = 14;\n",
       "                var nbb_unformatted_code = \"np.linalg.inv(A[:, [0, 1, 2, 5]]) @ A[:, [3, 4, 6]]\";\n",
       "                var nbb_formatted_code = \"np.linalg.inv(A[:, [0, 1, 2, 5]]) @ A[:, [3, 4, 6]]\";\n",
       "                var nbb_cells = Jupyter.notebook.get_cells();\n",
       "                for (var i = 0; i < nbb_cells.length; ++i) {\n",
       "                    if (nbb_cells[i].input_prompt_number == nbb_cell_id) {\n",
       "                        if (nbb_cells[i].get_text() == nbb_unformatted_code) {\n",
       "                             nbb_cells[i].set_text(nbb_formatted_code);\n",
       "                        }\n",
       "                        break;\n",
       "                    }\n",
       "                }\n",
       "            }, 500);\n",
       "            "
      ],
      "text/plain": [
       "<IPython.core.display.Javascript object>"
      ]
     },
     "metadata": {},
     "output_type": "display_data"
    }
   ],
   "source": [
    "np.linalg.inv(A[:, [0, 1, 2, 5]]) @ A[:, [3, 4, 6]]"
   ]
  },
  {
   "cell_type": "markdown",
   "metadata": {},
   "source": [
    "$B^{-1}b$"
   ]
  },
  {
   "cell_type": "code",
   "execution_count": 15,
   "metadata": {},
   "outputs": [
    {
     "data": {
      "text/plain": [
       "array([0.5, 0.5, 0.5, 0.5])"
      ]
     },
     "execution_count": 15,
     "metadata": {},
     "output_type": "execute_result"
    },
    {
     "data": {
      "application/javascript": [
       "\n",
       "            setTimeout(function() {\n",
       "                var nbb_cell_id = 15;\n",
       "                var nbb_unformatted_code = \"np.linalg.inv(A[:, [0, 1, 2, 5]]) @ b\";\n",
       "                var nbb_formatted_code = \"np.linalg.inv(A[:, [0, 1, 2, 5]]) @ b\";\n",
       "                var nbb_cells = Jupyter.notebook.get_cells();\n",
       "                for (var i = 0; i < nbb_cells.length; ++i) {\n",
       "                    if (nbb_cells[i].input_prompt_number == nbb_cell_id) {\n",
       "                        if (nbb_cells[i].get_text() == nbb_unformatted_code) {\n",
       "                             nbb_cells[i].set_text(nbb_formatted_code);\n",
       "                        }\n",
       "                        break;\n",
       "                    }\n",
       "                }\n",
       "            }, 500);\n",
       "            "
      ],
      "text/plain": [
       "<IPython.core.display.Javascript object>"
      ]
     },
     "metadata": {},
     "output_type": "display_data"
    }
   ],
   "source": [
    "np.linalg.inv(A[:, [0, 1, 2, 5]]) @ b"
   ]
  },
  {
   "cell_type": "markdown",
   "metadata": {},
   "source": [
    "${c_B}^\\top  B^{-1}b$"
   ]
  },
  {
   "cell_type": "code",
   "execution_count": 16,
   "metadata": {},
   "outputs": [
    {
     "data": {
      "text/plain": [
       "49.5"
      ]
     },
     "execution_count": 16,
     "metadata": {},
     "output_type": "execute_result"
    },
    {
     "data": {
      "application/javascript": [
       "\n",
       "            setTimeout(function() {\n",
       "                var nbb_cell_id = 16;\n",
       "                var nbb_unformatted_code = \"c[[0, 1, 2, 5]].T @ np.linalg.inv(A[:, [0, 1, 2, 5]]) @ b\";\n",
       "                var nbb_formatted_code = \"c[[0, 1, 2, 5]].T @ np.linalg.inv(A[:, [0, 1, 2, 5]]) @ b\";\n",
       "                var nbb_cells = Jupyter.notebook.get_cells();\n",
       "                for (var i = 0; i < nbb_cells.length; ++i) {\n",
       "                    if (nbb_cells[i].input_prompt_number == nbb_cell_id) {\n",
       "                        if (nbb_cells[i].get_text() == nbb_unformatted_code) {\n",
       "                             nbb_cells[i].set_text(nbb_formatted_code);\n",
       "                        }\n",
       "                        break;\n",
       "                    }\n",
       "                }\n",
       "            }, 500);\n",
       "            "
      ],
      "text/plain": [
       "<IPython.core.display.Javascript object>"
      ]
     },
     "metadata": {},
     "output_type": "display_data"
    }
   ],
   "source": [
    "c[[0, 1, 2, 5]].T @ np.linalg.inv(A[:, [0, 1, 2, 5]]) @ b"
   ]
  },
  {
   "cell_type": "markdown",
   "metadata": {},
   "source": [
    "**(a) Use the Dual Simplex Algorithm to solve this LP.**"
   ]
  },
  {
   "cell_type": "markdown",
   "metadata": {},
   "source": [
    "To use the Dual Simplex method, we have to fulfill the \n",
    "1. Optimality condition (all reduced cost coefficients $<= 0$ for a minimization problem) and \n",
    "2. Infeasibility condition (RHS of constraints $< 0$)"
   ]
  },
  {
   "cell_type": "markdown",
   "metadata": {},
   "source": [
    "Simplex Tableau:\n",
    "\n",
    "\\begin{align}\n",
    "    &\\begin{array}{c}\n",
    "    \\\\\n",
    "    z \\\\ \n",
    "    s_1 \\\\\n",
    "    s_2 \\\\\n",
    "    s_3 \\\\\n",
    "    s_4 \\\\\n",
    "    \\end{array}\n",
    "    \\begin{bmatrix}\n",
    "    \\begin{array}{c|ccccccc|c}\n",
    "      z & x_1 & x_2 & x_3 & s_1 & s_2 & s_3 & s_4 & b \\\\ \\hline\n",
    "      1 & -37 & -29 & -33 & 0 & 0 & 0 & 0 & 0 \\\\ \\hline\n",
    "      0 & 0 & -1 & -1 & 1 & 0 & 0 & 0 & -1 \\\\\n",
    "      0 & -1 & -1 & 0 & 0 & 1 & 0 & 0 & -1 \\\\\n",
    "      0 & -1 & -1 & -1 & 0 & 0 & 1 & 0 & -1 \\\\\n",
    "      0 & -1 & 0 & -1 & 0 & 0 & 0 & 1 & -1 \\\\\n",
    "    \\end{array}\n",
    "    \\end{bmatrix} \\\\\n",
    "\\end{align}"
   ]
  },
  {
   "cell_type": "markdown",
   "metadata": {},
   "source": [
    "Since both conditions for Dual Simplex are satisfied, we can proceed."
   ]
  },
  {
   "cell_type": "markdown",
   "metadata": {},
   "source": [
    "\\begin{align}\n",
    "    \\text{Leaving Variable: }s_1\\,\\because < 0 \\text{ RHS constraint},\\,\\text{Entering Variable: }s_2\\,\\because \\text{argmax}\\Big(\\frac{-29}{1}, \\frac{-33}{1}\\Big) = x_2\n",
    "    \\rightarrow&\n",
    "    \\begin{array}{c}\n",
    "    \\\\\n",
    "    z \\\\ \n",
    "    x_2 \\\\\n",
    "    s_2 \\\\\n",
    "    s_3 \\\\\n",
    "    s_4 \\\\\n",
    "    \\end{array}\n",
    "    \\begin{bmatrix}\n",
    "    \\begin{array}{c|ccccccc|c}\n",
    "      z & x_1 & x_2 & x_3 & s_1 & s_2 & s_3 & s_4 & b \\\\ \\hline\n",
    "      1 & -37 & 0 & -4 & 29 & 0 & 0 & 0 & 29 \\\\ \\hline\n",
    "      0 & 0 & 1 & 1 & -1 & 0 & 0 & 0 & 1 \\\\\n",
    "      0 & -1 & 0 & 1 & -1 & 1 & 0 & 0 & 0 \\\\\n",
    "      0 & -1 & 0 & 0 & -1 & 0 & 1 & 0 & 0 \\\\\n",
    "      0 & -1 & 0 & -1 & 0 & 0 & 0 & 1 & -1 \\\\\n",
    "    \\end{array}\n",
    "    \\end{bmatrix} \\\\\n",
    "\\end{align}"
   ]
  },
  {
   "cell_type": "markdown",
   "metadata": {},
   "source": [
    "\\begin{align}\n",
    "    \\text{Leaving Variable: }s_4\\,\\because < 0 \\text{ RHS constraint},\\,\\text{Entering Variable: }s_2\\,\\because \\text{argmax}\\Big(\\frac{-37}{1}, \\frac{-4}{1}\\Big) = x_3\n",
    "    \\rightarrow&\n",
    "    \\begin{array}{c}\n",
    "    \\\\\n",
    "    z \\\\ \n",
    "    x_2 \\\\\n",
    "    s_2 \\\\\n",
    "    s_3 \\\\\n",
    "    x_3 \\\\\n",
    "    \\end{array}\n",
    "    \\begin{bmatrix}\n",
    "    \\begin{array}{c|ccccccc|c}\n",
    "      z & x_1 & x_2 & x_3 & s_1 & s_2 & s_3 & s_4 & b \\\\ \\hline\n",
    "      1 & -33 & 0 & 0 & 29 & 0 & 0 & -4 & 33 \\\\ \\hline\n",
    "      0 & -1 & 1 & 0 & -1 & 0 & 0 & 1 & 0 \\\\\n",
    "      0 & -2 & 0 & 0 & -1 & 1 & 0 & 1 & -1 \\\\\n",
    "      0 & -1 & 0 & 0 & -1 & 0 & 1 & 0 & 0 \\\\\n",
    "      0 & 1 & 0 & 1 & 0 & 0 & 0 & -1 & 1 \\\\\n",
    "    \\end{array}\n",
    "    \\end{bmatrix} \\\\\n",
    "\\end{align}"
   ]
  },
  {
   "cell_type": "markdown",
   "metadata": {},
   "source": [
    "\\begin{align}\n",
    "    \\text{Leaving Variable: }s_2\\,\\because < 0 \\text{ RHS constraint},\\,\\text{Entering Variable: }s_1\\,\\because \\text{argmax}\\Big(\\frac{-33}{2}, \\frac{29}{1}\\Big) = s_1\n",
    "    \\rightarrow&\n",
    "    \\begin{array}{c}\n",
    "    \\\\\n",
    "    z \\\\ \n",
    "    x_2 \\\\\n",
    "    s_1 \\\\\n",
    "    s_3 \\\\\n",
    "    x_3 \\\\\n",
    "    \\end{array}\n",
    "    \\begin{bmatrix}\n",
    "    \\begin{array}{c|ccccccc|c}\n",
    "      z & x_1 & x_2 & x_3 & s_1 & s_2 & s_3 & s_4 & b \\\\ \\hline\n",
    "      1 & -91 & 0 & 0 & 0 & 29 & 0 & 25 & 4 \\\\ \\hline\n",
    "      0 & 1 & 1 & 0 & 0 & -1 & 0 & 0 & 1 \\\\\n",
    "      0 & 2 & 0 & 0 & 1 & -1 & 0 & -1 & 1 \\\\\n",
    "      0 & 1 & 0 & 0 & 0 & -1 & 1 & -1 & 1 \\\\\n",
    "      0 & 1 & 0 & 1 & 0 & 0 & 0 & -1 & 1 \\\\\n",
    "    \\end{array}\n",
    "    \\end{bmatrix} \\\\\n",
    "\\end{align}"
   ]
  },
  {
   "cell_type": "markdown",
   "metadata": {},
   "source": [
    "Few more pivots and max ratio tests, when RHS $\\geq 0$ [FEASIBLE] and reduced cost coefficients <= 0 [OPTIMAL], the method terminates.\n",
    "\\begin{align}\n",
    "    \\vdots\n",
    "\\end{align}"
   ]
  },
  {
   "cell_type": "markdown",
   "metadata": {},
   "source": [
    "\\begin{align}\n",
    "    \\begin{array}{c}\n",
    "    \\\\\n",
    "    z \\\\ \n",
    "    x_1 \\\\\n",
    "    x_2 \\\\\n",
    "    x_3 \\\\\n",
    "    s_3 \\\\\n",
    "    \\end{array}\n",
    "    \\begin{bmatrix}\n",
    "    \\begin{array}{c|ccccccc|c}\n",
    "      z & x_1 & x_2 & x_3 & s_1 & s_2 & s_3 & s_4 & b \\\\ \\hline\n",
    "      49.5 & 0 & 0 & 0 & -12.5 & -16.5 & 0 & -20.5 & - \\\\ \\hline\n",
    "      0 & 1 & 0 & 0 & 0.5 & -0.5 & 0 & 0.5 & 0.5 \\\\\n",
    "      0 & 0 & 1 & 0 & -0.5 & -0.5 & 0 & 0.5 & 0.5 \\\\\n",
    "      0 & 0 & 0 & 1 & -0.5 & 0.5 & 0 & -0.5 & 0.5 \\\\\n",
    "      0 & 0 & 0 & 0 & -0.5 & -0.5 & 1 & -0.5 & 0.5 \\\\\n",
    "    \\end{array}\n",
    "    \\end{bmatrix} \\\\\n",
    "\\end{align}"
   ]
  },
  {
   "cell_type": "markdown",
   "metadata": {},
   "source": [
    "**(b) Write down the optimal primal solution and the optimal dual solution.**"
   ]
  },
  {
   "cell_type": "markdown",
   "metadata": {},
   "source": [
    "Optimal Primal Solution: $(x_1=0.5, x_2=0.5, x_3=0.5, s_1=0, s_2=0, s_3=0.5, s_4=0)$"
   ]
  },
  {
   "cell_type": "markdown",
   "metadata": {},
   "source": [
    "With $t_k, k\\in [1,2,3]$ are dual's slack variables, Optimal Dual Solution: $(y_1=12.5, y_2=16.5, y_3=0, y_4=20.5, t_1=0, t_2=0, t_3=0)$"
   ]
  },
  {
   "cell_type": "markdown",
   "metadata": {},
   "source": [
    "**(c) Verify that the complementary slackness conditions hold.**"
   ]
  },
  {
   "cell_type": "markdown",
   "metadata": {},
   "source": [
    "#### Complementary Slackness 1:  $\\bar{y}^\\top (A\\bar{x} - b) = 0 \\because$ if primal slack variables $\\not= 0$, dual variables $= 0$, vice versa"
   ]
  },
  {
   "cell_type": "code",
   "execution_count": 17,
   "metadata": {},
   "outputs": [
    {
     "data": {
      "application/javascript": [
       "\n",
       "            setTimeout(function() {\n",
       "                var nbb_cell_id = 17;\n",
       "                var nbb_unformatted_code = \"x_bar = np.array([0.5, 0.5, 0.5, 0, 0, 0.5, 0])\\ny_bar = np.array([12.5, 16.5, 0, 20.5, 0, 0, 0])\";\n",
       "                var nbb_formatted_code = \"x_bar = np.array([0.5, 0.5, 0.5, 0, 0, 0.5, 0])\\ny_bar = np.array([12.5, 16.5, 0, 20.5, 0, 0, 0])\";\n",
       "                var nbb_cells = Jupyter.notebook.get_cells();\n",
       "                for (var i = 0; i < nbb_cells.length; ++i) {\n",
       "                    if (nbb_cells[i].input_prompt_number == nbb_cell_id) {\n",
       "                        if (nbb_cells[i].get_text() == nbb_unformatted_code) {\n",
       "                             nbb_cells[i].set_text(nbb_formatted_code);\n",
       "                        }\n",
       "                        break;\n",
       "                    }\n",
       "                }\n",
       "            }, 500);\n",
       "            "
      ],
      "text/plain": [
       "<IPython.core.display.Javascript object>"
      ]
     },
     "metadata": {},
     "output_type": "display_data"
    }
   ],
   "source": [
    "x_bar = np.array([0.5, 0.5, 0.5, 0, 0, 0.5, 0])\n",
    "y_bar = np.array([12.5, 16.5, 0, 20.5, 0, 0, 0])"
   ]
  },
  {
   "cell_type": "code",
   "execution_count": 18,
   "metadata": {},
   "outputs": [
    {
     "name": "stdout",
     "output_type": "stream",
     "text": [
      "1st Complementary Slackness Passed!\n"
     ]
    },
    {
     "data": {
      "application/javascript": [
       "\n",
       "            setTimeout(function() {\n",
       "                var nbb_cell_id = 18;\n",
       "                var nbb_unformatted_code = \"print(\\n    f\\\"1st Complementary Slackness Passed!\\\"\\n    if y_bar[[0, 1, 2, 3]].T @ (-A[:, [0, 1, 2]] @ x_bar[[0, 1, 2]] - (-b)) == 0\\n    else f\\\"1st Complementary Slackness Failed!\\\"\\n)\";\n",
       "                var nbb_formatted_code = \"print(\\n    f\\\"1st Complementary Slackness Passed!\\\"\\n    if y_bar[[0, 1, 2, 3]].T @ (-A[:, [0, 1, 2]] @ x_bar[[0, 1, 2]] - (-b)) == 0\\n    else f\\\"1st Complementary Slackness Failed!\\\"\\n)\";\n",
       "                var nbb_cells = Jupyter.notebook.get_cells();\n",
       "                for (var i = 0; i < nbb_cells.length; ++i) {\n",
       "                    if (nbb_cells[i].input_prompt_number == nbb_cell_id) {\n",
       "                        if (nbb_cells[i].get_text() == nbb_unformatted_code) {\n",
       "                             nbb_cells[i].set_text(nbb_formatted_code);\n",
       "                        }\n",
       "                        break;\n",
       "                    }\n",
       "                }\n",
       "            }, 500);\n",
       "            "
      ],
      "text/plain": [
       "<IPython.core.display.Javascript object>"
      ]
     },
     "metadata": {},
     "output_type": "display_data"
    }
   ],
   "source": [
    "print(\n",
    "    f\"1st Complementary Slackness Passed!\"\n",
    "    if y_bar[[0, 1, 2, 3]].T @ (-A[:, [0, 1, 2]] @ x_bar[[0, 1, 2]] - (-b)) == 0\n",
    "    else f\"1st Complementary Slackness Failed!\"\n",
    ")"
   ]
  },
  {
   "cell_type": "markdown",
   "metadata": {},
   "source": [
    "#### Complementary Slackness 2:  $(\\bar{y}^\\top A - c^\\top)\\bar{x} = 0 \\because$ if dual slack variables $\\not= 0$, primal variables $= 0$, vice versa"
   ]
  },
  {
   "cell_type": "code",
   "execution_count": 19,
   "metadata": {},
   "outputs": [
    {
     "name": "stdout",
     "output_type": "stream",
     "text": [
      "2nd Complementary Slackness Passed!\n"
     ]
    },
    {
     "data": {
      "application/javascript": [
       "\n",
       "            setTimeout(function() {\n",
       "                var nbb_cell_id = 19;\n",
       "                var nbb_unformatted_code = \"print(\\n    f\\\"2nd Complementary Slackness Passed!\\\"\\n    if (y_bar[[0, 1, 2, 3]].T @ -A[:, [0, 1, 2]] - c[[0, 1, 2]].T) @ x_bar[[0, 1, 2]]\\n    == 0\\n    else f\\\"2nd Complementary Slackness Failed!\\\"\\n)\";\n",
       "                var nbb_formatted_code = \"print(\\n    f\\\"2nd Complementary Slackness Passed!\\\"\\n    if (y_bar[[0, 1, 2, 3]].T @ -A[:, [0, 1, 2]] - c[[0, 1, 2]].T) @ x_bar[[0, 1, 2]]\\n    == 0\\n    else f\\\"2nd Complementary Slackness Failed!\\\"\\n)\";\n",
       "                var nbb_cells = Jupyter.notebook.get_cells();\n",
       "                for (var i = 0; i < nbb_cells.length; ++i) {\n",
       "                    if (nbb_cells[i].input_prompt_number == nbb_cell_id) {\n",
       "                        if (nbb_cells[i].get_text() == nbb_unformatted_code) {\n",
       "                             nbb_cells[i].set_text(nbb_formatted_code);\n",
       "                        }\n",
       "                        break;\n",
       "                    }\n",
       "                }\n",
       "            }, 500);\n",
       "            "
      ],
      "text/plain": [
       "<IPython.core.display.Javascript object>"
      ]
     },
     "metadata": {},
     "output_type": "display_data"
    }
   ],
   "source": [
    "print(\n",
    "    f\"2nd Complementary Slackness Passed!\"\n",
    "    if (y_bar[[0, 1, 2, 3]].T @ -A[:, [0, 1, 2]] - c[[0, 1, 2]].T) @ x_bar[[0, 1, 2]]\n",
    "    == 0\n",
    "    else f\"2nd Complementary Slackness Failed!\"\n",
    ")"
   ]
  },
  {
   "cell_type": "markdown",
   "metadata": {},
   "source": [
    "### 5.9\n",
    "\n",
    "Solve the following LP by the Dual Simplex Algorithm. Explain why it is advisable to solve such LPs by the Dual Simplex Algorithm.\n",
    "\n",
    "\\begin{align}\n",
    "    \\text{minimize } &x_1 + 2x_2 \\\\\n",
    "    \\text{subject to }\n",
    "    &2x_1 + 4x_2 \\geq 4 \\\\\n",
    "    &4x_1− x_2 \\geq 2 \\\\\n",
    "    &−2x_1 + 5x_2 \\geq 5 \\\\\n",
    "    &5x_1 +1x_2 \\geq 10 \\\\\n",
    "    &3x_1 + 6x_2 \\geq 9 \\\\\n",
    "    &x_j \\geq 0, j=1,2.\n",
    "\\end{align}\n",
    "\n",
    "Write down the optimal primal solution and the optimal dual solution."
   ]
  },
  {
   "cell_type": "markdown",
   "metadata": {},
   "source": [
    "Dual\n",
    "\n",
    "\\begin{align}\n",
    "    \\text{maximize } &4y_1 + 2y_2 + 5y_3 + 10y_4 + 9y_5 \\\\\n",
    "    \\text{subject to }\n",
    "    &2y_1 + 4y_2 -2y_3 + 5y_4 + 3y_5 \\leq 1 \\\\\n",
    "    &4y_1 - y_2 + 5y_3 + 1y_4 + 6y_5 \\leq 2 \\\\\n",
    "    &y_k \\geq 0, k=1,2,3,4,5.\n",
    "\\end{align}"
   ]
  },
  {
   "cell_type": "code",
   "execution_count": 20,
   "metadata": {},
   "outputs": [
    {
     "data": {
      "application/javascript": [
       "\n",
       "            setTimeout(function() {\n",
       "                var nbb_cell_id = 20;\n",
       "                var nbb_unformatted_code = \"A = np.array(\\n    [\\n        [-2, -4, 1, 0, 0, 0, 0],\\n        [-4, 1, 0, 1, 0, 0, 0],\\n        [2, -5, 0, 0, 1, 0, 0],\\n        [-5, -1, 0, 0, 0, 1, 0],\\n        [-3, -6, 0, 0, 0, 0, 1],\\n    ]\\n)\\nb = np.array([-4, -2, -5, -10, -9])\\nc = np.array([1, 2, 0, 0, 0, 0, 0])\";\n",
       "                var nbb_formatted_code = \"A = np.array(\\n    [\\n        [-2, -4, 1, 0, 0, 0, 0],\\n        [-4, 1, 0, 1, 0, 0, 0],\\n        [2, -5, 0, 0, 1, 0, 0],\\n        [-5, -1, 0, 0, 0, 1, 0],\\n        [-3, -6, 0, 0, 0, 0, 1],\\n    ]\\n)\\nb = np.array([-4, -2, -5, -10, -9])\\nc = np.array([1, 2, 0, 0, 0, 0, 0])\";\n",
       "                var nbb_cells = Jupyter.notebook.get_cells();\n",
       "                for (var i = 0; i < nbb_cells.length; ++i) {\n",
       "                    if (nbb_cells[i].input_prompt_number == nbb_cell_id) {\n",
       "                        if (nbb_cells[i].get_text() == nbb_unformatted_code) {\n",
       "                             nbb_cells[i].set_text(nbb_formatted_code);\n",
       "                        }\n",
       "                        break;\n",
       "                    }\n",
       "                }\n",
       "            }, 500);\n",
       "            "
      ],
      "text/plain": [
       "<IPython.core.display.Javascript object>"
      ]
     },
     "metadata": {},
     "output_type": "display_data"
    }
   ],
   "source": [
    "A = np.array(\n",
    "    [\n",
    "        [-2, -4, 1, 0, 0, 0, 0],\n",
    "        [-4, 1, 0, 1, 0, 0, 0],\n",
    "        [2, -5, 0, 0, 1, 0, 0],\n",
    "        [-5, -1, 0, 0, 0, 1, 0],\n",
    "        [-3, -6, 0, 0, 0, 0, 1],\n",
    "    ]\n",
    ")\n",
    "b = np.array([-4, -2, -5, -10, -9])\n",
    "c = np.array([1, 2, 0, 0, 0, 0, 0])"
   ]
  },
  {
   "cell_type": "code",
   "execution_count": 21,
   "metadata": {},
   "outputs": [
    {
     "name": "stdout",
     "output_type": "stream",
     "text": [
      "Linear Programming Solution\n",
      "==============================\n",
      "Status: optimal\n",
      "The optimal value is: 5.0\n",
      "The optimal solution is: x = [1.67, 1.67, 6.0, 3.0, -0.0, -0.0, 6.0]\n"
     ]
    },
    {
     "data": {
      "application/javascript": [
       "\n",
       "            setTimeout(function() {\n",
       "                var nbb_cell_id = 21;\n",
       "                var nbb_unformatted_code = \"# Create one vector optimization variable.\\nx = cp.Variable((7,), integer=False)\\n\\n# Create constraints.\\nconstraints = [\\n    A @ x == b,\\n    x >= 0,\\n]\\n\\n# Form objective.\\nobj = cp.Minimize(c.T @ x)\\n\\n# Form and solve problem.\\nprob = cp.Problem(obj, constraints)\\nprob.solve()\\n\\nprint(\\\"Linear Programming Solution\\\")\\nprint(\\\"=\\\" * 30)\\nprint(f\\\"Status: {prob.status}\\\")\\nprint(f\\\"The optimal value is: {np.round(prob.value, 2)}\\\")\\nprint(f\\\"The optimal solution is: x = {[np.round(x_i, 2) for x_i in x.value]}\\\")\";\n",
       "                var nbb_formatted_code = \"# Create one vector optimization variable.\\nx = cp.Variable((7,), integer=False)\\n\\n# Create constraints.\\nconstraints = [\\n    A @ x == b,\\n    x >= 0,\\n]\\n\\n# Form objective.\\nobj = cp.Minimize(c.T @ x)\\n\\n# Form and solve problem.\\nprob = cp.Problem(obj, constraints)\\nprob.solve()\\n\\nprint(\\\"Linear Programming Solution\\\")\\nprint(\\\"=\\\" * 30)\\nprint(f\\\"Status: {prob.status}\\\")\\nprint(f\\\"The optimal value is: {np.round(prob.value, 2)}\\\")\\nprint(f\\\"The optimal solution is: x = {[np.round(x_i, 2) for x_i in x.value]}\\\")\";\n",
       "                var nbb_cells = Jupyter.notebook.get_cells();\n",
       "                for (var i = 0; i < nbb_cells.length; ++i) {\n",
       "                    if (nbb_cells[i].input_prompt_number == nbb_cell_id) {\n",
       "                        if (nbb_cells[i].get_text() == nbb_unformatted_code) {\n",
       "                             nbb_cells[i].set_text(nbb_formatted_code);\n",
       "                        }\n",
       "                        break;\n",
       "                    }\n",
       "                }\n",
       "            }, 500);\n",
       "            "
      ],
      "text/plain": [
       "<IPython.core.display.Javascript object>"
      ]
     },
     "metadata": {},
     "output_type": "display_data"
    }
   ],
   "source": [
    "# Create one vector optimization variable.\n",
    "x = cp.Variable((7,), integer=False)\n",
    "\n",
    "# Create constraints.\n",
    "constraints = [\n",
    "    A @ x == b,\n",
    "    x >= 0,\n",
    "]\n",
    "\n",
    "# Form objective.\n",
    "obj = cp.Minimize(c.T @ x)\n",
    "\n",
    "# Form and solve problem.\n",
    "prob = cp.Problem(obj, constraints)\n",
    "prob.solve()\n",
    "\n",
    "print(\"Linear Programming Solution\")\n",
    "print(\"=\" * 30)\n",
    "print(f\"Status: {prob.status}\")\n",
    "print(f\"The optimal value is: {np.round(prob.value, 2)}\")\n",
    "print(f\"The optimal solution is: x = {[np.round(x_i, 2) for x_i in x.value]}\")"
   ]
  },
  {
   "cell_type": "markdown",
   "metadata": {},
   "source": [
    "${c_B}^\\top B^{-1} N - c_N$"
   ]
  },
  {
   "cell_type": "code",
   "execution_count": 22,
   "metadata": {},
   "outputs": [
    {
     "data": {
      "text/plain": [
       "array([-0.33333333, -0.33333333])"
      ]
     },
     "execution_count": 22,
     "metadata": {},
     "output_type": "execute_result"
    },
    {
     "data": {
      "application/javascript": [
       "\n",
       "            setTimeout(function() {\n",
       "                var nbb_cell_id = 22;\n",
       "                var nbb_unformatted_code = \"(c[[0, 1, 2, 3, 6]].T @ np.linalg.inv(A[:, [0, 1, 2, 3, 6]]) @ A[:, [4, 5]]) - c[[4, 5]]\";\n",
       "                var nbb_formatted_code = \"(c[[0, 1, 2, 3, 6]].T @ np.linalg.inv(A[:, [0, 1, 2, 3, 6]]) @ A[:, [4, 5]]) - c[[4, 5]]\";\n",
       "                var nbb_cells = Jupyter.notebook.get_cells();\n",
       "                for (var i = 0; i < nbb_cells.length; ++i) {\n",
       "                    if (nbb_cells[i].input_prompt_number == nbb_cell_id) {\n",
       "                        if (nbb_cells[i].get_text() == nbb_unformatted_code) {\n",
       "                             nbb_cells[i].set_text(nbb_formatted_code);\n",
       "                        }\n",
       "                        break;\n",
       "                    }\n",
       "                }\n",
       "            }, 500);\n",
       "            "
      ],
      "text/plain": [
       "<IPython.core.display.Javascript object>"
      ]
     },
     "metadata": {},
     "output_type": "display_data"
    }
   ],
   "source": [
    "(c[[0, 1, 2, 3, 6]].T @ np.linalg.inv(A[:, [0, 1, 2, 3, 6]]) @ A[:, [4, 5]]) - c[[4, 5]]"
   ]
  },
  {
   "cell_type": "markdown",
   "metadata": {},
   "source": [
    "Since reduced cost coefficients are <= 0 for minimization problem, solution is optimal."
   ]
  },
  {
   "cell_type": "markdown",
   "metadata": {},
   "source": [
    "$B^{-1}N$"
   ]
  },
  {
   "cell_type": "code",
   "execution_count": 23,
   "metadata": {},
   "outputs": [
    {
     "data": {
      "text/plain": [
       "array([[ 0.03703704, -0.18518519],\n",
       "       [-0.18518519, -0.07407407],\n",
       "       [-0.66666667, -0.66666667],\n",
       "       [ 0.33333333, -0.66666667],\n",
       "       [-1.        , -1.        ]])"
      ]
     },
     "execution_count": 23,
     "metadata": {},
     "output_type": "execute_result"
    },
    {
     "data": {
      "application/javascript": [
       "\n",
       "            setTimeout(function() {\n",
       "                var nbb_cell_id = 23;\n",
       "                var nbb_unformatted_code = \"np.linalg.inv(A[:, [0, 1, 2, 3, 6]]) @ A[:, [4, 5]]\";\n",
       "                var nbb_formatted_code = \"np.linalg.inv(A[:, [0, 1, 2, 3, 6]]) @ A[:, [4, 5]]\";\n",
       "                var nbb_cells = Jupyter.notebook.get_cells();\n",
       "                for (var i = 0; i < nbb_cells.length; ++i) {\n",
       "                    if (nbb_cells[i].input_prompt_number == nbb_cell_id) {\n",
       "                        if (nbb_cells[i].get_text() == nbb_unformatted_code) {\n",
       "                             nbb_cells[i].set_text(nbb_formatted_code);\n",
       "                        }\n",
       "                        break;\n",
       "                    }\n",
       "                }\n",
       "            }, 500);\n",
       "            "
      ],
      "text/plain": [
       "<IPython.core.display.Javascript object>"
      ]
     },
     "metadata": {},
     "output_type": "display_data"
    }
   ],
   "source": [
    "np.linalg.inv(A[:, [0, 1, 2, 3, 6]]) @ A[:, [4, 5]]"
   ]
  },
  {
   "cell_type": "markdown",
   "metadata": {},
   "source": [
    "$B^{-1}b$"
   ]
  },
  {
   "cell_type": "code",
   "execution_count": 24,
   "metadata": {},
   "outputs": [
    {
     "data": {
      "text/plain": [
       "array([1.66666667, 1.66666667, 6.        , 3.        , 6.        ])"
      ]
     },
     "execution_count": 24,
     "metadata": {},
     "output_type": "execute_result"
    },
    {
     "data": {
      "application/javascript": [
       "\n",
       "            setTimeout(function() {\n",
       "                var nbb_cell_id = 24;\n",
       "                var nbb_unformatted_code = \"np.linalg.inv(A[:, [0, 1, 2, 3, 6]]) @ b\";\n",
       "                var nbb_formatted_code = \"np.linalg.inv(A[:, [0, 1, 2, 3, 6]]) @ b\";\n",
       "                var nbb_cells = Jupyter.notebook.get_cells();\n",
       "                for (var i = 0; i < nbb_cells.length; ++i) {\n",
       "                    if (nbb_cells[i].input_prompt_number == nbb_cell_id) {\n",
       "                        if (nbb_cells[i].get_text() == nbb_unformatted_code) {\n",
       "                             nbb_cells[i].set_text(nbb_formatted_code);\n",
       "                        }\n",
       "                        break;\n",
       "                    }\n",
       "                }\n",
       "            }, 500);\n",
       "            "
      ],
      "text/plain": [
       "<IPython.core.display.Javascript object>"
      ]
     },
     "metadata": {},
     "output_type": "display_data"
    }
   ],
   "source": [
    "np.linalg.inv(A[:, [0, 1, 2, 3, 6]]) @ b"
   ]
  },
  {
   "cell_type": "markdown",
   "metadata": {},
   "source": [
    "${c_B}^\\top  B^{-1}b$"
   ]
  },
  {
   "cell_type": "code",
   "execution_count": 25,
   "metadata": {},
   "outputs": [
    {
     "data": {
      "text/plain": [
       "5.0"
      ]
     },
     "execution_count": 25,
     "metadata": {},
     "output_type": "execute_result"
    },
    {
     "data": {
      "application/javascript": [
       "\n",
       "            setTimeout(function() {\n",
       "                var nbb_cell_id = 25;\n",
       "                var nbb_unformatted_code = \"c[[0, 1, 2, 3, 6]].T @ np.linalg.inv(A[:, [0, 1, 2, 3, 6]]) @ b\";\n",
       "                var nbb_formatted_code = \"c[[0, 1, 2, 3, 6]].T @ np.linalg.inv(A[:, [0, 1, 2, 3, 6]]) @ b\";\n",
       "                var nbb_cells = Jupyter.notebook.get_cells();\n",
       "                for (var i = 0; i < nbb_cells.length; ++i) {\n",
       "                    if (nbb_cells[i].input_prompt_number == nbb_cell_id) {\n",
       "                        if (nbb_cells[i].get_text() == nbb_unformatted_code) {\n",
       "                             nbb_cells[i].set_text(nbb_formatted_code);\n",
       "                        }\n",
       "                        break;\n",
       "                    }\n",
       "                }\n",
       "            }, 500);\n",
       "            "
      ],
      "text/plain": [
       "<IPython.core.display.Javascript object>"
      ]
     },
     "metadata": {},
     "output_type": "display_data"
    }
   ],
   "source": [
    "c[[0, 1, 2, 3, 6]].T @ np.linalg.inv(A[:, [0, 1, 2, 3, 6]]) @ b"
   ]
  },
  {
   "cell_type": "markdown",
   "metadata": {},
   "source": [
    "\\begin{align}\n",
    "\\vdots\n",
    "\\end{align}"
   ]
  },
  {
   "cell_type": "markdown",
   "metadata": {},
   "source": [
    "\\begin{align}\n",
    "    \\begin{array}{c}\n",
    "    \\\\\n",
    "    z \\\\ \n",
    "    x_1 \\\\\n",
    "    x_2 \\\\\n",
    "    s_1 \\\\\n",
    "    s_2 \\\\\n",
    "    s_5 \\\\\n",
    "    \\end{array}\n",
    "    \\begin{bmatrix}\n",
    "    \\begin{array}{c|ccccccc|c}\n",
    "      z & x_1 & x_2 & s_1 & s_2 & s_3 & s_4 & s_5 & b \\\\ \\hline\n",
    "      5 & 0 & 0 & 0 & 0 & -1/3 & -1/3 & 0 & - \\\\ \\hline\n",
    "      0 & 1 & 0 & 0 & 0 & 0.03703704 & -0.18518519 & 0 & 5/3 \\\\\n",
    "      0 & 0 & 1 & 0 & 0 & -0.18518519 & -0.07407407 & 0 & 5/3 \\\\\n",
    "      0 & 0 & 0 & 1 & 0 & -0.66666667 & -0.66666667 & 0 & 6 \\\\\n",
    "      0 & 0 & 0 & 0 & 1 & 0.33333333 & -0.66666667 & 0 & 3 \\\\\n",
    "      0 & 0 & 0 & 0 & 0 & -1 & -1 & 1 & 6 \\\\\n",
    "    \\end{array}\n",
    "    \\end{bmatrix} \\\\\n",
    "\\end{align}"
   ]
  },
  {
   "cell_type": "markdown",
   "metadata": {},
   "source": [
    "From the primal optimal solution $(x_1=5/3,x_2=5/3,s_1=6,s_2=3,s_3=0,s_4=0,s_5=6)$, objective value $5$, we can find the optimal dual solution $(y_1=0,y_2=0,y_3=1/3,y_4=1/3,y_5=0,t_1=0,t_2=0)$ because reduced cost coefficients of primal slack variables are the dual variable optimal solution and by complementary slackness we got that both the dual slack variables $t_1, t_2$ are 0 because their corresponding $x_1, x_2$ are not zero."
   ]
  },
  {
   "cell_type": "markdown",
   "metadata": {},
   "source": [
    "Looking at the constraints of the LP, we see that the constraint $3x_1 + 6x_2 \\geq 9$ renders the constraint $2x_1 + 4x_2 \\geq 4$ redundant. This makes the LP degenerate as it's BFS will contain a basic variable with a value of 0. This makes the Primal Simplex slower to run as it will be wasting computations through adding artificial variables and going through Phase I of the Two-phase Simplex, therefore, it is advisable to convert the LP to its dual form and run the Dual Simplex method instead for LPs that are likely degenerate."
   ]
  },
  {
   "cell_type": "markdown",
   "metadata": {},
   "source": [
    "---\n",
    "## Chapter 6"
   ]
  },
  {
   "cell_type": "markdown",
   "metadata": {},
   "source": [
    "### 6.2\n",
    "\n",
    "Consider the linear programming problem\n",
    "\n",
    "\\begin{align}\n",
    "    \\text{minimize } &4x_1 + 3x_2 + 2x_3 + 6x_4 + x_5 \\\\\n",
    "    \\text{subject to } \n",
    "    &3x_1 +4x_2 − x_3 +2x_4 − x_5 =14 \\\\\n",
    "    &−x_1 + 4x_3 + x_4 −2x_5 = 15 \\\\\n",
    "    &−2x_1 + x_2 − 2x_3 +5x_5 = 10 \\\\\n",
    "    &x_j \\geq 0, j=1,...,5.\n",
    "\\end{align}"
   ]
  },
  {
   "cell_type": "code",
   "execution_count": 52,
   "metadata": {},
   "outputs": [
    {
     "data": {
      "application/javascript": [
       "\n",
       "            setTimeout(function() {\n",
       "                var nbb_cell_id = 52;\n",
       "                var nbb_unformatted_code = \"A = np.array([[3, 4, -1, 2, -1], [-1, 0, 4, 1, -2], [-2, 1, -2, 0, 5]])\\nb = np.array([14, 15, 10])\\nc = np.array([4, 3, 2, 6, 1])\";\n",
       "                var nbb_formatted_code = \"A = np.array([[3, 4, -1, 2, -1], [-1, 0, 4, 1, -2], [-2, 1, -2, 0, 5]])\\nb = np.array([14, 15, 10])\\nc = np.array([4, 3, 2, 6, 1])\";\n",
       "                var nbb_cells = Jupyter.notebook.get_cells();\n",
       "                for (var i = 0; i < nbb_cells.length; ++i) {\n",
       "                    if (nbb_cells[i].input_prompt_number == nbb_cell_id) {\n",
       "                        if (nbb_cells[i].get_text() == nbb_unformatted_code) {\n",
       "                             nbb_cells[i].set_text(nbb_formatted_code);\n",
       "                        }\n",
       "                        break;\n",
       "                    }\n",
       "                }\n",
       "            }, 500);\n",
       "            "
      ],
      "text/plain": [
       "<IPython.core.display.Javascript object>"
      ]
     },
     "metadata": {},
     "output_type": "display_data"
    }
   ],
   "source": [
    "A = np.array([[3, 4, -1, 2, -1], [-1, 0, 4, 1, -2], [-2, 1, -2, 0, 5]])\n",
    "b = np.array([14, 15, 10])\n",
    "c = np.array([4, 3, 2, 6, 1])"
   ]
  },
  {
   "cell_type": "markdown",
   "metadata": {},
   "source": [
    "**(a) Verify that the matrix $B = [A_{\\bullet1} A_{\\bullet3} A_{\\bullet5}]$ is a feasible but not optimal basis for the above LP.**"
   ]
  },
  {
   "cell_type": "code",
   "execution_count": 27,
   "metadata": {},
   "outputs": [
    {
     "data": {
      "application/javascript": [
       "\n",
       "            setTimeout(function() {\n",
       "                var nbb_cell_id = 27;\n",
       "                var nbb_unformatted_code = \"B = A[:, [0, 2, 4]]\\nNBV = A[:, [1, 3]]\";\n",
       "                var nbb_formatted_code = \"B = A[:, [0, 2, 4]]\\nNBV = A[:, [1, 3]]\";\n",
       "                var nbb_cells = Jupyter.notebook.get_cells();\n",
       "                for (var i = 0; i < nbb_cells.length; ++i) {\n",
       "                    if (nbb_cells[i].input_prompt_number == nbb_cell_id) {\n",
       "                        if (nbb_cells[i].get_text() == nbb_unformatted_code) {\n",
       "                             nbb_cells[i].set_text(nbb_formatted_code);\n",
       "                        }\n",
       "                        break;\n",
       "                    }\n",
       "                }\n",
       "            }, 500);\n",
       "            "
      ],
      "text/plain": [
       "<IPython.core.display.Javascript object>"
      ]
     },
     "metadata": {},
     "output_type": "display_data"
    }
   ],
   "source": [
    "B = A[:, [0, 2, 4]]\n",
    "NBV = A[:, [1, 3]]"
   ]
  },
  {
   "cell_type": "code",
   "execution_count": 28,
   "metadata": {},
   "outputs": [
    {
     "name": "stdout",
     "output_type": "stream",
     "text": [
      "B has full rank.\n"
     ]
    },
    {
     "data": {
      "application/javascript": [
       "\n",
       "            setTimeout(function() {\n",
       "                var nbb_cell_id = 28;\n",
       "                var nbb_unformatted_code = \"print(f\\\"B has full rank.\\\" if np.linalg.det(B) != 0 else f\\\"B does not have full rank.\\\")\";\n",
       "                var nbb_formatted_code = \"print(f\\\"B has full rank.\\\" if np.linalg.det(B) != 0 else f\\\"B does not have full rank.\\\")\";\n",
       "                var nbb_cells = Jupyter.notebook.get_cells();\n",
       "                for (var i = 0; i < nbb_cells.length; ++i) {\n",
       "                    if (nbb_cells[i].input_prompt_number == nbb_cell_id) {\n",
       "                        if (nbb_cells[i].get_text() == nbb_unformatted_code) {\n",
       "                             nbb_cells[i].set_text(nbb_formatted_code);\n",
       "                        }\n",
       "                        break;\n",
       "                    }\n",
       "                }\n",
       "            }, 500);\n",
       "            "
      ],
      "text/plain": [
       "<IPython.core.display.Javascript object>"
      ]
     },
     "metadata": {},
     "output_type": "display_data"
    }
   ],
   "source": [
    "print(f\"B has full rank.\" if np.linalg.det(B) != 0 else f\"B does not have full rank.\")"
   ]
  },
  {
   "cell_type": "markdown",
   "metadata": {},
   "source": [
    "Since Determinant of $B \\not= 0$, by the Invertible Matrix Theorem, its column space spans $\\mathbb{R}^3$ and is therefore a basis for the LP with 3 constraints."
   ]
  },
  {
   "cell_type": "code",
   "execution_count": 29,
   "metadata": {},
   "outputs": [
    {
     "name": "stdout",
     "output_type": "stream",
     "text": [
      "B is feasible because B^-1b >= 0.\n"
     ]
    },
    {
     "data": {
      "application/javascript": [
       "\n",
       "            setTimeout(function() {\n",
       "                var nbb_cell_id = 29;\n",
       "                var nbb_unformatted_code = \"print(\\n    f\\\"B is feasible because B^-1b >= 0.\\\"\\n    if np.alltrue(np.linalg.inv(B) @ b >= 0)\\n    else f\\\"B is not feasible because B^-1b < 0.\\\"\\n)\";\n",
       "                var nbb_formatted_code = \"print(\\n    f\\\"B is feasible because B^-1b >= 0.\\\"\\n    if np.alltrue(np.linalg.inv(B) @ b >= 0)\\n    else f\\\"B is not feasible because B^-1b < 0.\\\"\\n)\";\n",
       "                var nbb_cells = Jupyter.notebook.get_cells();\n",
       "                for (var i = 0; i < nbb_cells.length; ++i) {\n",
       "                    if (nbb_cells[i].input_prompt_number == nbb_cell_id) {\n",
       "                        if (nbb_cells[i].get_text() == nbb_unformatted_code) {\n",
       "                             nbb_cells[i].set_text(nbb_formatted_code);\n",
       "                        }\n",
       "                        break;\n",
       "                    }\n",
       "                }\n",
       "            }, 500);\n",
       "            "
      ],
      "text/plain": [
       "<IPython.core.display.Javascript object>"
      ]
     },
     "metadata": {},
     "output_type": "display_data"
    }
   ],
   "source": [
    "print(\n",
    "    f\"B is feasible because B^-1b >= 0.\"\n",
    "    if np.alltrue(np.linalg.inv(B) @ b >= 0)\n",
    "    else f\"B is not feasible because B^-1b < 0.\"\n",
    ")"
   ]
  },
  {
   "cell_type": "code",
   "execution_count": 30,
   "metadata": {},
   "outputs": [
    {
     "name": "stdout",
     "output_type": "stream",
     "text": [
      "Basis is not optimal as reduced costs for minimization problem are > 0!\n"
     ]
    },
    {
     "data": {
      "application/javascript": [
       "\n",
       "            setTimeout(function() {\n",
       "                var nbb_cell_id = 30;\n",
       "                var nbb_unformatted_code = \"print(\\n    \\\"Basis is optimal as reduced costs for minimization problem are <= 0!\\\"\\n    if np.alltrue(c[[0, 2, 4]] @ (np.linalg.inv(B) @ NBV) - c[[1, 3]] <= 0)\\n    else f\\\"Basis is not optimal as reduced costs for minimization problem are > 0!\\\"\\n)\";\n",
       "                var nbb_formatted_code = \"print(\\n    \\\"Basis is optimal as reduced costs for minimization problem are <= 0!\\\"\\n    if np.alltrue(c[[0, 2, 4]] @ (np.linalg.inv(B) @ NBV) - c[[1, 3]] <= 0)\\n    else f\\\"Basis is not optimal as reduced costs for minimization problem are > 0!\\\"\\n)\";\n",
       "                var nbb_cells = Jupyter.notebook.get_cells();\n",
       "                for (var i = 0; i < nbb_cells.length; ++i) {\n",
       "                    if (nbb_cells[i].input_prompt_number == nbb_cell_id) {\n",
       "                        if (nbb_cells[i].get_text() == nbb_unformatted_code) {\n",
       "                             nbb_cells[i].set_text(nbb_formatted_code);\n",
       "                        }\n",
       "                        break;\n",
       "                    }\n",
       "                }\n",
       "            }, 500);\n",
       "            "
      ],
      "text/plain": [
       "<IPython.core.display.Javascript object>"
      ]
     },
     "metadata": {},
     "output_type": "display_data"
    }
   ],
   "source": [
    "print(\n",
    "    \"Basis is optimal as reduced costs for minimization problem are <= 0!\"\n",
    "    if np.alltrue(c[[0, 2, 4]] @ (np.linalg.inv(B) @ NBV) - c[[1, 3]] <= 0)\n",
    "    else f\"Basis is not optimal as reduced costs for minimization problem are > 0!\"\n",
    ")"
   ]
  },
  {
   "cell_type": "markdown",
   "metadata": {},
   "source": [
    "**(b) Compute the inverse of $\\tilde{B} = [A_{\\bullet2} A_{\\bullet3} A_{\\bullet5}]$ and verify that $\\tilde{B}$ is an optimal basis for the given LP.**"
   ]
  },
  {
   "cell_type": "code",
   "execution_count": 11,
   "metadata": {},
   "outputs": [
    {
     "data": {
      "application/javascript": [
       "\n",
       "            setTimeout(function() {\n",
       "                var nbb_cell_id = 11;\n",
       "                var nbb_unformatted_code = \"B_tilde = A[:, [1, 2, 4]]\\nNBV_tilde = A[:, [0, 3]]\";\n",
       "                var nbb_formatted_code = \"B_tilde = A[:, [1, 2, 4]]\\nNBV_tilde = A[:, [0, 3]]\";\n",
       "                var nbb_cells = Jupyter.notebook.get_cells();\n",
       "                for (var i = 0; i < nbb_cells.length; ++i) {\n",
       "                    if (nbb_cells[i].input_prompt_number == nbb_cell_id) {\n",
       "                        if (nbb_cells[i].get_text() == nbb_unformatted_code) {\n",
       "                             nbb_cells[i].set_text(nbb_formatted_code);\n",
       "                        }\n",
       "                        break;\n",
       "                    }\n",
       "                }\n",
       "            }, 500);\n",
       "            "
      ],
      "text/plain": [
       "<IPython.core.display.Javascript object>"
      ]
     },
     "metadata": {},
     "output_type": "display_data"
    }
   ],
   "source": [
    "B_tilde = A[:, [1, 2, 4]]\n",
    "NBV_tilde = A[:, [0, 3]]"
   ]
  },
  {
   "cell_type": "code",
   "execution_count": 32,
   "metadata": {},
   "outputs": [
    {
     "name": "stdout",
     "output_type": "stream",
     "text": [
      "B_tilde has full rank.\n"
     ]
    },
    {
     "data": {
      "application/javascript": [
       "\n",
       "            setTimeout(function() {\n",
       "                var nbb_cell_id = 32;\n",
       "                var nbb_unformatted_code = \"print(\\n    \\\"B_tilde has full rank.\\\"\\n    if np.linalg.det(B_tilde) != 0\\n    else f\\\"B_tilde does not have full rank.\\\"\\n)\";\n",
       "                var nbb_formatted_code = \"print(\\n    \\\"B_tilde has full rank.\\\"\\n    if np.linalg.det(B_tilde) != 0\\n    else f\\\"B_tilde does not have full rank.\\\"\\n)\";\n",
       "                var nbb_cells = Jupyter.notebook.get_cells();\n",
       "                for (var i = 0; i < nbb_cells.length; ++i) {\n",
       "                    if (nbb_cells[i].input_prompt_number == nbb_cell_id) {\n",
       "                        if (nbb_cells[i].get_text() == nbb_unformatted_code) {\n",
       "                             nbb_cells[i].set_text(nbb_formatted_code);\n",
       "                        }\n",
       "                        break;\n",
       "                    }\n",
       "                }\n",
       "            }, 500);\n",
       "            "
      ],
      "text/plain": [
       "<IPython.core.display.Javascript object>"
      ]
     },
     "metadata": {},
     "output_type": "display_data"
    }
   ],
   "source": [
    "print(\n",
    "    \"B_tilde has full rank.\"\n",
    "    if np.linalg.det(B_tilde) != 0\n",
    "    else f\"B_tilde does not have full rank.\"\n",
    ")"
   ]
  },
  {
   "cell_type": "markdown",
   "metadata": {},
   "source": [
    "Since Determinant of $\\tilde{B} \\not= 0$, by the Invertible Matrix Theorem, its column space spans $\\mathbb{R}^3$ and is therefore a basis for the LP with 3 constraints."
   ]
  },
  {
   "cell_type": "code",
   "execution_count": 33,
   "metadata": {},
   "outputs": [
    {
     "name": "stdout",
     "output_type": "stream",
     "text": [
      "B_tilde is feasible because B_tilde^-1b >= 0.\n"
     ]
    },
    {
     "data": {
      "application/javascript": [
       "\n",
       "            setTimeout(function() {\n",
       "                var nbb_cell_id = 33;\n",
       "                var nbb_unformatted_code = \"print(\\n    f\\\"B_tilde is feasible because B_tilde^-1b >= 0.\\\"\\n    if np.alltrue(np.linalg.inv(B_tilde) @ b >= 0)\\n    else f\\\"B_tilde is not feasible because B_tilde^-1b < 0.\\\"\\n)\";\n",
       "                var nbb_formatted_code = \"print(\\n    f\\\"B_tilde is feasible because B_tilde^-1b >= 0.\\\"\\n    if np.alltrue(np.linalg.inv(B_tilde) @ b >= 0)\\n    else f\\\"B_tilde is not feasible because B_tilde^-1b < 0.\\\"\\n)\";\n",
       "                var nbb_cells = Jupyter.notebook.get_cells();\n",
       "                for (var i = 0; i < nbb_cells.length; ++i) {\n",
       "                    if (nbb_cells[i].input_prompt_number == nbb_cell_id) {\n",
       "                        if (nbb_cells[i].get_text() == nbb_unformatted_code) {\n",
       "                             nbb_cells[i].set_text(nbb_formatted_code);\n",
       "                        }\n",
       "                        break;\n",
       "                    }\n",
       "                }\n",
       "            }, 500);\n",
       "            "
      ],
      "text/plain": [
       "<IPython.core.display.Javascript object>"
      ]
     },
     "metadata": {},
     "output_type": "display_data"
    }
   ],
   "source": [
    "print(\n",
    "    f\"B_tilde is feasible because B_tilde^-1b >= 0.\"\n",
    "    if np.alltrue(np.linalg.inv(B_tilde) @ b >= 0)\n",
    "    else f\"B_tilde is not feasible because B_tilde^-1b < 0.\"\n",
    ")"
   ]
  },
  {
   "cell_type": "code",
   "execution_count": 34,
   "metadata": {},
   "outputs": [
    {
     "name": "stdout",
     "output_type": "stream",
     "text": [
      "Basis is optimal as reduced costs for minimization problem are <= 0!\n"
     ]
    },
    {
     "data": {
      "application/javascript": [
       "\n",
       "            setTimeout(function() {\n",
       "                var nbb_cell_id = 34;\n",
       "                var nbb_unformatted_code = \"print(\\n    \\\"Basis is optimal as reduced costs for minimization problem are <= 0!\\\"\\n    if np.alltrue(c[[1, 2, 4]] @ (np.linalg.inv(B_tilde) @ NBV_tilde) - c[[0, 3]] <= 0)\\n    else f\\\"Basis is not optimal as reduced costs for minimization problem are > 0!\\\"\\n)\";\n",
       "                var nbb_formatted_code = \"print(\\n    \\\"Basis is optimal as reduced costs for minimization problem are <= 0!\\\"\\n    if np.alltrue(c[[1, 2, 4]] @ (np.linalg.inv(B_tilde) @ NBV_tilde) - c[[0, 3]] <= 0)\\n    else f\\\"Basis is not optimal as reduced costs for minimization problem are > 0!\\\"\\n)\";\n",
       "                var nbb_cells = Jupyter.notebook.get_cells();\n",
       "                for (var i = 0; i < nbb_cells.length; ++i) {\n",
       "                    if (nbb_cells[i].input_prompt_number == nbb_cell_id) {\n",
       "                        if (nbb_cells[i].get_text() == nbb_unformatted_code) {\n",
       "                             nbb_cells[i].set_text(nbb_formatted_code);\n",
       "                        }\n",
       "                        break;\n",
       "                    }\n",
       "                }\n",
       "            }, 500);\n",
       "            "
      ],
      "text/plain": [
       "<IPython.core.display.Javascript object>"
      ]
     },
     "metadata": {},
     "output_type": "display_data"
    }
   ],
   "source": [
    "print(\n",
    "    \"Basis is optimal as reduced costs for minimization problem are <= 0!\"\n",
    "    if np.alltrue(c[[1, 2, 4]] @ (np.linalg.inv(B_tilde) @ NBV_tilde) - c[[0, 3]] <= 0)\n",
    "    else f\"Basis is not optimal as reduced costs for minimization problem are > 0!\"\n",
    ")"
   ]
  },
  {
   "cell_type": "markdown",
   "metadata": {},
   "source": [
    "**(c) Perform ranging on the right-hand side of the given LP.**"
   ]
  },
  {
   "cell_type": "markdown",
   "metadata": {},
   "source": [
    "For the given basis $\\tilde{B}$ to remain optimal when the RHS of the LP changes, $\\tilde{B}^{-1}b$ needs to remain $\\geq 0$:"
   ]
  },
  {
   "cell_type": "markdown",
   "metadata": {},
   "source": [
    "\\begin{align}\n",
    "    \\tilde{B}^{-1}b + \\tilde{B}^{-1}\\delta b &\\geq 0 \\\\\n",
    "\\end{align}"
   ]
  },
  {
   "cell_type": "code",
   "execution_count": 22,
   "metadata": {},
   "outputs": [
    {
     "data": {
      "application/javascript": [
       "\n",
       "            setTimeout(function() {\n",
       "                var nbb_cell_id = 22;\n",
       "                var nbb_unformatted_code = \"def \\u03b4_b_range(B, b):\\n    B_inv = np.linalg.inv(B)\\n    b_bar = B_inv @ b\\n    for row_idx in range(B_inv.shape[0]):\\n        \\u03b4_candidates = -b_bar / B_inv[:, row_idx]\\n        \\u03b4_ub, \\u03b4_lb = (\\n            min(\\u03b4_candidates[np.sign(B_inv[:, row_idx]) < 0]) if len(\\u03b4_candidates[np.sign(B_inv[:, row_idx]) < 0]) > 0 else np.inf,\\n            max(\\u03b4_candidates[np.sign(B_inv[:, row_idx]) > 0]) if len(\\u03b4_candidates[np.sign(B_inv[:, row_idx]) > 0]) > 0 else -np.inf,\\n        )\\n        if np.allclose(\\u03b4_ub, 0):\\n            \\u03b4_ub = 0\\n        if np.allclose(\\u03b4_lb, 0):\\n            \\u03b4_lb = 0\\n        if \\u03b4_ub == 0 and \\u03b4_lb == 0:\\n            print(f\\\"\\u03b4_{row_idx+1} cannot be perturbed.\\\")\\n        else:\\n            print(f\\\"{\\u03b4_lb} <= \\u03b4_{row_idx+1} <= {\\u03b4_ub}.\\\")\\n\\n        # Feasibility Checks\\n        assert np.alltrue(\\u03b4_lb * np.linalg.inv(B)[:, row_idx] >= -b_bar), print(\\n            \\\"\\u03b4_lb\\\", \\u03b4_lb * np.linalg.inv(B)[:, row_idx], -b_bar\\n        )\\n        assert np.alltrue(\\u03b4_ub * np.linalg.inv(B)[:, row_idx] >= -b_bar), print(\\n            \\\"\\u03b4_ub\\\", \\u03b4_ub * np.linalg.inv(B)[:, row_idx], -b_bar\\n        )\";\n",
       "                var nbb_formatted_code = \"def \\u03b4_b_range(B, b):\\n    B_inv = np.linalg.inv(B)\\n    b_bar = B_inv @ b\\n    for row_idx in range(B_inv.shape[0]):\\n        \\u03b4_candidates = -b_bar / B_inv[:, row_idx]\\n        \\u03b4_ub, \\u03b4_lb = (\\n            min(\\u03b4_candidates[np.sign(B_inv[:, row_idx]) < 0])\\n            if len(\\u03b4_candidates[np.sign(B_inv[:, row_idx]) < 0]) > 0\\n            else np.inf,\\n            max(\\u03b4_candidates[np.sign(B_inv[:, row_idx]) > 0])\\n            if len(\\u03b4_candidates[np.sign(B_inv[:, row_idx]) > 0]) > 0\\n            else -np.inf,\\n        )\\n        if np.allclose(\\u03b4_ub, 0):\\n            \\u03b4_ub = 0\\n        if np.allclose(\\u03b4_lb, 0):\\n            \\u03b4_lb = 0\\n        if \\u03b4_ub == 0 and \\u03b4_lb == 0:\\n            print(f\\\"\\u03b4_{row_idx+1} cannot be perturbed.\\\")\\n        else:\\n            print(f\\\"{\\u03b4_lb} <= \\u03b4_{row_idx+1} <= {\\u03b4_ub}.\\\")\\n\\n        # Feasibility Checks\\n        assert np.alltrue(\\u03b4_lb * np.linalg.inv(B)[:, row_idx] >= -b_bar), print(\\n            \\\"\\u03b4_lb\\\", \\u03b4_lb * np.linalg.inv(B)[:, row_idx], -b_bar\\n        )\\n        assert np.alltrue(\\u03b4_ub * np.linalg.inv(B)[:, row_idx] >= -b_bar), print(\\n            \\\"\\u03b4_ub\\\", \\u03b4_ub * np.linalg.inv(B)[:, row_idx], -b_bar\\n        )\";\n",
       "                var nbb_cells = Jupyter.notebook.get_cells();\n",
       "                for (var i = 0; i < nbb_cells.length; ++i) {\n",
       "                    if (nbb_cells[i].input_prompt_number == nbb_cell_id) {\n",
       "                        if (nbb_cells[i].get_text() == nbb_unformatted_code) {\n",
       "                             nbb_cells[i].set_text(nbb_formatted_code);\n",
       "                        }\n",
       "                        break;\n",
       "                    }\n",
       "                }\n",
       "            }, 500);\n",
       "            "
      ],
      "text/plain": [
       "<IPython.core.display.Javascript object>"
      ]
     },
     "metadata": {},
     "output_type": "display_data"
    }
   ],
   "source": [
    "def δ_b_range(B, b):\n",
    "    B_inv = np.linalg.inv(B)\n",
    "    b_bar = B_inv @ b\n",
    "    for row_idx in range(B_inv.shape[0]):\n",
    "        δ_candidates = -b_bar / B_inv[:, row_idx]\n",
    "        δ_ub, δ_lb = (\n",
    "            min(δ_candidates[np.sign(B_inv[:, row_idx]) < 0]) if len(δ_candidates[np.sign(B_inv[:, row_idx]) < 0]) > 0 else np.inf,\n",
    "            max(δ_candidates[np.sign(B_inv[:, row_idx]) > 0]) if len(δ_candidates[np.sign(B_inv[:, row_idx]) > 0]) > 0 else -np.inf,\n",
    "        )\n",
    "        if np.allclose(δ_ub, 0):\n",
    "            δ_ub = 0\n",
    "        if np.allclose(δ_lb, 0):\n",
    "            δ_lb = 0\n",
    "        if δ_ub == 0 and δ_lb == 0:\n",
    "            print(f\"δ_{row_idx+1} cannot be perturbed.\")\n",
    "        else:\n",
    "            print(f\"{δ_lb} <= δ_{row_idx+1} <= {δ_ub}.\")\n",
    "\n",
    "        # Feasibility Checks\n",
    "        assert np.alltrue(δ_lb * np.linalg.inv(B)[:, row_idx] >= -b_bar), print(\n",
    "            \"δ_lb\", δ_lb * np.linalg.inv(B)[:, row_idx], -b_bar\n",
    "        )\n",
    "        assert np.alltrue(δ_ub * np.linalg.inv(B)[:, row_idx] >= -b_bar), print(\n",
    "            \"δ_ub\", δ_ub * np.linalg.inv(B)[:, row_idx], -b_bar\n",
    "        )"
   ]
  },
  {
   "cell_type": "code",
   "execution_count": 23,
   "metadata": {},
   "outputs": [
    {
     "name": "stdout",
     "output_type": "stream",
     "text": [
      "-24.3125 <= δ_1 <= 52.25.\n",
      "-17.476190476190474 <= δ_2 <= inf.\n",
      "-13.0625 <= δ_3 <= inf.\n"
     ]
    },
    {
     "data": {
      "application/javascript": [
       "\n",
       "            setTimeout(function() {\n",
       "                var nbb_cell_id = 23;\n",
       "                var nbb_unformatted_code = \"\\u03b4_b_range(B_tilde, b)\";\n",
       "                var nbb_formatted_code = \"\\u03b4_b_range(B_tilde, b)\";\n",
       "                var nbb_cells = Jupyter.notebook.get_cells();\n",
       "                for (var i = 0; i < nbb_cells.length; ++i) {\n",
       "                    if (nbb_cells[i].input_prompt_number == nbb_cell_id) {\n",
       "                        if (nbb_cells[i].get_text() == nbb_unformatted_code) {\n",
       "                             nbb_cells[i].set_text(nbb_formatted_code);\n",
       "                        }\n",
       "                        break;\n",
       "                    }\n",
       "                }\n",
       "            }, 500);\n",
       "            "
      ],
      "text/plain": [
       "<IPython.core.display.Javascript object>"
      ]
     },
     "metadata": {},
     "output_type": "display_data"
    }
   ],
   "source": [
    "δ_b_range(B_tilde, b)"
   ]
  },
  {
   "cell_type": "markdown",
   "metadata": {},
   "source": [
    "**(d) Perform ranging on the cost coefficients of the given LP.**"
   ]
  },
  {
   "cell_type": "markdown",
   "metadata": {},
   "source": [
    "For the given basis $\\tilde{B}$ to remain optimal when the coefficients of the objective function changes, ${c_B}^\\top\\tilde{B}^{-1}\\tilde{NBV} - {c_j}$ needs to remain $\\leq 0$ for a minimization problem:"
   ]
  },
  {
   "cell_type": "markdown",
   "metadata": {},
   "source": [
    "$\\tilde{B}^{-1}\\tilde{NBV}$"
   ]
  },
  {
   "cell_type": "code",
   "execution_count": 41,
   "metadata": {},
   "outputs": [
    {
     "data": {
      "text/plain": [
       "array([[ 0.41428571,  0.55714286],\n",
       "       [-0.61428571,  0.24285714],\n",
       "       [-0.72857143, -0.01428571]])"
      ]
     },
     "execution_count": 41,
     "metadata": {},
     "output_type": "execute_result"
    },
    {
     "data": {
      "application/javascript": [
       "\n",
       "            setTimeout(function() {\n",
       "                var nbb_cell_id = 41;\n",
       "                var nbb_unformatted_code = \"np.linalg.inv(B_tilde) @ NBV_tilde\";\n",
       "                var nbb_formatted_code = \"np.linalg.inv(B_tilde) @ NBV_tilde\";\n",
       "                var nbb_cells = Jupyter.notebook.get_cells();\n",
       "                for (var i = 0; i < nbb_cells.length; ++i) {\n",
       "                    if (nbb_cells[i].input_prompt_number == nbb_cell_id) {\n",
       "                        if (nbb_cells[i].get_text() == nbb_unformatted_code) {\n",
       "                             nbb_cells[i].set_text(nbb_formatted_code);\n",
       "                        }\n",
       "                        break;\n",
       "                    }\n",
       "                }\n",
       "            }, 500);\n",
       "            "
      ],
      "text/plain": [
       "<IPython.core.display.Javascript object>"
      ]
     },
     "metadata": {},
     "output_type": "display_data"
    }
   ],
   "source": [
    "np.linalg.inv(B_tilde) @ NBV_tilde"
   ]
  },
  {
   "cell_type": "code",
   "execution_count": 47,
   "metadata": {},
   "outputs": [
    {
     "data": {
      "text/plain": [
       "array([0.        , 0.4       , 0.83333333])"
      ]
     },
     "execution_count": 47,
     "metadata": {},
     "output_type": "execute_result"
    },
    {
     "data": {
      "application/javascript": [
       "\n",
       "            setTimeout(function() {\n",
       "                var nbb_cell_id = 47;\n",
       "                var nbb_unformatted_code = \"np.array([0, 2, 5]) / np.array([4,5,6])\";\n",
       "                var nbb_formatted_code = \"np.array([0, 2, 5]) / np.array([4, 5, 6])\";\n",
       "                var nbb_cells = Jupyter.notebook.get_cells();\n",
       "                for (var i = 0; i < nbb_cells.length; ++i) {\n",
       "                    if (nbb_cells[i].input_prompt_number == nbb_cell_id) {\n",
       "                        if (nbb_cells[i].get_text() == nbb_unformatted_code) {\n",
       "                             nbb_cells[i].set_text(nbb_formatted_code);\n",
       "                        }\n",
       "                        break;\n",
       "                    }\n",
       "                }\n",
       "            }, 500);\n",
       "            "
      ],
      "text/plain": [
       "<IPython.core.display.Javascript object>"
      ]
     },
     "metadata": {},
     "output_type": "display_data"
    }
   ],
   "source": [
    "np.array([0, 2, 5]) / np.array([4, 5, 6])"
   ]
  },
  {
   "cell_type": "code",
   "execution_count": 70,
   "metadata": {},
   "outputs": [
    {
     "data": {
      "application/javascript": [
       "\n",
       "            setTimeout(function() {\n",
       "                var nbb_cell_id = 70;\n",
       "                var nbb_unformatted_code = \"def c_range(A, c, basic_var_idxs, problem_type=\\\"min\\\"):\\n    assert problem_type == \\\"min\\\" or problem_type == \\\"max\\\", print(\\n        \\\"problem_type must be either 'min' or 'max'.\\\"\\n    )\\n    nonbasic_var_idxs = [idx for idx in range(len(c)) if idx not in basic_var_idxs]\\n    B, N = A[:, basic_var_idxs], A[:, nonbasic_var_idxs]\\n    B_inv = np.linalg.inv(B)\\n    for idx in range(len(c)):\\n        if idx in basic_var_idxs:\\n            RHS_basic_var_cost_coeffs = -(B_inv @ N)[list(basic_var_idxs).index(idx), :]\\n            LHS = (\\n                c[\\n                    [\\n                        basic_var_idx\\n                        for basic_var_idx in basic_var_idxs\\n                        if basic_var_idx != idx\\n                    ]\\n                ].T\\n                @ (B_inv @ N)[\\n                    [\\n                        i\\n                        for i in range(len(basic_var_idxs))\\n                        if i != list(basic_var_idxs).index(idx)\\n                    ],\\n                    :,\\n                ]\\n                - c[nonbasic_var_idxs]\\n            )\\n            c_lb_RHS_basic_var_cost_coeffs_idxs = np.argwhere(\\n                np.array(RHS_basic_var_cost_coeffs) > 0\\n            ).flatten()\\n            c_ub_RHS_basic_var_cost_coeffs_idxs = np.argwhere(\\n                np.array(RHS_basic_var_cost_coeffs) < 0\\n            ).flatten()\\n            c_lb_candidates = (\\n                (\\n                    LHS[c_lb_RHS_basic_var_cost_coeffs_idxs]\\n                    / RHS_basic_var_cost_coeffs[c_lb_RHS_basic_var_cost_coeffs_idxs]\\n                )\\n                if len(c_lb_RHS_basic_var_cost_coeffs_idxs) > 0\\n                else []\\n            )\\n            c_ub_candidates = (\\n                (\\n                    LHS[c_ub_RHS_basic_var_cost_coeffs_idxs]\\n                    / RHS_basic_var_cost_coeffs[c_ub_RHS_basic_var_cost_coeffs_idxs]\\n                )\\n                if len(c_ub_RHS_basic_var_cost_coeffs_idxs) > 0\\n                else []\\n            )\\n            c_lb = max(c_lb_candidates) if len(c_lb_candidates) > 0 else -np.inf\\n            c_ub = min(c_ub_candidates) if len(c_ub_candidates) > 0 else np.inf\\n            print(f\\\"{c_lb} <= c_{idx+1} <= {c_ub}\\\")\\n        else:\\n            print(\\n                f\\\"c_{idx+1} >= {c[basic_var_idxs].T @ (B_inv @ N)[:, list(nonbasic_var_idxs).index(idx)]}\\\"\\n            )\";\n",
       "                var nbb_formatted_code = \"def c_range(A, c, basic_var_idxs, problem_type=\\\"min\\\"):\\n    assert problem_type == \\\"min\\\" or problem_type == \\\"max\\\", print(\\n        \\\"problem_type must be either 'min' or 'max'.\\\"\\n    )\\n    nonbasic_var_idxs = [idx for idx in range(len(c)) if idx not in basic_var_idxs]\\n    B, N = A[:, basic_var_idxs], A[:, nonbasic_var_idxs]\\n    B_inv = np.linalg.inv(B)\\n    for idx in range(len(c)):\\n        if idx in basic_var_idxs:\\n            RHS_basic_var_cost_coeffs = -(B_inv @ N)[list(basic_var_idxs).index(idx), :]\\n            LHS = (\\n                c[\\n                    [\\n                        basic_var_idx\\n                        for basic_var_idx in basic_var_idxs\\n                        if basic_var_idx != idx\\n                    ]\\n                ].T\\n                @ (B_inv @ N)[\\n                    [\\n                        i\\n                        for i in range(len(basic_var_idxs))\\n                        if i != list(basic_var_idxs).index(idx)\\n                    ],\\n                    :,\\n                ]\\n                - c[nonbasic_var_idxs]\\n            )\\n            c_lb_RHS_basic_var_cost_coeffs_idxs = np.argwhere(\\n                np.array(RHS_basic_var_cost_coeffs) > 0\\n            ).flatten()\\n            c_ub_RHS_basic_var_cost_coeffs_idxs = np.argwhere(\\n                np.array(RHS_basic_var_cost_coeffs) < 0\\n            ).flatten()\\n            c_lb_candidates = (\\n                (\\n                    LHS[c_lb_RHS_basic_var_cost_coeffs_idxs]\\n                    / RHS_basic_var_cost_coeffs[c_lb_RHS_basic_var_cost_coeffs_idxs]\\n                )\\n                if len(c_lb_RHS_basic_var_cost_coeffs_idxs) > 0\\n                else []\\n            )\\n            c_ub_candidates = (\\n                (\\n                    LHS[c_ub_RHS_basic_var_cost_coeffs_idxs]\\n                    / RHS_basic_var_cost_coeffs[c_ub_RHS_basic_var_cost_coeffs_idxs]\\n                )\\n                if len(c_ub_RHS_basic_var_cost_coeffs_idxs) > 0\\n                else []\\n            )\\n            c_lb = max(c_lb_candidates) if len(c_lb_candidates) > 0 else -np.inf\\n            c_ub = min(c_ub_candidates) if len(c_ub_candidates) > 0 else np.inf\\n            print(f\\\"{c_lb} <= c_{idx+1} <= {c_ub}\\\")\\n        else:\\n            print(\\n                f\\\"c_{idx+1} >= {c[basic_var_idxs].T @ (B_inv @ N)[:, list(nonbasic_var_idxs).index(idx)]}\\\"\\n            )\";\n",
       "                var nbb_cells = Jupyter.notebook.get_cells();\n",
       "                for (var i = 0; i < nbb_cells.length; ++i) {\n",
       "                    if (nbb_cells[i].input_prompt_number == nbb_cell_id) {\n",
       "                        if (nbb_cells[i].get_text() == nbb_unformatted_code) {\n",
       "                             nbb_cells[i].set_text(nbb_formatted_code);\n",
       "                        }\n",
       "                        break;\n",
       "                    }\n",
       "                }\n",
       "            }, 500);\n",
       "            "
      ],
      "text/plain": [
       "<IPython.core.display.Javascript object>"
      ]
     },
     "metadata": {},
     "output_type": "display_data"
    }
   ],
   "source": [
    "def c_range(A, c, basic_var_idxs, problem_type=\"min\"):\n",
    "    assert problem_type == \"min\" or problem_type == \"max\", print(\n",
    "        \"problem_type must be either 'min' or 'max'.\"\n",
    "    )\n",
    "    nonbasic_var_idxs = [idx for idx in range(len(c)) if idx not in basic_var_idxs]\n",
    "    B, N = A[:, basic_var_idxs], A[:, nonbasic_var_idxs]\n",
    "    B_inv = np.linalg.inv(B)\n",
    "    for idx in range(len(c)):\n",
    "        if idx in basic_var_idxs:\n",
    "            RHS_basic_var_cost_coeffs = -(B_inv @ N)[list(basic_var_idxs).index(idx), :]\n",
    "            LHS = (\n",
    "                c[\n",
    "                    [\n",
    "                        basic_var_idx\n",
    "                        for basic_var_idx in basic_var_idxs\n",
    "                        if basic_var_idx != idx\n",
    "                    ]\n",
    "                ].T\n",
    "                @ (B_inv @ N)[\n",
    "                    [\n",
    "                        i\n",
    "                        for i in range(len(basic_var_idxs))\n",
    "                        if i != list(basic_var_idxs).index(idx)\n",
    "                    ],\n",
    "                    :,\n",
    "                ]\n",
    "                - c[nonbasic_var_idxs]\n",
    "            )\n",
    "            c_lb_RHS_basic_var_cost_coeffs_idxs = np.argwhere(\n",
    "                np.array(RHS_basic_var_cost_coeffs) > 0\n",
    "            ).flatten()\n",
    "            c_ub_RHS_basic_var_cost_coeffs_idxs = np.argwhere(\n",
    "                np.array(RHS_basic_var_cost_coeffs) < 0\n",
    "            ).flatten()\n",
    "            c_lb_candidates = (\n",
    "                (\n",
    "                    LHS[c_lb_RHS_basic_var_cost_coeffs_idxs]\n",
    "                    / RHS_basic_var_cost_coeffs[c_lb_RHS_basic_var_cost_coeffs_idxs]\n",
    "                )\n",
    "                if len(c_lb_RHS_basic_var_cost_coeffs_idxs) > 0\n",
    "                else []\n",
    "            )\n",
    "            c_ub_candidates = (\n",
    "                (\n",
    "                    LHS[c_ub_RHS_basic_var_cost_coeffs_idxs]\n",
    "                    / RHS_basic_var_cost_coeffs[c_ub_RHS_basic_var_cost_coeffs_idxs]\n",
    "                )\n",
    "                if len(c_ub_RHS_basic_var_cost_coeffs_idxs) > 0\n",
    "                else []\n",
    "            )\n",
    "            c_lb = max(c_lb_candidates) if len(c_lb_candidates) > 0 else -np.inf\n",
    "            c_ub = min(c_ub_candidates) if len(c_ub_candidates) > 0 else np.inf\n",
    "            print(f\"{c_lb} <= c_{idx+1} <= {c_ub}\")\n",
    "        else:\n",
    "            print(\n",
    "                f\"c_{idx+1} >= {c[basic_var_idxs].T @ (B_inv @ N)[:, list(nonbasic_var_idxs).index(idx)]}\"\n",
    "            )"
   ]
  },
  {
   "cell_type": "code",
   "execution_count": 71,
   "metadata": {},
   "outputs": [
    {
     "name": "stdout",
     "output_type": "stream",
     "text": [
      "c_1 >= -0.7142857142857142\n",
      "-inf <= c_2 <= 9.923076923076923\n",
      "-5.674418604651164 <= c_3 <= 17.88235294117647\n",
      "c_4 >= 2.142857142857143\n",
      "-5.470588235294117 <= c_5 <= inf\n"
     ]
    },
    {
     "data": {
      "application/javascript": [
       "\n",
       "            setTimeout(function() {\n",
       "                var nbb_cell_id = 71;\n",
       "                var nbb_unformatted_code = \"c_range(A=A, c=c, basic_var_idxs=[1, 2, 4])\";\n",
       "                var nbb_formatted_code = \"c_range(A=A, c=c, basic_var_idxs=[1, 2, 4])\";\n",
       "                var nbb_cells = Jupyter.notebook.get_cells();\n",
       "                for (var i = 0; i < nbb_cells.length; ++i) {\n",
       "                    if (nbb_cells[i].input_prompt_number == nbb_cell_id) {\n",
       "                        if (nbb_cells[i].get_text() == nbb_unformatted_code) {\n",
       "                             nbb_cells[i].set_text(nbb_formatted_code);\n",
       "                        }\n",
       "                        break;\n",
       "                    }\n",
       "                }\n",
       "            }, 500);\n",
       "            "
      ],
      "text/plain": [
       "<IPython.core.display.Javascript object>"
      ]
     },
     "metadata": {},
     "output_type": "display_data"
    }
   ],
   "source": [
    "c_range(A=A, c=c, basic_var_idxs=[1, 2, 4])"
   ]
  },
  {
   "cell_type": "markdown",
   "metadata": {},
   "source": [
    "Optimality Conditions\n",
    "\n",
    "\\begin{align}\n",
    "    0.41428571c_2 -0.61428571c_3 -0.72857143c_5 - c_1 \\leq 0 \\\\\n",
    "    0.55714286c_2 +0.24285714c_3 -0.01428571c_5 - c_4 \\leq 0 \\\\\n",
    "\\end{align}"
   ]
  },
  {
   "cell_type": "code",
   "execution_count": 42,
   "metadata": {},
   "outputs": [
    {
     "name": "stdout",
     "output_type": "stream",
     "text": [
      "c_1 >= -0.7142857142857142\n"
     ]
    },
    {
     "data": {
      "application/javascript": [
       "\n",
       "            setTimeout(function() {\n",
       "                var nbb_cell_id = 42;\n",
       "                var nbb_unformatted_code = \"print(f\\\"c_1 >= {c[[1, 2, 4]].T @ (np.linalg.inv(B_tilde) @ NBV_tilde)[:, 0]}\\\")\";\n",
       "                var nbb_formatted_code = \"print(f\\\"c_1 >= {c[[1, 2, 4]].T @ (np.linalg.inv(B_tilde) @ NBV_tilde)[:, 0]}\\\")\";\n",
       "                var nbb_cells = Jupyter.notebook.get_cells();\n",
       "                for (var i = 0; i < nbb_cells.length; ++i) {\n",
       "                    if (nbb_cells[i].input_prompt_number == nbb_cell_id) {\n",
       "                        if (nbb_cells[i].get_text() == nbb_unformatted_code) {\n",
       "                             nbb_cells[i].set_text(nbb_formatted_code);\n",
       "                        }\n",
       "                        break;\n",
       "                    }\n",
       "                }\n",
       "            }, 500);\n",
       "            "
      ],
      "text/plain": [
       "<IPython.core.display.Javascript object>"
      ]
     },
     "metadata": {},
     "output_type": "display_data"
    }
   ],
   "source": [
    "print(f\"c_1 >= {c[[1, 2, 4]].T @ (np.linalg.inv(B_tilde) @ NBV_tilde)[:, 0]}\")"
   ]
  },
  {
   "cell_type": "code",
   "execution_count": 43,
   "metadata": {},
   "outputs": [
    {
     "name": "stdout",
     "output_type": "stream",
     "text": [
      "c_2 <= 14.379310344827585\n"
     ]
    },
    {
     "data": {
      "application/javascript": [
       "\n",
       "            setTimeout(function() {\n",
       "                var nbb_cell_id = 43;\n",
       "                var nbb_unformatted_code = \"print(\\n    f\\\"c_2 <= {-((np.linalg.inv(B_tilde) @ NBV_tilde)[[1, 2], 0] @ c[[2, 4]] - c[0]) / (np.linalg.inv(B_tilde) @ NBV_tilde)[0, 0]}\\\"\\n)\";\n",
       "                var nbb_formatted_code = \"print(\\n    f\\\"c_2 <= {-((np.linalg.inv(B_tilde) @ NBV_tilde)[[1, 2], 0] @ c[[2, 4]] - c[0]) / (np.linalg.inv(B_tilde) @ NBV_tilde)[0, 0]}\\\"\\n)\";\n",
       "                var nbb_cells = Jupyter.notebook.get_cells();\n",
       "                for (var i = 0; i < nbb_cells.length; ++i) {\n",
       "                    if (nbb_cells[i].input_prompt_number == nbb_cell_id) {\n",
       "                        if (nbb_cells[i].get_text() == nbb_unformatted_code) {\n",
       "                             nbb_cells[i].set_text(nbb_formatted_code);\n",
       "                        }\n",
       "                        break;\n",
       "                    }\n",
       "                }\n",
       "            }, 500);\n",
       "            "
      ],
      "text/plain": [
       "<IPython.core.display.Javascript object>"
      ]
     },
     "metadata": {},
     "output_type": "display_data"
    }
   ],
   "source": [
    "print(\n",
    "    f\"c_2 <= {-((np.linalg.inv(B_tilde) @ NBV_tilde)[[1, 2], 0] @ c[[2, 4]] - c[0]) / (np.linalg.inv(B_tilde) @ NBV_tilde)[0, 0]}\"\n",
    ")"
   ]
  },
  {
   "cell_type": "code",
   "execution_count": 44,
   "metadata": {},
   "outputs": [
    {
     "name": "stdout",
     "output_type": "stream",
     "text": [
      "c_2 <= 9.923076923076923\n"
     ]
    },
    {
     "data": {
      "application/javascript": [
       "\n",
       "            setTimeout(function() {\n",
       "                var nbb_cell_id = 44;\n",
       "                var nbb_unformatted_code = \"print(\\n    f\\\"c_2 <= {-((np.linalg.inv(B_tilde) @ NBV_tilde)[[1, 2], 1] @ c[[2, 4]] - c[3]) / (np.linalg.inv(B_tilde) @ NBV_tilde)[0, 1]}\\\"\\n)\";\n",
       "                var nbb_formatted_code = \"print(\\n    f\\\"c_2 <= {-((np.linalg.inv(B_tilde) @ NBV_tilde)[[1, 2], 1] @ c[[2, 4]] - c[3]) / (np.linalg.inv(B_tilde) @ NBV_tilde)[0, 1]}\\\"\\n)\";\n",
       "                var nbb_cells = Jupyter.notebook.get_cells();\n",
       "                for (var i = 0; i < nbb_cells.length; ++i) {\n",
       "                    if (nbb_cells[i].input_prompt_number == nbb_cell_id) {\n",
       "                        if (nbb_cells[i].get_text() == nbb_unformatted_code) {\n",
       "                             nbb_cells[i].set_text(nbb_formatted_code);\n",
       "                        }\n",
       "                        break;\n",
       "                    }\n",
       "                }\n",
       "            }, 500);\n",
       "            "
      ],
      "text/plain": [
       "<IPython.core.display.Javascript object>"
      ]
     },
     "metadata": {},
     "output_type": "display_data"
    }
   ],
   "source": [
    "print(\n",
    "    f\"c_2 <= {-((np.linalg.inv(B_tilde) @ NBV_tilde)[[1, 2], 1] @ c[[2, 4]] - c[3]) / (np.linalg.inv(B_tilde) @ NBV_tilde)[0, 1]}\"\n",
    ")"
   ]
  },
  {
   "cell_type": "code",
   "execution_count": 45,
   "metadata": {},
   "outputs": [
    {
     "name": "stdout",
     "output_type": "stream",
     "text": [
      "c_3 >= -5.674418604651164\n"
     ]
    },
    {
     "data": {
      "application/javascript": [
       "\n",
       "            setTimeout(function() {\n",
       "                var nbb_cell_id = 45;\n",
       "                var nbb_unformatted_code = \"print(\\n    f\\\"c_3 >= {-((np.linalg.inv(B_tilde) @ NBV_tilde)[[0, 2], 0] @ c[[1, 4]] - c[0]) / (np.linalg.inv(B_tilde) @ NBV_tilde)[1, 0]}\\\"\\n)\";\n",
       "                var nbb_formatted_code = \"print(\\n    f\\\"c_3 >= {-((np.linalg.inv(B_tilde) @ NBV_tilde)[[0, 2], 0] @ c[[1, 4]] - c[0]) / (np.linalg.inv(B_tilde) @ NBV_tilde)[1, 0]}\\\"\\n)\";\n",
       "                var nbb_cells = Jupyter.notebook.get_cells();\n",
       "                for (var i = 0; i < nbb_cells.length; ++i) {\n",
       "                    if (nbb_cells[i].input_prompt_number == nbb_cell_id) {\n",
       "                        if (nbb_cells[i].get_text() == nbb_unformatted_code) {\n",
       "                             nbb_cells[i].set_text(nbb_formatted_code);\n",
       "                        }\n",
       "                        break;\n",
       "                    }\n",
       "                }\n",
       "            }, 500);\n",
       "            "
      ],
      "text/plain": [
       "<IPython.core.display.Javascript object>"
      ]
     },
     "metadata": {},
     "output_type": "display_data"
    }
   ],
   "source": [
    "print(\n",
    "    f\"c_3 >= {-((np.linalg.inv(B_tilde) @ NBV_tilde)[[0, 2], 0] @ c[[1, 4]] - c[0]) / (np.linalg.inv(B_tilde) @ NBV_tilde)[1, 0]}\"\n",
    ")"
   ]
  },
  {
   "cell_type": "code",
   "execution_count": 46,
   "metadata": {},
   "outputs": [
    {
     "name": "stdout",
     "output_type": "stream",
     "text": [
      "c_3 <= 17.88235294117647\n"
     ]
    },
    {
     "data": {
      "application/javascript": [
       "\n",
       "            setTimeout(function() {\n",
       "                var nbb_cell_id = 46;\n",
       "                var nbb_unformatted_code = \"print(\\n    f\\\"c_3 <= {-((np.linalg.inv(B_tilde) @ NBV_tilde)[[0, 2], 1] @ c[[1, 4]] - c[3]) / (np.linalg.inv(B_tilde) @ NBV_tilde)[1, 1]}\\\"\\n)\";\n",
       "                var nbb_formatted_code = \"print(\\n    f\\\"c_3 <= {-((np.linalg.inv(B_tilde) @ NBV_tilde)[[0, 2], 1] @ c[[1, 4]] - c[3]) / (np.linalg.inv(B_tilde) @ NBV_tilde)[1, 1]}\\\"\\n)\";\n",
       "                var nbb_cells = Jupyter.notebook.get_cells();\n",
       "                for (var i = 0; i < nbb_cells.length; ++i) {\n",
       "                    if (nbb_cells[i].input_prompt_number == nbb_cell_id) {\n",
       "                        if (nbb_cells[i].get_text() == nbb_unformatted_code) {\n",
       "                             nbb_cells[i].set_text(nbb_formatted_code);\n",
       "                        }\n",
       "                        break;\n",
       "                    }\n",
       "                }\n",
       "            }, 500);\n",
       "            "
      ],
      "text/plain": [
       "<IPython.core.display.Javascript object>"
      ]
     },
     "metadata": {},
     "output_type": "display_data"
    }
   ],
   "source": [
    "print(\n",
    "    f\"c_3 <= {-((np.linalg.inv(B_tilde) @ NBV_tilde)[[0, 2], 1] @ c[[1, 4]] - c[3]) / (np.linalg.inv(B_tilde) @ NBV_tilde)[1, 1]}\"\n",
    ")"
   ]
  },
  {
   "cell_type": "code",
   "execution_count": 47,
   "metadata": {},
   "outputs": [
    {
     "name": "stdout",
     "output_type": "stream",
     "text": [
      "c_4 >= 2.142857142857143\n"
     ]
    },
    {
     "data": {
      "application/javascript": [
       "\n",
       "            setTimeout(function() {\n",
       "                var nbb_cell_id = 47;\n",
       "                var nbb_unformatted_code = \"print(f\\\"c_4 >= {c[[1, 2, 4]].T @ (np.linalg.inv(B_tilde) @ NBV_tilde)[:, 1]}\\\")\";\n",
       "                var nbb_formatted_code = \"print(f\\\"c_4 >= {c[[1, 2, 4]].T @ (np.linalg.inv(B_tilde) @ NBV_tilde)[:, 1]}\\\")\";\n",
       "                var nbb_cells = Jupyter.notebook.get_cells();\n",
       "                for (var i = 0; i < nbb_cells.length; ++i) {\n",
       "                    if (nbb_cells[i].input_prompt_number == nbb_cell_id) {\n",
       "                        if (nbb_cells[i].get_text() == nbb_unformatted_code) {\n",
       "                             nbb_cells[i].set_text(nbb_formatted_code);\n",
       "                        }\n",
       "                        break;\n",
       "                    }\n",
       "                }\n",
       "            }, 500);\n",
       "            "
      ],
      "text/plain": [
       "<IPython.core.display.Javascript object>"
      ]
     },
     "metadata": {},
     "output_type": "display_data"
    }
   ],
   "source": [
    "print(f\"c_4 >= {c[[1, 2, 4]].T @ (np.linalg.inv(B_tilde) @ NBV_tilde)[:, 1]}\")"
   ]
  },
  {
   "cell_type": "code",
   "execution_count": 48,
   "metadata": {},
   "outputs": [
    {
     "name": "stdout",
     "output_type": "stream",
     "text": [
      "c_5 >= -5.470588235294117\n"
     ]
    },
    {
     "data": {
      "application/javascript": [
       "\n",
       "            setTimeout(function() {\n",
       "                var nbb_cell_id = 48;\n",
       "                var nbb_unformatted_code = \"print(\\n    f\\\"c_5 >= {-((np.linalg.inv(B_tilde) @ NBV_tilde)[[0, 1], 0] @ c[[1, 2]] - c[0]) / (np.linalg.inv(B_tilde) @ NBV_tilde)[2, 0]}\\\"\\n)\";\n",
       "                var nbb_formatted_code = \"print(\\n    f\\\"c_5 >= {-((np.linalg.inv(B_tilde) @ NBV_tilde)[[0, 1], 0] @ c[[1, 2]] - c[0]) / (np.linalg.inv(B_tilde) @ NBV_tilde)[2, 0]}\\\"\\n)\";\n",
       "                var nbb_cells = Jupyter.notebook.get_cells();\n",
       "                for (var i = 0; i < nbb_cells.length; ++i) {\n",
       "                    if (nbb_cells[i].input_prompt_number == nbb_cell_id) {\n",
       "                        if (nbb_cells[i].get_text() == nbb_unformatted_code) {\n",
       "                             nbb_cells[i].set_text(nbb_formatted_code);\n",
       "                        }\n",
       "                        break;\n",
       "                    }\n",
       "                }\n",
       "            }, 500);\n",
       "            "
      ],
      "text/plain": [
       "<IPython.core.display.Javascript object>"
      ]
     },
     "metadata": {},
     "output_type": "display_data"
    }
   ],
   "source": [
    "print(\n",
    "    f\"c_5 >= {-((np.linalg.inv(B_tilde) @ NBV_tilde)[[0, 1], 0] @ c[[1, 2]] - c[0]) / (np.linalg.inv(B_tilde) @ NBV_tilde)[2, 0]}\"\n",
    ")"
   ]
  },
  {
   "cell_type": "code",
   "execution_count": 49,
   "metadata": {},
   "outputs": [
    {
     "name": "stdout",
     "output_type": "stream",
     "text": [
      "c_5 >= -269.00000000000017\n"
     ]
    },
    {
     "data": {
      "application/javascript": [
       "\n",
       "            setTimeout(function() {\n",
       "                var nbb_cell_id = 49;\n",
       "                var nbb_unformatted_code = \"print(\\n    f\\\"c_5 >= {-((np.linalg.inv(B_tilde) @ NBV_tilde)[[0, 1], 1] @ c[[1, 2]] - c[3]) / (np.linalg.inv(B_tilde) @ NBV_tilde)[2, 1]}\\\"\\n)\";\n",
       "                var nbb_formatted_code = \"print(\\n    f\\\"c_5 >= {-((np.linalg.inv(B_tilde) @ NBV_tilde)[[0, 1], 1] @ c[[1, 2]] - c[3]) / (np.linalg.inv(B_tilde) @ NBV_tilde)[2, 1]}\\\"\\n)\";\n",
       "                var nbb_cells = Jupyter.notebook.get_cells();\n",
       "                for (var i = 0; i < nbb_cells.length; ++i) {\n",
       "                    if (nbb_cells[i].input_prompt_number == nbb_cell_id) {\n",
       "                        if (nbb_cells[i].get_text() == nbb_unformatted_code) {\n",
       "                             nbb_cells[i].set_text(nbb_formatted_code);\n",
       "                        }\n",
       "                        break;\n",
       "                    }\n",
       "                }\n",
       "            }, 500);\n",
       "            "
      ],
      "text/plain": [
       "<IPython.core.display.Javascript object>"
      ]
     },
     "metadata": {},
     "output_type": "display_data"
    }
   ],
   "source": [
    "print(\n",
    "    f\"c_5 >= {-((np.linalg.inv(B_tilde) @ NBV_tilde)[[0, 1], 1] @ c[[1, 2]] - c[3]) / (np.linalg.inv(B_tilde) @ NBV_tilde)[2, 1]}\"\n",
    ")"
   ]
  },
  {
   "cell_type": "markdown",
   "metadata": {},
   "source": [
    "Range for Cost Coefficients:\n",
    "\n",
    "\\begin{align}\n",
    "    &c_1 \\geq -0.7142857142857142 \\\\\n",
    "    &c_2 \\leq 9.923076923076923 \\\\\n",
    "    &-5.674418604651164 \\leq c_3 \\leq 17.88235294117647 \\\\\n",
    "    &c_4 \\geq 2.142857142857143 \\\\\n",
    "    &c_5 \\geq -5.470588235294117 \\\\\n",
    "\\end{align}"
   ]
  },
  {
   "cell_type": "markdown",
   "metadata": {},
   "source": [
    "### 6.5\n",
    "\n",
    "Solve the parametric linear program $P_\\lambda$\n",
    "\n",
    "\\begin{align}\n",
    "    \\text{minimize } &8x_1 + 3x_2 + 5x_3 \\\\\n",
    "    \\text{subject to } \n",
    "    &2x_1 − x_2 + 5x_3 \\leq 12 + \\lambda \\\\\n",
    "    &−2x_1 +4x_2 +8x_3 \\geq 6 + \\lambda \\\\\n",
    "    &x1,x2,x3 ≥0.\n",
    "\\end{align}\n",
    "\n",
    "where $\\lambda$ is a parameter belonging to the interval $[−15, 15]$. Organize your answer in a table which gives the optimal solution (including the objective function value) as a function of the parameter $\\lambda$."
   ]
  },
  {
   "cell_type": "markdown",
   "metadata": {},
   "source": [
    "We first split the range into 1. $-12 \\leq \\lambda \\leq -6$, 2. $-15 \\leq \\lambda < -12$, 3. $-6 < \\lambda \\leq 15$"
   ]
  },
  {
   "cell_type": "markdown",
   "metadata": {},
   "source": [
    "1st Range for $\\lambda: -12 \\leq \\lambda \\leq -6$"
   ]
  },
  {
   "cell_type": "markdown",
   "metadata": {},
   "source": [
    "Simplex Tableau:\n",
    "\n",
    "\\begin{align}\n",
    "    &\\begin{array}{c}\n",
    "    \\\\\n",
    "    z \\\\ \n",
    "    s_1 \\\\\n",
    "    s_2 \\\\\n",
    "    \\end{array}\n",
    "    \\begin{bmatrix}\n",
    "    \\begin{array}{c|ccccc|c|c}\n",
    "      z & x_1 & x_2 & x_3 & s_1 & s_2 & b & \\lambda \\\\ \\hline\n",
    "      1 & -8 & -3 & -5 & 0 & 0 & 0 & 0 \\\\ \\hline\n",
    "      0 & 2 & -1 & 5 & 1 & 0 & 12 & 1 \\\\\n",
    "      0 & 2 & -4 & -8 & 0 & 1 & -6 & -1 \\\\\n",
    "    \\end{array}\n",
    "    \\end{bmatrix} \\\\\n",
    "\\end{align}"
   ]
  },
  {
   "cell_type": "markdown",
   "metadata": {},
   "source": [
    "Optimal because reduced cost coefficients < 0 for min problem,\n",
    "\n",
    "\\begin{align}\n",
    "    z &= 0 \\\\\n",
    "    s_1 &= 12 + \\lambda \\geq 0 \\rightarrow \\lambda \\geq -12 \\\\\n",
    "    s_2 &= -6 - \\lambda \\geq 0 \\rightarrow \\lambda \\leq -6 \\\\\n",
    "\\end{align}\n",
    "\n",
    "Hence, current basis is optimal for $-12 \\leq \\lambda \\leq -6$ and the optimal solution is $(x_1=0,x_2=0,x_3=0,s_1=12+\\lambda, s_2=-6-\\lambda)$, objective value is 0."
   ]
  },
  {
   "cell_type": "markdown",
   "metadata": {},
   "source": [
    "2nd Range for $\\lambda: -15 \\leq \\lambda < -12$"
   ]
  },
  {
   "cell_type": "markdown",
   "metadata": {},
   "source": [
    "Since $12 + \\lambda$ $< 0$ in this range, we need a new basis, leaving variable $s_1$, and entering $x_2$ by max ratio test."
   ]
  },
  {
   "cell_type": "markdown",
   "metadata": {},
   "source": [
    "Simplex Tableau:\n",
    "\n",
    "\\begin{align}\n",
    "    &\\begin{array}{c}\n",
    "    \\\\\n",
    "    z \\\\ \n",
    "    x_2 \\\\\n",
    "    s_2 \\\\\n",
    "    \\end{array}\n",
    "    \\begin{bmatrix}\n",
    "    \\begin{array}{c|ccccc|c}\n",
    "      z & x_1 & x_2 & x_3 & s_1 & s_2 & b & \\lambda \\\\ \\hline\n",
    "      1 & -14 & 0 & -20 & -3 & 0 & 0 & 0 \\\\ \\hline\n",
    "      0 & -2 & 1 & -5 & -1 & 0 & -12 & -1 \\\\\n",
    "      0 & -6 & 0 & -28 & -4 & 1 & -54 & -5 \\\\\n",
    "    \\end{array}\n",
    "    \\end{bmatrix} \\\\\n",
    "\\end{align}"
   ]
  },
  {
   "cell_type": "markdown",
   "metadata": {},
   "source": [
    "Optimal because reduced cost coefficients < 0 for min problem,\n",
    "\n",
    "\\begin{align}\n",
    "    z &= 0 \\\\\n",
    "    x_2 &= -12 - \\lambda \\geq 0 \\rightarrow \\lambda \\leq -12 \\\\\n",
    "    s_2 &= -54 - 5\\lambda \\geq 0 \\rightarrow \\lambda \\leq -54/5 \\\\\n",
    "\\end{align}\n",
    "\n",
    "Hence, current basis is optimal and the optimal solution is $(x_1=0,x_2=-12-\\lambda,x_3=0,s_1=0, s_2=-54-5\\lambda)$."
   ]
  },
  {
   "cell_type": "markdown",
   "metadata": {},
   "source": [
    "3rd Range for $\\lambda: -6 < \\lambda \\leq 15$"
   ]
  },
  {
   "cell_type": "markdown",
   "metadata": {},
   "source": [
    "Since $-6 - \\lambda$ $< 0$ in this range, we need a new basis, leaving variable $s_2$, and entering $x_3$ by max ratio test."
   ]
  },
  {
   "cell_type": "markdown",
   "metadata": {},
   "source": [
    "Simplex Tableau:\n",
    "\n",
    "\\begin{align}\n",
    "    &\\begin{array}{c}\n",
    "    \\\\\n",
    "    z \\\\ \n",
    "    x_2 \\\\\n",
    "    s_2 \\\\\n",
    "    \\end{array}\n",
    "    \\begin{bmatrix}\n",
    "    \\begin{array}{c|ccccc|c}\n",
    "      z & x_1 & x_2 & x_3 & s_1 & s_2 & b & \\lambda \\\\ \\hline\n",
    "      1 & -37/4 & -1/2 & 0 & 0 & -5/8 & 0 & 0 \\\\ \\hline\n",
    "      0 & 13/4 & -7/2 & 0 & 1 & 5/8 & 33/4 & 3/8 \\\\\n",
    "      0 & -1/4 & 1/2 & 1 & 0 & -1/8 & 3/4 & 1/8 \\\\\n",
    "    \\end{array}\n",
    "    \\end{bmatrix} \\\\\n",
    "\\end{align}"
   ]
  },
  {
   "cell_type": "markdown",
   "metadata": {},
   "source": [
    "Optimal because reduced cost coefficients < 0 for min problem,\n",
    "\n",
    "\\begin{align}\n",
    "    z &= 0 \\\\\n",
    "    s_1 &= 33/4 + 3/8\\lambda \\geq 0 \\rightarrow \\lambda \\geq -11/2 \\\\\n",
    "    x_3 &= 3/4 + 1/8\\lambda \\geq 0 \\rightarrow \\lambda \\geq -6 \\\\\n",
    "\\end{align}\n",
    "\n",
    "Hence, current basis is optimal and the optimal solution is $(x_1=0,x_2=0,x_3=3/4+1/8\\lambda,s_1=33/4 + 3/8\\lambda, s_2=0)$."
   ]
  },
  {
   "cell_type": "markdown",
   "metadata": {},
   "source": [
    "### 6.8\n",
    "\n",
    "The LP of Example 3.8 is of the form commonly encountered in optimal resource allocation problems where the right-hand side represents amounts of resources and the coefficient matrix represents the how much the different activities consume of the different resources when each activity is operated at unit level. The objective function coefficients are then the contributions of the activities when operated at unit level. With this as an interpretation of the model, how much would an additional unit of each resource add to the optimal value of the objective?"
   ]
  },
  {
   "cell_type": "markdown",
   "metadata": {},
   "source": [
    "Example 3.8\n",
    "\n",
    "\\begin{align}\n",
    "    \\text{minimize } &-4x_1 - 6x_2 - 3x_3 -x_4 \\\\\n",
    "    \\text{subject to } \n",
    "    &x_1 + 4x_2 +8x_3 + 6x_4 \\leq 11 \\\\\n",
    "    &4x_1 + x_2 + 2x_3 +x_4 \\leq 7 \\\\\n",
    "    &2x_1 + 3x_2 + x_3 + 2x_4 \\leq 2 \\\\\n",
    "    &x_1, x_2, x_3, x_4 \\geq 0 \\\\\n",
    "\\end{align}"
   ]
  },
  {
   "cell_type": "code",
   "execution_count": 3,
   "metadata": {},
   "outputs": [
    {
     "data": {
      "application/javascript": [
       "\n",
       "            setTimeout(function() {\n",
       "                var nbb_cell_id = 3;\n",
       "                var nbb_unformatted_code = \"c = np.array([-4, -6, -3, -1])\\nA = np.array([[1,4,8,6], [4,1,2,1], [2,3,1,2]])\\nb = np.array([11, 7, 2])\";\n",
       "                var nbb_formatted_code = \"c = np.array([-4, -6, -3, -1])\\nA = np.array([[1, 4, 8, 6], [4, 1, 2, 1], [2, 3, 1, 2]])\\nb = np.array([11, 7, 2])\";\n",
       "                var nbb_cells = Jupyter.notebook.get_cells();\n",
       "                for (var i = 0; i < nbb_cells.length; ++i) {\n",
       "                    if (nbb_cells[i].input_prompt_number == nbb_cell_id) {\n",
       "                        if (nbb_cells[i].get_text() == nbb_unformatted_code) {\n",
       "                             nbb_cells[i].set_text(nbb_formatted_code);\n",
       "                        }\n",
       "                        break;\n",
       "                    }\n",
       "                }\n",
       "            }, 500);\n",
       "            "
      ],
      "text/plain": [
       "<IPython.core.display.Javascript object>"
      ]
     },
     "metadata": {},
     "output_type": "display_data"
    }
   ],
   "source": [
    "c = np.array([-4, -6, -3, -1])\n",
    "A = np.array([[1,4,8,6], [4,1,2,1], [2,3,1,2]])\n",
    "b = np.array([11, 7, 2])"
   ]
  },
  {
   "cell_type": "code",
   "execution_count": 4,
   "metadata": {},
   "outputs": [
    {
     "name": "stdout",
     "output_type": "stream",
     "text": [
      "Linear Programming Solution\n",
      "==============================\n",
      "Status: optimal\n",
      "The optimal value is: -5.33\n",
      "The optimal solution is: x = [0.33, 0.0, 1.33, 0.0]\n"
     ]
    },
    {
     "data": {
      "application/javascript": [
       "\n",
       "            setTimeout(function() {\n",
       "                var nbb_cell_id = 4;\n",
       "                var nbb_unformatted_code = \"# Create one vector optimization variable.\\nx = cp.Variable((4,), integer=False)\\n\\n# Create constraints.\\nconstraints = [\\n    A @ x <= b,\\n    x >= 0,\\n]\\n\\n# Form objective.\\nobj = cp.Minimize(c.T @ x)\\n\\n# Form and solve problem.\\nprob = cp.Problem(obj, constraints)\\nprob.solve()\\n\\nprint(\\\"Linear Programming Solution\\\")\\nprint(\\\"=\\\" * 30)\\nprint(f\\\"Status: {prob.status}\\\")\\nprint(f\\\"The optimal value is: {np.round(prob.value, 2)}\\\")\\nprint(f\\\"The optimal solution is: x = {[np.round(x_i, 2) for x_i in x.value]}\\\")\";\n",
       "                var nbb_formatted_code = \"# Create one vector optimization variable.\\nx = cp.Variable((4,), integer=False)\\n\\n# Create constraints.\\nconstraints = [\\n    A @ x <= b,\\n    x >= 0,\\n]\\n\\n# Form objective.\\nobj = cp.Minimize(c.T @ x)\\n\\n# Form and solve problem.\\nprob = cp.Problem(obj, constraints)\\nprob.solve()\\n\\nprint(\\\"Linear Programming Solution\\\")\\nprint(\\\"=\\\" * 30)\\nprint(f\\\"Status: {prob.status}\\\")\\nprint(f\\\"The optimal value is: {np.round(prob.value, 2)}\\\")\\nprint(f\\\"The optimal solution is: x = {[np.round(x_i, 2) for x_i in x.value]}\\\")\";\n",
       "                var nbb_cells = Jupyter.notebook.get_cells();\n",
       "                for (var i = 0; i < nbb_cells.length; ++i) {\n",
       "                    if (nbb_cells[i].input_prompt_number == nbb_cell_id) {\n",
       "                        if (nbb_cells[i].get_text() == nbb_unformatted_code) {\n",
       "                             nbb_cells[i].set_text(nbb_formatted_code);\n",
       "                        }\n",
       "                        break;\n",
       "                    }\n",
       "                }\n",
       "            }, 500);\n",
       "            "
      ],
      "text/plain": [
       "<IPython.core.display.Javascript object>"
      ]
     },
     "metadata": {},
     "output_type": "display_data"
    }
   ],
   "source": [
    "# Create one vector optimization variable.\n",
    "x = cp.Variable((4,), integer=False)\n",
    "\n",
    "# Create constraints.\n",
    "constraints = [\n",
    "    A @ x <= b,\n",
    "    x >= 0,\n",
    "]\n",
    "\n",
    "# Form objective.\n",
    "obj = cp.Minimize(c.T @ x)\n",
    "\n",
    "# Form and solve problem.\n",
    "prob = cp.Problem(obj, constraints)\n",
    "prob.solve()\n",
    "\n",
    "print(\"Linear Programming Solution\")\n",
    "print(\"=\" * 30)\n",
    "print(f\"Status: {prob.status}\")\n",
    "print(f\"The optimal value is: {np.round(prob.value, 2)}\")\n",
    "print(f\"The optimal solution is: x = {[np.round(x_i, 2) for x_i in x.value]}\")"
   ]
  },
  {
   "cell_type": "markdown",
   "metadata": {},
   "source": [
    "We can determine how much each additional unit of resource adds to the objective by examining the dual variables."
   ]
  },
  {
   "cell_type": "code",
   "execution_count": 9,
   "metadata": {},
   "outputs": [
    {
     "data": {
      "text/plain": [
       "array([0.13333333, 0.        , 1.93333333])"
      ]
     },
     "execution_count": 9,
     "metadata": {},
     "output_type": "execute_result"
    },
    {
     "data": {
      "application/javascript": [
       "\n",
       "            setTimeout(function() {\n",
       "                var nbb_cell_id = 9;\n",
       "                var nbb_unformatted_code = \"constraints[0].dual_value\";\n",
       "                var nbb_formatted_code = \"constraints[0].dual_value\";\n",
       "                var nbb_cells = Jupyter.notebook.get_cells();\n",
       "                for (var i = 0; i < nbb_cells.length; ++i) {\n",
       "                    if (nbb_cells[i].input_prompt_number == nbb_cell_id) {\n",
       "                        if (nbb_cells[i].get_text() == nbb_unformatted_code) {\n",
       "                             nbb_cells[i].set_text(nbb_formatted_code);\n",
       "                        }\n",
       "                        break;\n",
       "                    }\n",
       "                }\n",
       "            }, 500);\n",
       "            "
      ],
      "text/plain": [
       "<IPython.core.display.Javascript object>"
      ]
     },
     "metadata": {},
     "output_type": "display_data"
    }
   ],
   "source": [
    "constraints[0].dual_value"
   ]
  },
  {
   "cell_type": "markdown",
   "metadata": {},
   "source": [
    "Hence, adding 1 unit to the 1st constraint increases the objective value by 1/3, adding 1 unit to the 2nd constraint increases the objective value by 0, adding 1 unit to the 3rd constraint increases the objective value by 29/15."
   ]
  },
  {
   "cell_type": "markdown",
   "metadata": {},
   "source": [
    "### 6.13\n",
    "\n",
    "Consider the linear program $P(\\lambda)$\n",
    "\n",
    "\\begin{align}\n",
    "    \\text{minimize } &3x_1 + (4+2\\lambda)x_2 + 2x_3 − x_4 + (1−3\\lambda)x_5 \\\\\n",
    "    \\text{subject to } \n",
    "    &5x_1 + 3x_2 +2x_3 −2x_4 + x_5 =20 \\\\\n",
    "    &x_1+ x_2+ x_3− x_4+ x_5= 8 \\\\\n",
    "    &x_j \\geq 0, j=1,...,5. \\\\\n",
    "    \\text{where } &\\lambda ≤ −1/4. \\\\\n",
    "\\end{align}"
   ]
  },
  {
   "cell_type": "markdown",
   "metadata": {},
   "source": [
    "\\begin{align}\n",
    "    A &= \n",
    "    \\begin{bmatrix}\n",
    "        5 & 3 & 2 & -2 & 1 \\\\\n",
    "        1 & 1 & 1 & -1 & 1 \\\\\n",
    "    \\end{bmatrix} \\\\\n",
    "    b &= \n",
    "    \\begin{bmatrix}\n",
    "        20 \\\\\n",
    "        8 \\\\\n",
    "    \\end{bmatrix} \\\\\n",
    "    c &= \n",
    "    \\begin{bmatrix}\n",
    "        3 & 4 & 2 & -1 & 1 \\\\\n",
    "    \\end{bmatrix} \\\\\n",
    "    d &= \n",
    "    \\begin{bmatrix}\n",
    "        0 & 2 & 0 & 0 & -3 \\\\\n",
    "    \\end{bmatrix} \\\\\n",
    "\\end{align}\n",
    "\n",
    "\\begin{align}\n",
    "    \\text{minimize } &(c + \\lambda d)^\\top x \\\\\n",
    "    \\text{subject to } &Ax = b \\\\\n",
    "    &x \\geq 0 \\\\\n",
    "\\end{align}"
   ]
  },
  {
   "cell_type": "code",
   "execution_count": 50,
   "metadata": {},
   "outputs": [
    {
     "data": {
      "application/javascript": [
       "\n",
       "            setTimeout(function() {\n",
       "                var nbb_cell_id = 50;\n",
       "                var nbb_unformatted_code = \"A = np.array([[5, 3, 2, -2, 1], [1, 1, 1, -1, 1]])\\nc = np.array([3, 4, 2, -1, 1])\\nd = np.array([0, 2, 0, 0, -3])\\nb = np.array([20, 8])\";\n",
       "                var nbb_formatted_code = \"A = np.array([[5, 3, 2, -2, 1], [1, 1, 1, -1, 1]])\\nc = np.array([3, 4, 2, -1, 1])\\nd = np.array([0, 2, 0, 0, -3])\\nb = np.array([20, 8])\";\n",
       "                var nbb_cells = Jupyter.notebook.get_cells();\n",
       "                for (var i = 0; i < nbb_cells.length; ++i) {\n",
       "                    if (nbb_cells[i].input_prompt_number == nbb_cell_id) {\n",
       "                        if (nbb_cells[i].get_text() == nbb_unformatted_code) {\n",
       "                             nbb_cells[i].set_text(nbb_formatted_code);\n",
       "                        }\n",
       "                        break;\n",
       "                    }\n",
       "                }\n",
       "            }, 500);\n",
       "            "
      ],
      "text/plain": [
       "<IPython.core.display.Javascript object>"
      ]
     },
     "metadata": {},
     "output_type": "display_data"
    }
   ],
   "source": [
    "A = np.array([[5, 3, 2, -2, 1], [1, 1, 1, -1, 1]])\n",
    "c = np.array([3, 4, 2, -1, 1])\n",
    "d = np.array([0, 2, 0, 0, -3])\n",
    "b = np.array([20, 8])"
   ]
  },
  {
   "cell_type": "markdown",
   "metadata": {},
   "source": [
    "**(a) Show that $B = [A_{\\bullet2} A_{\\bullet3}]$ is a feasible basis for this problem.**"
   ]
  },
  {
   "cell_type": "code",
   "execution_count": 51,
   "metadata": {},
   "outputs": [
    {
     "data": {
      "application/javascript": [
       "\n",
       "            setTimeout(function() {\n",
       "                var nbb_cell_id = 51;\n",
       "                var nbb_unformatted_code = \"B = A[:, [1, 2]]\\nNBV = A[:, [0, 3, 4]]\";\n",
       "                var nbb_formatted_code = \"B = A[:, [1, 2]]\\nNBV = A[:, [0, 3, 4]]\";\n",
       "                var nbb_cells = Jupyter.notebook.get_cells();\n",
       "                for (var i = 0; i < nbb_cells.length; ++i) {\n",
       "                    if (nbb_cells[i].input_prompt_number == nbb_cell_id) {\n",
       "                        if (nbb_cells[i].get_text() == nbb_unformatted_code) {\n",
       "                             nbb_cells[i].set_text(nbb_formatted_code);\n",
       "                        }\n",
       "                        break;\n",
       "                    }\n",
       "                }\n",
       "            }, 500);\n",
       "            "
      ],
      "text/plain": [
       "<IPython.core.display.Javascript object>"
      ]
     },
     "metadata": {},
     "output_type": "display_data"
    }
   ],
   "source": [
    "B = A[:, [1, 2]]\n",
    "NBV = A[:, [0, 3, 4]]"
   ]
  },
  {
   "cell_type": "code",
   "execution_count": 52,
   "metadata": {},
   "outputs": [
    {
     "name": "stdout",
     "output_type": "stream",
     "text": [
      "B has full rank.\n"
     ]
    },
    {
     "data": {
      "application/javascript": [
       "\n",
       "            setTimeout(function() {\n",
       "                var nbb_cell_id = 52;\n",
       "                var nbb_unformatted_code = \"print(f\\\"B has full rank.\\\" if np.linalg.det(B) != 0 else f\\\"B does not have full rank.\\\")\";\n",
       "                var nbb_formatted_code = \"print(f\\\"B has full rank.\\\" if np.linalg.det(B) != 0 else f\\\"B does not have full rank.\\\")\";\n",
       "                var nbb_cells = Jupyter.notebook.get_cells();\n",
       "                for (var i = 0; i < nbb_cells.length; ++i) {\n",
       "                    if (nbb_cells[i].input_prompt_number == nbb_cell_id) {\n",
       "                        if (nbb_cells[i].get_text() == nbb_unformatted_code) {\n",
       "                             nbb_cells[i].set_text(nbb_formatted_code);\n",
       "                        }\n",
       "                        break;\n",
       "                    }\n",
       "                }\n",
       "            }, 500);\n",
       "            "
      ],
      "text/plain": [
       "<IPython.core.display.Javascript object>"
      ]
     },
     "metadata": {},
     "output_type": "display_data"
    }
   ],
   "source": [
    "print(f\"B has full rank.\" if np.linalg.det(B) != 0 else f\"B does not have full rank.\")"
   ]
  },
  {
   "cell_type": "markdown",
   "metadata": {},
   "source": [
    "Since Determinant of $B \\not= 0$, by the Invertible Matrix Theorem, its column space spans $\\mathbb{R}^2$ and is therefore a basis for the LP with 2 constraints."
   ]
  },
  {
   "cell_type": "code",
   "execution_count": 53,
   "metadata": {},
   "outputs": [
    {
     "name": "stdout",
     "output_type": "stream",
     "text": [
      "B is feasible because B^-1b >= 0.\n"
     ]
    },
    {
     "data": {
      "application/javascript": [
       "\n",
       "            setTimeout(function() {\n",
       "                var nbb_cell_id = 53;\n",
       "                var nbb_unformatted_code = \"print(\\n    f\\\"B is feasible because B^-1b >= 0.\\\"\\n    if np.alltrue(np.linalg.inv(B) @ b >= 0)\\n    else f\\\"B is not feasible because B^-1b < 0.\\\"\\n)\";\n",
       "                var nbb_formatted_code = \"print(\\n    f\\\"B is feasible because B^-1b >= 0.\\\"\\n    if np.alltrue(np.linalg.inv(B) @ b >= 0)\\n    else f\\\"B is not feasible because B^-1b < 0.\\\"\\n)\";\n",
       "                var nbb_cells = Jupyter.notebook.get_cells();\n",
       "                for (var i = 0; i < nbb_cells.length; ++i) {\n",
       "                    if (nbb_cells[i].input_prompt_number == nbb_cell_id) {\n",
       "                        if (nbb_cells[i].get_text() == nbb_unformatted_code) {\n",
       "                             nbb_cells[i].set_text(nbb_formatted_code);\n",
       "                        }\n",
       "                        break;\n",
       "                    }\n",
       "                }\n",
       "            }, 500);\n",
       "            "
      ],
      "text/plain": [
       "<IPython.core.display.Javascript object>"
      ]
     },
     "metadata": {},
     "output_type": "display_data"
    }
   ],
   "source": [
    "print(\n",
    "    f\"B is feasible because B^-1b >= 0.\"\n",
    "    if np.alltrue(np.linalg.inv(B) @ b >= 0)\n",
    "    else f\"B is not feasible because B^-1b < 0.\"\n",
    ")"
   ]
  },
  {
   "cell_type": "markdown",
   "metadata": {},
   "source": [
    "**(b) For what range of $\\lambda$ values is $B$ an optimal basis for $P(\\lambda)$?**"
   ]
  },
  {
   "cell_type": "markdown",
   "metadata": {},
   "source": [
    "For $B$ to be an optimal basis for $P(\\lambda)$, we need ${c_B}^\\top B^{-1} N - c_N \\leq 0$ for minimization problem:\n",
    "\n",
    "\\begin{align}\n",
    "    \\begin{bmatrix}\n",
    "        (4 + 2\\lambda) & 2 \\\\\n",
    "    \\end{bmatrix}\n",
    "    \\begin{bmatrix}\n",
    "        1 & -2 \\\\\n",
    "        -1 & 3 \\\\\n",
    "    \\end{bmatrix}\n",
    "    \\begin{bmatrix}\n",
    "        5 & -2 & 1 \\\\\n",
    "        1 & -1 & 1 \\\\\n",
    "    \\end{bmatrix}\n",
    "    - \n",
    "    \\begin{bmatrix}\n",
    "        3 & -1 & (1 - 3\\lambda) \\\\\n",
    "    \\end{bmatrix}\n",
    "    &\\leq 0 \\\\\n",
    "    \\begin{bmatrix}\n",
    "        (8 + 6\\lambda) & -2 & -2\\lambda \\\\\n",
    "    \\end{bmatrix}\n",
    "    - \n",
    "    \\begin{bmatrix}\n",
    "        3 & -1 & (1 - 3\\lambda) \\\\\n",
    "    \\end{bmatrix}\n",
    "    &\\leq 0 \\\\\n",
    "    \\begin{bmatrix}\n",
    "        (5+6\\lambda) & -1 & (-3 + 3\\lambda) \\\\\n",
    "    \\end{bmatrix}\n",
    "    &\\leq 0 \\\\\n",
    "    \\lambda &\\leq -5/6 \\\\\n",
    "    -1 &\\leq 0 \\\\\n",
    "    \\lambda &\\leq 1 \\\\\n",
    "\\end{align}\n",
    "\n",
    "Hence, $\\lambda \\leq -5/6$."
   ]
  },
  {
   "cell_type": "markdown",
   "metadata": {},
   "source": [
    "**(c) Solve this parametric linear programming problem for all $\\lambda \\leq −1/4$. That is, find the set of values of the parameter $\\lambda$ for which $P(\\lambda)$ has an optimal solution, and for all such values, find an optimal point $\\bar{x}(\\lambda)$ and the corresponding optimal objective value $\\bar{z}(\\lambda)$.**"
   ]
  },
  {
   "cell_type": "markdown",
   "metadata": {},
   "source": [
    "We first split the range for $\\lambda$ into 1. $\\lambda \\leq -5/6$ and 2. $-5/6 < \\lambda \\leq -1/4$."
   ]
  },
  {
   "cell_type": "markdown",
   "metadata": {},
   "source": [
    "Simplex Tableau:\n",
    "\n",
    "\\begin{align}\n",
    "    &\\begin{array}{c}\n",
    "    \\\\\n",
    "    z \\\\ \n",
    "    ? \\\\\n",
    "    ? \\\\\n",
    "    \\end{array}\n",
    "    \\begin{bmatrix}\n",
    "    \\begin{array}{c|ccccc|c}\n",
    "        z & x_1 & x_2 & x_3 & x_4 & x_5 & b \\\\ \\hline\n",
    "        1 & -3 & -(4+2\\lambda) & -2 & 1 & -(1−3\\lambda) & 0 \\\\ \\hline\n",
    "        &5 & 3 & 2 & −2 & 1 & 20 \\\\\n",
    "        &1 & 1 & 1 & -1 & 1 & 8 \\\\\n",
    "    \\end{array}\n",
    "    \\end{bmatrix} \\\\\n",
    "\\end{align}"
   ]
  },
  {
   "cell_type": "markdown",
   "metadata": {},
   "source": [
    "Simplex Tableau with feasible basis $B = [A_{\\bullet2} A_{\\bullet3}]$:\n",
    "\n",
    "\\begin{align}\n",
    "    &\\begin{array}{c}\n",
    "    \\\\\n",
    "    z \\\\ \n",
    "    x_2 \\\\\n",
    "    x_3 \\\\\n",
    "    \\end{array}\n",
    "    \\begin{bmatrix}\n",
    "    \\begin{array}{c|ccccc|c}\n",
    "      z & x_1 & x_2 & x_3 & x_4 & x_5 & b \\\\ \\hline\n",
    "      1 & 5+6\\lambda & 0 & 0 & -1 & -1+\\lambda & 0 \\\\ \\hline\n",
    "      0 & 3 & 1 & 0 & 0 & -1 & 4 \\\\\n",
    "      0 & -2 & 0 & 1 & -1 & 2 & 4 \\\\\n",
    "    \\end{array}\n",
    "    \\end{bmatrix} \\\\\n",
    "\\end{align}"
   ]
  },
  {
   "cell_type": "markdown",
   "metadata": {},
   "source": [
    "For the first range of $\\lambda$, $\\lambda \\leq -5/6$, the reduced cost coefficients $5+6\\lambda < 0$ and $-1+\\lambda < 0$, meaning that the solution $(x_1=0, x_2=4, x_3=4, x_4=0, x_5=0)$ is optimal for a minimization problem and our objective is $24+8\\lambda$."
   ]
  },
  {
   "cell_type": "markdown",
   "metadata": {},
   "source": [
    "However, for the 2nd range of $\\lambda$, $-5/6 < \\lambda \\leq -1/4$, the reduced cost coefficients $5+6\\lambda > 0$ and $-1+\\lambda < 0$, which means that the feasible basis isnt optimal anymore, we will change basis to $B = [A_{\\bullet1} A_{\\bullet3}]$ because min ratio test chooses leaving variable $x_2$ and we enter $x_1$:"
   ]
  },
  {
   "cell_type": "markdown",
   "metadata": {},
   "source": [
    "Simplex Tableau with feasible basis $B = [A_{\\bullet1} A_{\\bullet3}]$:\n",
    "\n",
    "\\begin{align}\n",
    "    &\\begin{array}{c}\n",
    "    \\\\\n",
    "    z \\\\ \n",
    "    x_1 \\\\\n",
    "    x_3 \\\\\n",
    "    \\end{array}\n",
    "    \\begin{bmatrix}\n",
    "    \\begin{array}{c|ccccc|c}\n",
    "      z & x_1 & x_2 & x_3 & x_4 & x_5 & b \\\\ \\hline\n",
    "      1 & 0 & -(5+6\\lambda) / 3 & 0 & 1 & (2+9\\lambda)/3 & 0 \\\\ \\hline\n",
    "      0 & 1 & 1/3 & 0 & 0 & -1/3 & 4/3 \\\\\n",
    "      0 & 0 & 0 & 1 & -1 & 4/3 & 20/3 \\\\\n",
    "    \\end{array}\n",
    "    \\end{bmatrix} \\\\\n",
    "\\end{align}"
   ]
  },
  {
   "cell_type": "markdown",
   "metadata": {},
   "source": [
    "Hence, $-5/6 < \\lambda \\leq -1/4$, our reduced cost coefficients are $\\leq 0$ for a minimization and hence optimal. Our optimal solution tghen becomes $(x_1=4/3,x_2=0,x_3=20/3,x_4=0, x_5=0)$, and objective value is $52/3$."
   ]
  },
  {
   "cell_type": "markdown",
   "metadata": {},
   "source": [
    "### 6.16\n",
    "\n",
    "Let \n",
    "\n",
    "\\begin{equation*}\n",
    "    A = \n",
    "    \\begin{bmatrix}\n",
    "        3 & 2 & 1 & 0 & 4 & −1 \\\\ \n",
    "        2 & 4 & 2 & −4 & 3 & 2 \\\\\n",
    "        1 & 2 & 3 & 4 & 5 & 6 \\\\\n",
    "        0 & −4 & 4 & 5 & −2 & 1 \\\\\n",
    "    \\end{bmatrix}\n",
    "    \\,\\,,\\,\\,\n",
    "    b = \n",
    "    \\begin{pmatrix}\n",
    "        11, & 22, & 21, &8 \\\\\n",
    "    \\end{pmatrix}\n",
    "    \\,\\,,\\,\\,\n",
    "    c = \n",
    "    \\begin{pmatrix}\n",
    "        11, & 14, & 17, & 1, & 26, & 20 \\\\\n",
    "    \\end{pmatrix}\n",
    "\\end{equation*}\n",
    "\n",
    "The first four columns of the matrix $A$ constitute an optimal basis $B$ in the linear program\n",
    "\n",
    "\\begin{align}\n",
    "    \\text{minimize } &c^\\top x \\\\\n",
    "    \\text{subject to } \n",
    "    &Ax = b \\\\\n",
    "    &x \\geq 0. \\\\\n",
    "\\end{align}"
   ]
  },
  {
   "cell_type": "markdown",
   "metadata": {},
   "source": [
    "Dual\n",
    "\n",
    "\\begin{align}\n",
    "    \\text{maximize } &b^\\top y \\\\\n",
    "    \\text{subject to } \n",
    "    &A^\\top y \\leq c \\\\\n",
    "    &y \\text{ free}. \\\\\n",
    "\\end{align}"
   ]
  },
  {
   "cell_type": "code",
   "execution_count": 2,
   "metadata": {},
   "outputs": [
    {
     "data": {
      "application/javascript": [
       "\n",
       "            setTimeout(function() {\n",
       "                var nbb_cell_id = 2;\n",
       "                var nbb_unformatted_code = \"A = np.array(\\n    [[3, 2, 1, 0, 4, -1], [2, 4, 2, -4, 3, 2], [1, 2, 3, 4, 5, 6], [0, -4, 4, 5, -2, 1]]\\n)\\nB = A[:, :4]\\nb = np.array([11, 22, 21, 8])\\nc = np.array([11, 14, 17, 1, 26, 20])\";\n",
       "                var nbb_formatted_code = \"A = np.array(\\n    [[3, 2, 1, 0, 4, -1], [2, 4, 2, -4, 3, 2], [1, 2, 3, 4, 5, 6], [0, -4, 4, 5, -2, 1]]\\n)\\nB = A[:, :4]\\nb = np.array([11, 22, 21, 8])\\nc = np.array([11, 14, 17, 1, 26, 20])\";\n",
       "                var nbb_cells = Jupyter.notebook.get_cells();\n",
       "                for (var i = 0; i < nbb_cells.length; ++i) {\n",
       "                    if (nbb_cells[i].input_prompt_number == nbb_cell_id) {\n",
       "                        if (nbb_cells[i].get_text() == nbb_unformatted_code) {\n",
       "                             nbb_cells[i].set_text(nbb_formatted_code);\n",
       "                        }\n",
       "                        break;\n",
       "                    }\n",
       "                }\n",
       "            }, 500);\n",
       "            "
      ],
      "text/plain": [
       "<IPython.core.display.Javascript object>"
      ]
     },
     "metadata": {},
     "output_type": "display_data"
    }
   ],
   "source": [
    "A = np.array(\n",
    "    [[3, 2, 1, 0, 4, -1], [2, 4, 2, -4, 3, 2], [1, 2, 3, 4, 5, 6], [0, -4, 4, 5, -2, 1]]\n",
    ")\n",
    "B = A[:, :4]\n",
    "b = np.array([11, 22, 21, 8])\n",
    "c = np.array([11, 14, 17, 1, 26, 20])"
   ]
  },
  {
   "cell_type": "code",
   "execution_count": 3,
   "metadata": {},
   "outputs": [
    {
     "name": "stdout",
     "output_type": "stream",
     "text": [
      "Linear Programming Solution\n",
      "==============================\n",
      "Status: optimal\n",
      "The optimal value is: 127.0\n",
      "The optimal solution is: x = [0.0, 3.0, 5.0, -0.0, 0.0, 0.0]\n"
     ]
    },
    {
     "data": {
      "application/javascript": [
       "\n",
       "            setTimeout(function() {\n",
       "                var nbb_cell_id = 3;\n",
       "                var nbb_unformatted_code = \"# Create one vector optimization variable.\\nx = cp.Variable((6,), integer=False)\\n\\n# Create constraints.\\nconstraints = [\\n    A @ x == b,\\n    x >= 0,\\n]\\n\\n# Form objective.\\nobj = cp.Minimize(c.T @ x)\\n\\n# Form and solve problem.\\nprob = cp.Problem(obj, constraints)\\nprob.solve()\\n\\nprint(\\\"Linear Programming Solution\\\")\\nprint(\\\"=\\\" * 30)\\nprint(f\\\"Status: {prob.status}\\\")\\nprint(f\\\"The optimal value is: {np.round(prob.value, 2)}\\\")\\nprint(f\\\"The optimal solution is: x = {[np.round(x_i, 2) for x_i in x.value]}\\\")\";\n",
       "                var nbb_formatted_code = \"# Create one vector optimization variable.\\nx = cp.Variable((6,), integer=False)\\n\\n# Create constraints.\\nconstraints = [\\n    A @ x == b,\\n    x >= 0,\\n]\\n\\n# Form objective.\\nobj = cp.Minimize(c.T @ x)\\n\\n# Form and solve problem.\\nprob = cp.Problem(obj, constraints)\\nprob.solve()\\n\\nprint(\\\"Linear Programming Solution\\\")\\nprint(\\\"=\\\" * 30)\\nprint(f\\\"Status: {prob.status}\\\")\\nprint(f\\\"The optimal value is: {np.round(prob.value, 2)}\\\")\\nprint(f\\\"The optimal solution is: x = {[np.round(x_i, 2) for x_i in x.value]}\\\")\";\n",
       "                var nbb_cells = Jupyter.notebook.get_cells();\n",
       "                for (var i = 0; i < nbb_cells.length; ++i) {\n",
       "                    if (nbb_cells[i].input_prompt_number == nbb_cell_id) {\n",
       "                        if (nbb_cells[i].get_text() == nbb_unformatted_code) {\n",
       "                             nbb_cells[i].set_text(nbb_formatted_code);\n",
       "                        }\n",
       "                        break;\n",
       "                    }\n",
       "                }\n",
       "            }, 500);\n",
       "            "
      ],
      "text/plain": [
       "<IPython.core.display.Javascript object>"
      ]
     },
     "metadata": {},
     "output_type": "display_data"
    }
   ],
   "source": [
    "# Create one vector optimization variable.\n",
    "x = cp.Variable((6,), integer=False)\n",
    "\n",
    "# Create constraints.\n",
    "constraints = [\n",
    "    A @ x == b,\n",
    "    x >= 0,\n",
    "]\n",
    "\n",
    "# Form objective.\n",
    "obj = cp.Minimize(c.T @ x)\n",
    "\n",
    "# Form and solve problem.\n",
    "prob = cp.Problem(obj, constraints)\n",
    "prob.solve()\n",
    "\n",
    "print(\"Linear Programming Solution\")\n",
    "print(\"=\" * 30)\n",
    "print(f\"Status: {prob.status}\")\n",
    "print(f\"The optimal value is: {np.round(prob.value, 2)}\")\n",
    "print(f\"The optimal solution is: x = {[np.round(x_i, 2) for x_i in x.value]}\")"
   ]
  },
  {
   "cell_type": "markdown",
   "metadata": {},
   "source": [
    "**(a) Find the inverse of $B$.**"
   ]
  },
  {
   "cell_type": "code",
   "execution_count": 4,
   "metadata": {},
   "outputs": [
    {
     "data": {
      "text/plain": [
       "array([[ 0.44736842, -0.09210526, -0.15789474,  0.05263158],\n",
       "       [-0.09210526,  0.02631579,  0.22368421, -0.15789474],\n",
       "       [-0.15789474,  0.22368421,  0.02631579,  0.15789474],\n",
       "       [ 0.05263158, -0.15789474,  0.15789474, -0.05263158]])"
      ]
     },
     "execution_count": 4,
     "metadata": {},
     "output_type": "execute_result"
    },
    {
     "data": {
      "application/javascript": [
       "\n",
       "            setTimeout(function() {\n",
       "                var nbb_cell_id = 4;\n",
       "                var nbb_unformatted_code = \"np.linalg.inv(B)\";\n",
       "                var nbb_formatted_code = \"np.linalg.inv(B)\";\n",
       "                var nbb_cells = Jupyter.notebook.get_cells();\n",
       "                for (var i = 0; i < nbb_cells.length; ++i) {\n",
       "                    if (nbb_cells[i].input_prompt_number == nbb_cell_id) {\n",
       "                        if (nbb_cells[i].get_text() == nbb_unformatted_code) {\n",
       "                             nbb_cells[i].set_text(nbb_formatted_code);\n",
       "                        }\n",
       "                        break;\n",
       "                    }\n",
       "                }\n",
       "            }, 500);\n",
       "            "
      ],
      "text/plain": [
       "<IPython.core.display.Javascript object>"
      ]
     },
     "metadata": {},
     "output_type": "display_data"
    }
   ],
   "source": [
    "np.linalg.inv(B)"
   ]
  },
  {
   "cell_type": "markdown",
   "metadata": {},
   "source": [
    "**(b) Find the basic solution corresponding to B and verify that it is a degenerate optimal solution of the LP.**"
   ]
  },
  {
   "cell_type": "code",
   "execution_count": 5,
   "metadata": {},
   "outputs": [
    {
     "name": "stdout",
     "output_type": "stream",
     "text": [
      "Basic Solution: ['x_1=0.0', 'x_2=3.0', 'x_3=5.0', 'x_4=0.0', 'x_5=0.0', 'x_6=0.0']\n"
     ]
    },
    {
     "data": {
      "application/javascript": [
       "\n",
       "            setTimeout(function() {\n",
       "                var nbb_cell_id = 5;\n",
       "                var nbb_unformatted_code = \"x = np.zeros(c.shape)\\nx[:4] = np.linalg.inv(B) @ b\\nprint(\\n    f\\\"Basic Solution: {['x_' + str(i+1) + '=' + str(np.round(x_i, 2)) for i, x_i in enumerate(x)]}\\\"\\n)\";\n",
       "                var nbb_formatted_code = \"x = np.zeros(c.shape)\\nx[:4] = np.linalg.inv(B) @ b\\nprint(\\n    f\\\"Basic Solution: {['x_' + str(i+1) + '=' + str(np.round(x_i, 2)) for i, x_i in enumerate(x)]}\\\"\\n)\";\n",
       "                var nbb_cells = Jupyter.notebook.get_cells();\n",
       "                for (var i = 0; i < nbb_cells.length; ++i) {\n",
       "                    if (nbb_cells[i].input_prompt_number == nbb_cell_id) {\n",
       "                        if (nbb_cells[i].get_text() == nbb_unformatted_code) {\n",
       "                             nbb_cells[i].set_text(nbb_formatted_code);\n",
       "                        }\n",
       "                        break;\n",
       "                    }\n",
       "                }\n",
       "            }, 500);\n",
       "            "
      ],
      "text/plain": [
       "<IPython.core.display.Javascript object>"
      ]
     },
     "metadata": {},
     "output_type": "display_data"
    }
   ],
   "source": [
    "x = np.zeros(c.shape)\n",
    "x[:4] = np.linalg.inv(B) @ b\n",
    "print(\n",
    "    f\"Basic Solution: {['x_' + str(i+1) + '=' + str(np.round(x_i, 2)) for i, x_i in enumerate(x)]}\"\n",
    ")"
   ]
  },
  {
   "cell_type": "markdown",
   "metadata": {},
   "source": [
    "Since the primal basic variables $x_1, x_2, x_3, x_4$ corresponding to basis contain 0 for their values, it means that the LP is degenerate, there were redundant constraints."
   ]
  },
  {
   "cell_type": "markdown",
   "metadata": {},
   "source": [
    "**(c) Find the optimal solution of the dual problem.**"
   ]
  },
  {
   "cell_type": "markdown",
   "metadata": {},
   "source": [
    "By Complementary Slackness, we know that dual slack variables $t_k, k \\in [1, 2, 3, 4, 5, 6]$ will be:\n",
    "\n",
    "\\begin{align}\n",
    "    t_1 &\\not= 0 \\because x_1 = 0 \\\\\n",
    "    t_2 &= 0 \\because x_2 \\not= 0 \\\\\n",
    "    t_3 &= 0 \\because x_3 \\not= 0 \\\\\n",
    "    t_4 &\\not= 0 \\because x_4 = 0 \\\\\n",
    "    t_5 &\\not= 0 \\because x_5 = 0 \\\\\n",
    "    t_6 &\\not= 0 \\because x_6 = 0 \\\\\n",
    "\\end{align}"
   ]
  },
  {
   "cell_type": "markdown",
   "metadata": {},
   "source": [
    "Plugging values into the dual constraints:\n",
    "\n",
    "\\begin{align}\n",
    "    3y_1 + 2y_2 + y_3 + 0y_4 + t_1 &= 11 \\\\\n",
    "    2y_1 + 4y_2 + 2y_3 + -4y_4 &= 14 \\\\\n",
    "    y_1 + 2y_2 + 3y_3 + 4y_4 &= 17 \\\\\n",
    "    0y_1 - 4y_2 + 4y_3 + 5y_4 + t_4 &= 1 \\\\\n",
    "    4y_1 + 3y_2 + 5y_3 - 2y_4 + t_5 &= 26 \\\\\n",
    "    -y_1 + 2y_2 + 6y_3 + y_4 + t_6 &= 20 \\\\\n",
    "\\end{align}"
   ]
  },
  {
   "cell_type": "markdown",
   "metadata": {},
   "source": [
    "Dual Optimal Solution:\n",
    "\n",
    "\\begin{align}\n",
    "    y &= C_B B^{-1} \n",
    "\\end{align}"
   ]
  },
  {
   "cell_type": "code",
   "execution_count": 16,
   "metadata": {},
   "outputs": [
    {
     "data": {
      "text/plain": [
       "array([1., 3., 2., 1.])"
      ]
     },
     "execution_count": 16,
     "metadata": {},
     "output_type": "execute_result"
    },
    {
     "data": {
      "application/javascript": [
       "\n",
       "            setTimeout(function() {\n",
       "                var nbb_cell_id = 16;\n",
       "                var nbb_unformatted_code = \"c[0:4]@np.linalg.inv(B)\";\n",
       "                var nbb_formatted_code = \"c[0:4] @ np.linalg.inv(B)\";\n",
       "                var nbb_cells = Jupyter.notebook.get_cells();\n",
       "                for (var i = 0; i < nbb_cells.length; ++i) {\n",
       "                    if (nbb_cells[i].input_prompt_number == nbb_cell_id) {\n",
       "                        if (nbb_cells[i].get_text() == nbb_unformatted_code) {\n",
       "                             nbb_cells[i].set_text(nbb_formatted_code);\n",
       "                        }\n",
       "                        break;\n",
       "                    }\n",
       "                }\n",
       "            }, 500);\n",
       "            "
      ],
      "text/plain": [
       "<IPython.core.display.Javascript object>"
      ]
     },
     "metadata": {},
     "output_type": "display_data"
    }
   ],
   "source": [
    "c[0:4]@np.linalg.inv(B)"
   ]
  },
  {
   "cell_type": "markdown",
   "metadata": {},
   "source": [
    "$\\therefore$ Dual Optimal Solution $\\bar{y}$:\n",
    "\n",
    "\\begin{align}\n",
    "    y_1 &= 1 \\\\\n",
    "    y_2 &= 3 \\\\\n",
    "    y_3 &= 2 \\\\\n",
    "    y_4 &= 1 \\\\\n",
    "\\end{align}"
   ]
  },
  {
   "cell_type": "markdown",
   "metadata": {},
   "source": [
    "**(d) For each of the components of the right-hand side vector b determine whether (positive or negative) perturbations of that component yield a feasible solution of the LP. (Hint: See Section 6.2.)**"
   ]
  },
  {
   "cell_type": "markdown",
   "metadata": {},
   "source": [
    "RHS, Non-zero basic solution"
   ]
  },
  {
   "cell_type": "markdown",
   "metadata": {},
   "source": [
    "For basis to remain feasible, $\\bar{b} + B^{-1}\\delta b \\geq 0$"
   ]
  },
  {
   "cell_type": "code",
   "execution_count": 66,
   "metadata": {},
   "outputs": [
    {
     "data": {
      "application/javascript": [
       "\n",
       "            setTimeout(function() {\n",
       "                var nbb_cell_id = 66;\n",
       "                var nbb_unformatted_code = \"def \\u03b4_b_range(B, b):\\n    B_inv = np.linalg.inv(B)\\n    b_bar = B_inv @ b\\n    for row_idx in range(B_inv.shape[0]):\\n        \\u03b4_candidates = -b_bar / B_inv[:, row_idx]\\n        \\u03b4_ub, \\u03b4_lb = (\\n            min(\\u03b4_candidates[np.sign(B_inv[:, row_idx]) < 0]),\\n            max(\\u03b4_candidates[np.sign(B_inv[:, row_idx]) > 0]),\\n        )\\n        if np.allclose(\\u03b4_ub, 0):\\n            \\u03b4_ub = 0\\n        if np.allclose(\\u03b4_lb, 0):\\n            \\u03b4_lb = 0\\n        if \\u03b4_ub == 0 and \\u03b4_lb == 0:\\n            print(f\\\"\\u03b4_{row_idx+1} cannot be perturbed.\\\")\\n        else:\\n            print(f\\\"{\\u03b4_lb} <= \\u03b4_{row_idx+1} <= {\\u03b4_ub}.\\\")\\n\\n        # Feasibility Checks\\n        assert np.alltrue(\\u03b4_lb * np.linalg.inv(B)[:, row_idx] >= -b_bar), print(\\n            \\\"\\u03b4_lb\\\", \\u03b4_lb * np.linalg.inv(B)[:, row_idx], -b_bar\\n        )\\n        assert np.alltrue(\\u03b4_ub * np.linalg.inv(B)[:, row_idx] >= -b_bar), print(\\n            \\\"\\u03b4_ub\\\", \\u03b4_ub * np.linalg.inv(B)[:, row_idx], -b_bar\\n        )\";\n",
       "                var nbb_formatted_code = \"def \\u03b4_b_range(B, b):\\n    B_inv = np.linalg.inv(B)\\n    b_bar = B_inv @ b\\n    for row_idx in range(B_inv.shape[0]):\\n        \\u03b4_candidates = -b_bar / B_inv[:, row_idx]\\n        \\u03b4_ub, \\u03b4_lb = (\\n            min(\\u03b4_candidates[np.sign(B_inv[:, row_idx]) < 0]),\\n            max(\\u03b4_candidates[np.sign(B_inv[:, row_idx]) > 0]),\\n        )\\n        if np.allclose(\\u03b4_ub, 0):\\n            \\u03b4_ub = 0\\n        if np.allclose(\\u03b4_lb, 0):\\n            \\u03b4_lb = 0\\n        if \\u03b4_ub == 0 and \\u03b4_lb == 0:\\n            print(f\\\"\\u03b4_{row_idx+1} cannot be perturbed.\\\")\\n        else:\\n            print(f\\\"{\\u03b4_lb} <= \\u03b4_{row_idx+1} <= {\\u03b4_ub}.\\\")\\n\\n        # Feasibility Checks\\n        assert np.alltrue(\\u03b4_lb * np.linalg.inv(B)[:, row_idx] >= -b_bar), print(\\n            \\\"\\u03b4_lb\\\", \\u03b4_lb * np.linalg.inv(B)[:, row_idx], -b_bar\\n        )\\n        assert np.alltrue(\\u03b4_ub * np.linalg.inv(B)[:, row_idx] >= -b_bar), print(\\n            \\\"\\u03b4_ub\\\", \\u03b4_ub * np.linalg.inv(B)[:, row_idx], -b_bar\\n        )\";\n",
       "                var nbb_cells = Jupyter.notebook.get_cells();\n",
       "                for (var i = 0; i < nbb_cells.length; ++i) {\n",
       "                    if (nbb_cells[i].input_prompt_number == nbb_cell_id) {\n",
       "                        if (nbb_cells[i].get_text() == nbb_unformatted_code) {\n",
       "                             nbb_cells[i].set_text(nbb_formatted_code);\n",
       "                        }\n",
       "                        break;\n",
       "                    }\n",
       "                }\n",
       "            }, 500);\n",
       "            "
      ],
      "text/plain": [
       "<IPython.core.display.Javascript object>"
      ]
     },
     "metadata": {},
     "output_type": "display_data"
    }
   ],
   "source": [
    "def δ_b_range(B, b):\n",
    "    B_inv = np.linalg.inv(B)\n",
    "    b_bar = B_inv @ b\n",
    "    for row_idx in range(B_inv.shape[0]):\n",
    "        δ_candidates = -b_bar / B_inv[:, row_idx]\n",
    "        δ_ub, δ_lb = (\n",
    "            min(δ_candidates[np.sign(B_inv[:, row_idx]) < 0]),\n",
    "            max(δ_candidates[np.sign(B_inv[:, row_idx]) > 0]),\n",
    "        )\n",
    "        if np.allclose(δ_ub, 0):\n",
    "            δ_ub = 0\n",
    "        if np.allclose(δ_lb, 0):\n",
    "            δ_lb = 0\n",
    "        if δ_ub == 0 and δ_lb == 0:\n",
    "            print(f\"δ_{row_idx+1} cannot be perturbed.\")\n",
    "        else:\n",
    "            print(f\"{δ_lb} <= δ_{row_idx+1} <= {δ_ub}.\")\n",
    "\n",
    "        # Feasibility Checks\n",
    "        assert np.alltrue(δ_lb * np.linalg.inv(B)[:, row_idx] >= -b_bar), print(\n",
    "            \"δ_lb\", δ_lb * np.linalg.inv(B)[:, row_idx], -b_bar\n",
    "        )\n",
    "        assert np.alltrue(δ_ub * np.linalg.inv(B)[:, row_idx] >= -b_bar), print(\n",
    "            \"δ_ub\", δ_ub * np.linalg.inv(B)[:, row_idx], -b_bar\n",
    "        )"
   ]
  },
  {
   "cell_type": "code",
   "execution_count": 67,
   "metadata": {},
   "outputs": [
    {
     "name": "stdout",
     "output_type": "stream",
     "text": [
      "0 <= δ_1 <= 31.666666666666668.\n",
      "-22.352941176470587 <= δ_2 <= 0.\n",
      "δ_3 cannot be perturbed.\n",
      "δ_4 cannot be perturbed.\n"
     ]
    },
    {
     "data": {
      "application/javascript": [
       "\n",
       "            setTimeout(function() {\n",
       "                var nbb_cell_id = 67;\n",
       "                var nbb_unformatted_code = \"\\u03b4_b_range(B, b)\";\n",
       "                var nbb_formatted_code = \"\\u03b4_b_range(B, b)\";\n",
       "                var nbb_cells = Jupyter.notebook.get_cells();\n",
       "                for (var i = 0; i < nbb_cells.length; ++i) {\n",
       "                    if (nbb_cells[i].input_prompt_number == nbb_cell_id) {\n",
       "                        if (nbb_cells[i].get_text() == nbb_unformatted_code) {\n",
       "                             nbb_cells[i].set_text(nbb_formatted_code);\n",
       "                        }\n",
       "                        break;\n",
       "                    }\n",
       "                }\n",
       "            }, 500);\n",
       "            "
      ],
      "text/plain": [
       "<IPython.core.display.Javascript object>"
      ]
     },
     "metadata": {},
     "output_type": "display_data"
    }
   ],
   "source": [
    "δ_b_range(B, b)"
   ]
  },
  {
   "cell_type": "markdown",
   "metadata": {},
   "source": [
    "**(e) What does all this say about giving an economic interpretation to the shadow prices in this LP?**"
   ]
  },
  {
   "cell_type": "code",
   "execution_count": 68,
   "metadata": {},
   "outputs": [
    {
     "data": {
      "text/plain": [
       "array([1., 3., 2., 1.])"
      ]
     },
     "execution_count": 68,
     "metadata": {},
     "output_type": "execute_result"
    },
    {
     "data": {
      "application/javascript": [
       "\n",
       "            setTimeout(function() {\n",
       "                var nbb_cell_id = 68;\n",
       "                var nbb_unformatted_code = \"c[0:4]@np.linalg.inv(B)\";\n",
       "                var nbb_formatted_code = \"c[0:4] @ np.linalg.inv(B)\";\n",
       "                var nbb_cells = Jupyter.notebook.get_cells();\n",
       "                for (var i = 0; i < nbb_cells.length; ++i) {\n",
       "                    if (nbb_cells[i].input_prompt_number == nbb_cell_id) {\n",
       "                        if (nbb_cells[i].get_text() == nbb_unformatted_code) {\n",
       "                             nbb_cells[i].set_text(nbb_formatted_code);\n",
       "                        }\n",
       "                        break;\n",
       "                    }\n",
       "                }\n",
       "            }, 500);\n",
       "            "
      ],
      "text/plain": [
       "<IPython.core.display.Javascript object>"
      ]
     },
     "metadata": {},
     "output_type": "display_data"
    }
   ],
   "source": [
    "c[0:4] @ np.linalg.inv(B)"
   ]
  },
  {
   "cell_type": "markdown",
   "metadata": {},
   "source": [
    "The dual variables (shadow prices) can be interpreted as how much the objective value will increase if the RHS of the primal constraint is increased. E.g. if $b_1 = 11 + (\\delta_1=1)$ instead of $11$ (possible because $\\delta_1=1$ is within the range of pertubation as shown in the previous part), the objective will increase by 1. By complementary slackness, if the dual variable is 0, it means that the primal constraint corresponding to that is not (active / binding). If the dual variable is $> 0$, it means that the constraint is (active / binding)."
   ]
  },
  {
   "cell_type": "markdown",
   "metadata": {},
   "source": [
    "**(f) Investigate what can be said about shadow prices in other LPs having degenerate optimal basic solutions such that only one basic variable has value zero?**"
   ]
  },
  {
   "cell_type": "markdown",
   "metadata": {},
   "source": [
    "The shadow price will be 0 for that basic variable whose value is 0."
   ]
  },
  {
   "cell_type": "markdown",
   "metadata": {},
   "source": [
    "---\n",
    "## Extra Question\n",
    "\n",
    "Consider the following linear program:\n",
    "\n",
    "\\begin{align}\n",
    "    \\text{maximize } &2x_1 + x_2 − x_3 \\\\\n",
    "    \\text{subject to } \n",
    "    &x_1 + 2x_2 + x_3 \\leq 8 \\\\\n",
    "    &−x_1 + x_2 − 2x_3 \\leq 4 \\\\\n",
    "    &\\text{and } x_1, x_2, x_3 \\geq 0 \\\\\n",
    "\\end{align}\n",
    "\n",
    "Parts (b) through (e) below are independent of each other.\n",
    "\n",
    "Standard Form\n",
    "\n",
    "\\begin{align}\n",
    "    \\text{maximize } &2x_1 + x_2 − x_3 \\\\\n",
    "    \\text{subject to } \n",
    "    &x_1 + 2x_2 + x_3 + x_4 = 8 \\\\\n",
    "    &−x_1 + x_2 − 2x_3 + x_5 =  4 \\\\\n",
    "    &\\text{and } x_1, x_2, x_3, x_4, x_5 \\geq 0 \\\\\n",
    "\\end{align}"
   ]
  },
  {
   "cell_type": "code",
   "execution_count": 58,
   "metadata": {},
   "outputs": [
    {
     "data": {
      "application/javascript": [
       "\n",
       "            setTimeout(function() {\n",
       "                var nbb_cell_id = 58;\n",
       "                var nbb_unformatted_code = \"A = np.array([[1, 2, 1, 1, 0], [-1, 1, -2, 0, 1]])\\nb = np.array([8, 4])\\nc = np.array([2, 1, -1, 0, 0])\";\n",
       "                var nbb_formatted_code = \"A = np.array([[1, 2, 1, 1, 0], [-1, 1, -2, 0, 1]])\\nb = np.array([8, 4])\\nc = np.array([2, 1, -1, 0, 0])\";\n",
       "                var nbb_cells = Jupyter.notebook.get_cells();\n",
       "                for (var i = 0; i < nbb_cells.length; ++i) {\n",
       "                    if (nbb_cells[i].input_prompt_number == nbb_cell_id) {\n",
       "                        if (nbb_cells[i].get_text() == nbb_unformatted_code) {\n",
       "                             nbb_cells[i].set_text(nbb_formatted_code);\n",
       "                        }\n",
       "                        break;\n",
       "                    }\n",
       "                }\n",
       "            }, 500);\n",
       "            "
      ],
      "text/plain": [
       "<IPython.core.display.Javascript object>"
      ]
     },
     "metadata": {},
     "output_type": "display_data"
    }
   ],
   "source": [
    "A = np.array([[1, 2, 1, 1, 0], [-1, 1, -2, 0, 1]])\n",
    "b = np.array([8, 4])\n",
    "c = np.array([2, 1, -1, 0, 0])"
   ]
  },
  {
   "cell_type": "markdown",
   "metadata": {},
   "source": [
    "**(a) You are given that an optimal solution of the problem has $x_1$ and $x_5$ as the basic variables. Compute this solution.**"
   ]
  },
  {
   "cell_type": "markdown",
   "metadata": {},
   "source": [
    "Final Tableau for Optimal Solution:\n",
    "\n",
    "\\begin{align}\n",
    "    &\\begin{array}{c}\n",
    "    \\\\\n",
    "    z \\\\ \n",
    "    x_1 \\\\\n",
    "    x_5 \\\\\n",
    "    \\end{array}\n",
    "    \\begin{bmatrix}\n",
    "    \\begin{array}{c|ccccc|c}\n",
    "      z & x_1 & x_2 & x_3 & x_4 & x_5 & b \\\\ \\hline\n",
    "      16 & 0 & 3 & 3 & 2 & 0 & - \\\\ \\hline\n",
    "      - & 1 & 2 & 1 & 1 & 0 & 8 \\\\\n",
    "      - & 0 & 3 & -1 & 1 & 1 & 12 \\\\\n",
    "    \\end{array}\n",
    "    \\end{bmatrix} \\\\\n",
    "\\end{align}"
   ]
  },
  {
   "cell_type": "code",
   "execution_count": 59,
   "metadata": {},
   "outputs": [
    {
     "data": {
      "text/plain": [
       "array([ 8., 12.])"
      ]
     },
     "execution_count": 59,
     "metadata": {},
     "output_type": "execute_result"
    },
    {
     "data": {
      "application/javascript": [
       "\n",
       "            setTimeout(function() {\n",
       "                var nbb_cell_id = 59;\n",
       "                var nbb_unformatted_code = \"np.linalg.inv(A[:, [0, 4]]) @ b\";\n",
       "                var nbb_formatted_code = \"np.linalg.inv(A[:, [0, 4]]) @ b\";\n",
       "                var nbb_cells = Jupyter.notebook.get_cells();\n",
       "                for (var i = 0; i < nbb_cells.length; ++i) {\n",
       "                    if (nbb_cells[i].input_prompt_number == nbb_cell_id) {\n",
       "                        if (nbb_cells[i].get_text() == nbb_unformatted_code) {\n",
       "                             nbb_cells[i].set_text(nbb_formatted_code);\n",
       "                        }\n",
       "                        break;\n",
       "                    }\n",
       "                }\n",
       "            }, 500);\n",
       "            "
      ],
      "text/plain": [
       "<IPython.core.display.Javascript object>"
      ]
     },
     "metadata": {},
     "output_type": "display_data"
    }
   ],
   "source": [
    "np.linalg.inv(A[:, [0, 4]]) @ b"
   ]
  },
  {
   "cell_type": "code",
   "execution_count": 60,
   "metadata": {},
   "outputs": [
    {
     "data": {
      "text/plain": [
       "array([3., 3., 2.])"
      ]
     },
     "execution_count": 60,
     "metadata": {},
     "output_type": "execute_result"
    },
    {
     "data": {
      "application/javascript": [
       "\n",
       "            setTimeout(function() {\n",
       "                var nbb_cell_id = 60;\n",
       "                var nbb_unformatted_code = \"(c[[0, 4]].T @ np.linalg.inv(A[:, [0, 4]]) @ A[:, [1, 2, 3]]) - c[[1, 2, 3]]\";\n",
       "                var nbb_formatted_code = \"(c[[0, 4]].T @ np.linalg.inv(A[:, [0, 4]]) @ A[:, [1, 2, 3]]) - c[[1, 2, 3]]\";\n",
       "                var nbb_cells = Jupyter.notebook.get_cells();\n",
       "                for (var i = 0; i < nbb_cells.length; ++i) {\n",
       "                    if (nbb_cells[i].input_prompt_number == nbb_cell_id) {\n",
       "                        if (nbb_cells[i].get_text() == nbb_unformatted_code) {\n",
       "                             nbb_cells[i].set_text(nbb_formatted_code);\n",
       "                        }\n",
       "                        break;\n",
       "                    }\n",
       "                }\n",
       "            }, 500);\n",
       "            "
      ],
      "text/plain": [
       "<IPython.core.display.Javascript object>"
      ]
     },
     "metadata": {},
     "output_type": "display_data"
    }
   ],
   "source": [
    "(c[[0, 4]].T @ np.linalg.inv(A[:, [0, 4]]) @ A[:, [1, 2, 3]]) - c[[1, 2, 3]]"
   ]
  },
  {
   "cell_type": "markdown",
   "metadata": {},
   "source": [
    "Since reduced cost coefficients are >= 0 for maximization problem, solution is optimal."
   ]
  },
  {
   "cell_type": "markdown",
   "metadata": {},
   "source": [
    "Optimal Solution: $(x_1=8, x_2=0, x_3=0, x_4=0, x_5=12)$"
   ]
  },
  {
   "cell_type": "code",
   "execution_count": 61,
   "metadata": {},
   "outputs": [
    {
     "name": "stdout",
     "output_type": "stream",
     "text": [
      "Linear Programming Solution\n",
      "==============================\n",
      "Status: optimal\n",
      "The optimal value is: 16.0\n",
      "The optimal solution is: x = [8.0, 0.0, -0.0, 0.0, 12.0]\n"
     ]
    },
    {
     "data": {
      "application/javascript": [
       "\n",
       "            setTimeout(function() {\n",
       "                var nbb_cell_id = 61;\n",
       "                var nbb_unformatted_code = \"# Create one vector optimization variable.\\nx = cp.Variable((5,), integer=False)\\n\\n# Create constraints.\\nconstraints = [\\n    A @ x == b,\\n    x >= 0,\\n]\\n\\n# Form objective.\\nobj = cp.Maximize(c.T @ x)\\n\\n# Form and solve problem.\\nprob = cp.Problem(obj, constraints)\\nprob.solve()\\n\\nprint(\\\"Linear Programming Solution\\\")\\nprint(\\\"=\\\" * 30)\\nprint(f\\\"Status: {prob.status}\\\")\\nprint(f\\\"The optimal value is: {np.round(prob.value, 2)}\\\")\\nprint(f\\\"The optimal solution is: x = {[np.round(x_i, 2) for x_i in x.value]}\\\")\";\n",
       "                var nbb_formatted_code = \"# Create one vector optimization variable.\\nx = cp.Variable((5,), integer=False)\\n\\n# Create constraints.\\nconstraints = [\\n    A @ x == b,\\n    x >= 0,\\n]\\n\\n# Form objective.\\nobj = cp.Maximize(c.T @ x)\\n\\n# Form and solve problem.\\nprob = cp.Problem(obj, constraints)\\nprob.solve()\\n\\nprint(\\\"Linear Programming Solution\\\")\\nprint(\\\"=\\\" * 30)\\nprint(f\\\"Status: {prob.status}\\\")\\nprint(f\\\"The optimal value is: {np.round(prob.value, 2)}\\\")\\nprint(f\\\"The optimal solution is: x = {[np.round(x_i, 2) for x_i in x.value]}\\\")\";\n",
       "                var nbb_cells = Jupyter.notebook.get_cells();\n",
       "                for (var i = 0; i < nbb_cells.length; ++i) {\n",
       "                    if (nbb_cells[i].input_prompt_number == nbb_cell_id) {\n",
       "                        if (nbb_cells[i].get_text() == nbb_unformatted_code) {\n",
       "                             nbb_cells[i].set_text(nbb_formatted_code);\n",
       "                        }\n",
       "                        break;\n",
       "                    }\n",
       "                }\n",
       "            }, 500);\n",
       "            "
      ],
      "text/plain": [
       "<IPython.core.display.Javascript object>"
      ]
     },
     "metadata": {},
     "output_type": "display_data"
    }
   ],
   "source": [
    "# Create one vector optimization variable.\n",
    "x = cp.Variable((5,), integer=False)\n",
    "\n",
    "# Create constraints.\n",
    "constraints = [\n",
    "    A @ x == b,\n",
    "    x >= 0,\n",
    "]\n",
    "\n",
    "# Form objective.\n",
    "obj = cp.Maximize(c.T @ x)\n",
    "\n",
    "# Form and solve problem.\n",
    "prob = cp.Problem(obj, constraints)\n",
    "prob.solve()\n",
    "\n",
    "print(\"Linear Programming Solution\")\n",
    "print(\"=\" * 30)\n",
    "print(f\"Status: {prob.status}\")\n",
    "print(f\"The optimal value is: {np.round(prob.value, 2)}\")\n",
    "print(f\"The optimal solution is: x = {[np.round(x_i, 2) for x_i in x.value]}\")"
   ]
  },
  {
   "cell_type": "markdown",
   "metadata": {},
   "source": [
    "**(b) Using sensitivity analysis, find a new optimal solution if the coefficient of $x_2$ in the objective function is changed from 1 to 5.**"
   ]
  },
  {
   "cell_type": "code",
   "execution_count": 62,
   "metadata": {},
   "outputs": [
    {
     "data": {
      "application/javascript": [
       "\n",
       "            setTimeout(function() {\n",
       "                var nbb_cell_id = 62;\n",
       "                var nbb_unformatted_code = \"A = np.array([[1, 2, 1, 1, 0], [-1, 1, -2, 0, 1]])\\nb = np.array([8, 4])\\nc = np.array([2, 5, -1, 0, 0])\";\n",
       "                var nbb_formatted_code = \"A = np.array([[1, 2, 1, 1, 0], [-1, 1, -2, 0, 1]])\\nb = np.array([8, 4])\\nc = np.array([2, 5, -1, 0, 0])\";\n",
       "                var nbb_cells = Jupyter.notebook.get_cells();\n",
       "                for (var i = 0; i < nbb_cells.length; ++i) {\n",
       "                    if (nbb_cells[i].input_prompt_number == nbb_cell_id) {\n",
       "                        if (nbb_cells[i].get_text() == nbb_unformatted_code) {\n",
       "                             nbb_cells[i].set_text(nbb_formatted_code);\n",
       "                        }\n",
       "                        break;\n",
       "                    }\n",
       "                }\n",
       "            }, 500);\n",
       "            "
      ],
      "text/plain": [
       "<IPython.core.display.Javascript object>"
      ]
     },
     "metadata": {},
     "output_type": "display_data"
    }
   ],
   "source": [
    "A = np.array([[1, 2, 1, 1, 0], [-1, 1, -2, 0, 1]])\n",
    "b = np.array([8, 4])\n",
    "c = np.array([2, 5, -1, 0, 0])"
   ]
  },
  {
   "cell_type": "markdown",
   "metadata": {},
   "source": [
    "${c_B}^\\top B^{-1} N - c_N$"
   ]
  },
  {
   "cell_type": "code",
   "execution_count": 63,
   "metadata": {},
   "outputs": [
    {
     "data": {
      "text/plain": [
       "array([-1.,  3.,  2.])"
      ]
     },
     "execution_count": 63,
     "metadata": {},
     "output_type": "execute_result"
    },
    {
     "data": {
      "application/javascript": [
       "\n",
       "            setTimeout(function() {\n",
       "                var nbb_cell_id = 63;\n",
       "                var nbb_unformatted_code = \"(c[[0, 4]].T @ np.linalg.inv(A[:, [0, 4]]) @ A[:, [1, 2, 3]]) - c[[1, 2, 3]]\";\n",
       "                var nbb_formatted_code = \"(c[[0, 4]].T @ np.linalg.inv(A[:, [0, 4]]) @ A[:, [1, 2, 3]]) - c[[1, 2, 3]]\";\n",
       "                var nbb_cells = Jupyter.notebook.get_cells();\n",
       "                for (var i = 0; i < nbb_cells.length; ++i) {\n",
       "                    if (nbb_cells[i].input_prompt_number == nbb_cell_id) {\n",
       "                        if (nbb_cells[i].get_text() == nbb_unformatted_code) {\n",
       "                             nbb_cells[i].set_text(nbb_formatted_code);\n",
       "                        }\n",
       "                        break;\n",
       "                    }\n",
       "                }\n",
       "            }, 500);\n",
       "            "
      ],
      "text/plain": [
       "<IPython.core.display.Javascript object>"
      ]
     },
     "metadata": {},
     "output_type": "display_data"
    }
   ],
   "source": [
    "(c[[0, 4]].T @ np.linalg.inv(A[:, [0, 4]]) @ A[:, [1, 2, 3]]) - c[[1, 2, 3]]"
   ]
  },
  {
   "cell_type": "markdown",
   "metadata": {},
   "source": [
    "Since reduced cost coefficients are not >= 0 for maximization problem, solution is not optimal anymore."
   ]
  },
  {
   "cell_type": "markdown",
   "metadata": {},
   "source": [
    "$B^{-1}N$"
   ]
  },
  {
   "cell_type": "code",
   "execution_count": 64,
   "metadata": {},
   "outputs": [
    {
     "data": {
      "text/plain": [
       "array([[ 2.,  1.,  1.],\n",
       "       [ 3., -1.,  1.]])"
      ]
     },
     "execution_count": 64,
     "metadata": {},
     "output_type": "execute_result"
    },
    {
     "data": {
      "application/javascript": [
       "\n",
       "            setTimeout(function() {\n",
       "                var nbb_cell_id = 64;\n",
       "                var nbb_unformatted_code = \"np.linalg.inv(A[:, [0, 4]]) @ A[:, [1, 2, 3]]\";\n",
       "                var nbb_formatted_code = \"np.linalg.inv(A[:, [0, 4]]) @ A[:, [1, 2, 3]]\";\n",
       "                var nbb_cells = Jupyter.notebook.get_cells();\n",
       "                for (var i = 0; i < nbb_cells.length; ++i) {\n",
       "                    if (nbb_cells[i].input_prompt_number == nbb_cell_id) {\n",
       "                        if (nbb_cells[i].get_text() == nbb_unformatted_code) {\n",
       "                             nbb_cells[i].set_text(nbb_formatted_code);\n",
       "                        }\n",
       "                        break;\n",
       "                    }\n",
       "                }\n",
       "            }, 500);\n",
       "            "
      ],
      "text/plain": [
       "<IPython.core.display.Javascript object>"
      ]
     },
     "metadata": {},
     "output_type": "display_data"
    }
   ],
   "source": [
    "np.linalg.inv(A[:, [0, 4]]) @ A[:, [1, 2, 3]]"
   ]
  },
  {
   "cell_type": "markdown",
   "metadata": {},
   "source": [
    "$B^{-1}b$"
   ]
  },
  {
   "cell_type": "code",
   "execution_count": 65,
   "metadata": {},
   "outputs": [
    {
     "data": {
      "text/plain": [
       "array([ 8., 12.])"
      ]
     },
     "execution_count": 65,
     "metadata": {},
     "output_type": "execute_result"
    },
    {
     "data": {
      "application/javascript": [
       "\n",
       "            setTimeout(function() {\n",
       "                var nbb_cell_id = 65;\n",
       "                var nbb_unformatted_code = \"np.linalg.inv(A[:, [0, 4]]) @ b\";\n",
       "                var nbb_formatted_code = \"np.linalg.inv(A[:, [0, 4]]) @ b\";\n",
       "                var nbb_cells = Jupyter.notebook.get_cells();\n",
       "                for (var i = 0; i < nbb_cells.length; ++i) {\n",
       "                    if (nbb_cells[i].input_prompt_number == nbb_cell_id) {\n",
       "                        if (nbb_cells[i].get_text() == nbb_unformatted_code) {\n",
       "                             nbb_cells[i].set_text(nbb_formatted_code);\n",
       "                        }\n",
       "                        break;\n",
       "                    }\n",
       "                }\n",
       "            }, 500);\n",
       "            "
      ],
      "text/plain": [
       "<IPython.core.display.Javascript object>"
      ]
     },
     "metadata": {},
     "output_type": "display_data"
    }
   ],
   "source": [
    "np.linalg.inv(A[:, [0, 4]]) @ b"
   ]
  },
  {
   "cell_type": "markdown",
   "metadata": {},
   "source": [
    "${c_B}^\\top  B^{-1}b$"
   ]
  },
  {
   "cell_type": "code",
   "execution_count": 66,
   "metadata": {},
   "outputs": [
    {
     "data": {
      "text/plain": [
       "16.0"
      ]
     },
     "execution_count": 66,
     "metadata": {},
     "output_type": "execute_result"
    },
    {
     "data": {
      "application/javascript": [
       "\n",
       "            setTimeout(function() {\n",
       "                var nbb_cell_id = 66;\n",
       "                var nbb_unformatted_code = \"c[[0, 4]].T @ np.linalg.inv(A[:, [0, 4]]) @ b\";\n",
       "                var nbb_formatted_code = \"c[[0, 4]].T @ np.linalg.inv(A[:, [0, 4]]) @ b\";\n",
       "                var nbb_cells = Jupyter.notebook.get_cells();\n",
       "                for (var i = 0; i < nbb_cells.length; ++i) {\n",
       "                    if (nbb_cells[i].input_prompt_number == nbb_cell_id) {\n",
       "                        if (nbb_cells[i].get_text() == nbb_unformatted_code) {\n",
       "                             nbb_cells[i].set_text(nbb_formatted_code);\n",
       "                        }\n",
       "                        break;\n",
       "                    }\n",
       "                }\n",
       "            }, 500);\n",
       "            "
      ],
      "text/plain": [
       "<IPython.core.display.Javascript object>"
      ]
     },
     "metadata": {},
     "output_type": "display_data"
    }
   ],
   "source": [
    "c[[0, 4]].T @ np.linalg.inv(A[:, [0, 4]]) @ b"
   ]
  },
  {
   "cell_type": "markdown",
   "metadata": {},
   "source": [
    "\\begin{align}\n",
    "    &\\begin{array}{c}\n",
    "    \\\\\n",
    "    z \\\\ \n",
    "    x_1 \\\\\n",
    "    x_5 \\\\\n",
    "    \\end{array}\n",
    "    \\begin{bmatrix}\n",
    "    \\begin{array}{c|ccccc|c}\n",
    "      z & x_1 & x_2 & x_3 & x_4 & x_5 & b \\\\ \\hline\n",
    "      16 & 0 & -1 & 3 & 2 & 0 & - \\\\ \\hline\n",
    "      - & 1 & 2 & 1 & 1 & 0 & 8 \\\\\n",
    "      - & 0 & 3 & -1 & 1 & 1 & 12 \\\\\n",
    "    \\end{array}\n",
    "    \\end{bmatrix} \\\\\n",
    "\\end{align}"
   ]
  },
  {
   "cell_type": "markdown",
   "metadata": {},
   "source": [
    "$x_2$ is entering variable, $x_5$ is chosen as a leaving variable by min ratio test."
   ]
  },
  {
   "cell_type": "markdown",
   "metadata": {},
   "source": [
    "\\begin{align}\n",
    "    &\\begin{array}{c}\n",
    "    \\\\\n",
    "    z \\\\ \n",
    "    x_1 \\\\\n",
    "    x_2 \\\\\n",
    "    \\end{array}\n",
    "    \\begin{bmatrix}\n",
    "    \\begin{array}{c|ccccc|c}\n",
    "      z & x_1 & x_2 & x_3 & x_4 & x_5 & b \\\\ \\hline\n",
    "      20 & 0 & 0 & 8/3 & 7/3 & 1/3 & - \\\\ \\hline\n",
    "      - & 1 & 0 & 5/3 & 1/3 & -2/3 & 0 \\\\\n",
    "      - & 0 & 1 & -1/3 & 1/3 & 1/3 & 4 \\\\\n",
    "    \\end{array}\n",
    "    \\end{bmatrix} \\\\\n",
    "\\end{align}"
   ]
  },
  {
   "cell_type": "markdown",
   "metadata": {},
   "source": [
    "Since reduced cost coefficients are >= 0 for max problem, and RHS > 0, new optimal solution: $(x_1=0, x_2=4, x_3=0, x_4=0, x_5=0)$"
   ]
  },
  {
   "cell_type": "code",
   "execution_count": 67,
   "metadata": {},
   "outputs": [
    {
     "name": "stdout",
     "output_type": "stream",
     "text": [
      "Linear Programming Solution\n",
      "==============================\n",
      "Status: optimal\n",
      "The optimal value is: 20.0\n",
      "The optimal solution is: x = [0.0, 4.0, -0.0, 0.0, 0.0]\n"
     ]
    },
    {
     "data": {
      "application/javascript": [
       "\n",
       "            setTimeout(function() {\n",
       "                var nbb_cell_id = 67;\n",
       "                var nbb_unformatted_code = \"# Create one vector optimization variable.\\nx = cp.Variable((5,), integer=False)\\n\\n# Create constraints.\\nconstraints = [\\n    A @ x == b,\\n    x >= 0,\\n]\\n\\n# Form objective.\\nobj = cp.Maximize(c.T @ x)\\n\\n# Form and solve problem.\\nprob = cp.Problem(obj, constraints)\\nprob.solve()\\n\\nprint(\\\"Linear Programming Solution\\\")\\nprint(\\\"=\\\" * 30)\\nprint(f\\\"Status: {prob.status}\\\")\\nprint(f\\\"The optimal value is: {np.round(prob.value, 2)}\\\")\\nprint(f\\\"The optimal solution is: x = {[np.round(x_i, 2) for x_i in x.value]}\\\")\";\n",
       "                var nbb_formatted_code = \"# Create one vector optimization variable.\\nx = cp.Variable((5,), integer=False)\\n\\n# Create constraints.\\nconstraints = [\\n    A @ x == b,\\n    x >= 0,\\n]\\n\\n# Form objective.\\nobj = cp.Maximize(c.T @ x)\\n\\n# Form and solve problem.\\nprob = cp.Problem(obj, constraints)\\nprob.solve()\\n\\nprint(\\\"Linear Programming Solution\\\")\\nprint(\\\"=\\\" * 30)\\nprint(f\\\"Status: {prob.status}\\\")\\nprint(f\\\"The optimal value is: {np.round(prob.value, 2)}\\\")\\nprint(f\\\"The optimal solution is: x = {[np.round(x_i, 2) for x_i in x.value]}\\\")\";\n",
       "                var nbb_cells = Jupyter.notebook.get_cells();\n",
       "                for (var i = 0; i < nbb_cells.length; ++i) {\n",
       "                    if (nbb_cells[i].input_prompt_number == nbb_cell_id) {\n",
       "                        if (nbb_cells[i].get_text() == nbb_unformatted_code) {\n",
       "                             nbb_cells[i].set_text(nbb_formatted_code);\n",
       "                        }\n",
       "                        break;\n",
       "                    }\n",
       "                }\n",
       "            }, 500);\n",
       "            "
      ],
      "text/plain": [
       "<IPython.core.display.Javascript object>"
      ]
     },
     "metadata": {},
     "output_type": "display_data"
    }
   ],
   "source": [
    "# Create one vector optimization variable.\n",
    "x = cp.Variable((5,), integer=False)\n",
    "\n",
    "# Create constraints.\n",
    "constraints = [\n",
    "    A @ x == b,\n",
    "    x >= 0,\n",
    "]\n",
    "\n",
    "# Form objective.\n",
    "obj = cp.Maximize(c.T @ x)\n",
    "\n",
    "# Form and solve problem.\n",
    "prob = cp.Problem(obj, constraints)\n",
    "prob.solve()\n",
    "\n",
    "print(\"Linear Programming Solution\")\n",
    "print(\"=\" * 30)\n",
    "print(f\"Status: {prob.status}\")\n",
    "print(f\"The optimal value is: {np.round(prob.value, 2)}\")\n",
    "print(f\"The optimal solution is: x = {[np.round(x_i, 2) for x_i in x.value]}\")"
   ]
  },
  {
   "cell_type": "markdown",
   "metadata": {},
   "source": [
    "**(c) Suppose that the coefficient of $x_2$ in the first constraint is changed from 2 to 1/6. Using sensitivity analysis, find a new optimal solution.**"
   ]
  },
  {
   "cell_type": "code",
   "execution_count": 68,
   "metadata": {},
   "outputs": [
    {
     "data": {
      "application/javascript": [
       "\n",
       "            setTimeout(function() {\n",
       "                var nbb_cell_id = 68;\n",
       "                var nbb_unformatted_code = \"A = np.array([[1, 1 / 6, 1, 1, 0], [-1, 1, -2, 0, 1]])\\nb = np.array([8, 4])\\nc = np.array([2, 1, -1, 0, 0])\";\n",
       "                var nbb_formatted_code = \"A = np.array([[1, 1 / 6, 1, 1, 0], [-1, 1, -2, 0, 1]])\\nb = np.array([8, 4])\\nc = np.array([2, 1, -1, 0, 0])\";\n",
       "                var nbb_cells = Jupyter.notebook.get_cells();\n",
       "                for (var i = 0; i < nbb_cells.length; ++i) {\n",
       "                    if (nbb_cells[i].input_prompt_number == nbb_cell_id) {\n",
       "                        if (nbb_cells[i].get_text() == nbb_unformatted_code) {\n",
       "                             nbb_cells[i].set_text(nbb_formatted_code);\n",
       "                        }\n",
       "                        break;\n",
       "                    }\n",
       "                }\n",
       "            }, 500);\n",
       "            "
      ],
      "text/plain": [
       "<IPython.core.display.Javascript object>"
      ]
     },
     "metadata": {},
     "output_type": "display_data"
    }
   ],
   "source": [
    "A = np.array([[1, 1 / 6, 1, 1, 0], [-1, 1, -2, 0, 1]])\n",
    "b = np.array([8, 4])\n",
    "c = np.array([2, 1, -1, 0, 0])"
   ]
  },
  {
   "cell_type": "markdown",
   "metadata": {},
   "source": [
    "${c_B}^\\top B^{-1} N - c_N$"
   ]
  },
  {
   "cell_type": "code",
   "execution_count": 69,
   "metadata": {},
   "outputs": [
    {
     "data": {
      "text/plain": [
       "array([-0.66666667,  3.        ,  2.        ])"
      ]
     },
     "execution_count": 69,
     "metadata": {},
     "output_type": "execute_result"
    },
    {
     "data": {
      "application/javascript": [
       "\n",
       "            setTimeout(function() {\n",
       "                var nbb_cell_id = 69;\n",
       "                var nbb_unformatted_code = \"(c[[0, 4]].T @ np.linalg.inv(A[:, [0, 4]]) @ A[:, [1, 2, 3]]) - c[[1, 2, 3]]\";\n",
       "                var nbb_formatted_code = \"(c[[0, 4]].T @ np.linalg.inv(A[:, [0, 4]]) @ A[:, [1, 2, 3]]) - c[[1, 2, 3]]\";\n",
       "                var nbb_cells = Jupyter.notebook.get_cells();\n",
       "                for (var i = 0; i < nbb_cells.length; ++i) {\n",
       "                    if (nbb_cells[i].input_prompt_number == nbb_cell_id) {\n",
       "                        if (nbb_cells[i].get_text() == nbb_unformatted_code) {\n",
       "                             nbb_cells[i].set_text(nbb_formatted_code);\n",
       "                        }\n",
       "                        break;\n",
       "                    }\n",
       "                }\n",
       "            }, 500);\n",
       "            "
      ],
      "text/plain": [
       "<IPython.core.display.Javascript object>"
      ]
     },
     "metadata": {},
     "output_type": "display_data"
    }
   ],
   "source": [
    "(c[[0, 4]].T @ np.linalg.inv(A[:, [0, 4]]) @ A[:, [1, 2, 3]]) - c[[1, 2, 3]]"
   ]
  },
  {
   "cell_type": "markdown",
   "metadata": {},
   "source": [
    "Since reduced cost coefficients are not >= 0 for maximization problem, solution is not optimal anymore."
   ]
  },
  {
   "cell_type": "markdown",
   "metadata": {},
   "source": [
    "$B^{-1}N$"
   ]
  },
  {
   "cell_type": "code",
   "execution_count": 70,
   "metadata": {},
   "outputs": [
    {
     "data": {
      "text/plain": [
       "array([[ 0.16666667,  1.        ,  1.        ],\n",
       "       [ 1.16666667, -1.        ,  1.        ]])"
      ]
     },
     "execution_count": 70,
     "metadata": {},
     "output_type": "execute_result"
    },
    {
     "data": {
      "application/javascript": [
       "\n",
       "            setTimeout(function() {\n",
       "                var nbb_cell_id = 70;\n",
       "                var nbb_unformatted_code = \"np.linalg.inv(A[:, [0, 4]]) @ A[:, [1, 2, 3]]\";\n",
       "                var nbb_formatted_code = \"np.linalg.inv(A[:, [0, 4]]) @ A[:, [1, 2, 3]]\";\n",
       "                var nbb_cells = Jupyter.notebook.get_cells();\n",
       "                for (var i = 0; i < nbb_cells.length; ++i) {\n",
       "                    if (nbb_cells[i].input_prompt_number == nbb_cell_id) {\n",
       "                        if (nbb_cells[i].get_text() == nbb_unformatted_code) {\n",
       "                             nbb_cells[i].set_text(nbb_formatted_code);\n",
       "                        }\n",
       "                        break;\n",
       "                    }\n",
       "                }\n",
       "            }, 500);\n",
       "            "
      ],
      "text/plain": [
       "<IPython.core.display.Javascript object>"
      ]
     },
     "metadata": {},
     "output_type": "display_data"
    }
   ],
   "source": [
    "np.linalg.inv(A[:, [0, 4]]) @ A[:, [1, 2, 3]]"
   ]
  },
  {
   "cell_type": "markdown",
   "metadata": {},
   "source": [
    "$B^{-1}b$"
   ]
  },
  {
   "cell_type": "code",
   "execution_count": 71,
   "metadata": {},
   "outputs": [
    {
     "data": {
      "text/plain": [
       "array([ 8., 12.])"
      ]
     },
     "execution_count": 71,
     "metadata": {},
     "output_type": "execute_result"
    },
    {
     "data": {
      "application/javascript": [
       "\n",
       "            setTimeout(function() {\n",
       "                var nbb_cell_id = 71;\n",
       "                var nbb_unformatted_code = \"np.linalg.inv(A[:, [0, 4]]) @ b\";\n",
       "                var nbb_formatted_code = \"np.linalg.inv(A[:, [0, 4]]) @ b\";\n",
       "                var nbb_cells = Jupyter.notebook.get_cells();\n",
       "                for (var i = 0; i < nbb_cells.length; ++i) {\n",
       "                    if (nbb_cells[i].input_prompt_number == nbb_cell_id) {\n",
       "                        if (nbb_cells[i].get_text() == nbb_unformatted_code) {\n",
       "                             nbb_cells[i].set_text(nbb_formatted_code);\n",
       "                        }\n",
       "                        break;\n",
       "                    }\n",
       "                }\n",
       "            }, 500);\n",
       "            "
      ],
      "text/plain": [
       "<IPython.core.display.Javascript object>"
      ]
     },
     "metadata": {},
     "output_type": "display_data"
    }
   ],
   "source": [
    "np.linalg.inv(A[:, [0, 4]]) @ b"
   ]
  },
  {
   "cell_type": "markdown",
   "metadata": {},
   "source": [
    "${c_B}^\\top  B^{-1}b$"
   ]
  },
  {
   "cell_type": "code",
   "execution_count": 72,
   "metadata": {},
   "outputs": [
    {
     "data": {
      "text/plain": [
       "16.0"
      ]
     },
     "execution_count": 72,
     "metadata": {},
     "output_type": "execute_result"
    },
    {
     "data": {
      "application/javascript": [
       "\n",
       "            setTimeout(function() {\n",
       "                var nbb_cell_id = 72;\n",
       "                var nbb_unformatted_code = \"c[[0, 4]].T @ np.linalg.inv(A[:, [0, 4]]) @ b\";\n",
       "                var nbb_formatted_code = \"c[[0, 4]].T @ np.linalg.inv(A[:, [0, 4]]) @ b\";\n",
       "                var nbb_cells = Jupyter.notebook.get_cells();\n",
       "                for (var i = 0; i < nbb_cells.length; ++i) {\n",
       "                    if (nbb_cells[i].input_prompt_number == nbb_cell_id) {\n",
       "                        if (nbb_cells[i].get_text() == nbb_unformatted_code) {\n",
       "                             nbb_cells[i].set_text(nbb_formatted_code);\n",
       "                        }\n",
       "                        break;\n",
       "                    }\n",
       "                }\n",
       "            }, 500);\n",
       "            "
      ],
      "text/plain": [
       "<IPython.core.display.Javascript object>"
      ]
     },
     "metadata": {},
     "output_type": "display_data"
    }
   ],
   "source": [
    "c[[0, 4]].T @ np.linalg.inv(A[:, [0, 4]]) @ b"
   ]
  },
  {
   "cell_type": "markdown",
   "metadata": {},
   "source": [
    "\\begin{align}\n",
    "    &\\begin{array}{c}\n",
    "    \\\\\n",
    "    z \\\\ \n",
    "    x_1 \\\\\n",
    "    x_5 \\\\\n",
    "    \\end{array}\n",
    "    \\begin{bmatrix}\n",
    "    \\begin{array}{c|ccccc|c}\n",
    "      z & x_1 & x_2 & x_3 & x_4 & x_5 & b \\\\ \\hline\n",
    "      16 & 0 & -14/3 & 3 & 2 & 0 & - \\\\ \\hline\n",
    "      - & 1 & 1/6 & 1 & 1 & 0 & 8 \\\\\n",
    "      - & 0 & 7/6 & -1 & 1 & 1 & 12 \\\\\n",
    "    \\end{array}\n",
    "    \\end{bmatrix} \\\\\n",
    "\\end{align}"
   ]
  },
  {
   "cell_type": "markdown",
   "metadata": {},
   "source": [
    "$x_2$ is entering variable, $x_5$ is chosen as a leaving variable by min ratio test."
   ]
  },
  {
   "cell_type": "markdown",
   "metadata": {},
   "source": [
    "\\begin{align}\n",
    "    &\\begin{array}{c}\n",
    "    \\\\\n",
    "    z \\\\ \n",
    "    x_1 \\\\\n",
    "    x_2 \\\\\n",
    "    \\end{array}\n",
    "    \\begin{bmatrix}\n",
    "    \\begin{array}{c|ccccc|c}\n",
    "      z & x_1 & x_2 & x_3 & x_4 & x_5 & b \\\\ \\hline\n",
    "      - & 0 & 0 & -3/14 & 18/14 & 6/7 & - \\\\ \\hline\n",
    "      - & -6 & 0 & 48/7 & 36/7 & -6/7 & 264/7 \\\\\n",
    "      - & 0 & 1 & -6/7 & 6/7 & 6/7 & 72/7 \\\\\n",
    "    \\end{array}\n",
    "    \\end{bmatrix} \\\\\n",
    "\\end{align}"
   ]
  },
  {
   "cell_type": "markdown",
   "metadata": {},
   "source": [
    "\\begin{align}\n",
    "    \\text{More Pivot Operations} \\vdots \\\\\n",
    "\\end{align}"
   ]
  },
  {
   "cell_type": "markdown",
   "metadata": {},
   "source": [
    "\\begin{align}\n",
    "    &\\begin{array}{c}\n",
    "    \\\\\n",
    "    z \\\\ \n",
    "    x_1 \\\\\n",
    "    x_2 \\\\\n",
    "    \\end{array}\n",
    "    \\begin{bmatrix}\n",
    "    \\begin{array}{c|ccccc|c}\n",
    "      z & x_1 & x_2 & x_3 & x_4 & x_5 & b \\\\ \\hline\n",
    "      22.86 & 0 & 0 & 2.43 & 2.57 & 0.57 & - \\\\ \\hline\n",
    "      - & 1 & 0 & 1.14 & 0.86 & -0.14 & 6.29 \\\\\n",
    "      - & 0 & 1 & -0.86 & 0.86 & 0.86 & 10.29 \\\\\n",
    "    \\end{array}\n",
    "    \\end{bmatrix} \\\\\n",
    "\\end{align}"
   ]
  },
  {
   "cell_type": "markdown",
   "metadata": {},
   "source": [
    "Since reduced cost coefficients are >= 0 for max problem, and RHS > 0, new optimal solution: $(x_1=6.29, x_2=10.29, x_3=0, x_4=0, x_5=0)$"
   ]
  },
  {
   "cell_type": "markdown",
   "metadata": {},
   "source": [
    "Double Check:"
   ]
  },
  {
   "cell_type": "code",
   "execution_count": 73,
   "metadata": {},
   "outputs": [
    {
     "name": "stdout",
     "output_type": "stream",
     "text": [
      "Linear Programming Solution\n",
      "==============================\n",
      "Status: optimal\n",
      "The optimal value is: 22.86\n",
      "The optimal solution is: x = [6.29, 10.29, 0.0, 0.0, 0.0]\n"
     ]
    },
    {
     "data": {
      "application/javascript": [
       "\n",
       "            setTimeout(function() {\n",
       "                var nbb_cell_id = 73;\n",
       "                var nbb_unformatted_code = \"# Create one vector optimization variable.\\nx = cp.Variable((5,), integer=False)\\n\\n# Create constraints.\\nconstraints = [\\n    A @ x == b,\\n    x >= 0,\\n]\\n\\n# Form objective.\\nobj = cp.Maximize(c.T @ x)\\n\\n# Form and solve problem.\\nprob = cp.Problem(obj, constraints)\\nprob.solve()\\n\\nprint(\\\"Linear Programming Solution\\\")\\nprint(\\\"=\\\" * 30)\\nprint(f\\\"Status: {prob.status}\\\")\\nprint(f\\\"The optimal value is: {np.round(prob.value, 2)}\\\")\\nprint(f\\\"The optimal solution is: x = {[np.round(x_i, 2) for x_i in x.value]}\\\")\";\n",
       "                var nbb_formatted_code = \"# Create one vector optimization variable.\\nx = cp.Variable((5,), integer=False)\\n\\n# Create constraints.\\nconstraints = [\\n    A @ x == b,\\n    x >= 0,\\n]\\n\\n# Form objective.\\nobj = cp.Maximize(c.T @ x)\\n\\n# Form and solve problem.\\nprob = cp.Problem(obj, constraints)\\nprob.solve()\\n\\nprint(\\\"Linear Programming Solution\\\")\\nprint(\\\"=\\\" * 30)\\nprint(f\\\"Status: {prob.status}\\\")\\nprint(f\\\"The optimal value is: {np.round(prob.value, 2)}\\\")\\nprint(f\\\"The optimal solution is: x = {[np.round(x_i, 2) for x_i in x.value]}\\\")\";\n",
       "                var nbb_cells = Jupyter.notebook.get_cells();\n",
       "                for (var i = 0; i < nbb_cells.length; ++i) {\n",
       "                    if (nbb_cells[i].input_prompt_number == nbb_cell_id) {\n",
       "                        if (nbb_cells[i].get_text() == nbb_unformatted_code) {\n",
       "                             nbb_cells[i].set_text(nbb_formatted_code);\n",
       "                        }\n",
       "                        break;\n",
       "                    }\n",
       "                }\n",
       "            }, 500);\n",
       "            "
      ],
      "text/plain": [
       "<IPython.core.display.Javascript object>"
      ]
     },
     "metadata": {},
     "output_type": "display_data"
    }
   ],
   "source": [
    "# Create one vector optimization variable.\n",
    "x = cp.Variable((5,), integer=False)\n",
    "\n",
    "# Create constraints.\n",
    "constraints = [\n",
    "    A @ x == b,\n",
    "    x >= 0,\n",
    "]\n",
    "\n",
    "# Form objective.\n",
    "obj = cp.Maximize(c.T @ x)\n",
    "\n",
    "# Form and solve problem.\n",
    "prob = cp.Problem(obj, constraints)\n",
    "prob.solve()\n",
    "\n",
    "print(\"Linear Programming Solution\")\n",
    "print(\"=\" * 30)\n",
    "print(f\"Status: {prob.status}\")\n",
    "print(f\"The optimal value is: {np.round(prob.value, 2)}\")\n",
    "print(f\"The optimal solution is: x = {[np.round(x_i, 2) for x_i in x.value]}\")"
   ]
  },
  {
   "cell_type": "markdown",
   "metadata": {},
   "source": [
    "${c_B}^\\top B^{-1} N - c_N$"
   ]
  },
  {
   "cell_type": "code",
   "execution_count": 74,
   "metadata": {},
   "outputs": [
    {
     "data": {
      "text/plain": [
       "array([2.42857143, 2.57142857, 0.57142857])"
      ]
     },
     "execution_count": 74,
     "metadata": {},
     "output_type": "execute_result"
    },
    {
     "data": {
      "application/javascript": [
       "\n",
       "            setTimeout(function() {\n",
       "                var nbb_cell_id = 74;\n",
       "                var nbb_unformatted_code = \"(c[[0, 1]].T @ np.linalg.inv(A[:, [0, 1]]) @ A[:, [2, 3, 4]]) - c[[2, 3, 4]]\";\n",
       "                var nbb_formatted_code = \"(c[[0, 1]].T @ np.linalg.inv(A[:, [0, 1]]) @ A[:, [2, 3, 4]]) - c[[2, 3, 4]]\";\n",
       "                var nbb_cells = Jupyter.notebook.get_cells();\n",
       "                for (var i = 0; i < nbb_cells.length; ++i) {\n",
       "                    if (nbb_cells[i].input_prompt_number == nbb_cell_id) {\n",
       "                        if (nbb_cells[i].get_text() == nbb_unformatted_code) {\n",
       "                             nbb_cells[i].set_text(nbb_formatted_code);\n",
       "                        }\n",
       "                        break;\n",
       "                    }\n",
       "                }\n",
       "            }, 500);\n",
       "            "
      ],
      "text/plain": [
       "<IPython.core.display.Javascript object>"
      ]
     },
     "metadata": {},
     "output_type": "display_data"
    }
   ],
   "source": [
    "(c[[0, 1]].T @ np.linalg.inv(A[:, [0, 1]]) @ A[:, [2, 3, 4]]) - c[[2, 3, 4]]"
   ]
  },
  {
   "cell_type": "markdown",
   "metadata": {},
   "source": [
    "Since reduced cost coefficients are >= 0 for maximization problem, solution is optimal."
   ]
  },
  {
   "cell_type": "markdown",
   "metadata": {},
   "source": [
    "$B^{-1}N$"
   ]
  },
  {
   "cell_type": "code",
   "execution_count": 75,
   "metadata": {},
   "outputs": [
    {
     "data": {
      "text/plain": [
       "array([[ 1.14285714,  0.85714286, -0.14285714],\n",
       "       [-0.85714286,  0.85714286,  0.85714286]])"
      ]
     },
     "execution_count": 75,
     "metadata": {},
     "output_type": "execute_result"
    },
    {
     "data": {
      "application/javascript": [
       "\n",
       "            setTimeout(function() {\n",
       "                var nbb_cell_id = 75;\n",
       "                var nbb_unformatted_code = \"np.linalg.inv(A[:, [0, 1]]) @ A[:, [2, 3, 4]]\";\n",
       "                var nbb_formatted_code = \"np.linalg.inv(A[:, [0, 1]]) @ A[:, [2, 3, 4]]\";\n",
       "                var nbb_cells = Jupyter.notebook.get_cells();\n",
       "                for (var i = 0; i < nbb_cells.length; ++i) {\n",
       "                    if (nbb_cells[i].input_prompt_number == nbb_cell_id) {\n",
       "                        if (nbb_cells[i].get_text() == nbb_unformatted_code) {\n",
       "                             nbb_cells[i].set_text(nbb_formatted_code);\n",
       "                        }\n",
       "                        break;\n",
       "                    }\n",
       "                }\n",
       "            }, 500);\n",
       "            "
      ],
      "text/plain": [
       "<IPython.core.display.Javascript object>"
      ]
     },
     "metadata": {},
     "output_type": "display_data"
    }
   ],
   "source": [
    "np.linalg.inv(A[:, [0, 1]]) @ A[:, [2, 3, 4]]"
   ]
  },
  {
   "cell_type": "markdown",
   "metadata": {},
   "source": [
    "$B^{-1}b$"
   ]
  },
  {
   "cell_type": "code",
   "execution_count": 76,
   "metadata": {},
   "outputs": [
    {
     "data": {
      "text/plain": [
       "array([ 6.28571429, 10.28571429])"
      ]
     },
     "execution_count": 76,
     "metadata": {},
     "output_type": "execute_result"
    },
    {
     "data": {
      "application/javascript": [
       "\n",
       "            setTimeout(function() {\n",
       "                var nbb_cell_id = 76;\n",
       "                var nbb_unformatted_code = \"np.linalg.inv(A[:, [0, 1]]) @ b\";\n",
       "                var nbb_formatted_code = \"np.linalg.inv(A[:, [0, 1]]) @ b\";\n",
       "                var nbb_cells = Jupyter.notebook.get_cells();\n",
       "                for (var i = 0; i < nbb_cells.length; ++i) {\n",
       "                    if (nbb_cells[i].input_prompt_number == nbb_cell_id) {\n",
       "                        if (nbb_cells[i].get_text() == nbb_unformatted_code) {\n",
       "                             nbb_cells[i].set_text(nbb_formatted_code);\n",
       "                        }\n",
       "                        break;\n",
       "                    }\n",
       "                }\n",
       "            }, 500);\n",
       "            "
      ],
      "text/plain": [
       "<IPython.core.display.Javascript object>"
      ]
     },
     "metadata": {},
     "output_type": "display_data"
    }
   ],
   "source": [
    "np.linalg.inv(A[:, [0, 1]]) @ b"
   ]
  },
  {
   "cell_type": "markdown",
   "metadata": {},
   "source": [
    "${c_B}^\\top  B^{-1}b$"
   ]
  },
  {
   "cell_type": "code",
   "execution_count": 77,
   "metadata": {},
   "outputs": [
    {
     "data": {
      "text/plain": [
       "22.857142857142858"
      ]
     },
     "execution_count": 77,
     "metadata": {},
     "output_type": "execute_result"
    },
    {
     "data": {
      "application/javascript": [
       "\n",
       "            setTimeout(function() {\n",
       "                var nbb_cell_id = 77;\n",
       "                var nbb_unformatted_code = \"c[[0, 1]].T @ np.linalg.inv(A[:, [0, 1]]) @ b\";\n",
       "                var nbb_formatted_code = \"c[[0, 1]].T @ np.linalg.inv(A[:, [0, 1]]) @ b\";\n",
       "                var nbb_cells = Jupyter.notebook.get_cells();\n",
       "                for (var i = 0; i < nbb_cells.length; ++i) {\n",
       "                    if (nbb_cells[i].input_prompt_number == nbb_cell_id) {\n",
       "                        if (nbb_cells[i].get_text() == nbb_unformatted_code) {\n",
       "                             nbb_cells[i].set_text(nbb_formatted_code);\n",
       "                        }\n",
       "                        break;\n",
       "                    }\n",
       "                }\n",
       "            }, 500);\n",
       "            "
      ],
      "text/plain": [
       "<IPython.core.display.Javascript object>"
      ]
     },
     "metadata": {},
     "output_type": "display_data"
    }
   ],
   "source": [
    "c[[0, 1]].T @ np.linalg.inv(A[:, [0, 1]]) @ b"
   ]
  },
  {
   "cell_type": "markdown",
   "metadata": {},
   "source": [
    "**(d) Suppose that the following constraint is added to the problem: $x_2 + 2x_3 = 3$. Using sensitivity analysis, find the new optimal solution.**"
   ]
  },
  {
   "cell_type": "code",
   "execution_count": 78,
   "metadata": {},
   "outputs": [
    {
     "data": {
      "application/javascript": [
       "\n",
       "            setTimeout(function() {\n",
       "                var nbb_cell_id = 78;\n",
       "                var nbb_unformatted_code = \"A = np.array([[1, 2, 1, 1, 0], [-1, 1, -2, 0, 1], [0, 1, 2, 0, 0]])\\nb = np.array([8, 4, 3])\\nc = np.array([2, 1, -1, 0, 0])\";\n",
       "                var nbb_formatted_code = \"A = np.array([[1, 2, 1, 1, 0], [-1, 1, -2, 0, 1], [0, 1, 2, 0, 0]])\\nb = np.array([8, 4, 3])\\nc = np.array([2, 1, -1, 0, 0])\";\n",
       "                var nbb_cells = Jupyter.notebook.get_cells();\n",
       "                for (var i = 0; i < nbb_cells.length; ++i) {\n",
       "                    if (nbb_cells[i].input_prompt_number == nbb_cell_id) {\n",
       "                        if (nbb_cells[i].get_text() == nbb_unformatted_code) {\n",
       "                             nbb_cells[i].set_text(nbb_formatted_code);\n",
       "                        }\n",
       "                        break;\n",
       "                    }\n",
       "                }\n",
       "            }, 500);\n",
       "            "
      ],
      "text/plain": [
       "<IPython.core.display.Javascript object>"
      ]
     },
     "metadata": {},
     "output_type": "display_data"
    }
   ],
   "source": [
    "A = np.array([[1, 2, 1, 1, 0], [-1, 1, -2, 0, 1], [0, 1, 2, 0, 0]])\n",
    "b = np.array([8, 4, 3])\n",
    "c = np.array([2, 1, -1, 0, 0])"
   ]
  },
  {
   "cell_type": "markdown",
   "metadata": {},
   "source": [
    "Optimal Solution: $(x_1=8, x_2=0, x_3=0, x_4=0, x_5=12)$\n",
    "\n",
    "\n",
    "$0 + 2(0) \\not= 3, \\therefore $ Current optimal solution is infeasible. Hence, we have to add the new constraint and resolve the system using the Dual Simplex."
   ]
  },
  {
   "cell_type": "markdown",
   "metadata": {},
   "source": [
    "\\begin{align}\n",
    "    &\\begin{array}{c}\n",
    "    \\\\\n",
    "    z \\\\ \n",
    "    x_1 \\\\\n",
    "    x_5 \\\\\n",
    "    x_2 \\\\\n",
    "    \\end{array}\n",
    "    \\begin{bmatrix}\n",
    "    \\begin{array}{c|ccccc|c}\n",
    "      z & x_1 & x_2 & x_3 & x_4 & x_5 & b \\\\ \\hline\n",
    "      - & 0 & 3 & 3 & 2 & 0 & - \\\\ \\hline\n",
    "      - & 1 & 2 & 1 & 1 & 0 & 8 \\\\\n",
    "      - & 0 & 3 & -1 & 1 & 1 & 12 \\\\\n",
    "      - & 0 & -1 & -2 & 0 & 0 & -3 \\\\\n",
    "    \\end{array}\n",
    "    \\end{bmatrix} \\\\\n",
    "\\end{align}"
   ]
  },
  {
   "cell_type": "markdown",
   "metadata": {},
   "source": [
    "Make $x_2$ the pivot by min ratio test on 3rd row:\n",
    "\n",
    "\\begin{align}\n",
    "    &\\begin{array}{c}\n",
    "    \\\\\n",
    "    z \\\\ \n",
    "    x_1 \\\\\n",
    "    x_5 \\\\\n",
    "    x_2 \\\\\n",
    "    \\end{array}\n",
    "    \\begin{bmatrix}\n",
    "    \\begin{array}{c|ccccc|c}\n",
    "      z & x_1 & x_2 & x_3 & x_4 & x_5 & b \\\\ \\hline\n",
    "      - & 0 & 0 & -3 & 2 & 0 & - \\\\ \\hline\n",
    "      - & 1 & 0 & -3 & 1 & 0 & 2 \\\\\n",
    "      - & 0 & 0 & -7 & 1 & 1 & 3 \\\\\n",
    "      - & 0 & 1 & 2 & 0 & 0 & 3 \\\\\n",
    "    \\end{array}\n",
    "    \\end{bmatrix} \\\\\n",
    "\\end{align}"
   ]
  },
  {
   "cell_type": "markdown",
   "metadata": {},
   "source": [
    "Make $x_3$ entering variable, $x_2$ leaving:\n",
    "\n",
    "\\begin{align}\n",
    "    &\\begin{array}{c}\n",
    "    \\\\\n",
    "    z \\\\ \n",
    "    x_1 \\\\\n",
    "    x_5 \\\\\n",
    "    x_3 \\\\\n",
    "    \\end{array}\n",
    "    \\begin{bmatrix}\n",
    "    \\begin{array}{c|ccccc|c}\n",
    "      z & x_1 & x_2 & x_3 & x_4 & x_5 & b \\\\ \\hline\n",
    "      - & 0 & 3/2 & 0 & 2 & 0 & - \\\\ \\hline\n",
    "      - & 1 & 3/2 & 0 & 1 & 0 & 13/2 \\\\\n",
    "      - & 0 & 7/2 & 0 & 1 & 1 & 27/2 \\\\\n",
    "      - & 0 & 1/2 & 1 & 0 & 0 & 3/2 \\\\\n",
    "    \\end{array}\n",
    "    \\end{bmatrix} \\\\\n",
    "\\end{align}"
   ]
  },
  {
   "cell_type": "markdown",
   "metadata": {},
   "source": [
    "Since reduced cost coefficients >= 0 for max problem [OPTIMAL] and RHS Basic Variables >= 0 [FEASIBLE], dual simplex terminates."
   ]
  },
  {
   "cell_type": "markdown",
   "metadata": {},
   "source": [
    "Optimal solution: $(x_1=6.5, x_2=0, x_3=1.5, x_4=0, x_5=13.5)$"
   ]
  },
  {
   "cell_type": "markdown",
   "metadata": {},
   "source": [
    "Double Check:"
   ]
  },
  {
   "cell_type": "code",
   "execution_count": 79,
   "metadata": {},
   "outputs": [
    {
     "name": "stdout",
     "output_type": "stream",
     "text": [
      "Linear Programming Solution\n",
      "==============================\n",
      "Status: optimal\n",
      "The optimal value is: 11.5\n",
      "The optimal solution is: x = [6.5, 0.0, 1.5, 0.0, 13.5]\n"
     ]
    },
    {
     "data": {
      "application/javascript": [
       "\n",
       "            setTimeout(function() {\n",
       "                var nbb_cell_id = 79;\n",
       "                var nbb_unformatted_code = \"# Create one vector optimization variable.\\nx = cp.Variable((5,), integer=False)\\n\\n# Create constraints.\\nconstraints = [\\n    A @ x == b,\\n    x >= 0,\\n]\\n\\n# Form objective.\\nobj = cp.Maximize(c.T @ x)\\n\\n# Form and solve problem.\\nprob = cp.Problem(obj, constraints)\\nprob.solve()\\n\\nprint(\\\"Linear Programming Solution\\\")\\nprint(\\\"=\\\" * 30)\\nprint(f\\\"Status: {prob.status}\\\")\\nprint(f\\\"The optimal value is: {np.round(prob.value, 2)}\\\")\\nprint(f\\\"The optimal solution is: x = {[np.round(x_i, 2) for x_i in x.value]}\\\")\";\n",
       "                var nbb_formatted_code = \"# Create one vector optimization variable.\\nx = cp.Variable((5,), integer=False)\\n\\n# Create constraints.\\nconstraints = [\\n    A @ x == b,\\n    x >= 0,\\n]\\n\\n# Form objective.\\nobj = cp.Maximize(c.T @ x)\\n\\n# Form and solve problem.\\nprob = cp.Problem(obj, constraints)\\nprob.solve()\\n\\nprint(\\\"Linear Programming Solution\\\")\\nprint(\\\"=\\\" * 30)\\nprint(f\\\"Status: {prob.status}\\\")\\nprint(f\\\"The optimal value is: {np.round(prob.value, 2)}\\\")\\nprint(f\\\"The optimal solution is: x = {[np.round(x_i, 2) for x_i in x.value]}\\\")\";\n",
       "                var nbb_cells = Jupyter.notebook.get_cells();\n",
       "                for (var i = 0; i < nbb_cells.length; ++i) {\n",
       "                    if (nbb_cells[i].input_prompt_number == nbb_cell_id) {\n",
       "                        if (nbb_cells[i].get_text() == nbb_unformatted_code) {\n",
       "                             nbb_cells[i].set_text(nbb_formatted_code);\n",
       "                        }\n",
       "                        break;\n",
       "                    }\n",
       "                }\n",
       "            }, 500);\n",
       "            "
      ],
      "text/plain": [
       "<IPython.core.display.Javascript object>"
      ]
     },
     "metadata": {},
     "output_type": "display_data"
    }
   ],
   "source": [
    "# Create one vector optimization variable.\n",
    "x = cp.Variable((5,), integer=False)\n",
    "\n",
    "# Create constraints.\n",
    "constraints = [\n",
    "    A @ x == b,\n",
    "    x >= 0,\n",
    "]\n",
    "\n",
    "# Form objective.\n",
    "obj = cp.Maximize(c.T @ x)\n",
    "\n",
    "# Form and solve problem.\n",
    "prob = cp.Problem(obj, constraints)\n",
    "prob.solve()\n",
    "\n",
    "print(\"Linear Programming Solution\")\n",
    "print(\"=\" * 30)\n",
    "print(f\"Status: {prob.status}\")\n",
    "print(f\"The optimal value is: {np.round(prob.value, 2)}\")\n",
    "print(f\"The optimal solution is: x = {[np.round(x_i, 2) for x_i in x.value]}\")"
   ]
  },
  {
   "cell_type": "markdown",
   "metadata": {},
   "source": [
    "**(e) Suppose that a new activity $x_6$ is proposed with unit return 6 and consumption vector (2, 1). Using sensitivity analysis, find a new optimal solution.**"
   ]
  },
  {
   "cell_type": "code",
   "execution_count": 80,
   "metadata": {},
   "outputs": [
    {
     "data": {
      "application/javascript": [
       "\n",
       "            setTimeout(function() {\n",
       "                var nbb_cell_id = 80;\n",
       "                var nbb_unformatted_code = \"A = np.array([[1, 2, 1, 1, 0, 2], [-1, 1, -2, 0, 1, 1]])\\nb = np.array([8, 4])\\nc = np.array([2, 1, -1, 0, 0, 6])\";\n",
       "                var nbb_formatted_code = \"A = np.array([[1, 2, 1, 1, 0, 2], [-1, 1, -2, 0, 1, 1]])\\nb = np.array([8, 4])\\nc = np.array([2, 1, -1, 0, 0, 6])\";\n",
       "                var nbb_cells = Jupyter.notebook.get_cells();\n",
       "                for (var i = 0; i < nbb_cells.length; ++i) {\n",
       "                    if (nbb_cells[i].input_prompt_number == nbb_cell_id) {\n",
       "                        if (nbb_cells[i].get_text() == nbb_unformatted_code) {\n",
       "                             nbb_cells[i].set_text(nbb_formatted_code);\n",
       "                        }\n",
       "                        break;\n",
       "                    }\n",
       "                }\n",
       "            }, 500);\n",
       "            "
      ],
      "text/plain": [
       "<IPython.core.display.Javascript object>"
      ]
     },
     "metadata": {},
     "output_type": "display_data"
    }
   ],
   "source": [
    "A = np.array([[1, 2, 1, 1, 0, 2], [-1, 1, -2, 0, 1, 1]])\n",
    "b = np.array([8, 4])\n",
    "c = np.array([2, 1, -1, 0, 0, 6])"
   ]
  },
  {
   "cell_type": "markdown",
   "metadata": {},
   "source": [
    "${c_B}^\\top B^{-1} N - c_N$"
   ]
  },
  {
   "cell_type": "code",
   "execution_count": 81,
   "metadata": {},
   "outputs": [
    {
     "data": {
      "text/plain": [
       "array([ 3.,  3.,  2., -2.])"
      ]
     },
     "execution_count": 81,
     "metadata": {},
     "output_type": "execute_result"
    },
    {
     "data": {
      "application/javascript": [
       "\n",
       "            setTimeout(function() {\n",
       "                var nbb_cell_id = 81;\n",
       "                var nbb_unformatted_code = \"(c[[0, 4]].T @ np.linalg.inv(A[:, [0, 4]]) @ A[:, [1, 2, 3, 5]]) - c[[1, 2, 3, 5]]\";\n",
       "                var nbb_formatted_code = \"(c[[0, 4]].T @ np.linalg.inv(A[:, [0, 4]]) @ A[:, [1, 2, 3, 5]]) - c[[1, 2, 3, 5]]\";\n",
       "                var nbb_cells = Jupyter.notebook.get_cells();\n",
       "                for (var i = 0; i < nbb_cells.length; ++i) {\n",
       "                    if (nbb_cells[i].input_prompt_number == nbb_cell_id) {\n",
       "                        if (nbb_cells[i].get_text() == nbb_unformatted_code) {\n",
       "                             nbb_cells[i].set_text(nbb_formatted_code);\n",
       "                        }\n",
       "                        break;\n",
       "                    }\n",
       "                }\n",
       "            }, 500);\n",
       "            "
      ],
      "text/plain": [
       "<IPython.core.display.Javascript object>"
      ]
     },
     "metadata": {},
     "output_type": "display_data"
    }
   ],
   "source": [
    "(c[[0, 4]].T @ np.linalg.inv(A[:, [0, 4]]) @ A[:, [1, 2, 3, 5]]) - c[[1, 2, 3, 5]]"
   ]
  },
  {
   "cell_type": "markdown",
   "metadata": {},
   "source": [
    "Since reduced cost coefficients are not all >= 0 for maximization problem, solution is not optimal anymore, we might want to produce some of activity 6."
   ]
  },
  {
   "cell_type": "markdown",
   "metadata": {},
   "source": [
    "$B^{-1}N$"
   ]
  },
  {
   "cell_type": "code",
   "execution_count": 82,
   "metadata": {},
   "outputs": [
    {
     "data": {
      "text/plain": [
       "array([[ 2.,  1.,  1.,  2.],\n",
       "       [ 3., -1.,  1.,  3.]])"
      ]
     },
     "execution_count": 82,
     "metadata": {},
     "output_type": "execute_result"
    },
    {
     "data": {
      "application/javascript": [
       "\n",
       "            setTimeout(function() {\n",
       "                var nbb_cell_id = 82;\n",
       "                var nbb_unformatted_code = \"np.linalg.inv(A[:, [0, 4]]) @ A[:, [1, 2, 3, 5]]\";\n",
       "                var nbb_formatted_code = \"np.linalg.inv(A[:, [0, 4]]) @ A[:, [1, 2, 3, 5]]\";\n",
       "                var nbb_cells = Jupyter.notebook.get_cells();\n",
       "                for (var i = 0; i < nbb_cells.length; ++i) {\n",
       "                    if (nbb_cells[i].input_prompt_number == nbb_cell_id) {\n",
       "                        if (nbb_cells[i].get_text() == nbb_unformatted_code) {\n",
       "                             nbb_cells[i].set_text(nbb_formatted_code);\n",
       "                        }\n",
       "                        break;\n",
       "                    }\n",
       "                }\n",
       "            }, 500);\n",
       "            "
      ],
      "text/plain": [
       "<IPython.core.display.Javascript object>"
      ]
     },
     "metadata": {},
     "output_type": "display_data"
    }
   ],
   "source": [
    "np.linalg.inv(A[:, [0, 4]]) @ A[:, [1, 2, 3, 5]]"
   ]
  },
  {
   "cell_type": "markdown",
   "metadata": {},
   "source": [
    "$B^{-1}b$"
   ]
  },
  {
   "cell_type": "code",
   "execution_count": 83,
   "metadata": {},
   "outputs": [
    {
     "data": {
      "text/plain": [
       "array([ 8., 12.])"
      ]
     },
     "execution_count": 83,
     "metadata": {},
     "output_type": "execute_result"
    },
    {
     "data": {
      "application/javascript": [
       "\n",
       "            setTimeout(function() {\n",
       "                var nbb_cell_id = 83;\n",
       "                var nbb_unformatted_code = \"np.linalg.inv(A[:, [0, 4]]) @ b\";\n",
       "                var nbb_formatted_code = \"np.linalg.inv(A[:, [0, 4]]) @ b\";\n",
       "                var nbb_cells = Jupyter.notebook.get_cells();\n",
       "                for (var i = 0; i < nbb_cells.length; ++i) {\n",
       "                    if (nbb_cells[i].input_prompt_number == nbb_cell_id) {\n",
       "                        if (nbb_cells[i].get_text() == nbb_unformatted_code) {\n",
       "                             nbb_cells[i].set_text(nbb_formatted_code);\n",
       "                        }\n",
       "                        break;\n",
       "                    }\n",
       "                }\n",
       "            }, 500);\n",
       "            "
      ],
      "text/plain": [
       "<IPython.core.display.Javascript object>"
      ]
     },
     "metadata": {},
     "output_type": "display_data"
    }
   ],
   "source": [
    "np.linalg.inv(A[:, [0, 4]]) @ b"
   ]
  },
  {
   "cell_type": "markdown",
   "metadata": {},
   "source": [
    "${c_B}^\\top  B^{-1}b$"
   ]
  },
  {
   "cell_type": "code",
   "execution_count": 84,
   "metadata": {},
   "outputs": [
    {
     "data": {
      "text/plain": [
       "16.0"
      ]
     },
     "execution_count": 84,
     "metadata": {},
     "output_type": "execute_result"
    },
    {
     "data": {
      "application/javascript": [
       "\n",
       "            setTimeout(function() {\n",
       "                var nbb_cell_id = 84;\n",
       "                var nbb_unformatted_code = \"c[[0, 4]].T @ np.linalg.inv(A[:, [0, 4]]) @ b\";\n",
       "                var nbb_formatted_code = \"c[[0, 4]].T @ np.linalg.inv(A[:, [0, 4]]) @ b\";\n",
       "                var nbb_cells = Jupyter.notebook.get_cells();\n",
       "                for (var i = 0; i < nbb_cells.length; ++i) {\n",
       "                    if (nbb_cells[i].input_prompt_number == nbb_cell_id) {\n",
       "                        if (nbb_cells[i].get_text() == nbb_unformatted_code) {\n",
       "                             nbb_cells[i].set_text(nbb_formatted_code);\n",
       "                        }\n",
       "                        break;\n",
       "                    }\n",
       "                }\n",
       "            }, 500);\n",
       "            "
      ],
      "text/plain": [
       "<IPython.core.display.Javascript object>"
      ]
     },
     "metadata": {},
     "output_type": "display_data"
    }
   ],
   "source": [
    "c[[0, 4]].T @ np.linalg.inv(A[:, [0, 4]]) @ b"
   ]
  },
  {
   "cell_type": "markdown",
   "metadata": {},
   "source": [
    "\\begin{align}\n",
    "    &\\begin{array}{c}\n",
    "    \\\\\n",
    "    z \\\\ \n",
    "    x_1 \\\\\n",
    "    x_5 \\\\\n",
    "    \\end{array}\n",
    "    \\begin{bmatrix}\n",
    "    \\begin{array}{c|cccccc|c}\n",
    "      z & x_1 & x_2 & x_3 & x_4 & x_5 & x_6 & b \\\\ \\hline\n",
    "      16 & 0 & 3 & 3 & 2 & 0 & -2 & - \\\\ \\hline\n",
    "      - & 1 & 2 & 1 & 1 & 0 & 2 & 8 \\\\\n",
    "      - & 0 & 3 & -1 & 1 & 1 & 3 & 12 \\\\\n",
    "    \\end{array}\n",
    "    \\end{bmatrix} \\\\\n",
    "\\end{align}"
   ]
  },
  {
   "cell_type": "markdown",
   "metadata": {},
   "source": [
    "Choose $x_6$ as entering variable, and $x_5$ as leaving variable by min ratio test in normal simplex method and break tie by choosing slack var,\n",
    "\n",
    "\\begin{align}\n",
    "    &\\begin{array}{c}\n",
    "    \\\\\n",
    "    z \\\\ \n",
    "    x_1 \\\\\n",
    "    x_6 \\\\\n",
    "    \\end{array}\n",
    "    \\begin{bmatrix}\n",
    "    \\begin{array}{c|cccccc|c}\n",
    "      z & x_1 & x_2 & x_3 & x_4 & x_5 & x_6 & b \\\\ \\hline\n",
    "      16 & 0 & 2 & 7/3 & 8/3 & 2/3 & -2 & - \\\\ \\hline\n",
    "      - & 1 & 0 & 5/3 & 1/3 & -2/3 & 0 & 0 \\\\\n",
    "      - & 0 & 1 & -1/3 & 1/3 & 1/3 & 1 & 4 \\\\\n",
    "    \\end{array}\n",
    "    \\end{bmatrix} \\\\\n",
    "\\end{align}"
   ]
  },
  {
   "cell_type": "markdown",
   "metadata": {},
   "source": [
    "Since reduced cost coefficients >= 0 for max problem [OPTIMAL] and RHS Basic Variables >= 0 [FEASIBLE], dual simplex terminates."
   ]
  },
  {
   "cell_type": "markdown",
   "metadata": {},
   "source": [
    "Optimal solution: $(x_1=0, x_2=0, x_3=0, x_4=0, x_5=4)$"
   ]
  },
  {
   "cell_type": "markdown",
   "metadata": {},
   "source": [
    "Double Check:"
   ]
  },
  {
   "cell_type": "code",
   "execution_count": 85,
   "metadata": {},
   "outputs": [
    {
     "name": "stdout",
     "output_type": "stream",
     "text": [
      "Linear Programming Solution\n",
      "==============================\n",
      "Status: optimal\n",
      "The optimal value is: 24.0\n",
      "The optimal solution is: x = [0.0, 0.0, -0.0, 0.0, 0.0, 4.0]\n"
     ]
    },
    {
     "data": {
      "application/javascript": [
       "\n",
       "            setTimeout(function() {\n",
       "                var nbb_cell_id = 85;\n",
       "                var nbb_unformatted_code = \"# Create one vector optimization variable.\\nx = cp.Variable((6,), integer=False)\\n\\n# Create constraints.\\nconstraints = [\\n    A @ x == b,\\n    x >= 0,\\n]\\n\\n# Form objective.\\nobj = cp.Maximize(c.T @ x)\\n\\n# Form and solve problem.\\nprob = cp.Problem(obj, constraints)\\nprob.solve()\\n\\nprint(\\\"Linear Programming Solution\\\")\\nprint(\\\"=\\\" * 30)\\nprint(f\\\"Status: {prob.status}\\\")\\nprint(f\\\"The optimal value is: {np.round(prob.value, 2)}\\\")\\nprint(f\\\"The optimal solution is: x = {[np.round(x_i, 2) for x_i in x.value]}\\\")\";\n",
       "                var nbb_formatted_code = \"# Create one vector optimization variable.\\nx = cp.Variable((6,), integer=False)\\n\\n# Create constraints.\\nconstraints = [\\n    A @ x == b,\\n    x >= 0,\\n]\\n\\n# Form objective.\\nobj = cp.Maximize(c.T @ x)\\n\\n# Form and solve problem.\\nprob = cp.Problem(obj, constraints)\\nprob.solve()\\n\\nprint(\\\"Linear Programming Solution\\\")\\nprint(\\\"=\\\" * 30)\\nprint(f\\\"Status: {prob.status}\\\")\\nprint(f\\\"The optimal value is: {np.round(prob.value, 2)}\\\")\\nprint(f\\\"The optimal solution is: x = {[np.round(x_i, 2) for x_i in x.value]}\\\")\";\n",
       "                var nbb_cells = Jupyter.notebook.get_cells();\n",
       "                for (var i = 0; i < nbb_cells.length; ++i) {\n",
       "                    if (nbb_cells[i].input_prompt_number == nbb_cell_id) {\n",
       "                        if (nbb_cells[i].get_text() == nbb_unformatted_code) {\n",
       "                             nbb_cells[i].set_text(nbb_formatted_code);\n",
       "                        }\n",
       "                        break;\n",
       "                    }\n",
       "                }\n",
       "            }, 500);\n",
       "            "
      ],
      "text/plain": [
       "<IPython.core.display.Javascript object>"
      ]
     },
     "metadata": {},
     "output_type": "display_data"
    }
   ],
   "source": [
    "# Create one vector optimization variable.\n",
    "x = cp.Variable((6,), integer=False)\n",
    "\n",
    "# Create constraints.\n",
    "constraints = [\n",
    "    A @ x == b,\n",
    "    x >= 0,\n",
    "]\n",
    "\n",
    "# Form objective.\n",
    "obj = cp.Maximize(c.T @ x)\n",
    "\n",
    "# Form and solve problem.\n",
    "prob = cp.Problem(obj, constraints)\n",
    "prob.solve()\n",
    "\n",
    "print(\"Linear Programming Solution\")\n",
    "print(\"=\" * 30)\n",
    "print(f\"Status: {prob.status}\")\n",
    "print(f\"The optimal value is: {np.round(prob.value, 2)}\")\n",
    "print(f\"The optimal solution is: x = {[np.round(x_i, 2) for x_i in x.value]}\")"
   ]
  }
 ],
 "metadata": {
  "kernelspec": {
   "display_name": "Python 3",
   "language": "python",
   "name": "python3"
  },
  "language_info": {
   "codemirror_mode": {
    "name": "ipython",
    "version": 3
   },
   "file_extension": ".py",
   "mimetype": "text/x-python",
   "name": "python",
   "nbconvert_exporter": "python",
   "pygments_lexer": "ipython3",
   "version": "3.8.5"
  },
  "latex_envs": {
   "LaTeX_envs_menu_present": true,
   "autoclose": false,
   "autocomplete": true,
   "bibliofile": "biblio.bib",
   "cite_by": "apalike",
   "current_citInitial": 1,
   "eqLabelWithNumbers": true,
   "eqNumInitial": 1,
   "hotkeys": {
    "equation": "Ctrl-E",
    "itemize": "Ctrl-I"
   },
   "labels_anchors": false,
   "latex_user_defs": false,
   "report_style_numbering": false,
   "user_envs_cfg": false
  }
 },
 "nbformat": 4,
 "nbformat_minor": 4
}
