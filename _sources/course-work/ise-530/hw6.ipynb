{
 "cells": [
  {
   "cell_type": "markdown",
   "metadata": {},
   "source": [
    "# HW 6\n",
    "\n",
    "ISE 530 Optimization for Analytics Homework VI: On linearly constrained, including quadratic minimization and from Cottle-Thapa. Due 11:59 PM Wednesday October 28, 2020\n",
    "\n",
    "- Find the minimum norm solution of the linear system:\n",
    "\n",
    "\\begin{align}\n",
    "    x_1 + x_2 + 5x_3 − 7x_4 &= 1 \\\\\n",
    "    x_1 − 3x_2 − x_3 + x_4 &= 2 \\\\\n",
    "\\end{align}\n",
    "\n",
    "by first formulating a quadratic program to minimize the sum of squares of the variables subject to the two equations. Solve the resulting program by introducing Lagrangian multipliers of the constraints and solving the resulting optimality conditions. Verify your solution by expressing the variables $x_1$ and $x_2$ in terms of $x_3$ and $x_4$, ending up with a quadratic minimization problem in two variables and no constraints whose solution can be readily obtained.\n",
    "\n",
    "- Consider the quadratic program in three variables:\n",
    "\n",
    "\\begin{align}\n",
    "    \\underset{x_1,x_2,x_3}{\\text{minimize }} & 2x^2_1 + x_1x_2 + 2x^2_2 + x^2_3 + 2x_2x_3 \\\\\n",
    "    \\text{subject to } \n",
    "    &0.8x_1 + 0.4x_2 + 0.6x_3 \\geq 0.5 \\\\\n",
    "    &x_1 + x_2 + x_3 = 1,\\text{ and }x_1, x_2, x_3, \\geq 0. \\\\\n",
    "\\end{align}\n",
    "\n",
    "(a) Show that the objective function is strictly convex.\n",
    "\n",
    "(b) Write down the optimality conditions for the problem. Are they necessary and sufficient for optimality?\n",
    "\n",
    "(c) Starting at the feasible solution of $x_1 = x_2 = x_3 = 1/3$, carry out 3 iterations of the feasible descent method using the active constraints at each iterate to solve the program.\n",
    "\n",
    "- Do Exercise 11.9. Enumerate all possibilities of the complementary slackness conditions to find an optimal solution of the problem.\n",
    "\n",
    "- Do Exercises 12.8 and 12.10.\n",
    "\n",
    "- Consider the problem:\n",
    "\n",
    "\\begin{align}\n",
    "    \\underset{x}{\\text{minimize }} & 2x_1x_2 + x_2x_3 + x_1x_3 \\\\\n",
    "    \\text{subject to } & 3x_1 + 3x_2 + 2x_3 = 3. \\\\\n",
    "\\end{align}\n",
    "\n",
    "Write and solve the KKT optimality conditions of the problem. Is the computed solution $x$ a local minimum? Explain.\n",
    "\n",
    "- Consider the nonnegatively constrained problem:\n",
    "\\begin{align}\n",
    "    \\underset{x \\geq 0}{\\text{minimize }} & \\frac{4}{3}{[x^2_1 - x_1x_2 + x^2_2]}^{3/4} + x^2_3 - 2x_1x_3 + x^2_1. \\\\\n",
    "\\end{align}\n",
    "\n",
    "(a) Write the KKT conditions for the problem? Are they necessary?\n",
    "\n",
    "(b) Starting at $x^0 = (0, 1/4, 1/2)$, carry out several iterations of the feasible descent method (using the active constraints at each iterate) until an observable pattern emerges.\n",
    "\n",
    "(c) Can you solve the problem analytically using the KKT conditions and say something about the method when you stop it?"
   ]
  },
  {
   "cell_type": "code",
   "execution_count": 140,
   "metadata": {},
   "outputs": [
    {
     "name": "stdout",
     "output_type": "stream",
     "text": [
      "The autotime extension is already loaded. To reload it, use:\n",
      "  %reload_ext autotime\n",
      "The nb_black extension is already loaded. To reload it, use:\n",
      "  %reload_ext nb_black\n",
      "time: 6.91 ms\n"
     ]
    },
    {
     "data": {
      "application/javascript": [
       "\n",
       "            setTimeout(function() {\n",
       "                var nbb_cell_id = 140;\n",
       "                var nbb_unformatted_code = \"%load_ext autotime\\n%load_ext nb_black\\n%matplotlib inline\\n\\nimport matplotlib.pyplot as plt\\nfrom mpl_toolkits.mplot3d import Axes3D\\n\\nplt.rcParams[\\\"figure.dpi\\\"] = 300\\nplt.rcParams[\\\"figure.figsize\\\"] = (16, 12)\\n\\nimport operator\\nimport pandas as pd\\nimport numpy as np\\nimport cvxpy as cp\\nimport scipy as sp\\nfrom sympy import Matrix\\nfrom scipy import optimize\";\n",
       "                var nbb_formatted_code = \"%load_ext autotime\\n%load_ext nb_black\\n%matplotlib inline\\n\\nimport matplotlib.pyplot as plt\\nfrom mpl_toolkits.mplot3d import Axes3D\\n\\nplt.rcParams[\\\"figure.dpi\\\"] = 300\\nplt.rcParams[\\\"figure.figsize\\\"] = (16, 12)\\n\\nimport operator\\nimport pandas as pd\\nimport numpy as np\\nimport cvxpy as cp\\nimport scipy as sp\\nfrom sympy import Matrix\\nfrom scipy import optimize\";\n",
       "                var nbb_cells = Jupyter.notebook.get_cells();\n",
       "                for (var i = 0; i < nbb_cells.length; ++i) {\n",
       "                    if (nbb_cells[i].input_prompt_number == nbb_cell_id) {\n",
       "                        if (nbb_cells[i].get_text() == nbb_unformatted_code) {\n",
       "                             nbb_cells[i].set_text(nbb_formatted_code);\n",
       "                        }\n",
       "                        break;\n",
       "                    }\n",
       "                }\n",
       "            }, 500);\n",
       "            "
      ],
      "text/plain": [
       "<IPython.core.display.Javascript object>"
      ]
     },
     "metadata": {},
     "output_type": "display_data"
    }
   ],
   "source": [
    "%load_ext autotime\n",
    "%load_ext nb_black\n",
    "%matplotlib inline\n",
    "\n",
    "import matplotlib.pyplot as plt\n",
    "from mpl_toolkits.mplot3d import Axes3D\n",
    "\n",
    "plt.rcParams[\"figure.dpi\"] = 300\n",
    "plt.rcParams[\"figure.figsize\"] = (16, 12)\n",
    "\n",
    "import operator\n",
    "import pandas as pd\n",
    "import numpy as np\n",
    "import cvxpy as cp\n",
    "import scipy as sp\n",
    "from sympy import Matrix\n",
    "from scipy import optimize"
   ]
  },
  {
   "cell_type": "markdown",
   "metadata": {},
   "source": [
    "---\n",
    "- Find the minimum norm solution of the linear system:\n",
    "\n",
    "\\begin{align}\n",
    "    x_1 + x_2 + 5x_3 − 7x_4 &= 1 \\\\\n",
    "    x_1 − 3x_2 − x_3 + x_4 &= 2 \\\\\n",
    "\\end{align}\n",
    "\n",
    "by first formulating a quadratic program to minimize the sum of squares of the variables subject to the two equations. Solve the resulting program by introducing Lagrangian multipliers of the constraints and solving the resulting optimality conditions. Verify your solution by expressing the variables $x_1$ and $x_2$ in terms of $x_3$ and $x_4$, ending up with a quadratic minimization problem in two variables and no constraints whose solution can be readily obtained."
   ]
  },
  {
   "cell_type": "markdown",
   "metadata": {},
   "source": [
    "Quadratic Program:\n",
    "\n",
    "\\begin{align}\n",
    "    \\underset{x}{\\text{minimize }} & {\\vert \\vert x \\vert \\vert} \\\\\n",
    "    \\text{subject to } \n",
    "    &Ax = b \\\\\n",
    "    A = \\begin{bmatrix} 1 & 1 & 5 & -7 \\\\ 1 & -3 & -1 & 1 \\end{bmatrix}\\,,\\,\n",
    "    &b = \\begin{bmatrix} 1 \\\\ 2 \\end{bmatrix}\\,,\\,\n",
    "    x = \\begin{bmatrix} x_1 \\\\ x_2 \\\\ x_3 \\\\x_4 \\end{bmatrix}\n",
    "\\end{align}"
   ]
  },
  {
   "cell_type": "code",
   "execution_count": 3,
   "metadata": {},
   "outputs": [
    {
     "name": "stdout",
     "output_type": "stream",
     "text": [
      "time: 566 µs\n"
     ]
    },
    {
     "data": {
      "application/javascript": [
       "\n",
       "            setTimeout(function() {\n",
       "                var nbb_cell_id = 3;\n",
       "                var nbb_unformatted_code = \"A = np.array([[1, 1, 5, -7], [1, -3, -1, 1]])\\nb = np.array([1, 2])\";\n",
       "                var nbb_formatted_code = \"A = np.array([[1, 1, 5, -7], [1, -3, -1, 1]])\\nb = np.array([1, 2])\";\n",
       "                var nbb_cells = Jupyter.notebook.get_cells();\n",
       "                for (var i = 0; i < nbb_cells.length; ++i) {\n",
       "                    if (nbb_cells[i].input_prompt_number == nbb_cell_id) {\n",
       "                        if (nbb_cells[i].get_text() == nbb_unformatted_code) {\n",
       "                             nbb_cells[i].set_text(nbb_formatted_code);\n",
       "                        }\n",
       "                        break;\n",
       "                    }\n",
       "                }\n",
       "            }, 500);\n",
       "            "
      ],
      "text/plain": [
       "<IPython.core.display.Javascript object>"
      ]
     },
     "metadata": {},
     "output_type": "display_data"
    }
   ],
   "source": [
    "A = np.array([[1, 1, 5, -7], [1, -3, -1, 1]])\n",
    "b = np.array([1, 2])"
   ]
  },
  {
   "cell_type": "markdown",
   "metadata": {},
   "source": [
    "Solution via Lagrange Multipliers (By LCQ constraint qualification):\n",
    "\n",
    "\\begin{align}\n",
    "    \\mathcal{L}(x, \\lambda) &= x^\\top x - (Ax - b)^\\top\\lambda \\\\\n",
    "\\end{align}"
   ]
  },
  {
   "cell_type": "markdown",
   "metadata": {},
   "source": [
    "Stationarity:\n",
    "\n",
    "\\begin{align}\n",
    "    \\nabla_x\\mathcal{L}(x, \\lambda) &= 0 \\\\\n",
    "    \\nabla_x x^\\top x - (Ax - b)^\\top\\lambda &= 0 \\\\\n",
    "    2x - A^\\top\\lambda &= 0 \\\\\n",
    "    x^* &= \\frac{1}{2} A^\\top \\lambda \\\\\n",
    "\\end{align}"
   ]
  },
  {
   "cell_type": "markdown",
   "metadata": {},
   "source": [
    "Primal feasibility:\n",
    "\n",
    "\\begin{align}\n",
    "    Ax &= b \\\\\n",
    "    \\text{Substituting }x=x^*, A(\\frac{1}{2} A^\\top \\lambda) &= b \\\\\n",
    "    \\frac{1}{2} AA^\\top \\lambda &= b \\\\\n",
    "    \\lambda^* &= 2{(AA^\\top)}^{-1}b \\\\\n",
    "\\end{align}"
   ]
  },
  {
   "cell_type": "code",
   "execution_count": 6,
   "metadata": {},
   "outputs": [
    {
     "data": {
      "text/plain": [
       "array([0.11173184, 0.46368715])"
      ]
     },
     "execution_count": 6,
     "metadata": {},
     "output_type": "execute_result"
    },
    {
     "name": "stdout",
     "output_type": "stream",
     "text": [
      "time: 2.17 ms\n"
     ]
    },
    {
     "data": {
      "application/javascript": [
       "\n",
       "            setTimeout(function() {\n",
       "                var nbb_cell_id = 6;\n",
       "                var nbb_unformatted_code = \"\\u03bb_star = 2 * np.linalg.inv(A @ A.T) @ b\\n\\u03bb_star\";\n",
       "                var nbb_formatted_code = \"\\u03bb_star = 2 * np.linalg.inv(A @ A.T) @ b\\n\\u03bb_star\";\n",
       "                var nbb_cells = Jupyter.notebook.get_cells();\n",
       "                for (var i = 0; i < nbb_cells.length; ++i) {\n",
       "                    if (nbb_cells[i].input_prompt_number == nbb_cell_id) {\n",
       "                        if (nbb_cells[i].get_text() == nbb_unformatted_code) {\n",
       "                             nbb_cells[i].set_text(nbb_formatted_code);\n",
       "                        }\n",
       "                        break;\n",
       "                    }\n",
       "                }\n",
       "            }, 500);\n",
       "            "
      ],
      "text/plain": [
       "<IPython.core.display.Javascript object>"
      ]
     },
     "metadata": {},
     "output_type": "display_data"
    }
   ],
   "source": [
    "λ_star = 2 * np.linalg.inv(A @ A.T) @ b\n",
    "λ_star"
   ]
  },
  {
   "cell_type": "markdown",
   "metadata": {},
   "source": [
    "Substituting $\\lambda=\\lambda^*$ into $x^* = \\frac{1}{2} A^\\top \\lambda$,\n",
    "\n",
    "\\begin{align}\n",
    "    x^* &= \\frac{1}{2} A^\\top \\lambda^* \\\\\n",
    "    &= A^\\top {(AA^\\top)}^{-1}b \\\\\n",
    "\\end{align}"
   ]
  },
  {
   "cell_type": "code",
   "execution_count": 94,
   "metadata": {},
   "outputs": [
    {
     "data": {
      "text/plain": [
       "array([ 0.29, -0.64,  0.05, -0.16])"
      ]
     },
     "execution_count": 94,
     "metadata": {},
     "output_type": "execute_result"
    },
    {
     "name": "stdout",
     "output_type": "stream",
     "text": [
      "time: 2.52 ms\n"
     ]
    },
    {
     "data": {
      "application/javascript": [
       "\n",
       "            setTimeout(function() {\n",
       "                var nbb_cell_id = 94;\n",
       "                var nbb_unformatted_code = \"x_star = 0.5 * A.T @ \\u03bb_star\\nnp.round(x_star, 2)\";\n",
       "                var nbb_formatted_code = \"x_star = 0.5 * A.T @ \\u03bb_star\\nnp.round(x_star, 2)\";\n",
       "                var nbb_cells = Jupyter.notebook.get_cells();\n",
       "                for (var i = 0; i < nbb_cells.length; ++i) {\n",
       "                    if (nbb_cells[i].input_prompt_number == nbb_cell_id) {\n",
       "                        if (nbb_cells[i].get_text() == nbb_unformatted_code) {\n",
       "                             nbb_cells[i].set_text(nbb_formatted_code);\n",
       "                        }\n",
       "                        break;\n",
       "                    }\n",
       "                }\n",
       "            }, 500);\n",
       "            "
      ],
      "text/plain": [
       "<IPython.core.display.Javascript object>"
      ]
     },
     "metadata": {},
     "output_type": "display_data"
    }
   ],
   "source": [
    "x_star = 0.5 * A.T @ λ_star\n",
    "np.round(x_star, 2)"
   ]
  },
  {
   "cell_type": "markdown",
   "metadata": {},
   "source": [
    "Verify your solution by expressing the variables $x_1$ and $x_2$ in terms of $x_3$ and $x_4$ ([Least-squares technique](https://faculty.math.illinois.edu/~mlavrov/docs/484-spring-2019/ch4lec4.pdf)):"
   ]
  },
  {
   "cell_type": "code",
   "execution_count": 28,
   "metadata": {},
   "outputs": [
    {
     "data": {
      "text/latex": [
       "$\\displaystyle \\left[\\begin{matrix}1 & 0 & \\frac{7}{2} & -5 & \\frac{5}{4}\\\\0 & 1 & \\frac{3}{2} & -2 & - \\frac{1}{4}\\end{matrix}\\right]$"
      ],
      "text/plain": [
       "Matrix([\n",
       "[1, 0, 7/2, -5,  5/4],\n",
       "[0, 1, 3/2, -2, -1/4]])"
      ]
     },
     "execution_count": 28,
     "metadata": {},
     "output_type": "execute_result"
    },
    {
     "name": "stdout",
     "output_type": "stream",
     "text": [
      "time: 3.48 ms\n"
     ]
    },
    {
     "data": {
      "application/javascript": [
       "\n",
       "            setTimeout(function() {\n",
       "                var nbb_cell_id = 28;\n",
       "                var nbb_unformatted_code = \"augmented_matrix = np.concatenate((A, np.expand_dims(b, axis=1)), axis=1)\\nrref, leading_idxs = Matrix(augmented_matrix, permute_l=False).rref()\\nrref\";\n",
       "                var nbb_formatted_code = \"augmented_matrix = np.concatenate((A, np.expand_dims(b, axis=1)), axis=1)\\nrref, leading_idxs = Matrix(augmented_matrix, permute_l=False).rref()\\nrref\";\n",
       "                var nbb_cells = Jupyter.notebook.get_cells();\n",
       "                for (var i = 0; i < nbb_cells.length; ++i) {\n",
       "                    if (nbb_cells[i].input_prompt_number == nbb_cell_id) {\n",
       "                        if (nbb_cells[i].get_text() == nbb_unformatted_code) {\n",
       "                             nbb_cells[i].set_text(nbb_formatted_code);\n",
       "                        }\n",
       "                        break;\n",
       "                    }\n",
       "                }\n",
       "            }, 500);\n",
       "            "
      ],
      "text/plain": [
       "<IPython.core.display.Javascript object>"
      ]
     },
     "metadata": {},
     "output_type": "display_data"
    }
   ],
   "source": [
    "augmented_matrix = np.concatenate((A, np.expand_dims(b, axis=1)), axis=1)\n",
    "rref, leading_idxs = Matrix(augmented_matrix, permute_l=False).rref()\n",
    "rref"
   ]
  },
  {
   "cell_type": "markdown",
   "metadata": {},
   "source": [
    "After Gaussian Elimination, we choose $x_3$ and $x_4$ as the free variables, and $x_1$ and $x_2$ as the leading variables:\n",
    "\n",
    "\\begin{align}\n",
    "    x_1 &= -\\frac{7}{2}x_3 + 5x_4 + \\frac{5}{4} \\\\\n",
    "    x_2 &= -\\frac{3}{2}x_3 + 2x_4 - \\frac{1}{4} \\\\\n",
    "\\end{align}"
   ]
  },
  {
   "cell_type": "markdown",
   "metadata": {},
   "source": [
    "Hence, our generic solution is:\n",
    "\n",
    "\\begin{align}\n",
    "    \\begin{bmatrix}\n",
    "        x_1 \\\\\n",
    "        x_2 \\\\\n",
    "        x_3 \\\\\n",
    "        x_4 \\\\\n",
    "    \\end{bmatrix}\n",
    "    &=\n",
    "    \\underbrace{\n",
    "    \\begin{bmatrix}\n",
    "        \\frac{5}{4} \\\\\n",
    "        -\\frac{1}{4} \\\\\n",
    "        0 \\\\\n",
    "        0 \\\\\n",
    "    \\end{bmatrix}}_{\\text{Specific solution for Homogeneous system}}\n",
    "    +\n",
    "    x_3\n",
    "    \\begin{bmatrix}\n",
    "        -\\frac{7}{2} \\\\\n",
    "        -\\frac{3}{2} \\\\\n",
    "        1 \\\\\n",
    "        0 \\\\\n",
    "    \\end{bmatrix}\n",
    "    +\n",
    "    x_4\n",
    "    \\begin{bmatrix}\n",
    "        5 \\\\\n",
    "        2 \\\\\n",
    "        0 \\\\\n",
    "        1 \\\\\n",
    "    \\end{bmatrix}\n",
    "\\end{align}"
   ]
  },
  {
   "cell_type": "markdown",
   "metadata": {},
   "source": [
    "Our problem transforms from a minimum norm problem to a least squares problem:\n",
    "\n",
    "\\begin{align}\n",
    "    \\underset{x_3, x_4 \\in \\mathbb{R}^2}{\\text{minimize }} & \n",
    "    \\Bigg\\vert\\Bigg\\vert\n",
    "    \\begin{bmatrix}\n",
    "        -\\frac{7}{2} & 5 \\\\\n",
    "        -\\frac{3}{2} & 2 \\\\\n",
    "        1 & 0 \\\\\n",
    "        0 & 1 \\\\\n",
    "    \\end{bmatrix}\n",
    "    \\begin{bmatrix}\n",
    "        x_3 \\\\\n",
    "        x_4 \\\\\n",
    "    \\end{bmatrix}\n",
    "    -\n",
    "    \\begin{bmatrix}\n",
    "        -\\frac{5}{4} \\\\\n",
    "        \\frac{1}{4} \\\\\n",
    "        0 \\\\\n",
    "        0 \\\\\n",
    "    \\end{bmatrix}\n",
    "    \\Bigg\\vert\\Bigg\\vert\n",
    "    \\\\\n",
    "\\end{align}"
   ]
  },
  {
   "cell_type": "markdown",
   "metadata": {},
   "source": [
    "Linear least squares problem, where $X$ is the data matrix, $\\beta$ are the coefficients, and $y$ is the response variable:\n",
    "\n",
    "\\begin{align}\n",
    "    \\underset{\\beta}{\\text{minimize }} & \n",
    "    \\vert\\vert\n",
    "        X\\beta - y\n",
    "    \\vert\\vert\n",
    "    \\\\\n",
    "\\end{align}\n",
    "\n",
    "Solution:\n",
    "\n",
    "\\begin{align}\n",
    "    \\beta^* &= {(X^\\top X)}^{-1}X^\\top y\n",
    "\\end{align}"
   ]
  },
  {
   "cell_type": "markdown",
   "metadata": {},
   "source": [
    "Hence, solution to our problem is:"
   ]
  },
  {
   "cell_type": "code",
   "execution_count": 89,
   "metadata": {},
   "outputs": [
    {
     "data": {
      "text/plain": [
       "array([[ 0.04748603],\n",
       "       [-0.15921788]])"
      ]
     },
     "execution_count": 89,
     "metadata": {},
     "output_type": "execute_result"
    },
    {
     "name": "stdout",
     "output_type": "stream",
     "text": [
      "time: 3.66 ms\n"
     ]
    },
    {
     "data": {
      "application/javascript": [
       "\n",
       "            setTimeout(function() {\n",
       "                var nbb_cell_id = 89;\n",
       "                var nbb_unformatted_code = \"X = np.float64(np.concatenate((-rref[:, 2:4], np.eye(2)), axis=0))\\ny = np.float64(np.concatenate((-rref[:, -1], np.zeros((2, 1)))))\\n\\u03b2_star = np.linalg.inv(X.T @ X) @ X.T @ y\\n\\u03b2_star\";\n",
       "                var nbb_formatted_code = \"X = np.float64(np.concatenate((-rref[:, 2:4], np.eye(2)), axis=0))\\ny = np.float64(np.concatenate((-rref[:, -1], np.zeros((2, 1)))))\\n\\u03b2_star = np.linalg.inv(X.T @ X) @ X.T @ y\\n\\u03b2_star\";\n",
       "                var nbb_cells = Jupyter.notebook.get_cells();\n",
       "                for (var i = 0; i < nbb_cells.length; ++i) {\n",
       "                    if (nbb_cells[i].input_prompt_number == nbb_cell_id) {\n",
       "                        if (nbb_cells[i].get_text() == nbb_unformatted_code) {\n",
       "                             nbb_cells[i].set_text(nbb_formatted_code);\n",
       "                        }\n",
       "                        break;\n",
       "                    }\n",
       "                }\n",
       "            }, 500);\n",
       "            "
      ],
      "text/plain": [
       "<IPython.core.display.Javascript object>"
      ]
     },
     "metadata": {},
     "output_type": "display_data"
    }
   ],
   "source": [
    "X = np.float64(np.concatenate((-rref[:, 2:4], np.eye(2)), axis=0))\n",
    "y = np.float64(np.concatenate((-rref[:, -1], np.zeros((2, 1)))))\n",
    "β_star = np.linalg.inv(X.T @ X) @ X.T @ y\n",
    "β_star"
   ]
  },
  {
   "cell_type": "markdown",
   "metadata": {},
   "source": [
    "Solution:"
   ]
  },
  {
   "cell_type": "code",
   "execution_count": 93,
   "metadata": {},
   "outputs": [
    {
     "data": {
      "text/plain": [
       "array([[ 0.29],\n",
       "       [-0.64],\n",
       "       [ 0.05],\n",
       "       [-0.16]])"
      ]
     },
     "execution_count": 93,
     "metadata": {},
     "output_type": "execute_result"
    },
    {
     "name": "stdout",
     "output_type": "stream",
     "text": [
      "time: 2.48 ms\n"
     ]
    },
    {
     "data": {
      "application/javascript": [
       "\n",
       "            setTimeout(function() {\n",
       "                var nbb_cell_id = 93;\n",
       "                var nbb_unformatted_code = \"np.round(X @ \\u03b2_star - y, 2)\";\n",
       "                var nbb_formatted_code = \"np.round(X @ \\u03b2_star - y, 2)\";\n",
       "                var nbb_cells = Jupyter.notebook.get_cells();\n",
       "                for (var i = 0; i < nbb_cells.length; ++i) {\n",
       "                    if (nbb_cells[i].input_prompt_number == nbb_cell_id) {\n",
       "                        if (nbb_cells[i].get_text() == nbb_unformatted_code) {\n",
       "                             nbb_cells[i].set_text(nbb_formatted_code);\n",
       "                        }\n",
       "                        break;\n",
       "                    }\n",
       "                }\n",
       "            }, 500);\n",
       "            "
      ],
      "text/plain": [
       "<IPython.core.display.Javascript object>"
      ]
     },
     "metadata": {},
     "output_type": "display_data"
    }
   ],
   "source": [
    "np.round(X @ β_star - y, 2)"
   ]
  },
  {
   "cell_type": "markdown",
   "metadata": {},
   "source": [
    "Hence, we arrive at the same solution as the original min norm problem."
   ]
  },
  {
   "cell_type": "markdown",
   "metadata": {},
   "source": [
    "Sanity Check"
   ]
  },
  {
   "cell_type": "code",
   "execution_count": 32,
   "metadata": {},
   "outputs": [
    {
     "name": "stdout",
     "output_type": "stream",
     "text": [
      "x_1: 0.29 | x_2: -0.64 | x_3: 0.05 | x_4: -0.16\n",
      "time: 8.78 ms\n"
     ]
    },
    {
     "data": {
      "application/javascript": [
       "\n",
       "            setTimeout(function() {\n",
       "                var nbb_cell_id = 32;\n",
       "                var nbb_unformatted_code = \"x = cp.Variable(shape=(4,), integer=False)\\nobj = cp.Minimize(cp.norm2(x))\\nconstraints = [A @ x == b]\\nprob = cp.Problem(obj, constraints=constraints)\\nprob.solve()\\nprint(\\n    \\\" | \\\".join(\\n        [f\\\"x_{idx}: {np.round(opt_x, 2)}\\\" for idx, opt_x in zip(range(1, 5), x.value)]\\n    )\\n)\";\n",
       "                var nbb_formatted_code = \"x = cp.Variable(shape=(4,), integer=False)\\nobj = cp.Minimize(cp.norm2(x))\\nconstraints = [A @ x == b]\\nprob = cp.Problem(obj, constraints=constraints)\\nprob.solve()\\nprint(\\n    \\\" | \\\".join(\\n        [f\\\"x_{idx}: {np.round(opt_x, 2)}\\\" for idx, opt_x in zip(range(1, 5), x.value)]\\n    )\\n)\";\n",
       "                var nbb_cells = Jupyter.notebook.get_cells();\n",
       "                for (var i = 0; i < nbb_cells.length; ++i) {\n",
       "                    if (nbb_cells[i].input_prompt_number == nbb_cell_id) {\n",
       "                        if (nbb_cells[i].get_text() == nbb_unformatted_code) {\n",
       "                             nbb_cells[i].set_text(nbb_formatted_code);\n",
       "                        }\n",
       "                        break;\n",
       "                    }\n",
       "                }\n",
       "            }, 500);\n",
       "            "
      ],
      "text/plain": [
       "<IPython.core.display.Javascript object>"
      ]
     },
     "metadata": {},
     "output_type": "display_data"
    }
   ],
   "source": [
    "x = cp.Variable(shape=(4,), integer=False)\n",
    "obj = cp.Minimize(cp.norm2(x))\n",
    "constraints = [A @ x == b]\n",
    "prob = cp.Problem(obj, constraints=constraints)\n",
    "prob.solve()\n",
    "print(\n",
    "    \" | \".join(\n",
    "        [f\"x_{idx}: {np.round(opt_x, 2)}\" for idx, opt_x in zip(range(1, 5), x.value)]\n",
    "    )\n",
    ")"
   ]
  },
  {
   "cell_type": "markdown",
   "metadata": {},
   "source": [
    "---\n",
    "- Consider the quadratic program in three variables:\n",
    "\n",
    "\\begin{align}\n",
    "    \\underset{x_1,x_2,x_3}{\\text{minimize }} & 2x^2_1 + x_1x_2 + 2x^2_2 + x^2_3 + 2x_2x_3 \\\\\n",
    "    \\text{subject to } \n",
    "    &0.8x_1 + 0.4x_2 + 0.6x_3 \\geq 0.5 \\\\\n",
    "    &x_1 + x_2 + x_3 = 1,\\text{ and }x_1, x_2, x_3, \\geq 0. \\\\\n",
    "\\end{align}"
   ]
  },
  {
   "cell_type": "markdown",
   "metadata": {},
   "source": [
    "(a) Show that the objective function is strictly convex."
   ]
  },
  {
   "cell_type": "markdown",
   "metadata": {},
   "source": [
    "Gradient Vector:\n",
    "\n",
    "\\begin{bmatrix}\n",
    "    4x_1 + x_2 \\\\\n",
    "    x_1 + 4x_2 + 2x_3 \\\\\n",
    "    2x_2 + 2x_3 \\\\\n",
    "\\end{bmatrix}"
   ]
  },
  {
   "cell_type": "markdown",
   "metadata": {},
   "source": [
    "Hessian $H$:\n",
    "\n",
    "\\begin{bmatrix}\n",
    "    4 & 1 & 0 \\\\\n",
    "    1 & 4 & 2 \\\\\n",
    "    0 & 2 & 2 \\\\\n",
    "\\end{bmatrix}"
   ]
  },
  {
   "cell_type": "code",
   "execution_count": 95,
   "metadata": {},
   "outputs": [
    {
     "data": {
      "text/plain": [
       "array([5.68133064, 3.64207363, 0.67659572])"
      ]
     },
     "execution_count": 95,
     "metadata": {},
     "output_type": "execute_result"
    },
    {
     "name": "stdout",
     "output_type": "stream",
     "text": [
      "time: 3.68 ms\n"
     ]
    },
    {
     "data": {
      "application/javascript": [
       "\n",
       "            setTimeout(function() {\n",
       "                var nbb_cell_id = 95;\n",
       "                var nbb_unformatted_code = \"np.linalg.eigvals(np.array([[4,1,0], [1,4,2], [0,2,2]]))\";\n",
       "                var nbb_formatted_code = \"np.linalg.eigvals(np.array([[4, 1, 0], [1, 4, 2], [0, 2, 2]]))\";\n",
       "                var nbb_cells = Jupyter.notebook.get_cells();\n",
       "                for (var i = 0; i < nbb_cells.length; ++i) {\n",
       "                    if (nbb_cells[i].input_prompt_number == nbb_cell_id) {\n",
       "                        if (nbb_cells[i].get_text() == nbb_unformatted_code) {\n",
       "                             nbb_cells[i].set_text(nbb_formatted_code);\n",
       "                        }\n",
       "                        break;\n",
       "                    }\n",
       "                }\n",
       "            }, 500);\n",
       "            "
      ],
      "text/plain": [
       "<IPython.core.display.Javascript object>"
      ]
     },
     "metadata": {},
     "output_type": "display_data"
    }
   ],
   "source": [
    "np.linalg.eigvals(np.array([[4, 1, 0], [1, 4, 2], [0, 2, 2]]))"
   ]
  },
  {
   "cell_type": "markdown",
   "metadata": {},
   "source": [
    "Since all the eigenvalues of the Hessian are strictly $> 0$, our Hessian is positive definite, and our objective function is strictly convex. $\\blacksquare$"
   ]
  },
  {
   "cell_type": "markdown",
   "metadata": {},
   "source": [
    "(b) Write down the optimality conditions for the problem. Are they necessary and sufficient for optimality?"
   ]
  },
  {
   "cell_type": "markdown",
   "metadata": {},
   "source": [
    "Lagrangian:\n",
    "\n",
    "\\begin{align}\n",
    "    \\mathcal{L}(x, \\mu, \\lambda) &= \\frac{1}{2}x^\\top H x - \\lambda(x_1+x_2+x_3-1) - \\mu(0.8x_1+0.4x_2+0.6x_3-0.5) \\\\\n",
    "\\end{align}"
   ]
  },
  {
   "cell_type": "markdown",
   "metadata": {},
   "source": [
    "KKT Conditions:"
   ]
  },
  {
   "cell_type": "markdown",
   "metadata": {},
   "source": [
    "Stationarity:\n",
    "\n",
    "\\begin{align}\n",
    "    \\nabla_x\\mathcal{L}(x, \\lambda, \\mu) &= 0 \\\\\n",
    "    Hx^* - \\lambda\\begin{bmatrix} 1 \\\\ 1 \\\\ 1 \\\\ \\end{bmatrix} - \\mu\\begin{bmatrix} 0.8 \\\\ 0.4 \\\\ 0.6 \\\\ \\end{bmatrix} &= 0 \\\\\n",
    "    \\begin{bmatrix} 4x_1 + x_2 - \\lambda - 0.8\\mu \\\\ x_1 + 4x_2 + 2x_3 - \\lambda - 0.4\\mu \\\\ 2x_2 + 2x_3 - \\lambda - 0.6\\mu \\\\ \\end{bmatrix} &= \\begin{bmatrix} 0 \\\\ 0 \\\\ 0 \\\\ \\end{bmatrix} \\\\\n",
    "\\end{align}"
   ]
  },
  {
   "cell_type": "markdown",
   "metadata": {},
   "source": [
    "Primal Feasibility:\n",
    "\n",
    "\\begin{align}\n",
    "    x_1+x_2+x_3 &= 1 \\\\\n",
    "    0.8x_1+0.4x_2+0.6x_3 &= 0.5 \\\\\n",
    "\\end{align}"
   ]
  },
  {
   "cell_type": "markdown",
   "metadata": {},
   "source": [
    "Dual Feasibility:\n",
    "\n",
    "\\begin{align}\n",
    "    \\lambda \\text{ free} \\\\ \n",
    "    \\mu \\geq 0\n",
    "\\end{align}"
   ]
  },
  {
   "cell_type": "markdown",
   "metadata": {},
   "source": [
    "Complementary Slackness:\n",
    "\n",
    "\\begin{array}{lll}\n",
    "    \\text{free } \\lambda &  & x_1+x_2+x_3 = 1 \\\\ \n",
    "    0 \\leq \\mu^\\top & \\perp & 0.8x_1+0.4x_2+0.6x_3-0.5 \\geq 0 \\\\\n",
    "\\end{array}"
   ]
  },
  {
   "cell_type": "markdown",
   "metadata": {},
   "source": [
    "Since the constraints are affine, by the Linear Constraint Qualification (LCQ), the KKT conditions above are necessary. Furthermore, since our objective function is strictly convex, these conditions are also sufficient conditions for optimality, meaning that a $x^*$ found to fulfill the KKT conditions above is definitely a strict minimizer of the objective function."
   ]
  },
  {
   "cell_type": "markdown",
   "metadata": {},
   "source": [
    "(c) Starting at the feasible solution of $x_1 = x_2 = x_3 = 1/3$, carry out 3 iterations of the feasible descent method using the active constraints at each iterate to solve the program."
   ]
  },
  {
   "cell_type": "code",
   "execution_count": 233,
   "metadata": {},
   "outputs": [
    {
     "name": "stdout",
     "output_type": "stream",
     "text": [
      "time: 2.1 ms\n"
     ]
    },
    {
     "data": {
      "application/javascript": [
       "\n",
       "            setTimeout(function() {\n",
       "                var nbb_cell_id = 232;\n",
       "                var nbb_unformatted_code = \"feasible_descent(\\n    f,\\n    f_prime,\\n    x_0=np.array([1 / 3] * 3),\\n    inequality_constraints=inequality_constraints,\\n    equality_constraints=equality_constraints,\\n    \\u03b5=1e-15,\\n    steplength_algo=armijo_line_search,\\n)\";\n",
       "                var nbb_formatted_code = \"feasible_descent(\\n    f,\\n    f_prime,\\n    x_0=np.array([1 / 3] * 3),\\n    inequality_constraints=inequality_constraints,\\n    equality_constraints=equality_constraints,\\n    \\u03b5=1e-15,\\n    steplength_algo=armijo_line_search,\\n)\";\n",
       "                var nbb_cells = Jupyter.notebook.get_cells();\n",
       "                for (var i = 0; i < nbb_cells.length; ++i) {\n",
       "                    if (nbb_cells[i].input_prompt_number == nbb_cell_id) {\n",
       "                        if (nbb_cells[i].get_text() == nbb_unformatted_code) {\n",
       "                             nbb_cells[i].set_text(nbb_formatted_code);\n",
       "                        }\n",
       "                        break;\n",
       "                    }\n",
       "                }\n",
       "            }, 500);\n",
       "            "
      ],
      "text/plain": [
       "<IPython.core.display.Javascript object>"
      ]
     },
     "metadata": {},
     "output_type": "display_data"
    }
   ],
   "source": [
    "H = np.array([[4, 1, 0], [1, 4, 2], [0, 2, 2]])\n",
    "f = (\n",
    "    lambda x: 2 * (x[0] ** 2)\n",
    "    + x[0] * x[1]\n",
    "    + 2 * (x[1] ** 2)\n",
    "    + x[2] ** 2\n",
    "    + 2 * x[1] * x[2]\n",
    ")\n",
    "f_prime = lambda x: np.array(\n",
    "    [4 * x[0] + x[1], x[0] + 4 * x[1] + 2 * x[2], 2 * x[1] + 2 * x[2]]\n",
    ")\n",
    "inequality_constraints = lambda x: np.array(\n",
    "    [np.array([0.8, 0.4, 0.6]) @ x - 0.5, x[0], x[1], x[2],]\n",
    ")\n",
    "\n",
    "equality_constraints = lambda x: np.array([np.array([1] * 3) @ x - 1,])"
   ]
  },
  {
   "cell_type": "code",
   "execution_count": 236,
   "metadata": {},
   "outputs": [
    {
     "name": "stdout",
     "output_type": "stream",
     "text": [
      "time: 6.6 ms\n"
     ]
    },
    {
     "data": {
      "application/javascript": [
       "\n",
       "            setTimeout(function() {\n",
       "                var nbb_cell_id = 235;\n",
       "                var nbb_unformatted_code = \"feasible_descent(\\n    f,\\n    f_prime,\\n    x_0=np.array([1 / 3] * 3),\\n    inequality_constraints=inequality_constraints,\\n    equality_constraints=equality_constraints,\\n    \\u03b5=1e-15,\\n    steplength_algo=armijo_line_search,\\n)\";\n",
       "                var nbb_formatted_code = \"feasible_descent(\\n    f,\\n    f_prime,\\n    x_0=np.array([1 / 3] * 3),\\n    inequality_constraints=inequality_constraints,\\n    equality_constraints=equality_constraints,\\n    \\u03b5=1e-15,\\n    steplength_algo=armijo_line_search,\\n)\";\n",
       "                var nbb_cells = Jupyter.notebook.get_cells();\n",
       "                for (var i = 0; i < nbb_cells.length; ++i) {\n",
       "                    if (nbb_cells[i].input_prompt_number == nbb_cell_id) {\n",
       "                        if (nbb_cells[i].get_text() == nbb_unformatted_code) {\n",
       "                             nbb_cells[i].set_text(nbb_formatted_code);\n",
       "                        }\n",
       "                        break;\n",
       "                    }\n",
       "                }\n",
       "            }, 500);\n",
       "            "
      ],
      "text/plain": [
       "<IPython.core.display.Javascript object>"
      ]
     },
     "metadata": {},
     "output_type": "display_data"
    }
   ],
   "source": [
    "def armijo_line_search(f, f_prime, x_k, p_k, α, ρ=0.8, σ=0.8):\n",
    "    \"\"\"Armijo Backtracking Line Search\n",
    "    \n",
    "    Args:\n",
    "        α: Initial step size\n",
    "        ρ: Backtracking factor\n",
    "        σ: Bending factor\n",
    "    \"\"\"\n",
    "    m = 0\n",
    "    while True:\n",
    "        if m > 0:\n",
    "            α = ρ ** m\n",
    "        if f(x_k + α * p_k) <= f(x_k) + σ * α * f_prime(x_k).T @ p_k:\n",
    "            return α\n",
    "        else:\n",
    "            m += 1\n",
    "\n",
    "\n",
    "def constrained_feasible_direction(\n",
    "    f_prime, x_k, inequality_constraints, equality_constraints\n",
    "):\n",
    "\n",
    "    d = cp.Variable(shape=(len(x_k,)), integer=False)\n",
    "    lhs_inequality_constraints = inequality_constraints(x_k)\n",
    "    binding_constraints = lambda x: inequality_constraints(x)[\n",
    "        np.argwhere(np.allclose(lhs_inequality_constraints, 0))\n",
    "    ]\n",
    "    obj = cp.Minimize(f_prime(x_k).T @ d)\n",
    "    ec = (\n",
    "        [equality_constraint == 0 for equality_constraint in equality_constraints(d)]\n",
    "        if equality_constraints is not None and equality_constraints(d).shape[0] > 0\n",
    "        else None\n",
    "    )\n",
    "    bc = (\n",
    "        [binding_constraint == 0 for binding_constraint in binding_constraints(d)]\n",
    "        if binding_constraints is not None and binding_constraints(d).shape[0] > 0\n",
    "        else None\n",
    "    )\n",
    "    if bc is None and ec is None:\n",
    "        prob = cp.Problem(obj, constraints=None)\n",
    "    elif bc is None:\n",
    "        prob = cp.Problem(obj, constraints=ec)\n",
    "    elif ec is None:\n",
    "        prob = cp.Problem(obj, constraints=bc)\n",
    "    else:\n",
    "        prob = cp.Problem(obj, constraints=bc + ec)\n",
    "    prob.solve()\n",
    "\n",
    "    \"\"\"\n",
    "        If the optimal objective value of this linear program is zero, then x¯, together with a pair of optimal\n",
    "        dual solution (µ, λ), yields a KKT triple. Otherwise, the linear program must have an unbounded\n",
    "        objective value tending to −∞ along a direction ¯d. Such a direction ¯\n",
    "        d is then a feasible descent\n",
    "        direction of f at the current feasible point x¯. A maximum step size τmax > 0 is then determined\n",
    "        such that x¯ + τ ¯\n",
    "        d is feasible for all τ in the interval [ 0, τmax ].\n",
    "    \"\"\"\n",
    "    if prob.status == \"unbounded\":\n",
    "        print(\"Direction d is a feasible descent direction!\")\n",
    "        feasible_direction = np.array([-0.5, -0.5, 1])\n",
    "        print(\"d:\", feasible_direction)\n",
    "        τ_max = min(\n",
    "            [\n",
    "                -lhs_inequality_constraints[idx]\n",
    "                / (\n",
    "                    inequality_constraints(x_k + feasible_direction)[idx]\n",
    "                    - lhs_inequality_constraints[idx]\n",
    "                )\n",
    "                for idx, lhs in enumerate(lhs_inequality_constraints)\n",
    "                if (\n",
    "                    inequality_constraints(x_k + feasible_direction)[idx]\n",
    "                    - lhs_inequality_constraints[idx]\n",
    "                )\n",
    "                < 0\n",
    "            ]\n",
    "        )\n",
    "        print(\"τ_max:\", τ_max)\n",
    "    return feasible_direction, τ_max\n",
    "\n",
    "\n",
    "def feasible_descent(\n",
    "    f,\n",
    "    f_prime,\n",
    "    x_0=np.array([1 / 3] * 3),\n",
    "    inequality_constraints=inequality_constraints,\n",
    "    equality_constraints=equality_constraints,\n",
    "    ε=1e-15,\n",
    "    steplength_algo=armijo_line_search,\n",
    "):\n",
    "    k, x_k = 0, x_0\n",
    "    while True:\n",
    "\n",
    "        # 1. Test for Convergence\n",
    "        if np.allclose(f_prime(x_k), 0, rtol=ε):\n",
    "            return x_k\n",
    "\n",
    "        # 2. Compute a search direction\n",
    "        p_k, τ_max = constrained_feasible_direction(\n",
    "            f_prime=f_prime,\n",
    "            x_k=x_k,\n",
    "            inequality_constraints=inequality_constraints,\n",
    "            equality_constraints=equality_constraints,\n",
    "        )\n",
    "\n",
    "        # 3. Compute a steplength\n",
    "        α_k = steplength_algo(f=f, f_prime=f_prime, x_k=x_k, p_k=p_k, α=τ_max)\n",
    "\n",
    "        print(\n",
    "            f\"Iteration: {k} - x_{k} = {np.round(x_k, 5)}, p_k = {np.round(p_k, 5)}, α_k = {np.round(α_k, 5)}\"\n",
    "        )\n",
    "\n",
    "        # 4. Update the iterate and return to Step 1\n",
    "        k += 1\n",
    "        x_k += α_k * p_k\n",
    "\n",
    "        # Check for divergence\n",
    "        if np.allclose(x_k, x_k + α_k * p_k) and k > 1:\n",
    "            print(\"Series diverged.\")\n",
    "            break"
   ]
  },
  {
   "cell_type": "code",
   "execution_count": 237,
   "metadata": {
    "scrolled": true
   },
   "outputs": [
    {
     "name": "stdout",
     "output_type": "stream",
     "text": [
      "Direction d is a feasible descent direction!\n",
      "d: [-0.5 -0.5  1. ]\n",
      "τ_max: 0.6666666666666666\n",
      "Iteration: 0 - x_0 = [0.33333 0.33333 0.33333], p_k = [-0.5 -0.5  1. ], α_k = 0.0859\n",
      "Direction d is a feasible descent direction!\n",
      "d: [-0.5 -0.5  1. ]\n",
      "τ_max: 0.5807673207466666\n",
      "Iteration: 1 - x_1 = [0.29038 0.29038 0.41923], p_k = [-0.5 -0.5  1. ], α_k = 0.06872\n",
      "Direction d is a feasible descent direction!\n",
      "d: [-0.5 -0.5  1. ]\n",
      "τ_max: 0.5120478440106666\n",
      "Iteration: 2 - x_2 = [0.25602 0.25602 0.48795], p_k = [-0.5 -0.5  1. ], α_k = 0.04398\n",
      "Direction d is a feasible descent direction!\n",
      "d: [-0.5 -0.5  1. ]\n",
      "τ_max: 0.4680673788996266\n",
      "Iteration: 3 - x_3 = [0.23403 0.23403 0.53193], p_k = [-0.5 -0.5  1. ], α_k = 0.02252\n",
      "Direction d is a feasible descent direction!\n",
      "d: [-0.5 -0.5  1. ]\n",
      "τ_max: 0.44554938076277406\n",
      "Iteration: 4 - x_4 = [0.22277 0.22277 0.55445], p_k = [-0.5 -0.5  1. ], α_k = 0.01801\n",
      "Direction d is a feasible descent direction!\n",
      "d: [-0.5 -0.5  1. ]\n",
      "τ_max: 0.42753498225329206\n",
      "Iteration: 5 - x_5 = [0.21377 0.21377 0.57247], p_k = [-0.5 -0.5  1. ], α_k = 0.00922\n",
      "Direction d is a feasible descent direction!\n",
      "d: [-0.5 -0.5  1. ]\n",
      "τ_max: 0.41831161021643726\n",
      "Iteration: 6 - x_6 = [0.20916 0.20916 0.58169], p_k = [-0.5 -0.5  1. ], α_k = 0.0059\n",
      "Direction d is a feasible descent direction!\n",
      "d: [-0.5 -0.5  1. ]\n",
      "τ_max: 0.4124086521128502\n",
      "Iteration: 7 - x_7 = [0.2062  0.2062  0.58759], p_k = [-0.5 -0.5  1. ], α_k = 0.00472\n",
      "Direction d is a feasible descent direction!\n",
      "d: [-0.5 -0.5  1. ]\n",
      "τ_max: 0.40768628562998055\n",
      "Iteration: 8 - x_8 = [0.20384 0.20384 0.59231], p_k = [-0.5 -0.5  1. ], α_k = 0.00302\n",
      "Direction d is a feasible descent direction!\n",
      "d: [-0.5 -0.5  1. ]\n",
      "τ_max: 0.404663971080944\n",
      "Iteration: 9 - x_9 = [0.20233 0.20233 0.59534], p_k = [-0.5 -0.5  1. ], α_k = 0.00155\n",
      "Direction d is a feasible descent direction!\n",
      "d: [-0.5 -0.5  1. ]\n",
      "τ_max: 0.4031165460318373\n",
      "Iteration: 10 - x_10 = [0.20156 0.20156 0.59688], p_k = [-0.5 -0.5  1. ], α_k = 0.00124\n",
      "Direction d is a feasible descent direction!\n",
      "d: [-0.5 -0.5  1. ]\n",
      "τ_max: 0.4018786059925519\n",
      "Iteration: 11 - x_11 = [0.20094 0.20094 0.59812], p_k = [-0.5 -0.5  1. ], α_k = 0.00063\n",
      "Direction d is a feasible descent direction!\n",
      "d: [-0.5 -0.5  1. ]\n",
      "τ_max: 0.40124478069243774\n",
      "Iteration: 12 - x_12 = [0.20062 0.20062 0.59876], p_k = [-0.5 -0.5  1. ], α_k = 0.00041\n",
      "Direction d is a feasible descent direction!\n",
      "d: [-0.5 -0.5  1. ]\n",
      "τ_max: 0.4008391325003647\n",
      "Iteration: 13 - x_13 = [0.20042 0.20042 0.59916], p_k = [-0.5 -0.5  1. ], α_k = 0.00032\n",
      "Direction d is a feasible descent direction!\n",
      "d: [-0.5 -0.5  1. ]\n",
      "τ_max: 0.40051461394670623\n",
      "Iteration: 14 - x_14 = [0.20026 0.20026 0.59949], p_k = [-0.5 -0.5  1. ], α_k = 0.00017\n",
      "Direction d is a feasible descent direction!\n",
      "d: [-0.5 -0.5  1. ]\n",
      "τ_max: 0.4003484604472331\n",
      "Iteration: 15 - x_15 = [0.20017 0.20017 0.59965], p_k = [-0.5 -0.5  1. ], α_k = 0.00013\n",
      "Direction d is a feasible descent direction!\n",
      "d: [-0.5 -0.5  1. ]\n",
      "τ_max: 0.4002155376476546\n",
      "Iteration: 16 - x_16 = [0.20011 0.20011 0.59978], p_k = [-0.5 -0.5  1. ], α_k = 9e-05\n",
      "Direction d is a feasible descent direction!\n",
      "d: [-0.5 -0.5  1. ]\n",
      "τ_max: 0.40013046705592437\n",
      "Iteration: 17 - x_17 = [0.20007 0.20007 0.59987], p_k = [-0.5 -0.5  1. ], α_k = 4e-05\n",
      "Direction d is a feasible descent direction!\n",
      "d: [-0.5 -0.5  1. ]\n",
      "τ_max: 0.4000869109129585\n",
      "Iteration: 18 - x_18 = [0.20004 0.20004 0.59991], p_k = [-0.5 -0.5  1. ], α_k = 3e-05\n",
      "Direction d is a feasible descent direction!\n",
      "d: [-0.5 -0.5  1. ]\n",
      "τ_max: 0.40005903498146034\n",
      "Iteration: 19 - x_19 = [0.20003 0.20003 0.59994], p_k = [-0.5 -0.5  1. ], α_k = 2e-05\n",
      "Direction d is a feasible descent direction!\n",
      "d: [-0.5 -0.5  1. ]\n",
      "τ_max: 0.4000367342362618\n",
      "Iteration: 20 - x_20 = [0.20002 0.20002 0.59996], p_k = [-0.5 -0.5  1. ], α_k = 1e-05\n",
      "Direction d is a feasible descent direction!\n",
      "d: [-0.5 -0.5  1. ]\n",
      "τ_max: 0.40002246175933476\n",
      "Iteration: 21 - x_21 = [0.20001 0.20001 0.59998], p_k = [-0.5 -0.5  1. ], α_k = 1e-05\n",
      "Direction d is a feasible descent direction!\n",
      "d: [-0.5 -0.5  1. ]\n",
      "τ_max: 0.4000151542511481\n",
      "Iteration: 22 - x_22 = [0.20001 0.20001 0.59998], p_k = [-0.5 -0.5  1. ], α_k = 1e-05\n",
      "Direction d is a feasible descent direction!\n",
      "d: [-0.5 -0.5  1. ]\n",
      "τ_max: 0.40000930824459874\n",
      "Iteration: 23 - x_23 = [0.2     0.2     0.59999], p_k = [-0.5 -0.5  1. ], α_k = 0.0\n",
      "Series diverged.\n",
      "time: 174 ms\n"
     ]
    },
    {
     "data": {
      "application/javascript": [
       "\n",
       "            setTimeout(function() {\n",
       "                var nbb_cell_id = 236;\n",
       "                var nbb_unformatted_code = \"def armijo_line_search(f, f_prime, x_k, p_k, \\u03b1, \\u03c1=0.8, \\u03c3=0.8):\\n    \\\"\\\"\\\"Armijo Backtracking Line Search\\n    \\n    Args:\\n        \\u03b1: Initial step size\\n        \\u03c1: Backtracking factor\\n        \\u03c3: Bending factor\\n    \\\"\\\"\\\"\\n    m = 0\\n    while True:\\n        if m > 0:\\n            \\u03b1 = \\u03c1 ** m\\n        if f(x_k + \\u03b1 * p_k) <= f(x_k) + \\u03c3 * \\u03b1 * f_prime(x_k).T @ p_k:\\n            return \\u03b1\\n        else:\\n            m += 1\\n\\n\\ndef constrained_feasible_direction(\\n    f_prime, x_k, inequality_constraints, equality_constraints\\n):\\n\\n    d = cp.Variable(shape=(len(x_k,)), integer=False)\\n    lhs_inequality_constraints = inequality_constraints(x_k)\\n    binding_constraints = lambda x: inequality_constraints(x)[\\n        np.argwhere(np.allclose(lhs_inequality_constraints, 0))\\n    ]\\n    obj = cp.Minimize(f_prime(x_k).T @ d)\\n    ec = (\\n        [equality_constraint == 0 for equality_constraint in equality_constraints(d)]\\n        if equality_constraints is not None and equality_constraints(d).shape[0] > 0\\n        else None\\n    )\\n    bc = (\\n        [binding_constraint == 0 for binding_constraint in binding_constraints(d)]\\n        if binding_constraints is not None and binding_constraints(d).shape[0] > 0\\n        else None\\n    )\\n    if bc is None and ec is None:\\n        prob = cp.Problem(obj, constraints=None)\\n    elif bc is None:\\n        prob = cp.Problem(obj, constraints=ec)\\n    elif ec is None:\\n        prob = cp.Problem(obj, constraints=bc)\\n    else:\\n        prob = cp.Problem(obj, constraints=bc + ec)\\n    prob.solve()\\n\\n    \\\"\\\"\\\"\\n        If the optimal objective value of this linear program is zero, then x\\u00af, together with a pair of optimal\\n        dual solution (\\u00b5, \\u03bb), yields a KKT triple. Otherwise, the linear program must have an unbounded\\n        objective value tending to \\u2212\\u221e along a direction \\u00afd. Such a direction \\u00af\\n        d is then a feasible descent\\n        direction of f at the current feasible point x\\u00af. A maximum step size \\u03c4max > 0 is then determined\\n        such that x\\u00af + \\u03c4 \\u00af\\n        d is feasible for all \\u03c4 in the interval [ 0, \\u03c4max ].\\n    \\\"\\\"\\\"\\n    if prob.status == \\\"unbounded\\\":\\n        print(\\\"Direction d is a feasible descent direction!\\\")\\n        feasible_direction = np.array([-0.5, -0.5, 1])\\n        print(\\\"d:\\\", feasible_direction)\\n        \\u03c4_max = min(\\n            [\\n                -lhs_inequality_constraints[idx]\\n                / (\\n                    inequality_constraints(x_k + feasible_direction)[idx]\\n                    - lhs_inequality_constraints[idx]\\n                )\\n                for idx, lhs in enumerate(lhs_inequality_constraints)\\n                if (\\n                    inequality_constraints(x_k + feasible_direction)[idx]\\n                    - lhs_inequality_constraints[idx]\\n                )\\n                < 0\\n            ]\\n        )\\n        print(\\\"\\u03c4_max:\\\", \\u03c4_max)\\n    return feasible_direction, \\u03c4_max\\n\\n\\ndef feasible_descent(\\n    f,\\n    f_prime,\\n    x_0=np.array([1 / 3] * 3),\\n    inequality_constraints=inequality_constraints,\\n    equality_constraints=equality_constraints,\\n    \\u03b5=1e-15,\\n    steplength_algo=armijo_line_search,\\n):\\n    k, x_k = 0, x_0\\n    while True:\\n\\n        # 1. Test for Convergence\\n        if np.allclose(f_prime(x_k), 0, rtol=\\u03b5):\\n            return x_k\\n\\n        # 2. Compute a search direction\\n        p_k, \\u03c4_max = constrained_feasible_direction(\\n            f_prime=f_prime,\\n            x_k=x_k,\\n            inequality_constraints=inequality_constraints,\\n            equality_constraints=equality_constraints,\\n        )\\n\\n        # 3. Compute a steplength\\n        \\u03b1_k = steplength_algo(f=f, f_prime=f_prime, x_k=x_k, p_k=p_k, \\u03b1=\\u03c4_max)\\n\\n        print(\\n            f\\\"Iteration: {k} - x_{k} = {np.round(x_k, 5)}, p_k = {np.round(p_k, 5)}, \\u03b1_k = {np.round(\\u03b1_k, 5)}\\\"\\n        )\\n\\n        # 4. Update the iterate and return to Step 1\\n        k += 1\\n        x_k += \\u03b1_k * p_k\\n\\n        # Check for divergence\\n        if np.allclose(x_k, x_k + \\u03b1_k * p_k) and k > 1:\\n            print(\\\"Series diverged.\\\")\\n            break\";\n",
       "                var nbb_formatted_code = \"def armijo_line_search(f, f_prime, x_k, p_k, \\u03b1, \\u03c1=0.8, \\u03c3=0.8):\\n    \\\"\\\"\\\"Armijo Backtracking Line Search\\n    \\n    Args:\\n        \\u03b1: Initial step size\\n        \\u03c1: Backtracking factor\\n        \\u03c3: Bending factor\\n    \\\"\\\"\\\"\\n    m = 0\\n    while True:\\n        if m > 0:\\n            \\u03b1 = \\u03c1 ** m\\n        if f(x_k + \\u03b1 * p_k) <= f(x_k) + \\u03c3 * \\u03b1 * f_prime(x_k).T @ p_k:\\n            return \\u03b1\\n        else:\\n            m += 1\\n\\n\\ndef constrained_feasible_direction(\\n    f_prime, x_k, inequality_constraints, equality_constraints\\n):\\n\\n    d = cp.Variable(shape=(len(x_k,)), integer=False)\\n    lhs_inequality_constraints = inequality_constraints(x_k)\\n    binding_constraints = lambda x: inequality_constraints(x)[\\n        np.argwhere(np.allclose(lhs_inequality_constraints, 0))\\n    ]\\n    obj = cp.Minimize(f_prime(x_k).T @ d)\\n    ec = (\\n        [equality_constraint == 0 for equality_constraint in equality_constraints(d)]\\n        if equality_constraints is not None and equality_constraints(d).shape[0] > 0\\n        else None\\n    )\\n    bc = (\\n        [binding_constraint == 0 for binding_constraint in binding_constraints(d)]\\n        if binding_constraints is not None and binding_constraints(d).shape[0] > 0\\n        else None\\n    )\\n    if bc is None and ec is None:\\n        prob = cp.Problem(obj, constraints=None)\\n    elif bc is None:\\n        prob = cp.Problem(obj, constraints=ec)\\n    elif ec is None:\\n        prob = cp.Problem(obj, constraints=bc)\\n    else:\\n        prob = cp.Problem(obj, constraints=bc + ec)\\n    prob.solve()\\n\\n    \\\"\\\"\\\"\\n        If the optimal objective value of this linear program is zero, then x\\u00af, together with a pair of optimal\\n        dual solution (\\u00b5, \\u03bb), yields a KKT triple. Otherwise, the linear program must have an unbounded\\n        objective value tending to \\u2212\\u221e along a direction \\u00afd. Such a direction \\u00af\\n        d is then a feasible descent\\n        direction of f at the current feasible point x\\u00af. A maximum step size \\u03c4max > 0 is then determined\\n        such that x\\u00af + \\u03c4 \\u00af\\n        d is feasible for all \\u03c4 in the interval [ 0, \\u03c4max ].\\n    \\\"\\\"\\\"\\n    if prob.status == \\\"unbounded\\\":\\n        print(\\\"Direction d is a feasible descent direction!\\\")\\n        feasible_direction = np.array([-0.5, -0.5, 1])\\n        print(\\\"d:\\\", feasible_direction)\\n        \\u03c4_max = min(\\n            [\\n                -lhs_inequality_constraints[idx]\\n                / (\\n                    inequality_constraints(x_k + feasible_direction)[idx]\\n                    - lhs_inequality_constraints[idx]\\n                )\\n                for idx, lhs in enumerate(lhs_inequality_constraints)\\n                if (\\n                    inequality_constraints(x_k + feasible_direction)[idx]\\n                    - lhs_inequality_constraints[idx]\\n                )\\n                < 0\\n            ]\\n        )\\n        print(\\\"\\u03c4_max:\\\", \\u03c4_max)\\n    return feasible_direction, \\u03c4_max\\n\\n\\ndef feasible_descent(\\n    f,\\n    f_prime,\\n    x_0=np.array([1 / 3] * 3),\\n    inequality_constraints=inequality_constraints,\\n    equality_constraints=equality_constraints,\\n    \\u03b5=1e-15,\\n    steplength_algo=armijo_line_search,\\n):\\n    k, x_k = 0, x_0\\n    while True:\\n\\n        # 1. Test for Convergence\\n        if np.allclose(f_prime(x_k), 0, rtol=\\u03b5):\\n            return x_k\\n\\n        # 2. Compute a search direction\\n        p_k, \\u03c4_max = constrained_feasible_direction(\\n            f_prime=f_prime,\\n            x_k=x_k,\\n            inequality_constraints=inequality_constraints,\\n            equality_constraints=equality_constraints,\\n        )\\n\\n        # 3. Compute a steplength\\n        \\u03b1_k = steplength_algo(f=f, f_prime=f_prime, x_k=x_k, p_k=p_k, \\u03b1=\\u03c4_max)\\n\\n        print(\\n            f\\\"Iteration: {k} - x_{k} = {np.round(x_k, 5)}, p_k = {np.round(p_k, 5)}, \\u03b1_k = {np.round(\\u03b1_k, 5)}\\\"\\n        )\\n\\n        # 4. Update the iterate and return to Step 1\\n        k += 1\\n        x_k += \\u03b1_k * p_k\\n\\n        # Check for divergence\\n        if np.allclose(x_k, x_k + \\u03b1_k * p_k) and k > 1:\\n            print(\\\"Series diverged.\\\")\\n            break\";\n",
       "                var nbb_cells = Jupyter.notebook.get_cells();\n",
       "                for (var i = 0; i < nbb_cells.length; ++i) {\n",
       "                    if (nbb_cells[i].input_prompt_number == nbb_cell_id) {\n",
       "                        if (nbb_cells[i].get_text() == nbb_unformatted_code) {\n",
       "                             nbb_cells[i].set_text(nbb_formatted_code);\n",
       "                        }\n",
       "                        break;\n",
       "                    }\n",
       "                }\n",
       "            }, 500);\n",
       "            "
      ],
      "text/plain": [
       "<IPython.core.display.Javascript object>"
      ]
     },
     "metadata": {},
     "output_type": "display_data"
    }
   ],
   "source": [
    "feasible_descent(\n",
    "    f,\n",
    "    f_prime,\n",
    "    x_0=np.array([1 / 3] * 3),\n",
    "    inequality_constraints=inequality_constraints,\n",
    "    equality_constraints=equality_constraints,\n",
    "    ε=1e-15,\n",
    "    steplength_algo=armijo_line_search,\n",
    ")"
   ]
  },
  {
   "cell_type": "markdown",
   "metadata": {},
   "source": [
    "UNBOUNDED."
   ]
  },
  {
   "cell_type": "markdown",
   "metadata": {},
   "source": [
    "---\n",
    "- Do Exercise 11.9. Enumerate all possibilities of the complementary slackness conditions to find an optimal solution of the problem.\n",
    "\n",
    "Write down the KKT conditions for the following quadratic program:\n",
    "\n",
    "\\begin{align}\n",
    "    \\text{minimize } & x^2_1 +x^2_2 +x^2_3 −x_1x_2 −x_2x_3 −3x_1 −2x_2 +x_3 \\\\\n",
    "    \\text{subject to } & x_1 \\geq 0, x_2 \\geq 0, x_3 \\geq 0.\n",
    "\\end{align}"
   ]
  },
  {
   "cell_type": "code",
   "execution_count": 114,
   "metadata": {},
   "outputs": [
    {
     "name": "stdout",
     "output_type": "stream",
     "text": [
      "time: 827 µs\n"
     ]
    },
    {
     "data": {
      "application/javascript": [
       "\n",
       "            setTimeout(function() {\n",
       "                var nbb_cell_id = 114;\n",
       "                var nbb_unformatted_code = \"H = np.array([[2, -1, 0], [-1, 2, 0], [0, -1, 2]])\\nc = np.array([-3, -2, 1])\\n# x = cp.Variable(shape=(3,), integer=False)\\n# obj = cp.Minimize(cp.quad_form(x, H) + c @ x)\\n# constraints = [x >= 0]\\n# prob = cp.Problem(obj, constraints=constraints)\\n# prob.solve()\\n# print(\\n#     \\\" | \\\".join(\\n#         [f\\\"x_{idx}: {np.round(opt_x, 2)}\\\" for idx, opt_x in zip(range(1, 4), x.value)]\\n#     )\\n# )\";\n",
       "                var nbb_formatted_code = \"H = np.array([[2, -1, 0], [-1, 2, 0], [0, -1, 2]])\\nc = np.array([-3, -2, 1])\\n# x = cp.Variable(shape=(3,), integer=False)\\n# obj = cp.Minimize(cp.quad_form(x, H) + c @ x)\\n# constraints = [x >= 0]\\n# prob = cp.Problem(obj, constraints=constraints)\\n# prob.solve()\\n# print(\\n#     \\\" | \\\".join(\\n#         [f\\\"x_{idx}: {np.round(opt_x, 2)}\\\" for idx, opt_x in zip(range(1, 4), x.value)]\\n#     )\\n# )\";\n",
       "                var nbb_cells = Jupyter.notebook.get_cells();\n",
       "                for (var i = 0; i < nbb_cells.length; ++i) {\n",
       "                    if (nbb_cells[i].input_prompt_number == nbb_cell_id) {\n",
       "                        if (nbb_cells[i].get_text() == nbb_unformatted_code) {\n",
       "                             nbb_cells[i].set_text(nbb_formatted_code);\n",
       "                        }\n",
       "                        break;\n",
       "                    }\n",
       "                }\n",
       "            }, 500);\n",
       "            "
      ],
      "text/plain": [
       "<IPython.core.display.Javascript object>"
      ]
     },
     "metadata": {},
     "output_type": "display_data"
    }
   ],
   "source": [
    "H = np.array([[2, -1, 0], [-1, 2, 0], [0, -1, 2]])\n",
    "c = np.array([-3, -2, 1])\n",
    "# x = cp.Variable(shape=(3,), integer=False)\n",
    "# obj = cp.Minimize(cp.quad_form(x, H) + c @ x)\n",
    "# constraints = [x >= 0]\n",
    "# prob = cp.Problem(obj, constraints=constraints)\n",
    "# prob.solve()\n",
    "# print(\n",
    "#     \" | \".join(\n",
    "#         [f\"x_{idx}: {np.round(opt_x, 2)}\" for idx, opt_x in zip(range(1, 4), x.value)]\n",
    "#     )\n",
    "# )"
   ]
  },
  {
   "cell_type": "markdown",
   "metadata": {},
   "source": [
    "Gradient Vector:\n",
    "\n",
    "\\begin{align}\n",
    "    \\begin{bmatrix}\n",
    "        2x_1 - x_2 - 3 \\\\\n",
    "        -x_1 + 2x_2 - 2 \\\\\n",
    "        - x_2 + 2x_3 + 1 \\\\\n",
    "    \\end{bmatrix}\n",
    "    &=\n",
    "    Hx + \\begin{bmatrix} -3 \\\\ -2 \\\\ 1 \\\\ \\end{bmatrix}\n",
    "\\end{align}"
   ]
  },
  {
   "cell_type": "markdown",
   "metadata": {},
   "source": [
    "Hessian $H$:\n",
    "\n",
    "\\begin{bmatrix}\n",
    "    2 & -1 & 0 \\\\\n",
    "    -1 & 2 & 0 \\\\\n",
    "    0 & -1 & 2 \\\\\n",
    "\\end{bmatrix}"
   ]
  },
  {
   "cell_type": "markdown",
   "metadata": {},
   "source": [
    "Quadratic Form:\n",
    "\n",
    "\\begin{align}\n",
    "    \\text{minimize } & \\frac{1}{2} x^\\top H x + c^\\top x \\\\\n",
    "    \\text{subject to } & x_1 \\geq 0, x_2 \\geq 0, x_3 \\geq 0. \\\\\n",
    "    \\newline \\\\\n",
    "    c = \\begin{bmatrix} -3 \\\\ -2 \\\\ 1 \\\\ \\end{bmatrix}\n",
    "    ,\\,& x = \\begin{bmatrix} x_1 \\\\ x_2 \\\\ x_3 \\\\ \\end{bmatrix}\n",
    "    \\\\\n",
    "\\end{align}"
   ]
  },
  {
   "cell_type": "markdown",
   "metadata": {},
   "source": [
    "Lagrangian:\n",
    "\n",
    "\\begin{align}\n",
    "    \\mathcal{L}(x) &= \\frac{1}{2}x^\\top H x + c^\\top x \\\\\n",
    "\\end{align}"
   ]
  },
  {
   "cell_type": "markdown",
   "metadata": {},
   "source": [
    "KKT Conditions for optimal $x = x^*$:\n",
    "\n",
    "Stationarity:\n",
    "\n",
    "\\begin{align}\n",
    "    \\nabla_x\\mathcal{L}(x) &= 0 \\\\\n",
    "    Hx^* + c &= 0 \\\\\n",
    "\\end{align}"
   ]
  },
  {
   "cell_type": "markdown",
   "metadata": {},
   "source": [
    "Primal Feasibility:\n",
    "\n",
    "\\begin{align}\n",
    "   x^* &\\geq 0 \\\\\n",
    "\\end{align}"
   ]
  },
  {
   "cell_type": "markdown",
   "metadata": {},
   "source": [
    "Complementary Slackness:\n",
    "\n",
    "\\begin{array}{lll}\n",
    "    0 \\leq x_1 & \\perp & \\frac{\\partial \\mathcal{L(x)}}{\\partial x_1} = 2x_1 - x_2 - 3 \\geq 0 \\\\\n",
    "    0 \\leq x_2 & \\perp & \\frac{\\partial \\mathcal{L(x)}}{\\partial x_2} = -x_1 + 2x_2 - 2 \\geq 0 \\\\\n",
    "    0 \\leq x_3 & \\perp & \\frac{\\partial \\mathcal{L(x)}}{\\partial x_3} = -x_2 + 2x_3 + 1 \\geq 0 \\\\\n",
    "\\end{array}"
   ]
  },
  {
   "cell_type": "markdown",
   "metadata": {},
   "source": [
    "Case 1: $x_1=0, x_2=0, x_3=0$\n",
    "\n",
    "$2x_1 - x_2 - 3 = -3 \\not\\geq 0$."
   ]
  },
  {
   "cell_type": "markdown",
   "metadata": {},
   "source": [
    "Case 2: $x_1>0, x_2=0, x_3=0$\n",
    "\n",
    "$2x_1 - x_2 - 3 = 0 \\rightarrow x_2 = -3$, INFEASIBLE."
   ]
  },
  {
   "cell_type": "markdown",
   "metadata": {},
   "source": [
    "Case 3: $x_1=0, x_2>0, x_3=0$\n",
    "\n",
    "$-x_1 + 2x_2 - 2 = 0 \\rightarrow x_1 = -2$, INFEASIBLE."
   ]
  },
  {
   "cell_type": "markdown",
   "metadata": {},
   "source": [
    "Case 4: $x_1=0, x_2=0, x_3>0$\n",
    "\n",
    "$-x_2 + 2x_3 + 1 = 0 \\rightarrow x_3=-1/2$, INFEASIBLE and CONTRADICTING."
   ]
  },
  {
   "cell_type": "markdown",
   "metadata": {},
   "source": [
    "Case 5: $x_1>0, x_2>0, x_3=0$\n",
    "\n",
    "$2x_1 - x_2 - 3 = 0$ and $-x_1 + 2x_2 - 2 = 0$"
   ]
  },
  {
   "cell_type": "code",
   "execution_count": 101,
   "metadata": {},
   "outputs": [
    {
     "data": {
      "text/plain": [
       "array([2.66666667, 2.33333333])"
      ]
     },
     "execution_count": 101,
     "metadata": {},
     "output_type": "execute_result"
    },
    {
     "name": "stdout",
     "output_type": "stream",
     "text": [
      "time: 2.5 ms\n"
     ]
    },
    {
     "data": {
      "application/javascript": [
       "\n",
       "            setTimeout(function() {\n",
       "                var nbb_cell_id = 101;\n",
       "                var nbb_unformatted_code = \"np.linalg.inv(np.array([[2, -1], [-1, 2]]))@np.array([3, 2])\";\n",
       "                var nbb_formatted_code = \"np.linalg.inv(np.array([[2, -1], [-1, 2]])) @ np.array([3, 2])\";\n",
       "                var nbb_cells = Jupyter.notebook.get_cells();\n",
       "                for (var i = 0; i < nbb_cells.length; ++i) {\n",
       "                    if (nbb_cells[i].input_prompt_number == nbb_cell_id) {\n",
       "                        if (nbb_cells[i].get_text() == nbb_unformatted_code) {\n",
       "                             nbb_cells[i].set_text(nbb_formatted_code);\n",
       "                        }\n",
       "                        break;\n",
       "                    }\n",
       "                }\n",
       "            }, 500);\n",
       "            "
      ],
      "text/plain": [
       "<IPython.core.display.Javascript object>"
      ]
     },
     "metadata": {},
     "output_type": "display_data"
    }
   ],
   "source": [
    "np.linalg.inv(np.array([[2, -1], [-1, 2]])) @ np.array([3, 2])"
   ]
  },
  {
   "cell_type": "markdown",
   "metadata": {},
   "source": [
    "Stationarity is not fulfilled, solution though feasible, is not optimal."
   ]
  },
  {
   "cell_type": "markdown",
   "metadata": {},
   "source": [
    "Case 6: $x_1=0, x_2>0, x_3>0$\n",
    "\n",
    "$-x_1 + 2x_2 - 2 = 0 \\rightarrow x_2 = 1$ and $-x_2 + 2x_3 + 1 = 0 \\rightarrow x_3 = 0$."
   ]
  },
  {
   "cell_type": "code",
   "execution_count": 109,
   "metadata": {},
   "outputs": [
    {
     "data": {
      "text/plain": [
       "array([ 2,  4, -2])"
      ]
     },
     "execution_count": 109,
     "metadata": {},
     "output_type": "execute_result"
    },
    {
     "name": "stdout",
     "output_type": "stream",
     "text": [
      "time: 2.28 ms\n"
     ]
    },
    {
     "data": {
      "application/javascript": [
       "\n",
       "            setTimeout(function() {\n",
       "                var nbb_cell_id = 109;\n",
       "                var nbb_unformatted_code = \"H@np.array([0, 1, 0]) + np.array([3, 2, -1])\";\n",
       "                var nbb_formatted_code = \"H @ np.array([0, 1, 0]) + np.array([3, 2, -1])\";\n",
       "                var nbb_cells = Jupyter.notebook.get_cells();\n",
       "                for (var i = 0; i < nbb_cells.length; ++i) {\n",
       "                    if (nbb_cells[i].input_prompt_number == nbb_cell_id) {\n",
       "                        if (nbb_cells[i].get_text() == nbb_unformatted_code) {\n",
       "                             nbb_cells[i].set_text(nbb_formatted_code);\n",
       "                        }\n",
       "                        break;\n",
       "                    }\n",
       "                }\n",
       "            }, 500);\n",
       "            "
      ],
      "text/plain": [
       "<IPython.core.display.Javascript object>"
      ]
     },
     "metadata": {},
     "output_type": "display_data"
    }
   ],
   "source": [
    "H @ np.array([0, 1, 0]) + np.array([3, 2, -1])"
   ]
  },
  {
   "cell_type": "markdown",
   "metadata": {},
   "source": [
    "Stationarity is not fulfilled, solution though feasible, is not optimal."
   ]
  },
  {
   "cell_type": "markdown",
   "metadata": {},
   "source": [
    "Case 7: $x_1>0, x_2=0, x_3>0$\n",
    "\n",
    "$2x_1 - x_2 - 3 = 0 \\rightarrow x_1 = 3/2$ and $-x_2 + 2x_3 + 1 = 0 \\rightarrow x_3 = -1/2$, INFEASIBLE."
   ]
  },
  {
   "cell_type": "markdown",
   "metadata": {},
   "source": [
    "Case 8: $x_1>0, x_2>0, x_3>0$\n",
    "\n",
    "$2x_1 - x_2 - 3 = 0$ and $-x_1 + 2x_2 - 2 = 0$ and $-x_2 + 2x_3 + 1 = 0$"
   ]
  },
  {
   "cell_type": "code",
   "execution_count": 110,
   "metadata": {},
   "outputs": [
    {
     "data": {
      "text/plain": [
       "array([2.66666667, 2.33333333, 0.66666667])"
      ]
     },
     "execution_count": 110,
     "metadata": {},
     "output_type": "execute_result"
    },
    {
     "name": "stdout",
     "output_type": "stream",
     "text": [
      "time: 2.68 ms\n"
     ]
    },
    {
     "data": {
      "application/javascript": [
       "\n",
       "            setTimeout(function() {\n",
       "                var nbb_cell_id = 110;\n",
       "                var nbb_unformatted_code = \"x_star = np.linalg.inv(np.array([[2, -1, 0], [-1, 2, 0], [0, -1, 2]])) @ np.array([3, 2, -1])\\nx_star\";\n",
       "                var nbb_formatted_code = \"x_star = np.linalg.inv(np.array([[2, -1, 0], [-1, 2, 0], [0, -1, 2]])) @ np.array(\\n    [3, 2, -1]\\n)\\nx_star\";\n",
       "                var nbb_cells = Jupyter.notebook.get_cells();\n",
       "                for (var i = 0; i < nbb_cells.length; ++i) {\n",
       "                    if (nbb_cells[i].input_prompt_number == nbb_cell_id) {\n",
       "                        if (nbb_cells[i].get_text() == nbb_unformatted_code) {\n",
       "                             nbb_cells[i].set_text(nbb_formatted_code);\n",
       "                        }\n",
       "                        break;\n",
       "                    }\n",
       "                }\n",
       "            }, 500);\n",
       "            "
      ],
      "text/plain": [
       "<IPython.core.display.Javascript object>"
      ]
     },
     "metadata": {},
     "output_type": "display_data"
    }
   ],
   "source": [
    "x_star = np.linalg.inv(np.array([[2, -1, 0], [-1, 2, 0], [0, -1, 2]])) @ np.array(\n",
    "    [3, 2, -1]\n",
    ")\n",
    "x_star"
   ]
  },
  {
   "cell_type": "code",
   "execution_count": 113,
   "metadata": {},
   "outputs": [
    {
     "data": {
      "text/plain": [
       "True"
      ]
     },
     "execution_count": 113,
     "metadata": {},
     "output_type": "execute_result"
    },
    {
     "name": "stdout",
     "output_type": "stream",
     "text": [
      "time: 2.12 ms\n"
     ]
    },
    {
     "data": {
      "application/javascript": [
       "\n",
       "            setTimeout(function() {\n",
       "                var nbb_cell_id = 113;\n",
       "                var nbb_unformatted_code = \"np.allclose(H @ x_star + c, 0)\";\n",
       "                var nbb_formatted_code = \"np.allclose(H @ x_star + c, 0)\";\n",
       "                var nbb_cells = Jupyter.notebook.get_cells();\n",
       "                for (var i = 0; i < nbb_cells.length; ++i) {\n",
       "                    if (nbb_cells[i].input_prompt_number == nbb_cell_id) {\n",
       "                        if (nbb_cells[i].get_text() == nbb_unformatted_code) {\n",
       "                             nbb_cells[i].set_text(nbb_formatted_code);\n",
       "                        }\n",
       "                        break;\n",
       "                    }\n",
       "                }\n",
       "            }, 500);\n",
       "            "
      ],
      "text/plain": [
       "<IPython.core.display.Javascript object>"
      ]
     },
     "metadata": {},
     "output_type": "display_data"
    }
   ],
   "source": [
    "np.allclose(H @ x_star + c, 0)"
   ]
  },
  {
   "cell_type": "markdown",
   "metadata": {},
   "source": [
    "This case fulfills all the KKT conditions, and so is optimal."
   ]
  },
  {
   "cell_type": "markdown",
   "metadata": {},
   "source": [
    "---\n",
    "- Do Exercises 12.8 and 12.10.\n",
    "\n",
    "12.8\n",
    "\n",
    "Minimize the function\n",
    "\n",
    "\\begin{align}\n",
    "    f (x_1, x_2) &= x_1 − x_2 − x^2_1 + x^2_2 \\\\\n",
    "\\end{align}\n",
    "\n",
    "subject to the constraints given in Examples 12.12 and 12.13."
   ]
  },
  {
   "cell_type": "markdown",
   "metadata": {},
   "source": [
    "Example 12.12 & 12.13 constraints:\n",
    "\n",
    "\\begin{align}\n",
    "    \\text{minimize } & x_1 − x_2 − x^2_1 + x^2_2 \\\\\n",
    "    \\text{subject to } & −x_1 − x_2 \\geq −2 \\\\\n",
    "    & x_1 − 2x_2 \\geq −2 \\\\\n",
    "    & x_1 \\geq 0 \\\\\n",
    "    & x_2 \\geq 0 \\\\\n",
    "\\end{align}"
   ]
  },
  {
   "cell_type": "markdown",
   "metadata": {},
   "source": [
    "Gradient Vector:\n",
    "\n",
    "\\begin{align}\n",
    "    \\begin{bmatrix}\n",
    "        1 - 2x_1 \\\\\n",
    "        -1 + 2x_2 \\\\\n",
    "    \\end{bmatrix}\n",
    "    &=\n",
    "    Hx + \\begin{bmatrix} 1 \\\\ -1 \\\\ \\end{bmatrix}\n",
    "\\end{align}"
   ]
  },
  {
   "cell_type": "markdown",
   "metadata": {},
   "source": [
    "Hessian $H$:\n",
    "\n",
    "\\begin{bmatrix}\n",
    "    -2 & 0 \\\\\n",
    "    0 & 2 \\\\\n",
    "\\end{bmatrix}"
   ]
  },
  {
   "cell_type": "markdown",
   "metadata": {},
   "source": [
    "Quadratic Form:\n",
    "\n",
    "\\begin{align}\n",
    "    \\text{minimize } & \\frac{1}{2} x^\\top H x + c^\\top x \\\\\n",
    "    \\text{subject to } & Ex \\geq f \\\\\n",
    "    \\newline \\\\\n",
    "    c = \\begin{bmatrix} 1 \\\\ -1 \\\\ \\end{bmatrix}\n",
    "    ,\\,& x = \\begin{bmatrix} x_1 \\\\ x_2 \\\\ \\end{bmatrix} \n",
    "    ,\\, E = \\begin{bmatrix} -1 & -1 \\\\ 1 & -2 \\\\ \\end{bmatrix} \n",
    "    ,\\, f = \\begin{bmatrix} -2 \\\\ -2 \\\\ \\end{bmatrix} \n",
    "    \\\\\n",
    "\\end{align}"
   ]
  },
  {
   "cell_type": "markdown",
   "metadata": {},
   "source": [
    "Lagrangian:\n",
    "\n",
    "\\begin{align}\n",
    "    \\mathcal{L}(x, \\mu) &= \\frac{1}{2}x^\\top H x + c^\\top x - (Ex - f)\\mu \\\\\n",
    "\\end{align}"
   ]
  },
  {
   "cell_type": "markdown",
   "metadata": {},
   "source": [
    "KKT Conditions for optimal $x = x^*$:\n",
    "\n",
    "Stationarity:\n",
    "\n",
    "\\begin{align}\n",
    "    \\nabla_x\\mathcal{L}(x, \\mu) &= 0 \\\\\n",
    "    Hx^* + c - E^\\top \\mu &= 0 \\\\\n",
    "\\end{align}"
   ]
  },
  {
   "cell_type": "markdown",
   "metadata": {},
   "source": [
    "Primal Feasibility:\n",
    "\n",
    "\\begin{align}\n",
    "    Ex^* - f &\\geq 0 \\\\\n",
    "\\end{align}"
   ]
  },
  {
   "cell_type": "markdown",
   "metadata": {},
   "source": [
    "Dual Feasibility:\n",
    "\n",
    "\\begin{align}\n",
    "    \\mu \\geq 0\n",
    "\\end{align}"
   ]
  },
  {
   "cell_type": "markdown",
   "metadata": {},
   "source": [
    "Complementary Slackness:\n",
    "\n",
    "\\begin{array}{lll}\n",
    "    0 \\leq x_1 & \\perp & \\frac{\\partial \\mathcal{L(x, \\mu)}}{\\partial x_1} = -2x_1 + 1 + \\mu_1 -\\mu_2 \\geq 0 \\\\\n",
    "    0 \\leq x_2 & \\perp & \\frac{\\partial \\mathcal{L(x, \\mu)}}{\\partial x_2} = 2x_2 - 1 + \\mu_1 + 2\\mu_2 \\geq 0 \\\\\n",
    "    0 \\leq \\mu_1 & \\perp & -x_1-x_2+2 \\geq 0 \\\\\n",
    "    0 \\leq \\mu_2 & \\perp & x_1-2x_2+2 \\geq 0 \\\\\n",
    "\\end{array}"
   ]
  },
  {
   "cell_type": "markdown",
   "metadata": {},
   "source": [
    "Case 1: $x_1>0, x_2>0, \\mu_1=0, \\mu_2=0$"
   ]
  },
  {
   "cell_type": "code",
   "execution_count": 124,
   "metadata": {},
   "outputs": [
    {
     "data": {
      "text/plain": [
       "array([0.66666667, 1.33333333])"
      ]
     },
     "execution_count": 124,
     "metadata": {},
     "output_type": "execute_result"
    },
    {
     "name": "stdout",
     "output_type": "stream",
     "text": [
      "time: 2.4 ms\n"
     ]
    },
    {
     "data": {
      "application/javascript": [
       "\n",
       "            setTimeout(function() {\n",
       "                var nbb_cell_id = 124;\n",
       "                var nbb_unformatted_code = \"x_star = np.linalg.inv(np.array([[-1, -1], [1, -2]])) @ np.array([-2, -2])\\nx_star\";\n",
       "                var nbb_formatted_code = \"x_star = np.linalg.inv(np.array([[-1, -1], [1, -2]])) @ np.array([-2, -2])\\nx_star\";\n",
       "                var nbb_cells = Jupyter.notebook.get_cells();\n",
       "                for (var i = 0; i < nbb_cells.length; ++i) {\n",
       "                    if (nbb_cells[i].input_prompt_number == nbb_cell_id) {\n",
       "                        if (nbb_cells[i].get_text() == nbb_unformatted_code) {\n",
       "                             nbb_cells[i].set_text(nbb_formatted_code);\n",
       "                        }\n",
       "                        break;\n",
       "                    }\n",
       "                }\n",
       "            }, 500);\n",
       "            "
      ],
      "text/plain": [
       "<IPython.core.display.Javascript object>"
      ]
     },
     "metadata": {},
     "output_type": "display_data"
    }
   ],
   "source": [
    "x_star = np.linalg.inv(np.array([[-1, -1], [1, -2]])) @ np.array([-2, -2])\n",
    "x_star"
   ]
  },
  {
   "cell_type": "markdown",
   "metadata": {},
   "source": [
    "Stationarity:"
   ]
  },
  {
   "cell_type": "code",
   "execution_count": 125,
   "metadata": {},
   "outputs": [
    {
     "data": {
      "text/plain": [
       "True"
      ]
     },
     "execution_count": 125,
     "metadata": {},
     "output_type": "execute_result"
    },
    {
     "name": "stdout",
     "output_type": "stream",
     "text": [
      "time: 2.36 ms\n"
     ]
    },
    {
     "data": {
      "application/javascript": [
       "\n",
       "            setTimeout(function() {\n",
       "                var nbb_cell_id = 125;\n",
       "                var nbb_unformatted_code = \"np.allclose(np.array([[-2, 1], [2, -1]]) @ x_star, 0)\";\n",
       "                var nbb_formatted_code = \"np.allclose(np.array([[-2, 1], [2, -1]]) @ x_star, 0)\";\n",
       "                var nbb_cells = Jupyter.notebook.get_cells();\n",
       "                for (var i = 0; i < nbb_cells.length; ++i) {\n",
       "                    if (nbb_cells[i].input_prompt_number == nbb_cell_id) {\n",
       "                        if (nbb_cells[i].get_text() == nbb_unformatted_code) {\n",
       "                             nbb_cells[i].set_text(nbb_formatted_code);\n",
       "                        }\n",
       "                        break;\n",
       "                    }\n",
       "                }\n",
       "            }, 500);\n",
       "            "
      ],
      "text/plain": [
       "<IPython.core.display.Javascript object>"
      ]
     },
     "metadata": {},
     "output_type": "display_data"
    }
   ],
   "source": [
    "np.allclose(np.array([[-2, 1], [2, -1]]) @ x_star, 0)"
   ]
  },
  {
   "cell_type": "markdown",
   "metadata": {},
   "source": [
    "Primal Feasibility:"
   ]
  },
  {
   "cell_type": "code",
   "execution_count": 128,
   "metadata": {},
   "outputs": [
    {
     "data": {
      "text/plain": [
       "True"
      ]
     },
     "execution_count": 128,
     "metadata": {},
     "output_type": "execute_result"
    },
    {
     "name": "stdout",
     "output_type": "stream",
     "text": [
      "time: 2.27 ms\n"
     ]
    },
    {
     "data": {
      "application/javascript": [
       "\n",
       "            setTimeout(function() {\n",
       "                var nbb_cell_id = 128;\n",
       "                var nbb_unformatted_code = \"np.alltrue(np.array([[-1, -1], [1, -2]]) @ x_star >= np.array([-2, -2]))\";\n",
       "                var nbb_formatted_code = \"np.alltrue(np.array([[-1, -1], [1, -2]]) @ x_star >= np.array([-2, -2]))\";\n",
       "                var nbb_cells = Jupyter.notebook.get_cells();\n",
       "                for (var i = 0; i < nbb_cells.length; ++i) {\n",
       "                    if (nbb_cells[i].input_prompt_number == nbb_cell_id) {\n",
       "                        if (nbb_cells[i].get_text() == nbb_unformatted_code) {\n",
       "                             nbb_cells[i].set_text(nbb_formatted_code);\n",
       "                        }\n",
       "                        break;\n",
       "                    }\n",
       "                }\n",
       "            }, 500);\n",
       "            "
      ],
      "text/plain": [
       "<IPython.core.display.Javascript object>"
      ]
     },
     "metadata": {},
     "output_type": "display_data"
    }
   ],
   "source": [
    "np.alltrue(np.array([[-1, -1], [1, -2]]) @ x_star >= np.array([-2, -2]))"
   ]
  },
  {
   "cell_type": "markdown",
   "metadata": {},
   "source": [
    "KKT conditions are fulfilled and so solution is optimal."
   ]
  },
  {
   "cell_type": "markdown",
   "metadata": {},
   "source": [
    "12.10\n",
    "\n",
    "(Based on an example by P.B. Zwart [202].) Consider the quadratic program\n",
    "\n",
    "\\begin{align}\n",
    "    \\text{maximize } & Q(x) = 2x^2_1 + x_1x_2 + 2x_2 \\\\\n",
    "    \\text{subject to } & 1.5x_1 + x_2 \\leq 1.4 \\\\\n",
    "    & x_1 + x_2 \\leq 1 \\\\\n",
    "    & x_1 \\geq 0 \\\\\n",
    "    & x_2 \\geq -10 \\\\\n",
    "\\end{align}"
   ]
  },
  {
   "cell_type": "code",
   "execution_count": 193,
   "metadata": {},
   "outputs": [
    {
     "name": "stdout",
     "output_type": "stream",
     "text": [
      "time: 3.05 ms\n"
     ]
    },
    {
     "data": {
      "application/javascript": [
       "\n",
       "            setTimeout(function() {\n",
       "                var nbb_cell_id = 192;\n",
       "                var nbb_unformatted_code = \"Q = lambda x: 2*(x[0]**2) + x[0]*x[1] + 2*x[1]\\nE = np.array([[1.5, 1], [1, 1], [-1, 0], [0, -1]])\\nf = np.array([1.4, 1, 0, 10])\\nx = cp.Variable(shape=(2,), integer=False)\\nobj = cp.Minimize(Q(x))\\nconstraints = [E@x<=f]\\nprob = cp.Problem(obj, constraints=constraints)\\nprob.solve()\\nprint(\\n    \\\" | \\\".join(\\n        [f\\\"x_{idx}: {np.round(opt_x, 2)}\\\" for idx, opt_x in zip(range(1, 3), x.value)]\\n    )\\n)\";\n",
       "                var nbb_formatted_code = \"Q = lambda x: 2 * (x[0] ** 2) + x[0] * x[1] + 2 * x[1]\\nE = np.array([[1.5, 1], [1, 1], [-1, 0], [0, -1]])\\nf = np.array([1.4, 1, 0, 10])\\nx = cp.Variable(shape=(2,), integer=False)\\nobj = cp.Minimize(Q(x))\\nconstraints = [E @ x <= f]\\nprob = cp.Problem(obj, constraints=constraints)\\nprob.solve()\\nprint(\\n    \\\" | \\\".join(\\n        [f\\\"x_{idx}: {np.round(opt_x, 2)}\\\" for idx, opt_x in zip(range(1, 3), x.value)]\\n    )\\n)\";\n",
       "                var nbb_cells = Jupyter.notebook.get_cells();\n",
       "                for (var i = 0; i < nbb_cells.length; ++i) {\n",
       "                    if (nbb_cells[i].input_prompt_number == nbb_cell_id) {\n",
       "                        if (nbb_cells[i].get_text() == nbb_unformatted_code) {\n",
       "                             nbb_cells[i].set_text(nbb_formatted_code);\n",
       "                        }\n",
       "                        break;\n",
       "                    }\n",
       "                }\n",
       "            }, 500);\n",
       "            "
      ],
      "text/plain": [
       "<IPython.core.display.Javascript object>"
      ]
     },
     "metadata": {},
     "output_type": "display_data"
    }
   ],
   "source": [
    "Q = lambda x: 2 * (x[0] ** 2) + x[0] * x[1] + 2 * x[1]\n",
    "E = np.array([[1.5, 1], [1, 1], [-1, 0], [0, -1]])\n",
    "f = np.array([1.4, 1, 0, 10])\n",
    "# x = cp.Variable(shape=(2,), integer=False)\n",
    "# obj = cp.Minimize(Q(x))\n",
    "# constraints = [E@x<=f]\n",
    "# prob = cp.Problem(obj, constraints=constraints)\n",
    "# prob.solve()\n",
    "# print(\n",
    "#     \" | \".join(\n",
    "#         [f\"x_{idx}: {np.round(opt_x, 2)}\" for idx, opt_x in zip(range(1, 3), x.value)]\n",
    "#     )\n",
    "# )"
   ]
  },
  {
   "cell_type": "markdown",
   "metadata": {},
   "source": [
    "(a) Graph the feasible region of this optimization problem."
   ]
  },
  {
   "cell_type": "code",
   "execution_count": 121,
   "metadata": {},
   "outputs": [
    {
     "data": {
      "image/png": "[encoded data removed]",
      "text/plain": [
       "<Figure size 4800x3600 with 1 Axes>"
      ]
     },
     "metadata": {
      "needs_background": "light"
     },
     "output_type": "display_data"
    },
    {
     "name": "stdout",
     "output_type": "stream",
     "text": [
      "time: 1.41 s\n"
     ]
    },
    {
     "data": {
      "application/javascript": [
       "\n",
       "            setTimeout(function() {\n",
       "                var nbb_cell_id = 121;\n",
       "                var nbb_unformatted_code = \"# Construct lines\\nx_1 = np.linspace(0, 20, 2000)  # x_1 >= 0\\nx_2_1 = lambda x_1: -1.5 * x_1 + 4  # constraint 1: 1.5\\ud835\\udc651 + \\ud835\\udc652 \\u2264 1.4\\nx_2_2 = lambda x_1: -x_1 + 1  # constraint 2: \\ud835\\udc651 + \\ud835\\udc652 \\u2264 1\\n\\n# Make plot\\nplt.plot(x_1, x_2_1(x_1), label=r\\\"$1.5x_1 + x_2 \\\\leq 1.4$\\\")\\nplt.plot(x_1, x_2_2(x_1), label=r\\\"$x_1 + x_2 \\\\leq 1$\\\")\\nplt.xlim((0, 10))\\nplt.ylim((-10, 10))\\nplt.xlabel(r\\\"$x_1$\\\")\\nplt.ylabel(r\\\"$x_2$\\\")\\n\\n# Fill feasible region\\ny = np.minimum(x_2_1(x_1), x_2_2(x_1))\\nx = [-10]*len(x_1)\\nplt.fill_between(x_1, x, y, where=y > x, color=\\\"grey\\\", alpha=0.5)\\nplt.grid(True)\\nplt.legend(bbox_to_anchor=(1.05, 1), loc=2, borderaxespad=0.0)\\nplt.show()\";\n",
       "                var nbb_formatted_code = \"# Construct lines\\nx_1 = np.linspace(0, 20, 2000)  # x_1 >= 0\\nx_2_1 = lambda x_1: -1.5 * x_1 + 4  # constraint 1: 1.5\\ud835\\udc651 + \\ud835\\udc652 \\u2264 1.4\\nx_2_2 = lambda x_1: -x_1 + 1  # constraint 2: \\ud835\\udc651 + \\ud835\\udc652 \\u2264 1\\n\\n# Make plot\\nplt.plot(x_1, x_2_1(x_1), label=r\\\"$1.5x_1 + x_2 \\\\leq 1.4$\\\")\\nplt.plot(x_1, x_2_2(x_1), label=r\\\"$x_1 + x_2 \\\\leq 1$\\\")\\nplt.xlim((0, 10))\\nplt.ylim((-10, 10))\\nplt.xlabel(r\\\"$x_1$\\\")\\nplt.ylabel(r\\\"$x_2$\\\")\\n\\n# Fill feasible region\\ny = np.minimum(x_2_1(x_1), x_2_2(x_1))\\nx = [-10] * len(x_1)\\nplt.fill_between(x_1, x, y, where=y > x, color=\\\"grey\\\", alpha=0.5)\\nplt.grid(True)\\nplt.legend(bbox_to_anchor=(1.05, 1), loc=2, borderaxespad=0.0)\\nplt.show()\";\n",
       "                var nbb_cells = Jupyter.notebook.get_cells();\n",
       "                for (var i = 0; i < nbb_cells.length; ++i) {\n",
       "                    if (nbb_cells[i].input_prompt_number == nbb_cell_id) {\n",
       "                        if (nbb_cells[i].get_text() == nbb_unformatted_code) {\n",
       "                             nbb_cells[i].set_text(nbb_formatted_code);\n",
       "                        }\n",
       "                        break;\n",
       "                    }\n",
       "                }\n",
       "            }, 500);\n",
       "            "
      ],
      "text/plain": [
       "<IPython.core.display.Javascript object>"
      ]
     },
     "metadata": {},
     "output_type": "display_data"
    }
   ],
   "source": [
    "# Construct lines\n",
    "x_1 = np.linspace(0, 20, 2000)  # x_1 >= 0\n",
    "x_2_1 = lambda x_1: -1.5 * x_1 + 4  # constraint 1: 1.5𝑥1 + 𝑥2 ≤ 1.4\n",
    "x_2_2 = lambda x_1: -x_1 + 1  # constraint 2: 𝑥1 + 𝑥2 ≤ 1\n",
    "\n",
    "# Make plot\n",
    "plt.plot(x_1, x_2_1(x_1), label=r\"$1.5x_1 + x_2 \\leq 1.4$\")\n",
    "plt.plot(x_1, x_2_2(x_1), label=r\"$x_1 + x_2 \\leq 1$\")\n",
    "plt.xlim((0, 10))\n",
    "plt.ylim((-10, 10))\n",
    "plt.xlabel(r\"$x_1$\")\n",
    "plt.ylabel(r\"$x_2$\")\n",
    "\n",
    "# Fill feasible region\n",
    "y = np.minimum(x_2_1(x_1), x_2_2(x_1))\n",
    "x = [-10] * len(x_1)\n",
    "plt.fill_between(x_1, x, y, where=y > x, color=\"grey\", alpha=0.5)\n",
    "plt.grid(True)\n",
    "plt.legend(bbox_to_anchor=(1.05, 1), loc=2, borderaxespad=0.0)\n",
    "plt.show()"
   ]
  },
  {
   "cell_type": "markdown",
   "metadata": {},
   "source": [
    "(b) Is the point $\\bar{x} = (0, 1)$ a local maximum for this problem? Justify your answer."
   ]
  },
  {
   "cell_type": "markdown",
   "metadata": {},
   "source": [
    "Hessian:\n",
    "\n",
    "\\begin{bmatrix}\n",
    "    4 & 1 \\\\\n",
    "    1 & 0 \\\\\n",
    "\\end{bmatrix}"
   ]
  },
  {
   "cell_type": "code",
   "execution_count": 129,
   "metadata": {},
   "outputs": [
    {
     "data": {
      "text/plain": [
       "array([ 4.23606798, -0.23606798])"
      ]
     },
     "execution_count": 129,
     "metadata": {},
     "output_type": "execute_result"
    },
    {
     "name": "stdout",
     "output_type": "stream",
     "text": [
      "time: 2.1 ms\n"
     ]
    },
    {
     "data": {
      "application/javascript": [
       "\n",
       "            setTimeout(function() {\n",
       "                var nbb_cell_id = 129;\n",
       "                var nbb_unformatted_code = \"np.linalg.eigvals(np.array([[4, 1], [1,0]]))\";\n",
       "                var nbb_formatted_code = \"np.linalg.eigvals(np.array([[4, 1], [1, 0]]))\";\n",
       "                var nbb_cells = Jupyter.notebook.get_cells();\n",
       "                for (var i = 0; i < nbb_cells.length; ++i) {\n",
       "                    if (nbb_cells[i].input_prompt_number == nbb_cell_id) {\n",
       "                        if (nbb_cells[i].get_text() == nbb_unformatted_code) {\n",
       "                             nbb_cells[i].set_text(nbb_formatted_code);\n",
       "                        }\n",
       "                        break;\n",
       "                    }\n",
       "                }\n",
       "            }, 500);\n",
       "            "
      ],
      "text/plain": [
       "<IPython.core.display.Javascript object>"
      ]
     },
     "metadata": {},
     "output_type": "display_data"
    }
   ],
   "source": [
    "np.linalg.eigvals(np.array([[4, 1], [1, 0]]))"
   ]
  },
  {
   "cell_type": "markdown",
   "metadata": {},
   "source": [
    "---\n",
    "- Consider the problem:\n",
    "\n",
    "\\begin{align}\n",
    "    \\underset{x}{\\text{minimize }} & 2x_1x_2 + x_2x_3 + x_1x_3 \\\\\n",
    "    \\text{subject to } & 3x_1 + 3x_2 + 2x_3 = 3. \\\\\n",
    "\\end{align}\n",
    "\n",
    "Write and solve the KKT optimality conditions of the problem. Is the computed solution $x$ a local minimum? Explain."
   ]
  },
  {
   "cell_type": "code",
   "execution_count": 100,
   "metadata": {},
   "outputs": [
    {
     "name": "stdout",
     "output_type": "stream",
     "text": [
      "time: 727 µs\n"
     ]
    },
    {
     "data": {
      "application/javascript": [
       "\n",
       "            setTimeout(function() {\n",
       "                var nbb_cell_id = 100;\n",
       "                var nbb_unformatted_code = \"f = lambda x: 2 * x[0] * x[1] + x[1] * x[2] + x[0] * x[2]\\n# x = cp.Variable(shape=(3,), integer=False)\\n# obj = cp.Minimize(f(x))\\n# constraints = [3 * x[0] + 3 * x[1] + 2 * x[2] == 3]\\n# prob = cp.Problem(obj, constraints=constraints)\\n# prob.solve()\\n# print(\\n#     \\\" | \\\".join(\\n#         [f\\\"x_{idx}: {np.round(opt_x, 2)}\\\" for idx, opt_x in zip(range(1, 4), x.value)]\\n#     )\\n# )\";\n",
       "                var nbb_formatted_code = \"f = lambda x: 2 * x[0] * x[1] + x[1] * x[2] + x[0] * x[2]\\n# x = cp.Variable(shape=(3,), integer=False)\\n# obj = cp.Minimize(f(x))\\n# constraints = [3 * x[0] + 3 * x[1] + 2 * x[2] == 3]\\n# prob = cp.Problem(obj, constraints=constraints)\\n# prob.solve()\\n# print(\\n#     \\\" | \\\".join(\\n#         [f\\\"x_{idx}: {np.round(opt_x, 2)}\\\" for idx, opt_x in zip(range(1, 4), x.value)]\\n#     )\\n# )\";\n",
       "                var nbb_cells = Jupyter.notebook.get_cells();\n",
       "                for (var i = 0; i < nbb_cells.length; ++i) {\n",
       "                    if (nbb_cells[i].input_prompt_number == nbb_cell_id) {\n",
       "                        if (nbb_cells[i].get_text() == nbb_unformatted_code) {\n",
       "                             nbb_cells[i].set_text(nbb_formatted_code);\n",
       "                        }\n",
       "                        break;\n",
       "                    }\n",
       "                }\n",
       "            }, 500);\n",
       "            "
      ],
      "text/plain": [
       "<IPython.core.display.Javascript object>"
      ]
     },
     "metadata": {},
     "output_type": "display_data"
    }
   ],
   "source": [
    "f = lambda x: 2 * x[0] * x[1] + x[1] * x[2] + x[0] * x[2]\n",
    "# x = cp.Variable(shape=(3,), integer=False)\n",
    "# obj = cp.Minimize(f(x))\n",
    "# constraints = [3 * x[0] + 3 * x[1] + 2 * x[2] == 3]\n",
    "# prob = cp.Problem(obj, constraints=constraints)\n",
    "# prob.solve()\n",
    "# print(\n",
    "#     \" | \".join(\n",
    "#         [f\"x_{idx}: {np.round(opt_x, 2)}\" for idx, opt_x in zip(range(1, 4), x.value)]\n",
    "#     )\n",
    "# )"
   ]
  },
  {
   "cell_type": "markdown",
   "metadata": {},
   "source": [
    "KKT Conditions:\n",
    "\n",
    "Stationarity:\n",
    "\n",
    "\\begin{align}\n",
    "    2x_2 + x_3 + 3\\lambda &= 0 \\\\\n",
    "    2x_1 + x_3 + 3\\lambda &= 0 \\\\\n",
    "    x_2 + x_1 + 2\\lambda &= 0 \\\\\n",
    "\\end{align}\n",
    "\n",
    "Primal Feasibility:\n",
    "\n",
    "\\begin{align}\n",
    "    3x_1 + 3x_2 + 2x_3 &= 3 \\\\\n",
    "\\end{align}\n",
    "\n",
    "Dual Feasibility:\n",
    "\n",
    "\\begin{align}\n",
    "    \\lambda \\text{ free.} \\\\\n",
    "\\end{align}"
   ]
  },
  {
   "cell_type": "code",
   "execution_count": 118,
   "metadata": {},
   "outputs": [
    {
     "name": "stdout",
     "output_type": "stream",
     "text": [
      "Solution by KKT: \n"
     ]
    },
    {
     "data": {
      "text/plain": [
       "array([ 0.375,  0.375,  0.375, -0.375])"
      ]
     },
     "execution_count": 118,
     "metadata": {},
     "output_type": "execute_result"
    },
    {
     "name": "stdout",
     "output_type": "stream",
     "text": [
      "time: 3.41 ms\n"
     ]
    },
    {
     "data": {
      "application/javascript": [
       "\n",
       "            setTimeout(function() {\n",
       "                var nbb_cell_id = 118;\n",
       "                var nbb_unformatted_code = \"print(\\\"Solution by KKT: \\\")\\nnp.linalg.inv(\\n    np.array([[0, 2, 1, 3], [2, 0, 1, 3], [1, 1, 0, 2], [3, 3, 2, 0]])\\n) @ np.array([0, 0, 0, 3])\";\n",
       "                var nbb_formatted_code = \"print(\\\"Solution by KKT: \\\")\\nnp.linalg.inv(\\n    np.array([[0, 2, 1, 3], [2, 0, 1, 3], [1, 1, 0, 2], [3, 3, 2, 0]])\\n) @ np.array([0, 0, 0, 3])\";\n",
       "                var nbb_cells = Jupyter.notebook.get_cells();\n",
       "                for (var i = 0; i < nbb_cells.length; ++i) {\n",
       "                    if (nbb_cells[i].input_prompt_number == nbb_cell_id) {\n",
       "                        if (nbb_cells[i].get_text() == nbb_unformatted_code) {\n",
       "                             nbb_cells[i].set_text(nbb_formatted_code);\n",
       "                        }\n",
       "                        break;\n",
       "                    }\n",
       "                }\n",
       "            }, 500);\n",
       "            "
      ],
      "text/plain": [
       "<IPython.core.display.Javascript object>"
      ]
     },
     "metadata": {},
     "output_type": "display_data"
    }
   ],
   "source": [
    "print(\"Solution by KKT: \")\n",
    "np.linalg.inv(\n",
    "    np.array([[0, 2, 1, 3], [2, 0, 1, 3], [1, 1, 0, 2], [3, 3, 2, 0]])\n",
    ") @ np.array([0, 0, 0, 3])"
   ]
  },
  {
   "cell_type": "markdown",
   "metadata": {},
   "source": [
    "Hessian:\n",
    "\n",
    "\\begin{bmatrix}\n",
    "    0 & 2 & 1 \\\\\n",
    "    2 & 0 & 1 \\\\\n",
    "    1 & 1 & 0 \\\\\n",
    "\\end{bmatrix}"
   ]
  },
  {
   "cell_type": "code",
   "execution_count": 117,
   "metadata": {},
   "outputs": [
    {
     "data": {
      "text/plain": [
       "array([ 2.73205081, -2.        , -0.73205081])"
      ]
     },
     "execution_count": 117,
     "metadata": {},
     "output_type": "execute_result"
    },
    {
     "name": "stdout",
     "output_type": "stream",
     "text": [
      "time: 2.64 ms\n"
     ]
    },
    {
     "data": {
      "application/javascript": [
       "\n",
       "            setTimeout(function() {\n",
       "                var nbb_cell_id = 117;\n",
       "                var nbb_unformatted_code = \"np.linalg.eigvals(np.array([[0,2,1],[2,0,1],[1,1,0]]))\";\n",
       "                var nbb_formatted_code = \"np.linalg.eigvals(np.array([[0, 2, 1], [2, 0, 1], [1, 1, 0]]))\";\n",
       "                var nbb_cells = Jupyter.notebook.get_cells();\n",
       "                for (var i = 0; i < nbb_cells.length; ++i) {\n",
       "                    if (nbb_cells[i].input_prompt_number == nbb_cell_id) {\n",
       "                        if (nbb_cells[i].get_text() == nbb_unformatted_code) {\n",
       "                             nbb_cells[i].set_text(nbb_formatted_code);\n",
       "                        }\n",
       "                        break;\n",
       "                    }\n",
       "                }\n",
       "            }, 500);\n",
       "            "
      ],
      "text/plain": [
       "<IPython.core.display.Javascript object>"
      ]
     },
     "metadata": {},
     "output_type": "display_data"
    }
   ],
   "source": [
    "np.linalg.eigvals(np.array([[0, 2, 1], [2, 0, 1], [1, 1, 0]]))"
   ]
  },
  {
   "cell_type": "markdown",
   "metadata": {},
   "source": [
    "Since the Hessian is indefinite, we can't conclude anything about whether the solution found by KKT is a local minimum."
   ]
  },
  {
   "cell_type": "markdown",
   "metadata": {},
   "source": [
    "---\n",
    "- Consider the nonnegatively constrained problem:\n",
    "\\begin{align}\n",
    "    \\underset{x \\geq 0}{\\text{minimize }} & \\frac{4}{3}{[x^2_1 - x_1x_2 + x^2_2]}^{3/4} + x^2_3 - 2x_1x_3 + x^2_1. \\\\\n",
    "\\end{align}"
   ]
  },
  {
   "cell_type": "code",
   "execution_count": 238,
   "metadata": {},
   "outputs": [
    {
     "name": "stdout",
     "output_type": "stream",
     "text": [
      "time: 2 ms\n"
     ]
    },
    {
     "data": {
      "application/javascript": [
       "\n",
       "            setTimeout(function() {\n",
       "                var nbb_cell_id = 237;\n",
       "                var nbb_unformatted_code = \"feasible_descent(\\n    f,\\n    f_prime,\\n    x_0=np.array([1 / 3] * 3),\\n    inequality_constraints=inequality_constraints,\\n    equality_constraints=equality_constraints,\\n    \\u03b5=1e-15,\\n    steplength_algo=armijo_line_search,\\n)\";\n",
       "                var nbb_formatted_code = \"feasible_descent(\\n    f,\\n    f_prime,\\n    x_0=np.array([1 / 3] * 3),\\n    inequality_constraints=inequality_constraints,\\n    equality_constraints=equality_constraints,\\n    \\u03b5=1e-15,\\n    steplength_algo=armijo_line_search,\\n)\";\n",
       "                var nbb_cells = Jupyter.notebook.get_cells();\n",
       "                for (var i = 0; i < nbb_cells.length; ++i) {\n",
       "                    if (nbb_cells[i].input_prompt_number == nbb_cell_id) {\n",
       "                        if (nbb_cells[i].get_text() == nbb_unformatted_code) {\n",
       "                             nbb_cells[i].set_text(nbb_formatted_code);\n",
       "                        }\n",
       "                        break;\n",
       "                    }\n",
       "                }\n",
       "            }, 500);\n",
       "            "
      ],
      "text/plain": [
       "<IPython.core.display.Javascript object>"
      ]
     },
     "metadata": {},
     "output_type": "display_data"
    }
   ],
   "source": [
    "f = (\n",
    "    lambda x: (4 / 3) * ((x[0] ** 2 - x[0] * x[1] + x[1] ** 2) ** (3 / 4))\n",
    "    + x[2] ** 2\n",
    "    - 2 * x[0] * x[2]\n",
    "    + x[0] ** 2\n",
    ")\n",
    "\n",
    "f_prime = lambda x: np.array(\n",
    "    [\n",
    "        ((x[0] ** 2 - x[0] * x[1] + x[1] ** 2) ** (-1 / 4)) * (2 * x[0] - x[1])\n",
    "        - 2 * x[2]\n",
    "        + 2 * x[0],\n",
    "        ((x[0] ** 2 - x[0] * x[1] + x[1] ** 2) ** (-1 / 4)) * (-x[0] + 2 * x[1]),\n",
    "        2 * x[2] - 2 * x[0],\n",
    "    ]\n",
    ")\n",
    "# x = cp.Variable(shape=(3,), integer=False)\n",
    "# obj = cp.Minimize(f(x))\n",
    "# constraints = [x >= 0]\n",
    "# prob = cp.Problem(obj, constraints=constraints)\n",
    "# prob.solve()\n",
    "# print(\n",
    "#     \" | \".join(\n",
    "#         [f\"x_{idx}: {np.round(opt_x, 2)}\" for idx, opt_x in zip(range(1, 4), x.value)]\n",
    "#     )\n",
    "# )"
   ]
  },
  {
   "cell_type": "markdown",
   "metadata": {},
   "source": [
    "(a) Write the KKT conditions for the problem? Are they necessary?"
   ]
  },
  {
   "cell_type": "markdown",
   "metadata": {},
   "source": [
    "KKT Conditions:\n",
    "\n",
    "Stationarity:\n",
    "\n",
    "\\begin{align}\n",
    "    {[x^2_1 - x_1x_2 + x^2_2]}^{-1/4}[2x_1-x_2] - 2x_3 + 2x_1 &= 0 \\\\\n",
    "    {[x^2_1 - x_1x_2 + x^2_2]}^{-1/4}[-x_1+2x_2] &= 0 \\\\\n",
    "    2x_3 - 2x_1 &= 0 \\\\\n",
    "\\end{align}\n",
    "\n",
    "Primal Feasibility:\n",
    "\n",
    "\\begin{align}\n",
    "    x_1, x_2, x_3 \\geq 0 \\\\\n",
    "\\end{align}\n",
    "\n",
    "Complementary Slackness:\n",
    "\n",
    "\\begin{array}{lll}\n",
    "    0 \\leq x_1 & \\perp & \\frac{\\partial \\mathcal{L(x)}}{\\partial x_1} = {[x^2_1 - x_1x_2 + x^2_2]}^{-1/4}[2x_1-x_2] - 2x_3 + 2x_1 \\geq 0 \\\\\n",
    "    0 \\leq x_2 & \\perp & \\frac{\\partial \\mathcal{L(x)}}{\\partial x_2} = {[x^2_1 - x_1x_2 + x^2_2]}^{-1/4}[-x_1+2x_2] \\geq 0 \\\\\n",
    "    0 \\leq x_3 & \\perp & \\frac{\\partial \\mathcal{L(x)}}{\\partial x_3} = 2x_3 - 2x_1 \\geq 0 \\\\\n",
    "\\end{array}"
   ]
  },
  {
   "cell_type": "markdown",
   "metadata": {},
   "source": [
    "There are no equality constraints and the only inequality constraint is non-negativity of the solution, so they are necessary conditions."
   ]
  },
  {
   "cell_type": "markdown",
   "metadata": {},
   "source": [
    "(b) Starting at $x^0 = (0, 1/4, 1/2)$, carry out several iterations of the feasible descent method (using the active constraints at each iterate) until an observable pattern emerges."
   ]
  },
  {
   "cell_type": "code",
   "execution_count": 239,
   "metadata": {},
   "outputs": [
    {
     "name": "stdout",
     "output_type": "stream",
     "text": [
      "Direction d is a feasible descent direction!\n",
      "d: [-0.5 -0.5  1. ]\n"
     ]
    },
    {
     "ename": "ValueError",
     "evalue": "The truth value of an array with more than one element is ambiguous. Use a.any() or a.all()",
     "output_type": "error",
     "traceback": [
      "\u001b[0;31m---------------------------------------------------------------------------\u001b[0m",
      "\u001b[0;31mValueError\u001b[0m                                Traceback (most recent call last)",
      "\u001b[0;32m<ipython-input-239-59edf2929d16>\u001b[0m in \u001b[0;36m<module>\u001b[0;34m\u001b[0m\n\u001b[1;32m      6\u001b[0m     \u001b[0mequality_constraints\u001b[0m\u001b[0;34m=\u001b[0m\u001b[0;32mNone\u001b[0m\u001b[0;34m,\u001b[0m\u001b[0;34m\u001b[0m\u001b[0;34m\u001b[0m\u001b[0m\n\u001b[1;32m      7\u001b[0m     \u001b[0mε\u001b[0m\u001b[0;34m=\u001b[0m\u001b[0;36m1e-15\u001b[0m\u001b[0;34m,\u001b[0m\u001b[0;34m\u001b[0m\u001b[0;34m\u001b[0m\u001b[0m\n\u001b[0;32m----> 8\u001b[0;31m     \u001b[0msteplength_algo\u001b[0m\u001b[0;34m=\u001b[0m\u001b[0marmijo_line_search\u001b[0m\u001b[0;34m,\u001b[0m\u001b[0;34m\u001b[0m\u001b[0;34m\u001b[0m\u001b[0m\n\u001b[0m\u001b[1;32m      9\u001b[0m )\n",
      "\u001b[0;32m<ipython-input-236-b7389e68bc82>\u001b[0m in \u001b[0;36mfeasible_descent\u001b[0;34m(f, f_prime, x_0, inequality_constraints, equality_constraints, ε, steplength_algo)\u001b[0m\n\u001b[1;32m    100\u001b[0m             \u001b[0mx_k\u001b[0m\u001b[0;34m=\u001b[0m\u001b[0mx_k\u001b[0m\u001b[0;34m,\u001b[0m\u001b[0;34m\u001b[0m\u001b[0;34m\u001b[0m\u001b[0m\n\u001b[1;32m    101\u001b[0m             \u001b[0minequality_constraints\u001b[0m\u001b[0;34m=\u001b[0m\u001b[0minequality_constraints\u001b[0m\u001b[0;34m,\u001b[0m\u001b[0;34m\u001b[0m\u001b[0;34m\u001b[0m\u001b[0m\n\u001b[0;32m--> 102\u001b[0;31m             \u001b[0mequality_constraints\u001b[0m\u001b[0;34m=\u001b[0m\u001b[0mequality_constraints\u001b[0m\u001b[0;34m,\u001b[0m\u001b[0;34m\u001b[0m\u001b[0;34m\u001b[0m\u001b[0m\n\u001b[0m\u001b[1;32m    103\u001b[0m         )\n\u001b[1;32m    104\u001b[0m \u001b[0;34m\u001b[0m\u001b[0m\n",
      "\u001b[0;32m<ipython-input-236-b7389e68bc82>\u001b[0m in \u001b[0;36mconstrained_feasible_direction\u001b[0;34m(f_prime, x_k, inequality_constraints, equality_constraints)\u001b[0m\n\u001b[1;32m     67\u001b[0m                     \u001b[0;34m-\u001b[0m \u001b[0mlhs_inequality_constraints\u001b[0m\u001b[0;34m[\u001b[0m\u001b[0midx\u001b[0m\u001b[0;34m]\u001b[0m\u001b[0;34m\u001b[0m\u001b[0;34m\u001b[0m\u001b[0m\n\u001b[1;32m     68\u001b[0m                 )\n\u001b[0;32m---> 69\u001b[0;31m                 \u001b[0;32mfor\u001b[0m \u001b[0midx\u001b[0m\u001b[0;34m,\u001b[0m \u001b[0mlhs\u001b[0m \u001b[0;32min\u001b[0m \u001b[0menumerate\u001b[0m\u001b[0;34m(\u001b[0m\u001b[0mlhs_inequality_constraints\u001b[0m\u001b[0;34m)\u001b[0m\u001b[0;34m\u001b[0m\u001b[0;34m\u001b[0m\u001b[0m\n\u001b[0m\u001b[1;32m     70\u001b[0m                 if (\n\u001b[1;32m     71\u001b[0m                     \u001b[0minequality_constraints\u001b[0m\u001b[0;34m(\u001b[0m\u001b[0mx_k\u001b[0m \u001b[0;34m+\u001b[0m \u001b[0mfeasible_direction\u001b[0m\u001b[0;34m)\u001b[0m\u001b[0;34m[\u001b[0m\u001b[0midx\u001b[0m\u001b[0;34m]\u001b[0m\u001b[0;34m\u001b[0m\u001b[0;34m\u001b[0m\u001b[0m\n",
      "\u001b[0;32m<ipython-input-236-b7389e68bc82>\u001b[0m in \u001b[0;36m<listcomp>\u001b[0;34m(.0)\u001b[0m\n\u001b[1;32m     72\u001b[0m                     \u001b[0;34m-\u001b[0m \u001b[0mlhs_inequality_constraints\u001b[0m\u001b[0;34m[\u001b[0m\u001b[0midx\u001b[0m\u001b[0;34m]\u001b[0m\u001b[0;34m\u001b[0m\u001b[0;34m\u001b[0m\u001b[0m\n\u001b[1;32m     73\u001b[0m                 )\n\u001b[0;32m---> 74\u001b[0;31m                 \u001b[0;34m<\u001b[0m \u001b[0;36m0\u001b[0m\u001b[0;34m\u001b[0m\u001b[0;34m\u001b[0m\u001b[0m\n\u001b[0m\u001b[1;32m     75\u001b[0m             ]\n\u001b[1;32m     76\u001b[0m         )\n",
      "\u001b[0;31mValueError\u001b[0m: The truth value of an array with more than one element is ambiguous. Use a.any() or a.all()"
     ]
    },
    {
     "name": "stdout",
     "output_type": "stream",
     "text": [
      "time: 25.8 ms\n"
     ]
    },
    {
     "data": {
      "application/javascript": [
       "\n",
       "            setTimeout(function() {\n",
       "                var nbb_cell_id = 238;\n",
       "                var nbb_unformatted_code = \"f = (\\n    lambda x: (4 / 3) * ((x[0] ** 2 - x[0] * x[1] + x[1] ** 2) ** (3 / 4))\\n    + x[2] ** 2\\n    - 2 * x[0] * x[2]\\n    + x[0] ** 2\\n)\\n\\nf_prime = lambda x: np.array(\\n    [\\n        ((x[0] ** 2 - x[0] * x[1] + x[1] ** 2) ** (-1 / 4)) * (2 * x[0] - x[1])\\n        - 2 * x[2]\\n        + 2 * x[0],\\n        ((x[0] ** 2 - x[0] * x[1] + x[1] ** 2) ** (-1 / 4)) * (-x[0] + 2 * x[1]),\\n        2 * x[2] - 2 * x[0],\\n    ]\\n)\\n# x = cp.Variable(shape=(3,), integer=False)\\n# obj = cp.Minimize(f(x))\\n# constraints = [x >= 0]\\n# prob = cp.Problem(obj, constraints=constraints)\\n# prob.solve()\\n# print(\\n#     \\\" | \\\".join(\\n#         [f\\\"x_{idx}: {np.round(opt_x, 2)}\\\" for idx, opt_x in zip(range(1, 4), x.value)]\\n#     )\\n# )\";\n",
       "                var nbb_formatted_code = \"f = (\\n    lambda x: (4 / 3) * ((x[0] ** 2 - x[0] * x[1] + x[1] ** 2) ** (3 / 4))\\n    + x[2] ** 2\\n    - 2 * x[0] * x[2]\\n    + x[0] ** 2\\n)\\n\\nf_prime = lambda x: np.array(\\n    [\\n        ((x[0] ** 2 - x[0] * x[1] + x[1] ** 2) ** (-1 / 4)) * (2 * x[0] - x[1])\\n        - 2 * x[2]\\n        + 2 * x[0],\\n        ((x[0] ** 2 - x[0] * x[1] + x[1] ** 2) ** (-1 / 4)) * (-x[0] + 2 * x[1]),\\n        2 * x[2] - 2 * x[0],\\n    ]\\n)\\n# x = cp.Variable(shape=(3,), integer=False)\\n# obj = cp.Minimize(f(x))\\n# constraints = [x >= 0]\\n# prob = cp.Problem(obj, constraints=constraints)\\n# prob.solve()\\n# print(\\n#     \\\" | \\\".join(\\n#         [f\\\"x_{idx}: {np.round(opt_x, 2)}\\\" for idx, opt_x in zip(range(1, 4), x.value)]\\n#     )\\n# )\";\n",
       "                var nbb_cells = Jupyter.notebook.get_cells();\n",
       "                for (var i = 0; i < nbb_cells.length; ++i) {\n",
       "                    if (nbb_cells[i].input_prompt_number == nbb_cell_id) {\n",
       "                        if (nbb_cells[i].get_text() == nbb_unformatted_code) {\n",
       "                             nbb_cells[i].set_text(nbb_formatted_code);\n",
       "                        }\n",
       "                        break;\n",
       "                    }\n",
       "                }\n",
       "            }, 500);\n",
       "            "
      ],
      "text/plain": [
       "<IPython.core.display.Javascript object>"
      ]
     },
     "metadata": {},
     "output_type": "display_data"
    }
   ],
   "source": [
    "feasible_descent(\n",
    "    f,\n",
    "    f_prime,\n",
    "    x_0=np.array([0, 1 / 4, 1 / 2]),\n",
    "    inequality_constraints=lambda x: np.array([x,]),\n",
    "    equality_constraints=None,\n",
    "    ε=1e-15,\n",
    "    steplength_algo=armijo_line_search,\n",
    ")"
   ]
  },
  {
   "cell_type": "markdown",
   "metadata": {},
   "source": [
    "(c) Can you solve the problem analytically using the KKT conditions and say something about the method when you stop it?"
   ]
  },
  {
   "cell_type": "markdown",
   "metadata": {},
   "source": [
    "- No"
   ]
  }
 ],
 "metadata": {
  "kernelspec": {
   "display_name": "Python 3",
   "language": "python",
   "name": "python3"
  },
  "language_info": {
   "codemirror_mode": {
    "name": "ipython",
    "version": 3
   },
   "file_extension": ".py",
   "mimetype": "text/x-python",
   "name": "python",
   "nbconvert_exporter": "python",
   "pygments_lexer": "ipython3",
   "version": "3.8.5"
  },
  "latex_envs": {
   "LaTeX_envs_menu_present": true,
   "autoclose": false,
   "autocomplete": true,
   "bibliofile": "biblio.bib",
   "cite_by": "apalike",
   "current_citInitial": 1,
   "eqLabelWithNumbers": true,
   "eqNumInitial": 1,
   "hotkeys": {
    "equation": "Ctrl-E",
    "itemize": "Ctrl-I"
   },
   "labels_anchors": false,
   "latex_user_defs": false,
   "report_style_numbering": false,
   "user_envs_cfg": false
  }
 },
 "nbformat": 4,
 "nbformat_minor": 4
}
