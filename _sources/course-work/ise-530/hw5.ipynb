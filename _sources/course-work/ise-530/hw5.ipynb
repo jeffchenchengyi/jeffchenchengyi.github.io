{
 "cells": [
  {
   "cell_type": "markdown",
   "metadata": {},
   "source": [
    "# HW 5\n",
    "\n",
    "ISE 530 Optimization for Analytics Homework V: An AMPL exercise. Due 11:59 PM Wednesday October 21, 2020.\n",
    "\n",
    "The spreadsheet of crime dataset has 50 rows (number of data points) and 7 columns. The first two columns are the observed crime rates to be predicted from the features in the last 5 columns. Formulate a least-squares regression problem with a regularizer term as the following quadratic program with the columns of the matrix A being the five features from the dataset and y is the 50-dimensional vector of observed crime rates from the first column:\n",
    "\n",
    "Tikhonov-regularized LASSO Regression with $\\lambda = 1$:\n",
    "\n",
    "\\begin{align}\n",
    "    \\underset{x\\in\\mathcal{R}^n}{\\text{minimize }} &\\frac{1}{2}(y-Ax)^\\top (y-Ax) + \\sum^n_{i=1} \\vert x_i \\vert \\\\\n",
    "\\end{align}\n",
    "\n",
    "So the second column the dataset is not used. Solve the problem using AMPL."
   ]
  },
  {
   "cell_type": "code",
   "execution_count": 1,
   "metadata": {},
   "outputs": [
    {
     "data": {
      "text/html": [
       "<div>\n",
       "<style scoped>\n",
       "    .dataframe tbody tr th:only-of-type {\n",
       "        vertical-align: middle;\n",
       "    }\n",
       "\n",
       "    .dataframe tbody tr th {\n",
       "        vertical-align: top;\n",
       "    }\n",
       "\n",
       "    .dataframe thead th {\n",
       "        text-align: right;\n",
       "    }\n",
       "</style>\n",
       "<table border=\"1\" class=\"dataframe\">\n",
       "  <thead>\n",
       "    <tr style=\"text-align: right;\">\n",
       "      <th></th>\n",
       "      <th>y_1</th>\n",
       "      <th>y_2</th>\n",
       "      <th>x_1</th>\n",
       "      <th>x_2</th>\n",
       "      <th>x_3</th>\n",
       "      <th>x_4</th>\n",
       "      <th>x_5</th>\n",
       "    </tr>\n",
       "  </thead>\n",
       "  <tbody>\n",
       "    <tr>\n",
       "      <th>0</th>\n",
       "      <td>478</td>\n",
       "      <td>184</td>\n",
       "      <td>40</td>\n",
       "      <td>74</td>\n",
       "      <td>11</td>\n",
       "      <td>31</td>\n",
       "      <td>20</td>\n",
       "    </tr>\n",
       "    <tr>\n",
       "      <th>1</th>\n",
       "      <td>494</td>\n",
       "      <td>213</td>\n",
       "      <td>32</td>\n",
       "      <td>72</td>\n",
       "      <td>11</td>\n",
       "      <td>43</td>\n",
       "      <td>18</td>\n",
       "    </tr>\n",
       "    <tr>\n",
       "      <th>2</th>\n",
       "      <td>643</td>\n",
       "      <td>347</td>\n",
       "      <td>57</td>\n",
       "      <td>70</td>\n",
       "      <td>18</td>\n",
       "      <td>16</td>\n",
       "      <td>16</td>\n",
       "    </tr>\n",
       "    <tr>\n",
       "      <th>3</th>\n",
       "      <td>341</td>\n",
       "      <td>565</td>\n",
       "      <td>31</td>\n",
       "      <td>71</td>\n",
       "      <td>11</td>\n",
       "      <td>25</td>\n",
       "      <td>19</td>\n",
       "    </tr>\n",
       "    <tr>\n",
       "      <th>4</th>\n",
       "      <td>773</td>\n",
       "      <td>327</td>\n",
       "      <td>67</td>\n",
       "      <td>72</td>\n",
       "      <td>9</td>\n",
       "      <td>29</td>\n",
       "      <td>24</td>\n",
       "    </tr>\n",
       "  </tbody>\n",
       "</table>\n",
       "</div>"
      ],
      "text/plain": [
       "   y_1  y_2  x_1  x_2  x_3  x_4  x_5\n",
       "0  478  184   40   74   11   31   20\n",
       "1  494  213   32   72   11   43   18\n",
       "2  643  347   57   70   18   16   16\n",
       "3  341  565   31   71   11   25   19\n",
       "4  773  327   67   72    9   29   24"
      ]
     },
     "execution_count": 1,
     "metadata": {},
     "output_type": "execute_result"
    },
    {
     "data": {
      "application/javascript": [
       "\n",
       "            setTimeout(function() {\n",
       "                var nbb_cell_id = 1;\n",
       "                var nbb_unformatted_code = \"%load_ext autotime\\n%load_ext nb_black\\n%matplotlib inline\\n\\nimport matplotlib.pyplot as plt\\nfrom mpl_toolkits.mplot3d import Axes3D\\n\\nplt.rcParams[\\\"figure.dpi\\\"] = 300\\nplt.rcParams[\\\"figure.figsize\\\"] = (16, 12)\\n\\nimport pandas as pd\\nimport numpy as np\\nimport cvxpy as cp\\nimport scipy as sp\\nfrom scipy import optimize\\nimport functools\\n\\ncrime = pd.read_table(\\n    \\\"./data/crime.txt\\\",\\n    header=None,\\n    names=[\\\"y_1\\\", \\\"y_2\\\", \\\"x_1\\\", \\\"x_2\\\", \\\"x_3\\\", \\\"x_4\\\", \\\"x_5\\\"],\\n)\\ncrime.head()\";\n",
       "                var nbb_formatted_code = \"%load_ext autotime\\n%load_ext nb_black\\n%matplotlib inline\\n\\nimport matplotlib.pyplot as plt\\nfrom mpl_toolkits.mplot3d import Axes3D\\n\\nplt.rcParams[\\\"figure.dpi\\\"] = 300\\nplt.rcParams[\\\"figure.figsize\\\"] = (16, 12)\\n\\nimport pandas as pd\\nimport numpy as np\\nimport cvxpy as cp\\nimport scipy as sp\\nfrom scipy import optimize\\nimport functools\\n\\ncrime = pd.read_table(\\n    \\\"./data/crime.txt\\\",\\n    header=None,\\n    names=[\\\"y_1\\\", \\\"y_2\\\", \\\"x_1\\\", \\\"x_2\\\", \\\"x_3\\\", \\\"x_4\\\", \\\"x_5\\\"],\\n)\\ncrime.head()\";\n",
       "                var nbb_cells = Jupyter.notebook.get_cells();\n",
       "                for (var i = 0; i < nbb_cells.length; ++i) {\n",
       "                    if (nbb_cells[i].input_prompt_number == nbb_cell_id) {\n",
       "                        if (nbb_cells[i].get_text() == nbb_unformatted_code) {\n",
       "                             nbb_cells[i].set_text(nbb_formatted_code);\n",
       "                        }\n",
       "                        break;\n",
       "                    }\n",
       "                }\n",
       "            }, 500);\n",
       "            "
      ],
      "text/plain": [
       "<IPython.core.display.Javascript object>"
      ]
     },
     "metadata": {},
     "output_type": "display_data"
    }
   ],
   "source": [
    "%load_ext autotime\n",
    "%load_ext nb_black\n",
    "%matplotlib inline\n",
    "\n",
    "import matplotlib.pyplot as plt\n",
    "from mpl_toolkits.mplot3d import Axes3D\n",
    "\n",
    "plt.rcParams[\"figure.dpi\"] = 300\n",
    "plt.rcParams[\"figure.figsize\"] = (16, 12)\n",
    "\n",
    "import pandas as pd\n",
    "import numpy as np\n",
    "import cvxpy as cp\n",
    "import scipy as sp\n",
    "from scipy import optimize\n",
    "import functools\n",
    "\n",
    "crime = pd.read_table(\n",
    "    \"./data/crime.txt\",\n",
    "    header=None,\n",
    "    names=[\"y_1\", \"y_2\", \"x_1\", \"x_2\", \"x_3\", \"x_4\", \"x_5\"],\n",
    ")\n",
    "crime.head()"
   ]
  },
  {
   "cell_type": "markdown",
   "metadata": {},
   "source": [
    "\\begin{align}\n",
    "    \\underset{x\\in\\mathcal{R}^n}{\\text{minimize }} &\\frac{1}{2}(y-Ax)^\\top (y-Ax) + \\sum^n_{i=1} \\vert x_i \\vert \\\\\n",
    "\\end{align}"
   ]
  },
  {
   "cell_type": "code",
   "execution_count": 2,
   "metadata": {},
   "outputs": [
    {
     "name": "stdout",
     "output_type": "stream",
     "text": [
      "Tikhonov-regularized LASSO Regression with λ=1 Solution\n",
      "========================================\n",
      "Status: optimal_inaccurate\n",
      "The optimal value is: 1445051.55\n",
      "The optimal solution is: x = [11.2, -0.16, 13.8, 3.65, -1.45]\n",
      "time: 19.6 ms\n"
     ]
    },
    {
     "data": {
      "application/javascript": [
       "\n",
       "            setTimeout(function() {\n",
       "                var nbb_cell_id = 2;\n",
       "                var nbb_unformatted_code = \"loss_fn = lambda X, Y, \\u03b2: 0.5 * (cp.norm2(Y - X @ \\u03b2) ** 2)\\nregularizer = lambda \\u03b2: cp.norm1(\\u03b2)\\nobjective_fn = lambda X, Y, \\u03b2, \\u03bb: loss_fn(X, Y, \\u03b2) + \\u03bb * regularizer(\\u03b2)\\nmse = lambda X, Y, \\u03b2: (1.0 / X.shape[0]) * loss_fn(X, Y, \\u03b2).value\\nfeatures = [\\\"x_1\\\", \\\"x_2\\\", \\\"x_3\\\", \\\"x_4\\\", \\\"x_5\\\"]\\nresponse = [\\\"y_1\\\"]\\n\\u03b2 = cp.Variable((len(features), 1))\\n\\u03bb = 1\\ny, A, x = crime[response].values, crime[features].values, \\u03b2\\nprob = cp.Problem(cp.Minimize(objective_fn(X=A, Y=y, \\u03b2=x, \\u03bb=\\u03bb)))\\nprob.solve()\\n\\nprint(\\\"Tikhonov-regularized LASSO Regression with \\u03bb=1 Solution\\\")\\nprint(\\\"=\\\" * 40)\\nprint(f\\\"Status: {prob.status}\\\")\\nprint(f\\\"The optimal value is: {np.round(prob.value, 2)}\\\")\\nprint(f\\\"The optimal solution is: x = {[np.round(\\u03b2_i, 2) for \\u03b2_i in \\u03b2.value.flatten()]}\\\")\";\n",
       "                var nbb_formatted_code = \"loss_fn = lambda X, Y, \\u03b2: 0.5 * (cp.norm2(Y - X @ \\u03b2) ** 2)\\nregularizer = lambda \\u03b2: cp.norm1(\\u03b2)\\nobjective_fn = lambda X, Y, \\u03b2, \\u03bb: loss_fn(X, Y, \\u03b2) + \\u03bb * regularizer(\\u03b2)\\nmse = lambda X, Y, \\u03b2: (1.0 / X.shape[0]) * loss_fn(X, Y, \\u03b2).value\\nfeatures = [\\\"x_1\\\", \\\"x_2\\\", \\\"x_3\\\", \\\"x_4\\\", \\\"x_5\\\"]\\nresponse = [\\\"y_1\\\"]\\n\\u03b2 = cp.Variable((len(features), 1))\\n\\u03bb = 1\\ny, A, x = crime[response].values, crime[features].values, \\u03b2\\nprob = cp.Problem(cp.Minimize(objective_fn(X=A, Y=y, \\u03b2=x, \\u03bb=\\u03bb)))\\nprob.solve()\\n\\nprint(\\\"Tikhonov-regularized LASSO Regression with \\u03bb=1 Solution\\\")\\nprint(\\\"=\\\" * 40)\\nprint(f\\\"Status: {prob.status}\\\")\\nprint(f\\\"The optimal value is: {np.round(prob.value, 2)}\\\")\\nprint(f\\\"The optimal solution is: x = {[np.round(\\u03b2_i, 2) for \\u03b2_i in \\u03b2.value.flatten()]}\\\")\";\n",
       "                var nbb_cells = Jupyter.notebook.get_cells();\n",
       "                for (var i = 0; i < nbb_cells.length; ++i) {\n",
       "                    if (nbb_cells[i].input_prompt_number == nbb_cell_id) {\n",
       "                        if (nbb_cells[i].get_text() == nbb_unformatted_code) {\n",
       "                             nbb_cells[i].set_text(nbb_formatted_code);\n",
       "                        }\n",
       "                        break;\n",
       "                    }\n",
       "                }\n",
       "            }, 500);\n",
       "            "
      ],
      "text/plain": [
       "<IPython.core.display.Javascript object>"
      ]
     },
     "metadata": {},
     "output_type": "display_data"
    }
   ],
   "source": [
    "loss_fn = lambda X, Y, β: 0.5 * (cp.norm2(Y - X @ β) ** 2)\n",
    "regularizer = lambda β: cp.norm1(β)\n",
    "objective_fn = lambda X, Y, β, λ: loss_fn(X, Y, β) + λ * regularizer(β)\n",
    "mse = lambda X, Y, β: (1.0 / X.shape[0]) * loss_fn(X, Y, β).value\n",
    "features = [\"x_1\", \"x_2\", \"x_3\", \"x_4\", \"x_5\"]\n",
    "response = [\"y_1\"]\n",
    "β = cp.Variable((len(features), 1))\n",
    "λ = 1\n",
    "y, A, x = crime[response].values, crime[features].values, β\n",
    "prob = cp.Problem(cp.Minimize(objective_fn(X=A, Y=y, β=x, λ=λ)))\n",
    "prob.solve()\n",
    "\n",
    "print(\"Tikhonov-regularized LASSO Regression with λ=1 Solution\")\n",
    "print(\"=\" * 40)\n",
    "print(f\"Status: {prob.status}\")\n",
    "print(f\"The optimal value is: {np.round(prob.value, 2)}\")\n",
    "print(f\"The optimal solution is: x = {[np.round(β_i, 2) for β_i in β.value.flatten()]}\")"
   ]
  },
  {
   "cell_type": "markdown",
   "metadata": {},
   "source": [
    "### Tikhonov-regularized Lasso Regression to Quadratic Program\n",
    "\n",
    "From:\n",
    "\\begin{align}\n",
    "    \\underset{x\\in\\mathcal{R}^n}{\\text{minimize }} &\\frac{1}{2}(y-Ax)^\\top (y-Ax) + \\sum^n_{i=1} \\vert x_i \\vert \\\\\n",
    "\\end{align}\n",
    "\n",
    "Let's set $x = x^+ - x^-$, and so $\\vert x \\vert = x^+ + x^-$, for $x^{\\pm} \\geq 0$:\n",
    "\\begin{align}\n",
    "    \\underset{x^\\pm \\in \\mathcal{R}^n}{\\text{minimize }} &\\frac{1}{2}(y-A(x^+ - x^-))^\\top (y-A(x^+ - x^-)) + \\sum^n_{i=1} (x^+_i + x^-_i) \\\\\n",
    "    \\text{subject to } &x^\\pm \\geq 0 \\\\ \n",
    "\\end{align}\n",
    "\n",
    "Expanding:\n",
    "\\begin{align}\n",
    "    \\underset{x^\\pm \\in \\mathcal{R}^n}{\\text{minimize }} &\\frac{1}{2}(y^\\top-A^\\top(x^+ - x^-)^\\top)(y-A(x^+ - x^-)) + \\sum^n_{i=1} (x^+_i + x^-_i) \\\\\n",
    "    \\text{subject to } &x^\\pm \\geq 0 \\\\ \n",
    "    \\newline \\\\\n",
    "    \\underset{x^\\pm \\in \\mathcal{R}^n}{\\text{minimize }} &\\frac{1}{2}(y^\\top y - y^\\top A(x^+ - x^-) - y^\\top A(x^+ - x^-) + (x^+ - x^-)^\\top (A^\\top A) (x^+ - x^-)) + \\sum^n_{i=1} (x^+_i + x^-_i) \\\\\n",
    "    \\text{subject to } &x^\\pm \\geq 0 \\\\ \n",
    "    \\newline \\\\\n",
    "    \\underset{x^\\pm \\in \\mathcal{R}^n}{\\text{minimize }} &\\frac{1}{2}(x^+ - x^-)^\\top (A^\\top A) (x^+ - x^-) - y^\\top A(x^+ - x^-) + \\sum^n_{i=1} (x^+_i + x^-_i) \\\\\n",
    "    \\text{subject to } &x^\\pm \\geq 0 \\\\ \n",
    "    \\newline \\\\\n",
    "    \\underset{x^\\pm \\in \\mathcal{R}^n}{\\text{minimize }} &\\frac{1}{2}(x^+ - x^-)^\\top (A^\\top A) (x^+ - x^-) - y^\\top A(x^+ - x^-) + \\mathbb{1}^\\top(x^+ + x^-) \\\\\n",
    "    \\text{subject to } &x^\\pm \\geq 0 \\\\ \n",
    "\\end{align}"
   ]
  },
  {
   "cell_type": "code",
   "execution_count": 3,
   "metadata": {},
   "outputs": [
    {
     "name": "stdout",
     "output_type": "stream",
     "text": [
      "Tikhonov-regularized LASSO Regression Quadratic Program with λ=1 Solution\n",
      "========================================\n",
      "Status: optimal\n",
      "The optimal value is: -13558345.15\n",
      "The optimal solution is: x = [11.2, -0.16, 13.8, 3.65, -1.45]\n",
      "time: 14.5 ms\n"
     ]
    },
    {
     "data": {
      "application/javascript": [
       "\n",
       "            setTimeout(function() {\n",
       "                var nbb_cell_id = 3;\n",
       "                var nbb_unformatted_code = \"x = cp.Variable((len(features), 2))\\nprob = cp.Problem(\\n    cp.Minimize(\\n        0.5 * cp.quad_form(x[:, 0] - x[:, 1], A.T @ A)\\n        - (y.T @ A) @ (x[:, 0] - x[:, 1])\\n        + np.ones(len(features)) @ (x[:, 0] + x[:, 1])\\n    ),\\n    constraints=[x >= 0],\\n)\\nprob.solve()\\n\\nprint(\\\"Tikhonov-regularized LASSO Regression Quadratic Program with \\u03bb=1 Solution\\\")\\nprint(\\\"=\\\" * 40)\\nprint(f\\\"Status: {prob.status}\\\")\\nprint(f\\\"The optimal value is: {np.round(prob.value, 2)}\\\")\\nprint(f\\\"The optimal solution is: x = {[np.round(\\u03b2_i, 2) for \\u03b2_i in \\u03b2.value.flatten()]}\\\")\";\n",
       "                var nbb_formatted_code = \"x = cp.Variable((len(features), 2))\\nprob = cp.Problem(\\n    cp.Minimize(\\n        0.5 * cp.quad_form(x[:, 0] - x[:, 1], A.T @ A)\\n        - (y.T @ A) @ (x[:, 0] - x[:, 1])\\n        + np.ones(len(features)) @ (x[:, 0] + x[:, 1])\\n    ),\\n    constraints=[x >= 0],\\n)\\nprob.solve()\\n\\nprint(\\\"Tikhonov-regularized LASSO Regression Quadratic Program with \\u03bb=1 Solution\\\")\\nprint(\\\"=\\\" * 40)\\nprint(f\\\"Status: {prob.status}\\\")\\nprint(f\\\"The optimal value is: {np.round(prob.value, 2)}\\\")\\nprint(f\\\"The optimal solution is: x = {[np.round(\\u03b2_i, 2) for \\u03b2_i in \\u03b2.value.flatten()]}\\\")\";\n",
       "                var nbb_cells = Jupyter.notebook.get_cells();\n",
       "                for (var i = 0; i < nbb_cells.length; ++i) {\n",
       "                    if (nbb_cells[i].input_prompt_number == nbb_cell_id) {\n",
       "                        if (nbb_cells[i].get_text() == nbb_unformatted_code) {\n",
       "                             nbb_cells[i].set_text(nbb_formatted_code);\n",
       "                        }\n",
       "                        break;\n",
       "                    }\n",
       "                }\n",
       "            }, 500);\n",
       "            "
      ],
      "text/plain": [
       "<IPython.core.display.Javascript object>"
      ]
     },
     "metadata": {},
     "output_type": "display_data"
    }
   ],
   "source": [
    "x = cp.Variable((len(features), 2))\n",
    "prob = cp.Problem(\n",
    "    cp.Minimize(\n",
    "        0.5 * cp.quad_form(x[:, 0] - x[:, 1], A.T @ A)\n",
    "        - (y.T @ A) @ (x[:, 0] - x[:, 1])\n",
    "        + np.ones(len(features)) @ (x[:, 0] + x[:, 1])\n",
    "    ),\n",
    "    constraints=[x >= 0],\n",
    ")\n",
    "prob.solve()\n",
    "\n",
    "print(\"Tikhonov-regularized LASSO Regression Quadratic Program with λ=1 Solution\")\n",
    "print(\"=\" * 40)\n",
    "print(f\"Status: {prob.status}\")\n",
    "print(f\"The optimal value is: {np.round(prob.value, 2)}\")\n",
    "print(f\"The optimal solution is: x = {[np.round(β_i, 2) for β_i in β.value.flatten()]}\")"
   ]
  }
 ],
 "metadata": {
  "kernelspec": {
   "display_name": "Python 3",
   "language": "python",
   "name": "python3"
  },
  "language_info": {
   "codemirror_mode": {
    "name": "ipython",
    "version": 3
   },
   "file_extension": ".py",
   "mimetype": "text/x-python",
   "name": "python",
   "nbconvert_exporter": "python",
   "pygments_lexer": "ipython3",
   "version": "3.8.5"
  },
  "latex_envs": {
   "LaTeX_envs_menu_present": true,
   "autoclose": false,
   "autocomplete": true,
   "bibliofile": "biblio.bib",
   "cite_by": "apalike",
   "current_citInitial": 1,
   "eqLabelWithNumbers": true,
   "eqNumInitial": 1,
   "hotkeys": {
    "equation": "Ctrl-E",
    "itemize": "Ctrl-I"
   },
   "labels_anchors": false,
   "latex_user_defs": false,
   "report_style_numbering": false,
   "user_envs_cfg": false
  }
 },
 "nbformat": 4,
 "nbformat_minor": 4
}
