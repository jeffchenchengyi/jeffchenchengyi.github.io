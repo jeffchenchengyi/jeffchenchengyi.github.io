{
 "cells": [
  {
   "cell_type": "markdown",
   "metadata": {},
   "source": [
    "# Paper Review 5: The Low-Risk Anomaly: A Decomposition into Micro and Macro Effects\n",
    "\n",
    "By: Chengyi (Jeff) Chen\n",
    "\n",
    "### Table of Contents\n",
    "1. [The Low-Risk Anomaly](#1)\n",
    "2. [Variations on the Low-Risk Anomaly](#2)\n",
    "3. [A Decomposition of Micro and Macro Effects in 29 Industries](#3)\n",
    "4. [A Decomposition of Micro and Macro Effects in Up to 31 Developed-Country Markets](#4)\n",
    "5. [Idiosyncratic Risk](#5)\n",
    "6. [Conclusion: Samuelson’s Dictum and the Implications for Managed-Volatility Strategies](#6)"
   ]
  },
  {
   "cell_type": "markdown",
   "metadata": {},
   "source": [
    "---\n",
    "## 1. The Low-Risk Anomaly"
   ]
  },
  {
   "cell_type": "markdown",
   "metadata": {},
   "source": [
    "- Low-risk stocks outperform high-risk stocks on a risk-adjusted basis.\n",
    "\n",
    "- After forming 5 risk-sorted quintile portfolios and  regressing the returns of each of the resulting five portfolios, measured in excess of US Treasury bill returns, on the aggregate market excess return to find the portfolio’s full-period *ex post* market $\\beta$ and CAPM $\\alpha$, $\\beta$s estimated from past returns are shownb to be strong predictors of future $\\beta$s\n",
    "\n",
    "- There is a rough risk–return trade-off across long histories of asset class returns, where stocks outperform bonds, for example. But within asset classes, the lowest-risk portfolios have higher Sharpe ratios.\n",
    "\n",
    "- Explanations have emphasized a combination of behavioral demand and the limits to arbitrage, including limited borrowing capacity and the delegation of stock selection, to explain the lowrisk anomaly\n",
    "\n",
    "    1. Baker et al. (2011):\n",
    "        \n",
    "        1. Lottery preferences\n",
    "        \n",
    "        2. Representativeness\n",
    "        \n",
    "        3. Overconfidence\n",
    "        \n",
    "    2. Black (1972) and Frazzini and Pedersen (2010):\n",
    "    \n",
    "        1. Leverage\n",
    "        \n",
    "    3. Karceski (2002)\n",
    "    \n",
    "        1. Effects of intermediation: Interaction between high $\\beta$ strategies and the capture of mutual fund flows\n",
    "        \n",
    "    3. Baker et al. (2011)\n",
    "    \n",
    "        1. Effects of intermediation: Implications of fixed-benchmark strategies for low-risk stocks"
   ]
  },
  {
   "cell_type": "markdown",
   "metadata": {},
   "source": [
    "---\n",
    "## 2. Variations on the Low-Risk Anomaly"
   ]
  },
  {
   "cell_type": "markdown",
   "metadata": {},
   "source": [
    "### Beta Turnover and Liquidity\n",
    "\n",
    "Low $\\beta$ Turnover:\n",
    "\n",
    "- The $\\beta$s were computed using 60 months of data, so changes in beta estimates from month to month are small. \n",
    "\n",
    "- The probability of staying in the first or fifth quintile from one month to the next is greater than 95%, and the probability of moving out of the top or bottom two quintiles from the first or fifth quintile is less than 0.5%. \n",
    "\n",
    "- Moreover, lagged betas show a similar ability to predict monthly returns, so turnover is of limited value. "
   ]
  },
  {
   "cell_type": "markdown",
   "metadata": {},
   "source": [
    "### Benchmark Models\n",
    "\n",
    "Why focus on CAPM regressions:\n",
    "\n",
    "1. Less complicated\n",
    "2. $\\beta$ is a theoretically motivated measure of risk"
   ]
  },
  {
   "cell_type": "markdown",
   "metadata": {},
   "source": [
    "### Measures of Risk\n",
    "\n",
    "Why $\\beta$?\n",
    "\n",
    "- Any portfolio $\\beta$, including $\\beta$s of industry or country portfolios, is a simple weighted-average combination of the individual security $\\beta$s contained in that portfolio, at their portfolio weights. \n",
    "\n",
    "- The same cannot be said of a portfolio’s idiosyncratic volatility. The full covariance matrix of the individual securities is needed to go from security-level risk to portfolio-level risk. "
   ]
  },
  {
   "cell_type": "markdown",
   "metadata": {},
   "source": [
    "---\n",
    "## 3. A Decomposition of Micro and Macro Effects in 29 Industries"
   ]
  },
  {
   "cell_type": "markdown",
   "metadata": {},
   "source": [
    "### The Low-Risk Anomaly across Industries\n",
    "\n",
    "- A stock’s industry $\\beta$ is the capitalization-weighted average of the $\\beta$s of the stocks within the industry\n",
    "\n",
    "- Using only information about industry $\\beta$s and no stock-level information delivers a reasonable fraction of the risk reduction and risk-adjusted return improvement of stock-level sorts."
   ]
  },
  {
   "cell_type": "markdown",
   "metadata": {},
   "source": [
    "### Decomposing the Low-Risk Anomaly between Stocks and Industries\n",
    "\n",
    "To what degree do macro effects contribute to the low-risk anomaly?\n",
    "\n",
    "- Stock-level beta, as estimated from historical data, is a much better predictor of future beta than industry beta is\n",
    "\n",
    "    - However, both a stock-level historical beta and each stock’s industry-level historical beta, each relative to the other, have incremental predictive power for future beta.\n",
    "\n",
    "- Pure stock alpha (the micro effect) and pure industry alpha (the macro effect) arise for different reasons\n",
    "\n",
    "    1. The pure industry alpha of 1.53% is present in spite of a small cross-industry beta difference of –0.20. \n",
    "    \n",
    "        - By implication, the industry alpha obtains as a consequence of cross-industry portfolios exhibiting differences in returns, with modest differences in risk. \n",
    "        \n",
    "    2. The pure stock alpha of 4.44% is present alongside a dramatic difference in withinindustry beta of –0.82. \n",
    "    \n",
    "        - By implication, the stock alpha obtains as a consequence of within-industry portfolios exhibiting material differences in risk, with a more limited difference in returns."
   ]
  },
  {
   "cell_type": "markdown",
   "metadata": {},
   "source": [
    "---\n",
    "## 4. A Decomposition of Micro and Macro Effects in Up to 31 Developed-Country Markets"
   ]
  },
  {
   "cell_type": "markdown",
   "metadata": {},
   "source": [
    "### The Low-Risk Anomaly across Countries\n",
    "\n",
    "- Using only information about country betas and no stock-level information delivers roughly half the risk reduction and about two-thirds of the risk-adjusted return improvement of stock-level sorts. "
   ]
  },
  {
   "cell_type": "markdown",
   "metadata": {},
   "source": [
    "### Decomposing the Low-Risk Anomaly between Stocks and Countries\n",
    "\n",
    "To what degree macro effects contribute to the low-risk anomaly, but in this case, countries represent the macro dimension of the anomaly?\n",
    "\n",
    "- Stock-level beta, as estimated from historical data, is a much better predictor of future beta than each stock’s country beta is\n",
    "\n",
    "    - The incremental predictive power of country-level historical beta is closer to zero, in both economic and statistical terms.\n",
    "    \n",
    "- Pure stock alpha (the micro effect) and pure country alpha (the macro effect) arise for different reasons.\n",
    "\n",
    "    1. The pure country alpha of 6.22% is present in spite of no difference in cross-country beta.\n",
    "\n",
    "        - By implication, the country alpha obtains as a consequence of cross-country portfolios exhibiting material differences in returns, with modest differences in risk. \n",
    "        \n",
    "    2. The pure stock alpha of 5.40% is present alongside a dramatic difference in withincountry beta of –1.01. \n",
    "    \n",
    "        - By implication, the stock alpha obtains as a consequence of within-country portfolios exhibiting material differences in risk, with modest differences in returns."
   ]
  },
  {
   "cell_type": "markdown",
   "metadata": {},
   "source": [
    "---\n",
    "## 5. Idiosyncratic Risk"
   ]
  },
  {
   "cell_type": "markdown",
   "metadata": {},
   "source": [
    "Definition of Idiosyncratic Risk:\n",
    "\n",
    "1. Te industry contribution could be measured with either the idiosyncratic risk of aggregated industry portfolios\n",
    "\n",
    "    - Measures the risk of the industry\n",
    "\n",
    "2. Or the average firm-level idiosyncratic risk within the industry. (CHOSEN APPROACH)\n",
    "\n",
    "    - Measures how risky the stocks within the industry are"
   ]
  },
  {
   "cell_type": "markdown",
   "metadata": {},
   "source": [
    "- We found that the idiosyncratic risk effect is almost entirely a micro phenomenon: \n",
    "\n",
    "    - 96% comes from a pure stock effect in the CRSP industry sample, and 86% comes from a pure stock effect in the BMI country sample. \n",
    "    \n",
    "- Idiosyncratic risk is similar to valuation ratios in the sense that the intuition behind it does not necessarily hold in the aggregate. What matters more is whether a stock is risky relative to another stock in its category rather than the category average."
   ]
  },
  {
   "cell_type": "markdown",
   "metadata": {},
   "source": [
    "---\n",
    "## 6. Conclusion: Samuelson’s Dictum and the Implications for Managed-Volatility Strategies"
   ]
  },
  {
   "cell_type": "markdown",
   "metadata": {},
   "source": [
    "1. The micro component arises from the selection of lower-risk stocks, holding country and industry risk constant.\n",
    "\n",
    "2. The macro component arises from the selection of lower-risk industries and countries, holding stocklevel risk constant.\n",
    "\n",
    "3. Market inefficiency arises from some combination of less than fully rational demand and the limits to arbitrage\n",
    "\n",
    "4. Micro efficiency holds only up to the limits of arbitrage. \n",
    "\n",
    "5. Macro inefficiency is more present for countries than for industries, perhaps because arbitrage is more limited across countries than across industries.\n",
    "\n",
    "6. Absence of material risk reduction from the macro selection of industries and countries\n",
    "\n",
    "    1. Compared with predicting the relative risk of individual stocks, pure country or industry risk prediction is hard\n",
    "    \n",
    "    2. To the extent that this anomaly arises because of investor demand for high-risk aggregations of stocks, this demand is in large part backward looking.\n",
    "    \n",
    "7. In practice, the incremental value of industry and country selection, even when holding stocklevel risk constant, suggests: \n",
    "\n",
    "    - Use of a risk model in beta estimation that includes fixed country and industry effects is > to simple stock-level sorts on beta or volatility \n",
    "    \n",
    "        - Especially true in global portfolios because:\n",
    "        \n",
    "            1. Incremental value of estimating country-level risk is significant\n",
    "            \n",
    "            2. Because country and industry exposures have generated incremental alpha, a global mandate with somewhat relaxed country and industry constraints would have delivered higher risk-adjusted returns."
   ]
  }
 ],
 "metadata": {
  "kernelspec": {
   "display_name": "Python 3",
   "language": "python",
   "name": "python3"
  },
  "language_info": {
   "codemirror_mode": {
    "name": "ipython",
    "version": 3
   },
   "file_extension": ".py",
   "mimetype": "text/x-python",
   "name": "python",
   "nbconvert_exporter": "python",
   "pygments_lexer": "ipython3",
   "version": "3.8.5"
  },
  "latex_envs": {
   "LaTeX_envs_menu_present": true,
   "autoclose": false,
   "autocomplete": true,
   "bibliofile": "biblio.bib",
   "cite_by": "apalike",
   "current_citInitial": 1,
   "eqLabelWithNumbers": true,
   "eqNumInitial": 1,
   "hotkeys": {
    "equation": "Ctrl-E",
    "itemize": "Ctrl-I"
   },
   "labels_anchors": false,
   "latex_user_defs": false,
   "report_style_numbering": false,
   "user_envs_cfg": false
  }
 },
 "nbformat": 4,
 "nbformat_minor": 4
}
