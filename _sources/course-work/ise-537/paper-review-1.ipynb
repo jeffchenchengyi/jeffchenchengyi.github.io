{
 "cells": [
  {
   "cell_type": "markdown",
   "metadata": {},
   "source": [
    "# Paper Review 1: Value and Momentum Everywhere\n",
    "\n",
    "By: Chengyi (Jeff) Chen\n",
    "\n",
    "Asness, Moskowitz, Pedersen attempt to identify and examine the latent factors and correlation structure behind factors used in value and momentum factors that produce significant risk premia across markets and asset classes. Furthermore, using a combination of both the value and momentum strategies within each market and asset class proved to have the highest sharpe ratios overall. They also discovered that even though value and momentum strategies produced positive returns, they are negatively correlated. They explained this phenomenon as a result of a link to funding liquidity risk, and not market liquidity risk. In Section 4 of the paper, they also performed a time-series regression of the returns of each of the 48 portfolios they have created out of their pool of asset classes across markets (ranked by value or momentum, weighted by beginning-of-month market capitalization for stocks and equal weights for non-stocks) on the market portfolio returns (MSCI Index), and equal-volatility-weighted across asset-class value and momentum factors. This global three-factor model explained that the returns to value and momentum across markets and asset classes much better than local U.S. factors can, suggesting that global value and momentum portfolios across markets and asset classes are closer to the efficient frontier than U.S. stock-only value and momentum portfolios, and therefore provide a more robust set of asset pricing factors that can be used more broadly. Overall, the primary takeaway from this paper is that using a combination of momentum and value factors, across a range of asset classes and markets, possibly adding in funding liquidity measures such as TED spreads could potentially create a low idiosyncratic risk, high alpha portfolio."
   ]
  },
  {
   "cell_type": "markdown",
   "metadata": {},
   "source": [
    "---\n",
    "## I. Data and Portfolio Construction"
   ]
  },
  {
   "cell_type": "markdown",
   "metadata": {},
   "source": [
    "### A. Security Universe\n",
    "1. Global Individual Stocks\n",
    "2. Global Equity Indices\n",
    "3. Currencies\n",
    "4. Global Government Bonds\n",
    "5. Commodity Futures"
   ]
  },
  {
   "cell_type": "markdown",
   "metadata": {},
   "source": [
    "### B. Value and momentum Measures\n",
    "1. Global Individual Stocks\n",
    "    - Value signal: book-to-market ratio\n",
    "    - Momentum signal: past 12-month cumulative raw return on the asset, skipped last month's return to avoid [1-month reversal in stock returns](https://quantpedia.com/strategies/short-term-reversal-in-stocks/) (An anomaly $\\because$ investor’s overreaction to the past information and a correction of that reaction after a short time horizon)\n",
    "\n",
    "2. Global Equity Indices\n",
    "    - Value signal: previous month’s BE/ME ratio for the MSCI index of the country\n",
    "    - Momentum signal: past 12-month cumulative raw return on the asset, skipped last month's return\n",
    "\n",
    "3. Currencies\n",
    "    - Value signal: negative of the 5-year return on the exchange rate, measured as the log of the average spot exchange rate from 4.5 to 5.5 years ago divided by the spot exchange rate today minus the log difference in the change in CPI in the foreign country relative to the U.S. over the same period (5-year change in purchasing power parity)\n",
    "    - Momentum signal: past 12-month cumulative raw return on the asset, skipped last month's return\n",
    "\n",
    "4. Global Government Bonds\n",
    "    - Value signal: \n",
    "        1. 5-year change in the yields of 10-year bonds as our value measure, which is similar to the negative of the past 5-year return\n",
    "        2. Real bond yield (yield on 10-year bonds minus the 5-year forecast in inflation)\n",
    "        3. Term spread (yield on 10-year bonds minus the short rate)\n",
    "    - Momentum signal: past 12-month cumulative raw return on the asset, skipped last month's return\n",
    "\n",
    "5. Commodity Futures\n",
    "    - Value signal: log of the average spot price from 4.5 to 5.5 years ago, divided by the most recent spot price (the negative of the spot return over the last 5 years)\n",
    "    - Momentum signal: past 12-month cumulative raw return on the asset, skipped last month's return"
   ]
  },
  {
   "cell_type": "markdown",
   "metadata": {},
   "source": [
    "---\n",
    "## II. Value and Momentum Returns and Comovement"
   ]
  },
  {
   "cell_type": "markdown",
   "metadata": {},
   "source": [
    "### A. Return Premia\n",
    "- Value strategies produce significant risk premia in all markets, especially in Japan\n",
    "- A convex combination of the 2 positive return strategies (value and momentum) (investing 50% in each signal) that are strongly negatively correlated produces much better Sharpe ratios"
   ]
  },
  {
   "cell_type": "markdown",
   "metadata": {},
   "source": [
    "### B. Alternative Measures\n",
    "- Using only the 5-year yield change as a value signal for bonds do not produce statistically significant risk premia, but using a composite average index of 3 signals stated above produces a much better Sharpe Ratio"
   ]
  },
  {
   "cell_type": "markdown",
   "metadata": {},
   "source": [
    "### C. Comovement across Asset Classes\n",
    "- The average correlation of stock's value signal is positively correlated with other asset classes' value signals, but negatively correlated with their momentum signals"
   ]
  },
  {
   "cell_type": "markdown",
   "metadata": {},
   "source": [
    "---\n",
    "## III. Relation to Macroeconomic and Liquidity Risk"
   ]
  },
  {
   "cell_type": "markdown",
   "metadata": {},
   "source": [
    "### A. Macroeconomic Risk Exposure\n",
    "- Global macroeconomic variables are generally not statistically significantly related to value and momentum strategy returns."
   ]
  },
  {
   "cell_type": "markdown",
   "metadata": {},
   "source": [
    "### B. Liquidity Risk Exposure\n",
    "1. Measuring Funding and Market Liquidity Risk\n",
    "    \n",
    "    - Funding liquidity risk variables:\n",
    "        \n",
    "        1. TED spread\n",
    "        \n",
    "        2. LIBOR-term repo\n",
    "        \n",
    "        3. Swap-T-bill\n",
    "        \n",
    "        4. Funding liquidity Principal Component\n",
    "        \n",
    "    - Market liquidity risk variables:\n",
    "        \n",
    "        1. On-the-run - off-the-run\n",
    "        \n",
    "        2. Pastor-Stambaugh\n",
    "        \n",
    "        3. Acharya-Pedersen\n",
    "        \n",
    "        4. Market Liquidity Principal Component \n",
    "        \n",
    "    - Liquidity Shocks:\n",
    "        \n",
    "        - Residuals of an AR(2) of a global liquidity index (PCA weighted average of all market and funding liquidity variables across all markets)\n",
    "    \n",
    "    - Global measures is just average of all the liquidity risk measures weighted by the principal component of each country’s contribution to the correlation ma- trix of each liquidity measure across the four markets\n",
    "\n",
    "2. Value and Momentum Returns and Liquidity Risk\n",
    "    \n",
    "    - For both US and Global funding and liquidity shocks:\n",
    "        \n",
    "        - Funding liquidity risk is consistently negatively related to value returns and significantly positively related to momentum returns\n",
    "            \n",
    "            - i.e. Value performs poorly when funding liquidity rises, which occurs during times when borrowing is easier, while momentum performs well during these times\n",
    "        \n",
    "        - Market liquidity risk has little impact\n",
    "    \n",
    "    - However, the question remains as to why **both** value and momentum earn positive risk premia even though they have opposite signed loadings on liquidity risk\n",
    "        \n",
    "        - Opposite signed loadings:\n",
    "            \n",
    "            - When a liquidity shock (positive / negative) occurs, there is more (long / short) on the momentum assets, while value assets are less affected\n",
    "        \n",
    "        - Part of momentum returns can be attributed to compensation for liquidity risk exposure as momentum loads positively on liquidity shocks and liquidity risk carries a positive risk premium\n",
    "        \n",
    "        - But value loads negatively on liquidity risk, which does not explain its positive return\n",
    "\n",
    "3. The Power of Averaging Across Markets\n",
    "    \n",
    "    - Looking at the universal average return across markets and asset classes to value and momentum reveals more about its relation to liquidity risk rather than looking at the individual performance of each security by mitigating noise unrelated to momentum\n",
    "    \n",
    "    - Similar to how diversification can reduce idiosyncratic risk"
   ]
  },
  {
   "cell_type": "markdown",
   "metadata": {},
   "source": [
    "---\n",
    "## IV. Comovement and Asset Pricing Tests"
   ]
  },
  {
   "cell_type": "markdown",
   "metadata": {},
   "source": [
    "### A. Explaining Value/Momentum in One Market with Value/Momentum in Other Markets\n",
    "- For each portfolio (48 of them), linearly regress its returns on the market portfolio (MSCI World index) and each of the value and momentum factors in all other markets and asset classes\n",
    "- Results: Value and momentum returns in one market are strongly related to value and momentum returns in other markets and asset classes"
   ]
  }
 ],
 "metadata": {
  "kernelspec": {
   "display_name": "Python 3",
   "language": "python",
   "name": "python3"
  },
  "language_info": {
   "codemirror_mode": {
    "name": "ipython",
    "version": 3
   },
   "file_extension": ".py",
   "mimetype": "text/x-python",
   "name": "python",
   "nbconvert_exporter": "python",
   "pygments_lexer": "ipython3",
   "version": "3.8.5"
  },
  "latex_envs": {
   "LaTeX_envs_menu_present": true,
   "autoclose": false,
   "autocomplete": true,
   "bibliofile": "biblio.bib",
   "cite_by": "apalike",
   "current_citInitial": 1,
   "eqLabelWithNumbers": true,
   "eqNumInitial": 1,
   "hotkeys": {
    "equation": "Ctrl-E",
    "itemize": "Ctrl-I"
   },
   "labels_anchors": false,
   "latex_user_defs": false,
   "report_style_numbering": false,
   "user_envs_cfg": false
  }
 },
 "nbformat": 4,
 "nbformat_minor": 4
}
