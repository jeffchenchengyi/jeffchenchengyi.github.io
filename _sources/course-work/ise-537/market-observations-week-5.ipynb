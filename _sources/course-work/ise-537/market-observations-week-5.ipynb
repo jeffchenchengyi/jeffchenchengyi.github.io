{
 "cells": [
  {
   "cell_type": "markdown",
   "metadata": {},
   "source": [
    "# MO 5: Palantir\n",
    "\n",
    "By: Chengyi (Jeff) Chen\n",
    "\n",
    "## Table of Contents\n",
    "1. [Recommendation](#rec)\n",
    "2. [Company Background](#background)\n",
    "3. [Catalysts & Risk Factors](#catandrisk)"
   ]
  },
  {
   "cell_type": "markdown",
   "metadata": {},
   "source": [
    "---\n",
    "## 1. Recommendation<a id=rec></a>"
   ]
  },
  {
   "cell_type": "markdown",
   "metadata": {},
   "source": [
    "- I recommend longing Palantir, an advanced data analytics and mining consultancy company that has [recently gone public through a direct listing](https://www.marketwatch.com/story/asana-shares-surge-more-than-30-while-palantir-still-awaits-first-trade-11601485452) unlike the traditional IPO route in the short term (~6 months) by riding the momentum wave from its direct listing. \n",
    "\n",
    "- Catalysts that might secure its positive revenue growth or stagnate it (highly unlikely to drop because of its long-standing contracts with very stable organizations), and consequently, its value hinge on:\n",
    "    1. The number of deals with **large** institutions it can secure in the coming years domestically and internationally\n",
    "    2. Geopolitical climate in the coming months especially after the elections on November 3rd (specifically US-China relations) because of its huge political risk exposure"
   ]
  },
  {
   "cell_type": "markdown",
   "metadata": {},
   "source": [
    "---\n",
    "## 2. Company Background<a id=background></a>"
   ]
  },
  {
   "cell_type": "markdown",
   "metadata": {},
   "source": [
    "Palantir's purpose was to use advanced data analytics for counter-terrorism:\n",
    "- Palantir's origins came from being [pitched as a tool that could have identified and stopped the hijackers and would prevent similar attacks from happening in the future,](https://www.vox.com/recode/2020/7/16/21323458/palantir-ipo-hhs-protect-peter-thiel-cia-intelligence) which ultimately landed its first and long-time client, the CIA. \n",
    "- Afterwards, Palantir closed many deals with governmental agencies (FBI, Pentagon) who wanted to injest the Big Data (structured and unstructured) that they had to derive insights used primarily for counter-terrorism and law enforcement. \n",
    "\n",
    "Palantir wanted to gain market share in the private sector after reviewing parallels in the problems encountered in both public and private sector verticals:\n",
    "- Subsequently, Palantir ventured into the private sector in order to apply its proprietary software (Palantir Gotham and Foundry) equipped with [semantic, temporal, geospatial, and full-text analysis tools](https://www.forbes.com/sites/bethkindig/2020/09/29/palantir-ipo-deep-dive-analysis/#8302a611a141) ($*$potentially important idea here is how much of these tools rely on deep learning, which rely on Big Data, which in turn restricts its applications to institutions with huge datasets) on [anti-fraud detection (JP Morgan), law, and pharma research (particularly important point especially in the COVID-19 pandemic) use cases](https://digital.hbs.edu/platform-digit/submission/palantir-masters-of-big-data/). \n",
    "\n",
    "What is Palantir's actual product / service?\n",
    "- Initially, I thought Palantir was more similar to companies like Teradata / Tableau / Spark on Databricks, the more popular business intelligence type of platforms - they provide you the software, you decide what to do with it yourself\n",
    "- However, after research, it appears that Palantir's work likens those of a consulting firm's Advanced Analytics branch such as those of the MBB - BCG Gamma, Bain's Advanced Analytics, McKinsey QuantumBlack\n",
    "- Palantir appears to be an \"engineer-first\"-type consulting firm in that instead of using a mixture of consultants and data scientists like regular consulting firms to work on a project, they use forward-deployed software engineers who already have the necessary problem-solving AND technical expertise to create solutions for its clients\n",
    "- These forward deployed SWEs then perform the consultant's and data scientist's work in helping their clients solve their problems - injesting their data into Palantir's proprietary software stack, including any specialized algorithms to organize and extract insights from unstructured and structured data sources from the client into usable ones (data mining)\n",
    "\n",
    "Why did Palantir, notorious for it's secretive operations and clients even want to go public?\n",
    "- [Back in 2014, Palantir's CEO mentioned that they would never go public](https://www.vox.com/recode/2020/7/16/21323458/palantir-ipo-hhs-protect-peter-thiel-cia-intelligence) possibly since its operations are so highly regulated because of its highly regulated clients\n",
    "    - It is known that Palantir's most stable revenue stream comes from its contracts with government agencies\n",
    "        - [Its recently released financial documents say the company hopes to extend that reach even further, taking advantage of the Trump administration’s push to use commercial products rather than build its own to \"become the default operating system for data across the US government.\"](https://www.vox.com/recode/2020/7/16/21323458/palantir-ipo-hhs-protect-peter-thiel-cia-intelligence)\n",
    "        - Note that Peter Thiel, co-founder, was also heavily involved with Trump's transition into presidency and has been a long supporter of Trump\n",
    "- This tone changed however, now that the company has gone public 6 years later, which could signal the company's doubt in the profitability in continual deals with governemental agencies\n",
    "    - I will elaborate more on this in the Buyer's Bargaining power section of Porter's 5 forces analysis\n",
    "    - **It is likely that Palantir understands that going public could restrict / pose threats on its long standing contracts with governemental agencies (that deal with extremely classified information)**\n",
    "    - **The fact that they decided to continue with this move anyway could signal their doubts on the continued stability of the US government to undertake its deals or that it finds the need to gain market share in the private sector a more strategic move for its long-term success**\n",
    "    - **In my opinion, the move to take Palantir public before the elections is to hedge against the possibility of Trump being replaced as the president, which if happens, might not allow the smooth process that Palantir has had in closing deals with more and more governmental agencies (To be elaborated in the Political Risks section of the PESTEL analysis)**\n",
    "    \n",
    "Palantir's DPO valuation justification:\n",
    "- Financially, Palantir appears to be growing yearly on an average of 20 ~ 40%. Palantir disclosed earnings forecasts for the full year of 2020, [projecting to hit 1 billion in revenue for 2020 (y-o-y growth of ~42%)](https://www.businesswire.com/news/home/20200922006045/en/Palantir-Expects-121-Million-in-Non-GAAP-Operating-Income-and-42-Revenue-Growth-for-the-Year-Ending-2020), compared to its [revenue in 2019 of \\$742.5 million, nearly 25 percent more than the year before](https://www.nytimes.com/2020/08/21/technology/palantir-ipo-580-million-loss.html?auth=login-google). \n",
    "- Stability-wise, because Palantir is notorious for its strong backing from governmental agencies in the U.S., "
   ]
  },
  {
   "cell_type": "markdown",
   "metadata": {},
   "source": [
    "### Porter's 5 Forces Analysis"
   ]
  },
  {
   "cell_type": "markdown",
   "metadata": {},
   "source": [
    "#### A. Competitive Rivalry - Moderate\n",
    "\n",
    "Palantir's work in defense, law enforcement are definitely superior to its competitors, especially since they're one of the key organizations that have worked with highly classified governmental agencies like the CIA.\n",
    "Palantir's competitors can be broken down into 3 different competition segments according to Palantir product / service's value chain:\n",
    "\n",
    "##### 1. Advanced Data Analytics & Data Mining Consulting\n",
    "Palantir seems to have the most competition in the automotive industry. Although, the problems that Palantir and QuantumBlack work on are quite different as well.\n",
    "\n",
    "1. Palantir\n",
    "    \n",
    "    - [Core Verticals](https://www.palantir.com/solutions/): \n",
    "        \n",
    "        1. Defense (Counter-terrorism)\n",
    "        \n",
    "        2. Law Enforcement\n",
    "        \n",
    "        3. Finance \n",
    "            - Anti-fraud\n",
    "            - M&A\n",
    "            - Sales & Revenue\n",
    "        \n",
    "        4. Legal Intelligence\n",
    "        \n",
    "        5. Automotive\n",
    "        \n",
    "        6. Autoracing\n",
    "        \n",
    "2. McKinsey's QuantumBlack \n",
    "    \n",
    "    - [Core Verticals](https://quantumblack.com/work): \n",
    "        \n",
    "        1. Energy \n",
    "            - Oil Field Optimization\n",
    "            - Sustainable Energy\n",
    "        \n",
    "        2. Automotive\n",
    "            - Better Design\n",
    "            - Racing\n",
    "        \n",
    "        3. Pharmaceutical \n",
    "            - Clinical Trials\n",
    "            - Screening\n",
    "        \n",
    "        4. Airport Operations\n",
    "        \n",
    "        5. Envrionment\n",
    "\n",
    "3. BCG Gamma\n",
    "\n",
    "4. Bain & Co. Advanced Analytics\n",
    "\n",
    "5. Deloitte Advanced Analytics\n",
    "\n",
    "6. MuSigma\n",
    "\n",
    "##### 2. Proprietary Software Stack (Platform - Data Injestion, ETL, Visualization):\n",
    "1. Snowflake\n",
    "2. Teradata\n",
    "3. Spark DataBricks\n",
    "4. Alteryx\n",
    "5. Tableau\n",
    "\n",
    "##### 3. Proprietary Algorithms (Anti-fraud Detection, Natural Language Processing - Semantic Analysis, ...):\n",
    "1. Semantic AI\n",
    "2. c3.ai"
   ]
  },
  {
   "cell_type": "markdown",
   "metadata": {},
   "source": [
    "#### B. Supplier Bargaining Power - N.A."
   ]
  },
  {
   "cell_type": "markdown",
   "metadata": {},
   "source": [
    "#### C. Buyer Bargaining Power - High\n",
    "- Palantir's software is an expensive investment and unless the Buyers operate under Palantir's niche verticals like Defense and Law Enforcement (which are again subject to possible conflicts of interests internationally), it could seem like a very low ROI investment"
   ]
  },
  {
   "cell_type": "markdown",
   "metadata": {},
   "source": [
    "#### D. Threat of Substitution - Moderate\n",
    "- If a large institution wants to work with Palantir on a defense, law enforcement type project, it is largely unparalled. However, for specific verticals such as those in Energy and the Environment, other Advanced Analytic consulting firms might be more appropriate"
   ]
  },
  {
   "cell_type": "markdown",
   "metadata": {},
   "source": [
    "#### E. Threat of New Entry - Low\n",
    "- Because alot of R&D is required in order to have established software that can be deployed across different industries and verticals, threat of new entrants is very low - especially in defense and law enforcement because these deals require heavy convincing and background to secure."
   ]
  },
  {
   "cell_type": "markdown",
   "metadata": {},
   "source": [
    "---\n",
    "## 3. Catalysts & Risk Factors<a id=catandrisk></a>"
   ]
  },
  {
   "cell_type": "markdown",
   "metadata": {},
   "source": [
    "### PESTEL Risk Analysis"
   ]
  },
  {
   "cell_type": "markdown",
   "metadata": {},
   "source": [
    "#### A. Political - High \n",
    "\n",
    "- [53.5% of the company’s revenue is derived from government contracts, with the balance from commercial clients. Palantir’s filing says that 40% of revenue is generated in the U.S., with 60% generated internationally.](https://techcrunch.com/2020/08/21/leaked-palantir-s-1-shows-company-has-125-customers-after-17-years/)\n",
    "- Palantir's software could thrive in China (potentially huge source of large datasets, perfect input for Palantir's software stack) if not for its conflict of interests by working heavily with US governmental agencies\n",
    "- To be completed"
   ]
  },
  {
   "cell_type": "markdown",
   "metadata": {},
   "source": [
    "#### B. Economic - High\n",
    "- Palantir's target customer segment are likely large corporations with \n",
    "    1. Big Data to analyze\n",
    "    2. Sufficient capital to invest in Palantir's expensive products / services\n",
    "- If these large corporations (unclear about which sector Palantir might / could target after its DPO) decide to shift investment away from Big Data Analytics, claiming it to have a low ROI, Palantir could have a much harder time making deals\n",
    "- Palantir's competitors like QuantumBlack that already have an established relationship with Energy companies that have already employed their services and are performing better in the COVID-19 period might perform better"
   ]
  },
  {
   "cell_type": "markdown",
   "metadata": {},
   "source": [
    "#### C. Social - High\n",
    "- There can be (it is still hard to discern what type of projects they have been doing since its related to classified governmental data) some heavy ethical concerns with regards to what Palantir has been doing / will be doing \n",
    "- [CEO Alexander Karp said it himself that its software is used to kill people](https://www.inputmag.com/tech/palantir-ceo-alex-karp-says-yes-their-tech-is-used-to-kill-people), claiming it is not his company's [place to care about what the clients do with their software](https://www.vox.com/recode/2020/7/16/21323458/palantir-ipo-hhs-protect-peter-thiel-cia-intelligence)\n",
    "- [Palantir has been used by JPMorgan as a spying software on employees](https://www.cnbc.com/2018/04/19/jp-morgan-reportedly-had-to-oust-a-security-chief-backed-by-palantir.html)"
   ]
  },
  {
   "cell_type": "markdown",
   "metadata": {},
   "source": [
    "#### D. Technological - Moderate\n",
    "- A new advancement in specific algorithms in parts of Palantir's software stack like semantic analysis (Semantic AI being a key threat) could threaten Palantir's selling point\n",
    "- However, this risk is low since its entire software stack is more than just its algorithms on the back-end, but its entire ability to injest and organize data that is easily searchable / accessible by its clients to derive insights"
   ]
  },
  {
   "cell_type": "markdown",
   "metadata": {},
   "source": [
    "#### E. Environmental - Low\n",
    "- Palantir's clients rarely seem to operate in the environmental industry, so its operations and success as a solutions provider is unlikely dependent on environmental factors, unless it affects a specific vertical that it's providing solutions for."
   ]
  },
  {
   "cell_type": "markdown",
   "metadata": {},
   "source": [
    "#### F. Legal factors - High\n",
    "- Similar to the point made in Social, ..."
   ]
  }
 ],
 "metadata": {
  "kernelspec": {
   "display_name": "Python 3",
   "language": "python",
   "name": "python3"
  },
  "language_info": {
   "codemirror_mode": {
    "name": "ipython",
    "version": 3
   },
   "file_extension": ".py",
   "mimetype": "text/x-python",
   "name": "python",
   "nbconvert_exporter": "python",
   "pygments_lexer": "ipython3",
   "version": "3.8.5"
  },
  "latex_envs": {
   "LaTeX_envs_menu_present": true,
   "autoclose": false,
   "autocomplete": true,
   "bibliofile": "biblio.bib",
   "cite_by": "apalike",
   "current_citInitial": 1,
   "eqLabelWithNumbers": true,
   "eqNumInitial": 1,
   "hotkeys": {
    "equation": "Ctrl-E",
    "itemize": "Ctrl-I"
   },
   "labels_anchors": false,
   "latex_user_defs": false,
   "report_style_numbering": false,
   "user_envs_cfg": false
  }
 },
 "nbformat": 4,
 "nbformat_minor": 4
}
