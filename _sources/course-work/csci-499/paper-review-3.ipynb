{
 "cells": [
  {
   "cell_type": "markdown",
   "metadata": {},
   "source": [
    "# Paper Review 3\n",
    "\n",
    "By: Chengyi (Jeff) Chen\n",
    "\n",
    "Article: [Wildbook: Crowdsourcing, computer vision, and data science for conservation.](https://arxiv.org/pdf/1710.08880.pdf)"
   ]
  },
  {
   "cell_type": "markdown",
   "metadata": {},
   "source": [
    "---\n",
    "## What is the main problem/task addressed by the paper?"
   ]
  },
  {
   "cell_type": "markdown",
   "metadata": {},
   "source": [
    "There is currently insufficient resources to aid in the conservation efforts of Earth's currently most threatened species, so Wildbook is an attempt to use crowdsourcing to gather data for wildlife images from the public and using Deep Learning models such as Deep Convolutional Neural Networks to uniquely identify inidividual animals of each species and maintain a database for accesible query to track \"*biological data, as simple as sex and age, but also habitat and weather information, which allows to truly do population counts, birth/death dynamics, species range, social interactions or interactions with other species, including humans*\"."
   ]
  },
  {
   "cell_type": "markdown",
   "metadata": {},
   "source": [
    "---\n",
    "## What was done before, and how does this paper improve on it?"
   ]
  },
  {
   "cell_type": "markdown",
   "metadata": {},
   "source": [
    "\"*The official body that tracks the conservation status of planet’s species, International Union for Conservation of Nature (IUCN) Red List of Threatened Species, currently has over 79,000 species. Yet, the Living Planet report, the most comprehensive effort to track the population dynamics of species around the world, includes just 10,300 populations of just 3,000 species. That’s not even 4%! Scientists do not have the capacity to observe every species at the needed spatio-temporal scales and resolutions and there are not enough GPS collars and satellite tags to do so. Moreover, invasive tracking can be dangerous to the animals*\"\n",
    "\n",
    "- Scientists have previously tried to use methods such as tagging these endangered animals in order to keep track of their movements and deploy conservation efforts when required, but these methods are not only invasive but also consume way too many resources to be scalable and sustainable. So, Wildbook, crowdsources images of animal species from citizen scientists and members of the public, and with the help of Deep Learning, uniquely identifies the species as well as the particular id of the animal in the photographs to track their movements. Furthermore, Wildbook wants to provide open source census data about these animals (which unique animal has died and which are new) because they provide more in-depth information about the animals rather than just the population count."
   ]
  },
  {
   "cell_type": "markdown",
   "metadata": {},
   "source": [
    "---\n",
    "## What is the one cool technique/idea/finding that was learned from this paper?"
   ]
  },
  {
   "cell_type": "markdown",
   "metadata": {},
   "source": [
    "The primary AI techniques being used in Wildbook are Convolutional Neural Network based to detect physical patterns of the animal like the stripes of a zebra to identify the specific animal. \n",
    "\n",
    "The paper also mentioned the use of the Lincoln-Peterson estimator to help in estimating the actual population size of the species from 2 sample groups in the Mark-recapture process.\n",
    "\n",
    "A bulk of the paper was also focused on the myriad of biases that can arise from using crowdsourced images of animals, such as the Hawthorne effect, and also choosing the more aesthetically pleasing images to upload online which might not capture the most accurate information about the animals."
   ]
  },
  {
   "cell_type": "markdown",
   "metadata": {},
   "source": [
    "---\n",
    "## What part of the paper was difficult to understand?"
   ]
  },
  {
   "cell_type": "markdown",
   "metadata": {},
   "source": [
    "There was not much of an explanation about which flavor of CNNs were used in the process of identifying the unique id of the animal which I thought was an important point to mention. Other than that, this paper was relatively easy to understand."
   ]
  },
  {
   "cell_type": "markdown",
   "metadata": {},
   "source": [
    "---\n",
    "## Brainstorming ideas: What generalization or extension of the paper could be done? Or what are other applications that can benefit from the described approach? What more could have been done in this application space that could leverage AI? Does this give you an idea about a possible project a student could do?"
   ]
  },
  {
   "cell_type": "markdown",
   "metadata": {},
   "source": [
    "With data about the spatio-temporal patterns of each species available, routes of tourist groups could be optimized to give them the most exposure to these animals and increase the chances of pictures taken that are more representative of the species. \n",
    "\n",
    "Because these pictures can come from different times of the day, one might be able to use the luminosity of the background in these crowdsourced images to determine what time they are shot and at where to track the patterns of where the population might be at different periods of the day and use a Recurrent Neural Network to predict where these animals can be in the next timestep.\n",
    "\n",
    "Similar to the effect of location accessibility for the poachers in PAWS, depending on the climate and season, there might be much fewer pictures taken because these endangered animals may go into hibernation or exhibit harder to observe patterns and would bias the census data collected through Wildbook. I feel that there should still be some other method to track these animals though, crowdsourcing images alone does not seem too viable as it is restricted by where the tourists and citizen scientists can access. One example mentioned was of the snow leopard. In this case, tourists and citizen scientists might not be able to track them well enough because they appear so infrequently and just using Markrecapture might be very unreliable in providing an estimate of the population size. \n",
    "\n",
    "A potential project that can be done might be with the use of Satellite images as well as habitat information to infer the patterns of these endangered animals. As animals settle down in certain areas, they're bound to leave behind evidence of them being in the area, if this information could be coalesced with the information gathered from Wildbook, we might have a better understanding of these animals and similar to paws, use varying weights based on how reliable each model is at a given season to better predict their movements."
   ]
  }
 ],
 "metadata": {
  "kernelspec": {
   "display_name": "Python 3",
   "language": "python",
   "name": "python3"
  },
  "language_info": {
   "codemirror_mode": {
    "name": "ipython",
    "version": 3
   },
   "file_extension": ".py",
   "mimetype": "text/x-python",
   "name": "python",
   "nbconvert_exporter": "python",
   "pygments_lexer": "ipython3",
   "version": "3.8.5"
  },
  "latex_envs": {
   "LaTeX_envs_menu_present": true,
   "autoclose": false,
   "autocomplete": true,
   "bibliofile": "biblio.bib",
   "cite_by": "apalike",
   "current_citInitial": 1,
   "eqLabelWithNumbers": true,
   "eqNumInitial": 1,
   "hotkeys": {
    "equation": "Ctrl-E",
    "itemize": "Ctrl-I"
   },
   "labels_anchors": false,
   "latex_user_defs": false,
   "report_style_numbering": false,
   "user_envs_cfg": false
  }
 },
 "nbformat": 4,
 "nbformat_minor": 2
}
