{
 "cells": [
  {
   "cell_type": "markdown",
   "metadata": {},
   "source": [
    "# Paper Review 4\n",
    "\n",
    "By: Chengyi (Jeff) Chen\n",
    "\n",
    "Article: [Trade-offs and efficiencies in optimal budget-constrained multispecies corridor networks](https://onlinelibrary.wiley.com/doi/abs/10.1111/cobi.12814)"
   ]
  },
  {
   "cell_type": "markdown",
   "metadata": {},
   "source": [
    "---\n",
    "## What is the main problem/task addressed by the paper?"
   ]
  },
  {
   "cell_type": "markdown",
   "metadata": {},
   "source": [
    "The research was about building a mathematical model that optimizes over a mixed-integer linear program in order to design wildlife corridors that minimize resistance cost (cumulative resistance) for the particular animal species (grizzly bears and wolverines) and financial cost (expenditure) so that we can \"*maintain migration and prevent populations from the negative genetic and demographic impacts of becoming isolated... (and) help counteract habitat fragmentation and link isolated reserves in a connected system.*\"."
   ]
  },
  {
   "cell_type": "markdown",
   "metadata": {},
   "source": [
    "---\n",
    "## What was done before, and how does this paper improve on it?"
   ]
  },
  {
   "cell_type": "markdown",
   "metadata": {},
   "source": [
    "\"*Most studies both for single and multiple species focus on identifying the species-optimal corridors from a biological perspective, but, except for simple post hoc financial feasibility analysis, they do not explicitly include land purchases  and economic costs. Ideally, one would use a single optimization algorithm that jointly considers both ecological and economic criteria...Connectivity modeling that uses least-resistance path or similar algorithms across GIS-based resistance surface has become a popular approach for assessing connectivity at many scales in conservation biology.*\"\n",
    "\n",
    "- Previous research has tried to identify the optimal corridors but have disregarded the financial cost that are associated with the execution of building these corridors. Hence, the research in the paper \"*devised an optimization framework for a budgetconstrained corridor design (BCD) problem that simultaneously incorporates spatially explicit models of species-specific resistances and spatially heterogeneous economic costs of conservation actions*\", taking into account both the ecological cost as well as the financial cost of the corridors in order to maximize the suitability of these corridor designs."
   ]
  },
  {
   "cell_type": "markdown",
   "metadata": {},
   "source": [
    "---\n",
    "## What is the one cool technique/idea/finding that was learned from this paper?"
   ]
  },
  {
   "cell_type": "markdown",
   "metadata": {},
   "source": [
    "I found the reduction from a raster to a graph optimization problem pretty cool. First, they \"*represented the landscape as a raster of grid cells or pixels*\". Each pixel is then converted to a graph node that contains the acquisition cost, ${c(v)}$, and a resistance value, ${r^s(v)}$, for each species ${s}$. "
   ]
  },
  {
   "cell_type": "code",
   "execution_count": 17,
   "metadata": {},
   "outputs": [
    {
     "data": {
      "text/plain": [
       "['grizzly', 'wolverine']"
      ]
     },
     "execution_count": 17,
     "metadata": {},
     "output_type": "execute_result"
    }
   ],
   "source": [
    "# Dictionary of dictionaries about \n",
    "# the costs related to each species\n",
    "# for that pixel\n",
    "import numpy as np\n",
    "nodes = []\n",
    "for i in range(5):\n",
    "    nodes.append({\n",
    "        'grizzly': {\n",
    "            'acquisition_cost': np.random.randint(1000), \n",
    "            'resistance_cost': np.random.randint(1000)\n",
    "        },\n",
    "        'wolverine': {\n",
    "            'acquisition_cost': np.random.randint(1000), \n",
    "            'resistance_cost': np.random.randint(1000)\n",
    "        }\n",
    "    })\n",
    "\n",
    "# Node representing a single pixel\n",
    "# of the raster\n",
    "class Node:\n",
    "    def __init__(self, \n",
    "                 curr_node, \n",
    "                 north_node, \n",
    "                 south_node, \n",
    "                 east_node, \n",
    "                 west_node):\n",
    "        self.species = [spec for spec in curr_node.keys()]\n",
    "        self.species_cost = curr_node\n",
    "        self.north_node = north_node\n",
    "        self.south_node = south_node\n",
    "        self.east_node = east_node\n",
    "        self.west_node = west_node\n",
    "\n",
    "Node(*nodes).species"
   ]
  },
  {
   "cell_type": "markdown",
   "metadata": {},
   "source": [
    "After the graph is set up, we loop through the list of core-area pairs ${P^s}$ and \"*create source graph node ${a}$, and destination graph node ${b}$*\". The subsequent optimization is to iteratively check whether to acquire that pixel or not, which almost seems to resemble the theme of dynamic programming."
   ]
  },
  {
   "cell_type": "markdown",
   "metadata": {},
   "source": [
    "---\n",
    "## What part of the paper was difficult to understand?"
   ]
  },
  {
   "cell_type": "markdown",
   "metadata": {},
   "source": [
    "Because I still don't have a good understanding of what exactly are ecological / wildlife corridors, it was tough for me to understand what we are really trying to optimize over, at least visually. \n",
    "\n",
    "\"*For each evaluated species, we assumed a resistance surface and core areas were identified.*\" - Does this mean that there was one graph for Grizzly bears and another for Wolverines? I wasn't too sure about the point about core-area pairs, so it'll be good to get some clarification as to how the set ${P^s}$ of core area pairs were created, was it by domain expertise? "
   ]
  },
  {
   "cell_type": "markdown",
   "metadata": {},
   "source": [
    "---\n",
    "## Brainstorming ideas: What generalization or extension of the paper could be done? Or what are other applications that can benefit from the described approach? What more could have been done in this application space that could leverage AI? Does this give you an idea about a possible project a student could do?"
   ]
  },
  {
   "cell_type": "markdown",
   "metadata": {},
   "source": [
    "We could definitely transfer some of the techniques used inb this research to our own project about identifying the ${k}$ best future locations for universities in order to minimize the impact of education deserts on the U.S.\n",
    "\n",
    "Another application of this network optimization technique could be on finding new subway routes or in the case of Elon Musk's Boring Company project - to figure out which direction to dig the tunnel to maximize ease of digging but at the same time, under a budget constraint."
   ]
  }
 ],
 "metadata": {
  "kernelspec": {
   "display_name": "Python 3",
   "language": "python",
   "name": "python3"
  },
  "language_info": {
   "codemirror_mode": {
    "name": "ipython",
    "version": 3
   },
   "file_extension": ".py",
   "mimetype": "text/x-python",
   "name": "python",
   "nbconvert_exporter": "python",
   "pygments_lexer": "ipython3",
   "version": "3.8.5"
  },
  "latex_envs": {
   "LaTeX_envs_menu_present": true,
   "autoclose": false,
   "autocomplete": true,
   "bibliofile": "biblio.bib",
   "cite_by": "apalike",
   "current_citInitial": 1,
   "eqLabelWithNumbers": true,
   "eqNumInitial": 1,
   "hotkeys": {
    "equation": "Ctrl-E",
    "itemize": "Ctrl-I"
   },
   "labels_anchors": false,
   "latex_user_defs": false,
   "report_style_numbering": false,
   "user_envs_cfg": false
  }
 },
 "nbformat": 4,
 "nbformat_minor": 2
}
