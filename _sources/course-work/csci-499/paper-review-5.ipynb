{
 "cells": [
  {
   "cell_type": "markdown",
   "metadata": {},
   "source": [
    "# Paper Review 5\n",
    "\n",
    "By: Chengyi (Jeff) Chen\n",
    "\n",
    "Article: [End-to-End Influence Maximization in the Field](http://teamcore.usc.edu/papers/2018/aamas_deployment.pdf)"
   ]
  },
  {
   "cell_type": "markdown",
   "metadata": {},
   "source": [
    "---\n",
    "## What is the main problem/task addressed by the paper?"
   ]
  },
  {
   "cell_type": "markdown",
   "metadata": {},
   "source": [
    "Using the CHANGE framework to identify peer leaders to train and teach about HIV prevention to maximize the dispersion of knwoledge to homeless youths."
   ]
  },
  {
   "cell_type": "markdown",
   "metadata": {},
   "source": [
    "---\n",
    "## What was done before, and how does this paper improve on it?"
   ]
  },
  {
   "cell_type": "markdown",
   "metadata": {},
   "source": [
    "\"*While many algorithms\n",
    "have been proposed for influence maximization, none can be feasibly\n",
    "deployed by a service provider: existing algorithms require costly\n",
    "surveys of the entire social network of the youth to provide input\n",
    "data, and high performance computing resources to run the algorithm\n",
    "itself. Both requirements are crucial bottlenecks to widespread use\n",
    "of influence maximization in real world interventions.*\"\n",
    "\n",
    "\"*However, current algorithms have\n",
    "a high barrier to entry: they require a great deal of time to gather the\n",
    "complete social network of the youth, expertise to select appropriate\n",
    "parameters, and computational power to run the algorithms. None of\n",
    "these are likely available to resource-strained service providers who\n",
    "will ultimately be the ones to deploy influence maximization.*\"\n",
    "\n",
    "- Algorithms like HEALER and DOSIM though significantly outperformed status-quo heuristic algorithms unrealistically assume that entire social networks are available as input and are too computationally inefficient.\n",
    "\n",
    "\"*We validate that the data gathered is sufficiently accurate to\n",
    "enable influence maximization. Self-reported ties are subject to\n",
    "bias and forgetting [3], making it important to investigate whether\n",
    "they are accurate enough to find influential nodes. This point is of\n",
    "broader interest, since previous work on influence maximization has\n",
    "largely used self-reported ties [25, 27], but no previous field study\n",
    "has validated their accuracy for influence maximization.*\"\n",
    "\n",
    "- Collected network data from 72 youth at a drop-in center by:\n",
    "    1. CHANGE’s sampling mechanism (This is proven feasible)\n",
    "    2. Self-reports from the entire network\n",
    "    3. Field observations by research staff\n",
    "    4. Interviews with staff members\n",
    "    \n",
    "- Intervention study of the entire CHANGE agent with an additional set of 64 homeless youth\n",
    "    1. Network data collection\n",
    "    2. Peer leader selection\n",
    "    3. HIV awareness trainings for the selected peer leaders\n",
    "    \n",
    "- Analysis of the real network data to explain why CHANGE can succeed while gathering such a small portion of the network\n",
    "    - Friendship Paradox: A typical node’s neighbors have more ties than the node itself (CHANGE's success exploits this attribute  to produce sampled networks which are substantially more informative for influence maximization than a comparable number of uniformly random samples)\n",
    "    \n",
    "- The research first constructs a probabilistic graph which represented the social network structure of homeless youths.\n",
    "\n",
    "- Subsquently, the peer leaders are selected using the Adaptive Greedy algorithm proposed who would maximize the expected gain in influence spread.\n",
    "\n",
    "- Next, using the friendship paradox attribute characteristic to social networks of homeless youths, the network sampling algorithm used chooses ${\\frac{M}{2}}$ to sample and survey, where ${M}$ is the number of youths.\n",
    "\n",
    "- The 3rd algorithm used attempts to resolve the fact that the propagation propbability ${p}$ is in fact not known in practice and is therefore unreliable in calculating the marginal gain when choosing the peer leaders that would maximize influence spread in the first greedy algorithm."
   ]
  },
  {
   "cell_type": "markdown",
   "metadata": {},
   "source": [
    "---\n",
    "## What is the one cool technique/idea/finding that was learned from this paper?"
   ]
  },
  {
   "cell_type": "markdown",
   "metadata": {},
   "source": [
    "The coolest technique used in the research has got to be the 3rd algorithm used for Robust Parameter Selection. In order to address the fact that parameter ${p}$, or the probability of propagation is unknown. First, they discretized the intervals from ${[0 ... 1]}$, and subsequently, it finds the parameters ${i}$ and ${j}$ responsible for minimizing the ratio of Expected influence gained using ${p_i}$ on the adaptive greedy algorithm to the true influence gain using ${p_j}$, the true probability of propagation. This heuristic reduces the runtime of identifying the peer leaders much more than if the DOSIM algorithm was used."
   ]
  },
  {
   "cell_type": "markdown",
   "metadata": {},
   "source": [
    "---\n",
    "## What part of the paper was difficult to understand?"
   ]
  },
  {
   "cell_type": "markdown",
   "metadata": {},
   "source": [
    "It was hard to understand why propagating influence with probability ${p}$ and drawing a propagation probability ${q}$ from a distribution with ${E[q] = p}$ and then propagate influence with probability ${q}$ are equivalent."
   ]
  },
  {
   "cell_type": "markdown",
   "metadata": {},
   "source": [
    "---\n",
    "## Brainstorming ideas: What generalization or extension of the paper could be done? Or what are other applications that can benefit from the described approach? What more could have been done in this application space that could leverage AI? Does this give you an idea about a possible project a student could do?"
   ]
  },
  {
   "cell_type": "markdown",
   "metadata": {},
   "source": [
    "I could definitely see the application of the algorithms used in this research in areas such as mapping the bias during voting season that results from positive / negative tweets / media about election candidates. Using the algorithms proposed, it might be possible to reverse trace the greatest sources of media influence and taking actions to prevent these \"peer leaders\" in this context from explicitly stating anything that could immediately sway its audience to vote for one candidate over another, making the election process \"fairer\". For example, if say 50%  of all votes come from adults aged 25 to 50, and that the primary news / media / opinion outlets that these voters are exposed to are from channels such as Youtube, Twitter,  ... the impact of negative opinions on these platforms (which can be either synthetically or genuinely generated) can act as a much unwanted prior in getting them to make a clear decision about which person to vote for."
   ]
  }
 ],
 "metadata": {
  "kernelspec": {
   "display_name": "Python 3",
   "language": "python",
   "name": "python3"
  },
  "language_info": {
   "codemirror_mode": {
    "name": "ipython",
    "version": 3
   },
   "file_extension": ".py",
   "mimetype": "text/x-python",
   "name": "python",
   "nbconvert_exporter": "python",
   "pygments_lexer": "ipython3",
   "version": "3.8.5"
  },
  "latex_envs": {
   "LaTeX_envs_menu_present": true,
   "autoclose": false,
   "autocomplete": true,
   "bibliofile": "biblio.bib",
   "cite_by": "apalike",
   "current_citInitial": 1,
   "eqLabelWithNumbers": true,
   "eqNumInitial": 1,
   "hotkeys": {
    "equation": "Ctrl-E",
    "itemize": "Ctrl-I"
   },
   "labels_anchors": false,
   "latex_user_defs": false,
   "report_style_numbering": false,
   "user_envs_cfg": false
  }
 },
 "nbformat": 4,
 "nbformat_minor": 2
}
